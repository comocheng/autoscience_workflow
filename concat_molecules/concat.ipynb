{
 "cells": [
  {
   "cell_type": "code",
   "execution_count": 160,
   "id": "b9a02f1b",
   "metadata": {},
   "outputs": [],
   "source": [
    "import os\n",
    "import numpy as np\n",
    "import glob\n",
    "import rmgpy.chemkin\n",
    "import rmgpy.species\n",
    "import rmgpy.reaction\n",
    "import rmgpy.data.kinetics\n",
    "\n",
    "import autotst.species\n",
    "import autotst.reaction\n",
    "import ase.calculators.gaussian\n",
    "import ase.calculators.lj\n",
    "import autotst.conformer.systematic\n",
    "\n",
    "import ase.atoms\n",
    "import ase.io.gaussian\n",
    "\n",
    "\n",
    "import sys\n",
    "DFT_DIR = '/home/moon/autoscience/reaction_calculator/dft'\n",
    "sys.path.append(DFT_DIR)\n",
    "import thermokinetic_fun\n",
    "\n",
    "\n",
    "from ase.visualize import view\n",
    "\n",
    "import matplotlib.pyplot as plt\n",
    "%matplotlib inline"
   ]
  },
  {
   "cell_type": "code",
   "execution_count": 2,
   "id": "6224772b",
   "metadata": {},
   "outputs": [],
   "source": [
    "family = 'Disproportionation'"
   ]
  },
  {
   "cell_type": "code",
   "execution_count": 4,
   "id": "c2e09ba5",
   "metadata": {},
   "outputs": [],
   "source": [
    "reaction_index = 1766\n",
    "reaction_smiles = thermokinetic_fun.reaction_index2smiles(reaction_index)"
   ]
  },
  {
   "cell_type": "code",
   "execution_count": 7,
   "id": "72955203",
   "metadata": {},
   "outputs": [
    {
     "name": "stderr",
     "output_type": "stream",
     "text": [
      "reaction.py:171 load_databases INFO Loading RMG database from '/home/moon/rmg/RMG-database/input'\n",
      "transport.py:294 load_groups INFO Loading transport group database from /home/moon/rmg/RMG-database/input/transport/groups...\n",
      "statmech.py:541 load_libraries INFO Loading frequencies library from halogens_G4.py in /home/moon/rmg/RMG-database/input/statmech/libraries...\n",
      "statmech.py:555 load_groups INFO Loading frequencies group database from /home/moon/rmg/RMG-database/input/statmech/groups...\n",
      "thermo.py:952 load_libraries INFO Loading thermodynamics library from primaryThermoLibrary.py in /home/moon/rmg/RMG-database/input/thermo/libraries...\n",
      "thermo.py:952 load_libraries INFO Loading thermodynamics library from thermo_DFT_CCSDTF12_BAC.py in /home/moon/rmg/RMG-database/input/thermo/libraries...\n",
      "thermo.py:952 load_libraries INFO Loading thermodynamics library from CBS_QB3_1dHR.py in /home/moon/rmg/RMG-database/input/thermo/libraries...\n",
      "thermo.py:979 load_groups INFO Loading thermodynamics group database from /home/moon/rmg/RMG-database/input/thermo/groups...\n",
      "base.py:212 load INFO Loading transitions state family groups from /home/moon/autoscience/AutoTST/database/R_Addition_MultipleBond/TS_groups.py\n",
      "base.py:212 load INFO Loading transitions state family groups from /home/moon/autoscience/AutoTST/database/H_Abstraction/TS_groups.py\n",
      "base.py:212 load INFO Loading transitions state family groups from /home/moon/autoscience/AutoTST/database/intra_H_migration/TS_groups.py\n",
      "base.py:212 load INFO Loading transitions state family groups from /home/moon/autoscience/AutoTST/database/Disproportionation/TS_groups.py\n",
      "reaction.py:352 get_labeled_reaction INFO Trying to match reaction to <ReactionFamily \"Disproportionation\">\n",
      "reaction.py:380 get_labeled_reaction INFO Matched reaction to Disproportionation family\n",
      "reaction.py:352 get_labeled_reaction INFO Trying to match reaction to <ReactionFamily \"H_Abstraction\">\n",
      "reaction.py:363 get_labeled_reaction ERROR Couldn't match <Molecule \"CCC(C)O[O]\"> + <Molecule \"C[CH2]\"> <=> <Molecule \"C=C\"> + <Molecule \"CCC(C)OO\"> to H_Abstraction, trying different combination...\n",
      "reaction.py:352 get_labeled_reaction INFO Trying to match reaction to <ReactionFamily \"R_Addition_MultipleBond\">\n",
      "reaction.py:352 get_labeled_reaction INFO Trying to match reaction to <ReactionFamily \"intra_H_migration\">\n",
      "reaction.py:363 get_labeled_reaction ERROR Couldn't match <Molecule \"CCC(C)O[O]\"> + <Molecule \"C[CH2]\"> <=> <Molecule \"C=C\"> + <Molecule \"CCC(C)OO\"> to intra_H_migration, trying different combination...\n",
      "reaction.py:352 get_labeled_reaction INFO Trying to match reaction to <ReactionFamily \"Disproportionation\">\n",
      "reaction.py:380 get_labeled_reaction INFO Matched reaction to Disproportionation family\n",
      "reaction.py:352 get_labeled_reaction INFO Trying to match reaction to <ReactionFamily \"H_Abstraction\">\n",
      "reaction.py:363 get_labeled_reaction ERROR Couldn't match <Molecule \"CCC(C)O[O]\"> + <Molecule \"C[CH2]\"> <=> <Molecule \"C=C\"> + <Molecule \"CCC(C)OO\"> to H_Abstraction, trying different combination...\n",
      "reaction.py:352 get_labeled_reaction INFO Trying to match reaction to <ReactionFamily \"R_Addition_MultipleBond\">\n",
      "reaction.py:352 get_labeled_reaction INFO Trying to match reaction to <ReactionFamily \"intra_H_migration\">\n",
      "reaction.py:363 get_labeled_reaction ERROR Couldn't match <Molecule \"CCC(C)O[O]\"> + <Molecule \"C[CH2]\"> <=> <Molecule \"C=C\"> + <Molecule \"CCC(C)OO\"> to intra_H_migration, trying different combination...\n",
      "base.py:750 estimate_distances_using_group_additivity WARNING No distance data found at Root_N-4R->H_4CNOS-u1_N-1R!H->O_4CNOS->O_Ext-4O-R_5R!H-u0. Falling up tree node to Root_N-4R->H_4CNOS-u1_N-1R!H->O_4CNOS->O_Ext-4O-R\n",
      "reaction.py:266 generate_distance_data INFO Distance between *1 and *3 is too small, setting it to lower bound of uncertainty\n",
      "reaction.py:272 generate_distance_data INFO The distance data is as follows: DistanceData(distances={'d12': 1.586330,'d13': 2.645110,'d23': 1.063710,}, uncertainties={'d12': 0.000000,'d13': 0.000000,'d23': 0.000000,})\n",
      "reaction.py:784 get_rdkit_mol INFO Initially embedded molecule\n",
      "reaction.py:789 get_rdkit_mol INFO Getting bounds matrix\n",
      "reaction.py:793 get_rdkit_mol INFO Editing bounds matrix\n",
      "reaction.py:823 set_limits INFO For atoms 6 and 17 we have a distance of: \t 1.58633\n",
      "reaction.py:823 set_limits INFO For atoms 17 and 1 we have a distance of: \t 1.06371\n",
      "reaction.py:823 set_limits INFO For atoms 6 and 1 we have a distance of: \t 2.64511\n",
      "reaction.py:858 bm_pre_edit INFO Changing lower limit 2.63511 to 2.57004\n",
      "reaction.py:858 bm_pre_edit INFO Changing lower limit 3.25 to 3.1687765941551054\n",
      "reaction.py:858 bm_pre_edit INFO Changing lower limit 2.75 to 2.2997099999999997\n",
      "reaction.py:796 get_rdkit_mol INFO Performing triangle smoothing on bounds matrix.\n",
      "reaction.py:799 get_rdkit_mol INFO Now attempting to embed using edited bounds matrix.\n"
     ]
    },
    {
     "data": {
      "text/plain": [
       "(<rdkit.Chem.rdchem.Mol at 0x7effbecd2d50>,\n",
       " Atoms(symbols='O2C6H14', pbc=False))"
      ]
     },
     "execution_count": 7,
     "metadata": {},
     "output_type": "execute_result"
    }
   ],
   "source": [
    "reaction = autotst.reaction.Reaction(label=reaction_smiles)\n",
    "reaction.ts['forward'][0].get_molecules()"
   ]
  },
  {
   "cell_type": "code",
   "execution_count": 14,
   "id": "1907acd3",
   "metadata": {},
   "outputs": [],
   "source": [
    "# confirm we're working with Disproportionation, otherwise this won't work\n",
    "assert reaction.reaction_family == family"
   ]
  },
  {
   "cell_type": "code",
   "execution_count": 21,
   "id": "5e650682",
   "metadata": {},
   "outputs": [
    {
     "data": {
      "image/png": "[encoded data removed]",
      "text/plain": [
       "TemplateReaction(reactants=[Species(label=\"\", molecule=[Molecule(smiles=\"CCC(C)O[O]\")], molecular_weight=(89.1131,'amu')), Species(label=\"\", molecule=[Molecule(smiles=\"C[CH2]\")], molecular_weight=(29.0611,'amu'))], products=[Species(label=\"\", molecule=[Molecule(smiles=\"CCC(C)OO\")], molecular_weight=(90.1211,'amu')), Species(label=\"\", molecule=[Molecule(smiles=\"C=C\")], molecular_weight=(28.0532,'amu'))], pairs=[[Molecule(smiles=\"C[CH2]\"), Molecule(smiles=\"C=C\")], [Molecule(smiles=\"CCC(C)O[O]\"), Molecule(smiles=\"CCC(C)OO\")]], family='Disproportionation', template=['Root_N-4R->H_4CNOS-u1_N-1R!H->O_4CNOS->O_Ext-4O-R_5R!H-u0'])"
      ]
     },
     "execution_count": 21,
     "metadata": {},
     "output_type": "execute_result"
    }
   ],
   "source": [
    "reaction.rmg_reaction"
   ]
  },
  {
   "cell_type": "code",
   "execution_count": 22,
   "id": "06f79444",
   "metadata": {},
   "outputs": [],
   "source": [
    "# load the constituent species\n",
    "r0 = reaction.rmg_reaction.reactants[0]\n",
    "r1 = reaction.rmg_reaction.reactants[1]"
   ]
  },
  {
   "cell_type": "code",
   "execution_count": 27,
   "id": "2c4105ff",
   "metadata": {},
   "outputs": [],
   "source": [
    "r0_index = thermokinetic_fun.species_smiles2index(r0.smiles)\n",
    "r1_index = thermokinetic_fun.species_smiles2index(r1.smiles)"
   ]
  },
  {
   "cell_type": "code",
   "execution_count": null,
   "id": "4db2bb3c",
   "metadata": {},
   "outputs": [],
   "source": []
  },
  {
   "cell_type": "code",
   "execution_count": null,
   "id": "f97681dd",
   "metadata": {},
   "outputs": [],
   "source": []
  },
  {
   "cell_type": "markdown",
   "id": "8b61a58e",
   "metadata": {},
   "source": [
    "## Get the labels on the reactants"
   ]
  },
  {
   "cell_type": "code",
   "execution_count": 38,
   "id": "d58ef449",
   "metadata": {},
   "outputs": [
    {
     "name": "stderr",
     "output_type": "stream",
     "text": [
      "thermo.py:952 load_libraries INFO Loading thermodynamics library from BurkeH2O2.py in /home/moon/rmg/RMG-database/input/thermo/libraries...\n",
      "thermo.py:952 load_libraries INFO Loading thermodynamics library from primaryThermoLibrary.py in /home/moon/rmg/RMG-database/input/thermo/libraries...\n",
      "thermo.py:952 load_libraries INFO Loading thermodynamics library from FFCM1(-).py in /home/moon/rmg/RMG-database/input/thermo/libraries...\n",
      "thermo.py:952 load_libraries INFO Loading thermodynamics library from CurranPentane.py in /home/moon/rmg/RMG-database/input/thermo/libraries...\n",
      "thermo.py:952 load_libraries INFO Loading thermodynamics library from Klippenstein_Glarborg2016.py in /home/moon/rmg/RMG-database/input/thermo/libraries...\n",
      "thermo.py:952 load_libraries INFO Loading thermodynamics library from thermo_DFT_CCSDTF12_BAC.py in /home/moon/rmg/RMG-database/input/thermo/libraries...\n",
      "thermo.py:952 load_libraries INFO Loading thermodynamics library from DFT_QCI_thermo.py in /home/moon/rmg/RMG-database/input/thermo/libraries...\n",
      "thermo.py:952 load_libraries INFO Loading thermodynamics library from CBS_QB3_1dHR.py in /home/moon/rmg/RMG-database/input/thermo/libraries...\n",
      "thermo.py:979 load_groups INFO Loading thermodynamics group database from /home/moon/rmg/RMG-database/input/thermo/groups...\n",
      "database.py:241 load_libraries INFO Loading kinetics library FFCM1(-) from /home/moon/rmg/RMG-database/input/kinetics/libraries/FFCM1(-)/reactions.py...\n",
      "database.py:241 load_libraries INFO Loading kinetics library CurranPentane from /home/moon/rmg/RMG-database/input/kinetics/libraries/CurranPentane/reactions.py...\n",
      "database.py:241 load_libraries INFO Loading kinetics library combustion_core/version5 from /home/moon/rmg/RMG-database/input/kinetics/libraries/combustion_core/version5/reactions.py...\n",
      "database.py:241 load_libraries INFO Loading kinetics library Klippenstein_Glarborg2016 from /home/moon/rmg/RMG-database/input/kinetics/libraries/Klippenstein_Glarborg2016/reactions.py...\n",
      "database.py:241 load_libraries INFO Loading kinetics library BurkeH2O2inArHe from /home/moon/rmg/RMG-database/input/kinetics/libraries/BurkeH2O2inArHe/reactions.py...\n",
      "database.py:241 load_libraries INFO Loading kinetics library BurkeH2O2inN2 from /home/moon/rmg/RMG-database/input/kinetics/libraries/BurkeH2O2inN2/reactions.py...\n",
      "rmg.py:71 __init__ WARNING An instance of RMGDatabase already exists. Re-initializing it.\n"
     ]
    }
   ],
   "source": [
    "# load the Disproportionation family\n",
    "# load the thermo database,\n",
    "# this is minimal for better speed\n",
    "thermo_libs = [\n",
    "    'BurkeH2O2',\n",
    "    'primaryThermoLibrary',\n",
    "    'FFCM1(-)',\n",
    "    'CurranPentane',\n",
    "    'Klippenstein_Glarborg2016',\n",
    "    'thermo_DFT_CCSDTF12_BAC',\n",
    "    'DFT_QCI_thermo',\n",
    "    'CBS_QB3_1dHR',\n",
    "]\n",
    "\n",
    "thermo_library_path = os.path.join(rmgpy.settings['database.directory'], 'thermo')\n",
    "thermo_database = rmgpy.data.thermo.ThermoDatabase()\n",
    "thermo_database.load(\n",
    "    thermo_library_path,\n",
    "    libraries=thermo_libs\n",
    ")\n",
    "\n",
    "kinetic_libs = [\n",
    "    'FFCM1(-)',\n",
    "    'CurranPentane',\n",
    "    'combustion_core/version5',\n",
    "    'Klippenstein_Glarborg2016',\n",
    "    'BurkeH2O2inArHe',\n",
    "    'BurkeH2O2inN2',\n",
    "]\n",
    "\n",
    "# load the families\n",
    "ref_library_path = os.path.join(rmgpy.settings['database.directory'], 'kinetics')\n",
    "kinetics_database = rmgpy.data.kinetics.KineticsDatabase()\n",
    "kinetics_database.load(\n",
    "    ref_library_path,\n",
    "    libraries=kinetic_libs,\n",
    "    families=[family]\n",
    ")\n",
    "\n",
    "# load the entire database\n",
    "ref_db = rmgpy.data.rmg.RMGDatabase()\n",
    "ref_db.kinetics = kinetics_database\n",
    "ref_db.thermo = thermo_database\n",
    "\n"
   ]
  },
  {
   "cell_type": "code",
   "execution_count": 39,
   "id": "c7a25828",
   "metadata": {},
   "outputs": [],
   "source": [
    "templates = ref_db.kinetics.families[family].generate_reactions([r0.molecule[0], r1.molecule[0]], relabel_atoms=True)"
   ]
  },
  {
   "cell_type": "code",
   "execution_count": 45,
   "id": "1d610627",
   "metadata": {},
   "outputs": [],
   "source": [
    "labeled_r, labeled_p = ref_db.kinetics.families[family].get_labeled_reactants_and_products(\n",
    "    [r0.molecule[0], r1.molecule[0]],\n",
    "    [reaction.rmg_reaction.products[0].molecule[0], reaction.rmg_reaction.products[1].molecule[0]],\n",
    "    relabel_atoms=True\n",
    ")\n"
   ]
  },
  {
   "cell_type": "code",
   "execution_count": 47,
   "id": "bc407ca2",
   "metadata": {},
   "outputs": [],
   "source": [
    "# # rename to make sure molecule 0 has labels *2,*3,*4 and molecule 1 has *1\n",
    "# if not labeled_r[0].is_isomorphic(r0.molecule[0]):\n",
    "#     print('wrong order, rearranging')\n",
    "#     temp0 = labeled_r[0]\n",
    "#     temp1 = labeled_r[1]\n",
    "#     labeled_r[0] = temp1\n",
    "#     labeled_r[1] = temp0\n"
   ]
  },
  {
   "cell_type": "markdown",
   "id": "8299859c",
   "metadata": {},
   "source": [
    "## rename to make sure molecule 0 has labels *2,*3,*4 and molecule 1 has *1"
   ]
  },
  {
   "cell_type": "code",
   "execution_count": 68,
   "id": "d896c78f",
   "metadata": {},
   "outputs": [
    {
     "name": "stdout",
     "output_type": "stream",
     "text": [
      "wrong order, rearranging\n"
     ]
    }
   ],
   "source": [
    "try:\n",
    "    labeled_r[1].get_labeled_atoms('*1')\n",
    "except ValueError:\n",
    "    print('wrong order, rearranging')\n",
    "    temp0 = labeled_r[0]\n",
    "    temp1 = labeled_r[1]\n",
    "    labeled_r[0] = temp1\n",
    "    labeled_r[1] = temp0\n",
    "\n",
    "    temp_index0 = r0_index\n",
    "    temp_index1 = r1_index\n",
    "    r0_index = temp_index1\n",
    "    r1_index = temp_index0\n",
    "    \n",
    "    # TODO also switch out the rmg species objects..."
   ]
  },
  {
   "cell_type": "code",
   "execution_count": null,
   "id": "ed2c4d96",
   "metadata": {},
   "outputs": [],
   "source": []
  },
  {
   "cell_type": "code",
   "execution_count": 94,
   "id": "9fb899ea",
   "metadata": {},
   "outputs": [],
   "source": [
    "# load the logfiles and get geometries\n",
    "r0_log = glob.glob(os.path.join(DFT_DIR, 'thermo', f'species_{r0_index:04}', 'arkane', 'conformer*.log'))[0]\n",
    "r1_log = glob.glob(os.path.join(DFT_DIR, 'thermo', f'species_{r1_index:04}', 'arkane', 'conformer*.log'))[0]\n",
    "with open(r0_log, 'r') as f:\n",
    "    r0_atoms = ase.io.gaussian.read_gaussian_out(f)\n",
    "with open(r1_log, 'r') as f:\n",
    "    r1_atoms = ase.io.gaussian.read_gaussian_out(f)"
   ]
  },
  {
   "cell_type": "code",
   "execution_count": 70,
   "id": "9c955c77",
   "metadata": {},
   "outputs": [],
   "source": [
    "atom_1_index = labeled_r[1].get_labeled_atoms('*1')[0].sorting_label\n",
    "atom_2_index = labeled_r[0].get_labeled_atoms('*2')[0].sorting_label\n",
    "atom_3_index = labeled_r[0].get_labeled_atoms('*3')[0].sorting_label\n",
    "atom_4_index = labeled_r[0].get_labeled_atoms('*4')[0].sorting_label"
   ]
  },
  {
   "cell_type": "code",
   "execution_count": null,
   "id": "1595f8bc",
   "metadata": {},
   "outputs": [],
   "source": []
  },
  {
   "cell_type": "code",
   "execution_count": 79,
   "id": "4783fb44",
   "metadata": {},
   "outputs": [
    {
     "data": {
      "text/plain": [
       "ase.atoms.Atoms"
      ]
     },
     "execution_count": 79,
     "metadata": {},
     "output_type": "execute_result"
    }
   ],
   "source": [
    "type(r0_atoms)"
   ]
  },
  {
   "cell_type": "code",
   "execution_count": 72,
   "id": "2ab0f50b",
   "metadata": {},
   "outputs": [
    {
     "name": "stdout",
     "output_type": "stream",
     "text": [
      "*1\t 1 Atom('O', [1.733789, -1.280163, 0.138661], index=1)\n",
      "*2\t 0 Atom('C', [0.692251, -6e-06, -0.000607], index=0)\n",
      "*4\t 2 Atom('H', [1.101916, 0.883299, -0.491118], index=2)\n"
     ]
    }
   ],
   "source": [
    "print('*1\\t', atom_1_index, r1_atoms[atom_1_index])\n",
    "print('*2\\t', atom_2_index, r0_atoms[atom_2_index])\n",
    "print('*4\\t', atom_4_index, r0_atoms[atom_4_index])"
   ]
  },
  {
   "cell_type": "code",
   "execution_count": 80,
   "id": "4835d246",
   "metadata": {},
   "outputs": [],
   "source": [
    "reaction_core = ase.atoms.Atoms([r1_atoms[atom_1_index], r0_atoms[atom_2_index], r0_atoms[atom_4_index]])"
   ]
  },
  {
   "cell_type": "code",
   "execution_count": 86,
   "id": "0c79465c",
   "metadata": {},
   "outputs": [],
   "source": [
    "# keep molecule 0 in place\n",
    "my_ts = r0_atoms"
   ]
  },
  {
   "cell_type": "code",
   "execution_count": 87,
   "id": "ab15bdb5",
   "metadata": {},
   "outputs": [
    {
     "data": {
      "text/html": [
       "<html>\n",
       "\n",
       " <head>\n",
       "\n",
       "  <title>ASE atomic visualization</title>\n",
       "\n",
       "  <link rel=\"stylesheet\" type=\"text/css\"\n",
       "\n",
       "   href=\"https://www.x3dom.org/x3dom/release/x3dom.css\">\n",
       "\n",
       "  </link>\n",
       "\n",
       "  <script type=\"text/javascript\"\n",
       "\n",
       "   src=\"https://www.x3dom.org/x3dom/release/x3dom.js\">\n",
       "\n",
       "  </script>\n",
       "\n",
       " </head>\n",
       "\n",
       " <body>\n",
       "\n",
       "  <X3D>\n",
       "\n",
       "   <Scene>\n",
       "\n",
       "    <Transform translation=\"0.69 -0.00 -0.00\">\n",
       "\n",
       "     <Shape>\n",
       "\n",
       "      <Appearance>\n",
       "\n",
       "       <Material diffuseColor=\"0.565 0.565 0.565\" specularColor=\"0.5 0.5 0.5\">\n",
       "\n",
       "       </Material>\n",
       "\n",
       "      </Appearance>\n",
       "\n",
       "      <Sphere radius=\"0.76\">\n",
       "\n",
       "      </Sphere>\n",
       "\n",
       "     </Shape>\n",
       "\n",
       "    </Transform>\n",
       "\n",
       "    <Transform translation=\"-0.79 0.00 -0.02\">\n",
       "\n",
       "     <Shape>\n",
       "\n",
       "      <Appearance>\n",
       "\n",
       "       <Material diffuseColor=\"0.565 0.565 0.565\" specularColor=\"0.5 0.5 0.5\">\n",
       "\n",
       "       </Material>\n",
       "\n",
       "      </Appearance>\n",
       "\n",
       "      <Sphere radius=\"0.76\">\n",
       "\n",
       "      </Sphere>\n",
       "\n",
       "     </Shape>\n",
       "\n",
       "    </Transform>\n",
       "\n",
       "    <Transform translation=\"1.10 0.88 -0.49\">\n",
       "\n",
       "     <Shape>\n",
       "\n",
       "      <Appearance>\n",
       "\n",
       "       <Material diffuseColor=\"1.000 1.000 1.000\" specularColor=\"0.5 0.5 0.5\">\n",
       "\n",
       "       </Material>\n",
       "\n",
       "      </Appearance>\n",
       "\n",
       "      <Sphere radius=\"0.31\">\n",
       "\n",
       "      </Sphere>\n",
       "\n",
       "     </Shape>\n",
       "\n",
       "    </Transform>\n",
       "\n",
       "    <Transform translation=\"1.08 0.00 1.02\">\n",
       "\n",
       "     <Shape>\n",
       "\n",
       "      <Appearance>\n",
       "\n",
       "       <Material diffuseColor=\"1.000 1.000 1.000\" specularColor=\"0.5 0.5 0.5\">\n",
       "\n",
       "       </Material>\n",
       "\n",
       "      </Appearance>\n",
       "\n",
       "      <Sphere radius=\"0.31\">\n",
       "\n",
       "      </Sphere>\n",
       "\n",
       "     </Shape>\n",
       "\n",
       "    </Transform>\n",
       "\n",
       "    <Transform translation=\"1.10 -0.88 -0.49\">\n",
       "\n",
       "     <Shape>\n",
       "\n",
       "      <Appearance>\n",
       "\n",
       "       <Material diffuseColor=\"1.000 1.000 1.000\" specularColor=\"0.5 0.5 0.5\">\n",
       "\n",
       "       </Material>\n",
       "\n",
       "      </Appearance>\n",
       "\n",
       "      <Sphere radius=\"0.31\">\n",
       "\n",
       "      </Sphere>\n",
       "\n",
       "     </Shape>\n",
       "\n",
       "    </Transform>\n",
       "\n",
       "    <Transform translation=\"-1.35 0.92 0.05\">\n",
       "\n",
       "     <Shape>\n",
       "\n",
       "      <Appearance>\n",
       "\n",
       "       <Material diffuseColor=\"1.000 1.000 1.000\" specularColor=\"0.5 0.5 0.5\">\n",
       "\n",
       "       </Material>\n",
       "\n",
       "      </Appearance>\n",
       "\n",
       "      <Sphere radius=\"0.31\">\n",
       "\n",
       "      </Sphere>\n",
       "\n",
       "     </Shape>\n",
       "\n",
       "    </Transform>\n",
       "\n",
       "    <Transform translation=\"-1.35 -0.92 0.05\">\n",
       "\n",
       "     <Shape>\n",
       "\n",
       "      <Appearance>\n",
       "\n",
       "       <Material diffuseColor=\"1.000 1.000 1.000\" specularColor=\"0.5 0.5 0.5\">\n",
       "\n",
       "       </Material>\n",
       "\n",
       "      </Appearance>\n",
       "\n",
       "      <Sphere radius=\"0.31\">\n",
       "\n",
       "      </Sphere>\n",
       "\n",
       "     </Shape>\n",
       "\n",
       "    </Transform>\n",
       "\n",
       "   </Scene>\n",
       "\n",
       "  </X3D>\n",
       "\n",
       " </body>\n",
       "\n",
       "</html>\n",
       "\n"
      ],
      "text/plain": [
       "<IPython.core.display.HTML object>"
      ]
     },
     "execution_count": 87,
     "metadata": {},
     "output_type": "execute_result"
    }
   ],
   "source": [
    "view(my_ts, viewer='x3d')"
   ]
  },
  {
   "cell_type": "markdown",
   "id": "e22af9bc",
   "metadata": {},
   "source": [
    "## translate molecule 1 to be X Angstroms away from atom 4 in the line of the 2-4 bond"
   ]
  },
  {
   "cell_type": "code",
   "execution_count": 162,
   "id": "727209b9",
   "metadata": {},
   "outputs": [],
   "source": [
    "# make a ray to extend from labeled atom *2 to *4\n",
    "# reload geometry fresh each time\n",
    "with open(r0_log, 'r') as f:\n",
    "    r0_atoms = ase.io.gaussian.read_gaussian_out(f)\n",
    "with open(r1_log, 'r') as f:\n",
    "    r1_atoms = ase.io.gaussian.read_gaussian_out(f)\n",
    "\n",
    "\n",
    "ray = r0_atoms[atom_4_index].position - r0_atoms[atom_2_index].position\n",
    "ray /= np.linalg.norm(ray)  # normalize\n",
    "\n",
    "# move the Hydrogen (*4) to be d23 away from the other atom (*2)\n",
    "# d23 represents labels *2 - *4 from Disproportionation\n",
    "H_distance_2_4 = reaction.ts['forward'][0].distance_data.distances['d23']\n",
    "H_position = r0_atoms[atom_2_index].position + H_distance_2_4 * ray\n",
    "r0_atoms[atom_4_index].position = H_position\n",
    "\n",
    "# translate molecule 1's (*1) to be d12 from the H(*4) on molecule 0\n",
    "d14 = reaction.ts['forward'][0].distance_data.distances['d12']\n",
    "a1_new_position = H_position + d14 * ray\n",
    "translation = a1_new_position - r1_atoms[atom_1_index].position\n",
    "r1_atoms.translate(translation)\n",
    "\n",
    "\n",
    "# rotate the entire molecule 360 degrees to get lowest energy config?\n",
    "\n",
    "# use law of cosines to get angle of rotation required to match distance data\n",
    "a = H_distance_2_4\n",
    "b = reaction.ts['forward'][0].distance_data.distances['d13']\n",
    "c = d14\n",
    "assert b > a\n",
    "assert b > c\n",
    "angle_rad = np.arccos((c * c - a * a - b * b) / (-2 * a * b))\n",
    "angle_deg = angle_rad * 180 / np.pi\n",
    "\n",
    "\n",
    "# rotate the entire molecule ~5 degrees\n",
    "# vector is arbitrary, but we can try experimenting with this to see what gets best results\n",
    "r1_atoms.rotate(angle_deg, v='x', center=r0_atoms[atom_4_index].position)\n",
    "\n",
    "ase.io.write('m0.xyz', r0_atoms)\n",
    "ase.io.write('m1.xyz', r1_atoms)\n",
    "\n",
    "# now rotate in 5 degree increments\n",
    "angles = np.arange(0, 360, 5)\n",
    "energies = np.zeros(len(angles))\n",
    "lowest_energy = 1e5\n",
    "lowest_index = -1\n",
    "for i in range(0, len(angles)):\n",
    "    m0 = ase.io.read('m0.xyz')\n",
    "    m1 = ase.io.read('m1.xyz')\n",
    "    \n",
    "    m1.rotate(angles[i], v=ray, center=H_position)\n",
    "    total = m0 + m1\n",
    "    total.calc = ase.calculators.lj.LennardJones()\n",
    "    energies[i] = total.get_potential_energy()\n",
    "    if energies[i] < lowest_energy:\n",
    "        lowest_energy = energies[i]\n",
    "        lowest_index = i\n",
    "\n",
    "m0 = ase.io.read('m0.xyz')\n",
    "m1 = ase.io.read('m1.xyz')\n",
    "    \n",
    "m1.rotate(angles[lowest_index], v=ray, center=H_position)\n",
    "ts_guess = m0 + m1\n",
    "ase.io.write('ts_guess.xyz', ts_guess)"
   ]
  },
  {
   "cell_type": "code",
   "execution_count": 164,
   "id": "671ff87e",
   "metadata": {},
   "outputs": [],
   "source": [
    "# ind1 = reaction.ts['forward'][0].rmg_molecule.get_labeled_atoms(\"*1\")[0].sorting_label\n",
    "# ind2 = reaction.ts['forward'][0].rmg_molecule.get_labeled_atoms(\"*2\")[0].sorting_label\n",
    "# ind3 = reaction.ts['forward'][0].rmg_molecule.get_labeled_atoms(\"*3\")[0].sorting_label\n",
    "# ind4 = reaction.ts['forward'][0].rmg_molecule.get_labeled_atoms(\"*4\")[0].sorting_label\n"
   ]
  },
  {
   "cell_type": "code",
   "execution_count": 171,
   "id": "f562f4c9",
   "metadata": {},
   "outputs": [],
   "source": [
    "# # 1, 2, and 4 are the main reactants but 3 should be kept nearby?\n",
    "# combos = f\"{(ind1 + 1)} {(ind2 + 1)} F\\n\"\n",
    "# combos += f\"{(ind2 + 1)} {(ind4 + 1)} F\\n\"\n",
    "# # combos += f\"{(ind2 + 1)} {(ind3 + 1)} F\\n\"\n",
    "# combos += f\"{(ind1 + 1)} {(ind2 + 1)} {(ind4 + 1)} F\""
   ]
  },
  {
   "cell_type": "code",
   "execution_count": 173,
   "id": "216e25c8",
   "metadata": {},
   "outputs": [],
   "source": [
    "# 1, 2, and 4 are the main reactants but 3 should be kept nearby?\n",
    "ind1 = len(m0) + atom_1_index\n",
    "ind2 = atom_2_index\n",
    "ind4 = atom_4_index\n",
    "\n",
    "\n",
    "combos = f\"{(ind1 + 1)} {(ind2 + 1)} F\\n\"\n",
    "combos += f\"{(ind2 + 1)} {(ind4 + 1)} F\\n\"\n",
    "# combos += f\"{(ind2 + 1)} {(ind3 + 1)} F\\n\"\n",
    "combos += f\"{(ind1 + 1)} {(ind2 + 1)} {(ind4 + 1)} F\""
   ]
  },
  {
   "cell_type": "code",
   "execution_count": 174,
   "id": "46f3c5a5",
   "metadata": {},
   "outputs": [],
   "source": [
    "# write the gaussian job\n",
    "ase_gaussian = ase.calculators.gaussian.Gaussian(\n",
    "    mem='5GB',\n",
    "    nprocshared=24,\n",
    "    label='ase_systematic',\n",
    "    scratch='.',\n",
    "    method=\"m062x\",\n",
    "    basis=\"cc-pVTZ\",\n",
    "    extra=\"Opt=(ModRedun,Loose,maxcycles=900) Int(Grid=SG1) scf=(maxcycle=900)\",\n",
    "    multiplicity=reaction.ts['forward'][0].rmg_molecule.multiplicity,\n",
    "    addsec=[combos]\n",
    ")\n",
    "\n",
    "ase_gaussian.label = 'ase_systematic'\n",
    "ase_gaussian.directory = '.'\n",
    "ase_gaussian.parameters.pop('scratch')\n",
    "ase_gaussian.parameters.pop('multiplicity')\n",
    "ase_gaussian.parameters['mult'] = reaction.ts['forward'][0].rmg_molecule.multiplicity\n",
    "ase_gaussian.write_input(ts_guess)\n",
    "\n",
    "# Get rid of double-space between xyz block and mod-redundant section\n",
    "thermokinetic_fun.delete_double_spaces('ase_systematic.com')"
   ]
  },
  {
   "cell_type": "code",
   "execution_count": null,
   "id": "dac157a9",
   "metadata": {},
   "outputs": [],
   "source": []
  },
  {
   "cell_type": "code",
   "execution_count": null,
   "id": "91c31b9a",
   "metadata": {},
   "outputs": [],
   "source": []
  },
  {
   "cell_type": "code",
   "execution_count": 175,
   "id": "6d7c12d8",
   "metadata": {},
   "outputs": [],
   "source": [
    "# total = r0_atoms + r1_atoms"
   ]
  },
  {
   "cell_type": "code",
   "execution_count": 176,
   "id": "992e18bb",
   "metadata": {},
   "outputs": [],
   "source": [
    "# ase.io.write('translate_rotate.xyz', total)"
   ]
  },
  {
   "cell_type": "code",
   "execution_count": 177,
   "id": "216833b6",
   "metadata": {},
   "outputs": [],
   "source": [
    "# reaction.ts['forward'][0].distance_data.distances"
   ]
  },
  {
   "cell_type": "code",
   "execution_count": 178,
   "id": "ca7d4735",
   "metadata": {},
   "outputs": [],
   "source": [
    "# view(r0_atoms + r1_atoms, viewer='x3d')"
   ]
  },
  {
   "cell_type": "code",
   "execution_count": null,
   "id": "cca8e8e9",
   "metadata": {},
   "outputs": [],
   "source": []
  },
  {
   "cell_type": "code",
   "execution_count": null,
   "id": "e9f2f7cf",
   "metadata": {},
   "outputs": [],
   "source": []
  },
  {
   "cell_type": "code",
   "execution_count": 13,
   "id": "2b669a86",
   "metadata": {},
   "outputs": [],
   "source": []
  },
  {
   "cell_type": "code",
   "execution_count": null,
   "id": "03b49bcc",
   "metadata": {},
   "outputs": [],
   "source": []
  },
  {
   "cell_type": "code",
   "execution_count": null,
   "id": "26eb9870",
   "metadata": {},
   "outputs": [],
   "source": []
  },
  {
   "cell_type": "code",
   "execution_count": null,
   "id": "441931fd",
   "metadata": {},
   "outputs": [],
   "source": []
  }
 ],
 "metadata": {
  "kernelspec": {
   "display_name": "Python 3 (ipykernel)",
   "language": "python",
   "name": "python3"
  },
  "language_info": {
   "codemirror_mode": {
    "name": "ipython",
    "version": 3
   },
   "file_extension": ".py",
   "mimetype": "text/x-python",
   "name": "python",
   "nbconvert_exporter": "python",
   "pygments_lexer": "ipython3",
   "version": "3.7.12"
  }
 },
 "nbformat": 4,
 "nbformat_minor": 5
}

{
 "cells": [
  {
   "cell_type": "code",
   "execution_count": 5,
   "id": "697a84d4",
   "metadata": {},
   "outputs": [],
   "source": [
    "# Make a bar chart to show the number of species in the reaction that come from group additivity vs. library\n",
    "import os\n",
    "import numpy as np\n",
    "import glob\n",
    "import matplotlib.pyplot as plt\n",
    "import rmgpy.chemkin\n",
    "\n",
    "%matplotlib inline\n"
   ]
  },
  {
   "cell_type": "code",
   "execution_count": 8,
   "id": "3859cd22",
   "metadata": {},
   "outputs": [],
   "source": [
    "# get all the mechanism folders:\n",
    "mech_folders = glob.glob('/work/westgroup/harris.se/autoscience/fuels/butane/official/butane_*')"
   ]
  },
  {
   "cell_type": "code",
   "execution_count": 9,
   "id": "7320218b",
   "metadata": {},
   "outputs": [],
   "source": []
  },
  {
   "cell_type": "code",
   "execution_count": 22,
   "id": "c7f83984",
   "metadata": {},
   "outputs": [
    {
     "name": "stdout",
     "output_type": "stream",
     "text": [
      "['/work/westgroup/harris.se/autoscience/fuels/butane/official/butane_20240126', '/work/westgroup/harris.se/autoscience/fuels/butane/official/butane_20240315', '/work/westgroup/harris.se/autoscience/fuels/butane/official/butane_20240403']\n"
     ]
    }
   ],
   "source": [
    "print(mech_folders)"
   ]
  },
  {
   "cell_type": "code",
   "execution_count": 29,
   "id": "7d271549",
   "metadata": {},
   "outputs": [
    {
     "name": "stdout",
     "output_type": "stream",
     "text": [
      "Getting families from /work/westgroup/harris.se/autoscience/fuels/butane/official/butane_20240126/chem_annotated.inp\n",
      "Getting families from /work/westgroup/harris.se/autoscience/fuels/butane/official/butane_20240315/chem_annotated.inp\n",
      "Getting families from /work/westgroup/harris.se/autoscience/fuels/butane/official/butane_20240403/chem_annotated.inp\n",
      "{'intra_H_migration', 'CO_Disproportionation', 'R_Recombination', 'R_Addition_COm', 'Disproportionation', 'Cyclic_Ether_Formation', 'R_Addition_MultipleBond', 'Birad_R_Recombination', 'BurkeH2O2inN2', 'H_Abstraction', 'harris_butane'}\n"
     ]
    }
   ],
   "source": [
    "# get all the possible families\n",
    "\n",
    "families = set()\n",
    "\n",
    "for i in range(len(mech_folders)):\n",
    "    chemkin = os.path.join(mech_folders[i], 'chem_annotated.inp')\n",
    "    print(f'Getting families from {chemkin}')\n",
    "    transport = os.path.join(mech_folders[i], 'tran.dat')\n",
    "    species_dict = os.path.join(mech_folders[i], 'species_dictionary.txt')\n",
    "    species_list, reaction_list = rmgpy.chemkin.load_chemkin_file(chemkin, dictionary_path=species_dict, transport_path=transport, use_chemkin_names=True)\n",
    "\n",
    "    for rxn in reaction_list:\n",
    "        try:\n",
    "            families.add(rxn.family)\n",
    "        except AttributeError:\n",
    "            continue\n",
    "print(families)\n",
    "# # get the reaction sources\n",
    "# families = ['R_Recombination', 'CO_Disproportionation', 'H_Abstraction', 'Birad_R_Recombination', 'Disproportionation', 'intra_H_migration']\n",
    "# libraries = ['BurkeH2O2inN2', 'CurranPentane', 'Klippenstein_Glarborg2016', 'combustion_core/version5', 'FFCM1(-)', 'C2H4+O_Klipp2017']\n"
   ]
  },
  {
   "cell_type": "code",
   "execution_count": 30,
   "id": "cbcf42ea",
   "metadata": {},
   "outputs": [],
   "source": [
    "sp_counts = np.zeros((len(mech_folders), 2))  # library, GAV\n",
    "rxn_counts = np.zeros((len(mech_folders), 3))  #, library, estimate, PDEP\n",
    "for i in range(len(mech_folders)):\n",
    "    chemkin = os.path.join(mech_folders[i], 'chem_annotated.inp')\n",
    "    transport = os.path.join(mech_folders[i], 'tran.dat')\n",
    "    species_dict = os.path.join(mech_folders[i], 'species_dictionary.txt')\n",
    "    species_list, reaction_list = rmgpy.chemkin.load_chemkin_file(chemkin, dictionary_path=species_dict, transport_path=transport, use_chemkin_names=True)\n",
    "\n",
    "    # get the species sources\n",
    "    for sp in species_list:\n",
    "        if 'library' in sp.thermo.comment.lower():\n",
    "            sp_counts[i, 0] += 1\n",
    "        if 'group' in sp.thermo.comment.lower():\n",
    "            sp_counts[i, 1] += 1\n",
    "    assert sp_counts[i, 0] + sp_counts[i, 1] == len(species_list)\n",
    "    \n",
    "    \n",
    "    families = set()\n",
    "    for rxn in reaction_list:\n",
    "        try:\n",
    "            families.add(rxn.family)\n",
    "        except AttributeError:\n",
    "            continue\n",
    "#     print(families)\n",
    "    \n",
    "    # get the reaction sources # ---------------- HAVE TO FILL THIS IN MANUALLY BASED ON THE ABOVE\n",
    "    families = ['intra_H_migration', 'CO_Disproportionation', 'R_Recombination', 'R_Addition_COm', 'Disproportionation', 'Cyclic_Ether_Formation', 'R_Addition_MultipleBond', 'Birad_R_Recombination', 'H_Abstraction']\n",
    "    libraries = ['BurkeH2O2inN2', 'harris_butane']\n",
    "    \n",
    "    for rxn in reaction_list:\n",
    "        try:\n",
    "            if rxn.family in families:\n",
    "                rxn_counts[i, 1] += 1\n",
    "            elif rxn.family in libraries:\n",
    "                rxn_counts[i, 0] += 1\n",
    "        except AttributeError:\n",
    "            rxn_counts[i, 2] += 1\n",
    "\n",
    "    assert rxn_counts[i, 0] + rxn_counts[i, 1] + rxn_counts[i, 2] == len(reaction_list)\n",
    "    "
   ]
  },
  {
   "cell_type": "code",
   "execution_count": 71,
   "id": "05e56ed6",
   "metadata": {
    "scrolled": true
   },
   "outputs": [
    {
     "data": {
      "text/plain": [
       "<Figure size 640x480 with 0 Axes>"
      ]
     },
     "metadata": {},
     "output_type": "display_data"
    },
    {
     "data": {
      "image/png": "[encoded data removed]",
      "text/plain": [
       "<Figure size 700x350 with 2 Axes>"
      ]
     },
     "metadata": {},
     "output_type": "display_data"
    }
   ],
   "source": [
    "# Plot both on the same figure as subplots\n",
    "fig = plt.figure()\n",
    "fig, axs = plt.subplots(1, 2, figsize=(7, 3.5))\n",
    "fig.tight_layout(pad=2)\n",
    "# fig, axs = plt.subplots(1, 2)\n",
    "\n",
    "w = 0.4\n",
    "\n",
    "axs[0].bar([str(i) for i in range(len(mech_folders))], sp_counts[:, 1], width=w, label='Estimation')\n",
    "axs[0].bar([str(i) for i in range(len(mech_folders))], sp_counts[:, 0], bottom=sp_counts[:, 1], width=w, label='Library')\n",
    "axs[0].set_xlabel('Model Iteration')\n",
    "axs[0].set_ylabel('Species Count')\n",
    "axs[0].legend()\n",
    "\n",
    "axs[1].bar([str(i) for i in range(len(mech_folders))], rxn_counts[:, 1], width=w, label='Estimation')\n",
    "axs[1].bar([str(i) for i in range(len(mech_folders))], rxn_counts[:, 0], bottom=rxn_counts[:, 1], width=w, label='Library')\n",
    "axs[1].bar([str(i) for i in range(len(mech_folders))], rxn_counts[:, 2], bottom=rxn_counts[:, 0] + rxn_counts[:, 1], width=w, label='PDEP')\n",
    "\n",
    "axs[1].set_xlabel('Model Iteration')\n",
    "axs[1].set_ylabel('Reaction Count')\n",
    "axs[1].legend()\n",
    "\n",
    "\n",
    "\n",
    "plt.show()\n"
   ]
  },
  {
   "cell_type": "code",
   "execution_count": null,
   "id": "d2a5df27",
   "metadata": {},
   "outputs": [],
   "source": []
  },
  {
   "cell_type": "code",
   "execution_count": null,
   "id": "49382fea",
   "metadata": {},
   "outputs": [],
   "source": []
  },
  {
   "cell_type": "code",
   "execution_count": null,
   "id": "62464a6a",
   "metadata": {},
   "outputs": [],
   "source": []
  }
 ],
 "metadata": {
  "kernelspec": {
   "display_name": "Python 3 (ipykernel)",
   "language": "python",
   "name": "python3"
  },
  "language_info": {
   "codemirror_mode": {
    "name": "ipython",
    "version": 3
   },
   "file_extension": ".py",
   "mimetype": "text/x-python",
   "name": "python",
   "nbconvert_exporter": "python",
   "pygments_lexer": "ipython3",
   "version": "3.7.16"
  }
 },
 "nbformat": 4,
 "nbformat_minor": 5
}

{
 "cells": [
  {
   "cell_type": "code",
   "execution_count": 1,
   "id": "b87cb636",
   "metadata": {},
   "outputs": [],
   "source": [
    "# script to plot all 12 tables of ignition delays"
   ]
  },
  {
   "cell_type": "code",
   "execution_count": 1,
   "id": "e9e56477",
   "metadata": {},
   "outputs": [],
   "source": [
    "import os\n",
    "import numpy as np\n",
    "import pandas as pd\n",
    "import cantera as ct\n",
    "\n",
    "# import colormaps\n",
    "import seaborn as sns\n",
    "\n",
    "import matplotlib.colors as mcolors\n",
    "\n",
    "import matplotlib\n",
    "import matplotlib.pyplot as plt\n",
    "%matplotlib inline"
   ]
  },
  {
   "cell_type": "code",
   "execution_count": 2,
   "id": "30c26063",
   "metadata": {},
   "outputs": [],
   "source": [
    "# Load the experimental conditions\n",
    "ignition_delay_data = '/work/westgroup/harris.se/autoscience/autoscience/butane/experimental_data/butane_ignition_delay.csv'\n",
    "df_exp = pd.read_csv(ignition_delay_data)\n",
    "\n",
    "# slice just table 7, where phi=1.0\n",
    "table7 = df_exp[df_exp['Table'] == 7]\n",
    "# Define Initial conditions using experimental data\n",
    "tau7 = table7['time (ms)'].values.astype(float)  # ignition delay\n",
    "T7 = table7['T_C'].values  # Temperatures\n",
    "P7 = table7['nominal pressure(atm)'].values * ct.one_atm  # pressures in atm\n",
    "\n",
    "\n",
    "# list of starting conditions\n",
    "# Mixture compositions taken from table 2 of\n",
    "# https://doi-org.ezproxy.neu.edu/10.1016/j.combustflame.2010.01.016\n",
    "concentrations = []\n",
    "# for phi = 1\n",
    "x_diluent = 0.7649\n",
    "conc_dict = {\n",
    "    'O2(2)': 0.2038,\n",
    "    'butane(1)': 0.03135\n",
    "}\n",
    "\n",
    "for i in range(0, len(table7)):\n",
    "    x_N2 = table7['%N2'].values[i] / 100.0 * x_diluent\n",
    "    x_Ar = table7['%Ar'].values[i] / 100.0 * x_diluent\n",
    "    x_CO2 = table7['%CO2'].values[i] / 100.0 * x_diluent\n",
    "    conc_dict['N2'] = x_N2\n",
    "    conc_dict['Ar'] = x_Ar\n",
    "    conc_dict['CO2(7)'] = x_CO2\n",
    "    concentrations.append(conc_dict)\n",
    "\n"
   ]
  },
  {
   "cell_type": "code",
   "execution_count": 3,
   "id": "a1ab3a8b-e145-4aec-97d7-fad0e9aad14e",
   "metadata": {},
   "outputs": [],
   "source": [
    "# print(this_table)"
   ]
  },
  {
   "cell_type": "code",
   "execution_count": 4,
   "id": "9a2adee1-f2a0-40e0-914e-3ee0b12c7c2c",
   "metadata": {},
   "outputs": [],
   "source": [
    "# scale the delays to the nominal pressure\n",
    "for i in range(1, 13):\n",
    "    this_table = df_exp[df_exp['Table'] == i]\n",
    "    nominal_pressure = this_table['nominal pressure(atm)'].values[0]\n",
    "    actual_pressures = this_table['chamber pressure? (bar)'].values  # yes, confirmed units of bar here and atm there\n",
    "    \n",
    "    \n",
    "    # get the concentrations\n",
    "    concentrations = []\n",
    "    # for phi = 1\n",
    "    x_diluent = 0.7649\n",
    "    conc_dict = {\n",
    "        'O2(2)': 0.2038,\n",
    "        'butane(1)': 0.03135\n",
    "    }\n",
    "\n",
    "    for i in range(0, len(table7)):\n",
    "        x_N2 = table7['%N2'].values[i] / 100.0 * x_diluent\n",
    "        x_Ar = table7['%Ar'].values[i] / 100.0 * x_diluent\n",
    "        x_CO2 = table7['%CO2'].values[i] / 100.0 * x_diluent\n",
    "        conc_dict['N2'] = x_N2\n",
    "        conc_dict['Ar'] = x_Ar\n",
    "        conc_dict['CO2(7)'] = x_CO2\n",
    "        concentrations.append(conc_dict)\n",
    "\n",
    "    break\n",
    "    # actual_pressure\n",
    "    # print(this_table)\n",
    "\n"
   ]
  },
  {
   "cell_type": "code",
   "execution_count": null,
   "id": "67c42007-a054-45ee-9f4f-74b0d94dda86",
   "metadata": {},
   "outputs": [],
   "source": []
  },
  {
   "cell_type": "code",
   "execution_count": 5,
   "id": "48c80c69",
   "metadata": {},
   "outputs": [],
   "source": [
    "working_dir = '/work/westgroup/harris.se/autoscience/reaction_calculator/delay_uncertainty/'"
   ]
  },
  {
   "cell_type": "code",
   "execution_count": 6,
   "id": "5f955772",
   "metadata": {},
   "outputs": [],
   "source": [
    "Tmax = 1077  # use min and max temperature range of the data: 663K-1077K\n",
    "Tmin = 663\n",
    "N = 51\n",
    "temperatures = np.linspace(Tmin, Tmax, N)\n"
   ]
  },
  {
   "cell_type": "code",
   "execution_count": 7,
   "id": "d5227abc-540f-4030-8a4a-541eeccf7843",
   "metadata": {},
   "outputs": [],
   "source": [
    "def get_table_phi(table_index):\n",
    "    return df_exp[df_exp['Table'] == table_index]['phi'].values[0]"
   ]
  },
  {
   "cell_type": "code",
   "execution_count": 8,
   "id": "58128a1d-8c93-4076-a02d-ddaf6de63898",
   "metadata": {},
   "outputs": [],
   "source": [
    "def get_table_pressure(table_index):\n",
    "    return df_exp[df_exp['Table'] == table_index]['nominal pressure(atm)'].values[0]"
   ]
  },
  {
   "cell_type": "code",
   "execution_count": 9,
   "id": "85c3b3ab",
   "metadata": {},
   "outputs": [],
   "source": [
    "# get_table_phi(7)"
   ]
  },
  {
   "cell_type": "code",
   "execution_count": null,
   "id": "c040efc6-c50a-49d4-a036-0c4f07069ab8",
   "metadata": {},
   "outputs": [],
   "source": []
  },
  {
   "cell_type": "code",
   "execution_count": 10,
   "id": "65dc7196",
   "metadata": {},
   "outputs": [],
   "source": [
    "def scale_experimental_delay(original_delay, experimental_pressure, nominal_pressure, T):\n",
    "    scale_factor = nominal_pressure / experimental_pressure\n",
    "    if T < 1175:\n",
    "        return original_delay * np.float_power(scale_factor, -0.34 - 0.70)\n",
    "    else:\n",
    "        return original_delay * np.float_power(scale_factor, 0.16 - 0.73)\n",
    "        "
   ]
  },
  {
   "cell_type": "code",
   "execution_count": 11,
   "id": "45168e43",
   "metadata": {},
   "outputs": [
    {
     "data": {
      "text/plain": [
       "array([ 663.  ,  671.28,  679.56,  687.84,  696.12,  704.4 ,  712.68,\n",
       "        720.96,  729.24,  737.52,  745.8 ,  754.08,  762.36,  770.64,\n",
       "        778.92,  787.2 ,  795.48,  803.76,  812.04,  820.32,  828.6 ,\n",
       "        836.88,  845.16,  853.44,  861.72,  870.  ,  878.28,  886.56,\n",
       "        894.84,  903.12,  911.4 ,  919.68,  927.96,  936.24,  944.52,\n",
       "        952.8 ,  961.08,  969.36,  977.64,  985.92,  994.2 , 1002.48,\n",
       "       1010.76, 1019.04, 1027.32, 1035.6 , 1043.88, 1052.16, 1060.44,\n",
       "       1068.72, 1077.  ])"
      ]
     },
     "execution_count": 11,
     "metadata": {},
     "output_type": "execute_result"
    }
   ],
   "source": [
    "temperatures"
   ]
  },
  {
   "cell_type": "code",
   "execution_count": 12,
   "id": "8be9ed29",
   "metadata": {},
   "outputs": [
    {
     "name": "stderr",
     "output_type": "stream",
     "text": [
      "/work/westgroup/harris.se/tst_env/lib/python3.7/site-packages/IPython/core/magics/basic.py:343: UserWarning: Error changing shell color schemes.\n",
      "The 'colors' trait of a ZMQInteractiveShell instance expected any of ['Neutral', 'NoColor', 'LightBG', 'Linux'] (case-insensitive), not the str '[6]'.\n",
      "  color_switch_err('shell')\n",
      "/work/westgroup/harris.se/tst_env/lib/python3.7/site-packages/IPython/core/magics/basic.py:350: UserWarning: Error changing exception color schemes.\n",
      "Unrecognized color scheme: [6]\n",
      "Valid schemes: ['NoColor', 'Linux', 'LightBG', 'Neutral', '']\n",
      "  color_switch_err('exception')\n",
      "/work/westgroup/harris.se/tst_env/lib/python3.7/site-packages/IPython/core/magics/basic.py:357: UserWarning: Error changing object inspector color schemes.\n",
      "Unrecognized color scheme: [6]\n",
      "Valid schemes: ['NoColor', 'Linux', 'LightBG', 'Neutral', '']\n",
      "  color_switch_err('object inspector')\n"
     ]
    }
   ],
   "source": [
    "colors[6]"
   ]
  },
  {
   "cell_type": "code",
   "execution_count": 13,
   "id": "40469d99",
   "metadata": {
    "scrolled": true
   },
   "outputs": [
    {
     "data": {
      "image/png": "[encoded data removed]",
      "text/plain": [
       "<Figure size 1400x350 with 3 Axes>"
      ]
     },
     "metadata": {},
     "output_type": "display_data"
    }
   ],
   "source": [
    "# read im the 12 datasets\n",
    "# colors = plt.rcParams['axes.prop_cycle'].by_key()['color']\n",
    "fig, axes = plt.subplots(1, 3, figsize=(14, 3.5))\n",
    "\n",
    "\n",
    "# P = 10\n",
    "# colors = [matplotlib.colormaps['viridis'].colors[:: -1][int(i / P * matplotlib.colormaps['viridis'].N)] for i in range(P)]\n",
    "# colors[0] = matplotlib.colormaps['viridis'].colors[:: -1][0]\n",
    "# colors[1] = matplotlib.colormaps['viridis'].colors[:: -1][30]\n",
    "# colors[2] = matplotlib.colormaps['viridis'].colors[:: -1][50]\n",
    "# colors[3] = matplotlib.colormaps['viridis'].colors[:: -1][90]\n",
    "# colors[4] = matplotlib.colormaps['viridis'].colors[:: -1][140]\n",
    "# colors[5] = matplotlib.colormaps['viridis'].colors[:: -1][190]\n",
    "# colors[6] = matplotlib.colormaps['viridis'].colors[:: -1][255]\n",
    "\n",
    "\n",
    "# colors = colormaps.darkmint.colors\n",
    "# colors = colormaps.ice.discrete(10).colors[:-1][::-1]\n",
    "\n",
    "\n",
    "# aramco_color = matplotlib.colors.to_hex(np.array([19, 91, 11]) / 256.0)\n",
    "# aramco_color = matplotlib.colors.to_hex(np.array([55, 139, 46]) / 256.0)\n",
    "# aramco_color = sns.color_palette()[4]\n",
    "# # aramco_color = mcolors.hex2color(mcolors.CSS4_COLORS['darkorchid'])\n",
    "# # aramco_color = 'm'\n",
    "# # colors[0] = colormaps.ice.colors[:: -1][20]\n",
    "# # colors[1] = colormaps.ice.colors[:: -1][60]\n",
    "# # colors[2] = colormaps.ice.colors[:: -1][70]\n",
    "# # colors[3] = colormaps.ice.colors[:: -1][90]\n",
    "# # colors[4] = colormaps.ice.colors[:: -1][140]\n",
    "# # colors[5] = colormaps.ice.colors[:: -1][190]\n",
    "# colors[6] = colormaps.ice.colors[:: -1][240]\n",
    "\n",
    "# Colors 1\n",
    "start  = -0.3\n",
    "rotation = -0.0\n",
    "gamma = 1.2\n",
    "light = 0.85\n",
    "dark = 0.3\n",
    "colors = sns.color_palette(f\"ch:s={start},r={rotation},gamma={gamma}, dark={dark}, light={light}\", n_colors=7, desat=None, as_cmap=False)\n",
    "aramco_color = mcolors.hex2color(mcolors.CSS4_COLORS['forestgreen'])\n",
    "\n",
    "# Colors 2\n",
    "start_color = sns.color_palette()[1]\n",
    "end_color = sns.color_palette()[0]\n",
    "aramco_color = sns.color_palette()[2]\n",
    "colors = sns.blend_palette([start_color, end_color], n_colors=7, as_cmap=False, input='rgb')\n",
    "\n",
    "# Colors 3\n",
    "start  = -0.3\n",
    "rotation = -0.0\n",
    "gamma = 1.2\n",
    "light = 0.85\n",
    "dark = 0.3\n",
    "colors = sns.color_palette(f\"ch:s={start},r={rotation},gamma={gamma}, dark={dark}, light={light}\", n_colors=7, desat=None, as_cmap=False)\n",
    "aramco_color = sns.color_palette()[4]\n",
    "\n",
    "# Colors 4\n",
    "start  = 0.5\n",
    "rotation = 0.3\n",
    "gamma = 1.5\n",
    "light = 0.85\n",
    "dark = 0.3\n",
    "colors = sns.color_palette(f\"ch:s={start},r={rotation},gamma={gamma}, dark={dark}, light={light}\", n_colors=7, desat=None, as_cmap=False)\n",
    "aramco_color = sns.color_palette()[9]\n",
    "aramco_color = mcolors.hex2color(mcolors.CSS4_COLORS['darkgreen'])\n",
    "\n",
    "\n",
    "# Colors 5\n",
    "start_color = mcolors.hex2color(mcolors.CSS4_COLORS['red'])\n",
    "end_color = mcolors.hex2color(mcolors.CSS4_COLORS['yellow'])\n",
    "aramco_color = mcolors.hex2color(mcolors.CSS4_COLORS['lime'])\n",
    "colors = sns.blend_palette([start_color, end_color], n_colors=7, as_cmap=False, input='rgb')\n",
    "\n",
    "# Colors 6\n",
    "start_color = sns.color_palette()[3]\n",
    "end_color = mcolors.hex2color(mcolors.CSS4_COLORS['yellow'])\n",
    "aramco_color = sns.color_palette()[2]\n",
    "colors = sns.blend_palette([start_color, end_color], n_colors=7, as_cmap=False, input='rgb')\n",
    "\n",
    "# Colors 7\n",
    "start_color = mcolors.hex2color(mcolors.CSS4_COLORS['yellow'])\n",
    "end_color = sns.color_palette()[2]\n",
    "aramco_color = sns.color_palette()[0]\n",
    "colors = sns.blend_palette([start_color, end_color], n_colors=7, as_cmap=False, input='rgb')\n",
    "\n",
    "# Colors 8\n",
    "start_color = mcolors.hex2color(mcolors.CSS4_COLORS['yellow'])\n",
    "end_color = sns.color_palette()[2]\n",
    "end_color = mcolors.hex2color(mcolors.CSS4_COLORS['darkgreen'])\n",
    "aramco_color = mcolors.hex2color(mcolors.CSS4_COLORS['navy'])\n",
    "colors = sns.blend_palette([start_color, end_color], n_colors=7, as_cmap=False, input='rgb')\n",
    "\n",
    "# colors 9\n",
    "start_color = mcolors.hex2color(mcolors.CSS4_COLORS['yellow'])\n",
    "end_color = sns.color_palette()[2]\n",
    "aramco_color = (0.24728950403690886, 0.25553248750480584, 0.6328181468665898)\n",
    "colors = sns.blend_palette([start_color, end_color], n_colors=7, as_cmap=False, input='rgb')\n",
    "\n",
    "# colors 10\n",
    "start_color = mcolors.hex2color(mcolors.CSS4_COLORS['yellow'])  # make it yellow, but fade it 70% with alpha\n",
    "# start_color = mcolors.hex2color(matplotlib.colors.BASE_COLORS['y'])\n",
    "start_color = (1.0, 0.8, 0.0)\n",
    "end_color = mcolors.hex2color(mcolors.CSS4_COLORS['forestgreen'])\n",
    "aramco_color = (0.18627451, 0.48823529, 0.94117647)\n",
    "colors = sns.blend_palette([start_color, end_color], n_colors=7, as_cmap=False, input='rgb')\n",
    "\n",
    "\n",
    "for j, i in enumerate([4, 7, 10]):\n",
    "    \n",
    "    run0_npy = f'/work/westgroup/harris.se/autoscience/fuels/butane/official/butane_20240126/table_{i:04}/base_delays_{i:04}.npy'\n",
    "    run1_npy = f'/work/westgroup/harris.se/autoscience/fuels/butane/official/butane_20240315/table_{i:04}/base_delays_{i:04}.npy'\n",
    "    run2_npy = f'/work/westgroup/harris.se/autoscience/fuels/butane/official/butane_20240403/table_{i:04}/base_delays_{i:04}.npy'\n",
    "    run3_npy = f'/work/westgroup/harris.se/autoscience/fuels/butane/official/butane_20240410/table_{i:04}/base_delays_{i:04}.npy'\n",
    "    run4_npy = f'/work/westgroup/harris.se/autoscience/fuels/butane/official/butane_20240416/table_{i:04}/base_delays_{i:04}.npy'\n",
    "    run5_npy = f'/work/westgroup/harris.se/autoscience/fuels/butane/official/butane_20240423/table_{i:04}/base_delays_{i:04}.npy'\n",
    "    run6_npy = f'/work/westgroup/harris.se/autoscience/fuels/butane/official/butane_20240501/table_{i:04}/base_delays_{i:04}.npy'\n",
    "    \n",
    "    lw = np.linspace(1.0, 2.0, 7)\n",
    "    lw = [1.7 for x in range(7)]\n",
    "    \n",
    "    run0_delay = np.load(run0_npy)\n",
    "    run1_delay = np.load(run1_npy)\n",
    "    run2_delay = np.load(run2_npy)\n",
    "    run3_delay = np.load(run3_npy)\n",
    "    run4_delay = np.load(run4_npy)\n",
    "    run5_delay = np.load(run5_npy)\n",
    "    run6_delay = np.load(run6_npy)\n",
    "\n",
    "    aramco_delay_npy = os.path.join(working_dir, 'aramco', f'table_{i:04}', f'base_delays_{i:04}.npy')\n",
    "    aramco_delay = np.load(aramco_delay_npy)\n",
    "    \n",
    "    axes[j].plot(1000.0 / temperatures, run0_delay, label='RMG-min-1', color=colors[0], linewidth=lw[0])\n",
    "    axes[j].plot(1000.0 / temperatures, run1_delay, label='RMG-min-2', color=colors[1], linewidth=lw[1], linestyle='dashed')\n",
    "    axes[j].plot(1000.0 / temperatures, run2_delay, label='RMG-min-3', color=colors[2], linewidth=lw[2], linestyle='dashdot')\n",
    "    axes[j].plot(1000.0 / temperatures, run3_delay, label='RMG-min-4', color=colors[3], linewidth=lw[3], linestyle='solid')\n",
    "    axes[j].plot(1000.0 / temperatures, run4_delay, label='RMG-min-5', color=colors[4], linewidth=lw[4], linestyle='dashed')\n",
    "    axes[j].plot(1000.0 / temperatures, run5_delay, label='RMG-min-6', color=colors[5], linewidth=lw[5], linestyle='dashdot')\n",
    "    axes[j].plot(1000.0 / temperatures, run6_delay, label='RMG-min-7', color=colors[6], linewidth=lw[6])\n",
    "    axes[j].plot(1000.0 / temperatures, aramco_delay, label='AramcoMech3.0', color=aramco_color, linewidth=lw[6])\n",
    "    axes[j].spines[['right', 'top']].set_visible(False)\n",
    "\n",
    "    # Scale the experimental delay by the pressure\n",
    "    experiment_temperatures = df_exp[df_exp['Table'] == i]['T_C'].values\n",
    "    experiment_delays = df_exp[df_exp['Table'] == i]['time (ms)'].values / 1000.0\n",
    "    experiment_pressures_atm = df_exp[df_exp['Table'] == i]['chamber pressure? (bar)'].values * 100000 / 101325  # convert to atm\n",
    "    nominal_pressures_atm = df_exp[df_exp['Table'] == i]['nominal pressure(atm)'].values\n",
    "    scaled_delays = np.zeros(len(experiment_delays))\n",
    "    for k in range(len(experiment_temperatures)):\n",
    "        scaled_delays[k] = scale_experimental_delay(experiment_delays[k], experiment_pressures_atm[k], nominal_pressures_atm[k], experiment_temperatures[k])\n",
    "        \n",
    "    \n",
    "#     axes[j].scatter(1000.0 / experiment_temperatures, experiment_delays, label='Experiment', color='black')\n",
    "    axes[j].scatter(1000.0 / experiment_temperatures, scaled_delays, label='Experiment', color='black')\n",
    "#     axes[j].scatter(1000.0 / experiment_temperatures, scaled_delays, label='Scaled Experiment', marker='+', color='blue')\n",
    "\n",
    "    axes[j].set_yscale('log')\n",
    "    \n",
    "    \n",
    "    phi = df_exp[df_exp['Table'] == i]['phi'].values[0]\n",
    "    P0 = df_exp[df_exp['Table'] == i]['nominal pressure(atm)'].values[0]\n",
    "    axes[j].set_title(f'$\\phi={phi}$', fontsize=14)\n",
    "#     break\n",
    "    \n",
    "\n",
    "axes[1].set_xlabel('1000K / T', fontsize=14)\n",
    "\n",
    "\n",
    "axes[0].set_ylabel('Delay (s)', fontsize=14)\n",
    "plt.sca(axes[0])\n",
    "plt.legend(loc='lower right', bbox_to_anchor=(3.86, 0), fontsize=12)\n",
    "plt.subplots_adjust(wspace=0.125, hspace=None)\n",
    "\n",
    "# my_colors = {\n",
    "#     'Aramco': aramco_color,\n",
    "#     'RMG-1': colors[0],\n",
    "#     'RMG-7': colors[6],\n",
    "# }\n",
    "# plot_colortable(my_colors, ncols=1, sort_colors=False)"
   ]
  },
  {
   "cell_type": "code",
   "execution_count": 14,
   "id": "fc01ed0f",
   "metadata": {},
   "outputs": [
    {
     "data": {
      "image/png": "[encoded data removed]",
      "text/html": [
       "<div style=\"vertical-align: middle;\"><strong>crest</strong> </div><div class=\"cmap\"><img alt=\"crest colormap\" title=\"crest\" style=\"border: 1px solid #555;\" src=\"data:image/png;base64,iVBORw0KGgoAAAANSUhEUgAAAgAAAABACAYAAABsv8+/AAAAFHRFWHRUaXRsZQBjcmVzdCBjb2xvcm1hcDDWw8gAAAAadEVYdERlc2NyaXB0aW9uAGNyZXN0IGNvbG9ybWFwzolqLgAAADB0RVh0QXV0aG9yAE1hdHBsb3RsaWIgdjMuNS4wLCBodHRwczovL21hdHBsb3RsaWIub3JnUjxewQAAADJ0RVh0U29mdHdhcmUATWF0cGxvdGxpYiB2My41LjAsIGh0dHBzOi8vbWF0cGxvdGxpYi5vcmd8msHmAAAB3UlEQVR4nO3WMXLbMBRAQcj3L3KIHCdnMlPEyoxBIWBkjZu320igwU/IbN7t568fxxhjHOOP4+PLdv3x+X7ad/u/OdP6PO9V57qvj+85x2L9fjx33249vjp3cX3M+zb3jc2++1+e/T37+a+Zd77++QGvn//4/Pcv2/dy9fdvz7H4navzPXuO077j4r6r8xbr1XOm9fL6ad7jQfPz5/vn55xfxG7/dJDF/tvT+x+f57aZ8/f+0wv49/zVOXfn38+7dv3y85bvabp/+X9e7JuONV9fz12c5+L9bwMAyBEAABAkAAAgSAAAQJAAAIAgAQAAQQIAAIIEAAAECQAACBIAABAkAAAgSAAAQJAAAIAgAQAAQQIAAIIEAAAECQAACBIAABAkAAAgSAAAQJAAAIAgAQAAQQIAAIIEAAAECQAACBIAABAkAAAgSAAAQJAAAIAgAQAAQQIAAIIEAAAECQAACBIAABAkAAAgSAAAQJAAAIAgAQAAQQIAAIIEAAAECQAACBIAABAkAAAgSAAAQJAAAIAgAQAAQQIAAIIEAAAECQAACBIAABAkAAAgSAAAQJAAAIAgAQAAQQIAAIIEAAAECQAACBIAABAkAAAgSAAAQJAAAIAgAQAAQQIAAIJ+A9tsQVtfMWhrAAAAAElFTkSuQmCC\"></div><div style=\"vertical-align: middle; max-width: 514px; display: flex; justify-content: space-between;\"><div style=\"float: left;\"><div title=\"#a5cd90ff\" style=\"display: inline-block; width: 1em; height: 1em; margin: 0; vertical-align: middle; border: 1px solid #555; background-color: #a5cd90ff;\"></div> under</div><div style=\"margin: 0 auto; display: inline-block;\">bad <div title=\"#00000000\" style=\"display: inline-block; width: 1em; height: 1em; margin: 0; vertical-align: middle; border: 1px solid #555; background-color: #00000000;\"></div></div><div style=\"float: right;\">over <div title=\"#2c3172ff\" style=\"display: inline-block; width: 1em; height: 1em; margin: 0; vertical-align: middle; border: 1px solid #555; background-color: #2c3172ff;\"></div></div>"
      ],
      "text/plain": [
       "<matplotlib.colors.ListedColormap at 0x2b867705cb50>"
      ]
     },
     "execution_count": 14,
     "metadata": {},
     "output_type": "execute_result"
    }
   ],
   "source": [
    "sns.color_palette(\"crest\", as_cmap=True)"
   ]
  },
  {
   "cell_type": "code",
   "execution_count": 15,
   "id": "db02dab5",
   "metadata": {},
   "outputs": [
    {
     "data": {
      "text/plain": [
       "'#2c3172'"
      ]
     },
     "execution_count": 15,
     "metadata": {},
     "output_type": "execute_result"
    }
   ],
   "source": [
    "matplotlib.colors.to_hex(sns.color_palette(\"crest\", as_cmap=True).colors[-1])"
   ]
  },
  {
   "cell_type": "code",
   "execution_count": 16,
   "id": "4dadab33",
   "metadata": {},
   "outputs": [
    {
     "data": {
      "text/plain": [
       "(0.75, 0.75, 0)"
      ]
     },
     "execution_count": 16,
     "metadata": {},
     "output_type": "execute_result"
    }
   ],
   "source": [
    "matplotlib.colors.BASE_COLORS['y']"
   ]
  },
  {
   "cell_type": "code",
   "execution_count": 17,
   "id": "65b9728b",
   "metadata": {},
   "outputs": [
    {
     "data": {
      "text/plain": [
       "(1.0, 1.0, 0.0)"
      ]
     },
     "execution_count": 17,
     "metadata": {},
     "output_type": "execute_result"
    }
   ],
   "source": [
    "mcolors.hex2color(mcolors.CSS4_COLORS['yellow'])"
   ]
  },
  {
   "cell_type": "code",
   "execution_count": 18,
   "id": "2f23db03",
   "metadata": {},
   "outputs": [
    {
     "data": {
      "text/html": [
       "<svg  width=\"550\" height=\"55\"><rect x=\"0\" y=\"0\" width=\"55\" height=\"55\" style=\"fill:#1f77b4;stroke-width:2;stroke:rgb(255,255,255)\"/><rect x=\"55\" y=\"0\" width=\"55\" height=\"55\" style=\"fill:#ff7f0e;stroke-width:2;stroke:rgb(255,255,255)\"/><rect x=\"110\" y=\"0\" width=\"55\" height=\"55\" style=\"fill:#2ca02c;stroke-width:2;stroke:rgb(255,255,255)\"/><rect x=\"165\" y=\"0\" width=\"55\" height=\"55\" style=\"fill:#d62728;stroke-width:2;stroke:rgb(255,255,255)\"/><rect x=\"220\" y=\"0\" width=\"55\" height=\"55\" style=\"fill:#9467bd;stroke-width:2;stroke:rgb(255,255,255)\"/><rect x=\"275\" y=\"0\" width=\"55\" height=\"55\" style=\"fill:#8c564b;stroke-width:2;stroke:rgb(255,255,255)\"/><rect x=\"330\" y=\"0\" width=\"55\" height=\"55\" style=\"fill:#e377c2;stroke-width:2;stroke:rgb(255,255,255)\"/><rect x=\"385\" y=\"0\" width=\"55\" height=\"55\" style=\"fill:#7f7f7f;stroke-width:2;stroke:rgb(255,255,255)\"/><rect x=\"440\" y=\"0\" width=\"55\" height=\"55\" style=\"fill:#bcbd22;stroke-width:2;stroke:rgb(255,255,255)\"/><rect x=\"495\" y=\"0\" width=\"55\" height=\"55\" style=\"fill:#17becf;stroke-width:2;stroke:rgb(255,255,255)\"/></svg>"
      ],
      "text/plain": [
       "[(0.12156862745098039, 0.4666666666666667, 0.7058823529411765),\n",
       " (1.0, 0.4980392156862745, 0.054901960784313725),\n",
       " (0.17254901960784313, 0.6274509803921569, 0.17254901960784313),\n",
       " (0.8392156862745098, 0.15294117647058825, 0.1568627450980392),\n",
       " (0.5803921568627451, 0.403921568627451, 0.7411764705882353),\n",
       " (0.5490196078431373, 0.33725490196078434, 0.29411764705882354),\n",
       " (0.8901960784313725, 0.4666666666666667, 0.7607843137254902),\n",
       " (0.4980392156862745, 0.4980392156862745, 0.4980392156862745),\n",
       " (0.7372549019607844, 0.7411764705882353, 0.13333333333333333),\n",
       " (0.09019607843137255, 0.7450980392156863, 0.8117647058823529)]"
      ]
     },
     "execution_count": 18,
     "metadata": {},
     "output_type": "execute_result"
    }
   ],
   "source": [
    "sns.color_palette()"
   ]
  },
  {
   "cell_type": "code",
   "execution_count": 416,
   "id": "98f253c0",
   "metadata": {},
   "outputs": [
    {
     "data": {
      "text/html": [
       "<svg  width=\"385\" height=\"55\"><rect x=\"0\" y=\"0\" width=\"55\" height=\"55\" style=\"fill:#2ca02c;stroke-width:2;stroke:rgb(255,255,255)\"/><rect x=\"55\" y=\"0\" width=\"55\" height=\"55\" style=\"fill:#2a9942;stroke-width:2;stroke:rgb(255,255,255)\"/><rect x=\"110\" y=\"0\" width=\"55\" height=\"55\" style=\"fill:#289259;stroke-width:2;stroke:rgb(255,255,255)\"/><rect x=\"165\" y=\"0\" width=\"55\" height=\"55\" style=\"fill:#258b70;stroke-width:2;stroke:rgb(255,255,255)\"/><rect x=\"220\" y=\"0\" width=\"55\" height=\"55\" style=\"fill:#238587;stroke-width:2;stroke:rgb(255,255,255)\"/><rect x=\"275\" y=\"0\" width=\"55\" height=\"55\" style=\"fill:#217e9e;stroke-width:2;stroke:rgb(255,255,255)\"/><rect x=\"330\" y=\"0\" width=\"55\" height=\"55\" style=\"fill:#1f77b4;stroke-width:2;stroke:rgb(255,255,255)\"/></svg>"
      ],
      "text/plain": [
       "[(0.17254901960784313, 0.6274509803921569, 0.17254901960784313),\n",
       " (0.16415224913494808, 0.6009688581314879, 0.2603921568627451),\n",
       " (0.15555555555555556, 0.5738562091503268, 0.35032679738562095),\n",
       " (0.146958861976163, 0.5467435601691657, 0.44026143790849676),\n",
       " (0.13856209150326798, 0.5202614379084968, 0.5281045751633988),\n",
       " (0.12996539792387543, 0.4931487889273356, 0.6180392156862746),\n",
       " (0.12156862745098039, 0.4666666666666667, 0.7058823529411765)]"
      ]
     },
     "execution_count": 416,
     "metadata": {},
     "output_type": "execute_result"
    }
   ],
   "source": [
    "start_color = mcolors.hex2color(mcolors.CSS4_COLORS['firebrick'])\n",
    "# start_color = mcolors.hex2color(mcolors.CSS4_COLORS['crimson'])\n",
    "start_color = sns.color_palette()[1]\n",
    "start_color = sns.color_palette()[2]\n",
    "# start_color = sns.color_palette()[5]\n",
    "# start_color = sns.color_palette()[3]\n",
    "middle_color = sns.color_palette()[7]\n",
    "end_color = sns.color_palette()[4]\n",
    "end_color = sns.color_palette()[0]\n",
    "# end_color = mcolors.hex2color(mcolors.CSS4_COLORS['navy'])\n",
    "# end_color = mcolors.hex2color(mcolors.CSS4_COLORS['blue'])\n",
    "# end_color = mcolors.hex2color(mcolors.CSS4_COLORS['darkblue'])\n",
    "# end_color = mcolors.hex2color(mcolors.CSS4_COLORS['darkgreen'])\n",
    "# end_color = mcolors.hex2color(mcolors.CSS4_COLORS['darkviolet'])\n",
    "\n",
    "# aramco_color = sns.color_palette()[0]\n",
    "aramco_color = sns.color_palette()[1]\n",
    "# aramco_color = mcolors.hex2color(mcolors.CSS4_COLORS['darkblue'])\n",
    "# aramco_color = mcolors.hex2color(mcolors.CSS4_COLORS['darkgreen'])\n",
    "# aramco_color = mcolors.hex2color(mcolors.CSS4_COLORS['darkorchid'])\n",
    "# aramco_color = mcolors.hex2color(mcolors.CSS4_COLORS['darkblue'])\n",
    "# aramco_color = mcolors.hex2color(mcolors.CSS4_COLORS['gold'])\n",
    "sns.blend_palette([start_color, end_color], n_colors=7, as_cmap=False, input='rgb')"
   ]
  },
  {
   "cell_type": "code",
   "execution_count": 417,
   "id": "fc575e96",
   "metadata": {},
   "outputs": [
    {
     "data": {
      "image/png": "[encoded data removed]",
      "text/plain": [
       "<Figure size 236x90 with 1 Axes>"
      ]
     },
     "execution_count": 417,
     "metadata": {},
     "output_type": "execute_result"
    },
    {
     "data": {
      "image/png": "[encoded data removed]",
      "text/plain": [
       "<Figure size 236x90 with 1 Axes>"
      ]
     },
     "metadata": {},
     "output_type": "display_data"
    }
   ],
   "source": [
    "\n",
    "my_colors = {\n",
    "    'RMG-1': start_color,\n",
    "    'RMG-7': end_color,\n",
    "    'Aramco': aramco_color,\n",
    "}\n",
    "plot_colortable(my_colors, ncols=1, sort_colors=False)"
   ]
  },
  {
   "cell_type": "code",
   "execution_count": null,
   "id": "4e5daa8f",
   "metadata": {},
   "outputs": [],
   "source": []
  },
  {
   "cell_type": "code",
   "execution_count": 438,
   "id": "68afee1e",
   "metadata": {},
   "outputs": [
    {
     "data": {
      "text/html": [
       "<svg  width=\"385\" height=\"55\"><rect x=\"0\" y=\"0\" width=\"55\" height=\"55\" style=\"fill:#c1d6ea;stroke-width:2;stroke:rgb(255,255,255)\"/><rect x=\"55\" y=\"0\" width=\"55\" height=\"55\" style=\"fill:#a0bed8;stroke-width:2;stroke:rgb(255,255,255)\"/><rect x=\"110\" y=\"0\" width=\"55\" height=\"55\" style=\"fill:#81a4c3;stroke-width:2;stroke:rgb(255,255,255)\"/><rect x=\"165\" y=\"0\" width=\"55\" height=\"55\" style=\"fill:#668bac;stroke-width:2;stroke:rgb(255,255,255)\"/><rect x=\"220\" y=\"0\" width=\"55\" height=\"55\" style=\"fill:#4d7292;stroke-width:2;stroke:rgb(255,255,255)\"/><rect x=\"275\" y=\"0\" width=\"55\" height=\"55\" style=\"fill:#395a77;stroke-width:2;stroke:rgb(255,255,255)\"/><rect x=\"330\" y=\"0\" width=\"55\" height=\"55\" style=\"fill:#264159;stroke-width:2;stroke:rgb(255,255,255)\"/></svg>"
      ],
      "text/plain": [
       "[(0.756179481547424, 0.8411507135264029, 0.9165651417054953),\n",
       " (0.6261659004078405, 0.7441843212466466, 0.8489290862085089),\n",
       " (0.5040784783759108, 0.6428149347321661, 0.7659475559737762),\n",
       " (0.39964951474075894, 0.5459415815338031, 0.675780025762367),\n",
       " (0.3033205547308316, 0.4457242540483907, 0.5721116595796877),\n",
       " (0.22266609511371221, 0.35121573817848495, 0.46530726772997577),\n",
       " (0.15021350651289725, 0.2551987570397517, 0.3483762060577932)]"
      ]
     },
     "execution_count": 438,
     "metadata": {},
     "output_type": "execute_result"
    }
   ],
   "source": [
    "\n",
    "start  = 0.6\n",
    "rotation = -0.4\n",
    "gamma = 1.0\n",
    "light = 0.7\n",
    "dark = 0.3\n",
    "\n",
    "start  = -0.3\n",
    "rotation = -0.0\n",
    "gamma = 1.2\n",
    "light = 0.85\n",
    "dark = 0.3\n",
    "\n",
    "# start  = .5\n",
    "# rotation = -0.5\n",
    "# gamma = 1.2\n",
    "# light = 0.8\n",
    "# dark = 0.35\n",
    "sns.color_palette(f\"ch:s={start},r={rotation},gamma={gamma}, dark={dark}, light={light}\", n_colors=7, desat=None, as_cmap=False)\n"
   ]
  },
  {
   "cell_type": "code",
   "execution_count": 437,
   "id": "c32b6bee",
   "metadata": {},
   "outputs": [
    {
     "data": {
      "image/png": "[encoded data removed]",
      "text/plain": [
       "<Figure size 236x90 with 1 Axes>"
      ]
     },
     "execution_count": 437,
     "metadata": {},
     "output_type": "execute_result"
    },
    {
     "data": {
      "image/png": "[encoded data removed]",
      "text/plain": [
       "<Figure size 236x90 with 1 Axes>"
      ]
     },
     "metadata": {},
     "output_type": "display_data"
    }
   ],
   "source": [
    "p = sns.color_palette(f\"ch:s={start},r={rotation},gamma={gamma}, dark={dark}, light={light}\", n_colors=7, desat=None, as_cmap=False)\n",
    "q = sns.color_palette(f\"ch:s={start},r={rotation * 2.0},gamma={gamma}, dark={dark}, light={light}\", n_colors=7, desat=None, as_cmap=False)\n",
    "aramco_color = mcolors.hex2color(mcolors.CSS4_COLORS['magenta'])\n",
    "# aramco_color = sns.cubehelix_palette(rot=.2)[2]\n",
    "# aramco_color = mcolors.hex2color(mcolors.CSS4_COLORS['mediumorchid'])\n",
    "aramco_color = mcolors.hex2color(mcolors.CSS4_COLORS['darkorchid'])\n",
    "# aramco_color = mcolors.hex2color(mcolors.CSS4_COLORS['darkviolet'])\n",
    "# aramco_color = mcolors.hex2color(mcolors.CSS4_COLORS['darkgreen'])\n",
    "aramco_color = mcolors.hex2color(mcolors.CSS4_COLORS['green'])\n",
    "# aramco_color = mcolors.hex2color(mcolors.CSS4_COLORS['forestgreen'])\n",
    "# aramco_color = mcolors.hex2color(mcolors.CSS4_COLORS['orange'])\n",
    "# aramco_color = mcolors.hex2color(mcolors.CSS4_COLORS['khaki'])\n",
    "# aramco_color = mcolors.hex2color(mcolors.CSS4_COLORS['gold'])\n",
    "aramco_color = sns.color_palette()[2]\n",
    "# aramco_color = q[-2]\n",
    "my_colors = {\n",
    "    'RMG-1': p[0],\n",
    "    'RMG-7': p[6],\n",
    "    'Aramco': aramco_color,\n",
    "}\n",
    "plot_colortable(my_colors, ncols=1, sort_colors=False)"
   ]
  },
  {
   "cell_type": "markdown",
   "id": "4e8de8ac",
   "metadata": {},
   "source": [
    "# Colors 1"
   ]
  },
  {
   "cell_type": "code",
   "execution_count": 455,
   "id": "27306e54",
   "metadata": {},
   "outputs": [
    {
     "data": {
      "image/png": "[encoded data removed]",
      "text/plain": [
       "<Figure size 236x90 with 1 Axes>"
      ]
     },
     "execution_count": 455,
     "metadata": {},
     "output_type": "execute_result"
    },
    {
     "data": {
      "image/png": "[encoded data removed]",
      "text/plain": [
       "<Figure size 236x90 with 1 Axes>"
      ]
     },
     "metadata": {},
     "output_type": "display_data"
    }
   ],
   "source": [
    "start  = -0.3\n",
    "rotation = -0.0\n",
    "gamma = 1.2\n",
    "light = 0.85\n",
    "dark = 0.3\n",
    "colors = sns.color_palette(f\"ch:s={start},r={rotation},gamma={gamma}, dark={dark}, light={light}\", n_colors=7, desat=None, as_cmap=False)\n",
    "aramco_color = mcolors.hex2color(mcolors.CSS4_COLORS['forestgreen'])\n",
    "\n",
    "my_colors = {\n",
    "    'RMG-1': colors[0],\n",
    "    'RMG-7': colors[6],\n",
    "    'Aramco': aramco_color,\n",
    "}\n",
    "plot_colortable(my_colors, ncols=1, sort_colors=False)"
   ]
  },
  {
   "cell_type": "code",
   "execution_count": 456,
   "id": "8c6320c9",
   "metadata": {},
   "outputs": [
    {
     "data": {
      "text/html": [
       "<svg  width=\"385\" height=\"55\"><rect x=\"0\" y=\"0\" width=\"55\" height=\"55\" style=\"fill:#c1d6ea;stroke-width:2;stroke:rgb(255,255,255)\"/><rect x=\"55\" y=\"0\" width=\"55\" height=\"55\" style=\"fill:#a0bed8;stroke-width:2;stroke:rgb(255,255,255)\"/><rect x=\"110\" y=\"0\" width=\"55\" height=\"55\" style=\"fill:#81a4c3;stroke-width:2;stroke:rgb(255,255,255)\"/><rect x=\"165\" y=\"0\" width=\"55\" height=\"55\" style=\"fill:#668bac;stroke-width:2;stroke:rgb(255,255,255)\"/><rect x=\"220\" y=\"0\" width=\"55\" height=\"55\" style=\"fill:#4d7292;stroke-width:2;stroke:rgb(255,255,255)\"/><rect x=\"275\" y=\"0\" width=\"55\" height=\"55\" style=\"fill:#395a77;stroke-width:2;stroke:rgb(255,255,255)\"/><rect x=\"330\" y=\"0\" width=\"55\" height=\"55\" style=\"fill:#264159;stroke-width:2;stroke:rgb(255,255,255)\"/></svg>"
      ],
      "text/plain": [
       "[(0.756179481547424, 0.8411507135264029, 0.9165651417054953),\n",
       " (0.6261659004078405, 0.7441843212466466, 0.8489290862085089),\n",
       " (0.5040784783759108, 0.6428149347321661, 0.7659475559737762),\n",
       " (0.39964951474075894, 0.5459415815338031, 0.675780025762367),\n",
       " (0.3033205547308316, 0.4457242540483907, 0.5721116595796877),\n",
       " (0.22266609511371221, 0.35121573817848495, 0.46530726772997577),\n",
       " (0.15021350651289725, 0.2551987570397517, 0.3483762060577932)]"
      ]
     },
     "execution_count": 456,
     "metadata": {},
     "output_type": "execute_result"
    }
   ],
   "source": [
    "colors"
   ]
  },
  {
   "cell_type": "markdown",
   "id": "d7c7a62c",
   "metadata": {},
   "source": [
    "# COLORS 2"
   ]
  },
  {
   "cell_type": "code",
   "execution_count": 462,
   "id": "c88159d7",
   "metadata": {},
   "outputs": [
    {
     "data": {
      "image/png": "[encoded data removed]",
      "text/plain": [
       "<Figure size 236x90 with 1 Axes>"
      ]
     },
     "execution_count": 462,
     "metadata": {},
     "output_type": "execute_result"
    },
    {
     "data": {
      "image/png": "[encoded data removed]",
      "text/plain": [
       "<Figure size 236x90 with 1 Axes>"
      ]
     },
     "metadata": {},
     "output_type": "display_data"
    }
   ],
   "source": [
    "start_color = sns.color_palette()[1]\n",
    "end_color = sns.color_palette()[0]\n",
    "aramco_color = sns.color_palette()[2]\n",
    "colors = sns.blend_palette([start_color, end_color], n_colors=7, as_cmap=False, input='rgb')\n",
    "my_colors = {\n",
    "    'RMG-1': colors[0],\n",
    "    'RMG-7': colors[6],\n",
    "    'Aramco': aramco_color,\n",
    "}\n",
    "plot_colortable(my_colors, ncols=1, sort_colors=False)"
   ]
  },
  {
   "cell_type": "code",
   "execution_count": 461,
   "id": "751a0882",
   "metadata": {},
   "outputs": [
    {
     "data": {
      "text/html": [
       "<svg  width=\"385\" height=\"55\"><rect x=\"0\" y=\"0\" width=\"55\" height=\"55\" style=\"fill:#ff7f0e;stroke-width:2;stroke:rgb(255,255,255)\"/><rect x=\"55\" y=\"0\" width=\"55\" height=\"55\" style=\"fill:#da7e29;stroke-width:2;stroke:rgb(255,255,255)\"/><rect x=\"110\" y=\"0\" width=\"55\" height=\"55\" style=\"fill:#b47c45;stroke-width:2;stroke:rgb(255,255,255)\"/><rect x=\"165\" y=\"0\" width=\"55\" height=\"55\" style=\"fill:#8f7b61;stroke-width:2;stroke:rgb(255,255,255)\"/><rect x=\"220\" y=\"0\" width=\"55\" height=\"55\" style=\"fill:#6a7a7d;stroke-width:2;stroke:rgb(255,255,255)\"/><rect x=\"275\" y=\"0\" width=\"55\" height=\"55\" style=\"fill:#447899;stroke-width:2;stroke:rgb(255,255,255)\"/><rect x=\"330\" y=\"0\" width=\"55\" height=\"55\" style=\"fill:#1f77b4;stroke-width:2;stroke:rgb(255,255,255)\"/></svg>"
      ],
      "text/plain": [
       "[(1.0, 0.4980392156862745, 0.054901960784313725),\n",
       " (0.8553171856978086, 0.4928719723183391, 0.16212226066897348),\n",
       " (0.7071895424836602, 0.4875816993464052, 0.27189542483660134),\n",
       " (0.5590618992695118, 0.48229142637447137, 0.3816685890042292),\n",
       " (0.41437908496732034, 0.477124183006536, 0.48888888888888893),\n",
       " (0.26625144175317184, 0.47183391003460207, 0.5986620530565168),\n",
       " (0.12156862745098039, 0.4666666666666667, 0.7058823529411765)]"
      ]
     },
     "execution_count": 461,
     "metadata": {},
     "output_type": "execute_result"
    }
   ],
   "source": [
    "colors"
   ]
  },
  {
   "cell_type": "markdown",
   "id": "98be4f95",
   "metadata": {},
   "source": [
    "# COLORS 3"
   ]
  },
  {
   "cell_type": "code",
   "execution_count": 466,
   "id": "e70f7eb5",
   "metadata": {},
   "outputs": [
    {
     "data": {
      "image/png": "[encoded data removed]",
      "text/plain": [
       "<Figure size 236x90 with 1 Axes>"
      ]
     },
     "execution_count": 466,
     "metadata": {},
     "output_type": "execute_result"
    },
    {
     "data": {
      "image/png": "[encoded data removed]",
      "text/plain": [
       "<Figure size 236x90 with 1 Axes>"
      ]
     },
     "metadata": {},
     "output_type": "display_data"
    }
   ],
   "source": [
    "start  = -0.3\n",
    "rotation = -0.0\n",
    "gamma = 1.2\n",
    "light = 0.85\n",
    "dark = 0.3\n",
    "colors = sns.color_palette(f\"ch:s={start},r={rotation},gamma={gamma}, dark={dark}, light={light}\", n_colors=7, desat=None, as_cmap=False)\n",
    "aramco_color = sns.color_palette()[4]\n",
    "\n",
    "my_colors = {\n",
    "    'RMG-1': colors[0],\n",
    "    'RMG-7': colors[6],\n",
    "    'Aramco': aramco_color,\n",
    "}\n",
    "plot_colortable(my_colors, ncols=1, sort_colors=False)"
   ]
  },
  {
   "cell_type": "code",
   "execution_count": 467,
   "id": "7bcb777e",
   "metadata": {},
   "outputs": [
    {
     "data": {
      "text/html": [
       "<svg  width=\"385\" height=\"55\"><rect x=\"0\" y=\"0\" width=\"55\" height=\"55\" style=\"fill:#c1d6ea;stroke-width:2;stroke:rgb(255,255,255)\"/><rect x=\"55\" y=\"0\" width=\"55\" height=\"55\" style=\"fill:#a0bed8;stroke-width:2;stroke:rgb(255,255,255)\"/><rect x=\"110\" y=\"0\" width=\"55\" height=\"55\" style=\"fill:#81a4c3;stroke-width:2;stroke:rgb(255,255,255)\"/><rect x=\"165\" y=\"0\" width=\"55\" height=\"55\" style=\"fill:#668bac;stroke-width:2;stroke:rgb(255,255,255)\"/><rect x=\"220\" y=\"0\" width=\"55\" height=\"55\" style=\"fill:#4d7292;stroke-width:2;stroke:rgb(255,255,255)\"/><rect x=\"275\" y=\"0\" width=\"55\" height=\"55\" style=\"fill:#395a77;stroke-width:2;stroke:rgb(255,255,255)\"/><rect x=\"330\" y=\"0\" width=\"55\" height=\"55\" style=\"fill:#264159;stroke-width:2;stroke:rgb(255,255,255)\"/></svg>"
      ],
      "text/plain": [
       "[(0.756179481547424, 0.8411507135264029, 0.9165651417054953),\n",
       " (0.6261659004078405, 0.7441843212466466, 0.8489290862085089),\n",
       " (0.5040784783759108, 0.6428149347321661, 0.7659475559737762),\n",
       " (0.39964951474075894, 0.5459415815338031, 0.675780025762367),\n",
       " (0.3033205547308316, 0.4457242540483907, 0.5721116595796877),\n",
       " (0.22266609511371221, 0.35121573817848495, 0.46530726772997577),\n",
       " (0.15021350651289725, 0.2551987570397517, 0.3483762060577932)]"
      ]
     },
     "execution_count": 467,
     "metadata": {},
     "output_type": "execute_result"
    }
   ],
   "source": [
    "colors"
   ]
  },
  {
   "cell_type": "markdown",
   "id": "132997b8",
   "metadata": {},
   "source": [
    "# Colors 4"
   ]
  },
  {
   "cell_type": "code",
   "execution_count": 507,
   "id": "ef8b1ed8",
   "metadata": {},
   "outputs": [
    {
     "data": {
      "image/png": "[encoded data removed]",
      "text/plain": [
       "<Figure size 236x90 with 1 Axes>"
      ]
     },
     "execution_count": 507,
     "metadata": {},
     "output_type": "execute_result"
    },
    {
     "data": {
      "image/png": "[encoded data removed]",
      "text/plain": [
       "<Figure size 236x90 with 1 Axes>"
      ]
     },
     "metadata": {},
     "output_type": "display_data"
    }
   ],
   "source": [
    "start  = 0.5\n",
    "rotation = 0.3\n",
    "gamma = 1.5\n",
    "light = 0.85\n",
    "dark = 0.3\n",
    "colors = sns.color_palette(f\"ch:s={start},r={rotation},gamma={gamma}, dark={dark}, light={light}\", n_colors=7, desat=None, as_cmap=False)\n",
    "aramco_color = sns.color_palette()[9]\n",
    "aramco_color = mcolors.hex2color(mcolors.CSS4_COLORS['indigo'])\n",
    "# aramco_color = mcolors.hex2color(mcolors.CSS4_COLORS['black'])\n",
    "my_colors = {\n",
    "    'RMG-1': colors[0],\n",
    "    'RMG-7': colors[6],\n",
    "    'Aramco': aramco_color,\n",
    "}\n",
    "plot_colortable(my_colors, ncols=1, sort_colors=False)"
   ]
  },
  {
   "cell_type": "code",
   "execution_count": 508,
   "id": "067717b0",
   "metadata": {},
   "outputs": [
    {
     "data": {
      "text/html": [
       "<svg  width=\"385\" height=\"55\"><rect x=\"0\" y=\"0\" width=\"55\" height=\"55\" style=\"fill:#d9c5aa;stroke-width:2;stroke:rgb(255,255,255)\"/><rect x=\"55\" y=\"0\" width=\"55\" height=\"55\" style=\"fill:#c5a286;stroke-width:2;stroke:rgb(255,255,255)\"/><rect x=\"110\" y=\"0\" width=\"55\" height=\"55\" style=\"fill:#af7f69;stroke-width:2;stroke:rgb(255,255,255)\"/><rect x=\"165\" y=\"0\" width=\"55\" height=\"55\" style=\"fill:#976055;stroke-width:2;stroke:rgb(255,255,255)\"/><rect x=\"220\" y=\"0\" width=\"55\" height=\"55\" style=\"fill:#7c4545;stroke-width:2;stroke:rgb(255,255,255)\"/><rect x=\"275\" y=\"0\" width=\"55\" height=\"55\" style=\"fill:#602f37;stroke-width:2;stroke:rgb(255,255,255)\"/><rect x=\"330\" y=\"0\" width=\"55\" height=\"55\" style=\"fill:#421d28;stroke-width:2;stroke:rgb(255,255,255)\"/></svg>"
      ],
      "text/plain": [
       "[(0.8505418222347113, 0.7736054510738077, 0.6675247017826718),\n",
       " (0.7717088258163877, 0.6345385730390076, 0.524437708345607),\n",
       " (0.6856409993777175, 0.4968982212725356, 0.4133533695409869),\n",
       " (0.5939156802316126, 0.3775801809524198, 0.3340199066625362),\n",
       " (0.48718030419067554, 0.2699521568240478, 0.26887503327899065),\n",
       " (0.37699267770617284, 0.18458912986816967, 0.2142989412554478),\n",
       " (0.2600966745600668, 0.11395455332225586, 0.1586033276570982)]"
      ]
     },
     "execution_count": 508,
     "metadata": {},
     "output_type": "execute_result"
    }
   ],
   "source": [
    "colors"
   ]
  },
  {
   "cell_type": "markdown",
   "id": "02d890c9",
   "metadata": {},
   "source": [
    "# Colors 5"
   ]
  },
  {
   "cell_type": "code",
   "execution_count": 536,
   "id": "38411a22",
   "metadata": {},
   "outputs": [
    {
     "data": {
      "image/png": "[encoded data removed]",
      "text/plain": [
       "<Figure size 236x90 with 1 Axes>"
      ]
     },
     "execution_count": 536,
     "metadata": {},
     "output_type": "execute_result"
    },
    {
     "data": {
      "image/png": "[encoded data removed]",
      "text/plain": [
       "<Figure size 236x90 with 1 Axes>"
      ]
     },
     "metadata": {},
     "output_type": "display_data"
    }
   ],
   "source": [
    "\n",
    "start_color = mcolors.hex2color(mcolors.CSS4_COLORS['red'])\n",
    "end_color = mcolors.hex2color(mcolors.CSS4_COLORS['yellow'])\n",
    "aramco_color = mcolors.hex2color(mcolors.CSS4_COLORS['lime'])\n",
    "colors = sns.blend_palette([start_color, end_color], n_colors=7, as_cmap=False, input='rgb')\n",
    "my_colors = {\n",
    "    'RMG-1': colors[0],\n",
    "    'RMG-7': colors[6],\n",
    "    'Aramco': aramco_color,\n",
    "}\n",
    "plot_colortable(my_colors, ncols=1, sort_colors=False)"
   ]
  },
  {
   "cell_type": "code",
   "execution_count": 538,
   "id": "60a897fb",
   "metadata": {},
   "outputs": [
    {
     "data": {
      "text/html": [
       "<svg  width=\"385\" height=\"55\"><rect x=\"0\" y=\"0\" width=\"55\" height=\"55\" style=\"fill:#ff0000;stroke-width:2;stroke:rgb(255,255,255)\"/><rect x=\"55\" y=\"0\" width=\"55\" height=\"55\" style=\"fill:#ff2a00;stroke-width:2;stroke:rgb(255,255,255)\"/><rect x=\"110\" y=\"0\" width=\"55\" height=\"55\" style=\"fill:#ff5500;stroke-width:2;stroke:rgb(255,255,255)\"/><rect x=\"165\" y=\"0\" width=\"55\" height=\"55\" style=\"fill:#ff8000;stroke-width:2;stroke:rgb(255,255,255)\"/><rect x=\"220\" y=\"0\" width=\"55\" height=\"55\" style=\"fill:#ffaa00;stroke-width:2;stroke:rgb(255,255,255)\"/><rect x=\"275\" y=\"0\" width=\"55\" height=\"55\" style=\"fill:#ffd500;stroke-width:2;stroke:rgb(255,255,255)\"/><rect x=\"330\" y=\"0\" width=\"55\" height=\"55\" style=\"fill:#ffff00;stroke-width:2;stroke:rgb(255,255,255)\"/></svg>"
      ],
      "text/plain": [
       "[(1.0, 0.0, 0.0),\n",
       " (1.0, 0.16470588235294117, 0.0),\n",
       " (1.0, 0.3333333333333333, 0.0),\n",
       " (1.0, 0.5019607843137255, 0.0),\n",
       " (1.0, 0.6666666666666666, 0.0),\n",
       " (1.0, 0.8352941176470589, 0.0),\n",
       " (1.0, 1.0, 0.0)]"
      ]
     },
     "execution_count": 538,
     "metadata": {},
     "output_type": "execute_result"
    }
   ],
   "source": [
    "colors"
   ]
  },
  {
   "cell_type": "markdown",
   "id": "04182abe",
   "metadata": {},
   "source": [
    "# Colors 6"
   ]
  },
  {
   "cell_type": "code",
   "execution_count": 542,
   "id": "0472769f",
   "metadata": {},
   "outputs": [
    {
     "data": {
      "image/png": "[encoded data removed]",
      "text/plain": [
       "<Figure size 236x90 with 1 Axes>"
      ]
     },
     "execution_count": 542,
     "metadata": {},
     "output_type": "execute_result"
    },
    {
     "data": {
      "image/png": "[encoded data removed]",
      "text/plain": [
       "<Figure size 236x90 with 1 Axes>"
      ]
     },
     "metadata": {},
     "output_type": "display_data"
    }
   ],
   "source": [
    "start_color = sns.color_palette()[3]\n",
    "end_color = mcolors.hex2color(mcolors.CSS4_COLORS['yellow'])\n",
    "aramco_color = sns.color_palette()[2]\n",
    "colors = sns.blend_palette([start_color, end_color], n_colors=7, as_cmap=False, input='rgb')\n",
    "my_colors = {\n",
    "    'RMG-1': colors[0],\n",
    "    'RMG-7': colors[6],\n",
    "    'Aramco': aramco_color,\n",
    "}\n",
    "plot_colortable(my_colors, ncols=1, sort_colors=False)"
   ]
  },
  {
   "cell_type": "code",
   "execution_count": 544,
   "id": "f1957176",
   "metadata": {},
   "outputs": [
    {
     "data": {
      "text/html": [
       "<svg  width=\"385\" height=\"55\"><rect x=\"0\" y=\"0\" width=\"55\" height=\"55\" style=\"fill:#d62728;stroke-width:2;stroke:rgb(255,255,255)\"/><rect x=\"55\" y=\"0\" width=\"55\" height=\"55\" style=\"fill:#dd4b21;stroke-width:2;stroke:rgb(255,255,255)\"/><rect x=\"110\" y=\"0\" width=\"55\" height=\"55\" style=\"fill:#e46f1b;stroke-width:2;stroke:rgb(255,255,255)\"/><rect x=\"165\" y=\"0\" width=\"55\" height=\"55\" style=\"fill:#eb9314;stroke-width:2;stroke:rgb(255,255,255)\"/><rect x=\"220\" y=\"0\" width=\"55\" height=\"55\" style=\"fill:#f1b70d;stroke-width:2;stroke:rgb(255,255,255)\"/><rect x=\"275\" y=\"0\" width=\"55\" height=\"55\" style=\"fill:#f8db07;stroke-width:2;stroke:rgb(255,255,255)\"/><rect x=\"330\" y=\"0\" width=\"55\" height=\"55\" style=\"fill:#ffff00;stroke-width:2;stroke:rgb(255,255,255)\"/></svg>"
      ],
      "text/plain": [
       "[(0.8392156862745098, 0.15294117647058825, 0.1568627450980392),\n",
       " (0.8656978085351787, 0.2924567474048443, 0.13102652825836217),\n",
       " (0.8928104575163399, 0.43529411764705883, 0.10457516339869281),\n",
       " (0.919923106497501, 0.5781314878892734, 0.07812379853902346),\n",
       " (0.9464052287581699, 0.7176470588235294, 0.052287581699346414),\n",
       " (0.9735178777393311, 0.860484429065744, 0.025836216839677045),\n",
       " (1.0, 1.0, 0.0)]"
      ]
     },
     "execution_count": 544,
     "metadata": {},
     "output_type": "execute_result"
    }
   ],
   "source": [
    "colors"
   ]
  },
  {
   "cell_type": "markdown",
   "id": "7bfe9e03",
   "metadata": {},
   "source": [
    "# Colors 7"
   ]
  },
  {
   "cell_type": "code",
   "execution_count": 545,
   "id": "a3741e69",
   "metadata": {},
   "outputs": [
    {
     "data": {
      "image/png": "[encoded data removed]",
      "text/plain": [
       "<Figure size 236x90 with 1 Axes>"
      ]
     },
     "execution_count": 545,
     "metadata": {},
     "output_type": "execute_result"
    },
    {
     "data": {
      "image/png": "[encoded data removed]",
      "text/plain": [
       "<Figure size 236x90 with 1 Axes>"
      ]
     },
     "metadata": {},
     "output_type": "display_data"
    }
   ],
   "source": [
    "start_color = mcolors.hex2color(mcolors.CSS4_COLORS['yellow'])\n",
    "end_color = sns.color_palette()[2]\n",
    "aramco_color = sns.color_palette()[0]\n",
    "colors = sns.blend_palette([start_color, end_color], n_colors=7, as_cmap=False, input='rgb')\n",
    "my_colors = {\n",
    "    'RMG-1': colors[0],\n",
    "    'RMG-7': colors[6],\n",
    "    'Aramco': aramco_color,\n",
    "}\n",
    "plot_colortable(my_colors, ncols=1, sort_colors=False)"
   ]
  },
  {
   "cell_type": "code",
   "execution_count": 546,
   "id": "0651afd6",
   "metadata": {},
   "outputs": [
    {
     "data": {
      "text/html": [
       "<svg  width=\"385\" height=\"55\"><rect x=\"0\" y=\"0\" width=\"55\" height=\"55\" style=\"fill:#ffff00;stroke-width:2;stroke:rgb(255,255,255)\"/><rect x=\"55\" y=\"0\" width=\"55\" height=\"55\" style=\"fill:#dcef07;stroke-width:2;stroke:rgb(255,255,255)\"/><rect x=\"110\" y=\"0\" width=\"55\" height=\"55\" style=\"fill:#b9df0f;stroke-width:2;stroke:rgb(255,255,255)\"/><rect x=\"165\" y=\"0\" width=\"55\" height=\"55\" style=\"fill:#95cf16;stroke-width:2;stroke:rgb(255,255,255)\"/><rect x=\"220\" y=\"0\" width=\"55\" height=\"55\" style=\"fill:#72c01d;stroke-width:2;stroke:rgb(255,255,255)\"/><rect x=\"275\" y=\"0\" width=\"55\" height=\"55\" style=\"fill:#4fb025;stroke-width:2;stroke:rgb(255,255,255)\"/><rect x=\"330\" y=\"0\" width=\"55\" height=\"55\" style=\"fill:#2ca02c;stroke-width:2;stroke:rgb(255,255,255)\"/></svg>"
      ],
      "text/plain": [
       "[(1.0, 1.0, 0.0),\n",
       " (0.8637139561707036, 0.938638985005767, 0.028419838523644752),\n",
       " (0.7241830065359478, 0.8758169934640523, 0.05751633986928104),\n",
       " (0.5846520569011919, 0.8129950019223375, 0.08661284121491734),\n",
       " (0.4483660130718955, 0.7516339869281046, 0.11503267973856209),\n",
       " (0.3088350634371396, 0.6888119953863898, 0.1441291810841984),\n",
       " (0.17254901960784313, 0.6274509803921569, 0.17254901960784313)]"
      ]
     },
     "execution_count": 546,
     "metadata": {},
     "output_type": "execute_result"
    }
   ],
   "source": [
    "colors"
   ]
  },
  {
   "cell_type": "markdown",
   "id": "937d8862",
   "metadata": {},
   "source": [
    "# Colors 8"
   ]
  },
  {
   "cell_type": "code",
   "execution_count": 558,
   "id": "8c8523e5",
   "metadata": {},
   "outputs": [
    {
     "data": {
      "image/png": "[encoded data removed]",
      "text/plain": [
       "<Figure size 236x90 with 1 Axes>"
      ]
     },
     "execution_count": 558,
     "metadata": {},
     "output_type": "execute_result"
    },
    {
     "data": {
      "image/png": "[encoded data removed]",
      "text/plain": [
       "<Figure size 236x90 with 1 Axes>"
      ]
     },
     "metadata": {},
     "output_type": "display_data"
    }
   ],
   "source": [
    "start_color = mcolors.hex2color(mcolors.CSS4_COLORS['yellow'])\n",
    "end_color = sns.color_palette()[2]\n",
    "end_color = mcolors.hex2color(mcolors.CSS4_COLORS['darkgreen'])\n",
    "aramco_color = mcolors.hex2color(mcolors.CSS4_COLORS['navy'])\n",
    "colors = sns.blend_palette([start_color, end_color], n_colors=7, as_cmap=False, input='rgb')\n",
    "my_colors = {\n",
    "    'RMG-1': colors[0],\n",
    "    'RMG-7': colors[6],\n",
    "    'Aramco': aramco_color,\n",
    "}\n",
    "plot_colortable(my_colors, ncols=1, sort_colors=False)"
   ]
  },
  {
   "cell_type": "code",
   "execution_count": 559,
   "id": "0b5f3316",
   "metadata": {},
   "outputs": [
    {
     "data": {
      "text/html": [
       "<svg  width=\"385\" height=\"55\"><rect x=\"0\" y=\"0\" width=\"55\" height=\"55\" style=\"fill:#ffff00;stroke-width:2;stroke:rgb(255,255,255)\"/><rect x=\"55\" y=\"0\" width=\"55\" height=\"55\" style=\"fill:#d5e500;stroke-width:2;stroke:rgb(255,255,255)\"/><rect x=\"110\" y=\"0\" width=\"55\" height=\"55\" style=\"fill:#aacb00;stroke-width:2;stroke:rgb(255,255,255)\"/><rect x=\"165\" y=\"0\" width=\"55\" height=\"55\" style=\"fill:#7fb100;stroke-width:2;stroke:rgb(255,255,255)\"/><rect x=\"220\" y=\"0\" width=\"55\" height=\"55\" style=\"fill:#559800;stroke-width:2;stroke:rgb(255,255,255)\"/><rect x=\"275\" y=\"0\" width=\"55\" height=\"55\" style=\"fill:#2a7e00;stroke-width:2;stroke:rgb(255,255,255)\"/><rect x=\"330\" y=\"0\" width=\"55\" height=\"55\" style=\"fill:#006400;stroke-width:2;stroke:rgb(255,255,255)\"/></svg>"
      ],
      "text/plain": [
       "[(1.0, 1.0, 0.0),\n",
       " (0.8352941176470589, 0.8998846597462514, 0.0),\n",
       " (0.6666666666666667, 0.7973856209150327, 0.0),\n",
       " (0.4980392156862745, 0.6948865820838139, 0.0),\n",
       " (0.33333333333333337, 0.5947712418300654, 0.0),\n",
       " (0.16470588235294115, 0.49227220299884655, 0.0),\n",
       " (0.0, 0.39215686274509803, 0.0)]"
      ]
     },
     "execution_count": 559,
     "metadata": {},
     "output_type": "execute_result"
    }
   ],
   "source": [
    "colors"
   ]
  },
  {
   "cell_type": "markdown",
   "id": "3aa4d7a8",
   "metadata": {},
   "source": [
    "# Colors 9"
   ]
  },
  {
   "cell_type": "code",
   "execution_count": 582,
   "id": "c4db9c33",
   "metadata": {},
   "outputs": [
    {
     "data": {
      "image/png": "[encoded data removed]",
      "text/plain": [
       "<Figure size 236x90 with 1 Axes>"
      ]
     },
     "execution_count": 582,
     "metadata": {},
     "output_type": "execute_result"
    },
    {
     "data": {
      "image/png": "[encoded data removed]",
      "text/plain": [
       "<Figure size 236x90 with 1 Axes>"
      ]
     },
     "metadata": {},
     "output_type": "display_data"
    }
   ],
   "source": [
    "start_color = mcolors.hex2color(mcolors.CSS4_COLORS['yellow'])\n",
    "end_color = sns.color_palette()[2]\n",
    "aramco_color = (0.24728950403690886, 0.25553248750480584, 0.6328181468665898)\n",
    "colors = sns.blend_palette([start_color, end_color], n_colors=7, as_cmap=False, input='rgb')\n",
    "my_colors = {\n",
    "    'RMG-1': colors[0],\n",
    "    'RMG-7': colors[6],\n",
    "    'Aramco': aramco_color,\n",
    "}\n",
    "plot_colortable(my_colors, ncols=1, sort_colors=False)"
   ]
  },
  {
   "cell_type": "code",
   "execution_count": 579,
   "id": "82b9961a",
   "metadata": {},
   "outputs": [
    {
     "data": {
      "text/html": [
       "<svg  width=\"385\" height=\"55\"><rect x=\"0\" y=\"0\" width=\"55\" height=\"55\" style=\"fill:#ffff00;stroke-width:2;stroke:rgb(255,255,255)\"/><rect x=\"55\" y=\"0\" width=\"55\" height=\"55\" style=\"fill:#dcef07;stroke-width:2;stroke:rgb(255,255,255)\"/><rect x=\"110\" y=\"0\" width=\"55\" height=\"55\" style=\"fill:#b9df0f;stroke-width:2;stroke:rgb(255,255,255)\"/><rect x=\"165\" y=\"0\" width=\"55\" height=\"55\" style=\"fill:#95cf16;stroke-width:2;stroke:rgb(255,255,255)\"/><rect x=\"220\" y=\"0\" width=\"55\" height=\"55\" style=\"fill:#72c01d;stroke-width:2;stroke:rgb(255,255,255)\"/><rect x=\"275\" y=\"0\" width=\"55\" height=\"55\" style=\"fill:#4fb025;stroke-width:2;stroke:rgb(255,255,255)\"/><rect x=\"330\" y=\"0\" width=\"55\" height=\"55\" style=\"fill:#2ca02c;stroke-width:2;stroke:rgb(255,255,255)\"/></svg>"
      ],
      "text/plain": [
       "[(1.0, 1.0, 0.0),\n",
       " (0.8637139561707036, 0.938638985005767, 0.028419838523644752),\n",
       " (0.7241830065359478, 0.8758169934640523, 0.05751633986928104),\n",
       " (0.5846520569011919, 0.8129950019223375, 0.08661284121491734),\n",
       " (0.4483660130718955, 0.7516339869281046, 0.11503267973856209),\n",
       " (0.3088350634371396, 0.6888119953863898, 0.1441291810841984),\n",
       " (0.17254901960784313, 0.6274509803921569, 0.17254901960784313)]"
      ]
     },
     "execution_count": 579,
     "metadata": {},
     "output_type": "execute_result"
    }
   ],
   "source": [
    "colors"
   ]
  },
  {
   "cell_type": "code",
   "execution_count": 571,
   "id": "a3caa754",
   "metadata": {},
   "outputs": [],
   "source": [
    "c = sns.blend_palette([mcolors.CSS4_COLORS['aliceblue'], mcolors.CSS4_COLORS['navy'], mcolors.CSS4_COLORS['black']], n_colors=20, as_cmap=False, input='rgb')"
   ]
  },
  {
   "cell_type": "code",
   "execution_count": 581,
   "id": "04287322",
   "metadata": {},
   "outputs": [
    {
     "data": {
      "text/plain": [
       "(0.24728950403690886, 0.25553248750480584, 0.6328181468665898)"
      ]
     },
     "execution_count": 581,
     "metadata": {},
     "output_type": "execute_result"
    }
   ],
   "source": [
    "c[7]"
   ]
  },
  {
   "cell_type": "code",
   "execution_count": 291,
   "id": "4febb7c0",
   "metadata": {},
   "outputs": [
    {
     "data": {
      "text/plain": [
       "4.0"
      ]
     },
     "execution_count": 291,
     "metadata": {},
     "output_type": "execute_result"
    }
   ],
   "source": [
    "np.ceil(3.3)"
   ]
  },
  {
   "cell_type": "code",
   "execution_count": 26,
   "id": "4bce2289",
   "metadata": {},
   "outputs": [],
   "source": [
    "import matplotlib.colors as mcolors\n",
    "from matplotlib.patches import Rectangle\n",
    "def plot_colortable(colors, *, ncols=4, sort_colors=True):\n",
    "\n",
    "    cell_width = 212\n",
    "    cell_height = 22\n",
    "    swatch_width = 48\n",
    "    margin = 12\n",
    "\n",
    "    # Sort colors by hue, saturation, value and name.\n",
    "    if sort_colors is True:\n",
    "        names = sorted(\n",
    "            colors, key=lambda c: tuple(mcolors.rgb_to_hsv(mcolors.to_rgb(c))))\n",
    "    else:\n",
    "        names = list(colors)\n",
    "\n",
    "    n = len(names)\n",
    "    nrows = np.ceil(n / ncols)\n",
    "\n",
    "    width = cell_width * ncols + 2 * margin\n",
    "    height = cell_height * nrows + 2 * margin\n",
    "    dpi = 72\n",
    "\n",
    "    fig, ax = plt.subplots(figsize=(width / dpi, height / dpi), dpi=dpi)\n",
    "    fig.subplots_adjust(margin/width, margin/height,\n",
    "                        (width-margin)/width, (height-margin)/height)\n",
    "    ax.set_xlim(0, cell_width * ncols)\n",
    "    ax.set_ylim(cell_height * (nrows-0.5), -cell_height/2.)\n",
    "    ax.yaxis.set_visible(False)\n",
    "    ax.xaxis.set_visible(False)\n",
    "    ax.set_axis_off()\n",
    "\n",
    "    for i, name in enumerate(names):\n",
    "        row = i % nrows\n",
    "        col = i // nrows\n",
    "        y = row * cell_height\n",
    "\n",
    "        swatch_start_x = cell_width * col\n",
    "        text_pos_x = cell_width * col + swatch_width + 7\n",
    "\n",
    "        ax.text(text_pos_x, y, name, fontsize=14,\n",
    "                horizontalalignment='left',\n",
    "                verticalalignment='center')\n",
    "\n",
    "        ax.add_patch(\n",
    "            Rectangle(xy=(swatch_start_x, y-9), width=swatch_width,\n",
    "                      height=18, facecolor=colors[name], edgecolor='0.7')\n",
    "        )\n",
    "\n",
    "    return fig"
   ]
  },
  {
   "cell_type": "code",
   "execution_count": 32,
   "id": "f9828a2c",
   "metadata": {},
   "outputs": [
    {
     "data": {
      "text/plain": [
       "{'b': (0, 0, 1),\n",
       " 'g': (0, 0.5, 0),\n",
       " 'r': (1, 0, 0),\n",
       " 'c': (0, 0.75, 0.75),\n",
       " 'm': (0.75, 0, 0.75),\n",
       " 'y': (0.75, 0.75, 0),\n",
       " 'k': (0, 0, 0),\n",
       " 'w': (1, 1, 1)}"
      ]
     },
     "execution_count": 32,
     "metadata": {},
     "output_type": "execute_result"
    }
   ],
   "source": [
    "mcolors.BASE_COLORS"
   ]
  },
  {
   "cell_type": "code",
   "execution_count": 43,
   "id": "e80b853f",
   "metadata": {},
   "outputs": [
    {
     "data": {
      "text/plain": [
       "(1.0, 0.0, 1.0)"
      ]
     },
     "execution_count": 43,
     "metadata": {},
     "output_type": "execute_result"
    }
   ],
   "source": [
    "aramco_color"
   ]
  },
  {
   "cell_type": "code",
   "execution_count": 34,
   "id": "b24e1f0f",
   "metadata": {},
   "outputs": [
    {
     "data": {
      "text/plain": [
       "['BASE_COLORS',\n",
       " 'BoundaryNorm',\n",
       " 'CSS4_COLORS',\n",
       " 'CenteredNorm',\n",
       " 'ColorConverter',\n",
       " 'Colormap',\n",
       " 'FuncNorm',\n",
       " 'Image',\n",
       " 'LightSource',\n",
       " 'LinearSegmentedColormap',\n",
       " 'ListedColormap',\n",
       " 'LogNorm',\n",
       " 'NoNorm',\n",
       " 'Normalize',\n",
       " 'Number',\n",
       " 'PngInfo',\n",
       " 'PowerNorm',\n",
       " 'Sequence',\n",
       " 'Sized',\n",
       " 'SymLogNorm',\n",
       " 'TABLEAU_COLORS',\n",
       " 'TwoSlopeNorm',\n",
       " 'XKCD_COLORS',\n",
       " '_ColorMapping',\n",
       " '_REPR_PNG_SIZE',\n",
       " '__builtins__',\n",
       " '__cached__',\n",
       " '__doc__',\n",
       " '__file__',\n",
       " '__loader__',\n",
       " '__name__',\n",
       " '__package__',\n",
       " '__spec__',\n",
       " '_api',\n",
       " '_check_color_like',\n",
       " '_colors_full_map',\n",
       " '_create_lookup_table',\n",
       " '_is_nth_color',\n",
       " '_sanitize_extrema',\n",
       " '_to_rgba_no_colorcycle',\n",
       " '_vector_magnitude',\n",
       " '_warn_if_global_cmap_modified',\n",
       " 'base64',\n",
       " 'cbook',\n",
       " 'cnames',\n",
       " 'colorConverter',\n",
       " 'copy',\n",
       " 'from_levels_and_colors',\n",
       " 'functools',\n",
       " 'get_named_colors_mapping',\n",
       " 'hex2color',\n",
       " 'hexColorPattern',\n",
       " 'hsv_to_rgb',\n",
       " 'inspect',\n",
       " 'io',\n",
       " 'is_color_like',\n",
       " 'itertools',\n",
       " 'make_norm_from_scale',\n",
       " 'mpl',\n",
       " 'np',\n",
       " 're',\n",
       " 'rgb2hex',\n",
       " 'rgb_to_hsv',\n",
       " 'same_color',\n",
       " 'scale',\n",
       " 'to_hex',\n",
       " 'to_rgb',\n",
       " 'to_rgba',\n",
       " 'to_rgba_array']"
      ]
     },
     "execution_count": 34,
     "metadata": {},
     "output_type": "execute_result"
    }
   ],
   "source": [
    "dir(matplotlib.colors)"
   ]
  },
  {
   "cell_type": "code",
   "execution_count": 36,
   "id": "ae47b370",
   "metadata": {},
   "outputs": [
    {
     "data": {
      "text/plain": [
       "(1.0, 0.0, 1.0)"
      ]
     },
     "execution_count": 36,
     "metadata": {},
     "output_type": "execute_result"
    }
   ],
   "source": [
    "mcolors.hex2color(mcolors.CSS4_COLORS['magenta'])"
   ]
  },
  {
   "cell_type": "code",
   "execution_count": 39,
   "id": "0c5cd7cd",
   "metadata": {},
   "outputs": [
    {
     "data": {
      "text/plain": [
       "(1.0, 0.0, 1.0)"
      ]
     },
     "execution_count": 39,
     "metadata": {},
     "output_type": "execute_result"
    }
   ],
   "source": [
    "aramco_color"
   ]
  },
  {
   "cell_type": "code",
   "execution_count": 48,
   "id": "52373d23",
   "metadata": {},
   "outputs": [
    {
     "data": {
      "image/png": "[encoded data removed]",
      "text/plain": [
       "<Figure size 872x46 with 1 Axes>"
      ]
     },
     "execution_count": 48,
     "metadata": {},
     "output_type": "execute_result"
    },
    {
     "data": {
      "image/png": "[encoded data removed]",
      "text/plain": [
       "<Figure size 872x46 with 1 Axes>"
      ]
     },
     "metadata": {},
     "output_type": "display_data"
    }
   ],
   "source": [
    "# aramco_color = mcolors.CSS4_COLORS['magenta']\n",
    "aramco_color = mcolors.hex2color(mcolors.CSS4_COLORS['magenta'])\n",
    "\n",
    "\n",
    "colors = colormaps.darkmint.colors\n",
    "colors = colormaps.ice.discrete(10).colors[:-1][::-1]\n",
    "\n",
    "\n",
    "# aramco_color = matplotlib.colors.to_hex(np.array([19, 91, 11]) / 256.0)\n",
    "# aramco_color = matplotlib.colors.to_hex(np.array([55, 139, 46]) / 256.0)\n",
    "# colors[0] = colormaps.ice.colors[:: -1][20]\n",
    "# colors[1] = colormaps.ice.colors[:: -1][60]\n",
    "# colors[2] = colormaps.ice.colors[:: -1][70]\n",
    "# colors[3] = colormaps.ice.colors[:: -1][90]\n",
    "# colors[4] = colormaps.ice.colors[:: -1][140]\n",
    "# colors[5] = colormaps.ice.colors[:: -1][190]\n",
    "colors[6] = colormaps.ice.colors[:: -1][240]\n",
    "rmg1_color = colors[0]\n",
    "rmg7_color = colors[6]\n",
    "\n",
    "my_colors = {\n",
    "    'Aramco': aramco_color,\n",
    "    'RMG-1': rmg1_color,\n",
    "    'RMG-7': rmg7_color,\n",
    "}\n",
    "plot_colortable(my_colors, sort_colors=False)"
   ]
  },
  {
   "cell_type": "code",
   "execution_count": 46,
   "id": "3cef7802",
   "metadata": {},
   "outputs": [
    {
     "data": {
      "text/plain": [
       "{'Aramco': (1.0, 0.0, 1.0)}"
      ]
     },
     "execution_count": 46,
     "metadata": {},
     "output_type": "execute_result"
    }
   ],
   "source": [
    "my_colors"
   ]
  },
  {
   "cell_type": "code",
   "execution_count": 24,
   "id": "ace260cf",
   "metadata": {},
   "outputs": [
    {
     "data": {
      "text/plain": [
       "687.84"
      ]
     },
     "execution_count": 24,
     "metadata": {},
     "output_type": "execute_result"
    }
   ],
   "source": [
    "temperatures[3]"
   ]
  },
  {
   "cell_type": "code",
   "execution_count": 26,
   "id": "bd3cd61c",
   "metadata": {},
   "outputs": [
    {
     "data": {
      "text/plain": [
       "696.12"
      ]
     },
     "execution_count": 26,
     "metadata": {},
     "output_type": "execute_result"
    }
   ],
   "source": [
    "temperatures[4]"
   ]
  },
  {
   "cell_type": "code",
   "execution_count": 24,
   "id": "8ea54bff",
   "metadata": {},
   "outputs": [
    {
     "data": {
      "text/plain": [
       "0.013249902123608149"
      ]
     },
     "execution_count": 24,
     "metadata": {},
     "output_type": "execute_result"
    }
   ],
   "source": [
    "run4_delay[3]"
   ]
  },
  {
   "cell_type": "code",
   "execution_count": null,
   "id": "de119ab0",
   "metadata": {},
   "outputs": [],
   "source": [
    "P = 7\n",
    "\n",
    "colors = [matplotlib.colormaps['viridis'].colors[int(i / P * matplotlib.colormaps['viridis'].N)] for i in range(P)]\n"
   ]
  },
  {
   "cell_type": "code",
   "execution_count": null,
   "id": "0ccff546",
   "metadata": {},
   "outputs": [],
   "source": [
    "colors[0]"
   ]
  },
  {
   "cell_type": "code",
   "execution_count": null,
   "id": "55523bd9",
   "metadata": {},
   "outputs": [],
   "source": [
    "matplotlib.colormaps['viridis'].N"
   ]
  },
  {
   "cell_type": "code",
   "execution_count": null,
   "id": "2bc644f6",
   "metadata": {},
   "outputs": [],
   "source": [
    "matplotlib.colormaps['viridis'].colors"
   ]
  },
  {
   "cell_type": "code",
   "execution_count": null,
   "id": "e4e71d60",
   "metadata": {},
   "outputs": [],
   "source": []
  },
  {
   "cell_type": "code",
   "execution_count": null,
   "id": "c81a6ec1",
   "metadata": {},
   "outputs": [],
   "source": []
  },
  {
   "cell_type": "code",
   "execution_count": null,
   "id": "ce135788",
   "metadata": {},
   "outputs": [],
   "source": []
  },
  {
   "cell_type": "code",
   "execution_count": null,
   "id": "fbe62b4e",
   "metadata": {},
   "outputs": [],
   "source": [
    "dir(matplotlib.colormaps['viridis'])"
   ]
  },
  {
   "cell_type": "code",
   "execution_count": null,
   "id": "71caedda",
   "metadata": {},
   "outputs": [],
   "source": []
  },
  {
   "cell_type": "code",
   "execution_count": null,
   "id": "d02198f8",
   "metadata": {},
   "outputs": [],
   "source": [
    "cmap"
   ]
  },
  {
   "cell_type": "code",
   "execution_count": null,
   "id": "3a7a2213",
   "metadata": {},
   "outputs": [],
   "source": [
    "[c for c in matplotlib.colormaps]"
   ]
  },
  {
   "cell_type": "markdown",
   "id": "8d86e9c0",
   "metadata": {},
   "source": [
    "# With Lib"
   ]
  },
  {
   "cell_type": "code",
   "execution_count": 19,
   "id": "df7abb21",
   "metadata": {},
   "outputs": [
    {
     "data": {
      "text/plain": [
       "<matplotlib.legend.Legend at 0x2b86773d5fd0>"
      ]
     },
     "execution_count": 19,
     "metadata": {},
     "output_type": "execute_result"
    },
    {
     "data": {
      "image/png": "[encoded data removed]",
      "text/plain": [
       "<Figure size 1400x350 with 3 Axes>"
      ]
     },
     "metadata": {},
     "output_type": "display_data"
    }
   ],
   "source": [
    "# read im the 12 datasets\n",
    "colors = plt.rcParams['axes.prop_cycle'].by_key()['color']\n",
    "\n",
    "\n",
    "P = 10\n",
    "colors = [matplotlib.colormaps['viridis'].colors[:: -1][int(i / P * matplotlib.colormaps['viridis'].N)] for i in range(P)]\n",
    "colors[0] = matplotlib.colormaps['viridis'].colors[:: -1][0]\n",
    "colors[1] = matplotlib.colormaps['viridis'].colors[:: -1][30]\n",
    "colors[2] = matplotlib.colormaps['viridis'].colors[:: -1][50]\n",
    "colors[3] = matplotlib.colormaps['viridis'].colors[:: -1][90]\n",
    "colors[4] = matplotlib.colormaps['viridis'].colors[:: -1][140]\n",
    "colors[5] = matplotlib.colormaps['viridis'].colors[:: -1][190]\n",
    "colors[6] = matplotlib.colormaps['viridis'].colors[:: -1][255]\n",
    "\n",
    "\n",
    "start_color = mcolors.hex2color(mcolors.CSS4_COLORS['yellow'])  # make it yellow, but fade it 70% with alpha\n",
    "# start_color = mcolors.hex2color(matplotlib.colors.BASE_COLORS['y'])\n",
    "start_color = (1.0, 0.8, 0.0)\n",
    "end_color = mcolors.hex2color(mcolors.CSS4_COLORS['forestgreen'])\n",
    "aramco_color = (0.18627451, 0.48823529, 0.94117647)\n",
    "colors = sns.blend_palette([start_color, end_color], n_colors=7, as_cmap=False, input='rgb')\n",
    "\n",
    "\n",
    "\n",
    "fig, axes = plt.subplots(1, 3, figsize=(14, 3.5))\n",
    "\n",
    "for j, i in enumerate([4, 7, 10]):\n",
    "    \n",
    "    run0_npy = f'/work/westgroup/harris.se/autoscience/fuels/butane/official/with_lib/butane_20240401/table_{i:04}/base_delays_{i:04}.npy'\n",
    "    run1_npy = f'/work/westgroup/harris.se/autoscience/fuels/butane/official/with_lib/butane_20240413/table_{i:04}/base_delays_{i:04}.npy'\n",
    "    \n",
    "    \n",
    "    \n",
    "    run0_delay = np.load(run0_npy)\n",
    "    run1_delay = np.load(run1_npy)\n",
    "\n",
    "    aramco_delay_npy = os.path.join(working_dir, 'aramco', f'table_{i:04}', f'base_delays_{i:04}.npy')\n",
    "    aramco_delay = np.load(aramco_delay_npy)\n",
    "    \n",
    "    axes[j].plot(1000.0 / temperatures, run0_delay, label='RMG-MAX-1', color=start_color, linestyle='solid')\n",
    "    axes[j].plot(1000.0 / temperatures, run1_delay, label='RMG-MAX-2', color=end_color, linestyle='dashed')\n",
    "    axes[j].plot(1000.0 / temperatures, aramco_delay, label='AramcoMech3.0', color=aramco_color)\n",
    "    \n",
    "\n",
    "    # Scale the experimental delay by the pressure\n",
    "    experiment_temperatures = df_exp[df_exp['Table'] == i]['T_C'].values\n",
    "    experiment_delays = df_exp[df_exp['Table'] == i]['time (ms)'].values / 1000.0\n",
    "    experiment_pressures_atm = df_exp[df_exp['Table'] == i]['chamber pressure? (bar)'].values * 100000 / 101325  # convert to atm\n",
    "    nominal_pressures_atm = df_exp[df_exp['Table'] == i]['nominal pressure(atm)'].values\n",
    "    scaled_delays = np.zeros(len(experiment_delays))\n",
    "    for k in range(len(experiment_temperatures)):\n",
    "        scaled_delays[k] = scale_experimental_delay(experiment_delays[k], experiment_pressures_atm[k], nominal_pressures_atm[k], experiment_temperatures[k])\n",
    "    \n",
    "    axes[j].spines[['right', 'top']].set_visible(False)\n",
    "    \n",
    "    \n",
    "#     axes[j].scatter(1000.0 / experiment_temperatures, experiment_delays, label='Experiment', color='black')\n",
    "    axes[j].scatter(1000.0 / experiment_temperatures, scaled_delays, label='Experiment', color='black')\n",
    "#     axes[j].scatter(1000.0 / experiment_temperatures, scaled_delays, label='Scaled Experiment', marker='+', color='blue')\n",
    "\n",
    "    axes[j].set_yscale('log')\n",
    "    \n",
    "    \n",
    "    phi = df_exp[df_exp['Table'] == i]['phi'].values[0]\n",
    "    P0 = df_exp[df_exp['Table'] == i]['nominal pressure(atm)'].values[0]\n",
    "    axes[j].set_title(f'$\\phi={phi}$', fontsize=14)\n",
    "    \n",
    "\n",
    "axes[1].set_xlabel('1000K / T', fontsize=14)\n",
    "\n",
    "# axes[0, 0].set_title('P=10atm')\n",
    "# axes[0, 1].set_title('P=20atm')\n",
    "# axes[0, 2].set_title('P=30atm')\n",
    "\n",
    "axes[0].set_ylabel('Delay (s)', fontsize=14)\n",
    "plt.sca(axes[0])\n",
    "# plt.legend(loc='lower right')\n",
    "axes[2].legend(fontsize=12)\n",
    "# plt.legend(loc='lower right', bbox_to_anchor=(3.95, 0), fontsize=12)"
   ]
  },
  {
   "cell_type": "markdown",
   "id": "6b69b74f",
   "metadata": {},
   "source": [
    "# Compare"
   ]
  },
  {
   "cell_type": "code",
   "execution_count": null,
   "id": "f6463b74",
   "metadata": {},
   "outputs": [],
   "source": [
    "# read im the 12 datasets\n",
    "\n",
    "# plt.figure(figsize=(12, 10))\n",
    "fig, axes = plt.subplots(4, 3, figsize=(14, 14))\n",
    "\n",
    "# plt.clf()\n",
    "for i in range(1, 13):\n",
    "    row = int((i - 1) / 3)\n",
    "    col = (i - 1) % 3\n",
    "\n",
    "    run0_npy_no_lib = f'/work/westgroup/harris.se/autoscience/fuels/butane/official/butane_20240126/table_{i:04}/base_delays_{i:04}.npy'\n",
    "    run5_npy_no_lib = f'/work/westgroup/harris.se/autoscience/fuels/butane/official/butane_20240423/table_{i:04}/base_delays_{i:04}.npy'\n",
    "    run0_npy_lib = f'/work/westgroup/harris.se/autoscience/fuels/butane/official/with_lib/butane_20240401/table_{i:04}/base_delays_{i:04}.npy'\n",
    "\n",
    "    \n",
    "    run0_no_lib_delay = np.load(run0_npy_no_lib)\n",
    "    run5_no_lib_delay = np.load(run5_npy_no_lib)\n",
    "    run0_lib_delay = np.load(run0_npy_lib)\n",
    "\n",
    "    aramco_delay_npy = os.path.join(working_dir, 'aramco', f'table_{i:04}', f'base_delays_{i:04}.npy')\n",
    "    aramco_delay = np.load(aramco_delay_npy)\n",
    "    \n",
    "    axes[row, col].plot(1000.0 / temperatures, run0_no_lib_delay, label='Run 0 No Lib')\n",
    "    axes[row, col].plot(1000.0 / temperatures, run5_no_lib_delay, label='Run 5 No Lib')\n",
    "    axes[row, col].plot(1000.0 / temperatures, run0_lib_delay, label='Run 0 With Lib')\n",
    "#     axes[row, col].plot(1000.0 / temperatures, run2_delay, label='Run 2')\n",
    "    axes[row, col].plot(1000.0 / temperatures, aramco_delay, label='Aramco')\n",
    "    \n",
    "#     plt.subplot(0)\n",
    "#     plt.plot(1000.0 / temperatures, base_rmg_delay, label='Base RMG')\n",
    "\n",
    "    # Scale the experimental delay by the pressure\n",
    "    \n",
    "    experiment_temperatures = df_exp[df_exp['Table'] == i]['T_C'].values\n",
    "    experiment_delays = df_exp[df_exp['Table'] == i]['time (ms)'].values / 1000.0\n",
    "    experiment_pressures_atm = df_exp[df_exp['Table'] == i]['chamber pressure? (bar)'].values * 100000 / 101325  # convert to atm\n",
    "    nominal_pressures_atm = df_exp[df_exp['Table'] == i]['nominal pressure(atm)'].values\n",
    "    scaled_delays = np.zeros(len(experiment_delays))\n",
    "    for j in range(len(experiment_temperatures)):\n",
    "        scaled_delays[j] = scale_experimental_delay(experiment_delays[j], experiment_pressures_atm[j], nominal_pressures_atm[j], experiment_temperatures[j])\n",
    "        \n",
    "    \n",
    "#     experiment_pressures = \n",
    "    \n",
    "    axes[row, col].scatter(1000.0 / experiment_temperatures, experiment_delays, label='Experiment', marker='x', color='black')\n",
    "    axes[row, col].scatter(1000.0 / experiment_temperatures, scaled_delays, label='Scaled Experiment', marker='+', color='blue')\n",
    "\n",
    "    axes[row, col].set_yscale('log')\n",
    "    \n",
    "\n",
    "    \n",
    "    \n",
    "#     ax = plt.gca()\n",
    "#     ax.set_yscale('log')\n",
    "#     ax.set_ylim([0.00001, 0.1])\n",
    "axes[1, 0].set_ylabel('Delay (s)')\n",
    "axes[3, 1].set_xlabel('1000K / T')\n",
    "\n",
    "axes[0, 0].set_title('P=10atm')\n",
    "axes[0, 1].set_title('P=20atm')\n",
    "axes[0, 2].set_title('P=30atm')\n",
    "\n",
    "axes[0, 2].set_ylabel(r'$\\phi=0.3$')\n",
    "axes[0, 2].yaxis.set_label_position(\"right\")\n",
    "axes[1, 2].set_ylabel(r'$\\phi=0.5$')\n",
    "axes[1, 2].yaxis.set_label_position(\"right\")\n",
    "axes[2, 2].set_ylabel(r'$\\phi=1.0$')\n",
    "axes[2, 2].yaxis.set_label_position(\"right\")\n",
    "axes[3, 2].set_ylabel(r'$\\phi=2.0$')\n",
    "axes[3, 2].yaxis.set_label_position(\"right\")\n",
    "\n",
    "plt.sca(axes[0, 0])\n",
    "plt.legend(loc='lower right')\n",
    "#         plt.legend(loc='lower right', bbox_to_anchor=(1.0, 0.0))"
   ]
  },
  {
   "cell_type": "code",
   "execution_count": null,
   "id": "f586adc6",
   "metadata": {},
   "outputs": [],
   "source": []
  },
  {
   "cell_type": "code",
   "execution_count": null,
   "id": "a4cff675",
   "metadata": {},
   "outputs": [],
   "source": []
  },
  {
   "cell_type": "markdown",
   "id": "0a624839",
   "metadata": {},
   "source": [
    "# Aramco etc"
   ]
  },
  {
   "cell_type": "code",
   "execution_count": null,
   "id": "f6e70795",
   "metadata": {},
   "outputs": [],
   "source": [
    "# read im the 12 datasets\n",
    "colors = plt.rcParams['axes.prop_cycle'].by_key()['color']\n",
    "fig, axes = plt.subplots(1, 3, figsize=(14, 3.5))\n",
    "\n",
    "colors[6] = colors[7]\n",
    "colors[7] = 'fuchsia'\n",
    "\n",
    "\n",
    "# for j, i in enumerate([7, 10]):\n",
    "for j, i in enumerate([4, 7, 10]):\n",
    "    \n",
    "    run0_npy = f'/work/westgroup/harris.se/autoscience/fuels/butane/official/butane_20240126/table_{i:04}/base_delays_{i:04}.npy'\n",
    "    run1_npy = f'/work/westgroup/harris.se/autoscience/fuels/butane/official/butane_20240315/table_{i:04}/base_delays_{i:04}.npy'\n",
    "    run2_npy = f'/work/westgroup/harris.se/autoscience/fuels/butane/official/butane_20240403/table_{i:04}/base_delays_{i:04}.npy'\n",
    "    run3_npy = f'/work/westgroup/harris.se/autoscience/fuels/butane/official/butane_20240410/table_{i:04}/base_delays_{i:04}.npy'\n",
    "    run4_npy = f'/work/westgroup/harris.se/autoscience/fuels/butane/official/butane_20240416/table_{i:04}/base_delays_{i:04}.npy'\n",
    "    run5_npy = f'/work/westgroup/harris.se/autoscience/fuels/butane/official/butane_20240423/table_{i:04}/base_delays_{i:04}.npy'\n",
    "    run6_npy = f'/work/westgroup/harris.se/autoscience/fuels/butane/official/butane_20240501/table_{i:04}/base_delays_{i:04}.npy'\n",
    "    \n",
    "    aramco_npy = f'/work/westgroup/harris.se/autoscience/fuels/butane/official/aramco/table_{i:04}/base_delays_{i:04}.npy'\n",
    "    \n",
    "    \n",
    "    run0_delay = np.load(run0_npy)\n",
    "    run1_delay = np.load(run1_npy)\n",
    "    run2_delay = np.load(run2_npy)\n",
    "    run3_delay = np.load(run3_npy)\n",
    "    run4_delay = np.load(run4_npy)\n",
    "    run5_delay = np.load(run5_npy)\n",
    "    run6_delay = np.load(run6_npy)\n",
    "    aramco_delay = np.load(aramco_npy)\n",
    "    \n",
    "    axes[j].plot(1000.0 / temperatures, run0_delay, label='RMG 1', color=colors[0])\n",
    "    axes[j].plot(1000.0 / temperatures, run1_delay, label='RMG 2', color=colors[1])\n",
    "    axes[j].plot(1000.0 / temperatures, run2_delay, label='RMG 3', color=colors[2])\n",
    "    axes[j].plot(1000.0 / temperatures, run3_delay, label='RMG 4', color=colors[3])\n",
    "    axes[j].plot(1000.0 / temperatures, run4_delay, label='RMG 5', color=colors[4])\n",
    "    axes[j].plot(1000.0 / temperatures, run5_delay, label='RMG 6', color=colors[5])\n",
    "    axes[j].plot(1000.0 / temperatures, run6_delay, label='RMG 7', color=colors[6])\n",
    "    axes[j].plot(1000.0 / temperatures, aramco_delay, label='Aramco 3.0', color=colors[7], linestyle='dashed')\n",
    "    \n",
    "\n",
    "    # Scale the experimental delay by the pressure\n",
    "    experiment_temperatures = df_exp[df_exp['Table'] == i]['T_C'].values\n",
    "    experiment_delays = df_exp[df_exp['Table'] == i]['time (ms)'].values / 1000.0\n",
    "    experiment_pressures_atm = df_exp[df_exp['Table'] == i]['chamber pressure? (bar)'].values * 100000 / 101325  # convert to atm\n",
    "    nominal_pressures_atm = df_exp[df_exp['Table'] == i]['nominal pressure(atm)'].values\n",
    "    scaled_delays = np.zeros(len(experiment_delays))\n",
    "    for k in range(len(experiment_temperatures)):\n",
    "        scaled_delays[k] = scale_experimental_delay(experiment_delays[k], experiment_pressures_atm[k], nominal_pressures_atm[k], experiment_temperatures[k])\n",
    "        \n",
    "    \n",
    "#     experiment_pressures = \n",
    "    \n",
    "    axes[j].scatter(1000.0 / experiment_temperatures, experiment_delays, label='Experiment', color='black')\n",
    "#     axes[j].scatter(1000.0 / experiment_temperatures, scaled_delays, label='Scaled Experiment', marker='+', color='blue')\n",
    "\n",
    "    axes[j].set_yscale('log')\n",
    "    \n",
    "    \n",
    "    phi = df_exp[df_exp['Table'] == i]['phi'].values[0]\n",
    "    P0 = df_exp[df_exp['Table'] == i]['nominal pressure(atm)'].values[0]\n",
    "    axes[j].set_title(f'$\\phi={phi}$', fontsize=14)\n",
    "    \n",
    "\n",
    "axes[1].set_xlabel('1000K / T', fontsize=14)\n",
    "\n",
    "# axes[0, 0].set_title('P=10atm')\n",
    "# axes[0, 1].set_title('P=20atm')\n",
    "# axes[0, 2].set_title('P=30atm')\n",
    "\n",
    "axes[0].set_ylabel('Delay (s)', fontsize=14)\n",
    "plt.sca(axes[0])\n",
    "# plt.legend(loc='lower right')\n",
    "plt.legend(loc='lower right', bbox_to_anchor=(3.95, 0), fontsize=12)"
   ]
  },
  {
   "cell_type": "code",
   "execution_count": null,
   "id": "636d71d8",
   "metadata": {},
   "outputs": [],
   "source": [
    "# read im the 12 datasets\n",
    "colors = plt.rcParams['axes.prop_cycle'].by_key()['color']\n",
    "fig, axes = plt.subplots(1, 3, figsize=(14, 3.5))\n",
    "\n",
    "\n",
    "colors[2] = 'fuchsia'\n",
    "\n",
    "for j, i in enumerate([4, 7, 10]):\n",
    "    \n",
    "    run0_npy = f'/work/westgroup/harris.se/autoscience/fuels/butane/official/with_lib/butane_20240401/table_{i:04}/base_delays_{i:04}.npy'\n",
    "    run1_npy = f'/work/westgroup/harris.se/autoscience/fuels/butane/official/with_lib/butane_20240413/table_{i:04}/base_delays_{i:04}.npy'\n",
    "    aramco_npy = f'/work/westgroup/harris.se/autoscience/fuels/butane/official/aramco/table_{i:04}/base_delays_{i:04}.npy'\n",
    "    \n",
    "    \n",
    "    \n",
    "    run0_delay = np.load(run0_npy)\n",
    "    run1_delay = np.load(run1_npy)\n",
    "    aramco_delay = np.load(aramco_npy)\n",
    "    \n",
    "    axes[j].plot(1000.0 / temperatures, run0_delay, label='RMG 1', color=colors[0])\n",
    "    axes[j].plot(1000.0 / temperatures, run1_delay, label='RMG 2', color=colors[1])\n",
    "    axes[j].plot(1000.0 / temperatures, aramco_delay, label='Aramco 3.0', color=colors[2], linestyle='dashed')\n",
    "    \n",
    "\n",
    "    # Scale the experimental delay by the pressure\n",
    "    experiment_temperatures = df_exp[df_exp['Table'] == i]['T_C'].values\n",
    "    experiment_delays = df_exp[df_exp['Table'] == i]['time (ms)'].values / 1000.0\n",
    "    experiment_pressures_atm = df_exp[df_exp['Table'] == i]['chamber pressure? (bar)'].values * 100000 / 101325  # convert to atm\n",
    "    nominal_pressures_atm = df_exp[df_exp['Table'] == i]['nominal pressure(atm)'].values\n",
    "    scaled_delays = np.zeros(len(experiment_delays))\n",
    "    for k in range(len(experiment_temperatures)):\n",
    "        scaled_delays[k] = scale_experimental_delay(experiment_delays[k], experiment_pressures_atm[k], nominal_pressures_atm[k], experiment_temperatures[k])\n",
    "        \n",
    "    \n",
    "#     experiment_pressures = \n",
    "    \n",
    "    axes[j].scatter(1000.0 / experiment_temperatures, experiment_delays, label='Experiment', color='black')\n",
    "#     axes[j].scatter(1000.0 / experiment_temperatures, scaled_delays, label='Scaled Experiment', marker='+', color='blue')\n",
    "\n",
    "    axes[j].set_yscale('log')\n",
    "    \n",
    "    \n",
    "    phi = df_exp[df_exp['Table'] == i]['phi'].values[0]\n",
    "    P0 = df_exp[df_exp['Table'] == i]['nominal pressure(atm)'].values[0]\n",
    "    axes[j].set_title(f'$\\phi={phi}$', fontsize=14)\n",
    "    \n",
    "\n",
    "axes[1].set_xlabel('1000K / T', fontsize=14)\n",
    "\n",
    "# axes[0, 0].set_title('P=10atm')\n",
    "# axes[0, 1].set_title('P=20atm')\n",
    "# axes[0, 2].set_title('P=30atm')\n",
    "\n",
    "axes[0].set_ylabel('Delay (s)', fontsize=14)\n",
    "plt.sca(axes[0])\n",
    "axes[2].legend(loc='lower right')\n",
    "# plt.legend(loc='lower right', bbox_to_anchor=(3.95, 0), fontsize=12)\n",
    "\n"
   ]
  },
  {
   "cell_type": "code",
   "execution_count": null,
   "id": "f2d2a94f",
   "metadata": {},
   "outputs": [],
   "source": []
  },
  {
   "cell_type": "code",
   "execution_count": null,
   "id": "6fe5e775",
   "metadata": {},
   "outputs": [],
   "source": []
  },
  {
   "cell_type": "code",
   "execution_count": null,
   "id": "975fb253",
   "metadata": {},
   "outputs": [],
   "source": []
  },
  {
   "cell_type": "code",
   "execution_count": null,
   "id": "64a56c9b",
   "metadata": {},
   "outputs": [],
   "source": []
  },
  {
   "cell_type": "code",
   "execution_count": null,
   "id": "fd8a250d",
   "metadata": {},
   "outputs": [],
   "source": []
  },
  {
   "cell_type": "code",
   "execution_count": null,
   "id": "03026a92",
   "metadata": {},
   "outputs": [],
   "source": [
    "# read im the 12 datasets\n",
    "\n",
    "# plt.figure(figsize=(12, 10))\n",
    "fig, axes = plt.subplots(4, 3, figsize=(14, 14))\n",
    "\n",
    "# plt.clf()\n",
    "for i in range(1, 13):\n",
    "    row = int((i - 1) / 3)\n",
    "    col = (i - 1) % 3\n",
    "\n",
    "    \n",
    "    base_rmg_delay_npy = os.path.join(working_dir, 'base_rmg_1week', f'table_{i:04}', f'base_delays_{i:04}.npy')\n",
    "    base_rmg_delay = np.load(base_rmg_delay_npy)\n",
    "\n",
    "    improved_rmg_delay_npy = os.path.join(working_dir, 'improved_1week', f'table_{i:04}', f'base_delays_{i:04}.npy')\n",
    "    improved_rmg_delay = np.load(improved_rmg_delay_npy)\n",
    "\n",
    "    aramco_delay_npy = os.path.join(working_dir, 'aramco', f'table_{i:04}', f'base_delays_{i:04}.npy')\n",
    "    aramco_delay = np.load(aramco_delay_npy)\n",
    "    \n",
    "    axes[row, col].plot(1000.0 / temperatures, base_rmg_delay, label='Base RMG')\n",
    "    axes[row, col].plot(1000.0 / temperatures, improved_rmg_delay, label='Improved RMG')\n",
    "    axes[row, col].plot(1000.0 / temperatures, aramco_delay, label='Aramco')\n",
    "    \n",
    "#     plt.subplot(0)\n",
    "#     plt.plot(1000.0 / temperatures, base_rmg_delay, label='Base RMG')\n",
    "\n",
    "    # Scale the experimental delay by the pressure\n",
    "    \n",
    "    experiment_temperatures = df_exp[df_exp['Table'] == i]['T_C'].values\n",
    "    experiment_delays = df_exp[df_exp['Table'] == i]['time (ms)'].values / 1000.0\n",
    "    experiment_pressures_atm = df_exp[df_exp['Table'] == i]['chamber pressure? (bar)'].values * 100000 / 101325  # convert to atm\n",
    "    nominal_pressures_atm = df_exp[df_exp['Table'] == i]['nominal pressure(atm)'].values\n",
    "    scaled_delays = np.zeros(len(experiment_delays))\n",
    "    for j in range(len(experiment_temperatures)):\n",
    "        scaled_delays[j] = scale_experimental_delay(experiment_delays[j], experiment_pressures_atm[j], nominal_pressures_atm[j], experiment_temperatures[j])\n",
    "        \n",
    "    \n",
    "#     experiment_pressures = \n",
    "    \n",
    "    axes[row, col].scatter(1000.0 / experiment_temperatures, experiment_delays, label='Experiment', marker='x', color='black')\n",
    "    axes[row, col].scatter(1000.0 / experiment_temperatures, scaled_delays, label='Scaled Experiment', marker='+', color='blue')\n",
    "\n",
    "    axes[row, col].set_yscale('log')\n",
    "    \n",
    "\n",
    "    \n",
    "    \n",
    "#     ax = plt.gca()\n",
    "#     ax.set_yscale('log')\n",
    "#     ax.set_ylim([0.00001, 0.1])\n",
    "axes[1, 0].set_ylabel('Delay (s)')\n",
    "axes[3, 1].set_xlabel('1000K / T')\n",
    "\n",
    "axes[0, 0].set_title('P=10atm')\n",
    "axes[0, 1].set_title('P=20atm')\n",
    "axes[0, 2].set_title('P=30atm')\n",
    "\n",
    "axes[0, 2].set_ylabel(r'$\\phi=0.3$')\n",
    "axes[0, 2].yaxis.set_label_position(\"right\")\n",
    "axes[1, 2].set_ylabel(r'$\\phi=0.5$')\n",
    "axes[1, 2].yaxis.set_label_position(\"right\")\n",
    "axes[2, 2].set_ylabel(r'$\\phi=1.0$')\n",
    "axes[2, 2].yaxis.set_label_position(\"right\")\n",
    "axes[3, 2].set_ylabel(r'$\\phi=2.0$')\n",
    "axes[3, 2].yaxis.set_label_position(\"right\")\n",
    "\n",
    "plt.sca(axes[0, 0])\n",
    "plt.legend(loc='lower right')\n",
    "#         plt.legend(loc='lower right', bbox_to_anchor=(1.0, 0.0))"
   ]
  },
  {
   "cell_type": "code",
   "execution_count": null,
   "id": "caa6d02d",
   "metadata": {
    "scrolled": false
   },
   "outputs": [],
   "source": [
    "# same thing but horizontal\n",
    "# read im the 12 datasets\n",
    "\n",
    "# plt.figure(figsize=(12, 10))\n",
    "fig, axes = plt.subplots(3, 4, figsize=(16, 9))\n",
    "\n",
    "# plt.clf()\n",
    "for i in range(1, 13):\n",
    "    col = int((i - 1) / 3)\n",
    "    row = (i - 1) % 3\n",
    "\n",
    "    \n",
    "    base_rmg_delay_npy = os.path.join(working_dir, 'base_rmg_1week', f'table_{i:04}', f'base_delays_{i:04}.npy')\n",
    "    base_rmg_delay = np.load(base_rmg_delay_npy)\n",
    "\n",
    "    improved_rmg_delay_npy = os.path.join(working_dir, 'improved_1week', f'table_{i:04}', f'base_delays_{i:04}.npy')\n",
    "    improved_rmg_delay = np.load(improved_rmg_delay_npy)\n",
    "\n",
    "    aramco_delay_npy = os.path.join(working_dir, 'aramco', f'table_{i:04}', f'base_delays_{i:04}.npy')\n",
    "    aramco_delay = np.load(aramco_delay_npy)\n",
    "    \n",
    "    axes[row, col].plot(1000.0 / temperatures, base_rmg_delay, label='Base RMG')\n",
    "    axes[row, col].plot(1000.0 / temperatures, improved_rmg_delay, label='Improved RMG')\n",
    "    axes[row, col].plot(1000.0 / temperatures, aramco_delay, label='Aramco')\n",
    "    \n",
    "#     plt.subplot(0)\n",
    "#     plt.plot(1000.0 / temperatures, base_rmg_delay, label='Base RMG')\n",
    "\n",
    "    # Scale the experimental delay by the pressure\n",
    "    \n",
    "    experiment_temperatures = df_exp[df_exp['Table'] == i]['T_C'].values\n",
    "    experiment_delays = df_exp[df_exp['Table'] == i]['time (ms)'].values / 1000.0\n",
    "    experiment_pressures_atm = df_exp[df_exp['Table'] == i]['chamber pressure? (bar)'].values * 100000 / 101325  # convert to atm\n",
    "    nominal_pressures_atm = df_exp[df_exp['Table'] == i]['nominal pressure(atm)'].values\n",
    "    scaled_delays = np.zeros(len(experiment_delays))\n",
    "    for j in range(len(experiment_temperatures)):\n",
    "        scaled_delays[j] = scale_experimental_delay(experiment_delays[j], experiment_pressures_atm[j], nominal_pressures_atm[j], experiment_temperatures[j])\n",
    "        \n",
    "    \n",
    "#     experiment_pressures = \n",
    "    \n",
    "    axes[row, col].scatter(1000.0 / experiment_temperatures, experiment_delays, label='Experiment', marker='x', color='black')\n",
    "    axes[row, col].scatter(1000.0 / experiment_temperatures, scaled_delays, label='Scaled Experiment', marker='+', color='blue')\n",
    "\n",
    "    axes[row, col].set_yscale('log')\n",
    "    \n",
    "\n",
    "    \n",
    "    \n",
    "#     ax = plt.gca()\n",
    "#     ax.set_yscale('log')\n",
    "#     ax.set_ylim([0.00001, 0.1])\n",
    "axes[0, 0].set_ylabel('Delay (s)')\n",
    "axes[1, 0].set_ylabel('Delay (s)')\n",
    "axes[2, 0].set_ylabel('Delay (s)')\n",
    "axes[2, 0].set_xlabel('1000K / T')\n",
    "axes[2, 1].set_xlabel('1000K / T')\n",
    "axes[2, 2].set_xlabel('1000K / T')\n",
    "axes[2, 3].set_xlabel('1000K / T')\n",
    "# plt.sca(axes[2, 0])\n",
    "# plt.text(2.0, 0.001, '1000K / T')  # this is in data coordinates\n",
    "\n",
    "axes[0, 3].set_ylabel('P=10atm')\n",
    "axes[1, 3].set_ylabel('P=20atm')\n",
    "axes[2, 3].set_ylabel('P=30atm')\n",
    "axes[0, 3].yaxis.set_label_position(\"right\")\n",
    "axes[1, 3].yaxis.set_label_position(\"right\")\n",
    "axes[2, 3].yaxis.set_label_position(\"right\")\n",
    "\n",
    "\n",
    "axes[0, 0].set_title(r'$\\phi=0.3$')\n",
    "axes[0, 1].set_title(r'$\\phi=0.5$')\n",
    "axes[0, 2].set_title(r'$\\phi=1.0$')\n",
    "axes[0, 3].set_title(r'$\\phi=2.0$')\n",
    "\n",
    "\n",
    "# axes[0, 2].set_ylabel(r'$\\phi=0.3$')\n",
    "# axes[0, 2].yaxis.set_label_position(\"right\")\n",
    "# axes[1, 2].set_ylabel(r'$\\phi=0.5$')\n",
    "# axes[1, 2].yaxis.set_label_position(\"right\")\n",
    "# axes[2, 2].set_ylabel(r'$\\phi=1.0$')\n",
    "# axes[2, 2].yaxis.set_label_position(\"right\")\n",
    "# axes[3, 2].set_ylabel(r'$\\phi=2.0$')\n",
    "# axes[3, 2].yaxis.set_label_position(\"right\")\n",
    "\n",
    "plt.sca(axes[0, 0])\n",
    "plt.legend(loc='lower right')\n",
    "#         plt.legend(loc='lower right', bbox_to_anchor=(1.0, 0.0))\n",
    "\n",
    "\n"
   ]
  },
  {
   "cell_type": "markdown",
   "id": "bc0b320a",
   "metadata": {},
   "source": [
    "## Just 2x3"
   ]
  },
  {
   "cell_type": "code",
   "execution_count": null,
   "id": "d7dd032f",
   "metadata": {},
   "outputs": [],
   "source": [
    "# Just 2,3\n",
    "# same thing but horizontal\n",
    "# read im the 12 datasets\n",
    "\n",
    "# plt.figure(figsize=(12, 10))\n",
    "fig, axes = plt.subplots(2, 3, figsize=(14, 7))\n",
    "\n",
    "# plt.clf()\n",
    "for i in range(1, 13):\n",
    "    \n",
    "    col = int((i - 1) / 3)\n",
    "    row = (i - 1) % 3\n",
    "\n",
    "    \n",
    "    if col == 0:\n",
    "        continue\n",
    "    if row == 2:\n",
    "        continue\n",
    "        \n",
    "    col -= 1\n",
    "    \n",
    "    base_rmg_delay_npy = os.path.join(working_dir, 'base_rmg_1week', f'table_{i:04}', f'base_delays_{i:04}.npy')\n",
    "    base_rmg_delay = np.load(base_rmg_delay_npy)\n",
    "\n",
    "    improved_rmg_delay_npy = os.path.join(working_dir, 'improved_1week', f'table_{i:04}', f'base_delays_{i:04}.npy')\n",
    "    improved_rmg_delay = np.load(improved_rmg_delay_npy)\n",
    "\n",
    "    aramco_delay_npy = os.path.join(working_dir, 'aramco', f'table_{i:04}', f'base_delays_{i:04}.npy')\n",
    "    aramco_delay = np.load(aramco_delay_npy)\n",
    "    \n",
    "    axes[row, col].plot(1000.0 / temperatures, base_rmg_delay, label='Base RMG')\n",
    "    axes[row, col].plot(1000.0 / temperatures, improved_rmg_delay, label='Improved RMG')\n",
    "    axes[row, col].plot(1000.0 / temperatures, aramco_delay, label='Aramco')\n",
    "\n",
    "\n",
    "    # Scale the experimental delay by the pressure\n",
    "    \n",
    "    experiment_temperatures = df_exp[df_exp['Table'] == i]['T_C'].values\n",
    "    experiment_delays = df_exp[df_exp['Table'] == i]['time (ms)'].values / 1000.0\n",
    "    experiment_pressures_atm = df_exp[df_exp['Table'] == i]['chamber pressure? (bar)'].values * 100000 / 101325  # convert to atm\n",
    "    nominal_pressures_atm = df_exp[df_exp['Table'] == i]['nominal pressure(atm)'].values\n",
    "    scaled_delays = np.zeros(len(experiment_delays))\n",
    "    for j in range(len(experiment_temperatures)):\n",
    "        scaled_delays[j] = scale_experimental_delay(experiment_delays[j], experiment_pressures_atm[j], nominal_pressures_atm[j], experiment_temperatures[j])\n",
    "        \n",
    "    \n",
    "#     axes[row, col].scatter(1000.0 / experiment_temperatures, experiment_delays, label='Experiment', marker='x', color='black')\n",
    "    axes[row, col].scatter(1000.0 / experiment_temperatures, scaled_delays, label='Experiment', marker='x', color='black')\n",
    "\n",
    "    axes[row, col].set_yscale('log')\n",
    "    \n",
    "axes[0, 0].set_ylabel('Delay (s)')\n",
    "axes[1, 0].set_ylabel('Delay (s)')\n",
    "axes[1, 0].set_xlabel('1000K / T')\n",
    "axes[1, 1].set_xlabel('1000K / T')\n",
    "axes[1, 2].set_xlabel('1000K / T')\n",
    "\n",
    "axes[0, 2].set_ylabel('P=10atm')\n",
    "axes[1, 2].set_ylabel('P=20atm')\n",
    "axes[0, 2].yaxis.set_label_position(\"right\")\n",
    "axes[1, 2].yaxis.set_label_position(\"right\")\n",
    "\n",
    "\n",
    "axes[0, 0].set_title(r'$\\phi=0.5$')\n",
    "axes[0, 1].set_title(r'$\\phi=1.0$')\n",
    "axes[0, 2].set_title(r'$\\phi=2.0$')\n",
    "\n",
    "\n",
    "plt.sca(axes[0, 0])\n",
    "plt.legend(loc='lower right')\n",
    "\n",
    "\n"
   ]
  },
  {
   "cell_type": "code",
   "execution_count": null,
   "id": "2105b798",
   "metadata": {},
   "outputs": [],
   "source": []
  },
  {
   "cell_type": "code",
   "execution_count": null,
   "id": "b86ec5a4",
   "metadata": {},
   "outputs": [],
   "source": []
  },
  {
   "cell_type": "code",
   "execution_count": null,
   "id": "061b786d",
   "metadata": {},
   "outputs": [],
   "source": []
  },
  {
   "cell_type": "code",
   "execution_count": null,
   "id": "af8146f6",
   "metadata": {},
   "outputs": [],
   "source": [
    "delay3 = np.load(os.path.join(working_dir, 'base_rmg_1week', f'table_0002', f'base_delays_0002.npy'))\n",
    "delay6 = np.load(os.path.join(working_dir, 'base_rmg_1week', f'table_0005', f'base_delays_0005.npy'))"
   ]
  },
  {
   "cell_type": "code",
   "execution_count": null,
   "id": "32cc8b70",
   "metadata": {},
   "outputs": [],
   "source": [
    "delay6 - delay3"
   ]
  },
  {
   "cell_type": "code",
   "execution_count": null,
   "id": "ae25cd2b",
   "metadata": {},
   "outputs": [],
   "source": []
  },
  {
   "cell_type": "code",
   "execution_count": null,
   "id": "ed237359",
   "metadata": {},
   "outputs": [],
   "source": [
    "axes[3]"
   ]
  },
  {
   "cell_type": "code",
   "execution_count": null,
   "id": "78579c02",
   "metadata": {},
   "outputs": [],
   "source": [
    "\n",
    "\n",
    "for i in [9]:\n",
    "    # read in the three datasets\n",
    "    base_rmg_delay_data = os.path.join(working_dir, 'base_rmg', f'table_{i}_smooth.csv')\n",
    "    improved_rmg_delay_data = os.path.join(working_dir, 'improved_rmg', f'table_{i}_smooth.csv')\n",
    "    aramco_delay_data = os.path.join(working_dir, 'aramco', f'table_{i}_smooth.csv')\n",
    "    \n",
    "    base_rmg_df = pd.read_csv(base_rmg_delay_data)\n",
    "    if 'Unnamed: 0' in base_rmg_df.keys():  \n",
    "        base_rmg_df = base_rmg_df.drop(columns=['Unnamed: 0'])\n",
    "    improved_rmg_delay_data = pd.read_csv(improved_rmg_delay_data)\n",
    "    if 'Unnamed: 0' in improved_rmg_delay_data.keys():  \n",
    "        improved_rmg_delay_data = improved_rmg_delay_data.drop(columns=['Unnamed: 0'])\n",
    "    aramco_delay_data = pd.read_csv(aramco_delay_data)\n",
    "    if 'Unnamed: 0' in base_rmg_df.keys():  \n",
    "        aramco_delay_data = aramco_delay_data.drop(columns=['Unnamed: 0'])\n",
    "    \n",
    "#     print(base_rmg_df['T'].values), len(improved_rmg_df['T'].values), len(aramco_df['T'].values))"
   ]
  },
  {
   "cell_type": "code",
   "execution_count": null,
   "id": "42ce2f36",
   "metadata": {},
   "outputs": [],
   "source": [
    "base_rmg_df['T'].values"
   ]
  },
  {
   "cell_type": "code",
   "execution_count": null,
   "id": "72572d7e",
   "metadata": {},
   "outputs": [],
   "source": []
  },
  {
   "cell_type": "code",
   "execution_count": null,
   "id": "665bb16e",
   "metadata": {},
   "outputs": [],
   "source": [
    "\n",
    "\n",
    "for i in range(1, 13):\n",
    "    plt.clf()\n",
    "    # read in the three datasets\n",
    "    base_rmg_delay_data = os.path.join(working_dir, 'base_rmg', f'table_{i}_smooth.csv')\n",
    "    improved_rmg_delay_data = os.path.join(working_dir, 'improved_rmg', f'table_{i}_smooth.csv')\n",
    "    aramco_delay_data = os.path.join(working_dir, 'aramco', f'table_{i}_smooth.csv')\n",
    "    \n",
    "    base_rmg_df = pd.read_csv(base_rmg_delay_data)\n",
    "    if 'Unnamed: 0' in base_rmg_df.keys():  \n",
    "        base_rmg_df = base_rmg_df.drop(columns=['Unnamed: 0'])\n",
    "    improved_rmg_df = pd.read_csv(improved_rmg_delay_data)\n",
    "    if 'Unnamed: 0' in improved_rmg_df.keys():  \n",
    "        improved_rmg_df = improved_rmg_df.drop(columns=['Unnamed: 0'])\n",
    "    aramco_df = pd.read_csv(aramco_delay_data)\n",
    "    if 'Unnamed: 0' in aramco_df.keys():  \n",
    "        aramco_df = aramco_df.drop(columns=['Unnamed: 0'])\n",
    "\n",
    "        \n",
    "    # get the experimental data    \n",
    "    exp_table = df_exp[df_exp['Table'] == i]\n",
    "    \n",
    "    # plot the ignition delay\n",
    "    N = 51\n",
    "    if i == 9:\n",
    "        plt.scatter(1000.0 / base_rmg_df['T'].values, base_rmg_df['delay(ms)'].values)\n",
    "        plt.scatter(1000.0 / improved_rmg_df['T'].values[N:2 * N], improved_rmg_df['delay(ms)'].values[N:2 * N])\n",
    "        plt.scatter(1000.0 / aramco_df['T'].values[2 * N:3 * N], aramco_df['delay(ms)'].values[2 * N:3 * N])\n",
    "    else:\n",
    "    \n",
    "        plt.plot(1000.0 / base_rmg_df['T'].values, base_rmg_df['delay(ms)'].values)\n",
    "        plt.plot(1000.0 / improved_rmg_df['T'].values[N:2 * N], improved_rmg_df['delay(ms)'].values[N:2 * N])\n",
    "        plt.plot(1000.0 / aramco_df['T'].values[2 * N:3 * N], aramco_df['delay(ms)'].values[2 * N:3 * N])\n",
    "#     plt.plot(1000.0 / T7, base_rmg7, marker='x', linestyle='dashed')\n",
    "#     plt.plot(1000.0 / T7, aramco7, marker='x')\n",
    "    plt.scatter(1000.0 / exp_table['T_C'].values, exp_table['time (ms)'].values.astype(float) / 1000.0, color='black', marker='x')\n",
    "    ax = plt.gca()\n",
    "    ax.set_yscale('log')\n",
    "    \n",
    "    plt.legend(['Base RMG', 'Improved RMG', 'Aramco', 'Experiment'])\n",
    "    plt.title('Ignition Delays $\\phi$=' + str(base_rmg_df['phi'].values[0]))\n",
    "    plt.xlabel('1000K / T')\n",
    "    plt.ylabel('Delay (s)')\n",
    "    plt.savefig(f'table_{i}.png')\n",
    "\n",
    "#     print(base_rmg_df)"
   ]
  },
  {
   "cell_type": "code",
   "execution_count": null,
   "id": "277539e7",
   "metadata": {},
   "outputs": [],
   "source": [
    "len(1000.0 / aramco_delay_data['T'].values)"
   ]
  },
  {
   "cell_type": "code",
   "execution_count": null,
   "id": "d09747f8",
   "metadata": {},
   "outputs": [],
   "source": [
    "plt.plot(1000.0 / base_rmg_df['T'].values[:])"
   ]
  },
  {
   "cell_type": "code",
   "execution_count": null,
   "id": "50afe270",
   "metadata": {},
   "outputs": [],
   "source": []
  },
  {
   "cell_type": "code",
   "execution_count": null,
   "id": "0cb78208",
   "metadata": {},
   "outputs": [],
   "source": [
    "base_rmg_df['delay(ms)'].values[:]"
   ]
  },
  {
   "cell_type": "code",
   "execution_count": null,
   "id": "92abd27b",
   "metadata": {},
   "outputs": [],
   "source": [
    "# plot the ignition delay\n",
    "plt.plot(1000.0 / T7, delays, marker='x')\n",
    "plt.plot(1000.0 / T7, base_rmg7, marker='x', linestyle='dashed')\n",
    "plt.plot(1000.0 / T7, aramco7, marker='x')\n",
    "plt.scatter(1000.0 / T7, tau7 / 1000.0, color='black')\n",
    "ax = plt.gca()\n",
    "ax.set_yscale('log')\n",
    "plt.legend(['New Calculations', 'Base RMG', 'Aramco', 'Experiment'])\n",
    "plt.title('Ignition Delays $\\phi$=1.0')\n",
    "plt.xlabel('1000K / T')\n",
    "plt.ylabel('Delay (s)')\n",
    "plt.savefig('table7.png')\n"
   ]
  }
 ],
 "metadata": {
  "kernelspec": {
   "display_name": "Python 3 (ipykernel)",
   "language": "python",
   "name": "python3"
  },
  "language_info": {
   "codemirror_mode": {
    "name": "ipython",
    "version": 3
   },
   "file_extension": ".py",
   "mimetype": "text/x-python",
   "name": "python",
   "nbconvert_exporter": "python",
   "pygments_lexer": "ipython3",
   "version": "3.7.16"
  }
 },
 "nbformat": 4,
 "nbformat_minor": 5
}

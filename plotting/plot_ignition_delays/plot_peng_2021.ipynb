{
 "cells": [
  {
   "cell_type": "code",
   "execution_count": 1,
   "id": "06bf9e61",
   "metadata": {},
   "outputs": [],
   "source": [
    "import os\n",
    "import glob\n",
    "import numpy as np\n",
    "import pandas as pd\n",
    "import cantera as ct\n",
    "import concurrent.futures\n",
    "\n",
    "import matplotlib.pyplot as plt\n",
    "%matplotlib inline"
   ]
  },
  {
   "cell_type": "code",
   "execution_count": 2,
   "id": "72320136",
   "metadata": {},
   "outputs": [],
   "source": [
    "butane_yaml = '/work/westgroup/harris.se/autoscience/fuels/butane/official/butane_20240126/chem_annotated.yaml'\n",
    "# butane_yaml = '/work/westgroup/harris.se/autoscience/fuels/butane/official/butane_20240423/chem_annotated.yaml'"
   ]
  },
  {
   "cell_type": "code",
   "execution_count": 2,
   "id": "67de62ff",
   "metadata": {},
   "outputs": [],
   "source": [
    "# Load the experimental conditions\n",
    "# ignition_delay_data = '/work/westgroup/harris.se/autoscience/autoscience/butane/experimental_data/butane_ignition_delay.csv'\n",
    "ignition_delay_data = '/home/harris.se/peng_2021.csv'\n",
    "df_exp = pd.read_csv(ignition_delay_data)\n",
    "\n",
    "# slice just table 7, where phi=1.0\n",
    "table7 = df_exp[df_exp['Table'] == 1]\n",
    "# Define Initial conditions using experimental data\n",
    "tau7 = table7['time (us)'].values.astype(float) / 1000.0# ignition delay\n",
    "T7 = table7['T_i (K)'].values  # Temperatures\n",
    "P7 = table7['nominal pressure(atm)'].values * ct.one_atm  # pressures in atm\n",
    "\n",
    "\n",
    "# list of starting conditions\n",
    "# Mixture compositions taken from table 2 of\n",
    "# https://www-sciencedirect-com.ezproxy.neu.edu/science/article/pii/S0010218021003898?via%3Dihub\n",
    "concentrations = []\n",
    "\n",
    "\n",
    "# for phi = 1\n",
    "\n",
    "\n",
    "x_diluent = table7['%CO2'].values.astype(float)[0]\n",
    "phi = table7['phi'].values.astype(float)[0]\n",
    "\n",
    "x_o2 = (1.0 - x_diluent) / (1.0 + 2 / 13.0 * phi)\n",
    "x_butane = 1.0 - x_diluent - x_o2\n",
    "\n",
    "\n",
    "conc_dict = {\n",
    "    'O2(2)': x_o2,\n",
    "    'butane(1)': x_butane,\n",
    "    'CO2(7)' : x_diluent\n",
    "}\n",
    "\n",
    "for i in range(0, len(table7)):\n",
    "    concentrations.append(conc_dict)\n",
    "\n"
   ]
  },
  {
   "cell_type": "code",
   "execution_count": 4,
   "id": "4285d74b",
   "metadata": {},
   "outputs": [
    {
     "data": {
      "text/plain": [
       "array([101325., 101325., 101325., 101325., 101325.])"
      ]
     },
     "execution_count": 4,
     "metadata": {},
     "output_type": "execute_result"
    }
   ],
   "source": [
    "P7"
   ]
  },
  {
   "cell_type": "code",
   "execution_count": null,
   "id": "7ed7288e",
   "metadata": {},
   "outputs": [],
   "source": []
  },
  {
   "cell_type": "code",
   "execution_count": 5,
   "id": "494792f2",
   "metadata": {},
   "outputs": [],
   "source": [
    "# Take Reactor Conditions from Table 7 of supplementary info in\n",
    "# https://doi-org.ezproxy.neu.edu/10.1016/j.combustflame.2010.01.016\n",
    "def get_delay(gas, T_orig, P_orig, X_orig):\n",
    "    # function to run a RCM simulation\n",
    "    \n",
    "    atols = [1e-15, 1e-15, 1e-18]\n",
    "    rtols = [1e-9, 1e-12, 1e-15]\n",
    "    for attempt_index in range(0, len(atols)):\n",
    "        T = T_orig\n",
    "        P = P_orig\n",
    "        X = X_orig\n",
    "    \n",
    "\n",
    "        t_end = 1.0  # time in seconds\n",
    "        gas.TPX = T, P, X\n",
    "\n",
    "        env = ct.Reservoir(ct.Solution('air.yaml'))\n",
    "        reactor = ct.IdealGasReactor(gas)\n",
    "        wall = ct.Wall(reactor, env, A=1.0, velocity=0)\n",
    "        reactor_net = ct.ReactorNet([reactor])\n",
    "        reactor_net.atol = atols[attempt_index]\n",
    "        reactor_net.rtol = rtols[attempt_index]\n",
    "\n",
    "        times = [0]\n",
    "        T = [reactor.T]\n",
    "        P = [reactor.thermo.P]\n",
    "        X = [reactor.thermo.X]  # mol fractions\n",
    "        \n",
    "        MAX_STEPS = 10000\n",
    "        step_count = 0\n",
    "        failed = False\n",
    "        while reactor_net.time < t_end:\n",
    "            try:\n",
    "                reactor_net.step()\n",
    "            except ct._cantera.CanteraError:\n",
    "                print(f'Reactor failed to solve! {attempt_index}')\n",
    "                failed = True\n",
    "                break\n",
    "\n",
    "            times.append(reactor_net.time)\n",
    "            T.append(reactor.T)\n",
    "            P.append(reactor.thermo.P)\n",
    "            X.append(reactor.thermo.X)\n",
    "\n",
    "            step_count += 1\n",
    "            if step_count > MAX_STEPS:\n",
    "                print(f'Too many steps! Reactor failed to solve! {attempt_index}')\n",
    "                # print('!!!!!!!!!!!!!!!!!!!!!!!!!!!!!!!!!!!!!!!!')\n",
    "                failed = True\n",
    "                break\n",
    "        \n",
    "        if not failed:\n",
    "            slopes = np.gradient(P, times)\n",
    "            delay_i = np.argmax(slopes)\n",
    "            return times[delay_i]\n",
    "        return -1\n",
    "        \n",
    "#         slopes = np.gradient(P, times)\n",
    "#         i = np.argmax(slopes)\n",
    "#         return times[i]"
   ]
  },
  {
   "cell_type": "code",
   "execution_count": 6,
   "id": "68be73c6",
   "metadata": {},
   "outputs": [],
   "source": [
    "def run_simulation(condition_index):\n",
    "    gas = ct.Solution(butane_yaml)\n",
    "    X = concentrations[condition_index]\n",
    "    delay = get_delay(gas, T7[condition_index], P7[condition_index], X)\n",
    "    print(f'Completed {condition_index}:\\t {delay}')\n",
    "    return delay"
   ]
  },
  {
   "cell_type": "code",
   "execution_count": null,
   "id": "85e70967",
   "metadata": {},
   "outputs": [],
   "source": [
    "# Run all simulations in parallel\n",
    "delays = np.zeros(len(table7))\n",
    "condition_indices = np.arange(0, len(table7))\n",
    "with concurrent.futures.ProcessPoolExecutor(max_workers=16) as executor:\n",
    "    for condition_index, delay_time in zip(condition_indices, executor.map(run_simulation, condition_indices)):\n",
    "        delays[condition_index] = delay_time"
   ]
  },
  {
   "cell_type": "code",
   "execution_count": null,
   "id": "2620493a",
   "metadata": {},
   "outputs": [],
   "source": [
    "delays"
   ]
  },
  {
   "cell_type": "code",
   "execution_count": null,
   "id": "73fa8a39",
   "metadata": {},
   "outputs": [],
   "source": [
    "iter0 = np.array([0.00099921, 0.00017139, 0.00030184, 0.00039824, 0.00066331])\n",
    "iter5 = np.array([0.00080206, 0.00012514, 0.00021517, 0.00028614, 0.00049938])"
   ]
  },
  {
   "cell_type": "code",
   "execution_count": null,
   "id": "5e070deb",
   "metadata": {},
   "outputs": [],
   "source": [
    "# plot the ignition delay\n",
    "# plt.plot(1000.0 / T7, full_base_rmg7, marker='x', label='large_seed_1week')\n",
    "# plt.plot(1000.0 / T7, aramco7, marker='x', label='aramco')\n",
    "plt.scatter(1000.0 / T7, iter0, marker='o', label='Run 0')\n",
    "# plt.plot(1000.0 / T7, iter1, marker='o', label='Run 1')\n",
    "# plt.plot(1000.0 / T7, iter2, marker='o', label='Run 2')\n",
    "# plt.plot(1000.0 / T7, iter3, marker='o', label='Run 3')\n",
    "# plt.plot(1000.0 / T7, iter4, marker='o', label='Run 4')\n",
    "plt.scatter(1000.0 / T7, iter5, marker='o', label='Run 5')\n",
    "# plt.plot(1000.0 / T7, iter3p2, marker='o', label='Run 3.2')\n",
    "plt.scatter(1000.0 / T7, tau7 / 1000.0, color='black', label='experiment')\n",
    "\n",
    "ax = plt.gca()\n",
    "ax.set_yscale('log')\n",
    "plt.legend()\n",
    "# plt.legend(['Mechanism 174', 'Base RMG', 'Aramco', 'Experiment'])\n",
    "# plt.legend(['RMG 24', 'RMG 1 week', 'Aramco', 'new calculation', 'Experiment'], loc=(1.04, 0))\n",
    "plt.title('Ignition Delays Phi=1.0')\n",
    "plt.xlabel('1000K / T')\n",
    "plt.ylabel('Delay (s)')\n",
    "plt.savefig('table7.png')\n",
    "plt.legend(bbox_to_anchor=(1, 1))"
   ]
  },
  {
   "cell_type": "markdown",
   "id": "861dcfcd",
   "metadata": {},
   "source": [
    "# plot all the peng data\n"
   ]
  },
  {
   "cell_type": "code",
   "execution_count": 3,
   "id": "52685bd8",
   "metadata": {},
   "outputs": [],
   "source": [
    "model_dirs = glob.glob('/work/westgroup/harris.se/autoscience/fuels/butane/official/butane_*')"
   ]
  },
  {
   "cell_type": "code",
   "execution_count": 4,
   "id": "09887e4f",
   "metadata": {},
   "outputs": [
    {
     "data": {
      "text/plain": [
       "['/work/westgroup/harris.se/autoscience/fuels/butane/official/butane_20240126',\n",
       " '/work/westgroup/harris.se/autoscience/fuels/butane/official/butane_20240315',\n",
       " '/work/westgroup/harris.se/autoscience/fuels/butane/official/butane_20240403',\n",
       " '/work/westgroup/harris.se/autoscience/fuels/butane/official/butane_20240410',\n",
       " '/work/westgroup/harris.se/autoscience/fuels/butane/official/butane_20240416',\n",
       " '/work/westgroup/harris.se/autoscience/fuels/butane/official/butane_20240423',\n",
       " '/work/westgroup/harris.se/autoscience/fuels/butane/official/butane_20240501']"
      ]
     },
     "execution_count": 4,
     "metadata": {},
     "output_type": "execute_result"
    }
   ],
   "source": [
    "model_dirs"
   ]
  },
  {
   "cell_type": "code",
   "execution_count": 5,
   "id": "f1c347da",
   "metadata": {},
   "outputs": [
    {
     "data": {
      "text/html": [
       "<div>\n",
       "<style scoped>\n",
       "    .dataframe tbody tr th:only-of-type {\n",
       "        vertical-align: middle;\n",
       "    }\n",
       "\n",
       "    .dataframe tbody tr th {\n",
       "        vertical-align: top;\n",
       "    }\n",
       "\n",
       "    .dataframe thead th {\n",
       "        text-align: right;\n",
       "    }\n",
       "</style>\n",
       "<table border=\"1\" class=\"dataframe\">\n",
       "  <thead>\n",
       "    <tr style=\"text-align: right;\">\n",
       "      <th></th>\n",
       "      <th>Table</th>\n",
       "      <th>%N2</th>\n",
       "      <th>%Ar</th>\n",
       "      <th>%CO2</th>\n",
       "      <th>partial pressure / bar</th>\n",
       "      <th>T_i (K)</th>\n",
       "      <th>CR?</th>\n",
       "      <th>chamber pressure? (bar)</th>\n",
       "      <th>T_C</th>\n",
       "      <th>time (us)</th>\n",
       "      <th>phi</th>\n",
       "      <th>nominal pressure(atm)</th>\n",
       "      <th>Unnamed: 12</th>\n",
       "      <th>Unnamed: 13</th>\n",
       "      <th>Unnamed: 14</th>\n",
       "    </tr>\n",
       "  </thead>\n",
       "  <tbody>\n",
       "    <tr>\n",
       "      <th>0</th>\n",
       "      <td>1.0</td>\n",
       "      <td>0.0</td>\n",
       "      <td>0.0</td>\n",
       "      <td>0.77385</td>\n",
       "      <td>NaN</td>\n",
       "      <td>1296.1</td>\n",
       "      <td>NaN</td>\n",
       "      <td>NaN</td>\n",
       "      <td>NaN</td>\n",
       "      <td>724.96552</td>\n",
       "      <td>0.5</td>\n",
       "      <td>1.0</td>\n",
       "      <td>NaN</td>\n",
       "      <td>NaN</td>\n",
       "      <td>NaN</td>\n",
       "    </tr>\n",
       "    <tr>\n",
       "      <th>1</th>\n",
       "      <td>1.0</td>\n",
       "      <td>0.0</td>\n",
       "      <td>0.0</td>\n",
       "      <td>0.77385</td>\n",
       "      <td>NaN</td>\n",
       "      <td>1416.9</td>\n",
       "      <td>NaN</td>\n",
       "      <td>NaN</td>\n",
       "      <td>NaN</td>\n",
       "      <td>88.00000</td>\n",
       "      <td>0.5</td>\n",
       "      <td>1.0</td>\n",
       "      <td>NaN</td>\n",
       "      <td>NaN</td>\n",
       "      <td>NaN</td>\n",
       "    </tr>\n",
       "    <tr>\n",
       "      <th>2</th>\n",
       "      <td>1.0</td>\n",
       "      <td>0.0</td>\n",
       "      <td>0.0</td>\n",
       "      <td>0.77385</td>\n",
       "      <td>NaN</td>\n",
       "      <td>1377.1</td>\n",
       "      <td>NaN</td>\n",
       "      <td>NaN</td>\n",
       "      <td>NaN</td>\n",
       "      <td>157.00000</td>\n",
       "      <td>0.5</td>\n",
       "      <td>1.0</td>\n",
       "      <td>NaN</td>\n",
       "      <td>NaN</td>\n",
       "      <td>NaN</td>\n",
       "    </tr>\n",
       "    <tr>\n",
       "      <th>3</th>\n",
       "      <td>1.0</td>\n",
       "      <td>0.0</td>\n",
       "      <td>0.0</td>\n",
       "      <td>0.77385</td>\n",
       "      <td>NaN</td>\n",
       "      <td>1358.0</td>\n",
       "      <td>NaN</td>\n",
       "      <td>NaN</td>\n",
       "      <td>NaN</td>\n",
       "      <td>209.00000</td>\n",
       "      <td>0.5</td>\n",
       "      <td>1.0</td>\n",
       "      <td>NaN</td>\n",
       "      <td>NaN</td>\n",
       "      <td>NaN</td>\n",
       "    </tr>\n",
       "    <tr>\n",
       "      <th>4</th>\n",
       "      <td>1.0</td>\n",
       "      <td>0.0</td>\n",
       "      <td>0.0</td>\n",
       "      <td>0.77385</td>\n",
       "      <td>NaN</td>\n",
       "      <td>1323.4</td>\n",
       "      <td>NaN</td>\n",
       "      <td>NaN</td>\n",
       "      <td>NaN</td>\n",
       "      <td>295.00000</td>\n",
       "      <td>0.5</td>\n",
       "      <td>1.0</td>\n",
       "      <td>NaN</td>\n",
       "      <td>NaN</td>\n",
       "      <td>NaN</td>\n",
       "    </tr>\n",
       "  </tbody>\n",
       "</table>\n",
       "</div>"
      ],
      "text/plain": [
       "   Table  %N2  %Ar     %CO2  partial pressure / bar  T_i (K)  CR?  \\\n",
       "0    1.0  0.0  0.0  0.77385                     NaN   1296.1  NaN   \n",
       "1    1.0  0.0  0.0  0.77385                     NaN   1416.9  NaN   \n",
       "2    1.0  0.0  0.0  0.77385                     NaN   1377.1  NaN   \n",
       "3    1.0  0.0  0.0  0.77385                     NaN   1358.0  NaN   \n",
       "4    1.0  0.0  0.0  0.77385                     NaN   1323.4  NaN   \n",
       "\n",
       "   chamber pressure? (bar)  T_C  time (us)  phi  nominal pressure(atm)  \\\n",
       "0                      NaN  NaN  724.96552  0.5                    1.0   \n",
       "1                      NaN  NaN   88.00000  0.5                    1.0   \n",
       "2                      NaN  NaN  157.00000  0.5                    1.0   \n",
       "3                      NaN  NaN  209.00000  0.5                    1.0   \n",
       "4                      NaN  NaN  295.00000  0.5                    1.0   \n",
       "\n",
       "   Unnamed: 12  Unnamed: 13  Unnamed: 14  \n",
       "0          NaN          NaN          NaN  \n",
       "1          NaN          NaN          NaN  \n",
       "2          NaN          NaN          NaN  \n",
       "3          NaN          NaN          NaN  \n",
       "4          NaN          NaN          NaN  "
      ]
     },
     "execution_count": 5,
     "metadata": {},
     "output_type": "execute_result"
    }
   ],
   "source": [
    "table7"
   ]
  },
  {
   "cell_type": "code",
   "execution_count": 26,
   "id": "6d30b7b8",
   "metadata": {},
   "outputs": [
    {
     "name": "stdout",
     "output_type": "stream",
     "text": [
      "11    1.0\n",
      "12    1.0\n",
      "13    1.0\n",
      "14    1.0\n",
      "15    1.0\n",
      "Name: phi, dtype: float64\n"
     ]
    },
    {
     "data": {
      "text/plain": [
       "Text(0, 0.5, 'Delay (s)')"
      ]
     },
     "execution_count": 26,
     "metadata": {},
     "output_type": "execute_result"
    },
    {
     "data": {
      "image/png": "[encoded data removed]",
      "text/plain": [
       "<Figure size 640x480 with 1 Axes>"
      ]
     },
     "metadata": {},
     "output_type": "display_data"
    }
   ],
   "source": [
    "ignition_delay_data = '/home/harris.se/peng_2021.csv'\n",
    "df_exp = pd.read_csv(ignition_delay_data)\n",
    "\n",
    "table_index = 3\n",
    "\n",
    "\n",
    "table7 = df_exp[df_exp['Table'] == table_index]\n",
    "tau7 = table7['time (us)'].values.astype(float) / 1000.0  # ignition delay\n",
    "T7 = table7['T_i (K)'].values  # Temperatures\n",
    "P7 = table7['nominal pressure(atm)'].values * ct.one_atm  # pressures in atm\n",
    "print(table7['phi'])\n",
    "\n",
    "# for model_index in range(len(model_dirs)):\n",
    "for model_index in [0, 6]:\n",
    "    npy_file = os.path.join(model_dirs[model_index], 'peng_2021', f'table_{table_index}.npy')\n",
    "    data = np.load(npy_file)\n",
    "    temperatures = data[0, :]\n",
    "    delays = data[1, :]\n",
    "    \n",
    "    # plot the ignition delay\n",
    "    plt.plot(1000.0 / temperatures, delays, label=model_index)\n",
    "\n",
    "# get that table's experimental data\n",
    "# says 15% error on ignition delay\n",
    "plt.scatter(1000.0 / T7, tau7 / 1000.0, color='black', label='experiment')\n",
    "\n",
    "for e in range(len(tau7)):\n",
    "    plt.errorbar(1000.0 / T7[e], tau7[e] / 1000.0, yerr=tau7[e] / 1000.0 * 0.15, color='black')\n",
    "\n",
    "\n",
    "ax = plt.gca()\n",
    "ax.set_yscale('log')\n",
    "plt.legend()\n",
    "plt.title(f'Ignition Delays Phi={table7[\"phi\"].values[table_index]}')\n",
    "plt.xlabel('1000K / T')\n",
    "plt.ylabel('Delay (s)')\n",
    "# plt.savefig('table7.png')\n",
    "# plt.legend(bbox_to_anchor=(1, 1))\n",
    "\n"
   ]
  },
  {
   "cell_type": "code",
   "execution_count": null,
   "id": "51a2799f",
   "metadata": {},
   "outputs": [],
   "source": [
    "temperatures"
   ]
  },
  {
   "cell_type": "code",
   "execution_count": null,
   "id": "b395d8db",
   "metadata": {},
   "outputs": [],
   "source": []
  },
  {
   "cell_type": "code",
   "execution_count": null,
   "id": "27c86325",
   "metadata": {},
   "outputs": [],
   "source": []
  },
  {
   "cell_type": "code",
   "execution_count": null,
   "id": "a5207dd4",
   "metadata": {},
   "outputs": [],
   "source": []
  }
 ],
 "metadata": {
  "kernelspec": {
   "display_name": "Python 3 (ipykernel)",
   "language": "python",
   "name": "python3"
  },
  "language_info": {
   "codemirror_mode": {
    "name": "ipython",
    "version": 3
   },
   "file_extension": ".py",
   "mimetype": "text/x-python",
   "name": "python",
   "nbconvert_exporter": "python",
   "pygments_lexer": "ipython3",
   "version": "3.7.16"
  }
 },
 "nbformat": 4,
 "nbformat_minor": 5
}

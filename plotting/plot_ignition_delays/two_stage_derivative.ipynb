{
 "cells": [
  {
   "cell_type": "code",
   "execution_count": 1,
   "id": "b1d22d97",
   "metadata": {},
   "outputs": [],
   "source": [
    "import os\n",
    "import cantera as ct\n",
    "import numpy as np\n",
    "import pandas as pd\n",
    "import concurrent.futures\n",
    "import scipy.signal\n",
    "\n",
    "import matplotlib.pyplot as plt\n",
    "%matplotlib inline"
   ]
  },
  {
   "cell_type": "code",
   "execution_count": 2,
   "id": "d994ac6e",
   "metadata": {},
   "outputs": [],
   "source": [
    "# Load the model\n",
    "model_dir = '/work/westgroup/harris.se/autoscience/fuels/butane/official/butane_20240126'\n",
    "# model_dir = '/work/westgroup/harris.se/autoscience/fuels/butane/official/butane_20240501'\n",
    "\n",
    "butane_yaml = os.path.join(model_dir, 'chem_annotated.yaml')\n",
    "perturbed_yaml = os.path.join(model_dir, 'perturbed.yaml')\n",
    "gas = ct.Solution(butane_yaml)\n",
    "perturbed = ct.Solution(perturbed_yaml)"
   ]
  },
  {
   "cell_type": "code",
   "execution_count": 3,
   "id": "7b8b41ea",
   "metadata": {},
   "outputs": [
    {
     "data": {
      "text/plain": [
       "'CC(CCOO)OO(182)'"
      ]
     },
     "execution_count": 3,
     "metadata": {},
     "output_type": "execute_result"
    }
   ],
   "source": [
    "gas.species_names[63]"
   ]
  },
  {
   "cell_type": "code",
   "execution_count": null,
   "id": "b0f0f469",
   "metadata": {},
   "outputs": [],
   "source": []
  },
  {
   "cell_type": "code",
   "execution_count": null,
   "id": "a7763168",
   "metadata": {},
   "outputs": [],
   "source": []
  },
  {
   "cell_type": "code",
   "execution_count": 5,
   "id": "982c9d7a",
   "metadata": {},
   "outputs": [
    {
     "name": "stdout",
     "output_type": "stream",
     "text": [
      "1.0\n"
     ]
    }
   ],
   "source": [
    "# Load the experimental conditions\n",
    "ignition_delay_data = '/work/westgroup/harris.se/autoscience/autoscience/butane/experimental_data/butane_ignition_delay.csv'\n",
    "df_exp = pd.read_csv(ignition_delay_data)\n",
    "\n",
    "# slice just table 7, where phi=1.0\n",
    "table7 = df_exp[df_exp['Table'] == 7]\n",
    "# Define Initial conditions using experimental data\n",
    "tau7 = table7['time (ms)'].values.astype(float)  # ignition delay\n",
    "T7 = table7['T_C'].values  # Temperatures\n",
    "P7 = table7['nominal pressure(atm)'].values * ct.one_atm  # pressures in atm\n",
    "\n",
    "\n",
    "# list of starting conditions\n",
    "# Mixture compositions taken from table 2 of\n",
    "# https://doi-org.ezproxy.neu.edu/10.1016/j.combustflame.2010.01.016\n",
    "concentrations = []\n",
    "# for phi = 1.0\n",
    "\n",
    "phi = table7['phi'].values.astype(float)[0]\n",
    "print(phi)\n",
    "\n",
    "x_diluent = 0.7649\n",
    "conc_dict = {\n",
    "    'O2(2)': 0.2038,\n",
    "    'butane(1)': 0.03135\n",
    "}\n",
    "\n",
    "\n",
    "for i in range(0, len(table7)):\n",
    "    x_N2 = table7['%N2'].values[i] / 100.0 * x_diluent\n",
    "    x_Ar = table7['%Ar'].values[i] / 100.0 * x_diluent\n",
    "    x_CO2 = table7['%CO2'].values[i] / 100.0 * x_diluent\n",
    "    conc_dict['N2'] = x_N2\n",
    "    conc_dict['Ar'] = x_Ar\n",
    "    conc_dict['CO2(7)'] = x_CO2\n",
    "    concentrations.append(conc_dict)"
   ]
  },
  {
   "cell_type": "code",
   "execution_count": null,
   "id": "d7497f0e",
   "metadata": {},
   "outputs": [],
   "source": []
  },
  {
   "cell_type": "code",
   "execution_count": null,
   "id": "96b03fb3",
   "metadata": {},
   "outputs": [],
   "source": []
  },
  {
   "cell_type": "code",
   "execution_count": null,
   "id": "3169a37d",
   "metadata": {},
   "outputs": [],
   "source": []
  },
  {
   "cell_type": "code",
   "execution_count": 6,
   "id": "ddfed00c",
   "metadata": {},
   "outputs": [
    {
     "name": "stdout",
     "output_type": "stream",
     "text": [
      "0.01040516328160063\n"
     ]
    },
    {
     "data": {
      "image/png": "[encoded data removed]",
      "text/plain": [
       "<Figure size 640x480 with 1 Axes>"
      ]
     },
     "metadata": {},
     "output_type": "display_data"
    }
   ],
   "source": [
    "gas = ct.Solution(butane_yaml)\n",
    "t_end = 1.0  # time in seconds\n",
    "# Ts = [1000]\n",
    "Ts = [861]\n",
    "# Ts = [750]\n",
    "delays = np.zeros(len(Ts))\n",
    "for j, T in enumerate(Ts):\n",
    "    P = P7[0]\n",
    "    X = concentrations[0]\n",
    "    # function to run a RCM simulation\n",
    "    gas.TPX = T, P, X\n",
    "\n",
    "    env = ct.Reservoir(ct.Solution('air.yaml'))\n",
    "    reactor = ct.IdealGasReactor(gas)\n",
    "    wall = ct.Wall(reactor, env, A=1.0, velocity=0)\n",
    "    reactor_net = ct.ReactorNet([reactor])\n",
    "    \n",
    "    reactor_net.atol = 1e-18\n",
    "    reactor_net.rtol = 1e-15\n",
    "\n",
    "    times1 = [0]\n",
    "    T = [reactor.T]\n",
    "    P1 = [reactor.thermo.P]\n",
    "    X = [reactor.thermo.X]  # mol fractions\n",
    "    while reactor_net.time < t_end:\n",
    "        reactor_net.step()\n",
    "\n",
    "        times1.append(reactor_net.time)\n",
    "        T.append(reactor.T)\n",
    "        P1.append(reactor.thermo.P)\n",
    "        X.append(reactor.thermo.X)\n",
    "\n",
    "    slopes = np.gradient(P1, times1)\n",
    "    plt.plot(times1, P1)\n",
    "    \n",
    "    threshold = np.percentile(slopes, 80)\n",
    "    # get 1st time it goes above this threshold\n",
    "#     spike_times = np.argwhere(slopes > threshold)\n",
    "\n",
    "    \n",
    "#     i = spike_times[0, 0]\n",
    "    i = np.argmax(slopes)\n",
    "    plt.vlines(times1[i], 2e6, 6e6, color='black')\n",
    "    delays[j] = times1[i]\n",
    "    plt.xlim([-0.1, 0.1])\n",
    "    print(times1[i])\n",
    "\n"
   ]
  },
  {
   "cell_type": "code",
   "execution_count": null,
   "id": "a2efc11a",
   "metadata": {},
   "outputs": [],
   "source": []
  },
  {
   "cell_type": "code",
   "execution_count": 7,
   "id": "a2c98270",
   "metadata": {},
   "outputs": [
    {
     "name": "stdout",
     "output_type": "stream",
     "text": [
      "<Species CC(CCOO)OO(182)>\n",
      "0.005873461559534886\n"
     ]
    },
    {
     "data": {
      "image/png": "[encoded data removed]",
      "text/plain": [
       "<Figure size 640x480 with 1 Axes>"
      ]
     },
     "metadata": {},
     "output_type": "display_data"
    }
   ],
   "source": [
    "gas = ct.Solution(butane_yaml)\n",
    "# gas.set_multiplier(1.1, 453 - len(gas.species()))\n",
    "# print(gas.reactions()[453 - len(gas.species())])\n",
    "\n",
    "sp_index = 63  # for model 1\n",
    "# sp_index = 72  # for model 7\n",
    "# sp_index = 5\n",
    "# sp_index = 19\n",
    "print(gas.species()[sp_index])\n",
    "\n",
    "\n",
    "gas.modify_species(sp_index, perturbed.species()[sp_index])\n",
    "\n",
    "t_end = 1.0  # time in seconds\n",
    "Ts = [861]\n",
    "delays = np.zeros(len(Ts))\n",
    "for j, T in enumerate(Ts):\n",
    "    P = P7[0]\n",
    "    X = concentrations[0]\n",
    "    # function to run a RCM simulation\n",
    "    gas.TPX = T, P, X\n",
    "\n",
    "    env = ct.Reservoir(ct.Solution('air.yaml'))\n",
    "    reactor = ct.IdealGasReactor(gas)\n",
    "    wall = ct.Wall(reactor, env, A=1.0, velocity=0)\n",
    "    reactor_net = ct.ReactorNet([reactor])\n",
    "    \n",
    "    reactor_net.atol = 1e-18\n",
    "    reactor_net.rtol = 1e-15\n",
    "\n",
    "    times2 = [0]\n",
    "    T = [reactor.T]\n",
    "    P2 = [reactor.thermo.P]\n",
    "    X = [reactor.thermo.X]  # mol fractions\n",
    "    while reactor_net.time < t_end:\n",
    "        reactor_net.step()\n",
    "\n",
    "        times2.append(reactor_net.time)\n",
    "        T.append(reactor.T)\n",
    "        P2.append(reactor.thermo.P)\n",
    "        X.append(reactor.thermo.X)\n",
    "\n",
    "    slopes = np.gradient(P2, times2)\n",
    "    plt.plot(times2, P2)\n",
    "    \n",
    "    threshold = np.percentile(slopes, 80)\n",
    "    # get 1st time it goes above this threshold\n",
    "#     spike_times = np.argwhere(slopes > threshold)\n",
    "\n",
    "    \n",
    "#     i = spike_times[0, 0]\n",
    "    i = np.argmax(slopes)\n",
    "    plt.vlines(times2[i], 2e6, 6e6, color='black')\n",
    "    plt.xlim([-0.1, 0.1])\n",
    "    delays[j] = times2[i]\n",
    "    print(times2[i])\n",
    "\n"
   ]
  },
  {
   "cell_type": "code",
   "execution_count": null,
   "id": "ae06409b",
   "metadata": {},
   "outputs": [],
   "source": [
    "plt.plot(times1, P1, label='Base Model')\n",
    "plt.plot(times2, P2, label='Perturbed')\n",
    "# plt.vlines(times[i], 2e6, 6e6, color='black')\n",
    "plt.xlim([-0.025, 0.1])\n",
    "plt.legend()\n",
    "plt.ylabel('Pressure (Pa)')\n",
    "plt.xlabel('Time (s)')"
   ]
  },
  {
   "cell_type": "code",
   "execution_count": null,
   "id": "45f647d9",
   "metadata": {},
   "outputs": [],
   "source": [
    "gas.species()[72]"
   ]
  },
  {
   "cell_type": "code",
   "execution_count": null,
   "id": "bd6711a3",
   "metadata": {},
   "outputs": [],
   "source": [
    "dir(gas)"
   ]
  },
  {
   "cell_type": "code",
   "execution_count": null,
   "id": "9e2294cd",
   "metadata": {},
   "outputs": [],
   "source": []
  },
  {
   "cell_type": "code",
   "execution_count": null,
   "id": "d8488e76",
   "metadata": {},
   "outputs": [],
   "source": []
  },
  {
   "cell_type": "code",
   "execution_count": null,
   "id": "4eeff5b5",
   "metadata": {},
   "outputs": [],
   "source": [
    "# if it's 2-stage ignition, there should be two narrow peaks here"
   ]
  },
  {
   "cell_type": "code",
   "execution_count": null,
   "id": "74ebed6b",
   "metadata": {},
   "outputs": [],
   "source": [
    "\n",
    "scipy.signal.find_peaks()"
   ]
  },
  {
   "cell_type": "code",
   "execution_count": null,
   "id": "1697e71c",
   "metadata": {},
   "outputs": [],
   "source": []
  },
  {
   "cell_type": "code",
   "execution_count": null,
   "id": "6c2d8eca",
   "metadata": {},
   "outputs": [],
   "source": []
  },
  {
   "cell_type": "code",
   "execution_count": null,
   "id": "8db2b6f5",
   "metadata": {},
   "outputs": [],
   "source": [
    "plt.plot(times, P)\n",
    "# plt.xlim(xlim)"
   ]
  },
  {
   "cell_type": "code",
   "execution_count": null,
   "id": "aa6c9d4a",
   "metadata": {},
   "outputs": [],
   "source": [
    "times"
   ]
  },
  {
   "cell_type": "code",
   "execution_count": null,
   "id": "c6c408b4",
   "metadata": {},
   "outputs": [],
   "source": [
    "slopes_sorted = np.sort(slopes)"
   ]
  },
  {
   "cell_type": "code",
   "execution_count": null,
   "id": "131f0889",
   "metadata": {},
   "outputs": [],
   "source": [
    "plt.plot(slopes_sorted)"
   ]
  },
  {
   "cell_type": "code",
   "execution_count": null,
   "id": "a8b95f1f",
   "metadata": {},
   "outputs": [],
   "source": []
  },
  {
   "cell_type": "code",
   "execution_count": null,
   "id": "e4b9a0e2",
   "metadata": {},
   "outputs": [],
   "source": []
  },
  {
   "cell_type": "code",
   "execution_count": null,
   "id": "055d5106",
   "metadata": {},
   "outputs": [],
   "source": [
    "plt.plot(times, P)"
   ]
  },
  {
   "cell_type": "code",
   "execution_count": null,
   "id": "f2b2ffa6",
   "metadata": {},
   "outputs": [],
   "source": [
    "slopes = np.gradient(P, times)\n",
    "slopes_sorted = np.sort(slopes)\n",
    "\n",
    "threshold = np.percentile(slopes, 95)\n",
    "# get 1st time it goes above this threshold\n",
    "spike_times = np.argwhere(slopes > threshold)\n",
    "\n",
    "# print(spike_times)\n",
    "\n",
    "print(times[spike_times[0, 0]])"
   ]
  },
  {
   "cell_type": "code",
   "execution_count": null,
   "id": "42adcc53",
   "metadata": {},
   "outputs": [],
   "source": [
    "slopes_sorted[-10:]"
   ]
  },
  {
   "cell_type": "code",
   "execution_count": null,
   "id": "ae5e4542",
   "metadata": {},
   "outputs": [],
   "source": [
    "len(np.gradient(P, times))"
   ]
  },
  {
   "cell_type": "code",
   "execution_count": null,
   "id": "13c5825d",
   "metadata": {},
   "outputs": [],
   "source": [
    "plt.plot(times, slopes)"
   ]
  },
  {
   "cell_type": "code",
   "execution_count": null,
   "id": "4c7b4407",
   "metadata": {},
   "outputs": [],
   "source": []
  },
  {
   "cell_type": "code",
   "execution_count": null,
   "id": "731afde6",
   "metadata": {},
   "outputs": [],
   "source": [
    "# get the 95th percentile slope value:\n",
    "np.percentile(slopes, 95)\n"
   ]
  },
  {
   "cell_type": "code",
   "execution_count": null,
   "id": "2fde78ea",
   "metadata": {},
   "outputs": [],
   "source": []
  },
  {
   "cell_type": "code",
   "execution_count": null,
   "id": "0f7fdd4f",
   "metadata": {},
   "outputs": [],
   "source": [
    "plt.plot(slopes_sorted)"
   ]
  },
  {
   "cell_type": "code",
   "execution_count": null,
   "id": "59fe1973",
   "metadata": {},
   "outputs": [],
   "source": []
  },
  {
   "cell_type": "code",
   "execution_count": null,
   "id": "2d20f1ee",
   "metadata": {},
   "outputs": [],
   "source": [
    "# Look at distribution of top 10 slopes\n",
    "\n",
    "\n"
   ]
  },
  {
   "cell_type": "code",
   "execution_count": null,
   "id": "5c2f87fb",
   "metadata": {},
   "outputs": [],
   "source": []
  },
  {
   "cell_type": "code",
   "execution_count": null,
   "id": "29ee4c22",
   "metadata": {},
   "outputs": [],
   "source": []
  },
  {
   "cell_type": "code",
   "execution_count": null,
   "id": "79db95e6",
   "metadata": {},
   "outputs": [],
   "source": [
    "plt.hist(slopes)"
   ]
  },
  {
   "cell_type": "code",
   "execution_count": null,
   "id": "1f24346b",
   "metadata": {},
   "outputs": [],
   "source": []
  },
  {
   "cell_type": "code",
   "execution_count": null,
   "id": "4cb6d84f",
   "metadata": {},
   "outputs": [],
   "source": []
  },
  {
   "cell_type": "code",
   "execution_count": null,
   "id": "42fdbca1",
   "metadata": {},
   "outputs": [],
   "source": []
  },
  {
   "cell_type": "code",
   "execution_count": null,
   "id": "2ad8caf8",
   "metadata": {},
   "outputs": [],
   "source": []
  },
  {
   "cell_type": "code",
   "execution_count": null,
   "id": "83741026",
   "metadata": {},
   "outputs": [],
   "source": [
    "Ts"
   ]
  },
  {
   "cell_type": "code",
   "execution_count": null,
   "id": "ff8bd7ff",
   "metadata": {},
   "outputs": [],
   "source": [
    "# plot the ignition delay\n",
    "plt.plot(1000.0 / np.array(Ts), delays, marker='o', label='Run 4')\n",
    "\n",
    "# plt.plot(1000.0 / temperatures, base_delays, marker='o', label='Run 4 base')\n",
    "plt.scatter(1000.0 / T7, tau7 / 1000.0, color='black', label='experiment')\n",
    "\n",
    "ax = plt.gca()\n",
    "ax.set_yscale('log')\n",
    "plt.legend()\n",
    "# plt.legend(['Mechanism 174', 'Base RMG', 'Aramco', 'Experiment'])\n",
    "# plt.legend(['RMG 24', 'RMG 1 week', 'Aramco', 'new calculation', 'Experiment'], loc=(1.04, 0))\n",
    "# plt.title('Ignition Delays Phi=1.0')\n",
    "plt.xlabel('1000K / T')\n",
    "plt.ylabel('Delay (s)')\n",
    "plt.legend(bbox_to_anchor=(1, 1))"
   ]
  },
  {
   "cell_type": "code",
   "execution_count": null,
   "id": "d6e72078",
   "metadata": {},
   "outputs": [],
   "source": []
  },
  {
   "cell_type": "code",
   "execution_count": null,
   "id": "e7fb461a",
   "metadata": {},
   "outputs": [],
   "source": []
  }
 ],
 "metadata": {
  "kernelspec": {
   "display_name": "Python 3 (ipykernel)",
   "language": "python",
   "name": "python3"
  },
  "language_info": {
   "codemirror_mode": {
    "name": "ipython",
    "version": 3
   },
   "file_extension": ".py",
   "mimetype": "text/x-python",
   "name": "python",
   "nbconvert_exporter": "python",
   "pygments_lexer": "ipython3",
   "version": "3.7.16"
  }
 },
 "nbformat": 4,
 "nbformat_minor": 5
}

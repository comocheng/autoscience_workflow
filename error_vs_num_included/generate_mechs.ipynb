{
 "cells": [
  {
   "cell_type": "code",
   "execution_count": null,
   "id": "2afaeff7",
   "metadata": {},
   "outputs": [],
   "source": [
    "# script to generate 20 mechanisms with the top 20 parameters to include"
   ]
  },
  {
   "cell_type": "markdown",
   "id": "742fbd91",
   "metadata": {},
   "source": [
    "# generate the lists of top parameters"
   ]
  },
  {
   "cell_type": "code",
   "execution_count": 1,
   "id": "6102a89f",
   "metadata": {},
   "outputs": [],
   "source": [
    "import os\n",
    "import sys\n",
    "import copy\n",
    "import pickle\n",
    "import subprocess\n",
    "\n",
    "import numpy as np\n",
    "import rmgpy.chemkin\n",
    "\n",
    "import matplotlib.pyplot as plt\n",
    "%matplotlib inline"
   ]
  },
  {
   "cell_type": "code",
   "execution_count": 2,
   "id": "3ccd8d01",
   "metadata": {},
   "outputs": [],
   "source": [
    "basedir = '/home/moon/autoscience/autoscience/butane/models/rmg_model'\n",
    "\n",
    "base_chemkin = os.path.join(basedir, 'chem_annotated.inp')\n",
    "dictionary = os.path.join(basedir, 'species_dictionary.txt')\n",
    "transport = os.path.join(basedir, 'tran.dat')\n",
    "\n",
    "species_list, reaction_list = rmgpy.chemkin.load_chemkin_file(base_chemkin, dictionary_path=dictionary, transport_path=transport)\n",
    "\n",
    "\n"
   ]
  },
  {
   "cell_type": "code",
   "execution_count": 3,
   "id": "3fe0f580",
   "metadata": {},
   "outputs": [],
   "source": [
    "# get most uncertain reactions\n",
    "covariance_file = '/home/moon/autoscience/autoscience/uncertainty/butane_covariance.pickle'\n",
    "with open(covariance_file, 'rb') as handle:\n",
    "    Sigma_k = pickle.load(handle)\n",
    "uncorrelated_uncertainties = np.diagonal(Sigma_k)\n",
    "\n",
    "reaction_indices = np.arange(0, len(reaction_list))\n",
    "reaction_uncertainty_order = [x for _,x in sorted(zip(uncorrelated_uncertainties, reaction_indices))][::-1]"
   ]
  },
  {
   "cell_type": "code",
   "execution_count": 4,
   "id": "cdbf034c",
   "metadata": {},
   "outputs": [],
   "source": [
    "# get most sensitive reactions\n",
    "base_delay = 0.14857535\n",
    "reaction_delay_file = '/home/moon/autoscience/autoscience/butane/sensitivity_analysis/base_rmg24/reaction_ignition_delays_raw.npy'\n",
    "reaction_delays_raw = np.load(reaction_delay_file)\n",
    "reaction_sensitivities = ((reaction_delays_raw - base_delay) / base_delay) / 0.1\n",
    "\n",
    "reaction_sensitivity_order = [x for _,x in sorted(zip(np.abs(reaction_sensitivities), reaction_indices))][::-1]\n"
   ]
  },
  {
   "cell_type": "code",
   "execution_count": 5,
   "id": "1630843c",
   "metadata": {},
   "outputs": [],
   "source": [
    "# Calculate Improvement Score\n",
    "DFT_error = 3.0\n",
    "improvement_score = np.abs(reaction_sensitivities) * (uncorrelated_uncertainties - DFT_error)\n",
    "improvement_score_order = [x for _,x in sorted(zip(improvement_score, reaction_indices))][::-1]\n",
    "\n",
    "improvement_score2 = np.abs(10.0 * reaction_sensitivities) * (uncorrelated_uncertainties - DFT_error)\n",
    "improvement_score2_order = [x for _,x in sorted(zip(improvement_score2, reaction_indices))][::-1]"
   ]
  },
  {
   "cell_type": "code",
   "execution_count": null,
   "id": "8b44e006",
   "metadata": {},
   "outputs": [],
   "source": []
  },
  {
   "cell_type": "code",
   "execution_count": 6,
   "id": "40164c66",
   "metadata": {
    "scrolled": true
   },
   "outputs": [
    {
     "name": "stdout",
     "output_type": "stream",
     "text": [
      "0 \t 915 \t 0.007883121305653079\n",
      "1 \t 749 \t 0.004083188330406335\n",
      "2 \t 324 \t 0.002648895453236761\n",
      "3 \t 419 \t 0.0022762961823394883\n",
      "4 \t 1814 \t 0.0015613539828551305\n",
      "5 \t 1287 \t 0.001453242878526699\n",
      "6 \t 748 \t 0.0006130371042672301\n",
      "7 \t 1288 \t 0.000594059913355347\n",
      "8 \t 370 \t 0.00044590113075130845\n",
      "9 \t 1103 \t 0.00015474545400447474\n"
     ]
    }
   ],
   "source": [
    "improved = []\n",
    "for i in range(0, 10):\n",
    "    rmg_index = improvement_score_order[i]\n",
    "    print(i, '\\t', rmg_index, '\\t', improvement_score[rmg_index])\n",
    "    improved.append(rmg_index)"
   ]
  },
  {
   "cell_type": "code",
   "execution_count": 7,
   "id": "130211ab",
   "metadata": {},
   "outputs": [],
   "source": [
    "# get most uncertain species\n",
    "species_uncertainty = '/home/moon/autoscience/autoscience/paper/models/base_rmg/thermo_uncertainty.npy'\n",
    "species_indices = np.arange(0, len(reaction_list))\n",
    "uncorrelated_species_uncertainties = np.load(species_uncertainty)\n",
    "species_uncertainty_order = [x for _,x in sorted(zip(uncorrelated_species_uncertainties, species_indices))][::-1]"
   ]
  },
  {
   "cell_type": "code",
   "execution_count": 8,
   "id": "bd122fdb",
   "metadata": {},
   "outputs": [],
   "source": [
    "# get most sensitive species\n",
    "base_delay = 0.14857535\n",
    "species_delay_file = '/home/moon/autoscience/autoscience/butane/sensitivity_analysis/base_rmg24/species_ignition_delays_raw.npy'\n",
    "species_delays_raw = np.load(species_delay_file)\n",
    "species_sensitivities = ((species_delays_raw - base_delay) / base_delay) / 0.1\n",
    "\n",
    "species_sensitivity_order = [x for _,x in sorted(zip(np.abs(species_sensitivities), species_indices))][::-1]\n"
   ]
  },
  {
   "cell_type": "code",
   "execution_count": 9,
   "id": "8baf0d3f",
   "metadata": {},
   "outputs": [],
   "source": [
    "# Calculate Improvement Score\n",
    "DFT_error = 3.0\n",
    "species_improvement_score = np.abs(species_sensitivities) * (uncorrelated_species_uncertainties - DFT_error)\n",
    "species_improvement_score_order = [x for _,x in sorted(zip(species_improvement_score, species_indices))][::-1]"
   ]
  },
  {
   "cell_type": "code",
   "execution_count": 10,
   "id": "3cb42b92",
   "metadata": {},
   "outputs": [],
   "source": [
    "# concatenate species then reactions to sort total\n",
    "total_sensitivities = np.concatenate((species_sensitivities, reaction_sensitivities))\n",
    "total_uncertainties = np.concatenate((uncorrelated_species_uncertainties, uncorrelated_uncertainties))\n",
    "total_indices = np.arange(0, len(species_list) + len(reaction_list))\n",
    "\n",
    "\n",
    "total_improvement_score = np.abs(total_sensitivities) * (total_uncertainties - DFT_error)\n",
    "total_improvement_score_order = [x for _,x in sorted(zip(total_improvement_score, total_indices))][::-1]\n"
   ]
  },
  {
   "cell_type": "code",
   "execution_count": 12,
   "id": "0b497f7a",
   "metadata": {},
   "outputs": [
    {
     "name": "stdout",
     "output_type": "stream",
     "text": [
      "0 \t 87 \t 0.020254167848866477\n",
      "1 \t 915 \t -0.001128060796644457\n",
      "2 \t 749 \t 1.0743988765300556e-06\n",
      "3 \t 324 \t 1.9227460160988265e-07\n",
      "4 \t 419 \t -0.0\n",
      "5 \t 1814 \t -0.009443727926597801\n",
      "6 \t 1287 \t -5.746592936397052e-07\n",
      "7 \t 748 \t -0.0\n",
      "8 \t 1288 \t -5.073838374611917e-07\n",
      "9 \t 370 \t -0.020650526323552756\n",
      "10 \t 1103 \t -2.0328389238283784e-07\n",
      "11 \t 371 \t -1.7324634498133803e-06\n",
      "12 \t 213 \t -1.4022908541539726e-06\n",
      "13 \t 90 \t 0.0001160033726856022\n",
      "14 \t 420 \t -0.0\n",
      "15 \t 581 \t -0.0\n",
      "16 \t 464 \t -0.15648536594699425\n",
      "17 \t 1289 \t 2.9453344361346544e-07\n",
      "18 \t 109 \t 1.8517165051677447e-05\n",
      "19 \t 720 \t -0.0011090934417141542\n",
      "20 \t 722 \t -0.0\n",
      "21 \t 1658 \t 1.5884294358755427e-06\n",
      "22 \t 574 \t 2.528392494221218e-05\n",
      "23 \t 725 \t -4.319491389225878e-08\n",
      "24 \t 1736 \t -0.0\n",
      "25 \t 418 \t -0.0\n",
      "26 \t 1290 \t -8.072853901962475e-09\n",
      "27 \t 1721 \t -0.0\n",
      "28 \t 1665 \t 1.3214305506556732e-06\n",
      "29 \t 1685 \t -0.0\n",
      "30 \t 427 \t -1.0381252897766913\n",
      "31 \t 1714 \t -0.0\n",
      "32 \t 1766 \t -0.00026372493182079436\n",
      "33 \t 655 \t -1.0348761905653043e-05\n",
      "34 \t 1773 \t -3.0425310516520015e-07\n",
      "35 \t 1003 \t -3.744677417154559e-07\n",
      "36 \t 650 \t -0.0\n",
      "37 \t 99 \t 2.9407499435400416e-06\n",
      "38 \t 985 \t -3.7877562860381435e-07\n",
      "39 \t 918 \t -0.0006822761551286869\n",
      "40 \t 585 \t -0.0\n",
      "41 \t 692 \t 3.8720753715717945e-07\n",
      "42 \t 1532 \t -0.0\n",
      "43 \t 1326 \t -4.425391346456376e-08\n",
      "44 \t 1578 \t -0.0\n",
      "45 \t 1428 \t -6.049980885567468e-07\n",
      "46 \t 916 \t 2.0925161905104236e-07\n",
      "47 \t 595 \t -3.7554542108370825e-07\n",
      "48 \t 693 \t 1.6623239308214281e-06\n",
      "49 \t 1242 \t -0.0\n"
     ]
    }
   ],
   "source": [
    "for i in range(0, 50):\n",
    "    rmg_index = total_improvement_score_order[i]\n",
    "    if rmg_index > 110:\n",
    "        rmg_index -= 110\n",
    "    print(i, '\\t', rmg_index, '\\t', total_improvement_score[rmg_index])\n"
   ]
  },
  {
   "cell_type": "code",
   "execution_count": null,
   "id": "9429a4dc",
   "metadata": {},
   "outputs": [],
   "source": []
  },
  {
   "cell_type": "code",
   "execution_count": null,
   "id": "d9598e77",
   "metadata": {},
   "outputs": [],
   "source": [
    "total_improvement_score_order[31] - len(species_list)"
   ]
  },
  {
   "cell_type": "code",
   "execution_count": null,
   "id": "13aa056f",
   "metadata": {},
   "outputs": [],
   "source": []
  },
  {
   "cell_type": "code",
   "execution_count": null,
   "id": "122019b9",
   "metadata": {},
   "outputs": [],
   "source": [
    "total_improvement_score2 = np.abs(10.0 * total_sensitivities) * (total_uncertainties - DFT_error)\n",
    "total_improvement_score2_order = [x for _,x in sorted(zip(total_improvement_score2, total_indices))][::-1]"
   ]
  },
  {
   "cell_type": "code",
   "execution_count": 13,
   "id": "33ce6bb4",
   "metadata": {},
   "outputs": [
    {
     "name": "stdout",
     "output_type": "stream",
     "text": [
      "48 kinetics entries loaded\n"
     ]
    }
   ],
   "source": [
    "# check which of the top 50 reactions weren't successfully calculated\n",
    "\n",
    "DFT_DIR = \"/home/moon/autoscience/autoscience/butane/dft/\"\n",
    "DFT_DIR = \"/home/moon/autoscience/reaction_calculator/dft\"\n",
    "kinetics_lib = os.path.join(DFT_DIR, 'kinetics', 'kinetics')\n",
    "ark_kinetics_database = rmgpy.data.kinetics.KineticsDatabase()\n",
    "ark_kinetics_database.load_libraries(kinetics_lib)\n",
    "print(f'{len(ark_kinetics_database.libraries[\"\"].entries)} kinetics entries loaded')"
   ]
  },
  {
   "cell_type": "code",
   "execution_count": 14,
   "id": "0e9345cb",
   "metadata": {},
   "outputs": [
    {
     "data": {
      "image/png": "[encoded data removed]",
      "text/plain": [
       "LibraryReaction(index=1, reactants=[Species(index=2, label=\"O2\", thermo=NASA(polynomials=[NASAPolynomial(coeffs=[3.53764,-0.00122828,5.36759e-06,-4.93128e-09,1.45955e-12,-1037.99,4.6718], Tmin=(100,'K'), Tmax=(1087.71,'K')), NASAPolynomial(coeffs=[3.16427,0.00169454,-8.00335e-07,1.5903e-10,-1.14891e-14,-1048.45,6.08303], Tmin=(1087.71,'K'), Tmax=(5000,'K'))], Tmin=(100,'K'), Tmax=(5000,'K'), comment=\"\"\"Thermo library: BurkeH2O2\"\"\"), molecule=[Molecule(smiles=\"[O][O]\")], transport_data=TransportData(shapeIndex=1, epsilon=(887.154,'J/mol'), sigma=(3.467,'angstrom'), dipoleMoment=(0,'De'), polarizability=(0,'angstrom^3'), rotrelaxcollnum=0.0, comment=\"\"\"PrimaryTransportLibrary\"\"\"), molecular_weight=(31.9988,'amu')), Species(index=14, label=\"H\", thermo=NASA(polynomials=[NASAPolynomial(coeffs=[2.5,-1.87769e-11,2.35957e-14,-9.62804e-18,1.20728e-21,25472.7,-0.459566], Tmin=(100,'K'), Tmax=(4762.74,'K')), NASAPolynomial(coeffs=[2.87627,-0.00031258,9.73655e-08,-1.34776e-11,6.99516e-16,25110.4,-2.86621], Tmin=(4762.74,'K'), Tmax=(5000,'K'))], Tmin=(100,'K'), Tmax=(5000,'K'), comment=\"\"\"Thermo library: BurkeH2O2\"\"\"), molecule=[Molecule(smiles=\"[H]\")], transport_data=TransportData(shapeIndex=0, epsilon=(1205.6,'J/mol'), sigma=(2.05,'angstrom'), dipoleMoment=(0,'De'), polarizability=(0,'angstrom^3'), rotrelaxcollnum=0.0, comment=\"\"\"GRI-Mech\"\"\"), molecular_weight=(1.00797,'amu'))], products=[Species(index=5, label=\"O\", thermo=NASA(polynomials=[NASAPolynomial(coeffs=[2.5,-1.87769e-11,2.35957e-14,-9.62804e-18,1.20728e-21,29226.7,5.11107], Tmin=(100,'K'), Tmax=(4762.74,'K')), NASAPolynomial(coeffs=[2.87627,-0.00031258,9.73655e-08,-1.34776e-11,6.99516e-16,28864.4,2.70442], Tmin=(4762.74,'K'), Tmax=(5000,'K'))], Tmin=(100,'K'), Tmax=(5000,'K'), comment=\"\"\"Thermo library: BurkeH2O2\"\"\"), molecule=[Molecule(smiles=\"[O]\")], transport_data=TransportData(shapeIndex=0, epsilon=(665.158,'J/mol'), sigma=(2.75,'angstrom'), dipoleMoment=(0,'De'), polarizability=(0,'angstrom^3'), rotrelaxcollnum=0.0, comment=\"\"\"GRI-Mech\"\"\"), molecular_weight=(15.9994,'amu')), Species(index=15, label=\"OH\", thermo=NASA(polynomials=[NASAPolynomial(coeffs=[3.4858,0.00133391,-4.70022e-06,5.64351e-09,-2.06306e-12,3411.96,1.99786], Tmin=(100,'K'), Tmax=(1005.26,'K')), NASAPolynomial(coeffs=[2.88223,0.00103872,-2.35672e-07,1.40278e-11,6.34181e-16,3669.57,5.59065], Tmin=(1005.26,'K'), Tmax=(5000,'K'))], Tmin=(100,'K'), Tmax=(5000,'K'), comment=\"\"\"Thermo library: BurkeH2O2\"\"\"), molecule=[Molecule(smiles=\"[OH]\")], transport_data=TransportData(shapeIndex=1, epsilon=(665.158,'J/mol'), sigma=(2.75,'angstrom'), dipoleMoment=(0,'De'), polarizability=(0,'angstrom^3'), rotrelaxcollnum=0.0, comment=\"\"\"GRI-Mech\"\"\"), molecular_weight=(17.0074,'amu'))], kinetics=Arrhenius(A=(1.04e+14,'cm^3/(mol*s)'), n=0, Ea=(15.286,'kcal/mol'), T0=(1,'K')), pairs=[(Species(index=2, label=\"O2\", thermo=NASA(polynomials=[NASAPolynomial(coeffs=[3.53764,-0.00122828,5.36759e-06,-4.93128e-09,1.45955e-12,-1037.99,4.6718], Tmin=(100,'K'), Tmax=(1087.71,'K')), NASAPolynomial(coeffs=[3.16427,0.00169454,-8.00335e-07,1.5903e-10,-1.14891e-14,-1048.45,6.08303], Tmin=(1087.71,'K'), Tmax=(5000,'K'))], Tmin=(100,'K'), Tmax=(5000,'K'), comment=\"\"\"Thermo library: BurkeH2O2\"\"\"), molecule=[Molecule(smiles=\"[O][O]\")], transport_data=TransportData(shapeIndex=1, epsilon=(887.154,'J/mol'), sigma=(3.467,'angstrom'), dipoleMoment=(0,'De'), polarizability=(0,'angstrom^3'), rotrelaxcollnum=0.0, comment=\"\"\"PrimaryTransportLibrary\"\"\"), molecular_weight=(31.9988,'amu')), Species(index=15, label=\"OH\", thermo=NASA(polynomials=[NASAPolynomial(coeffs=[3.4858,0.00133391,-4.70022e-06,5.64351e-09,-2.06306e-12,3411.96,1.99786], Tmin=(100,'K'), Tmax=(1005.26,'K')), NASAPolynomial(coeffs=[2.88223,0.00103872,-2.35672e-07,1.40278e-11,6.34181e-16,3669.57,5.59065], Tmin=(1005.26,'K'), Tmax=(5000,'K'))], Tmin=(100,'K'), Tmax=(5000,'K'), comment=\"\"\"Thermo library: BurkeH2O2\"\"\"), molecule=[Molecule(smiles=\"[OH]\")], transport_data=TransportData(shapeIndex=1, epsilon=(665.158,'J/mol'), sigma=(2.75,'angstrom'), dipoleMoment=(0,'De'), polarizability=(0,'angstrom^3'), rotrelaxcollnum=0.0, comment=\"\"\"GRI-Mech\"\"\"), molecular_weight=(17.0074,'amu'))), (Species(index=14, label=\"H\", thermo=NASA(polynomials=[NASAPolynomial(coeffs=[2.5,-1.87769e-11,2.35957e-14,-9.62804e-18,1.20728e-21,25472.7,-0.459566], Tmin=(100,'K'), Tmax=(4762.74,'K')), NASAPolynomial(coeffs=[2.87627,-0.00031258,9.73655e-08,-1.34776e-11,6.99516e-16,25110.4,-2.86621], Tmin=(4762.74,'K'), Tmax=(5000,'K'))], Tmin=(100,'K'), Tmax=(5000,'K'), comment=\"\"\"Thermo library: BurkeH2O2\"\"\"), molecule=[Molecule(smiles=\"[H]\")], transport_data=TransportData(shapeIndex=0, epsilon=(1205.6,'J/mol'), sigma=(2.05,'angstrom'), dipoleMoment=(0,'De'), polarizability=(0,'angstrom^3'), rotrelaxcollnum=0.0, comment=\"\"\"GRI-Mech\"\"\"), molecular_weight=(1.00797,'amu')), Species(index=5, label=\"O\", thermo=NASA(polynomials=[NASAPolynomial(coeffs=[2.5,-1.87769e-11,2.35957e-14,-9.62804e-18,1.20728e-21,29226.7,5.11107], Tmin=(100,'K'), Tmax=(4762.74,'K')), NASAPolynomial(coeffs=[2.87627,-0.00031258,9.73655e-08,-1.34776e-11,6.99516e-16,28864.4,2.70442], Tmin=(4762.74,'K'), Tmax=(5000,'K'))], Tmin=(100,'K'), Tmax=(5000,'K'), comment=\"\"\"Thermo library: BurkeH2O2\"\"\"), molecule=[Molecule(smiles=\"[O]\")], transport_data=TransportData(shapeIndex=0, epsilon=(665.158,'J/mol'), sigma=(2.75,'angstrom'), dipoleMoment=(0,'De'), polarizability=(0,'angstrom^3'), rotrelaxcollnum=0.0, comment=\"\"\"GRI-Mech\"\"\"), molecular_weight=(15.9994,'amu')))])"
      ]
     },
     "metadata": {},
     "output_type": "display_data"
    }
   ],
   "source": [
    "display(reaction_list[0])"
   ]
  },
  {
   "cell_type": "code",
   "execution_count": 15,
   "id": "598ba976",
   "metadata": {},
   "outputs": [
    {
     "name": "stdout",
     "output_type": "stream",
     "text": [
      "no reaction calculated for Disproportionation, 915\n"
     ]
    },
    {
     "data": {
      "image/png": "[encoded data removed]",
      "text/plain": [
       "TemplateReaction(index=944, reactants=[Species(index=2, label=\"O2\", thermo=NASA(polynomials=[NASAPolynomial(coeffs=[3.53764,-0.00122828,5.36759e-06,-4.93128e-09,1.45955e-12,-1037.99,4.6718], Tmin=(100,'K'), Tmax=(1087.71,'K')), NASAPolynomial(coeffs=[3.16427,0.00169454,-8.00335e-07,1.5903e-10,-1.14891e-14,-1048.45,6.08303], Tmin=(1087.71,'K'), Tmax=(5000,'K'))], Tmin=(100,'K'), Tmax=(5000,'K'), comment=\"\"\"Thermo library: BurkeH2O2\"\"\"), molecule=[Molecule(smiles=\"[O][O]\")], transport_data=TransportData(shapeIndex=1, epsilon=(887.154,'J/mol'), sigma=(3.467,'angstrom'), dipoleMoment=(0,'De'), polarizability=(0,'angstrom^3'), rotrelaxcollnum=0.0, comment=\"\"\"PrimaryTransportLibrary\"\"\"), molecular_weight=(31.9988,'amu')), Species(index=777, label=\"CC(CC[O])OO\", thermo=NASA(polynomials=[NASAPolynomial(coeffs=[1.52838,0.0649818,-2.85069e-05,-6.32028e-08,7.58891e-11,-21497.7,25.3392], Tmin=(100,'K'), Tmax=(473.59,'K')), NASAPolynomial(coeffs=[5.86388,0.045611,-2.17807e-05,4.22577e-09,-2.97573e-13,-22101.8,5.6213], Tmin=(473.59,'K'), Tmax=(5000,'K'))], Tmin=(100,'K'), Tmax=(5000,'K'), comment=\"\"\"Thermo group additivity estimation: group(O2s-OsCs) + group(O2s-CsH) + group(O2s-OsH) + group(Cs-CsCsOsH) + group(Cs-CsCsHH) + group(Cs-CsOsHH) +\n",
       "group(Cs-CsHHH) + radical(CCOJ)\"\"\"), molecule=[Molecule(smiles=\"CC(CC[O])OO\")], transport_data=TransportData(shapeIndex=2, epsilon=(4219.77,'J/mol'), sigma=(7.07,'angstrom'), dipoleMoment=(0,'De'), polarizability=(0,'angstrom^3'), rotrelaxcollnum=0.0, comment=\"\"\"Epsilon & sigma estimated with Tc=659.12 K, Pc=27.1 bar (from Joback method)\"\"\"), molecular_weight=(105.113,'amu'))], products=[Species(index=16, label=\"HO2\", thermo=NASA(polynomials=[NASAPolynomial(coeffs=[4.02957,-0.00263999,1.52236e-05,-1.71679e-08,6.26772e-12,322.677,4.84424], Tmin=(100,'K'), Tmax=(923.9,'K')), NASAPolynomial(coeffs=[4.1513,0.00191152,-4.11308e-07,6.35039e-11,-4.86454e-15,83.4343,3.09359], Tmin=(923.9,'K'), Tmax=(5000,'K'))], Tmin=(100,'K'), Tmax=(5000,'K'), comment=\"\"\"Thermo library: BurkeH2O2\"\"\"), molecule=[Molecule(smiles=\"[O]O\")], transport_data=TransportData(shapeIndex=2, epsilon=(892.974,'J/mol'), sigma=(3.458,'angstrom'), dipoleMoment=(0,'De'), polarizability=(0,'angstrom^3'), rotrelaxcollnum=1.0, comment=\"\"\"GRI-Mech\"\"\"), molecular_weight=(33.0068,'amu')), Species(index=252, label=\"NC4KET13\", thermo=NASA(polynomials=[NASAPolynomial(coeffs=[5.01329,0.0446936,-1.93603e-05,9.36915e-10,8.79545e-13,-40111.6,8.45811], Tmin=(200,'K'), Tmax=(1359,'K')), NASAPolynomial(coeffs=[20.5329,0.0177924,-6.33304e-06,1.0098e-09,-5.96861e-14,-46451.6,-78.2394], Tmin=(1359,'K'), Tmax=(5000,'K'))], Tmin=(200,'K'), Tmax=(5000,'K'), comment=\"\"\"Thermo library: CurranPentane\"\"\"), molecule=[Molecule(smiles=\"CC(CC=O)OO\")], transport_data=TransportData(shapeIndex=2, epsilon=(4012.75,'J/mol'), sigma=(6.595,'angstrom'), dipoleMoment=(0,'De'), polarizability=(0,'angstrom^3'), rotrelaxcollnum=0.0, comment=\"\"\"Epsilon & sigma estimated with Tc=626.78 K, Pc=31.74 bar (from Joback method)\"\"\"), molecular_weight=(104.105,'amu'))], kinetics=Arrhenius(A=(3.77803e+10,'cm^3/(mol*s)'), n=0.509, Ea=(0,'kcal/mol'), T0=(1,'K'), comment=\"\"\"Estimated from node Root_Ext-1R!H-R\n",
       "Multiplied by reaction path degeneracy 4.0\"\"\"), degeneracy=4.0, pairs=[(Species(index=777, label=\"CC(CC[O])OO\", thermo=NASA(polynomials=[NASAPolynomial(coeffs=[1.52838,0.0649818,-2.85069e-05,-6.32028e-08,7.58891e-11,-21497.7,25.3392], Tmin=(100,'K'), Tmax=(473.59,'K')), NASAPolynomial(coeffs=[5.86388,0.045611,-2.17807e-05,4.22577e-09,-2.97573e-13,-22101.8,5.6213], Tmin=(473.59,'K'), Tmax=(5000,'K'))], Tmin=(100,'K'), Tmax=(5000,'K'), comment=\"\"\"Thermo group additivity estimation: group(O2s-OsCs) + group(O2s-CsH) + group(O2s-OsH) + group(Cs-CsCsOsH) + group(Cs-CsCsHH) + group(Cs-CsOsHH) +\n",
       "group(Cs-CsHHH) + radical(CCOJ)\"\"\"), molecule=[Molecule(smiles=\"CC(CC[O])OO\")], transport_data=TransportData(shapeIndex=2, epsilon=(4219.77,'J/mol'), sigma=(7.07,'angstrom'), dipoleMoment=(0,'De'), polarizability=(0,'angstrom^3'), rotrelaxcollnum=0.0, comment=\"\"\"Epsilon & sigma estimated with Tc=659.12 K, Pc=27.1 bar (from Joback method)\"\"\"), molecular_weight=(105.113,'amu')), Species(index=252, label=\"NC4KET13\", thermo=NASA(polynomials=[NASAPolynomial(coeffs=[5.01329,0.0446936,-1.93603e-05,9.36915e-10,8.79545e-13,-40111.6,8.45811], Tmin=(200,'K'), Tmax=(1359,'K')), NASAPolynomial(coeffs=[20.5329,0.0177924,-6.33304e-06,1.0098e-09,-5.96861e-14,-46451.6,-78.2394], Tmin=(1359,'K'), Tmax=(5000,'K'))], Tmin=(200,'K'), Tmax=(5000,'K'), comment=\"\"\"Thermo library: CurranPentane\"\"\"), molecule=[Molecule(smiles=\"CC(CC=O)OO\")], transport_data=TransportData(shapeIndex=2, epsilon=(4012.75,'J/mol'), sigma=(6.595,'angstrom'), dipoleMoment=(0,'De'), polarizability=(0,'angstrom^3'), rotrelaxcollnum=0.0, comment=\"\"\"Epsilon & sigma estimated with Tc=626.78 K, Pc=31.74 bar (from Joback method)\"\"\"), molecular_weight=(104.105,'amu'))), (Species(index=2, label=\"O2\", thermo=NASA(polynomials=[NASAPolynomial(coeffs=[3.53764,-0.00122828,5.36759e-06,-4.93128e-09,1.45955e-12,-1037.99,4.6718], Tmin=(100,'K'), Tmax=(1087.71,'K')), NASAPolynomial(coeffs=[3.16427,0.00169454,-8.00335e-07,1.5903e-10,-1.14891e-14,-1048.45,6.08303], Tmin=(1087.71,'K'), Tmax=(5000,'K'))], Tmin=(100,'K'), Tmax=(5000,'K'), comment=\"\"\"Thermo library: BurkeH2O2\"\"\"), molecule=[Molecule(smiles=\"[O][O]\")], transport_data=TransportData(shapeIndex=1, epsilon=(887.154,'J/mol'), sigma=(3.467,'angstrom'), dipoleMoment=(0,'De'), polarizability=(0,'angstrom^3'), rotrelaxcollnum=0.0, comment=\"\"\"PrimaryTransportLibrary\"\"\"), molecular_weight=(31.9988,'amu')), Species(index=16, label=\"HO2\", thermo=NASA(polynomials=[NASAPolynomial(coeffs=[4.02957,-0.00263999,1.52236e-05,-1.71679e-08,6.26772e-12,322.677,4.84424], Tmin=(100,'K'), Tmax=(923.9,'K')), NASAPolynomial(coeffs=[4.1513,0.00191152,-4.11308e-07,6.35039e-11,-4.86454e-15,83.4343,3.09359], Tmin=(923.9,'K'), Tmax=(5000,'K'))], Tmin=(100,'K'), Tmax=(5000,'K'), comment=\"\"\"Thermo library: BurkeH2O2\"\"\"), molecule=[Molecule(smiles=\"[O]O\")], transport_data=TransportData(shapeIndex=2, epsilon=(892.974,'J/mol'), sigma=(3.458,'angstrom'), dipoleMoment=(0,'De'), polarizability=(0,'angstrom^3'), rotrelaxcollnum=1.0, comment=\"\"\"GRI-Mech\"\"\"), molecular_weight=(33.0068,'amu')))], family='Disproportionation')"
      ]
     },
     "metadata": {},
     "output_type": "display_data"
    },
    {
     "name": "stdout",
     "output_type": "stream",
     "text": [
      "no reaction calculated for Disproportionation, 1814\n"
     ]
    },
    {
     "data": {
      "image/png": "[encoded data removed]",
      "text/plain": [
       "TemplateReaction(index=1843, reactants=[Species(index=2, label=\"O2\", thermo=NASA(polynomials=[NASAPolynomial(coeffs=[3.53764,-0.00122828,5.36759e-06,-4.93128e-09,1.45955e-12,-1037.99,4.6718], Tmin=(100,'K'), Tmax=(1087.71,'K')), NASAPolynomial(coeffs=[3.16427,0.00169454,-8.00335e-07,1.5903e-10,-1.14891e-14,-1048.45,6.08303], Tmin=(1087.71,'K'), Tmax=(5000,'K'))], Tmin=(100,'K'), Tmax=(5000,'K'), comment=\"\"\"Thermo library: BurkeH2O2\"\"\"), molecule=[Molecule(smiles=\"[O][O]\")], transport_data=TransportData(shapeIndex=1, epsilon=(887.154,'J/mol'), sigma=(3.467,'angstrom'), dipoleMoment=(0,'De'), polarizability=(0,'angstrom^3'), rotrelaxcollnum=0.0, comment=\"\"\"PrimaryTransportLibrary\"\"\"), molecular_weight=(31.9988,'amu')), Species(index=5425, label=\"[CH]1CCOOC1\", thermo=NASA(polynomials=[NASAPolynomial(coeffs=[2.1929,0.0236787,5.77757e-05,-9.83426e-08,4.26416e-11,5367.32,18.0956], Tmin=(100,'K'), Tmax=(892.26,'K')), NASAPolynomial(coeffs=[13.3652,0.0164072,-1.9746e-06,7.73586e-11,-1.75745e-15,1669.33,-44.0807], Tmin=(892.26,'K'), Tmax=(5000,'K'))], Tmin=(100,'K'), Tmax=(5000,'K'), comment=\"\"\"Thermo group additivity estimation: group(O2s-OsCs) + group(O2s-OsCs) + group(Cs-CsCsHH) + group(Cs-CsCsHH) + group(Cs-CsOsHH) + group(Cs-CsOsHH) +\n",
       "ring(12dioxane) + radical(CCJCOOH)\"\"\"), molecule=[Molecule(smiles=\"[CH]1CCOOC1\")], transport_data=TransportData(shapeIndex=2, epsilon=(3705.24,'J/mol'), sigma=(6.42,'angstrom'), dipoleMoment=(0,'De'), polarizability=(0,'angstrom^3'), rotrelaxcollnum=0.0, comment=\"\"\"Epsilon & sigma estimated with Tc=578.75 K, Pc=31.78 bar (from Joback method)\"\"\"), molecular_weight=(87.0972,'amu'))], products=[Species(index=16, label=\"HO2\", thermo=NASA(polynomials=[NASAPolynomial(coeffs=[4.02957,-0.00263999,1.52236e-05,-1.71679e-08,6.26772e-12,322.677,4.84424], Tmin=(100,'K'), Tmax=(923.9,'K')), NASAPolynomial(coeffs=[4.1513,0.00191152,-4.11308e-07,6.35039e-11,-4.86454e-15,83.4343,3.09359], Tmin=(923.9,'K'), Tmax=(5000,'K'))], Tmin=(100,'K'), Tmax=(5000,'K'), comment=\"\"\"Thermo library: BurkeH2O2\"\"\"), molecule=[Molecule(smiles=\"[O]O\")], transport_data=TransportData(shapeIndex=2, epsilon=(892.974,'J/mol'), sigma=(3.458,'angstrom'), dipoleMoment=(0,'De'), polarizability=(0,'angstrom^3'), rotrelaxcollnum=1.0, comment=\"\"\"GRI-Mech\"\"\"), molecular_weight=(33.0068,'amu')), Species(index=5951, label=\"C1=COOCC1\", thermo=NASA(polynomials=[NASAPolynomial(coeffs=[2.33351,0.0205927,5.55329e-05,-9.04591e-08,3.77175e-11,-4469.13,15.0228], Tmin=(100,'K'), Tmax=(923.1,'K')), NASAPolynomial(coeffs=[13.0391,0.0154959,-3.28499e-06,4.79573e-10,-3.54996e-14,-8204.91,-45.2985], Tmin=(923.1,'K'), Tmax=(5000,'K'))], Tmin=(100,'K'), Tmax=(5000,'K'), comment=\"\"\"Thermo group additivity estimation: group(O2s-OsCs) + group(O2s-O2s(Cds-Cd)) + group(Cs-(Cds-Cds)CsHH) + group(Cs-CsOsHH) + group(Cds-CdsCsH) +\n",
       "group(Cds-CdsOsH) + ring(34dihydro12dioxin)\"\"\"), molecule=[Molecule(smiles=\"C1=COOCC1\")], transport_data=TransportData(shapeIndex=2, epsilon=(3714.62,'J/mol'), sigma=(6.201,'angstrom'), dipoleMoment=(0,'De'), polarizability=(0,'angstrom^3'), rotrelaxcollnum=0.0, comment=\"\"\"Epsilon & sigma estimated with Tc=580.21 K, Pc=35.35 bar (from Joback method)\"\"\"), molecular_weight=(86.0892,'amu'))], kinetics=Arrhenius(A=(3.77803e+10,'cm^3/(mol*s)'), n=0.509, Ea=(0,'kcal/mol'), T0=(1,'K'), comment=\"\"\"Estimated from node Root_Ext-1R!H-R\n",
       "Multiplied by reaction path degeneracy 4.0\"\"\"), degeneracy=4.0, pairs=[(Species(index=5425, label=\"[CH]1CCOOC1\", thermo=NASA(polynomials=[NASAPolynomial(coeffs=[2.1929,0.0236787,5.77757e-05,-9.83426e-08,4.26416e-11,5367.32,18.0956], Tmin=(100,'K'), Tmax=(892.26,'K')), NASAPolynomial(coeffs=[13.3652,0.0164072,-1.9746e-06,7.73586e-11,-1.75745e-15,1669.33,-44.0807], Tmin=(892.26,'K'), Tmax=(5000,'K'))], Tmin=(100,'K'), Tmax=(5000,'K'), comment=\"\"\"Thermo group additivity estimation: group(O2s-OsCs) + group(O2s-OsCs) + group(Cs-CsCsHH) + group(Cs-CsCsHH) + group(Cs-CsOsHH) + group(Cs-CsOsHH) +\n",
       "ring(12dioxane) + radical(CCJCOOH)\"\"\"), molecule=[Molecule(smiles=\"[CH]1CCOOC1\")], transport_data=TransportData(shapeIndex=2, epsilon=(3705.24,'J/mol'), sigma=(6.42,'angstrom'), dipoleMoment=(0,'De'), polarizability=(0,'angstrom^3'), rotrelaxcollnum=0.0, comment=\"\"\"Epsilon & sigma estimated with Tc=578.75 K, Pc=31.78 bar (from Joback method)\"\"\"), molecular_weight=(87.0972,'amu')), Species(index=5951, label=\"C1=COOCC1\", thermo=NASA(polynomials=[NASAPolynomial(coeffs=[2.33351,0.0205927,5.55329e-05,-9.04591e-08,3.77175e-11,-4469.13,15.0228], Tmin=(100,'K'), Tmax=(923.1,'K')), NASAPolynomial(coeffs=[13.0391,0.0154959,-3.28499e-06,4.79573e-10,-3.54996e-14,-8204.91,-45.2985], Tmin=(923.1,'K'), Tmax=(5000,'K'))], Tmin=(100,'K'), Tmax=(5000,'K'), comment=\"\"\"Thermo group additivity estimation: group(O2s-OsCs) + group(O2s-O2s(Cds-Cd)) + group(Cs-(Cds-Cds)CsHH) + group(Cs-CsOsHH) + group(Cds-CdsCsH) +\n",
       "group(Cds-CdsOsH) + ring(34dihydro12dioxin)\"\"\"), molecule=[Molecule(smiles=\"C1=COOCC1\")], transport_data=TransportData(shapeIndex=2, epsilon=(3714.62,'J/mol'), sigma=(6.201,'angstrom'), dipoleMoment=(0,'De'), polarizability=(0,'angstrom^3'), rotrelaxcollnum=0.0, comment=\"\"\"Epsilon & sigma estimated with Tc=580.21 K, Pc=35.35 bar (from Joback method)\"\"\"), molecular_weight=(86.0892,'amu'))), (Species(index=2, label=\"O2\", thermo=NASA(polynomials=[NASAPolynomial(coeffs=[3.53764,-0.00122828,5.36759e-06,-4.93128e-09,1.45955e-12,-1037.99,4.6718], Tmin=(100,'K'), Tmax=(1087.71,'K')), NASAPolynomial(coeffs=[3.16427,0.00169454,-8.00335e-07,1.5903e-10,-1.14891e-14,-1048.45,6.08303], Tmin=(1087.71,'K'), Tmax=(5000,'K'))], Tmin=(100,'K'), Tmax=(5000,'K'), comment=\"\"\"Thermo library: BurkeH2O2\"\"\"), molecule=[Molecule(smiles=\"[O][O]\")], transport_data=TransportData(shapeIndex=1, epsilon=(887.154,'J/mol'), sigma=(3.467,'angstrom'), dipoleMoment=(0,'De'), polarizability=(0,'angstrom^3'), rotrelaxcollnum=0.0, comment=\"\"\"PrimaryTransportLibrary\"\"\"), molecular_weight=(31.9988,'amu')), Species(index=16, label=\"HO2\", thermo=NASA(polynomials=[NASAPolynomial(coeffs=[4.02957,-0.00263999,1.52236e-05,-1.71679e-08,6.26772e-12,322.677,4.84424], Tmin=(100,'K'), Tmax=(923.9,'K')), NASAPolynomial(coeffs=[4.1513,0.00191152,-4.11308e-07,6.35039e-11,-4.86454e-15,83.4343,3.09359], Tmin=(923.9,'K'), Tmax=(5000,'K'))], Tmin=(100,'K'), Tmax=(5000,'K'), comment=\"\"\"Thermo library: BurkeH2O2\"\"\"), molecule=[Molecule(smiles=\"[O]O\")], transport_data=TransportData(shapeIndex=2, epsilon=(892.974,'J/mol'), sigma=(3.458,'angstrom'), dipoleMoment=(0,'De'), polarizability=(0,'angstrom^3'), rotrelaxcollnum=1.0, comment=\"\"\"GRI-Mech\"\"\"), molecular_weight=(33.0068,'amu')))], family='Disproportionation')"
      ]
     },
     "metadata": {},
     "output_type": "display_data"
    },
    {
     "name": "stdout",
     "output_type": "stream",
     "text": [
      "no reaction calculated for H_Abstraction, 1288\n"
     ]
    },
    {
     "data": {
      "image/png": "[encoded data removed]",
      "text/plain": [
       "TemplateReaction(index=1317, reactants=[Species(index=73, label=\"C3KET21\", thermo=NASA(polynomials=[NASAPolynomial(coeffs=[-0.874353,0.0612501,-5.51475e-05,2.48491e-08,-4.42613e-12,-35806.1,35.9306], Tmin=(200,'K'), Tmax=(1394,'K')), NASAPolynomial(coeffs=[17.5768,0.0120312,-4.11634e-06,6.40149e-10,-3.72128e-14,-41550.2,-60.9097], Tmin=(1394,'K'), Tmax=(5000,'K'))], Tmin=(200,'K'), Tmax=(5000,'K'), comment=\"\"\"Thermo library: CurranPentane\"\"\"), molecule=[Molecule(smiles=\"CC(=O)COO\")], transport_data=TransportData(shapeIndex=2, epsilon=(3915.5,'J/mol'), sigma=(6.256,'angstrom'), dipoleMoment=(0,'De'), polarizability=(0,'angstrom^3'), rotrelaxcollnum=0.0, comment=\"\"\"Epsilon & sigma estimated with Tc=611.59 K, Pc=36.29 bar (from Joback method)\"\"\"), molecular_weight=(90.078,'amu')), Species(index=182, label=\"PC4H9\", thermo=NASA(polynomials=[NASAPolynomial(coeffs=[0.350939,0.0447617,-2.76331e-05,9.10558e-09,-1.28318e-12,7745.08,25.3924], Tmin=(200,'K'), Tmax=(1393,'K')), NASAPolynomial(coeffs=[11.8227,0.0197585,-6.73845e-06,1.04383e-09,-6.04576e-14,3503.34,-36.9846], Tmin=(1393,'K'), Tmax=(5000,'K'))], Tmin=(200,'K'), Tmax=(5000,'K'), comment=\"\"\"Thermo library: CurranPentane\"\"\"), molecule=[Molecule(smiles=\"[CH2]CCC\")], transport_data=TransportData(shapeIndex=2, epsilon=(2968.28,'J/mol'), sigma=(5.176,'angstrom'), dipoleMoment=(0,'De'), polarizability=(0,'angstrom^3'), rotrelaxcollnum=1.0, comment=\"\"\"GRI-Mech\"\"\"), molecular_weight=(57.1143,'amu'))], products=[Species(index=72, label=\"CH3COCH2O2\", thermo=NASA(polynomials=[NASAPolynomial(coeffs=[1.19378,0.0498027,-4.18e-05,1.74528e-08,-2.88199e-12,-19324.4,26.7877], Tmin=(200,'K'), Tmax=(1397,'K')), NASAPolynomial(coeffs=[16.5756,0.0106465,-3.61369e-06,5.59054e-10,-3.23832e-14,-24254.1,-54.5305], Tmin=(1397,'K'), Tmax=(5000,'K'))], Tmin=(200,'K'), Tmax=(5000,'K'), comment=\"\"\"Thermo library: CurranPentane\"\"\"), molecule=[Molecule(smiles=\"CC(=O)CO[O]\")], transport_data=TransportData(shapeIndex=2, epsilon=(3915.5,'J/mol'), sigma=(6.256,'angstrom'), dipoleMoment=(0,'De'), polarizability=(0,'angstrom^3'), rotrelaxcollnum=0.0, comment=\"\"\"Epsilon & sigma estimated with Tc=611.59 K, Pc=36.29 bar (from Joback method)\"\"\"), molecular_weight=(89.07,'amu')), Species(index=1, label=\"butane\", thermo=NASA(polynomials=[NASAPolynomial(coeffs=[-0.402516,0.0479826,-2.65876e-05,7.07078e-09,-6.98493e-13,-16879.5,26.3199], Tmin=(200,'K'), Tmax=(1389,'K')), NASAPolynomial(coeffs=[12.5232,0.0218667,-7.50126e-06,1.16671e-09,-6.77697e-14,-21847.6,-44.6643], Tmin=(1389,'K'), Tmax=(5000,'K'))], Tmin=(200,'K'), Tmax=(5000,'K'), comment=\"\"\"Thermo library: CurranPentane\"\"\"), molecule=[Molecule(smiles=\"CCCC\")], transport_data=TransportData(shapeIndex=2, epsilon=(2896.89,'J/mol'), sigma=(5.415,'angstrom'), dipoleMoment=(0,'De'), polarizability=(0,'angstrom^3'), rotrelaxcollnum=0.0, comment=\"\"\"Epsilon & sigma estimated with Tc=452.49 K, Pc=41.41 bar (from Joback method)\"\"\"), molecular_weight=(58.1223,'amu'))], kinetics=Arrhenius(A=(0.00063914,'cm^3/(mol*s)'), n=4.352, Ea=(-1.737,'kcal/mol'), T0=(1,'K'), comment=\"\"\"Estimated using an average for rate rule [O/H/NonDeO;C_rad/H2/Cs]\n",
       "Euclidian distance = 0\n",
       "family: H_Abstraction\n",
       "Ea raised from -7.3 to -7.3 kJ/mol.\"\"\"), pairs=[(Species(index=73, label=\"C3KET21\", thermo=NASA(polynomials=[NASAPolynomial(coeffs=[-0.874353,0.0612501,-5.51475e-05,2.48491e-08,-4.42613e-12,-35806.1,35.9306], Tmin=(200,'K'), Tmax=(1394,'K')), NASAPolynomial(coeffs=[17.5768,0.0120312,-4.11634e-06,6.40149e-10,-3.72128e-14,-41550.2,-60.9097], Tmin=(1394,'K'), Tmax=(5000,'K'))], Tmin=(200,'K'), Tmax=(5000,'K'), comment=\"\"\"Thermo library: CurranPentane\"\"\"), molecule=[Molecule(smiles=\"CC(=O)COO\")], transport_data=TransportData(shapeIndex=2, epsilon=(3915.5,'J/mol'), sigma=(6.256,'angstrom'), dipoleMoment=(0,'De'), polarizability=(0,'angstrom^3'), rotrelaxcollnum=0.0, comment=\"\"\"Epsilon & sigma estimated with Tc=611.59 K, Pc=36.29 bar (from Joback method)\"\"\"), molecular_weight=(90.078,'amu')), Species(index=72, label=\"CH3COCH2O2\", thermo=NASA(polynomials=[NASAPolynomial(coeffs=[1.19378,0.0498027,-4.18e-05,1.74528e-08,-2.88199e-12,-19324.4,26.7877], Tmin=(200,'K'), Tmax=(1397,'K')), NASAPolynomial(coeffs=[16.5756,0.0106465,-3.61369e-06,5.59054e-10,-3.23832e-14,-24254.1,-54.5305], Tmin=(1397,'K'), Tmax=(5000,'K'))], Tmin=(200,'K'), Tmax=(5000,'K'), comment=\"\"\"Thermo library: CurranPentane\"\"\"), molecule=[Molecule(smiles=\"CC(=O)CO[O]\")], transport_data=TransportData(shapeIndex=2, epsilon=(3915.5,'J/mol'), sigma=(6.256,'angstrom'), dipoleMoment=(0,'De'), polarizability=(0,'angstrom^3'), rotrelaxcollnum=0.0, comment=\"\"\"Epsilon & sigma estimated with Tc=611.59 K, Pc=36.29 bar (from Joback method)\"\"\"), molecular_weight=(89.07,'amu'))), (Species(index=182, label=\"PC4H9\", thermo=NASA(polynomials=[NASAPolynomial(coeffs=[0.350939,0.0447617,-2.76331e-05,9.10558e-09,-1.28318e-12,7745.08,25.3924], Tmin=(200,'K'), Tmax=(1393,'K')), NASAPolynomial(coeffs=[11.8227,0.0197585,-6.73845e-06,1.04383e-09,-6.04576e-14,3503.34,-36.9846], Tmin=(1393,'K'), Tmax=(5000,'K'))], Tmin=(200,'K'), Tmax=(5000,'K'), comment=\"\"\"Thermo library: CurranPentane\"\"\"), molecule=[Molecule(smiles=\"[CH2]CCC\")], transport_data=TransportData(shapeIndex=2, epsilon=(2968.28,'J/mol'), sigma=(5.176,'angstrom'), dipoleMoment=(0,'De'), polarizability=(0,'angstrom^3'), rotrelaxcollnum=1.0, comment=\"\"\"GRI-Mech\"\"\"), molecular_weight=(57.1143,'amu')), Species(index=1, label=\"butane\", thermo=NASA(polynomials=[NASAPolynomial(coeffs=[-0.402516,0.0479826,-2.65876e-05,7.07078e-09,-6.98493e-13,-16879.5,26.3199], Tmin=(200,'K'), Tmax=(1389,'K')), NASAPolynomial(coeffs=[12.5232,0.0218667,-7.50126e-06,1.16671e-09,-6.77697e-14,-21847.6,-44.6643], Tmin=(1389,'K'), Tmax=(5000,'K'))], Tmin=(200,'K'), Tmax=(5000,'K'), comment=\"\"\"Thermo library: CurranPentane\"\"\"), molecule=[Molecule(smiles=\"CCCC\")], transport_data=TransportData(shapeIndex=2, epsilon=(2896.89,'J/mol'), sigma=(5.415,'angstrom'), dipoleMoment=(0,'De'), polarizability=(0,'angstrom^3'), rotrelaxcollnum=0.0, comment=\"\"\"Epsilon & sigma estimated with Tc=452.49 K, Pc=41.41 bar (from Joback method)\"\"\"), molecular_weight=(58.1223,'amu')))], family='H_Abstraction', template=['O/H/NonDeO', 'C_rad/H2/Cs'])"
      ]
     },
     "metadata": {},
     "output_type": "display_data"
    },
    {
     "name": "stdout",
     "output_type": "stream",
     "text": [
      "no reaction calculated for Disproportionation, 1736\n"
     ]
    },
    {
     "data": {
      "image/png": "[encoded data removed]",
      "text/plain": [
       "TemplateReaction(index=1765, reactants=[Species(index=31, label=\"CH3O\", thermo=NASA(polynomials=[NASAPolynomial(coeffs=[3.71181,-0.00280463,3.76551e-05,-4.73072e-08,1.86588e-11,1295.7,6.57241], Tmin=(200,'K'), Tmax=(1000,'K')), NASAPolynomial(coeffs=[4.75779,0.00744142,-2.69705e-06,4.38091e-10,-2.63537e-14,378.112,-1.9668], Tmin=(1000,'K'), Tmax=(6000,'K'))], Tmin=(200,'K'), Tmax=(6000,'K'), comment=\"\"\"Thermo library: FFCM1(-)\"\"\"), molecule=[Molecule(smiles=\"C[O]\")], transport_data=TransportData(shapeIndex=2, epsilon=(3467.15,'J/mol'), sigma=(3.69,'angstrom'), dipoleMoment=(1.7,'De'), polarizability=(0,'angstrom^3'), rotrelaxcollnum=2.0, comment=\"\"\"GRI-Mech\"\"\"), molecular_weight=(31.034,'amu')), Species(index=186, label=\"SC4H9O2\", thermo=NASA(polynomials=[NASAPolynomial(coeffs=[2.68574,0.0526274,-3.56095e-05,1.229e-08,-1.68623e-12,-12722.9,16.2317], Tmin=(200,'K'), Tmax=(1408,'K')), NASAPolynomial(coeffs=[17.1095,0.0190237,-6.29508e-06,9.55826e-10,-5.46024e-14,-17667.2,-61.14], Tmin=(1408,'K'), Tmax=(5000,'K'))], Tmin=(200,'K'), Tmax=(5000,'K'), comment=\"\"\"Thermo library: CurranPentane\"\"\"), molecule=[Molecule(smiles=\"CCC(C)O[O]\")], transport_data=TransportData(shapeIndex=2, epsilon=(3658.62,'J/mol'), sigma=(6.371,'angstrom'), dipoleMoment=(0,'De'), polarizability=(0,'angstrom^3'), rotrelaxcollnum=0.0, comment=\"\"\"Epsilon & sigma estimated with Tc=571.47 K, Pc=32.1 bar (from Joback method)\"\"\"), molecular_weight=(89.1131,'amu'))], products=[Species(index=9, label=\"CH2O\", thermo=NASA(polynomials=[NASAPolynomial(coeffs=[4.79372,-0.00990833,3.7322e-05,-3.79285e-08,1.31773e-11,-14379.2,0.602798], Tmin=(200,'K'), Tmax=(1000,'K')), NASAPolynomial(coeffs=[3.16953,0.00619321,-2.25056e-06,3.65976e-10,-2.20149e-14,-14548.7,6.04208], Tmin=(1000,'K'), Tmax=(6000,'K'))], Tmin=(200,'K'), Tmax=(6000,'K'), comment=\"\"\"Thermo library: FFCM1(-)\"\"\"), molecule=[Molecule(smiles=\"C=O\")], transport_data=TransportData(shapeIndex=2, epsilon=(4140.62,'J/mol'), sigma=(3.59,'angstrom'), dipoleMoment=(0,'De'), polarizability=(0,'angstrom^3'), rotrelaxcollnum=2.0, comment=\"\"\"GRI-Mech\"\"\"), molecular_weight=(30.026,'amu')), Species(index=187, label=\"SC4H9O2H\", thermo=NASA(polynomials=[NASAPolynomial(coeffs=[0.405945,0.064897,-4.98858e-05,2.00009e-08,-3.25194e-12,-29170.4,26.374], Tmin=(200,'K'), Tmax=(1395,'K')), NASAPolynomial(coeffs=[18.5277,0.0196998,-6.48704e-06,9.82426e-10,-5.60434e-14,-35115.3,-69.8323], Tmin=(1395,'K'), Tmax=(5000,'K'))], Tmin=(200,'K'), Tmax=(5000,'K'), comment=\"\"\"Thermo library: CurranPentane\"\"\"), molecule=[Molecule(smiles=\"CCC(C)OO\")], transport_data=TransportData(shapeIndex=2, epsilon=(3658.62,'J/mol'), sigma=(6.371,'angstrom'), dipoleMoment=(0,'De'), polarizability=(0,'angstrom^3'), rotrelaxcollnum=0.0, comment=\"\"\"Epsilon & sigma estimated with Tc=571.47 K, Pc=32.1 bar (from Joback method)\"\"\"), molecular_weight=(90.1211,'amu'))], kinetics=Arrhenius(A=(1.25307e+08,'cm^3/(mol*s)'), n=1.719, Ea=(0,'kcal/mol'), T0=(1,'K'), comment=\"\"\"Estimated from node Root_N-4R->H_4CNOS-u1_N-1R!H->O_4CNOS->O_Ext-4O-R_5R!H-u0\n",
       "Multiplied by reaction path degeneracy 3.0\"\"\"), degeneracy=3.0, pairs=[(Species(index=31, label=\"CH3O\", thermo=NASA(polynomials=[NASAPolynomial(coeffs=[3.71181,-0.00280463,3.76551e-05,-4.73072e-08,1.86588e-11,1295.7,6.57241], Tmin=(200,'K'), Tmax=(1000,'K')), NASAPolynomial(coeffs=[4.75779,0.00744142,-2.69705e-06,4.38091e-10,-2.63537e-14,378.112,-1.9668], Tmin=(1000,'K'), Tmax=(6000,'K'))], Tmin=(200,'K'), Tmax=(6000,'K'), comment=\"\"\"Thermo library: FFCM1(-)\"\"\"), molecule=[Molecule(smiles=\"C[O]\")], transport_data=TransportData(shapeIndex=2, epsilon=(3467.15,'J/mol'), sigma=(3.69,'angstrom'), dipoleMoment=(1.7,'De'), polarizability=(0,'angstrom^3'), rotrelaxcollnum=2.0, comment=\"\"\"GRI-Mech\"\"\"), molecular_weight=(31.034,'amu')), Species(index=9, label=\"CH2O\", thermo=NASA(polynomials=[NASAPolynomial(coeffs=[4.79372,-0.00990833,3.7322e-05,-3.79285e-08,1.31773e-11,-14379.2,0.602798], Tmin=(200,'K'), Tmax=(1000,'K')), NASAPolynomial(coeffs=[3.16953,0.00619321,-2.25056e-06,3.65976e-10,-2.20149e-14,-14548.7,6.04208], Tmin=(1000,'K'), Tmax=(6000,'K'))], Tmin=(200,'K'), Tmax=(6000,'K'), comment=\"\"\"Thermo library: FFCM1(-)\"\"\"), molecule=[Molecule(smiles=\"C=O\")], transport_data=TransportData(shapeIndex=2, epsilon=(4140.62,'J/mol'), sigma=(3.59,'angstrom'), dipoleMoment=(0,'De'), polarizability=(0,'angstrom^3'), rotrelaxcollnum=2.0, comment=\"\"\"GRI-Mech\"\"\"), molecular_weight=(30.026,'amu'))), (Species(index=186, label=\"SC4H9O2\", thermo=NASA(polynomials=[NASAPolynomial(coeffs=[2.68574,0.0526274,-3.56095e-05,1.229e-08,-1.68623e-12,-12722.9,16.2317], Tmin=(200,'K'), Tmax=(1408,'K')), NASAPolynomial(coeffs=[17.1095,0.0190237,-6.29508e-06,9.55826e-10,-5.46024e-14,-17667.2,-61.14], Tmin=(1408,'K'), Tmax=(5000,'K'))], Tmin=(200,'K'), Tmax=(5000,'K'), comment=\"\"\"Thermo library: CurranPentane\"\"\"), molecule=[Molecule(smiles=\"CCC(C)O[O]\")], transport_data=TransportData(shapeIndex=2, epsilon=(3658.62,'J/mol'), sigma=(6.371,'angstrom'), dipoleMoment=(0,'De'), polarizability=(0,'angstrom^3'), rotrelaxcollnum=0.0, comment=\"\"\"Epsilon & sigma estimated with Tc=571.47 K, Pc=32.1 bar (from Joback method)\"\"\"), molecular_weight=(89.1131,'amu')), Species(index=187, label=\"SC4H9O2H\", thermo=NASA(polynomials=[NASAPolynomial(coeffs=[0.405945,0.064897,-4.98858e-05,2.00009e-08,-3.25194e-12,-29170.4,26.374], Tmin=(200,'K'), Tmax=(1395,'K')), NASAPolynomial(coeffs=[18.5277,0.0196998,-6.48704e-06,9.82426e-10,-5.60434e-14,-35115.3,-69.8323], Tmin=(1395,'K'), Tmax=(5000,'K'))], Tmin=(200,'K'), Tmax=(5000,'K'), comment=\"\"\"Thermo library: CurranPentane\"\"\"), molecule=[Molecule(smiles=\"CCC(C)OO\")], transport_data=TransportData(shapeIndex=2, epsilon=(3658.62,'J/mol'), sigma=(6.371,'angstrom'), dipoleMoment=(0,'De'), polarizability=(0,'angstrom^3'), rotrelaxcollnum=0.0, comment=\"\"\"Epsilon & sigma estimated with Tc=571.47 K, Pc=32.1 bar (from Joback method)\"\"\"), molecular_weight=(90.1211,'amu')))], family='Disproportionation')"
      ]
     },
     "metadata": {},
     "output_type": "display_data"
    },
    {
     "name": "stdout",
     "output_type": "stream",
     "text": [
      "no reaction calculated for Disproportionation, 418\n"
     ]
    },
    {
     "data": {
      "image/png": "[encoded data removed]",
      "text/plain": [
       "TemplateReaction(index=443, reactants=[Species(index=16, label=\"HO2\", thermo=NASA(polynomials=[NASAPolynomial(coeffs=[4.02957,-0.00263999,1.52236e-05,-1.71679e-08,6.26772e-12,322.677,4.84424], Tmin=(100,'K'), Tmax=(923.9,'K')), NASAPolynomial(coeffs=[4.1513,0.00191152,-4.11308e-07,6.35039e-11,-4.86454e-15,83.4343,3.09359], Tmin=(923.9,'K'), Tmax=(5000,'K'))], Tmin=(100,'K'), Tmax=(5000,'K'), comment=\"\"\"Thermo library: BurkeH2O2\"\"\"), molecule=[Molecule(smiles=\"[O]O\")], transport_data=TransportData(shapeIndex=2, epsilon=(892.974,'J/mol'), sigma=(3.458,'angstrom'), dipoleMoment=(0,'De'), polarizability=(0,'angstrom^3'), rotrelaxcollnum=1.0, comment=\"\"\"GRI-Mech\"\"\"), molecular_weight=(33.0068,'amu')), Species(index=20, label=\"CH3CO\", thermo=NASA(polynomials=[NASAPolynomial(coeffs=[4.03587,0.000877295,3.071e-05,-3.92476e-08,1.52969e-11,-2682.07,7.86177], Tmin=(200,'K'), Tmax=(1000,'K')), NASAPolynomial(coeffs=[5.31372,0.00917378,-3.32204e-06,5.39475e-10,-3.24524e-14,-3645.04,-1.67576], Tmin=(1000,'K'), Tmax=(6000,'K'))], Tmin=(200,'K'), Tmax=(6000,'K'), comment=\"\"\"Thermo library: FFCM1(-)\"\"\"), molecule=[Molecule(smiles=\"C[C]=O\")], transport_data=TransportData(shapeIndex=2, epsilon=(3625.12,'J/mol'), sigma=(3.97,'angstrom'), dipoleMoment=(0,'De'), polarizability=(0,'angstrom^3'), rotrelaxcollnum=2.0, comment=\"\"\"GRI-Mech\"\"\"), molecular_weight=(43.0446,'amu'))], products=[Species(index=17, label=\"H2O2\", thermo=NASA(polynomials=[NASAPolynomial(coeffs=[3.72867,0.00413377,5.67497e-06,-1.01866e-08,4.28612e-12,-17696.4,5.35912], Tmin=(100,'K'), Tmax=(923.27,'K')), NASAPolynomial(coeffs=[4.95152,0.0035423,-1.01041e-06,1.61942e-10,-1.10209e-14,-18122.8,-1.52912], Tmin=(923.27,'K'), Tmax=(5000,'K'))], Tmin=(100,'K'), Tmax=(5000,'K'), comment=\"\"\"Thermo library: BurkeH2O2\"\"\"), molecule=[Molecule(smiles=\"OO\")], transport_data=TransportData(shapeIndex=2, epsilon=(2405.38,'J/mol'), sigma=(4.196,'angstrom'), dipoleMoment=(0,'De'), polarizability=(0,'angstrom^3'), rotrelaxcollnum=0.0, comment=\"\"\"PrimaryTransportLibrary\"\"\"), molecular_weight=(34.0147,'amu')), Species(index=24, label=\"CH2CO\", thermo=NASA(polynomials=[NASAPolynomial(coeffs=[2.13241,0.0181319,-1.74093e-05,9.35336e-09,-2.01725e-12,-7148.09,13.3808], Tmin=(200,'K'), Tmax=(1000,'K')), NASAPolynomial(coeffs=[5.75871,0.00635124,-2.25955e-06,3.62322e-10,-2.15856e-14,-8085.33,-4.9649], Tmin=(1000,'K'), Tmax=(6000,'K'))], Tmin=(200,'K'), Tmax=(6000,'K'), comment=\"\"\"Thermo library: FFCM1(-)\"\"\"), molecule=[Molecule(smiles=\"C=C=O\")], transport_data=TransportData(shapeIndex=2, epsilon=(3625.12,'J/mol'), sigma=(3.97,'angstrom'), dipoleMoment=(0,'De'), polarizability=(0,'angstrom^3'), rotrelaxcollnum=2.0, comment=\"\"\"GRI-Mech\"\"\"), molecular_weight=(42.0366,'amu'))], kinetics=Arrhenius(A=(6.59412e+08,'cm^3/(mol*s)'), n=1.422, Ea=(0.229,'kcal/mol'), T0=(1,'K'), comment=\"\"\"Estimated from node Root_Ext-2R!H-R\n",
       "Multiplied by reaction path degeneracy 3.0\"\"\"), degeneracy=3.0, pairs=[(Species(index=20, label=\"CH3CO\", thermo=NASA(polynomials=[NASAPolynomial(coeffs=[4.03587,0.000877295,3.071e-05,-3.92476e-08,1.52969e-11,-2682.07,7.86177], Tmin=(200,'K'), Tmax=(1000,'K')), NASAPolynomial(coeffs=[5.31372,0.00917378,-3.32204e-06,5.39475e-10,-3.24524e-14,-3645.04,-1.67576], Tmin=(1000,'K'), Tmax=(6000,'K'))], Tmin=(200,'K'), Tmax=(6000,'K'), comment=\"\"\"Thermo library: FFCM1(-)\"\"\"), molecule=[Molecule(smiles=\"C[C]=O\")], transport_data=TransportData(shapeIndex=2, epsilon=(3625.12,'J/mol'), sigma=(3.97,'angstrom'), dipoleMoment=(0,'De'), polarizability=(0,'angstrom^3'), rotrelaxcollnum=2.0, comment=\"\"\"GRI-Mech\"\"\"), molecular_weight=(43.0446,'amu')), Species(index=24, label=\"CH2CO\", thermo=NASA(polynomials=[NASAPolynomial(coeffs=[2.13241,0.0181319,-1.74093e-05,9.35336e-09,-2.01725e-12,-7148.09,13.3808], Tmin=(200,'K'), Tmax=(1000,'K')), NASAPolynomial(coeffs=[5.75871,0.00635124,-2.25955e-06,3.62322e-10,-2.15856e-14,-8085.33,-4.9649], Tmin=(1000,'K'), Tmax=(6000,'K'))], Tmin=(200,'K'), Tmax=(6000,'K'), comment=\"\"\"Thermo library: FFCM1(-)\"\"\"), molecule=[Molecule(smiles=\"C=C=O\")], transport_data=TransportData(shapeIndex=2, epsilon=(3625.12,'J/mol'), sigma=(3.97,'angstrom'), dipoleMoment=(0,'De'), polarizability=(0,'angstrom^3'), rotrelaxcollnum=2.0, comment=\"\"\"GRI-Mech\"\"\"), molecular_weight=(42.0366,'amu'))), (Species(index=16, label=\"HO2\", thermo=NASA(polynomials=[NASAPolynomial(coeffs=[4.02957,-0.00263999,1.52236e-05,-1.71679e-08,6.26772e-12,322.677,4.84424], Tmin=(100,'K'), Tmax=(923.9,'K')), NASAPolynomial(coeffs=[4.1513,0.00191152,-4.11308e-07,6.35039e-11,-4.86454e-15,83.4343,3.09359], Tmin=(923.9,'K'), Tmax=(5000,'K'))], Tmin=(100,'K'), Tmax=(5000,'K'), comment=\"\"\"Thermo library: BurkeH2O2\"\"\"), molecule=[Molecule(smiles=\"[O]O\")], transport_data=TransportData(shapeIndex=2, epsilon=(892.974,'J/mol'), sigma=(3.458,'angstrom'), dipoleMoment=(0,'De'), polarizability=(0,'angstrom^3'), rotrelaxcollnum=1.0, comment=\"\"\"GRI-Mech\"\"\"), molecular_weight=(33.0068,'amu')), Species(index=17, label=\"H2O2\", thermo=NASA(polynomials=[NASAPolynomial(coeffs=[3.72867,0.00413377,5.67497e-06,-1.01866e-08,4.28612e-12,-17696.4,5.35912], Tmin=(100,'K'), Tmax=(923.27,'K')), NASAPolynomial(coeffs=[4.95152,0.0035423,-1.01041e-06,1.61942e-10,-1.10209e-14,-18122.8,-1.52912], Tmin=(923.27,'K'), Tmax=(5000,'K'))], Tmin=(100,'K'), Tmax=(5000,'K'), comment=\"\"\"Thermo library: BurkeH2O2\"\"\"), molecule=[Molecule(smiles=\"OO\")], transport_data=TransportData(shapeIndex=2, epsilon=(2405.38,'J/mol'), sigma=(4.196,'angstrom'), dipoleMoment=(0,'De'), polarizability=(0,'angstrom^3'), rotrelaxcollnum=0.0, comment=\"\"\"PrimaryTransportLibrary\"\"\"), molecular_weight=(34.0147,'amu')))], family='Disproportionation')"
      ]
     },
     "metadata": {},
     "output_type": "display_data"
    },
    {
     "name": "stdout",
     "output_type": "stream",
     "text": [
      "no reaction calculated for Disproportionation, 1721\n"
     ]
    },
    {
     "data": {
      "image/png": "[encoded data removed]",
      "text/plain": [
       "TemplateReaction(index=1750, reactants=[Species(index=21, label=\"CH2CHO\", thermo=NASA(polynomials=[NASAPolynomial(coeffs=[2.66874,0.0096233,1.60617e-05,-2.87682e-08,1.2503e-11,219.438,12.5694], Tmin=(200,'K'), Tmax=(1000,'K')), NASAPolynomial(coeffs=[5.91637,0.0088465,-3.14955e-06,5.05413e-10,-3.01305e-14,-1047.8,-6.1065], Tmin=(1000,'K'), Tmax=(6000,'K'))], Tmin=(200,'K'), Tmax=(6000,'K'), comment=\"\"\"Thermo library: FFCM1(-)\"\"\"), molecule=[Molecule(smiles=\"[CH2]C=O\"), Molecule(smiles=\"C=C[O]\")], transport_data=TransportData(shapeIndex=2, epsilon=(3625.12,'J/mol'), sigma=(3.97,'angstrom'), dipoleMoment=(0,'De'), polarizability=(0,'angstrom^3'), rotrelaxcollnum=2.0, comment=\"\"\"GRI-Mech\"\"\"), molecular_weight=(43.0446,'amu')), Species(index=186, label=\"SC4H9O2\", thermo=NASA(polynomials=[NASAPolynomial(coeffs=[2.68574,0.0526274,-3.56095e-05,1.229e-08,-1.68623e-12,-12722.9,16.2317], Tmin=(200,'K'), Tmax=(1408,'K')), NASAPolynomial(coeffs=[17.1095,0.0190237,-6.29508e-06,9.55826e-10,-5.46024e-14,-17667.2,-61.14], Tmin=(1408,'K'), Tmax=(5000,'K'))], Tmin=(200,'K'), Tmax=(5000,'K'), comment=\"\"\"Thermo library: CurranPentane\"\"\"), molecule=[Molecule(smiles=\"CCC(C)O[O]\")], transport_data=TransportData(shapeIndex=2, epsilon=(3658.62,'J/mol'), sigma=(6.371,'angstrom'), dipoleMoment=(0,'De'), polarizability=(0,'angstrom^3'), rotrelaxcollnum=0.0, comment=\"\"\"Epsilon & sigma estimated with Tc=571.47 K, Pc=32.1 bar (from Joback method)\"\"\"), molecular_weight=(89.1131,'amu'))], products=[Species(index=24, label=\"CH2CO\", thermo=NASA(polynomials=[NASAPolynomial(coeffs=[2.13241,0.0181319,-1.74093e-05,9.35336e-09,-2.01725e-12,-7148.09,13.3808], Tmin=(200,'K'), Tmax=(1000,'K')), NASAPolynomial(coeffs=[5.75871,0.00635124,-2.25955e-06,3.62322e-10,-2.15856e-14,-8085.33,-4.9649], Tmin=(1000,'K'), Tmax=(6000,'K'))], Tmin=(200,'K'), Tmax=(6000,'K'), comment=\"\"\"Thermo library: FFCM1(-)\"\"\"), molecule=[Molecule(smiles=\"C=C=O\")], transport_data=TransportData(shapeIndex=2, epsilon=(3625.12,'J/mol'), sigma=(3.97,'angstrom'), dipoleMoment=(0,'De'), polarizability=(0,'angstrom^3'), rotrelaxcollnum=2.0, comment=\"\"\"GRI-Mech\"\"\"), molecular_weight=(42.0366,'amu')), Species(index=187, label=\"SC4H9O2H\", thermo=NASA(polynomials=[NASAPolynomial(coeffs=[0.405945,0.064897,-4.98858e-05,2.00009e-08,-3.25194e-12,-29170.4,26.374], Tmin=(200,'K'), Tmax=(1395,'K')), NASAPolynomial(coeffs=[18.5277,0.0196998,-6.48704e-06,9.82426e-10,-5.60434e-14,-35115.3,-69.8323], Tmin=(1395,'K'), Tmax=(5000,'K'))], Tmin=(200,'K'), Tmax=(5000,'K'), comment=\"\"\"Thermo library: CurranPentane\"\"\"), molecule=[Molecule(smiles=\"CCC(C)OO\")], transport_data=TransportData(shapeIndex=2, epsilon=(3658.62,'J/mol'), sigma=(6.371,'angstrom'), dipoleMoment=(0,'De'), polarizability=(0,'angstrom^3'), rotrelaxcollnum=0.0, comment=\"\"\"Epsilon & sigma estimated with Tc=571.47 K, Pc=32.1 bar (from Joback method)\"\"\"), molecular_weight=(90.1211,'amu'))], kinetics=Arrhenius(A=(9.44508e+09,'cm^3/(mol*s)'), n=0.509, Ea=(0,'kcal/mol'), T0=(1,'K'), comment=\"\"\"Estimated from node Root_Ext-1R!H-R\"\"\"), pairs=[(Species(index=21, label=\"CH2CHO\", thermo=NASA(polynomials=[NASAPolynomial(coeffs=[2.66874,0.0096233,1.60617e-05,-2.87682e-08,1.2503e-11,219.438,12.5694], Tmin=(200,'K'), Tmax=(1000,'K')), NASAPolynomial(coeffs=[5.91637,0.0088465,-3.14955e-06,5.05413e-10,-3.01305e-14,-1047.8,-6.1065], Tmin=(1000,'K'), Tmax=(6000,'K'))], Tmin=(200,'K'), Tmax=(6000,'K'), comment=\"\"\"Thermo library: FFCM1(-)\"\"\"), molecule=[Molecule(smiles=\"[CH2]C=O\"), Molecule(smiles=\"C=C[O]\")], transport_data=TransportData(shapeIndex=2, epsilon=(3625.12,'J/mol'), sigma=(3.97,'angstrom'), dipoleMoment=(0,'De'), polarizability=(0,'angstrom^3'), rotrelaxcollnum=2.0, comment=\"\"\"GRI-Mech\"\"\"), molecular_weight=(43.0446,'amu')), Species(index=24, label=\"CH2CO\", thermo=NASA(polynomials=[NASAPolynomial(coeffs=[2.13241,0.0181319,-1.74093e-05,9.35336e-09,-2.01725e-12,-7148.09,13.3808], Tmin=(200,'K'), Tmax=(1000,'K')), NASAPolynomial(coeffs=[5.75871,0.00635124,-2.25955e-06,3.62322e-10,-2.15856e-14,-8085.33,-4.9649], Tmin=(1000,'K'), Tmax=(6000,'K'))], Tmin=(200,'K'), Tmax=(6000,'K'), comment=\"\"\"Thermo library: FFCM1(-)\"\"\"), molecule=[Molecule(smiles=\"C=C=O\")], transport_data=TransportData(shapeIndex=2, epsilon=(3625.12,'J/mol'), sigma=(3.97,'angstrom'), dipoleMoment=(0,'De'), polarizability=(0,'angstrom^3'), rotrelaxcollnum=2.0, comment=\"\"\"GRI-Mech\"\"\"), molecular_weight=(42.0366,'amu'))), (Species(index=186, label=\"SC4H9O2\", thermo=NASA(polynomials=[NASAPolynomial(coeffs=[2.68574,0.0526274,-3.56095e-05,1.229e-08,-1.68623e-12,-12722.9,16.2317], Tmin=(200,'K'), Tmax=(1408,'K')), NASAPolynomial(coeffs=[17.1095,0.0190237,-6.29508e-06,9.55826e-10,-5.46024e-14,-17667.2,-61.14], Tmin=(1408,'K'), Tmax=(5000,'K'))], Tmin=(200,'K'), Tmax=(5000,'K'), comment=\"\"\"Thermo library: CurranPentane\"\"\"), molecule=[Molecule(smiles=\"CCC(C)O[O]\")], transport_data=TransportData(shapeIndex=2, epsilon=(3658.62,'J/mol'), sigma=(6.371,'angstrom'), dipoleMoment=(0,'De'), polarizability=(0,'angstrom^3'), rotrelaxcollnum=0.0, comment=\"\"\"Epsilon & sigma estimated with Tc=571.47 K, Pc=32.1 bar (from Joback method)\"\"\"), molecular_weight=(89.1131,'amu')), Species(index=187, label=\"SC4H9O2H\", thermo=NASA(polynomials=[NASAPolynomial(coeffs=[0.405945,0.064897,-4.98858e-05,2.00009e-08,-3.25194e-12,-29170.4,26.374], Tmin=(200,'K'), Tmax=(1395,'K')), NASAPolynomial(coeffs=[18.5277,0.0196998,-6.48704e-06,9.82426e-10,-5.60434e-14,-35115.3,-69.8323], Tmin=(1395,'K'), Tmax=(5000,'K'))], Tmin=(200,'K'), Tmax=(5000,'K'), comment=\"\"\"Thermo library: CurranPentane\"\"\"), molecule=[Molecule(smiles=\"CCC(C)OO\")], transport_data=TransportData(shapeIndex=2, epsilon=(3658.62,'J/mol'), sigma=(6.371,'angstrom'), dipoleMoment=(0,'De'), polarizability=(0,'angstrom^3'), rotrelaxcollnum=0.0, comment=\"\"\"Epsilon & sigma estimated with Tc=571.47 K, Pc=32.1 bar (from Joback method)\"\"\"), molecular_weight=(90.1211,'amu')))], family='Disproportionation')"
      ]
     },
     "metadata": {},
     "output_type": "display_data"
    },
    {
     "name": "stdout",
     "output_type": "stream",
     "text": [
      "no reaction calculated for Disproportionation, 1665\n"
     ]
    },
    {
     "data": {
      "image/png": "[encoded data removed]",
      "text/plain": [
       "TemplateReaction(index=1694, reactants=[Species(index=31, label=\"CH3O\", thermo=NASA(polynomials=[NASAPolynomial(coeffs=[3.71181,-0.00280463,3.76551e-05,-4.73072e-08,1.86588e-11,1295.7,6.57241], Tmin=(200,'K'), Tmax=(1000,'K')), NASAPolynomial(coeffs=[4.75779,0.00744142,-2.69705e-06,4.38091e-10,-2.63537e-14,378.112,-1.9668], Tmin=(1000,'K'), Tmax=(6000,'K'))], Tmin=(200,'K'), Tmax=(6000,'K'), comment=\"\"\"Thermo library: FFCM1(-)\"\"\"), molecule=[Molecule(smiles=\"C[O]\")], transport_data=TransportData(shapeIndex=2, epsilon=(3467.15,'J/mol'), sigma=(3.69,'angstrom'), dipoleMoment=(1.7,'De'), polarizability=(0,'angstrom^3'), rotrelaxcollnum=2.0, comment=\"\"\"GRI-Mech\"\"\"), molecular_weight=(31.034,'amu')), Species(index=47, label=\"C2H5O2\", thermo=NASA(polynomials=[NASAPolynomial(coeffs=[3.90352,0.0222599,-1.0161e-05,1.7171e-09,1.88167e-14,-5096.54,8.98723], Tmin=(200,'K'), Tmax=(1389,'K')), NASAPolynomial(coeffs=[9.50283,0.012043,-4.09492e-06,6.33049e-10,-3.66134e-14,-7370.69,-22.1717], Tmin=(1389,'K'), Tmax=(5000,'K'))], Tmin=(200,'K'), Tmax=(5000,'K'), comment=\"\"\"Thermo library: CurranPentane\"\"\"), molecule=[Molecule(smiles=\"CCO[O]\")], transport_data=TransportData(shapeIndex=2, epsilon=(3284.22,'J/mol'), sigma=(4.037,'angstrom'), dipoleMoment=(1.3,'De'), polarizability=(0,'angstrom^3'), rotrelaxcollnum=1.0, comment=\"\"\"NOx2018\"\"\"), molecular_weight=(61.0599,'amu'))], products=[Species(index=9, label=\"CH2O\", thermo=NASA(polynomials=[NASAPolynomial(coeffs=[4.79372,-0.00990833,3.7322e-05,-3.79285e-08,1.31773e-11,-14379.2,0.602798], Tmin=(200,'K'), Tmax=(1000,'K')), NASAPolynomial(coeffs=[3.16953,0.00619321,-2.25056e-06,3.65976e-10,-2.20149e-14,-14548.7,6.04208], Tmin=(1000,'K'), Tmax=(6000,'K'))], Tmin=(200,'K'), Tmax=(6000,'K'), comment=\"\"\"Thermo library: FFCM1(-)\"\"\"), molecule=[Molecule(smiles=\"C=O\")], transport_data=TransportData(shapeIndex=2, epsilon=(4140.62,'J/mol'), sigma=(3.59,'angstrom'), dipoleMoment=(0,'De'), polarizability=(0,'angstrom^3'), rotrelaxcollnum=2.0, comment=\"\"\"GRI-Mech\"\"\"), molecular_weight=(30.026,'amu')), Species(index=48, label=\"C2H5O2H\", thermo=NASA(polynomials=[NASAPolynomial(coeffs=[1.83755,0.0338054,-2.37548e-05,9.31975e-09,-1.58003e-12,-21581.4,18.0978], Tmin=(200,'K'), Tmax=(1390,'K')), NASAPolynomial(coeffs=[10.4824,0.013478,-4.62179e-06,7.18619e-10,-4.17307e-14,-24657.8,-28.4294], Tmin=(1390,'K'), Tmax=(5000,'K'))], Tmin=(200,'K'), Tmax=(5000,'K'), comment=\"\"\"Thermo library: CurranPentane\"\"\"), molecule=[Molecule(smiles=\"CCOO\")], transport_data=TransportData(shapeIndex=2, epsilon=(3284.22,'J/mol'), sigma=(4.037,'angstrom'), dipoleMoment=(1.3,'De'), polarizability=(0,'angstrom^3'), rotrelaxcollnum=1.0, comment=\"\"\"NOx2018\"\"\"), molecular_weight=(62.0679,'amu'))], kinetics=Arrhenius(A=(1.25307e+08,'cm^3/(mol*s)'), n=1.719, Ea=(0,'kcal/mol'), T0=(1,'K'), comment=\"\"\"Estimated from node Root_N-4R->H_4CNOS-u1_N-1R!H->O_4CNOS->O_Ext-4O-R_5R!H-u0\n",
       "Multiplied by reaction path degeneracy 3.0\"\"\"), degeneracy=3.0, pairs=[(Species(index=31, label=\"CH3O\", thermo=NASA(polynomials=[NASAPolynomial(coeffs=[3.71181,-0.00280463,3.76551e-05,-4.73072e-08,1.86588e-11,1295.7,6.57241], Tmin=(200,'K'), Tmax=(1000,'K')), NASAPolynomial(coeffs=[4.75779,0.00744142,-2.69705e-06,4.38091e-10,-2.63537e-14,378.112,-1.9668], Tmin=(1000,'K'), Tmax=(6000,'K'))], Tmin=(200,'K'), Tmax=(6000,'K'), comment=\"\"\"Thermo library: FFCM1(-)\"\"\"), molecule=[Molecule(smiles=\"C[O]\")], transport_data=TransportData(shapeIndex=2, epsilon=(3467.15,'J/mol'), sigma=(3.69,'angstrom'), dipoleMoment=(1.7,'De'), polarizability=(0,'angstrom^3'), rotrelaxcollnum=2.0, comment=\"\"\"GRI-Mech\"\"\"), molecular_weight=(31.034,'amu')), Species(index=9, label=\"CH2O\", thermo=NASA(polynomials=[NASAPolynomial(coeffs=[4.79372,-0.00990833,3.7322e-05,-3.79285e-08,1.31773e-11,-14379.2,0.602798], Tmin=(200,'K'), Tmax=(1000,'K')), NASAPolynomial(coeffs=[3.16953,0.00619321,-2.25056e-06,3.65976e-10,-2.20149e-14,-14548.7,6.04208], Tmin=(1000,'K'), Tmax=(6000,'K'))], Tmin=(200,'K'), Tmax=(6000,'K'), comment=\"\"\"Thermo library: FFCM1(-)\"\"\"), molecule=[Molecule(smiles=\"C=O\")], transport_data=TransportData(shapeIndex=2, epsilon=(4140.62,'J/mol'), sigma=(3.59,'angstrom'), dipoleMoment=(0,'De'), polarizability=(0,'angstrom^3'), rotrelaxcollnum=2.0, comment=\"\"\"GRI-Mech\"\"\"), molecular_weight=(30.026,'amu'))), (Species(index=47, label=\"C2H5O2\", thermo=NASA(polynomials=[NASAPolynomial(coeffs=[3.90352,0.0222599,-1.0161e-05,1.7171e-09,1.88167e-14,-5096.54,8.98723], Tmin=(200,'K'), Tmax=(1389,'K')), NASAPolynomial(coeffs=[9.50283,0.012043,-4.09492e-06,6.33049e-10,-3.66134e-14,-7370.69,-22.1717], Tmin=(1389,'K'), Tmax=(5000,'K'))], Tmin=(200,'K'), Tmax=(5000,'K'), comment=\"\"\"Thermo library: CurranPentane\"\"\"), molecule=[Molecule(smiles=\"CCO[O]\")], transport_data=TransportData(shapeIndex=2, epsilon=(3284.22,'J/mol'), sigma=(4.037,'angstrom'), dipoleMoment=(1.3,'De'), polarizability=(0,'angstrom^3'), rotrelaxcollnum=1.0, comment=\"\"\"NOx2018\"\"\"), molecular_weight=(61.0599,'amu')), Species(index=48, label=\"C2H5O2H\", thermo=NASA(polynomials=[NASAPolynomial(coeffs=[1.83755,0.0338054,-2.37548e-05,9.31975e-09,-1.58003e-12,-21581.4,18.0978], Tmin=(200,'K'), Tmax=(1390,'K')), NASAPolynomial(coeffs=[10.4824,0.013478,-4.62179e-06,7.18619e-10,-4.17307e-14,-24657.8,-28.4294], Tmin=(1390,'K'), Tmax=(5000,'K'))], Tmin=(200,'K'), Tmax=(5000,'K'), comment=\"\"\"Thermo library: CurranPentane\"\"\"), molecule=[Molecule(smiles=\"CCOO\")], transport_data=TransportData(shapeIndex=2, epsilon=(3284.22,'J/mol'), sigma=(4.037,'angstrom'), dipoleMoment=(1.3,'De'), polarizability=(0,'angstrom^3'), rotrelaxcollnum=1.0, comment=\"\"\"NOx2018\"\"\"), molecular_weight=(62.0679,'amu')))], family='Disproportionation')"
      ]
     },
     "metadata": {},
     "output_type": "display_data"
    },
    {
     "name": "stdout",
     "output_type": "stream",
     "text": [
      "no reaction calculated for Disproportionation, 427\n"
     ]
    },
    {
     "data": {
      "image/png": "[encoded data removed]",
      "text/plain": [
       "TemplateReaction(index=452, reactants=[Species(index=21, label=\"CH2CHO\", thermo=NASA(polynomials=[NASAPolynomial(coeffs=[2.66874,0.0096233,1.60617e-05,-2.87682e-08,1.2503e-11,219.438,12.5694], Tmin=(200,'K'), Tmax=(1000,'K')), NASAPolynomial(coeffs=[5.91637,0.0088465,-3.14955e-06,5.05413e-10,-3.01305e-14,-1047.8,-6.1065], Tmin=(1000,'K'), Tmax=(6000,'K'))], Tmin=(200,'K'), Tmax=(6000,'K'), comment=\"\"\"Thermo library: FFCM1(-)\"\"\"), molecule=[Molecule(smiles=\"[CH2]C=O\"), Molecule(smiles=\"C=C[O]\")], transport_data=TransportData(shapeIndex=2, epsilon=(3625.12,'J/mol'), sigma=(3.97,'angstrom'), dipoleMoment=(0,'De'), polarizability=(0,'angstrom^3'), rotrelaxcollnum=2.0, comment=\"\"\"GRI-Mech\"\"\"), molecular_weight=(43.0446,'amu')), Species(index=21, label=\"CH2CHO\", thermo=NASA(polynomials=[NASAPolynomial(coeffs=[2.66874,0.0096233,1.60617e-05,-2.87682e-08,1.2503e-11,219.438,12.5694], Tmin=(200,'K'), Tmax=(1000,'K')), NASAPolynomial(coeffs=[5.91637,0.0088465,-3.14955e-06,5.05413e-10,-3.01305e-14,-1047.8,-6.1065], Tmin=(1000,'K'), Tmax=(6000,'K'))], Tmin=(200,'K'), Tmax=(6000,'K'), comment=\"\"\"Thermo library: FFCM1(-)\"\"\"), molecule=[Molecule(smiles=\"[CH2]C=O\"), Molecule(smiles=\"C=C[O]\")], transport_data=TransportData(shapeIndex=2, epsilon=(3625.12,'J/mol'), sigma=(3.97,'angstrom'), dipoleMoment=(0,'De'), polarizability=(0,'angstrom^3'), rotrelaxcollnum=2.0, comment=\"\"\"GRI-Mech\"\"\"), molecular_weight=(43.0446,'amu'))], products=[Species(index=24, label=\"CH2CO\", thermo=NASA(polynomials=[NASAPolynomial(coeffs=[2.13241,0.0181319,-1.74093e-05,9.35336e-09,-2.01725e-12,-7148.09,13.3808], Tmin=(200,'K'), Tmax=(1000,'K')), NASAPolynomial(coeffs=[5.75871,0.00635124,-2.25955e-06,3.62322e-10,-2.15856e-14,-8085.33,-4.9649], Tmin=(1000,'K'), Tmax=(6000,'K'))], Tmin=(200,'K'), Tmax=(6000,'K'), comment=\"\"\"Thermo library: FFCM1(-)\"\"\"), molecule=[Molecule(smiles=\"C=C=O\")], transport_data=TransportData(shapeIndex=2, epsilon=(3625.12,'J/mol'), sigma=(3.97,'angstrom'), dipoleMoment=(0,'De'), polarizability=(0,'angstrom^3'), rotrelaxcollnum=2.0, comment=\"\"\"GRI-Mech\"\"\"), molecular_weight=(42.0366,'amu')), Species(index=35, label=\"CH3CHO\", thermo=NASA(polynomials=[NASAPolynomial(coeffs=[4.72946,-0.00319329,4.75349e-05,-5.74586e-08,2.19311e-11,-21572.9,4.10302], Tmin=(200,'K'), Tmax=(1000,'K')), NASAPolynomial(coeffs=[5.40411,0.0117231,-4.22631e-06,6.83725e-10,-4.09849e-14,-22593.1,-3.48079], Tmin=(1000,'K'), Tmax=(6000,'K'))], Tmin=(200,'K'), Tmax=(6000,'K'), comment=\"\"\"Thermo library: FFCM1(-)\"\"\"), molecule=[Molecule(smiles=\"CC=O\")], transport_data=TransportData(shapeIndex=2, epsilon=(3625.12,'J/mol'), sigma=(3.97,'angstrom'), dipoleMoment=(0,'De'), polarizability=(0,'angstrom^3'), rotrelaxcollnum=2.0, comment=\"\"\"GRI-Mech\"\"\"), molecular_weight=(44.0526,'amu'))], kinetics=Arrhenius(A=(2.71284e+10,'cm^3/(mol*s)'), n=0.47, Ea=(0,'kcal/mol'), T0=(1,'K'), comment=\"\"\"Estimated from node Root_Ext-1R!H-R_N-4R->O\n",
       "Multiplied by reaction path degeneracy 2.0\"\"\"), degeneracy=2.0, pairs=[(Species(index=21, label=\"CH2CHO\", thermo=NASA(polynomials=[NASAPolynomial(coeffs=[2.66874,0.0096233,1.60617e-05,-2.87682e-08,1.2503e-11,219.438,12.5694], Tmin=(200,'K'), Tmax=(1000,'K')), NASAPolynomial(coeffs=[5.91637,0.0088465,-3.14955e-06,5.05413e-10,-3.01305e-14,-1047.8,-6.1065], Tmin=(1000,'K'), Tmax=(6000,'K'))], Tmin=(200,'K'), Tmax=(6000,'K'), comment=\"\"\"Thermo library: FFCM1(-)\"\"\"), molecule=[Molecule(smiles=\"[CH2]C=O\"), Molecule(smiles=\"C=C[O]\")], transport_data=TransportData(shapeIndex=2, epsilon=(3625.12,'J/mol'), sigma=(3.97,'angstrom'), dipoleMoment=(0,'De'), polarizability=(0,'angstrom^3'), rotrelaxcollnum=2.0, comment=\"\"\"GRI-Mech\"\"\"), molecular_weight=(43.0446,'amu')), Species(index=35, label=\"CH3CHO\", thermo=NASA(polynomials=[NASAPolynomial(coeffs=[4.72946,-0.00319329,4.75349e-05,-5.74586e-08,2.19311e-11,-21572.9,4.10302], Tmin=(200,'K'), Tmax=(1000,'K')), NASAPolynomial(coeffs=[5.40411,0.0117231,-4.22631e-06,6.83725e-10,-4.09849e-14,-22593.1,-3.48079], Tmin=(1000,'K'), Tmax=(6000,'K'))], Tmin=(200,'K'), Tmax=(6000,'K'), comment=\"\"\"Thermo library: FFCM1(-)\"\"\"), molecule=[Molecule(smiles=\"CC=O\")], transport_data=TransportData(shapeIndex=2, epsilon=(3625.12,'J/mol'), sigma=(3.97,'angstrom'), dipoleMoment=(0,'De'), polarizability=(0,'angstrom^3'), rotrelaxcollnum=2.0, comment=\"\"\"GRI-Mech\"\"\"), molecular_weight=(44.0526,'amu'))), (Species(index=21, label=\"CH2CHO\", thermo=NASA(polynomials=[NASAPolynomial(coeffs=[2.66874,0.0096233,1.60617e-05,-2.87682e-08,1.2503e-11,219.438,12.5694], Tmin=(200,'K'), Tmax=(1000,'K')), NASAPolynomial(coeffs=[5.91637,0.0088465,-3.14955e-06,5.05413e-10,-3.01305e-14,-1047.8,-6.1065], Tmin=(1000,'K'), Tmax=(6000,'K'))], Tmin=(200,'K'), Tmax=(6000,'K'), comment=\"\"\"Thermo library: FFCM1(-)\"\"\"), molecule=[Molecule(smiles=\"[CH2]C=O\"), Molecule(smiles=\"C=C[O]\")], transport_data=TransportData(shapeIndex=2, epsilon=(3625.12,'J/mol'), sigma=(3.97,'angstrom'), dipoleMoment=(0,'De'), polarizability=(0,'angstrom^3'), rotrelaxcollnum=2.0, comment=\"\"\"GRI-Mech\"\"\"), molecular_weight=(43.0446,'amu')), Species(index=24, label=\"CH2CO\", thermo=NASA(polynomials=[NASAPolynomial(coeffs=[2.13241,0.0181319,-1.74093e-05,9.35336e-09,-2.01725e-12,-7148.09,13.3808], Tmin=(200,'K'), Tmax=(1000,'K')), NASAPolynomial(coeffs=[5.75871,0.00635124,-2.25955e-06,3.62322e-10,-2.15856e-14,-8085.33,-4.9649], Tmin=(1000,'K'), Tmax=(6000,'K'))], Tmin=(200,'K'), Tmax=(6000,'K'), comment=\"\"\"Thermo library: FFCM1(-)\"\"\"), molecule=[Molecule(smiles=\"C=C=O\")], transport_data=TransportData(shapeIndex=2, epsilon=(3625.12,'J/mol'), sigma=(3.97,'angstrom'), dipoleMoment=(0,'De'), polarizability=(0,'angstrom^3'), rotrelaxcollnum=2.0, comment=\"\"\"GRI-Mech\"\"\"), molecular_weight=(42.0366,'amu')))], family='Disproportionation')"
      ]
     },
     "metadata": {},
     "output_type": "display_data"
    },
    {
     "name": "stdout",
     "output_type": "stream",
     "text": [
      "no reaction calculated for Disproportionation, 1766\n"
     ]
    },
    {
     "data": {
      "image/png": "[encoded data removed]",
      "text/plain": [
       "TemplateReaction(index=1795, reactants=[Species(index=33, label=\"C2H5\", thermo=NASA(polynomials=[NASAPolynomial(coeffs=[4.24186,-0.00356905,4.82667e-05,-5.85401e-08,2.25805e-11,12969,4.44704], Tmin=(200,'K'), Tmax=(1000,'K')), NASAPolynomial(coeffs=[4.32196,0.0123931,-4.39681e-06,7.0352e-10,-4.18435e-14,12175.9,0.171104], Tmin=(1000,'K'), Tmax=(6000,'K'))], Tmin=(200,'K'), Tmax=(6000,'K'), comment=\"\"\"Thermo library: FFCM1(-)\"\"\"), molecule=[Molecule(smiles=\"C[CH2]\")], transport_data=TransportData(shapeIndex=2, epsilon=(2097.75,'J/mol'), sigma=(4.302,'angstrom'), dipoleMoment=(0,'De'), polarizability=(0,'angstrom^3'), rotrelaxcollnum=1.5, comment=\"\"\"GRI-Mech\"\"\"), molecular_weight=(29.0611,'amu')), Species(index=186, label=\"SC4H9O2\", thermo=NASA(polynomials=[NASAPolynomial(coeffs=[2.68574,0.0526274,-3.56095e-05,1.229e-08,-1.68623e-12,-12722.9,16.2317], Tmin=(200,'K'), Tmax=(1408,'K')), NASAPolynomial(coeffs=[17.1095,0.0190237,-6.29508e-06,9.55826e-10,-5.46024e-14,-17667.2,-61.14], Tmin=(1408,'K'), Tmax=(5000,'K'))], Tmin=(200,'K'), Tmax=(5000,'K'), comment=\"\"\"Thermo library: CurranPentane\"\"\"), molecule=[Molecule(smiles=\"CCC(C)O[O]\")], transport_data=TransportData(shapeIndex=2, epsilon=(3658.62,'J/mol'), sigma=(6.371,'angstrom'), dipoleMoment=(0,'De'), polarizability=(0,'angstrom^3'), rotrelaxcollnum=0.0, comment=\"\"\"Epsilon & sigma estimated with Tc=571.47 K, Pc=32.1 bar (from Joback method)\"\"\"), molecular_weight=(89.1131,'amu'))], products=[Species(index=11, label=\"C2H4\", thermo=NASA(polynomials=[NASAPolynomial(coeffs=[3.9592,-0.00757051,5.7099e-05,-6.91588e-08,2.69884e-11,5089.78,4.0973], Tmin=(200,'K'), Tmax=(1000,'K')), NASAPolynomial(coeffs=[3.99183,0.0104834,-3.71721e-06,5.94628e-10,-3.5363e-14,4268.66,-0.269082], Tmin=(1000,'K'), Tmax=(6000,'K'))], Tmin=(200,'K'), Tmax=(6000,'K'), comment=\"\"\"Thermo library: FFCM1(-)\"\"\"), molecule=[Molecule(smiles=\"C=C\")], transport_data=TransportData(shapeIndex=2, epsilon=(2334.71,'J/mol'), sigma=(3.971,'angstrom'), dipoleMoment=(0,'De'), polarizability=(0,'angstrom^3'), rotrelaxcollnum=1.5, comment=\"\"\"GRI-Mech\"\"\"), molecular_weight=(28.0532,'amu')), Species(index=187, label=\"SC4H9O2H\", thermo=NASA(polynomials=[NASAPolynomial(coeffs=[0.405945,0.064897,-4.98858e-05,2.00009e-08,-3.25194e-12,-29170.4,26.374], Tmin=(200,'K'), Tmax=(1395,'K')), NASAPolynomial(coeffs=[18.5277,0.0196998,-6.48704e-06,9.82426e-10,-5.60434e-14,-35115.3,-69.8323], Tmin=(1395,'K'), Tmax=(5000,'K'))], Tmin=(200,'K'), Tmax=(5000,'K'), comment=\"\"\"Thermo library: CurranPentane\"\"\"), molecule=[Molecule(smiles=\"CCC(C)OO\")], transport_data=TransportData(shapeIndex=2, epsilon=(3658.62,'J/mol'), sigma=(6.371,'angstrom'), dipoleMoment=(0,'De'), polarizability=(0,'angstrom^3'), rotrelaxcollnum=0.0, comment=\"\"\"Epsilon & sigma estimated with Tc=571.47 K, Pc=32.1 bar (from Joback method)\"\"\"), molecular_weight=(90.1211,'amu'))], kinetics=Arrhenius(A=(1.25307e+08,'cm^3/(mol*s)'), n=1.719, Ea=(0,'kcal/mol'), T0=(1,'K'), comment=\"\"\"Estimated from node Root_N-4R->H_4CNOS-u1_N-1R!H->O_4CNOS->O_Ext-4O-R_5R!H-u0\n",
       "Multiplied by reaction path degeneracy 3.0\"\"\"), degeneracy=3.0, pairs=[(Species(index=186, label=\"SC4H9O2\", thermo=NASA(polynomials=[NASAPolynomial(coeffs=[2.68574,0.0526274,-3.56095e-05,1.229e-08,-1.68623e-12,-12722.9,16.2317], Tmin=(200,'K'), Tmax=(1408,'K')), NASAPolynomial(coeffs=[17.1095,0.0190237,-6.29508e-06,9.55826e-10,-5.46024e-14,-17667.2,-61.14], Tmin=(1408,'K'), Tmax=(5000,'K'))], Tmin=(200,'K'), Tmax=(5000,'K'), comment=\"\"\"Thermo library: CurranPentane\"\"\"), molecule=[Molecule(smiles=\"CCC(C)O[O]\")], transport_data=TransportData(shapeIndex=2, epsilon=(3658.62,'J/mol'), sigma=(6.371,'angstrom'), dipoleMoment=(0,'De'), polarizability=(0,'angstrom^3'), rotrelaxcollnum=0.0, comment=\"\"\"Epsilon & sigma estimated with Tc=571.47 K, Pc=32.1 bar (from Joback method)\"\"\"), molecular_weight=(89.1131,'amu')), Species(index=187, label=\"SC4H9O2H\", thermo=NASA(polynomials=[NASAPolynomial(coeffs=[0.405945,0.064897,-4.98858e-05,2.00009e-08,-3.25194e-12,-29170.4,26.374], Tmin=(200,'K'), Tmax=(1395,'K')), NASAPolynomial(coeffs=[18.5277,0.0196998,-6.48704e-06,9.82426e-10,-5.60434e-14,-35115.3,-69.8323], Tmin=(1395,'K'), Tmax=(5000,'K'))], Tmin=(200,'K'), Tmax=(5000,'K'), comment=\"\"\"Thermo library: CurranPentane\"\"\"), molecule=[Molecule(smiles=\"CCC(C)OO\")], transport_data=TransportData(shapeIndex=2, epsilon=(3658.62,'J/mol'), sigma=(6.371,'angstrom'), dipoleMoment=(0,'De'), polarizability=(0,'angstrom^3'), rotrelaxcollnum=0.0, comment=\"\"\"Epsilon & sigma estimated with Tc=571.47 K, Pc=32.1 bar (from Joback method)\"\"\"), molecular_weight=(90.1211,'amu'))), (Species(index=33, label=\"C2H5\", thermo=NASA(polynomials=[NASAPolynomial(coeffs=[4.24186,-0.00356905,4.82667e-05,-5.85401e-08,2.25805e-11,12969,4.44704], Tmin=(200,'K'), Tmax=(1000,'K')), NASAPolynomial(coeffs=[4.32196,0.0123931,-4.39681e-06,7.0352e-10,-4.18435e-14,12175.9,0.171104], Tmin=(1000,'K'), Tmax=(6000,'K'))], Tmin=(200,'K'), Tmax=(6000,'K'), comment=\"\"\"Thermo library: FFCM1(-)\"\"\"), molecule=[Molecule(smiles=\"C[CH2]\")], transport_data=TransportData(shapeIndex=2, epsilon=(2097.75,'J/mol'), sigma=(4.302,'angstrom'), dipoleMoment=(0,'De'), polarizability=(0,'angstrom^3'), rotrelaxcollnum=1.5, comment=\"\"\"GRI-Mech\"\"\"), molecular_weight=(29.0611,'amu')), Species(index=11, label=\"C2H4\", thermo=NASA(polynomials=[NASAPolynomial(coeffs=[3.9592,-0.00757051,5.7099e-05,-6.91588e-08,2.69884e-11,5089.78,4.0973], Tmin=(200,'K'), Tmax=(1000,'K')), NASAPolynomial(coeffs=[3.99183,0.0104834,-3.71721e-06,5.94628e-10,-3.5363e-14,4268.66,-0.269082], Tmin=(1000,'K'), Tmax=(6000,'K'))], Tmin=(200,'K'), Tmax=(6000,'K'), comment=\"\"\"Thermo library: FFCM1(-)\"\"\"), molecule=[Molecule(smiles=\"C=C\")], transport_data=TransportData(shapeIndex=2, epsilon=(2334.71,'J/mol'), sigma=(3.971,'angstrom'), dipoleMoment=(0,'De'), polarizability=(0,'angstrom^3'), rotrelaxcollnum=1.5, comment=\"\"\"GRI-Mech\"\"\"), molecular_weight=(28.0532,'amu')))], family='Disproportionation')"
      ]
     },
     "metadata": {},
     "output_type": "display_data"
    },
    {
     "name": "stdout",
     "output_type": "stream",
     "text": [
      "no reaction calculated for Disproportionation, 1773\n"
     ]
    },
    {
     "data": {
      "image/png": "[encoded data removed]",
      "text/plain": [
       "TemplateReaction(index=1802, reactants=[Species(index=183, label=\"SC4H9\", thermo=NASA(polynomials=[NASAPolynomial(coeffs=[0.623604,0.039929,-1.89597e-05,3.45938e-09,-2.39236e-14,6176.89,25.2738], Tmin=(200,'K'), Tmax=(1388,'K')), NASAPolynomial(coeffs=[11.137,0.0204039,-6.97571e-06,1.08245e-09,-6.27715e-14,1955.91,-33.0856], Tmin=(1388,'K'), Tmax=(5000,'K'))], Tmin=(200,'K'), Tmax=(5000,'K'), comment=\"\"\"Thermo library: CurranPentane\"\"\"), molecule=[Molecule(smiles=\"C[CH]CC\")], transport_data=TransportData(shapeIndex=2, epsilon=(2968.28,'J/mol'), sigma=(5.176,'angstrom'), dipoleMoment=(0,'De'), polarizability=(0,'angstrom^3'), rotrelaxcollnum=1.0, comment=\"\"\"GRI-Mech\"\"\"), molecular_weight=(57.1143,'amu')), Species(index=186, label=\"SC4H9O2\", thermo=NASA(polynomials=[NASAPolynomial(coeffs=[2.68574,0.0526274,-3.56095e-05,1.229e-08,-1.68623e-12,-12722.9,16.2317], Tmin=(200,'K'), Tmax=(1408,'K')), NASAPolynomial(coeffs=[17.1095,0.0190237,-6.29508e-06,9.55826e-10,-5.46024e-14,-17667.2,-61.14], Tmin=(1408,'K'), Tmax=(5000,'K'))], Tmin=(200,'K'), Tmax=(5000,'K'), comment=\"\"\"Thermo library: CurranPentane\"\"\"), molecule=[Molecule(smiles=\"CCC(C)O[O]\")], transport_data=TransportData(shapeIndex=2, epsilon=(3658.62,'J/mol'), sigma=(6.371,'angstrom'), dipoleMoment=(0,'De'), polarizability=(0,'angstrom^3'), rotrelaxcollnum=0.0, comment=\"\"\"Epsilon & sigma estimated with Tc=571.47 K, Pc=32.1 bar (from Joback method)\"\"\"), molecular_weight=(89.1131,'amu'))], products=[Species(index=189, label=\"C4H8-2\", thermo=NASA(polynomials=[NASAPolynomial(coeffs=[5.57279,0.00376541,6.52227e-05,-8.3091e-08,3.20311e-11,-3601.28,0.537797], Tmin=(200,'K'), Tmax=(1000,'K')), NASAPolynomial(coeffs=[7.89115,0.0224971,-8.12144e-06,1.31274e-09,-7.84452e-14,-5516.43,-17.6436], Tmin=(1000,'K'), Tmax=(6000,'K'))], Tmin=(200,'K'), Tmax=(6000,'K'), comment=\"\"\"Thermo library: CurranPentane\"\"\"), molecule=[Molecule(smiles=\"CC=CC\")], transport_data=TransportData(shapeIndex=2, epsilon=(2985.34,'J/mol'), sigma=(5.289,'angstrom'), dipoleMoment=(0,'De'), polarizability=(0,'angstrom^3'), rotrelaxcollnum=0.0, comment=\"\"\"Epsilon & sigma estimated with Tc=466.30 K, Pc=45.78 bar (from Joback method)\"\"\"), molecular_weight=(56.1063,'amu')), Species(index=187, label=\"SC4H9O2H\", thermo=NASA(polynomials=[NASAPolynomial(coeffs=[0.405945,0.064897,-4.98858e-05,2.00009e-08,-3.25194e-12,-29170.4,26.374], Tmin=(200,'K'), Tmax=(1395,'K')), NASAPolynomial(coeffs=[18.5277,0.0196998,-6.48704e-06,9.82426e-10,-5.60434e-14,-35115.3,-69.8323], Tmin=(1395,'K'), Tmax=(5000,'K'))], Tmin=(200,'K'), Tmax=(5000,'K'), comment=\"\"\"Thermo library: CurranPentane\"\"\"), molecule=[Molecule(smiles=\"CCC(C)OO\")], transport_data=TransportData(shapeIndex=2, epsilon=(3658.62,'J/mol'), sigma=(6.371,'angstrom'), dipoleMoment=(0,'De'), polarizability=(0,'angstrom^3'), rotrelaxcollnum=0.0, comment=\"\"\"Epsilon & sigma estimated with Tc=571.47 K, Pc=32.1 bar (from Joback method)\"\"\"), molecular_weight=(90.1211,'amu'))], kinetics=Arrhenius(A=(2.05952e+14,'cm^3/(mol*s)'), n=-1.084, Ea=(0,'kcal/mol'), T0=(1,'K'), comment=\"\"\"Estimated from node Root_Ext-1R!H-R_4R->O_Ext-4O-R_Sp-5R!H-1R!H\n",
       "Multiplied by reaction path degeneracy 2.0\"\"\"), degeneracy=2.0, pairs=[(Species(index=186, label=\"SC4H9O2\", thermo=NASA(polynomials=[NASAPolynomial(coeffs=[2.68574,0.0526274,-3.56095e-05,1.229e-08,-1.68623e-12,-12722.9,16.2317], Tmin=(200,'K'), Tmax=(1408,'K')), NASAPolynomial(coeffs=[17.1095,0.0190237,-6.29508e-06,9.55826e-10,-5.46024e-14,-17667.2,-61.14], Tmin=(1408,'K'), Tmax=(5000,'K'))], Tmin=(200,'K'), Tmax=(5000,'K'), comment=\"\"\"Thermo library: CurranPentane\"\"\"), molecule=[Molecule(smiles=\"CCC(C)O[O]\")], transport_data=TransportData(shapeIndex=2, epsilon=(3658.62,'J/mol'), sigma=(6.371,'angstrom'), dipoleMoment=(0,'De'), polarizability=(0,'angstrom^3'), rotrelaxcollnum=0.0, comment=\"\"\"Epsilon & sigma estimated with Tc=571.47 K, Pc=32.1 bar (from Joback method)\"\"\"), molecular_weight=(89.1131,'amu')), Species(index=187, label=\"SC4H9O2H\", thermo=NASA(polynomials=[NASAPolynomial(coeffs=[0.405945,0.064897,-4.98858e-05,2.00009e-08,-3.25194e-12,-29170.4,26.374], Tmin=(200,'K'), Tmax=(1395,'K')), NASAPolynomial(coeffs=[18.5277,0.0196998,-6.48704e-06,9.82426e-10,-5.60434e-14,-35115.3,-69.8323], Tmin=(1395,'K'), Tmax=(5000,'K'))], Tmin=(200,'K'), Tmax=(5000,'K'), comment=\"\"\"Thermo library: CurranPentane\"\"\"), molecule=[Molecule(smiles=\"CCC(C)OO\")], transport_data=TransportData(shapeIndex=2, epsilon=(3658.62,'J/mol'), sigma=(6.371,'angstrom'), dipoleMoment=(0,'De'), polarizability=(0,'angstrom^3'), rotrelaxcollnum=0.0, comment=\"\"\"Epsilon & sigma estimated with Tc=571.47 K, Pc=32.1 bar (from Joback method)\"\"\"), molecular_weight=(90.1211,'amu'))), (Species(index=183, label=\"SC4H9\", thermo=NASA(polynomials=[NASAPolynomial(coeffs=[0.623604,0.039929,-1.89597e-05,3.45938e-09,-2.39236e-14,6176.89,25.2738], Tmin=(200,'K'), Tmax=(1388,'K')), NASAPolynomial(coeffs=[11.137,0.0204039,-6.97571e-06,1.08245e-09,-6.27715e-14,1955.91,-33.0856], Tmin=(1388,'K'), Tmax=(5000,'K'))], Tmin=(200,'K'), Tmax=(5000,'K'), comment=\"\"\"Thermo library: CurranPentane\"\"\"), molecule=[Molecule(smiles=\"C[CH]CC\")], transport_data=TransportData(shapeIndex=2, epsilon=(2968.28,'J/mol'), sigma=(5.176,'angstrom'), dipoleMoment=(0,'De'), polarizability=(0,'angstrom^3'), rotrelaxcollnum=1.0, comment=\"\"\"GRI-Mech\"\"\"), molecular_weight=(57.1143,'amu')), Species(index=189, label=\"C4H8-2\", thermo=NASA(polynomials=[NASAPolynomial(coeffs=[5.57279,0.00376541,6.52227e-05,-8.3091e-08,3.20311e-11,-3601.28,0.537797], Tmin=(200,'K'), Tmax=(1000,'K')), NASAPolynomial(coeffs=[7.89115,0.0224971,-8.12144e-06,1.31274e-09,-7.84452e-14,-5516.43,-17.6436], Tmin=(1000,'K'), Tmax=(6000,'K'))], Tmin=(200,'K'), Tmax=(6000,'K'), comment=\"\"\"Thermo library: CurranPentane\"\"\"), molecule=[Molecule(smiles=\"CC=CC\")], transport_data=TransportData(shapeIndex=2, epsilon=(2985.34,'J/mol'), sigma=(5.289,'angstrom'), dipoleMoment=(0,'De'), polarizability=(0,'angstrom^3'), rotrelaxcollnum=0.0, comment=\"\"\"Epsilon & sigma estimated with Tc=466.30 K, Pc=45.78 bar (from Joback method)\"\"\"), molecular_weight=(56.1063,'amu')))], family='Disproportionation')"
      ]
     },
     "metadata": {},
     "output_type": "display_data"
    },
    {
     "name": "stdout",
     "output_type": "stream",
     "text": [
      "no reaction calculated for Disproportionation, 918\n"
     ]
    },
    {
     "data": {
      "image/png": "[encoded data removed]",
      "text/plain": [
       "TemplateReaction(index=947, reactants=[Species(index=16, label=\"HO2\", thermo=NASA(polynomials=[NASAPolynomial(coeffs=[4.02957,-0.00263999,1.52236e-05,-1.71679e-08,6.26772e-12,322.677,4.84424], Tmin=(100,'K'), Tmax=(923.9,'K')), NASAPolynomial(coeffs=[4.1513,0.00191152,-4.11308e-07,6.35039e-11,-4.86454e-15,83.4343,3.09359], Tmin=(923.9,'K'), Tmax=(5000,'K'))], Tmin=(100,'K'), Tmax=(5000,'K'), comment=\"\"\"Thermo library: BurkeH2O2\"\"\"), molecule=[Molecule(smiles=\"[O]O\")], transport_data=TransportData(shapeIndex=2, epsilon=(892.974,'J/mol'), sigma=(3.458,'angstrom'), dipoleMoment=(0,'De'), polarizability=(0,'angstrom^3'), rotrelaxcollnum=1.0, comment=\"\"\"GRI-Mech\"\"\"), molecular_weight=(33.0068,'amu')), Species(index=777, label=\"CC(CC[O])OO\", thermo=NASA(polynomials=[NASAPolynomial(coeffs=[1.52838,0.0649818,-2.85069e-05,-6.32028e-08,7.58891e-11,-21497.7,25.3392], Tmin=(100,'K'), Tmax=(473.59,'K')), NASAPolynomial(coeffs=[5.86388,0.045611,-2.17807e-05,4.22577e-09,-2.97573e-13,-22101.8,5.6213], Tmin=(473.59,'K'), Tmax=(5000,'K'))], Tmin=(100,'K'), Tmax=(5000,'K'), comment=\"\"\"Thermo group additivity estimation: group(O2s-OsCs) + group(O2s-CsH) + group(O2s-OsH) + group(Cs-CsCsOsH) + group(Cs-CsCsHH) + group(Cs-CsOsHH) +\n",
       "group(Cs-CsHHH) + radical(CCOJ)\"\"\"), molecule=[Molecule(smiles=\"CC(CC[O])OO\")], transport_data=TransportData(shapeIndex=2, epsilon=(4219.77,'J/mol'), sigma=(7.07,'angstrom'), dipoleMoment=(0,'De'), polarizability=(0,'angstrom^3'), rotrelaxcollnum=0.0, comment=\"\"\"Epsilon & sigma estimated with Tc=659.12 K, Pc=27.1 bar (from Joback method)\"\"\"), molecular_weight=(105.113,'amu'))], products=[Species(index=17, label=\"H2O2\", thermo=NASA(polynomials=[NASAPolynomial(coeffs=[3.72867,0.00413377,5.67497e-06,-1.01866e-08,4.28612e-12,-17696.4,5.35912], Tmin=(100,'K'), Tmax=(923.27,'K')), NASAPolynomial(coeffs=[4.95152,0.0035423,-1.01041e-06,1.61942e-10,-1.10209e-14,-18122.8,-1.52912], Tmin=(923.27,'K'), Tmax=(5000,'K'))], Tmin=(100,'K'), Tmax=(5000,'K'), comment=\"\"\"Thermo library: BurkeH2O2\"\"\"), molecule=[Molecule(smiles=\"OO\")], transport_data=TransportData(shapeIndex=2, epsilon=(2405.38,'J/mol'), sigma=(4.196,'angstrom'), dipoleMoment=(0,'De'), polarizability=(0,'angstrom^3'), rotrelaxcollnum=0.0, comment=\"\"\"PrimaryTransportLibrary\"\"\"), molecular_weight=(34.0147,'amu')), Species(index=252, label=\"NC4KET13\", thermo=NASA(polynomials=[NASAPolynomial(coeffs=[5.01329,0.0446936,-1.93603e-05,9.36915e-10,8.79545e-13,-40111.6,8.45811], Tmin=(200,'K'), Tmax=(1359,'K')), NASAPolynomial(coeffs=[20.5329,0.0177924,-6.33304e-06,1.0098e-09,-5.96861e-14,-46451.6,-78.2394], Tmin=(1359,'K'), Tmax=(5000,'K'))], Tmin=(200,'K'), Tmax=(5000,'K'), comment=\"\"\"Thermo library: CurranPentane\"\"\"), molecule=[Molecule(smiles=\"CC(CC=O)OO\")], transport_data=TransportData(shapeIndex=2, epsilon=(4012.75,'J/mol'), sigma=(6.595,'angstrom'), dipoleMoment=(0,'De'), polarizability=(0,'angstrom^3'), rotrelaxcollnum=0.0, comment=\"\"\"Epsilon & sigma estimated with Tc=626.78 K, Pc=31.74 bar (from Joback method)\"\"\"), molecular_weight=(104.105,'amu'))], kinetics=Arrhenius(A=(1.88902e+10,'cm^3/(mol*s)'), n=0.509, Ea=(0,'kcal/mol'), T0=(1,'K'), comment=\"\"\"Estimated from node Root_Ext-1R!H-R\n",
       "Multiplied by reaction path degeneracy 2.0\"\"\"), degeneracy=2.0, pairs=[(Species(index=777, label=\"CC(CC[O])OO\", thermo=NASA(polynomials=[NASAPolynomial(coeffs=[1.52838,0.0649818,-2.85069e-05,-6.32028e-08,7.58891e-11,-21497.7,25.3392], Tmin=(100,'K'), Tmax=(473.59,'K')), NASAPolynomial(coeffs=[5.86388,0.045611,-2.17807e-05,4.22577e-09,-2.97573e-13,-22101.8,5.6213], Tmin=(473.59,'K'), Tmax=(5000,'K'))], Tmin=(100,'K'), Tmax=(5000,'K'), comment=\"\"\"Thermo group additivity estimation: group(O2s-OsCs) + group(O2s-CsH) + group(O2s-OsH) + group(Cs-CsCsOsH) + group(Cs-CsCsHH) + group(Cs-CsOsHH) +\n",
       "group(Cs-CsHHH) + radical(CCOJ)\"\"\"), molecule=[Molecule(smiles=\"CC(CC[O])OO\")], transport_data=TransportData(shapeIndex=2, epsilon=(4219.77,'J/mol'), sigma=(7.07,'angstrom'), dipoleMoment=(0,'De'), polarizability=(0,'angstrom^3'), rotrelaxcollnum=0.0, comment=\"\"\"Epsilon & sigma estimated with Tc=659.12 K, Pc=27.1 bar (from Joback method)\"\"\"), molecular_weight=(105.113,'amu')), Species(index=252, label=\"NC4KET13\", thermo=NASA(polynomials=[NASAPolynomial(coeffs=[5.01329,0.0446936,-1.93603e-05,9.36915e-10,8.79545e-13,-40111.6,8.45811], Tmin=(200,'K'), Tmax=(1359,'K')), NASAPolynomial(coeffs=[20.5329,0.0177924,-6.33304e-06,1.0098e-09,-5.96861e-14,-46451.6,-78.2394], Tmin=(1359,'K'), Tmax=(5000,'K'))], Tmin=(200,'K'), Tmax=(5000,'K'), comment=\"\"\"Thermo library: CurranPentane\"\"\"), molecule=[Molecule(smiles=\"CC(CC=O)OO\")], transport_data=TransportData(shapeIndex=2, epsilon=(4012.75,'J/mol'), sigma=(6.595,'angstrom'), dipoleMoment=(0,'De'), polarizability=(0,'angstrom^3'), rotrelaxcollnum=0.0, comment=\"\"\"Epsilon & sigma estimated with Tc=626.78 K, Pc=31.74 bar (from Joback method)\"\"\"), molecular_weight=(104.105,'amu'))), (Species(index=16, label=\"HO2\", thermo=NASA(polynomials=[NASAPolynomial(coeffs=[4.02957,-0.00263999,1.52236e-05,-1.71679e-08,6.26772e-12,322.677,4.84424], Tmin=(100,'K'), Tmax=(923.9,'K')), NASAPolynomial(coeffs=[4.1513,0.00191152,-4.11308e-07,6.35039e-11,-4.86454e-15,83.4343,3.09359], Tmin=(923.9,'K'), Tmax=(5000,'K'))], Tmin=(100,'K'), Tmax=(5000,'K'), comment=\"\"\"Thermo library: BurkeH2O2\"\"\"), molecule=[Molecule(smiles=\"[O]O\")], transport_data=TransportData(shapeIndex=2, epsilon=(892.974,'J/mol'), sigma=(3.458,'angstrom'), dipoleMoment=(0,'De'), polarizability=(0,'angstrom^3'), rotrelaxcollnum=1.0, comment=\"\"\"GRI-Mech\"\"\"), molecular_weight=(33.0068,'amu')), Species(index=17, label=\"H2O2\", thermo=NASA(polynomials=[NASAPolynomial(coeffs=[3.72867,0.00413377,5.67497e-06,-1.01866e-08,4.28612e-12,-17696.4,5.35912], Tmin=(100,'K'), Tmax=(923.27,'K')), NASAPolynomial(coeffs=[4.95152,0.0035423,-1.01041e-06,1.61942e-10,-1.10209e-14,-18122.8,-1.52912], Tmin=(923.27,'K'), Tmax=(5000,'K'))], Tmin=(100,'K'), Tmax=(5000,'K'), comment=\"\"\"Thermo library: BurkeH2O2\"\"\"), molecule=[Molecule(smiles=\"OO\")], transport_data=TransportData(shapeIndex=2, epsilon=(2405.38,'J/mol'), sigma=(4.196,'angstrom'), dipoleMoment=(0,'De'), polarizability=(0,'angstrom^3'), rotrelaxcollnum=0.0, comment=\"\"\"PrimaryTransportLibrary\"\"\"), molecular_weight=(34.0147,'amu')))], family='Disproportionation')"
      ]
     },
     "metadata": {},
     "output_type": "display_data"
    },
    {
     "name": "stdout",
     "output_type": "stream",
     "text": [
      "no reaction calculated for H_Abstraction, 692\n"
     ]
    },
    {
     "data": {
      "image/png": "[encoded data removed]",
      "text/plain": [
       "TemplateReaction(index=721, reactants=[Species(index=16, label=\"HO2\", thermo=NASA(polynomials=[NASAPolynomial(coeffs=[4.02957,-0.00263999,1.52236e-05,-1.71679e-08,6.26772e-12,322.677,4.84424], Tmin=(100,'K'), Tmax=(923.9,'K')), NASAPolynomial(coeffs=[4.1513,0.00191152,-4.11308e-07,6.35039e-11,-4.86454e-15,83.4343,3.09359], Tmin=(923.9,'K'), Tmax=(5000,'K'))], Tmin=(100,'K'), Tmax=(5000,'K'), comment=\"\"\"Thermo library: BurkeH2O2\"\"\"), molecule=[Molecule(smiles=\"[O]O\")], transport_data=TransportData(shapeIndex=2, epsilon=(892.974,'J/mol'), sigma=(3.458,'angstrom'), dipoleMoment=(0,'De'), polarizability=(0,'angstrom^3'), rotrelaxcollnum=1.0, comment=\"\"\"GRI-Mech\"\"\"), molecular_weight=(33.0068,'amu')), Species(index=766, label=\"[CH2]CC(C)[O]\", thermo=NASA(polynomials=[NASAPolynomial(coeffs=[1.83921,0.0456813,-3.00029e-05,1.02467e-08,-1.45619e-12,14457.6,19.8469], Tmin=(100,'K'), Tmax=(1580.38,'K')), NASAPolynomial(coeffs=[10.1549,0.0246339,-1.00258e-05,1.81953e-09,-1.23089e-13,11829.2,-24.0771], Tmin=(1580.38,'K'), Tmax=(5000,'K'))], Tmin=(100,'K'), Tmax=(5000,'K'), comment=\"\"\"Thermo library: CBS_QB3_1dHR + radical(CC(C)OJ) + radical(RCCJ)\"\"\"), molecule=[Molecule(smiles=\"[CH2]CC(C)[O]\")], transport_data=TransportData(shapeIndex=2, epsilon=(3512.21,'J/mol'), sigma=(6.173,'angstrom'), dipoleMoment=(0,'De'), polarizability=(0,'angstrom^3'), rotrelaxcollnum=0.0, comment=\"\"\"Epsilon & sigma estimated with Tc=548.60 K, Pc=33.88 bar (from Joback method)\"\"\"), molecular_weight=(72.1057,'amu'))], products=[Species(index=2, label=\"O2\", thermo=NASA(polynomials=[NASAPolynomial(coeffs=[3.53764,-0.00122828,5.36759e-06,-4.93128e-09,1.45955e-12,-1037.99,4.6718], Tmin=(100,'K'), Tmax=(1087.71,'K')), NASAPolynomial(coeffs=[3.16427,0.00169454,-8.00335e-07,1.5903e-10,-1.14891e-14,-1048.45,6.08303], Tmin=(1087.71,'K'), Tmax=(5000,'K'))], Tmin=(100,'K'), Tmax=(5000,'K'), comment=\"\"\"Thermo library: BurkeH2O2\"\"\"), molecule=[Molecule(smiles=\"[O][O]\")], transport_data=TransportData(shapeIndex=1, epsilon=(887.154,'J/mol'), sigma=(3.467,'angstrom'), dipoleMoment=(0,'De'), polarizability=(0,'angstrom^3'), rotrelaxcollnum=0.0, comment=\"\"\"PrimaryTransportLibrary\"\"\"), molecular_weight=(31.9988,'amu')), Species(index=217, label=\"SC4H9O\", thermo=NASA(polynomials=[NASAPolynomial(coeffs=[-0.409001,0.0538573,-3.39106e-05,1.01024e-08,-1.11268e-12,-11111,28.8555], Tmin=(200,'K'), Tmax=(1679,'K')), NASAPolynomial(coeffs=[14.3323,0.0204542,-7.12272e-06,1.12545e-09,-6.62698e-14,-16000.7,-50.2031], Tmin=(1679,'K'), Tmax=(5000,'K'))], Tmin=(200,'K'), Tmax=(5000,'K'), comment=\"\"\"Thermo library: CurranPentane\"\"\"), molecule=[Molecule(smiles=\"CCC(C)[O]\")], transport_data=TransportData(shapeIndex=2, epsilon=(3512.21,'J/mol'), sigma=(6.173,'angstrom'), dipoleMoment=(0,'De'), polarizability=(0,'angstrom^3'), rotrelaxcollnum=0.0, comment=\"\"\"Epsilon & sigma estimated with Tc=548.60 K, Pc=33.88 bar (from Joback method)\"\"\"), molecular_weight=(73.1137,'amu'))], kinetics=Arrhenius(A=(3.06232,'cm^3/(mol*s)'), n=3.295, Ea=(9.354,'kcal/mol'), T0=(1,'K'), comment=\"\"\"Estimated using template [X_H;C_rad/H2/Cs] for rate rule [Orad_O_H;C_rad/H2/Cs]\n",
       "Euclidian distance = 2.0\n",
       "family: H_Abstraction\"\"\"), pairs=[(Species(index=16, label=\"HO2\", thermo=NASA(polynomials=[NASAPolynomial(coeffs=[4.02957,-0.00263999,1.52236e-05,-1.71679e-08,6.26772e-12,322.677,4.84424], Tmin=(100,'K'), Tmax=(923.9,'K')), NASAPolynomial(coeffs=[4.1513,0.00191152,-4.11308e-07,6.35039e-11,-4.86454e-15,83.4343,3.09359], Tmin=(923.9,'K'), Tmax=(5000,'K'))], Tmin=(100,'K'), Tmax=(5000,'K'), comment=\"\"\"Thermo library: BurkeH2O2\"\"\"), molecule=[Molecule(smiles=\"[O]O\")], transport_data=TransportData(shapeIndex=2, epsilon=(892.974,'J/mol'), sigma=(3.458,'angstrom'), dipoleMoment=(0,'De'), polarizability=(0,'angstrom^3'), rotrelaxcollnum=1.0, comment=\"\"\"GRI-Mech\"\"\"), molecular_weight=(33.0068,'amu')), Species(index=2, label=\"O2\", thermo=NASA(polynomials=[NASAPolynomial(coeffs=[3.53764,-0.00122828,5.36759e-06,-4.93128e-09,1.45955e-12,-1037.99,4.6718], Tmin=(100,'K'), Tmax=(1087.71,'K')), NASAPolynomial(coeffs=[3.16427,0.00169454,-8.00335e-07,1.5903e-10,-1.14891e-14,-1048.45,6.08303], Tmin=(1087.71,'K'), Tmax=(5000,'K'))], Tmin=(100,'K'), Tmax=(5000,'K'), comment=\"\"\"Thermo library: BurkeH2O2\"\"\"), molecule=[Molecule(smiles=\"[O][O]\")], transport_data=TransportData(shapeIndex=1, epsilon=(887.154,'J/mol'), sigma=(3.467,'angstrom'), dipoleMoment=(0,'De'), polarizability=(0,'angstrom^3'), rotrelaxcollnum=0.0, comment=\"\"\"PrimaryTransportLibrary\"\"\"), molecular_weight=(31.9988,'amu'))), (Species(index=766, label=\"[CH2]CC(C)[O]\", thermo=NASA(polynomials=[NASAPolynomial(coeffs=[1.83921,0.0456813,-3.00029e-05,1.02467e-08,-1.45619e-12,14457.6,19.8469], Tmin=(100,'K'), Tmax=(1580.38,'K')), NASAPolynomial(coeffs=[10.1549,0.0246339,-1.00258e-05,1.81953e-09,-1.23089e-13,11829.2,-24.0771], Tmin=(1580.38,'K'), Tmax=(5000,'K'))], Tmin=(100,'K'), Tmax=(5000,'K'), comment=\"\"\"Thermo library: CBS_QB3_1dHR + radical(CC(C)OJ) + radical(RCCJ)\"\"\"), molecule=[Molecule(smiles=\"[CH2]CC(C)[O]\")], transport_data=TransportData(shapeIndex=2, epsilon=(3512.21,'J/mol'), sigma=(6.173,'angstrom'), dipoleMoment=(0,'De'), polarizability=(0,'angstrom^3'), rotrelaxcollnum=0.0, comment=\"\"\"Epsilon & sigma estimated with Tc=548.60 K, Pc=33.88 bar (from Joback method)\"\"\"), molecular_weight=(72.1057,'amu')), Species(index=217, label=\"SC4H9O\", thermo=NASA(polynomials=[NASAPolynomial(coeffs=[-0.409001,0.0538573,-3.39106e-05,1.01024e-08,-1.11268e-12,-11111,28.8555], Tmin=(200,'K'), Tmax=(1679,'K')), NASAPolynomial(coeffs=[14.3323,0.0204542,-7.12272e-06,1.12545e-09,-6.62698e-14,-16000.7,-50.2031], Tmin=(1679,'K'), Tmax=(5000,'K'))], Tmin=(200,'K'), Tmax=(5000,'K'), comment=\"\"\"Thermo library: CurranPentane\"\"\"), molecule=[Molecule(smiles=\"CCC(C)[O]\")], transport_data=TransportData(shapeIndex=2, epsilon=(3512.21,'J/mol'), sigma=(6.173,'angstrom'), dipoleMoment=(0,'De'), polarizability=(0,'angstrom^3'), rotrelaxcollnum=0.0, comment=\"\"\"Epsilon & sigma estimated with Tc=548.60 K, Pc=33.88 bar (from Joback method)\"\"\"), molecular_weight=(73.1137,'amu')))], family='H_Abstraction', template=['Orad_O_H', 'C_rad/H2/Cs'])"
      ]
     },
     "metadata": {},
     "output_type": "display_data"
    },
    {
     "name": "stdout",
     "output_type": "stream",
     "text": [
      "no reaction calculated for Disproportionation, 1428\n"
     ]
    },
    {
     "data": {
      "image/png": "[encoded data removed]",
      "text/plain": [
       "TemplateReaction(index=1457, reactants=[Species(index=129, label=\"C3H5O\", thermo=NASA(polynomials=[NASAPolynomial(coeffs=[0.824069,0.034675,-2.51787e-05,9.56782e-09,-1.48085e-12,10420.4,22.8283], Tmin=(200,'K'), Tmax=(1402,'K')), NASAPolynomial(coeffs=[10.2638,0.011761,-3.89838e-06,5.92651e-10,-3.38867e-14,7259.38,-27.5109], Tmin=(1402,'K'), Tmax=(5000,'K'))], Tmin=(200,'K'), Tmax=(5000,'K'), comment=\"\"\"Thermo library: CurranPentane\"\"\"), molecule=[Molecule(smiles=\"C=CC[O]\")], transport_data=TransportData(shapeIndex=2, epsilon=(3345.34,'J/mol'), sigma=(5.617,'angstrom'), dipoleMoment=(0,'De'), polarizability=(0,'angstrom^3'), rotrelaxcollnum=0.0, comment=\"\"\"Epsilon & sigma estimated with Tc=522.53 K, Pc=42.83 bar (from Joback method)\"\"\"), molecular_weight=(57.0712,'amu')), Species(index=72, label=\"CH3COCH2O2\", thermo=NASA(polynomials=[NASAPolynomial(coeffs=[1.19378,0.0498027,-4.18e-05,1.74528e-08,-2.88199e-12,-19324.4,26.7877], Tmin=(200,'K'), Tmax=(1397,'K')), NASAPolynomial(coeffs=[16.5756,0.0106465,-3.61369e-06,5.59054e-10,-3.23832e-14,-24254.1,-54.5305], Tmin=(1397,'K'), Tmax=(5000,'K'))], Tmin=(200,'K'), Tmax=(5000,'K'), comment=\"\"\"Thermo library: CurranPentane\"\"\"), molecule=[Molecule(smiles=\"CC(=O)CO[O]\")], transport_data=TransportData(shapeIndex=2, epsilon=(3915.5,'J/mol'), sigma=(6.256,'angstrom'), dipoleMoment=(0,'De'), polarizability=(0,'angstrom^3'), rotrelaxcollnum=0.0, comment=\"\"\"Epsilon & sigma estimated with Tc=611.59 K, Pc=36.29 bar (from Joback method)\"\"\"), molecular_weight=(89.07,'amu'))], products=[Species(index=74, label=\"C2H3CHO\", thermo=NASA(polynomials=[NASAPolynomial(coeffs=[0.733844,0.0317483,-2.29599e-05,8.42104e-09,-1.23613e-12,-9384.74,21.0309], Tmin=(200,'K'), Tmax=(1398,'K')), NASAPolynomial(coeffs=[9.99155,0.00982348,-3.31203e-06,5.09524e-10,-2.93822e-14,-12530.4,-28.5169], Tmin=(1398,'K'), Tmax=(5000,'K'))], Tmin=(200,'K'), Tmax=(5000,'K'), comment=\"\"\"Thermo library: CurranPentane\"\"\"), molecule=[Molecule(smiles=\"C=CC=O\")], transport_data=TransportData(shapeIndex=2, epsilon=(3136.31,'J/mol'), sigma=(5.142,'angstrom'), dipoleMoment=(0,'De'), polarizability=(0,'angstrom^3'), rotrelaxcollnum=0.0, comment=\"\"\"Epsilon & sigma estimated with Tc=489.88 K, Pc=52.36 bar (from Joback method)\"\"\"), molecular_weight=(56.0632,'amu')), Species(index=73, label=\"C3KET21\", thermo=NASA(polynomials=[NASAPolynomial(coeffs=[-0.874353,0.0612501,-5.51475e-05,2.48491e-08,-4.42613e-12,-35806.1,35.9306], Tmin=(200,'K'), Tmax=(1394,'K')), NASAPolynomial(coeffs=[17.5768,0.0120312,-4.11634e-06,6.40149e-10,-3.72128e-14,-41550.2,-60.9097], Tmin=(1394,'K'), Tmax=(5000,'K'))], Tmin=(200,'K'), Tmax=(5000,'K'), comment=\"\"\"Thermo library: CurranPentane\"\"\"), molecule=[Molecule(smiles=\"CC(=O)COO\")], transport_data=TransportData(shapeIndex=2, epsilon=(3915.5,'J/mol'), sigma=(6.256,'angstrom'), dipoleMoment=(0,'De'), polarizability=(0,'angstrom^3'), rotrelaxcollnum=0.0, comment=\"\"\"Epsilon & sigma estimated with Tc=611.59 K, Pc=36.29 bar (from Joback method)\"\"\"), molecular_weight=(90.078,'amu'))], kinetics=Arrhenius(A=(1.88902e+10,'cm^3/(mol*s)'), n=0.509, Ea=(0,'kcal/mol'), T0=(1,'K'), comment=\"\"\"Estimated from node Root_Ext-1R!H-R\n",
       "Multiplied by reaction path degeneracy 2.0\"\"\"), degeneracy=2.0, pairs=[(Species(index=72, label=\"CH3COCH2O2\", thermo=NASA(polynomials=[NASAPolynomial(coeffs=[1.19378,0.0498027,-4.18e-05,1.74528e-08,-2.88199e-12,-19324.4,26.7877], Tmin=(200,'K'), Tmax=(1397,'K')), NASAPolynomial(coeffs=[16.5756,0.0106465,-3.61369e-06,5.59054e-10,-3.23832e-14,-24254.1,-54.5305], Tmin=(1397,'K'), Tmax=(5000,'K'))], Tmin=(200,'K'), Tmax=(5000,'K'), comment=\"\"\"Thermo library: CurranPentane\"\"\"), molecule=[Molecule(smiles=\"CC(=O)CO[O]\")], transport_data=TransportData(shapeIndex=2, epsilon=(3915.5,'J/mol'), sigma=(6.256,'angstrom'), dipoleMoment=(0,'De'), polarizability=(0,'angstrom^3'), rotrelaxcollnum=0.0, comment=\"\"\"Epsilon & sigma estimated with Tc=611.59 K, Pc=36.29 bar (from Joback method)\"\"\"), molecular_weight=(89.07,'amu')), Species(index=73, label=\"C3KET21\", thermo=NASA(polynomials=[NASAPolynomial(coeffs=[-0.874353,0.0612501,-5.51475e-05,2.48491e-08,-4.42613e-12,-35806.1,35.9306], Tmin=(200,'K'), Tmax=(1394,'K')), NASAPolynomial(coeffs=[17.5768,0.0120312,-4.11634e-06,6.40149e-10,-3.72128e-14,-41550.2,-60.9097], Tmin=(1394,'K'), Tmax=(5000,'K'))], Tmin=(200,'K'), Tmax=(5000,'K'), comment=\"\"\"Thermo library: CurranPentane\"\"\"), molecule=[Molecule(smiles=\"CC(=O)COO\")], transport_data=TransportData(shapeIndex=2, epsilon=(3915.5,'J/mol'), sigma=(6.256,'angstrom'), dipoleMoment=(0,'De'), polarizability=(0,'angstrom^3'), rotrelaxcollnum=0.0, comment=\"\"\"Epsilon & sigma estimated with Tc=611.59 K, Pc=36.29 bar (from Joback method)\"\"\"), molecular_weight=(90.078,'amu'))), (Species(index=129, label=\"C3H5O\", thermo=NASA(polynomials=[NASAPolynomial(coeffs=[0.824069,0.034675,-2.51787e-05,9.56782e-09,-1.48085e-12,10420.4,22.8283], Tmin=(200,'K'), Tmax=(1402,'K')), NASAPolynomial(coeffs=[10.2638,0.011761,-3.89838e-06,5.92651e-10,-3.38867e-14,7259.38,-27.5109], Tmin=(1402,'K'), Tmax=(5000,'K'))], Tmin=(200,'K'), Tmax=(5000,'K'), comment=\"\"\"Thermo library: CurranPentane\"\"\"), molecule=[Molecule(smiles=\"C=CC[O]\")], transport_data=TransportData(shapeIndex=2, epsilon=(3345.34,'J/mol'), sigma=(5.617,'angstrom'), dipoleMoment=(0,'De'), polarizability=(0,'angstrom^3'), rotrelaxcollnum=0.0, comment=\"\"\"Epsilon & sigma estimated with Tc=522.53 K, Pc=42.83 bar (from Joback method)\"\"\"), molecular_weight=(57.0712,'amu')), Species(index=74, label=\"C2H3CHO\", thermo=NASA(polynomials=[NASAPolynomial(coeffs=[0.733844,0.0317483,-2.29599e-05,8.42104e-09,-1.23613e-12,-9384.74,21.0309], Tmin=(200,'K'), Tmax=(1398,'K')), NASAPolynomial(coeffs=[9.99155,0.00982348,-3.31203e-06,5.09524e-10,-2.93822e-14,-12530.4,-28.5169], Tmin=(1398,'K'), Tmax=(5000,'K'))], Tmin=(200,'K'), Tmax=(5000,'K'), comment=\"\"\"Thermo library: CurranPentane\"\"\"), molecule=[Molecule(smiles=\"C=CC=O\")], transport_data=TransportData(shapeIndex=2, epsilon=(3136.31,'J/mol'), sigma=(5.142,'angstrom'), dipoleMoment=(0,'De'), polarizability=(0,'angstrom^3'), rotrelaxcollnum=0.0, comment=\"\"\"Epsilon & sigma estimated with Tc=489.88 K, Pc=52.36 bar (from Joback method)\"\"\"), molecular_weight=(56.0632,'amu')))], family='Disproportionation')"
      ]
     },
     "metadata": {},
     "output_type": "display_data"
    },
    {
     "name": "stdout",
     "output_type": "stream",
     "text": [
      "no reaction calculated for Disproportionation, 595\n"
     ]
    },
    {
     "data": {
      "image/png": "[encoded data removed]",
      "text/plain": [
       "TemplateReaction(index=624, reactants=[Species(index=5, label=\"O\", thermo=NASA(polynomials=[NASAPolynomial(coeffs=[2.5,-1.87769e-11,2.35957e-14,-9.62804e-18,1.20728e-21,29226.7,5.11107], Tmin=(100,'K'), Tmax=(4762.74,'K')), NASAPolynomial(coeffs=[2.87627,-0.00031258,9.73655e-08,-1.34776e-11,6.99516e-16,28864.4,2.70442], Tmin=(4762.74,'K'), Tmax=(5000,'K'))], Tmin=(100,'K'), Tmax=(5000,'K'), comment=\"\"\"Thermo library: BurkeH2O2\"\"\"), molecule=[Molecule(smiles=\"[O]\")], transport_data=TransportData(shapeIndex=0, epsilon=(665.158,'J/mol'), sigma=(2.75,'angstrom'), dipoleMoment=(0,'De'), polarizability=(0,'angstrom^3'), rotrelaxcollnum=0.0, comment=\"\"\"GRI-Mech\"\"\"), molecular_weight=(15.9994,'amu')), Species(index=21, label=\"CH2CHO\", thermo=NASA(polynomials=[NASAPolynomial(coeffs=[2.66874,0.0096233,1.60617e-05,-2.87682e-08,1.2503e-11,219.438,12.5694], Tmin=(200,'K'), Tmax=(1000,'K')), NASAPolynomial(coeffs=[5.91637,0.0088465,-3.14955e-06,5.05413e-10,-3.01305e-14,-1047.8,-6.1065], Tmin=(1000,'K'), Tmax=(6000,'K'))], Tmin=(200,'K'), Tmax=(6000,'K'), comment=\"\"\"Thermo library: FFCM1(-)\"\"\"), molecule=[Molecule(smiles=\"[CH2]C=O\"), Molecule(smiles=\"C=C[O]\")], transport_data=TransportData(shapeIndex=2, epsilon=(3625.12,'J/mol'), sigma=(3.97,'angstrom'), dipoleMoment=(0,'De'), polarizability=(0,'angstrom^3'), rotrelaxcollnum=2.0, comment=\"\"\"GRI-Mech\"\"\"), molecular_weight=(43.0446,'amu'))], products=[Species(index=15, label=\"OH\", thermo=NASA(polynomials=[NASAPolynomial(coeffs=[3.4858,0.00133391,-4.70022e-06,5.64351e-09,-2.06306e-12,3411.96,1.99786], Tmin=(100,'K'), Tmax=(1005.26,'K')), NASAPolynomial(coeffs=[2.88223,0.00103872,-2.35672e-07,1.40278e-11,6.34181e-16,3669.57,5.59065], Tmin=(1005.26,'K'), Tmax=(5000,'K'))], Tmin=(100,'K'), Tmax=(5000,'K'), comment=\"\"\"Thermo library: BurkeH2O2\"\"\"), molecule=[Molecule(smiles=\"[OH]\")], transport_data=TransportData(shapeIndex=1, epsilon=(665.158,'J/mol'), sigma=(2.75,'angstrom'), dipoleMoment=(0,'De'), polarizability=(0,'angstrom^3'), rotrelaxcollnum=0.0, comment=\"\"\"GRI-Mech\"\"\"), molecular_weight=(17.0074,'amu')), Species(index=24, label=\"CH2CO\", thermo=NASA(polynomials=[NASAPolynomial(coeffs=[2.13241,0.0181319,-1.74093e-05,9.35336e-09,-2.01725e-12,-7148.09,13.3808], Tmin=(200,'K'), Tmax=(1000,'K')), NASAPolynomial(coeffs=[5.75871,0.00635124,-2.25955e-06,3.62322e-10,-2.15856e-14,-8085.33,-4.9649], Tmin=(1000,'K'), Tmax=(6000,'K'))], Tmin=(200,'K'), Tmax=(6000,'K'), comment=\"\"\"Thermo library: FFCM1(-)\"\"\"), molecule=[Molecule(smiles=\"C=C=O\")], transport_data=TransportData(shapeIndex=2, epsilon=(3625.12,'J/mol'), sigma=(3.97,'angstrom'), dipoleMoment=(0,'De'), polarizability=(0,'angstrom^3'), rotrelaxcollnum=2.0, comment=\"\"\"GRI-Mech\"\"\"), molecular_weight=(42.0366,'amu'))], kinetics=Arrhenius(A=(9.44508e+09,'cm^3/(mol*s)'), n=0.509, Ea=(0,'kcal/mol'), T0=(1,'K'), comment=\"\"\"Estimated from node Root_Ext-1R!H-R\"\"\"), pairs=[(Species(index=21, label=\"CH2CHO\", thermo=NASA(polynomials=[NASAPolynomial(coeffs=[2.66874,0.0096233,1.60617e-05,-2.87682e-08,1.2503e-11,219.438,12.5694], Tmin=(200,'K'), Tmax=(1000,'K')), NASAPolynomial(coeffs=[5.91637,0.0088465,-3.14955e-06,5.05413e-10,-3.01305e-14,-1047.8,-6.1065], Tmin=(1000,'K'), Tmax=(6000,'K'))], Tmin=(200,'K'), Tmax=(6000,'K'), comment=\"\"\"Thermo library: FFCM1(-)\"\"\"), molecule=[Molecule(smiles=\"[CH2]C=O\"), Molecule(smiles=\"C=C[O]\")], transport_data=TransportData(shapeIndex=2, epsilon=(3625.12,'J/mol'), sigma=(3.97,'angstrom'), dipoleMoment=(0,'De'), polarizability=(0,'angstrom^3'), rotrelaxcollnum=2.0, comment=\"\"\"GRI-Mech\"\"\"), molecular_weight=(43.0446,'amu')), Species(index=24, label=\"CH2CO\", thermo=NASA(polynomials=[NASAPolynomial(coeffs=[2.13241,0.0181319,-1.74093e-05,9.35336e-09,-2.01725e-12,-7148.09,13.3808], Tmin=(200,'K'), Tmax=(1000,'K')), NASAPolynomial(coeffs=[5.75871,0.00635124,-2.25955e-06,3.62322e-10,-2.15856e-14,-8085.33,-4.9649], Tmin=(1000,'K'), Tmax=(6000,'K'))], Tmin=(200,'K'), Tmax=(6000,'K'), comment=\"\"\"Thermo library: FFCM1(-)\"\"\"), molecule=[Molecule(smiles=\"C=C=O\")], transport_data=TransportData(shapeIndex=2, epsilon=(3625.12,'J/mol'), sigma=(3.97,'angstrom'), dipoleMoment=(0,'De'), polarizability=(0,'angstrom^3'), rotrelaxcollnum=2.0, comment=\"\"\"GRI-Mech\"\"\"), molecular_weight=(42.0366,'amu'))), (Species(index=5, label=\"O\", thermo=NASA(polynomials=[NASAPolynomial(coeffs=[2.5,-1.87769e-11,2.35957e-14,-9.62804e-18,1.20728e-21,29226.7,5.11107], Tmin=(100,'K'), Tmax=(4762.74,'K')), NASAPolynomial(coeffs=[2.87627,-0.00031258,9.73655e-08,-1.34776e-11,6.99516e-16,28864.4,2.70442], Tmin=(4762.74,'K'), Tmax=(5000,'K'))], Tmin=(100,'K'), Tmax=(5000,'K'), comment=\"\"\"Thermo library: BurkeH2O2\"\"\"), molecule=[Molecule(smiles=\"[O]\")], transport_data=TransportData(shapeIndex=0, epsilon=(665.158,'J/mol'), sigma=(2.75,'angstrom'), dipoleMoment=(0,'De'), polarizability=(0,'angstrom^3'), rotrelaxcollnum=0.0, comment=\"\"\"GRI-Mech\"\"\"), molecular_weight=(15.9994,'amu')), Species(index=15, label=\"OH\", thermo=NASA(polynomials=[NASAPolynomial(coeffs=[3.4858,0.00133391,-4.70022e-06,5.64351e-09,-2.06306e-12,3411.96,1.99786], Tmin=(100,'K'), Tmax=(1005.26,'K')), NASAPolynomial(coeffs=[2.88223,0.00103872,-2.35672e-07,1.40278e-11,6.34181e-16,3669.57,5.59065], Tmin=(1005.26,'K'), Tmax=(5000,'K'))], Tmin=(100,'K'), Tmax=(5000,'K'), comment=\"\"\"Thermo library: BurkeH2O2\"\"\"), molecule=[Molecule(smiles=\"[OH]\")], transport_data=TransportData(shapeIndex=1, epsilon=(665.158,'J/mol'), sigma=(2.75,'angstrom'), dipoleMoment=(0,'De'), polarizability=(0,'angstrom^3'), rotrelaxcollnum=0.0, comment=\"\"\"GRI-Mech\"\"\"), molecular_weight=(17.0074,'amu')))], family='Disproportionation')"
      ]
     },
     "metadata": {},
     "output_type": "display_data"
    },
    {
     "name": "stdout",
     "output_type": "stream",
     "text": [
      "no reaction calculated for Disproportionation, 693\n"
     ]
    },
    {
     "data": {
      "image/png": "[encoded data removed]",
      "text/plain": [
       "TemplateReaction(index=722, reactants=[Species(index=2, label=\"O2\", thermo=NASA(polynomials=[NASAPolynomial(coeffs=[3.53764,-0.00122828,5.36759e-06,-4.93128e-09,1.45955e-12,-1037.99,4.6718], Tmin=(100,'K'), Tmax=(1087.71,'K')), NASAPolynomial(coeffs=[3.16427,0.00169454,-8.00335e-07,1.5903e-10,-1.14891e-14,-1048.45,6.08303], Tmin=(1087.71,'K'), Tmax=(5000,'K'))], Tmin=(100,'K'), Tmax=(5000,'K'), comment=\"\"\"Thermo library: BurkeH2O2\"\"\"), molecule=[Molecule(smiles=\"[O][O]\")], transport_data=TransportData(shapeIndex=1, epsilon=(887.154,'J/mol'), sigma=(3.467,'angstrom'), dipoleMoment=(0,'De'), polarizability=(0,'angstrom^3'), rotrelaxcollnum=0.0, comment=\"\"\"PrimaryTransportLibrary\"\"\"), molecular_weight=(31.9988,'amu')), Species(index=703, label=\"[CH2]C[O]\", thermo=NASA(polynomials=[NASAPolynomial(coeffs=[3.57171,0.0102136,5.90917e-06,-7.99873e-09,2.07079e-12,22733,11.7517], Tmin=(100,'K'), Tmax=(1490.84,'K')), NASAPolynomial(coeffs=[4.74097,0.01502,-6.91916e-06,1.3118e-09,-8.98245e-14,21501.6,2.68311], Tmin=(1490.84,'K'), Tmax=(5000,'K'))], Tmin=(100,'K'), Tmax=(5000,'K'), comment=\"\"\"Thermo library: FFCM1(-) + radical(CCOJ) + radical(CJCO)\"\"\"), molecule=[Molecule(smiles=\"[CH2]C[O]\")], transport_data=TransportData(shapeIndex=2, epsilon=(3197.09,'J/mol'), sigma=(5.509,'angstrom'), dipoleMoment=(0,'De'), polarizability=(0,'angstrom^3'), rotrelaxcollnum=0.0, comment=\"\"\"Epsilon & sigma estimated with Tc=499.38 K, Pc=43.4 bar (from Joback method)\"\"\"), molecular_weight=(44.0526,'amu'))], products=[Species(index=16, label=\"HO2\", thermo=NASA(polynomials=[NASAPolynomial(coeffs=[4.02957,-0.00263999,1.52236e-05,-1.71679e-08,6.26772e-12,322.677,4.84424], Tmin=(100,'K'), Tmax=(923.9,'K')), NASAPolynomial(coeffs=[4.1513,0.00191152,-4.11308e-07,6.35039e-11,-4.86454e-15,83.4343,3.09359], Tmin=(923.9,'K'), Tmax=(5000,'K'))], Tmin=(100,'K'), Tmax=(5000,'K'), comment=\"\"\"Thermo library: BurkeH2O2\"\"\"), molecule=[Molecule(smiles=\"[O]O\")], transport_data=TransportData(shapeIndex=2, epsilon=(892.974,'J/mol'), sigma=(3.458,'angstrom'), dipoleMoment=(0,'De'), polarizability=(0,'angstrom^3'), rotrelaxcollnum=1.0, comment=\"\"\"GRI-Mech\"\"\"), molecular_weight=(33.0068,'amu')), Species(index=21, label=\"CH2CHO\", thermo=NASA(polynomials=[NASAPolynomial(coeffs=[2.66874,0.0096233,1.60617e-05,-2.87682e-08,1.2503e-11,219.438,12.5694], Tmin=(200,'K'), Tmax=(1000,'K')), NASAPolynomial(coeffs=[5.91637,0.0088465,-3.14955e-06,5.05413e-10,-3.01305e-14,-1047.8,-6.1065], Tmin=(1000,'K'), Tmax=(6000,'K'))], Tmin=(200,'K'), Tmax=(6000,'K'), comment=\"\"\"Thermo library: FFCM1(-)\"\"\"), molecule=[Molecule(smiles=\"[CH2]C=O\"), Molecule(smiles=\"C=C[O]\")], transport_data=TransportData(shapeIndex=2, epsilon=(3625.12,'J/mol'), sigma=(3.97,'angstrom'), dipoleMoment=(0,'De'), polarizability=(0,'angstrom^3'), rotrelaxcollnum=2.0, comment=\"\"\"GRI-Mech\"\"\"), molecular_weight=(43.0446,'amu'))], kinetics=Arrhenius(A=(3.77803e+10,'cm^3/(mol*s)'), n=0.509, Ea=(0,'kcal/mol'), T0=(1,'K'), comment=\"\"\"Estimated from node Root_Ext-1R!H-R\n",
       "Multiplied by reaction path degeneracy 4.0\"\"\"), degeneracy=4.0, pairs=[(Species(index=703, label=\"[CH2]C[O]\", thermo=NASA(polynomials=[NASAPolynomial(coeffs=[3.57171,0.0102136,5.90917e-06,-7.99873e-09,2.07079e-12,22733,11.7517], Tmin=(100,'K'), Tmax=(1490.84,'K')), NASAPolynomial(coeffs=[4.74097,0.01502,-6.91916e-06,1.3118e-09,-8.98245e-14,21501.6,2.68311], Tmin=(1490.84,'K'), Tmax=(5000,'K'))], Tmin=(100,'K'), Tmax=(5000,'K'), comment=\"\"\"Thermo library: FFCM1(-) + radical(CCOJ) + radical(CJCO)\"\"\"), molecule=[Molecule(smiles=\"[CH2]C[O]\")], transport_data=TransportData(shapeIndex=2, epsilon=(3197.09,'J/mol'), sigma=(5.509,'angstrom'), dipoleMoment=(0,'De'), polarizability=(0,'angstrom^3'), rotrelaxcollnum=0.0, comment=\"\"\"Epsilon & sigma estimated with Tc=499.38 K, Pc=43.4 bar (from Joback method)\"\"\"), molecular_weight=(44.0526,'amu')), Species(index=21, label=\"CH2CHO\", thermo=NASA(polynomials=[NASAPolynomial(coeffs=[2.66874,0.0096233,1.60617e-05,-2.87682e-08,1.2503e-11,219.438,12.5694], Tmin=(200,'K'), Tmax=(1000,'K')), NASAPolynomial(coeffs=[5.91637,0.0088465,-3.14955e-06,5.05413e-10,-3.01305e-14,-1047.8,-6.1065], Tmin=(1000,'K'), Tmax=(6000,'K'))], Tmin=(200,'K'), Tmax=(6000,'K'), comment=\"\"\"Thermo library: FFCM1(-)\"\"\"), molecule=[Molecule(smiles=\"[CH2]C=O\"), Molecule(smiles=\"C=C[O]\")], transport_data=TransportData(shapeIndex=2, epsilon=(3625.12,'J/mol'), sigma=(3.97,'angstrom'), dipoleMoment=(0,'De'), polarizability=(0,'angstrom^3'), rotrelaxcollnum=2.0, comment=\"\"\"GRI-Mech\"\"\"), molecular_weight=(43.0446,'amu'))), (Species(index=2, label=\"O2\", thermo=NASA(polynomials=[NASAPolynomial(coeffs=[3.53764,-0.00122828,5.36759e-06,-4.93128e-09,1.45955e-12,-1037.99,4.6718], Tmin=(100,'K'), Tmax=(1087.71,'K')), NASAPolynomial(coeffs=[3.16427,0.00169454,-8.00335e-07,1.5903e-10,-1.14891e-14,-1048.45,6.08303], Tmin=(1087.71,'K'), Tmax=(5000,'K'))], Tmin=(100,'K'), Tmax=(5000,'K'), comment=\"\"\"Thermo library: BurkeH2O2\"\"\"), molecule=[Molecule(smiles=\"[O][O]\")], transport_data=TransportData(shapeIndex=1, epsilon=(887.154,'J/mol'), sigma=(3.467,'angstrom'), dipoleMoment=(0,'De'), polarizability=(0,'angstrom^3'), rotrelaxcollnum=0.0, comment=\"\"\"PrimaryTransportLibrary\"\"\"), molecular_weight=(31.9988,'amu')), Species(index=16, label=\"HO2\", thermo=NASA(polynomials=[NASAPolynomial(coeffs=[4.02957,-0.00263999,1.52236e-05,-1.71679e-08,6.26772e-12,322.677,4.84424], Tmin=(100,'K'), Tmax=(923.9,'K')), NASAPolynomial(coeffs=[4.1513,0.00191152,-4.11308e-07,6.35039e-11,-4.86454e-15,83.4343,3.09359], Tmin=(923.9,'K'), Tmax=(5000,'K'))], Tmin=(100,'K'), Tmax=(5000,'K'), comment=\"\"\"Thermo library: BurkeH2O2\"\"\"), molecule=[Molecule(smiles=\"[O]O\")], transport_data=TransportData(shapeIndex=2, epsilon=(892.974,'J/mol'), sigma=(3.458,'angstrom'), dipoleMoment=(0,'De'), polarizability=(0,'angstrom^3'), rotrelaxcollnum=1.0, comment=\"\"\"GRI-Mech\"\"\"), molecular_weight=(33.0068,'amu')))], family='Disproportionation')"
      ]
     },
     "metadata": {},
     "output_type": "display_data"
    },
    {
     "name": "stdout",
     "output_type": "stream",
     "text": [
      "no reaction calculated for Disproportionation, 1242\n"
     ]
    },
    {
     "data": {
      "image/png": "[encoded data removed]",
      "text/plain": [
       "TemplateReaction(index=1271, reactants=[Species(index=129, label=\"C3H5O\", thermo=NASA(polynomials=[NASAPolynomial(coeffs=[0.824069,0.034675,-2.51787e-05,9.56782e-09,-1.48085e-12,10420.4,22.8283], Tmin=(200,'K'), Tmax=(1402,'K')), NASAPolynomial(coeffs=[10.2638,0.011761,-3.89838e-06,5.92651e-10,-3.38867e-14,7259.38,-27.5109], Tmin=(1402,'K'), Tmax=(5000,'K'))], Tmin=(200,'K'), Tmax=(5000,'K'), comment=\"\"\"Thermo library: CurranPentane\"\"\"), molecule=[Molecule(smiles=\"C=CC[O]\")], transport_data=TransportData(shapeIndex=2, epsilon=(3345.34,'J/mol'), sigma=(5.617,'angstrom'), dipoleMoment=(0,'De'), polarizability=(0,'angstrom^3'), rotrelaxcollnum=0.0, comment=\"\"\"Epsilon & sigma estimated with Tc=522.53 K, Pc=42.83 bar (from Joback method)\"\"\"), molecular_weight=(57.0712,'amu')), Species(index=229, label=\"C4H8OOH2-4O2\", thermo=NASA(polynomials=[NASAPolynomial(coeffs=[4.97809,0.0630222,-5.08369e-05,2.14022e-08,-3.61838e-12,-23378.6,9.92186], Tmin=(200,'K'), Tmax=(1407,'K')), NASAPolynomial(coeffs=[22.0048,0.0184525,-5.96542e-06,8.91557e-10,-5.03719e-14,-28719.5,-79.666], Tmin=(1407,'K'), Tmax=(5000,'K'))], Tmin=(200,'K'), Tmax=(5000,'K'), comment=\"\"\"Thermo library: CurranPentane\"\"\"), molecule=[Molecule(smiles=\"CC(CCO[O])OO\")], transport_data=TransportData(shapeIndex=2, epsilon=(4363.18,'J/mol'), sigma=(7.265,'angstrom'), dipoleMoment=(0,'De'), polarizability=(0,'angstrom^3'), rotrelaxcollnum=0.0, comment=\"\"\"Epsilon & sigma estimated with Tc=681.52 K, Pc=25.82 bar (from Joback method)\"\"\"), molecular_weight=(121.112,'amu'))], products=[Species(index=74, label=\"C2H3CHO\", thermo=NASA(polynomials=[NASAPolynomial(coeffs=[0.733844,0.0317483,-2.29599e-05,8.42104e-09,-1.23613e-12,-9384.74,21.0309], Tmin=(200,'K'), Tmax=(1398,'K')), NASAPolynomial(coeffs=[9.99155,0.00982348,-3.31203e-06,5.09524e-10,-2.93822e-14,-12530.4,-28.5169], Tmin=(1398,'K'), Tmax=(5000,'K'))], Tmin=(200,'K'), Tmax=(5000,'K'), comment=\"\"\"Thermo library: CurranPentane\"\"\"), molecule=[Molecule(smiles=\"C=CC=O\")], transport_data=TransportData(shapeIndex=2, epsilon=(3136.31,'J/mol'), sigma=(5.142,'angstrom'), dipoleMoment=(0,'De'), polarizability=(0,'angstrom^3'), rotrelaxcollnum=0.0, comment=\"\"\"Epsilon & sigma estimated with Tc=489.88 K, Pc=52.36 bar (from Joback method)\"\"\"), molecular_weight=(56.0632,'amu')), Species(index=787, label=\"CC(CCOO)OO\", thermo=NASA(polynomials=[NASAPolynomial(coeffs=[0.0298377,0.0931369,-9.82325e-05,5.84404e-08,-1.46145e-11,-39983.8,30.4602], Tmin=(100,'K'), Tmax=(949.21,'K')), NASAPolynomial(coeffs=[11.6606,0.0441237,-2.07772e-05,4.03962e-09,-2.86276e-13,-42191.7,-25.045], Tmin=(949.21,'K'), Tmax=(5000,'K'))], Tmin=(100,'K'), Tmax=(5000,'K'), comment=\"\"\"Thermo group additivity estimation: group(O2s-OsCs) + group(O2s-OsCs) + group(O2s-OsH) + group(O2s-OsH) + group(Cs-CsCsOsH) + group(Cs-CsCsHH) +\n",
       "group(Cs-CsOsHH) + group(Cs-CsHHH)\"\"\"), molecule=[Molecule(smiles=\"CC(CCOO)OO\")], transport_data=TransportData(shapeIndex=2, epsilon=(4363.18,'J/mol'), sigma=(7.265,'angstrom'), dipoleMoment=(0,'De'), polarizability=(0,'angstrom^3'), rotrelaxcollnum=0.0, comment=\"\"\"Epsilon & sigma estimated with Tc=681.52 K, Pc=25.82 bar (from Joback method)\"\"\"), molecular_weight=(122.12,'amu'))], kinetics=Arrhenius(A=(1.88902e+10,'cm^3/(mol*s)'), n=0.509, Ea=(0,'kcal/mol'), T0=(1,'K'), comment=\"\"\"Estimated from node Root_Ext-1R!H-R\n",
       "Multiplied by reaction path degeneracy 2.0\"\"\"), degeneracy=2.0, pairs=[(Species(index=229, label=\"C4H8OOH2-4O2\", thermo=NASA(polynomials=[NASAPolynomial(coeffs=[4.97809,0.0630222,-5.08369e-05,2.14022e-08,-3.61838e-12,-23378.6,9.92186], Tmin=(200,'K'), Tmax=(1407,'K')), NASAPolynomial(coeffs=[22.0048,0.0184525,-5.96542e-06,8.91557e-10,-5.03719e-14,-28719.5,-79.666], Tmin=(1407,'K'), Tmax=(5000,'K'))], Tmin=(200,'K'), Tmax=(5000,'K'), comment=\"\"\"Thermo library: CurranPentane\"\"\"), molecule=[Molecule(smiles=\"CC(CCO[O])OO\")], transport_data=TransportData(shapeIndex=2, epsilon=(4363.18,'J/mol'), sigma=(7.265,'angstrom'), dipoleMoment=(0,'De'), polarizability=(0,'angstrom^3'), rotrelaxcollnum=0.0, comment=\"\"\"Epsilon & sigma estimated with Tc=681.52 K, Pc=25.82 bar (from Joback method)\"\"\"), molecular_weight=(121.112,'amu')), Species(index=787, label=\"CC(CCOO)OO\", thermo=NASA(polynomials=[NASAPolynomial(coeffs=[0.0298377,0.0931369,-9.82325e-05,5.84404e-08,-1.46145e-11,-39983.8,30.4602], Tmin=(100,'K'), Tmax=(949.21,'K')), NASAPolynomial(coeffs=[11.6606,0.0441237,-2.07772e-05,4.03962e-09,-2.86276e-13,-42191.7,-25.045], Tmin=(949.21,'K'), Tmax=(5000,'K'))], Tmin=(100,'K'), Tmax=(5000,'K'), comment=\"\"\"Thermo group additivity estimation: group(O2s-OsCs) + group(O2s-OsCs) + group(O2s-OsH) + group(O2s-OsH) + group(Cs-CsCsOsH) + group(Cs-CsCsHH) +\n",
       "group(Cs-CsOsHH) + group(Cs-CsHHH)\"\"\"), molecule=[Molecule(smiles=\"CC(CCOO)OO\")], transport_data=TransportData(shapeIndex=2, epsilon=(4363.18,'J/mol'), sigma=(7.265,'angstrom'), dipoleMoment=(0,'De'), polarizability=(0,'angstrom^3'), rotrelaxcollnum=0.0, comment=\"\"\"Epsilon & sigma estimated with Tc=681.52 K, Pc=25.82 bar (from Joback method)\"\"\"), molecular_weight=(122.12,'amu'))), (Species(index=129, label=\"C3H5O\", thermo=NASA(polynomials=[NASAPolynomial(coeffs=[0.824069,0.034675,-2.51787e-05,9.56782e-09,-1.48085e-12,10420.4,22.8283], Tmin=(200,'K'), Tmax=(1402,'K')), NASAPolynomial(coeffs=[10.2638,0.011761,-3.89838e-06,5.92651e-10,-3.38867e-14,7259.38,-27.5109], Tmin=(1402,'K'), Tmax=(5000,'K'))], Tmin=(200,'K'), Tmax=(5000,'K'), comment=\"\"\"Thermo library: CurranPentane\"\"\"), molecule=[Molecule(smiles=\"C=CC[O]\")], transport_data=TransportData(shapeIndex=2, epsilon=(3345.34,'J/mol'), sigma=(5.617,'angstrom'), dipoleMoment=(0,'De'), polarizability=(0,'angstrom^3'), rotrelaxcollnum=0.0, comment=\"\"\"Epsilon & sigma estimated with Tc=522.53 K, Pc=42.83 bar (from Joback method)\"\"\"), molecular_weight=(57.0712,'amu')), Species(index=74, label=\"C2H3CHO\", thermo=NASA(polynomials=[NASAPolynomial(coeffs=[0.733844,0.0317483,-2.29599e-05,8.42104e-09,-1.23613e-12,-9384.74,21.0309], Tmin=(200,'K'), Tmax=(1398,'K')), NASAPolynomial(coeffs=[9.99155,0.00982348,-3.31203e-06,5.09524e-10,-2.93822e-14,-12530.4,-28.5169], Tmin=(1398,'K'), Tmax=(5000,'K'))], Tmin=(200,'K'), Tmax=(5000,'K'), comment=\"\"\"Thermo library: CurranPentane\"\"\"), molecule=[Molecule(smiles=\"C=CC=O\")], transport_data=TransportData(shapeIndex=2, epsilon=(3136.31,'J/mol'), sigma=(5.142,'angstrom'), dipoleMoment=(0,'De'), polarizability=(0,'angstrom^3'), rotrelaxcollnum=0.0, comment=\"\"\"Epsilon & sigma estimated with Tc=489.88 K, Pc=52.36 bar (from Joback method)\"\"\"), molecular_weight=(56.0632,'amu')))], family='Disproportionation')"
      ]
     },
     "metadata": {},
     "output_type": "display_data"
    },
    {
     "name": "stdout",
     "output_type": "stream",
     "text": [
      "16\n"
     ]
    }
   ],
   "source": [
    "skipped_calcs = []\n",
    "count = 0\n",
    "for i in range(0, 50):\n",
    "    rmg_index = total_improvement_score_order[i]\n",
    "#     rmg_index = total_improvement_score2_order[i]\n",
    "    \n",
    "    if rmg_index < len(species_list):  # skip thermo because these were all calculated\n",
    "        continue\n",
    "    \n",
    "    rmg_index -= len(species_list)\n",
    "    \n",
    "    match_found = False\n",
    "    for entry in ark_kinetics_database.libraries[\"\"].entries:\n",
    "        ref_rxn = ark_kinetics_database.libraries[\"\"].entries[entry].item\n",
    "        if ref_rxn.is_isomorphic(reaction_list[rmg_index]):\n",
    "            match_found = True\n",
    "            break\n",
    "    if not match_found:\n",
    "        print(f'no reaction calculated for {reaction_list[rmg_index].family}, {rmg_index}')\n",
    "        display(reaction_list[rmg_index])\n",
    "        count += 1\n",
    "        skipped_calcs.append(rmg_index)\n",
    "print(count)"
   ]
  },
  {
   "cell_type": "code",
   "execution_count": 16,
   "id": "767e8a86",
   "metadata": {},
   "outputs": [
    {
     "data": {
      "text/plain": [
       "[915,\n",
       " 1814,\n",
       " 1288,\n",
       " 1736,\n",
       " 418,\n",
       " 1721,\n",
       " 1665,\n",
       " 427,\n",
       " 1766,\n",
       " 1773,\n",
       " 918,\n",
       " 692,\n",
       " 1428,\n",
       " 595,\n",
       " 693,\n",
       " 1242]"
      ]
     },
     "execution_count": 16,
     "metadata": {},
     "output_type": "execute_result"
    }
   ],
   "source": [
    "skipped_calcs"
   ]
  },
  {
   "cell_type": "code",
   "execution_count": null,
   "id": "9259441a",
   "metadata": {},
   "outputs": [],
   "source": [
    "reaction_list[1766]"
   ]
  },
  {
   "cell_type": "code",
   "execution_count": null,
   "id": "73d9700f",
   "metadata": {},
   "outputs": [],
   "source": [
    "species_list[59]"
   ]
  },
  {
   "cell_type": "code",
   "execution_count": 17,
   "id": "1592d48a",
   "metadata": {},
   "outputs": [
    {
     "data": {
      "text/plain": [
       "87"
      ]
     },
     "execution_count": 17,
     "metadata": {},
     "output_type": "execute_result"
    }
   ],
   "source": [
    "total_improvement_score_order[0]"
   ]
  },
  {
   "cell_type": "markdown",
   "id": "b9e72aec",
   "metadata": {},
   "source": [
    "# Generate the Mechanisms"
   ]
  },
  {
   "cell_type": "code",
   "execution_count": 22,
   "id": "df195e2a",
   "metadata": {},
   "outputs": [
    {
     "name": "stdout",
     "output_type": "stream",
     "text": [
      "compiling top 0\n",
      "48 kinetics entries loaded\n",
      "178 thermo entries loaded\n"
     ]
    },
    {
     "name": "stderr",
     "output_type": "stream",
     "text": [
      "WARNING:root:Marked reaction CH3(18) + C2H3(22) <=> C3H6(12) as duplicate of C3H6(12) <=> CH3(18) + C2H3(22) for saving to Chemkin file.\n"
     ]
    },
    {
     "name": "stdout",
     "output_type": "stream",
     "text": [
      "0 kinetics changed\n",
      "0 species changed\n",
      "Wrote CTI mechanism file to '/home/moon/autoscience/reaction_calculator/error_vs_num_included/mechs/top_0.cti'.\n",
      "Mechanism contains 110 species and 1850 reactions.\n",
      "Validating mechanism...PASSED.\n",
      "Wrote YAML mechanism file to '/home/moon/autoscience/reaction_calculator/error_vs_num_included/mechs/top_0.yaml'.\n",
      "Mechanism contains 110 species and 1850 reactions.\n",
      "Validating mechanism...\n",
      "PASSED\n",
      "skipping missing calculation 915\n",
      "compiling top 2\n",
      "48 kinetics entries loaded\n",
      "178 thermo entries loaded\n"
     ]
    },
    {
     "name": "stderr",
     "output_type": "stream",
     "text": [
      "WARNING:root:Marked reaction CH3(18) + C2H3(22) <=> C3H6(12) as duplicate of C3H6(12) <=> CH3(18) + C2H3(22) for saving to Chemkin file.\n"
     ]
    },
    {
     "name": "stdout",
     "output_type": "stream",
     "text": [
      "0 kinetics changed\n",
      "Changing estimated thermo 87: [CH2]C(=O)COO(911)\n",
      "1 species changed\n",
      "Wrote CTI mechanism file to '/home/moon/autoscience/reaction_calculator/error_vs_num_included/mechs/top_2.cti'.\n",
      "Mechanism contains 110 species and 1850 reactions.\n",
      "Validating mechanism...PASSED.\n",
      "Wrote YAML mechanism file to '/home/moon/autoscience/reaction_calculator/error_vs_num_included/mechs/top_2.yaml'.\n",
      "Mechanism contains 110 species and 1850 reactions.\n",
      "Validating mechanism...\n",
      "PASSED\n",
      "compiling top 3\n",
      "48 kinetics entries loaded\n",
      "178 thermo entries loaded\n",
      "changing reaction 749 HCO(19) + C4H8-1(188) <=> CH2O(9) + C4H71-3(190)\n"
     ]
    },
    {
     "name": "stderr",
     "output_type": "stream",
     "text": [
      "WARNING:root:Marked reaction CH3(18) + C2H3(22) <=> C3H6(12) as duplicate of C3H6(12) <=> CH3(18) + C2H3(22) for saving to Chemkin file.\n"
     ]
    },
    {
     "name": "stdout",
     "output_type": "stream",
     "text": [
      "1 kinetics changed\n",
      "Changing estimated thermo 87: [CH2]C(=O)COO(911)\n",
      "1 species changed\n",
      "Wrote CTI mechanism file to '/home/moon/autoscience/reaction_calculator/error_vs_num_included/mechs/top_3.cti'.\n",
      "Mechanism contains 110 species and 1850 reactions.\n",
      "Validating mechanism...PASSED.\n",
      "Wrote YAML mechanism file to '/home/moon/autoscience/reaction_calculator/error_vs_num_included/mechs/top_3.yaml'.\n",
      "Mechanism contains 110 species and 1850 reactions.\n",
      "Validating mechanism...\n",
      "PASSED\n",
      "compiling top 4\n",
      "48 kinetics entries loaded\n",
      "178 thermo entries loaded\n",
      "changing reaction 324 C4H8OOH2-4O2(229) <=> C4H8OOH1-3O2(225)\n",
      "changing reaction 749 HCO(19) + C4H8-1(188) <=> CH2O(9) + C4H71-3(190)\n"
     ]
    },
    {
     "name": "stderr",
     "output_type": "stream",
     "text": [
      "WARNING:root:Marked reaction CH3(18) + C2H3(22) <=> C3H6(12) as duplicate of C3H6(12) <=> CH3(18) + C2H3(22) for saving to Chemkin file.\n"
     ]
    },
    {
     "name": "stdout",
     "output_type": "stream",
     "text": [
      "2 kinetics changed\n",
      "Changing estimated thermo 87: [CH2]C(=O)COO(911)\n",
      "1 species changed\n",
      "Wrote CTI mechanism file to '/home/moon/autoscience/reaction_calculator/error_vs_num_included/mechs/top_4.cti'.\n",
      "Mechanism contains 110 species and 1850 reactions.\n",
      "Validating mechanism...PASSED.\n",
      "Wrote YAML mechanism file to '/home/moon/autoscience/reaction_calculator/error_vs_num_included/mechs/top_4.yaml'.\n",
      "Mechanism contains 110 species and 1850 reactions.\n",
      "Validating mechanism...\n",
      "PASSED\n",
      "skipping missing calculation 1814\n",
      "compiling top 6\n",
      "48 kinetics entries loaded\n",
      "178 thermo entries loaded\n",
      "changing reaction 324 C4H8OOH2-4O2(229) <=> C4H8OOH1-3O2(225)\n",
      "changing reaction 749 HCO(19) + C4H8-1(188) <=> CH2O(9) + C4H71-3(190)\n",
      "changing reaction 419 HO2(16) + CH2CHO(21) <=> H2O2(17) + CH2CO(24)\n"
     ]
    },
    {
     "name": "stderr",
     "output_type": "stream",
     "text": [
      "WARNING:root:Marked reaction CH3(18) + C2H3(22) <=> C3H6(12) as duplicate of C3H6(12) <=> CH3(18) + C2H3(22) for saving to Chemkin file.\n"
     ]
    },
    {
     "name": "stdout",
     "output_type": "stream",
     "text": [
      "3 kinetics changed\n",
      "Changing estimated thermo 87: [CH2]C(=O)COO(911)\n",
      "1 species changed\n",
      "Wrote CTI mechanism file to '/home/moon/autoscience/reaction_calculator/error_vs_num_included/mechs/top_6.cti'.\n",
      "Mechanism contains 110 species and 1850 reactions.\n",
      "Validating mechanism...PASSED.\n",
      "Wrote YAML mechanism file to '/home/moon/autoscience/reaction_calculator/error_vs_num_included/mechs/top_6.yaml'.\n",
      "Mechanism contains 110 species and 1850 reactions.\n",
      "Validating mechanism...\n",
      "PASSED\n",
      "compiling top 7\n",
      "48 kinetics entries loaded\n",
      "178 thermo entries loaded\n",
      "changing reaction 324 C4H8OOH2-4O2(229) <=> C4H8OOH1-3O2(225)\n",
      "changing reaction 749 HCO(19) + C4H8-1(188) <=> CH2O(9) + C4H71-3(190)\n",
      "changing reaction 419 HO2(16) + CH2CHO(21) <=> H2O2(17) + CH2CO(24)\n"
     ]
    },
    {
     "name": "stderr",
     "output_type": "stream",
     "text": [
      "WARNING:root:Marked reaction CH3(18) + C2H3(22) <=> C3H6(12) as duplicate of C3H6(12) <=> CH3(18) + C2H3(22) for saving to Chemkin file.\n"
     ]
    },
    {
     "name": "stdout",
     "output_type": "stream",
     "text": [
      "changing reaction 1287 C3KET21(73) + SC4H9(183) <=> CH3COCH2O2(72) + butane(1)\n",
      "4 kinetics changed\n",
      "Changing estimated thermo 87: [CH2]C(=O)COO(911)\n",
      "1 species changed\n",
      "Wrote CTI mechanism file to '/home/moon/autoscience/reaction_calculator/error_vs_num_included/mechs/top_7.cti'.\n",
      "Mechanism contains 110 species and 1850 reactions.\n",
      "Validating mechanism...PASSED.\n",
      "Wrote YAML mechanism file to '/home/moon/autoscience/reaction_calculator/error_vs_num_included/mechs/top_7.yaml'.\n",
      "Mechanism contains 110 species and 1850 reactions.\n",
      "Validating mechanism...\n",
      "PASSED\n",
      "skipping missing calculation 1288\n",
      "compiling top 9\n",
      "48 kinetics entries loaded\n",
      "178 thermo entries loaded\n",
      "changing reaction 324 C4H8OOH2-4O2(229) <=> C4H8OOH1-3O2(225)\n",
      "changing reaction 748 HCO(19) + C4H8-2(189) <=> CH2O(9) + C4H71-3(190)\n",
      "changing reaction 749 HCO(19) + C4H8-1(188) <=> CH2O(9) + C4H71-3(190)\n",
      "changing reaction 419 HO2(16) + CH2CHO(21) <=> H2O2(17) + CH2CO(24)\n",
      "changing reaction 1287 C3KET21(73) + SC4H9(183) <=> CH3COCH2O2(72) + butane(1)\n",
      "5 kinetics changed\n",
      "Changing estimated thermo 87: [CH2]C(=O)COO(911)\n"
     ]
    },
    {
     "name": "stderr",
     "output_type": "stream",
     "text": [
      "WARNING:root:Marked reaction CH3(18) + C2H3(22) <=> C3H6(12) as duplicate of C3H6(12) <=> CH3(18) + C2H3(22) for saving to Chemkin file.\n"
     ]
    },
    {
     "name": "stdout",
     "output_type": "stream",
     "text": [
      "1 species changed\n",
      "Wrote CTI mechanism file to '/home/moon/autoscience/reaction_calculator/error_vs_num_included/mechs/top_9.cti'.\n",
      "Mechanism contains 110 species and 1850 reactions.\n",
      "Validating mechanism...PASSED.\n",
      "Wrote YAML mechanism file to '/home/moon/autoscience/reaction_calculator/error_vs_num_included/mechs/top_9.yaml'.\n",
      "Mechanism contains 110 species and 1850 reactions.\n",
      "Validating mechanism...\n",
      "PASSED\n",
      "compiling top 10\n",
      "48 kinetics entries loaded\n",
      "178 thermo entries loaded\n",
      "changing reaction 324 C4H8OOH2-4O2(229) <=> C4H8OOH1-3O2(225)\n",
      "changing reaction 370 CH3CHO(35) + SC4H9(183) <=> CH2CHO(21) + butane(1)\n",
      "changing reaction 748 HCO(19) + C4H8-2(189) <=> CH2O(9) + C4H71-3(190)\n",
      "changing reaction 749 HCO(19) + C4H8-1(188) <=> CH2O(9) + C4H71-3(190)\n"
     ]
    },
    {
     "name": "stderr",
     "output_type": "stream",
     "text": [
      "WARNING:root:Marked reaction CH3(18) + C2H3(22) <=> C3H6(12) as duplicate of C3H6(12) <=> CH3(18) + C2H3(22) for saving to Chemkin file.\n"
     ]
    },
    {
     "name": "stdout",
     "output_type": "stream",
     "text": [
      "changing reaction 419 HO2(16) + CH2CHO(21) <=> H2O2(17) + CH2CO(24)\n",
      "changing reaction 1287 C3KET21(73) + SC4H9(183) <=> CH3COCH2O2(72) + butane(1)\n",
      "6 kinetics changed\n",
      "Changing estimated thermo 87: [CH2]C(=O)COO(911)\n",
      "1 species changed\n",
      "Wrote CTI mechanism file to '/home/moon/autoscience/reaction_calculator/error_vs_num_included/mechs/top_10.cti'.\n",
      "Mechanism contains 110 species and 1850 reactions.\n",
      "Validating mechanism...PASSED.\n",
      "Wrote YAML mechanism file to '/home/moon/autoscience/reaction_calculator/error_vs_num_included/mechs/top_10.yaml'.\n",
      "Mechanism contains 110 species and 1850 reactions.\n",
      "Validating mechanism...\n",
      "PASSED\n",
      "compiling top 11\n",
      "48 kinetics entries loaded\n",
      "178 thermo entries loaded\n",
      "changing reaction 324 C4H8OOH2-4O2(229) <=> C4H8OOH1-3O2(225)\n",
      "changing reaction 370 CH3CHO(35) + SC4H9(183) <=> CH2CHO(21) + butane(1)\n",
      "changing reaction 748 HCO(19) + C4H8-2(189) <=> CH2O(9) + C4H71-3(190)\n",
      "changing reaction 749 HCO(19) + C4H8-1(188) <=> CH2O(9) + C4H71-3(190)\n",
      "changing reaction 419 HO2(16) + CH2CHO(21) <=> H2O2(17) + CH2CO(24)\n"
     ]
    },
    {
     "name": "stderr",
     "output_type": "stream",
     "text": [
      "WARNING:root:Marked reaction CH3(18) + C2H3(22) <=> C3H6(12) as duplicate of C3H6(12) <=> CH3(18) + C2H3(22) for saving to Chemkin file.\n"
     ]
    },
    {
     "name": "stdout",
     "output_type": "stream",
     "text": [
      "changing reaction 1103 CH3O2(45) + CH2CHO(21) <=> CH3O2H(46) + CH2CO(24)\n",
      "changing reaction 1287 C3KET21(73) + SC4H9(183) <=> CH3COCH2O2(72) + butane(1)\n",
      "7 kinetics changed\n",
      "Changing estimated thermo 87: [CH2]C(=O)COO(911)\n",
      "1 species changed\n",
      "Wrote CTI mechanism file to '/home/moon/autoscience/reaction_calculator/error_vs_num_included/mechs/top_11.cti'.\n",
      "Mechanism contains 110 species and 1850 reactions.\n",
      "Validating mechanism...PASSED.\n",
      "Wrote YAML mechanism file to '/home/moon/autoscience/reaction_calculator/error_vs_num_included/mechs/top_11.yaml'.\n",
      "Mechanism contains 110 species and 1850 reactions.\n",
      "Validating mechanism...\n",
      "PASSED\n",
      "compiling top 12\n",
      "48 kinetics entries loaded\n",
      "178 thermo entries loaded\n",
      "changing reaction 324 C4H8OOH2-4O2(229) <=> C4H8OOH1-3O2(225)\n",
      "changing reaction 370 CH3CHO(35) + SC4H9(183) <=> CH2CHO(21) + butane(1)\n",
      "changing reaction 371 CH3CHO(35) + PC4H9(182) <=> CH2CHO(21) + butane(1)\n",
      "changing reaction 748 HCO(19) + C4H8-2(189) <=> CH2O(9) + C4H71-3(190)\n",
      "changing reaction 749 HCO(19) + C4H8-1(188) <=> CH2O(9) + C4H71-3(190)\n",
      "changing reaction 419 HO2(16) + CH2CHO(21) <=> H2O2(17) + CH2CO(24)\n",
      "changing reaction 1103 CH3O2(45) + CH2CHO(21) <=> CH3O2H(46) + CH2CO(24)\n",
      "changing reaction 1287 C3KET21(73) + SC4H9(183) <=> CH3COCH2O2(72) + butane(1)\n",
      "8 kinetics changed\n",
      "Changing estimated thermo 87: [CH2]C(=O)COO(911)\n",
      "1 species changed\n"
     ]
    },
    {
     "name": "stderr",
     "output_type": "stream",
     "text": [
      "WARNING:root:Marked reaction CH3(18) + C2H3(22) <=> C3H6(12) as duplicate of C3H6(12) <=> CH3(18) + C2H3(22) for saving to Chemkin file.\n"
     ]
    },
    {
     "name": "stdout",
     "output_type": "stream",
     "text": [
      "Wrote CTI mechanism file to '/home/moon/autoscience/reaction_calculator/error_vs_num_included/mechs/top_12.cti'.\n",
      "Mechanism contains 110 species and 1850 reactions.\n",
      "Validating mechanism...PASSED.\n",
      "Wrote YAML mechanism file to '/home/moon/autoscience/reaction_calculator/error_vs_num_included/mechs/top_12.yaml'.\n",
      "Mechanism contains 110 species and 1850 reactions.\n",
      "Validating mechanism...\n",
      "PASSED\n",
      "compiling top 13\n",
      "48 kinetics entries loaded\n",
      "178 thermo entries loaded\n",
      "changing reaction 324 C4H8OOH2-4O2(229) <=> C4H8OOH1-3O2(225)\n",
      "changing reaction 370 CH3CHO(35) + SC4H9(183) <=> CH2CHO(21) + butane(1)\n",
      "changing reaction 371 CH3CHO(35) + PC4H9(182) <=> CH2CHO(21) + butane(1)\n",
      "changing reaction 748 HCO(19) + C4H8-2(189) <=> CH2O(9) + C4H71-3(190)\n",
      "changing reaction 749 HCO(19) + C4H8-1(188) <=> CH2O(9) + C4H71-3(190)\n",
      "changing reaction 213 HO2(16) + C2H5(33) <=> H2O2(17) + C2H4(11)\n",
      "changing reaction 419 HO2(16) + CH2CHO(21) <=> H2O2(17) + CH2CO(24)\n"
     ]
    },
    {
     "name": "stderr",
     "output_type": "stream",
     "text": [
      "WARNING:root:Marked reaction CH3(18) + C2H3(22) <=> C3H6(12) as duplicate of C3H6(12) <=> CH3(18) + C2H3(22) for saving to Chemkin file.\n"
     ]
    },
    {
     "name": "stdout",
     "output_type": "stream",
     "text": [
      "changing reaction 1103 CH3O2(45) + CH2CHO(21) <=> CH3O2H(46) + CH2CO(24)\n",
      "changing reaction 1287 C3KET21(73) + SC4H9(183) <=> CH3COCH2O2(72) + butane(1)\n",
      "9 kinetics changed\n",
      "Changing estimated thermo 87: [CH2]C(=O)COO(911)\n",
      "1 species changed\n",
      "Wrote CTI mechanism file to '/home/moon/autoscience/reaction_calculator/error_vs_num_included/mechs/top_13.cti'.\n",
      "Mechanism contains 110 species and 1850 reactions.\n",
      "Validating mechanism...PASSED.\n",
      "Wrote YAML mechanism file to '/home/moon/autoscience/reaction_calculator/error_vs_num_included/mechs/top_13.yaml'.\n",
      "Mechanism contains 110 species and 1850 reactions.\n",
      "Validating mechanism...\n",
      "PASSED\n",
      "compiling top 14\n",
      "48 kinetics entries loaded\n",
      "178 thermo entries loaded\n",
      "changing reaction 324 C4H8OOH2-4O2(229) <=> C4H8OOH1-3O2(225)\n",
      "changing reaction 370 CH3CHO(35) + SC4H9(183) <=> CH2CHO(21) + butane(1)\n",
      "changing reaction 371 CH3CHO(35) + PC4H9(182) <=> CH2CHO(21) + butane(1)\n",
      "changing reaction 748 HCO(19) + C4H8-2(189) <=> CH2O(9) + C4H71-3(190)\n",
      "changing reaction 749 HCO(19) + C4H8-1(188) <=> CH2O(9) + C4H71-3(190)\n",
      "changing reaction 213 HO2(16) + C2H5(33) <=> H2O2(17) + C2H4(11)\n",
      "changing reaction 419 HO2(16) + CH2CHO(21) <=> H2O2(17) + CH2CO(24)\n"
     ]
    },
    {
     "name": "stderr",
     "output_type": "stream",
     "text": [
      "WARNING:root:Marked reaction CH3(18) + C2H3(22) <=> C3H6(12) as duplicate of C3H6(12) <=> CH3(18) + C2H3(22) for saving to Chemkin file.\n"
     ]
    },
    {
     "name": "stdout",
     "output_type": "stream",
     "text": [
      "changing reaction 1103 CH3O2(45) + CH2CHO(21) <=> CH3O2H(46) + CH2CO(24)\n",
      "changing reaction 1287 C3KET21(73) + SC4H9(183) <=> CH3COCH2O2(72) + butane(1)\n",
      "9 kinetics changed\n",
      "Changing estimated thermo 87: [CH2]C(=O)COO(911)\n",
      "Changing estimated thermo 90: [O]OCC(=O)COO(928)\n",
      "2 species changed\n",
      "Wrote CTI mechanism file to '/home/moon/autoscience/reaction_calculator/error_vs_num_included/mechs/top_14.cti'.\n",
      "Mechanism contains 110 species and 1850 reactions.\n",
      "Validating mechanism...PASSED.\n",
      "Wrote YAML mechanism file to '/home/moon/autoscience/reaction_calculator/error_vs_num_included/mechs/top_14.yaml'.\n",
      "Mechanism contains 110 species and 1850 reactions.\n",
      "Validating mechanism...\n",
      "PASSED\n",
      "compiling top 15\n",
      "48 kinetics entries loaded\n",
      "178 thermo entries loaded\n",
      "changing reaction 324 C4H8OOH2-4O2(229) <=> C4H8OOH1-3O2(225)\n",
      "changing reaction 370 CH3CHO(35) + SC4H9(183) <=> CH2CHO(21) + butane(1)\n",
      "changing reaction 371 CH3CHO(35) + PC4H9(182) <=> CH2CHO(21) + butane(1)\n",
      "changing reaction 748 HCO(19) + C4H8-2(189) <=> CH2O(9) + C4H71-3(190)\n",
      "changing reaction 749 HCO(19) + C4H8-1(188) <=> CH2O(9) + C4H71-3(190)\n",
      "changing reaction 213 HO2(16) + C2H5(33) <=> H2O2(17) + C2H4(11)\n",
      "changing reaction 419 HO2(16) + CH2CHO(21) <=> H2O2(17) + CH2CO(24)\n",
      "changing reaction 420 HO2(16) + SC4H9(183) <=> H2O2(17) + C4H8-2(189)\n"
     ]
    },
    {
     "name": "stderr",
     "output_type": "stream",
     "text": [
      "WARNING:root:Marked reaction CH3(18) + C2H3(22) <=> C3H6(12) as duplicate of C3H6(12) <=> CH3(18) + C2H3(22) for saving to Chemkin file.\n"
     ]
    },
    {
     "name": "stdout",
     "output_type": "stream",
     "text": [
      "changing reaction 1103 CH3O2(45) + CH2CHO(21) <=> CH3O2H(46) + CH2CO(24)\n",
      "changing reaction 1287 C3KET21(73) + SC4H9(183) <=> CH3COCH2O2(72) + butane(1)\n",
      "10 kinetics changed\n",
      "Changing estimated thermo 87: [CH2]C(=O)COO(911)\n",
      "Changing estimated thermo 90: [O]OCC(=O)COO(928)\n",
      "2 species changed\n",
      "Wrote CTI mechanism file to '/home/moon/autoscience/reaction_calculator/error_vs_num_included/mechs/top_15.cti'.\n",
      "Mechanism contains 110 species and 1850 reactions.\n",
      "Validating mechanism...PASSED.\n",
      "Wrote YAML mechanism file to '/home/moon/autoscience/reaction_calculator/error_vs_num_included/mechs/top_15.yaml'.\n",
      "Mechanism contains 110 species and 1850 reactions.\n",
      "Validating mechanism...\n",
      "PASSED\n",
      "compiling top 16\n",
      "48 kinetics entries loaded\n",
      "178 thermo entries loaded\n",
      "changing reaction 324 C4H8OOH2-4O2(229) <=> C4H8OOH1-3O2(225)\n",
      "changing reaction 370 CH3CHO(35) + SC4H9(183) <=> CH2CHO(21) + butane(1)\n",
      "changing reaction 371 CH3CHO(35) + PC4H9(182) <=> CH2CHO(21) + butane(1)\n",
      "changing reaction 748 HCO(19) + C4H8-2(189) <=> CH2O(9) + C4H71-3(190)\n",
      "changing reaction 749 HCO(19) + C4H8-1(188) <=> CH2O(9) + C4H71-3(190)\n",
      "changing reaction 213 HO2(16) + C2H5(33) <=> H2O2(17) + C2H4(11)\n",
      "changing reaction 419 HO2(16) + CH2CHO(21) <=> H2O2(17) + CH2CO(24)\n",
      "changing reaction 420 HO2(16) + SC4H9(183) <=> H2O2(17) + C4H8-2(189)\n"
     ]
    },
    {
     "name": "stderr",
     "output_type": "stream",
     "text": [
      "WARNING:root:Marked reaction CH3(18) + C2H3(22) <=> C3H6(12) as duplicate of C3H6(12) <=> CH3(18) + C2H3(22) for saving to Chemkin file.\n"
     ]
    },
    {
     "name": "stdout",
     "output_type": "stream",
     "text": [
      "changing reaction 581 CH2CHO(21) + C3H5-A(94) <=> CH2CO(24) + C3H6(12)\n",
      "changing reaction 1103 CH3O2(45) + CH2CHO(21) <=> CH3O2H(46) + CH2CO(24)\n",
      "changing reaction 1287 C3KET21(73) + SC4H9(183) <=> CH3COCH2O2(72) + butane(1)\n",
      "11 kinetics changed\n",
      "Changing estimated thermo 87: [CH2]C(=O)COO(911)\n",
      "Changing estimated thermo 90: [O]OCC(=O)COO(928)\n",
      "2 species changed\n",
      "Wrote CTI mechanism file to '/home/moon/autoscience/reaction_calculator/error_vs_num_included/mechs/top_16.cti'.\n",
      "Mechanism contains 110 species and 1850 reactions.\n",
      "Validating mechanism...PASSED.\n",
      "Wrote YAML mechanism file to '/home/moon/autoscience/reaction_calculator/error_vs_num_included/mechs/top_16.yaml'.\n",
      "Mechanism contains 110 species and 1850 reactions.\n",
      "Validating mechanism...\n",
      "PASSED\n",
      "compiling top 17\n",
      "48 kinetics entries loaded\n",
      "178 thermo entries loaded\n",
      "changing reaction 324 C4H8OOH2-4O2(229) <=> C4H8OOH1-3O2(225)\n",
      "changing reaction 370 CH3CHO(35) + SC4H9(183) <=> CH2CHO(21) + butane(1)\n",
      "changing reaction 371 CH3CHO(35) + PC4H9(182) <=> CH2CHO(21) + butane(1)\n",
      "changing reaction 748 HCO(19) + C4H8-2(189) <=> CH2O(9) + C4H71-3(190)\n",
      "changing reaction 749 HCO(19) + C4H8-1(188) <=> CH2O(9) + C4H71-3(190)\n",
      "changing reaction 213 HO2(16) + C2H5(33) <=> H2O2(17) + C2H4(11)\n",
      "changing reaction 419 HO2(16) + CH2CHO(21) <=> H2O2(17) + CH2CO(24)\n",
      "changing reaction 420 HO2(16) + SC4H9(183) <=> H2O2(17) + C4H8-2(189)\n",
      "changing reaction 464 CH3(18) + CH2CHO(21) <=> CH4(10) + CH2CO(24)\n",
      "changing reaction 581 CH2CHO(21) + C3H5-A(94) <=> CH2CO(24) + C3H6(12)\n",
      "changing reaction 1103 CH3O2(45) + CH2CHO(21) <=> CH3O2H(46) + CH2CO(24)\n",
      "changing reaction 1287 C3KET21(73) + SC4H9(183) <=> CH3COCH2O2(72) + butane(1)\n",
      "12 kinetics changed\n",
      "Changing estimated thermo 87: [CH2]C(=O)COO(911)\n",
      "Changing estimated thermo 90: [O]OCC(=O)COO(928)\n",
      "2 species changed\n"
     ]
    },
    {
     "name": "stderr",
     "output_type": "stream",
     "text": [
      "WARNING:root:Marked reaction CH3(18) + C2H3(22) <=> C3H6(12) as duplicate of C3H6(12) <=> CH3(18) + C2H3(22) for saving to Chemkin file.\n"
     ]
    },
    {
     "name": "stdout",
     "output_type": "stream",
     "text": [
      "Wrote CTI mechanism file to '/home/moon/autoscience/reaction_calculator/error_vs_num_included/mechs/top_17.cti'.\n",
      "Mechanism contains 110 species and 1850 reactions.\n",
      "Validating mechanism...PASSED.\n",
      "Wrote YAML mechanism file to '/home/moon/autoscience/reaction_calculator/error_vs_num_included/mechs/top_17.yaml'.\n",
      "Mechanism contains 110 species and 1850 reactions.\n",
      "Validating mechanism...\n",
      "PASSED\n",
      "compiling top 18\n",
      "48 kinetics entries loaded\n",
      "178 thermo entries loaded\n",
      "changing reaction 324 C4H8OOH2-4O2(229) <=> C4H8OOH1-3O2(225)\n",
      "changing reaction 370 CH3CHO(35) + SC4H9(183) <=> CH2CHO(21) + butane(1)\n",
      "changing reaction 371 CH3CHO(35) + PC4H9(182) <=> CH2CHO(21) + butane(1)\n",
      "changing reaction 748 HCO(19) + C4H8-2(189) <=> CH2O(9) + C4H71-3(190)\n",
      "changing reaction 749 HCO(19) + C4H8-1(188) <=> CH2O(9) + C4H71-3(190)\n",
      "changing reaction 213 HO2(16) + C2H5(33) <=> H2O2(17) + C2H4(11)\n",
      "changing reaction 419 HO2(16) + CH2CHO(21) <=> H2O2(17) + CH2CO(24)\n",
      "changing reaction 420 HO2(16) + SC4H9(183) <=> H2O2(17) + C4H8-2(189)\n",
      "changing reaction 464 CH3(18) + CH2CHO(21) <=> CH4(10) + CH2CO(24)\n",
      "changing reaction 581 CH2CHO(21) + C3H5-A(94) <=> CH2CO(24) + C3H6(12)\n",
      "changing reaction 1103 CH3O2(45) + CH2CHO(21) <=> CH3O2H(46) + CH2CO(24)\n",
      "changing reaction 1287 C3KET21(73) + SC4H9(183) <=> CH3COCH2O2(72) + butane(1)\n",
      "changing reaction 1289 C3KET21(73) + SC4H9(183) <=> [CH2]C(=O)COO(911) + butane(1)\n",
      "13 kinetics changed\n",
      "Changing estimated thermo 87: [CH2]C(=O)COO(911)\n",
      "Changing estimated thermo 90: [O]OCC(=O)COO(928)\n",
      "2 species changed\n"
     ]
    },
    {
     "name": "stderr",
     "output_type": "stream",
     "text": [
      "WARNING:root:Marked reaction CH3(18) + C2H3(22) <=> C3H6(12) as duplicate of C3H6(12) <=> CH3(18) + C2H3(22) for saving to Chemkin file.\n"
     ]
    },
    {
     "name": "stdout",
     "output_type": "stream",
     "text": [
      "Wrote CTI mechanism file to '/home/moon/autoscience/reaction_calculator/error_vs_num_included/mechs/top_18.cti'.\n",
      "Mechanism contains 110 species and 1850 reactions.\n",
      "Validating mechanism...PASSED.\n",
      "Wrote YAML mechanism file to '/home/moon/autoscience/reaction_calculator/error_vs_num_included/mechs/top_18.yaml'.\n",
      "Mechanism contains 110 species and 1850 reactions.\n",
      "Validating mechanism...\n",
      "PASSED\n",
      "compiling top 19\n",
      "48 kinetics entries loaded\n",
      "178 thermo entries loaded\n",
      "changing reaction 324 C4H8OOH2-4O2(229) <=> C4H8OOH1-3O2(225)\n",
      "changing reaction 370 CH3CHO(35) + SC4H9(183) <=> CH2CHO(21) + butane(1)\n",
      "changing reaction 371 CH3CHO(35) + PC4H9(182) <=> CH2CHO(21) + butane(1)\n",
      "changing reaction 748 HCO(19) + C4H8-2(189) <=> CH2O(9) + C4H71-3(190)\n",
      "changing reaction 749 HCO(19) + C4H8-1(188) <=> CH2O(9) + C4H71-3(190)\n",
      "changing reaction 213 HO2(16) + C2H5(33) <=> H2O2(17) + C2H4(11)\n",
      "changing reaction 419 HO2(16) + CH2CHO(21) <=> H2O2(17) + CH2CO(24)\n",
      "changing reaction 420 HO2(16) + SC4H9(183) <=> H2O2(17) + C4H8-2(189)\n",
      "changing reaction 464 CH3(18) + CH2CHO(21) <=> CH4(10) + CH2CO(24)\n",
      "changing reaction 581 CH2CHO(21) + C3H5-A(94) <=> CH2CO(24) + C3H6(12)\n",
      "changing reaction 1103 CH3O2(45) + CH2CHO(21) <=> CH3O2H(46) + CH2CO(24)\n",
      "changing reaction 1287 C3KET21(73) + SC4H9(183) <=> CH3COCH2O2(72) + butane(1)\n",
      "changing reaction 1289 C3KET21(73) + SC4H9(183) <=> [CH2]C(=O)COO(911) + butane(1)\n",
      "13 kinetics changed\n",
      "Changing estimated thermo 87: [CH2]C(=O)COO(911)\n",
      "Changing estimated thermo 90: [O]OCC(=O)COO(928)\n",
      "Changing estimated thermo 109: [O]OC1CCOOC1(9510)\n",
      "3 species changed\n"
     ]
    },
    {
     "name": "stderr",
     "output_type": "stream",
     "text": [
      "WARNING:root:Marked reaction CH3(18) + C2H3(22) <=> C3H6(12) as duplicate of C3H6(12) <=> CH3(18) + C2H3(22) for saving to Chemkin file.\n"
     ]
    },
    {
     "name": "stdout",
     "output_type": "stream",
     "text": [
      "Wrote CTI mechanism file to '/home/moon/autoscience/reaction_calculator/error_vs_num_included/mechs/top_19.cti'.\n",
      "Mechanism contains 110 species and 1850 reactions.\n",
      "Validating mechanism...PASSED.\n",
      "Wrote YAML mechanism file to '/home/moon/autoscience/reaction_calculator/error_vs_num_included/mechs/top_19.yaml'.\n",
      "Mechanism contains 110 species and 1850 reactions.\n",
      "Validating mechanism...\n",
      "PASSED\n",
      "compiling top 20\n",
      "48 kinetics entries loaded\n",
      "178 thermo entries loaded\n",
      "changing reaction 324 C4H8OOH2-4O2(229) <=> C4H8OOH1-3O2(225)\n",
      "changing reaction 370 CH3CHO(35) + SC4H9(183) <=> CH2CHO(21) + butane(1)\n",
      "changing reaction 371 CH3CHO(35) + PC4H9(182) <=> CH2CHO(21) + butane(1)\n",
      "changing reaction 748 HCO(19) + C4H8-2(189) <=> CH2O(9) + C4H71-3(190)\n",
      "changing reaction 749 HCO(19) + C4H8-1(188) <=> CH2O(9) + C4H71-3(190)\n",
      "changing reaction 213 HO2(16) + C2H5(33) <=> H2O2(17) + C2H4(11)\n",
      "changing reaction 419 HO2(16) + CH2CHO(21) <=> H2O2(17) + CH2CO(24)\n",
      "changing reaction 420 HO2(16) + SC4H9(183) <=> H2O2(17) + C4H8-2(189)\n",
      "changing reaction 464 CH3(18) + CH2CHO(21) <=> CH4(10) + CH2CO(24)\n"
     ]
    },
    {
     "name": "stderr",
     "output_type": "stream",
     "text": [
      "WARNING:root:Marked reaction CH3(18) + C2H3(22) <=> C3H6(12) as duplicate of C3H6(12) <=> CH3(18) + C2H3(22) for saving to Chemkin file.\n"
     ]
    },
    {
     "name": "stdout",
     "output_type": "stream",
     "text": [
      "changing reaction 581 CH2CHO(21) + C3H5-A(94) <=> CH2CO(24) + C3H6(12)\n",
      "changing reaction 720 CH2CHO(21) + C4H71-3(190) <=> CH2CO(24) + C4H8-2(189)\n",
      "changing reaction 1103 CH3O2(45) + CH2CHO(21) <=> CH3O2H(46) + CH2CO(24)\n",
      "changing reaction 1287 C3KET21(73) + SC4H9(183) <=> CH3COCH2O2(72) + butane(1)\n",
      "changing reaction 1289 C3KET21(73) + SC4H9(183) <=> [CH2]C(=O)COO(911) + butane(1)\n",
      "14 kinetics changed\n",
      "Changing estimated thermo 87: [CH2]C(=O)COO(911)\n",
      "Changing estimated thermo 90: [O]OCC(=O)COO(928)\n",
      "Changing estimated thermo 109: [O]OC1CCOOC1(9510)\n",
      "3 species changed\n",
      "Wrote CTI mechanism file to '/home/moon/autoscience/reaction_calculator/error_vs_num_included/mechs/top_20.cti'.\n",
      "Mechanism contains 110 species and 1850 reactions.\n",
      "Validating mechanism...PASSED.\n",
      "Wrote YAML mechanism file to '/home/moon/autoscience/reaction_calculator/error_vs_num_included/mechs/top_20.yaml'.\n",
      "Mechanism contains 110 species and 1850 reactions.\n",
      "Validating mechanism...\n",
      "PASSED\n",
      "compiling top 21\n",
      "48 kinetics entries loaded\n",
      "178 thermo entries loaded\n",
      "changing reaction 324 C4H8OOH2-4O2(229) <=> C4H8OOH1-3O2(225)\n",
      "changing reaction 370 CH3CHO(35) + SC4H9(183) <=> CH2CHO(21) + butane(1)\n",
      "changing reaction 371 CH3CHO(35) + PC4H9(182) <=> CH2CHO(21) + butane(1)\n",
      "changing reaction 748 HCO(19) + C4H8-2(189) <=> CH2O(9) + C4H71-3(190)\n",
      "changing reaction 749 HCO(19) + C4H8-1(188) <=> CH2O(9) + C4H71-3(190)\n",
      "changing reaction 213 HO2(16) + C2H5(33) <=> H2O2(17) + C2H4(11)\n",
      "changing reaction 419 HO2(16) + CH2CHO(21) <=> H2O2(17) + CH2CO(24)\n",
      "changing reaction 420 HO2(16) + SC4H9(183) <=> H2O2(17) + C4H8-2(189)\n",
      "changing reaction 464 CH3(18) + CH2CHO(21) <=> CH4(10) + CH2CO(24)\n",
      "changing reaction 581 CH2CHO(21) + C3H5-A(94) <=> CH2CO(24) + C3H6(12)\n",
      "changing reaction 720 CH2CHO(21) + C4H71-3(190) <=> CH2CO(24) + C4H8-2(189)\n",
      "changing reaction 722 CH2CHO(21) + C4H71-3(190) <=> CH2CO(24) + C4H8-1(188)\n",
      "changing reaction 1103 CH3O2(45) + CH2CHO(21) <=> CH3O2H(46) + CH2CO(24)\n",
      "changing reaction 1287 C3KET21(73) + SC4H9(183) <=> CH3COCH2O2(72) + butane(1)\n",
      "changing reaction 1289 C3KET21(73) + SC4H9(183) <=> [CH2]C(=O)COO(911) + butane(1)\n",
      "15 kinetics changed\n",
      "Changing estimated thermo 87: [CH2]C(=O)COO(911)\n",
      "Changing estimated thermo 90: [O]OCC(=O)COO(928)\n",
      "Changing estimated thermo 109: [O]OC1CCOOC1(9510)\n"
     ]
    },
    {
     "name": "stderr",
     "output_type": "stream",
     "text": [
      "WARNING:root:Marked reaction CH3(18) + C2H3(22) <=> C3H6(12) as duplicate of C3H6(12) <=> CH3(18) + C2H3(22) for saving to Chemkin file.\n"
     ]
    },
    {
     "name": "stdout",
     "output_type": "stream",
     "text": [
      "3 species changed\n",
      "Wrote CTI mechanism file to '/home/moon/autoscience/reaction_calculator/error_vs_num_included/mechs/top_21.cti'.\n",
      "Mechanism contains 110 species and 1850 reactions.\n",
      "Validating mechanism...PASSED.\n",
      "Wrote YAML mechanism file to '/home/moon/autoscience/reaction_calculator/error_vs_num_included/mechs/top_21.yaml'.\n",
      "Mechanism contains 110 species and 1850 reactions.\n",
      "Validating mechanism...\n",
      "PASSED\n",
      "compiling top 22\n",
      "48 kinetics entries loaded\n",
      "178 thermo entries loaded\n",
      "changing reaction 324 C4H8OOH2-4O2(229) <=> C4H8OOH1-3O2(225)\n",
      "changing reaction 370 CH3CHO(35) + SC4H9(183) <=> CH2CHO(21) + butane(1)\n",
      "changing reaction 371 CH3CHO(35) + PC4H9(182) <=> CH2CHO(21) + butane(1)\n",
      "changing reaction 748 HCO(19) + C4H8-2(189) <=> CH2O(9) + C4H71-3(190)\n",
      "changing reaction 749 HCO(19) + C4H8-1(188) <=> CH2O(9) + C4H71-3(190)\n",
      "changing reaction 213 HO2(16) + C2H5(33) <=> H2O2(17) + C2H4(11)\n",
      "changing reaction 419 HO2(16) + CH2CHO(21) <=> H2O2(17) + CH2CO(24)\n",
      "changing reaction 420 HO2(16) + SC4H9(183) <=> H2O2(17) + C4H8-2(189)\n",
      "changing reaction 464 CH3(18) + CH2CHO(21) <=> CH4(10) + CH2CO(24)\n"
     ]
    },
    {
     "name": "stderr",
     "output_type": "stream",
     "text": [
      "WARNING:root:Marked reaction CH3(18) + C2H3(22) <=> C3H6(12) as duplicate of C3H6(12) <=> CH3(18) + C2H3(22) for saving to Chemkin file.\n"
     ]
    },
    {
     "name": "stdout",
     "output_type": "stream",
     "text": [
      "changing reaction 581 CH2CHO(21) + C3H5-A(94) <=> CH2CO(24) + C3H6(12)\n",
      "changing reaction 720 CH2CHO(21) + C4H71-3(190) <=> CH2CO(24) + C4H8-2(189)\n",
      "changing reaction 722 CH2CHO(21) + C4H71-3(190) <=> CH2CO(24) + C4H8-1(188)\n",
      "changing reaction 1103 CH3O2(45) + CH2CHO(21) <=> CH3O2H(46) + CH2CO(24)\n",
      "changing reaction 1287 C3KET21(73) + SC4H9(183) <=> CH3COCH2O2(72) + butane(1)\n",
      "changing reaction 1289 C3KET21(73) + SC4H9(183) <=> [CH2]C(=O)COO(911) + butane(1)\n",
      "changing reaction 1658 CH2CHO(21) + C2H5O2(47) <=> CH2CO(24) + C2H5O2H(48)\n",
      "16 kinetics changed\n",
      "Changing estimated thermo 87: [CH2]C(=O)COO(911)\n",
      "Changing estimated thermo 90: [O]OCC(=O)COO(928)\n",
      "Changing estimated thermo 109: [O]OC1CCOOC1(9510)\n",
      "3 species changed\n",
      "Wrote CTI mechanism file to '/home/moon/autoscience/reaction_calculator/error_vs_num_included/mechs/top_22.cti'.\n",
      "Mechanism contains 110 species and 1850 reactions.\n",
      "Validating mechanism...PASSED.\n",
      "Wrote YAML mechanism file to '/home/moon/autoscience/reaction_calculator/error_vs_num_included/mechs/top_22.yaml'.\n",
      "Mechanism contains 110 species and 1850 reactions.\n",
      "Validating mechanism...\n",
      "PASSED\n",
      "compiling top 23\n",
      "48 kinetics entries loaded\n",
      "178 thermo entries loaded\n",
      "changing reaction 324 C4H8OOH2-4O2(229) <=> C4H8OOH1-3O2(225)\n",
      "changing reaction 370 CH3CHO(35) + SC4H9(183) <=> CH2CHO(21) + butane(1)\n",
      "changing reaction 371 CH3CHO(35) + PC4H9(182) <=> CH2CHO(21) + butane(1)\n",
      "changing reaction 748 HCO(19) + C4H8-2(189) <=> CH2O(9) + C4H71-3(190)\n",
      "changing reaction 749 HCO(19) + C4H8-1(188) <=> CH2O(9) + C4H71-3(190)\n",
      "changing reaction 213 HO2(16) + C2H5(33) <=> H2O2(17) + C2H4(11)\n",
      "changing reaction 419 HO2(16) + CH2CHO(21) <=> H2O2(17) + CH2CO(24)\n",
      "changing reaction 420 HO2(16) + SC4H9(183) <=> H2O2(17) + C4H8-2(189)\n",
      "changing reaction 464 CH3(18) + CH2CHO(21) <=> CH4(10) + CH2CO(24)\n",
      "changing reaction 574 CH3O(31) + C3H5-A(94) <=> CH2O(9) + C3H6(12)\n",
      "changing reaction 581 CH2CHO(21) + C3H5-A(94) <=> CH2CO(24) + C3H6(12)\n",
      "changing reaction 720 CH2CHO(21) + C4H71-3(190) <=> CH2CO(24) + C4H8-2(189)\n",
      "changing reaction 722 CH2CHO(21) + C4H71-3(190) <=> CH2CO(24) + C4H8-1(188)\n",
      "changing reaction 1103 CH3O2(45) + CH2CHO(21) <=> CH3O2H(46) + CH2CO(24)\n",
      "changing reaction 1287 C3KET21(73) + SC4H9(183) <=> CH3COCH2O2(72) + butane(1)\n",
      "changing reaction 1289 C3KET21(73) + SC4H9(183) <=> [CH2]C(=O)COO(911) + butane(1)\n",
      "changing reaction 1658 CH2CHO(21) + C2H5O2(47) <=> CH2CO(24) + C2H5O2H(48)\n",
      "17 kinetics changed\n",
      "Changing estimated thermo 87: [CH2]C(=O)COO(911)\n",
      "Changing estimated thermo 90: [O]OCC(=O)COO(928)\n",
      "Changing estimated thermo 109: [O]OC1CCOOC1(9510)\n",
      "3 species changed\n"
     ]
    },
    {
     "name": "stderr",
     "output_type": "stream",
     "text": [
      "WARNING:root:Marked reaction CH3(18) + C2H3(22) <=> C3H6(12) as duplicate of C3H6(12) <=> CH3(18) + C2H3(22) for saving to Chemkin file.\n"
     ]
    },
    {
     "name": "stdout",
     "output_type": "stream",
     "text": [
      "Wrote CTI mechanism file to '/home/moon/autoscience/reaction_calculator/error_vs_num_included/mechs/top_23.cti'.\n",
      "Mechanism contains 110 species and 1850 reactions.\n",
      "Validating mechanism...PASSED.\n",
      "Wrote YAML mechanism file to '/home/moon/autoscience/reaction_calculator/error_vs_num_included/mechs/top_23.yaml'.\n",
      "Mechanism contains 110 species and 1850 reactions.\n",
      "Validating mechanism...\n",
      "PASSED\n",
      "skipping missing calculation 1736\n",
      "skipping missing calculation 418\n",
      "compiling top 26\n",
      "48 kinetics entries loaded\n",
      "178 thermo entries loaded\n",
      "changing reaction 324 C4H8OOH2-4O2(229) <=> C4H8OOH1-3O2(225)\n",
      "changing reaction 370 CH3CHO(35) + SC4H9(183) <=> CH2CHO(21) + butane(1)\n",
      "changing reaction 371 CH3CHO(35) + PC4H9(182) <=> CH2CHO(21) + butane(1)\n",
      "changing reaction 748 HCO(19) + C4H8-2(189) <=> CH2O(9) + C4H71-3(190)\n",
      "changing reaction 749 HCO(19) + C4H8-1(188) <=> CH2O(9) + C4H71-3(190)\n",
      "changing reaction 213 HO2(16) + C2H5(33) <=> H2O2(17) + C2H4(11)\n",
      "changing reaction 419 HO2(16) + CH2CHO(21) <=> H2O2(17) + CH2CO(24)\n",
      "changing reaction 420 HO2(16) + SC4H9(183) <=> H2O2(17) + C4H8-2(189)\n",
      "changing reaction 464 CH3(18) + CH2CHO(21) <=> CH4(10) + CH2CO(24)\n",
      "changing reaction 574 CH3O(31) + C3H5-A(94) <=> CH2O(9) + C3H6(12)\n",
      "changing reaction 581 CH2CHO(21) + C3H5-A(94) <=> CH2CO(24) + C3H6(12)\n",
      "changing reaction 720 CH2CHO(21) + C4H71-3(190) <=> CH2CO(24) + C4H8-2(189)\n",
      "changing reaction 722 CH2CHO(21) + C4H71-3(190) <=> CH2CO(24) + C4H8-1(188)\n",
      "changing reaction 725 CH3O(31) + C4H71-3(190) <=> CH2O(9) + C4H8-2(189)\n",
      "changing reaction 1103 CH3O2(45) + CH2CHO(21) <=> CH3O2H(46) + CH2CO(24)\n",
      "changing reaction 1287 C3KET21(73) + SC4H9(183) <=> CH3COCH2O2(72) + butane(1)\n",
      "changing reaction 1289 C3KET21(73) + SC4H9(183) <=> [CH2]C(=O)COO(911) + butane(1)\n",
      "changing reaction 1658 CH2CHO(21) + C2H5O2(47) <=> CH2CO(24) + C2H5O2H(48)\n",
      "18 kinetics changed\n",
      "Changing estimated thermo 87: [CH2]C(=O)COO(911)\n",
      "Changing estimated thermo 90: [O]OCC(=O)COO(928)\n",
      "Changing estimated thermo 109: [O]OC1CCOOC1(9510)\n",
      "3 species changed\n"
     ]
    },
    {
     "name": "stderr",
     "output_type": "stream",
     "text": [
      "WARNING:root:Marked reaction CH3(18) + C2H3(22) <=> C3H6(12) as duplicate of C3H6(12) <=> CH3(18) + C2H3(22) for saving to Chemkin file.\n"
     ]
    },
    {
     "name": "stdout",
     "output_type": "stream",
     "text": [
      "Wrote CTI mechanism file to '/home/moon/autoscience/reaction_calculator/error_vs_num_included/mechs/top_26.cti'.\n",
      "Mechanism contains 110 species and 1850 reactions.\n",
      "Validating mechanism...PASSED.\n",
      "Wrote YAML mechanism file to '/home/moon/autoscience/reaction_calculator/error_vs_num_included/mechs/top_26.yaml'.\n",
      "Mechanism contains 110 species and 1850 reactions.\n",
      "Validating mechanism...\n",
      "PASSED\n",
      "skipping missing calculation 1721\n",
      "skipping missing calculation 1665\n",
      "compiling top 29\n",
      "48 kinetics entries loaded\n",
      "178 thermo entries loaded\n",
      "changing reaction 324 C4H8OOH2-4O2(229) <=> C4H8OOH1-3O2(225)\n",
      "changing reaction 370 CH3CHO(35) + SC4H9(183) <=> CH2CHO(21) + butane(1)\n",
      "changing reaction 371 CH3CHO(35) + PC4H9(182) <=> CH2CHO(21) + butane(1)\n",
      "changing reaction 748 HCO(19) + C4H8-2(189) <=> CH2O(9) + C4H71-3(190)\n",
      "changing reaction 749 HCO(19) + C4H8-1(188) <=> CH2O(9) + C4H71-3(190)\n",
      "changing reaction 1290 C3KET21(73) + PC4H9(182) <=> [CH2]C(=O)COO(911) + butane(1)\n",
      "changing reaction 213 HO2(16) + C2H5(33) <=> H2O2(17) + C2H4(11)\n",
      "changing reaction 419 HO2(16) + CH2CHO(21) <=> H2O2(17) + CH2CO(24)\n",
      "changing reaction 420 HO2(16) + SC4H9(183) <=> H2O2(17) + C4H8-2(189)\n",
      "changing reaction 464 CH3(18) + CH2CHO(21) <=> CH4(10) + CH2CO(24)\n",
      "changing reaction 574 CH3O(31) + C3H5-A(94) <=> CH2O(9) + C3H6(12)\n",
      "changing reaction 581 CH2CHO(21) + C3H5-A(94) <=> CH2CO(24) + C3H6(12)\n",
      "changing reaction 720 CH2CHO(21) + C4H71-3(190) <=> CH2CO(24) + C4H8-2(189)\n",
      "changing reaction 722 CH2CHO(21) + C4H71-3(190) <=> CH2CO(24) + C4H8-1(188)\n",
      "changing reaction 725 CH3O(31) + C4H71-3(190) <=> CH2O(9) + C4H8-2(189)\n",
      "changing reaction 1103 CH3O2(45) + CH2CHO(21) <=> CH3O2H(46) + CH2CO(24)\n",
      "changing reaction 1287 C3KET21(73) + SC4H9(183) <=> CH3COCH2O2(72) + butane(1)\n",
      "changing reaction 1289 C3KET21(73) + SC4H9(183) <=> [CH2]C(=O)COO(911) + butane(1)\n",
      "changing reaction 1658 CH2CHO(21) + C2H5O2(47) <=> CH2CO(24) + C2H5O2H(48)\n",
      "19 kinetics changed\n"
     ]
    },
    {
     "name": "stderr",
     "output_type": "stream",
     "text": [
      "WARNING:root:Marked reaction CH3(18) + C2H3(22) <=> C3H6(12) as duplicate of C3H6(12) <=> CH3(18) + C2H3(22) for saving to Chemkin file.\n"
     ]
    },
    {
     "name": "stdout",
     "output_type": "stream",
     "text": [
      "Changing estimated thermo 87: [CH2]C(=O)COO(911)\n",
      "Changing estimated thermo 90: [O]OCC(=O)COO(928)\n",
      "Changing estimated thermo 109: [O]OC1CCOOC1(9510)\n",
      "3 species changed\n",
      "Wrote CTI mechanism file to '/home/moon/autoscience/reaction_calculator/error_vs_num_included/mechs/top_29.cti'.\n",
      "Mechanism contains 110 species and 1850 reactions.\n",
      "Validating mechanism...PASSED.\n",
      "Wrote YAML mechanism file to '/home/moon/autoscience/reaction_calculator/error_vs_num_included/mechs/top_29.yaml'.\n",
      "Mechanism contains 110 species and 1850 reactions.\n",
      "Validating mechanism...\n",
      "PASSED\n",
      "skipping missing calculation 427\n",
      "compiling top 31\n",
      "48 kinetics entries loaded\n",
      "178 thermo entries loaded\n",
      "changing reaction 324 C4H8OOH2-4O2(229) <=> C4H8OOH1-3O2(225)\n",
      "changing reaction 370 CH3CHO(35) + SC4H9(183) <=> CH2CHO(21) + butane(1)\n",
      "changing reaction 371 CH3CHO(35) + PC4H9(182) <=> CH2CHO(21) + butane(1)\n",
      "changing reaction 748 HCO(19) + C4H8-2(189) <=> CH2O(9) + C4H71-3(190)\n",
      "changing reaction 749 HCO(19) + C4H8-1(188) <=> CH2O(9) + C4H71-3(190)\n",
      "changing reaction 1290 C3KET21(73) + PC4H9(182) <=> [CH2]C(=O)COO(911) + butane(1)\n",
      "changing reaction 213 HO2(16) + C2H5(33) <=> H2O2(17) + C2H4(11)\n",
      "changing reaction 419 HO2(16) + CH2CHO(21) <=> H2O2(17) + CH2CO(24)\n",
      "changing reaction 420 HO2(16) + SC4H9(183) <=> H2O2(17) + C4H8-2(189)\n",
      "changing reaction 464 CH3(18) + CH2CHO(21) <=> CH4(10) + CH2CO(24)\n",
      "changing reaction 574 CH3O(31) + C3H5-A(94) <=> CH2O(9) + C3H6(12)\n",
      "changing reaction 581 CH2CHO(21) + C3H5-A(94) <=> CH2CO(24) + C3H6(12)\n",
      "changing reaction 720 CH2CHO(21) + C4H71-3(190) <=> CH2CO(24) + C4H8-2(189)\n",
      "changing reaction 722 CH2CHO(21) + C4H71-3(190) <=> CH2CO(24) + C4H8-1(188)\n",
      "changing reaction 725 CH3O(31) + C4H71-3(190) <=> CH2O(9) + C4H8-2(189)\n"
     ]
    },
    {
     "name": "stderr",
     "output_type": "stream",
     "text": [
      "WARNING:root:Marked reaction CH3(18) + C2H3(22) <=> C3H6(12) as duplicate of C3H6(12) <=> CH3(18) + C2H3(22) for saving to Chemkin file.\n"
     ]
    },
    {
     "name": "stdout",
     "output_type": "stream",
     "text": [
      "changing reaction 1103 CH3O2(45) + CH2CHO(21) <=> CH3O2H(46) + CH2CO(24)\n",
      "changing reaction 1287 C3KET21(73) + SC4H9(183) <=> CH3COCH2O2(72) + butane(1)\n",
      "changing reaction 1289 C3KET21(73) + SC4H9(183) <=> [CH2]C(=O)COO(911) + butane(1)\n",
      "changing reaction 1658 CH2CHO(21) + C2H5O2(47) <=> CH2CO(24) + C2H5O2H(48)\n",
      "changing reaction 1685 C2H5(33) + C2H5O2(47) <=> C2H4(11) + C2H5O2H(48)\n",
      "20 kinetics changed\n",
      "Changing estimated thermo 87: [CH2]C(=O)COO(911)\n",
      "Changing estimated thermo 90: [O]OCC(=O)COO(928)\n",
      "Changing estimated thermo 109: [O]OC1CCOOC1(9510)\n",
      "3 species changed\n",
      "Wrote CTI mechanism file to '/home/moon/autoscience/reaction_calculator/error_vs_num_included/mechs/top_31.cti'.\n",
      "Mechanism contains 110 species and 1850 reactions.\n",
      "Validating mechanism...PASSED.\n",
      "Wrote YAML mechanism file to '/home/moon/autoscience/reaction_calculator/error_vs_num_included/mechs/top_31.yaml'.\n",
      "Mechanism contains 110 species and 1850 reactions.\n",
      "Validating mechanism...\n",
      "PASSED\n",
      "skipping missing calculation 1766\n",
      "compiling top 33\n",
      "48 kinetics entries loaded\n",
      "178 thermo entries loaded\n",
      "changing reaction 324 C4H8OOH2-4O2(229) <=> C4H8OOH1-3O2(225)\n",
      "changing reaction 370 CH3CHO(35) + SC4H9(183) <=> CH2CHO(21) + butane(1)\n",
      "changing reaction 371 CH3CHO(35) + PC4H9(182) <=> CH2CHO(21) + butane(1)\n",
      "changing reaction 748 HCO(19) + C4H8-2(189) <=> CH2O(9) + C4H71-3(190)\n",
      "changing reaction 749 HCO(19) + C4H8-1(188) <=> CH2O(9) + C4H71-3(190)\n",
      "changing reaction 1290 C3KET21(73) + PC4H9(182) <=> [CH2]C(=O)COO(911) + butane(1)\n",
      "changing reaction 213 HO2(16) + C2H5(33) <=> H2O2(17) + C2H4(11)\n",
      "changing reaction 419 HO2(16) + CH2CHO(21) <=> H2O2(17) + CH2CO(24)\n",
      "changing reaction 420 HO2(16) + SC4H9(183) <=> H2O2(17) + C4H8-2(189)\n",
      "changing reaction 464 CH3(18) + CH2CHO(21) <=> CH4(10) + CH2CO(24)\n",
      "changing reaction 574 CH3O(31) + C3H5-A(94) <=> CH2O(9) + C3H6(12)\n",
      "changing reaction 581 CH2CHO(21) + C3H5-A(94) <=> CH2CO(24) + C3H6(12)\n",
      "changing reaction 720 CH2CHO(21) + C4H71-3(190) <=> CH2CO(24) + C4H8-2(189)\n",
      "changing reaction 722 CH2CHO(21) + C4H71-3(190) <=> CH2CO(24) + C4H8-1(188)\n",
      "changing reaction 725 CH3O(31) + C4H71-3(190) <=> CH2O(9) + C4H8-2(189)\n"
     ]
    },
    {
     "name": "stderr",
     "output_type": "stream",
     "text": [
      "WARNING:root:Marked reaction CH3(18) + C2H3(22) <=> C3H6(12) as duplicate of C3H6(12) <=> CH3(18) + C2H3(22) for saving to Chemkin file.\n"
     ]
    },
    {
     "name": "stdout",
     "output_type": "stream",
     "text": [
      "changing reaction 1103 CH3O2(45) + CH2CHO(21) <=> CH3O2H(46) + CH2CO(24)\n",
      "changing reaction 1287 C3KET21(73) + SC4H9(183) <=> CH3COCH2O2(72) + butane(1)\n",
      "changing reaction 1289 C3KET21(73) + SC4H9(183) <=> [CH2]C(=O)COO(911) + butane(1)\n",
      "changing reaction 1658 CH2CHO(21) + C2H5O2(47) <=> CH2CO(24) + C2H5O2H(48)\n",
      "changing reaction 1685 C2H5(33) + C2H5O2(47) <=> C2H4(11) + C2H5O2H(48)\n",
      "changing reaction 1714 C4H8OOH2-4(223) + butane(1) <=> SC4H9(183) + SC4H9O2H(187)\n",
      "21 kinetics changed\n",
      "Changing estimated thermo 87: [CH2]C(=O)COO(911)\n",
      "Changing estimated thermo 90: [O]OCC(=O)COO(928)\n",
      "Changing estimated thermo 109: [O]OC1CCOOC1(9510)\n",
      "3 species changed\n",
      "Wrote CTI mechanism file to '/home/moon/autoscience/reaction_calculator/error_vs_num_included/mechs/top_33.cti'.\n",
      "Mechanism contains 110 species and 1850 reactions.\n",
      "Validating mechanism...PASSED.\n",
      "Wrote YAML mechanism file to '/home/moon/autoscience/reaction_calculator/error_vs_num_included/mechs/top_33.yaml'.\n",
      "Mechanism contains 110 species and 1850 reactions.\n",
      "Validating mechanism...\n",
      "PASSED\n",
      "skipping missing calculation 1773\n",
      "compiling top 35\n",
      "48 kinetics entries loaded\n",
      "178 thermo entries loaded\n",
      "changing reaction 324 C4H8OOH2-4O2(229) <=> C4H8OOH1-3O2(225)\n",
      "changing reaction 370 CH3CHO(35) + SC4H9(183) <=> CH2CHO(21) + butane(1)\n",
      "changing reaction 371 CH3CHO(35) + PC4H9(182) <=> CH2CHO(21) + butane(1)\n",
      "changing reaction 655 HO2(16) + [CH2]C[CH]C(748) <=> O2(2) + PC4H9(182)\n",
      "changing reaction 748 HCO(19) + C4H8-2(189) <=> CH2O(9) + C4H71-3(190)\n",
      "changing reaction 749 HCO(19) + C4H8-1(188) <=> CH2O(9) + C4H71-3(190)\n",
      "changing reaction 1290 C3KET21(73) + PC4H9(182) <=> [CH2]C(=O)COO(911) + butane(1)\n",
      "changing reaction 213 HO2(16) + C2H5(33) <=> H2O2(17) + C2H4(11)\n",
      "changing reaction 419 HO2(16) + CH2CHO(21) <=> H2O2(17) + CH2CO(24)\n",
      "changing reaction 420 HO2(16) + SC4H9(183) <=> H2O2(17) + C4H8-2(189)\n",
      "changing reaction 464 CH3(18) + CH2CHO(21) <=> CH4(10) + CH2CO(24)\n",
      "changing reaction 574 CH3O(31) + C3H5-A(94) <=> CH2O(9) + C3H6(12)\n",
      "changing reaction 581 CH2CHO(21) + C3H5-A(94) <=> CH2CO(24) + C3H6(12)\n",
      "changing reaction 720 CH2CHO(21) + C4H71-3(190) <=> CH2CO(24) + C4H8-2(189)\n",
      "changing reaction 722 CH2CHO(21) + C4H71-3(190) <=> CH2CO(24) + C4H8-1(188)\n",
      "changing reaction 725 CH3O(31) + C4H71-3(190) <=> CH2O(9) + C4H8-2(189)\n",
      "changing reaction 1103 CH3O2(45) + CH2CHO(21) <=> CH3O2H(46) + CH2CO(24)\n",
      "changing reaction 1287 C3KET21(73) + SC4H9(183) <=> CH3COCH2O2(72) + butane(1)\n",
      "changing reaction 1289 C3KET21(73) + SC4H9(183) <=> [CH2]C(=O)COO(911) + butane(1)\n",
      "changing reaction 1658 CH2CHO(21) + C2H5O2(47) <=> CH2CO(24) + C2H5O2H(48)\n",
      "changing reaction 1685 C2H5(33) + C2H5O2(47) <=> C2H4(11) + C2H5O2H(48)\n",
      "changing reaction 1714 C4H8OOH2-4(223) + butane(1) <=> SC4H9(183) + SC4H9O2H(187)\n",
      "22 kinetics changed\n",
      "Changing estimated thermo 87: [CH2]C(=O)COO(911)\n",
      "Changing estimated thermo 90: [O]OCC(=O)COO(928)\n"
     ]
    },
    {
     "name": "stderr",
     "output_type": "stream",
     "text": [
      "WARNING:root:Marked reaction CH3(18) + C2H3(22) <=> C3H6(12) as duplicate of C3H6(12) <=> CH3(18) + C2H3(22) for saving to Chemkin file.\n"
     ]
    },
    {
     "name": "stdout",
     "output_type": "stream",
     "text": [
      "Changing estimated thermo 109: [O]OC1CCOOC1(9510)\n",
      "3 species changed\n",
      "Wrote CTI mechanism file to '/home/moon/autoscience/reaction_calculator/error_vs_num_included/mechs/top_35.cti'.\n",
      "Mechanism contains 110 species and 1850 reactions.\n",
      "Validating mechanism...PASSED.\n",
      "Wrote YAML mechanism file to '/home/moon/autoscience/reaction_calculator/error_vs_num_included/mechs/top_35.yaml'.\n",
      "Mechanism contains 110 species and 1850 reactions.\n",
      "Validating mechanism...\n",
      "PASSED\n",
      "compiling top 36\n",
      "48 kinetics entries loaded\n",
      "178 thermo entries loaded\n",
      "changing reaction 324 C4H8OOH2-4O2(229) <=> C4H8OOH1-3O2(225)\n",
      "changing reaction 370 CH3CHO(35) + SC4H9(183) <=> CH2CHO(21) + butane(1)\n",
      "changing reaction 371 CH3CHO(35) + PC4H9(182) <=> CH2CHO(21) + butane(1)\n",
      "changing reaction 655 HO2(16) + [CH2]C[CH]C(748) <=> O2(2) + PC4H9(182)\n",
      "changing reaction 748 HCO(19) + C4H8-2(189) <=> CH2O(9) + C4H71-3(190)\n",
      "changing reaction 749 HCO(19) + C4H8-1(188) <=> CH2O(9) + C4H71-3(190)\n",
      "changing reaction 1003 HO2(16) + C4H71-4(191) <=> O2(2) + C4H8-1(188)\n",
      "changing reaction 1290 C3KET21(73) + PC4H9(182) <=> [CH2]C(=O)COO(911) + butane(1)\n"
     ]
    },
    {
     "name": "stderr",
     "output_type": "stream",
     "text": [
      "WARNING:root:Marked reaction CH3(18) + C2H3(22) <=> C3H6(12) as duplicate of C3H6(12) <=> CH3(18) + C2H3(22) for saving to Chemkin file.\n"
     ]
    },
    {
     "name": "stdout",
     "output_type": "stream",
     "text": [
      "changing reaction 213 HO2(16) + C2H5(33) <=> H2O2(17) + C2H4(11)\n",
      "changing reaction 419 HO2(16) + CH2CHO(21) <=> H2O2(17) + CH2CO(24)\n",
      "changing reaction 420 HO2(16) + SC4H9(183) <=> H2O2(17) + C4H8-2(189)\n",
      "changing reaction 464 CH3(18) + CH2CHO(21) <=> CH4(10) + CH2CO(24)\n",
      "changing reaction 574 CH3O(31) + C3H5-A(94) <=> CH2O(9) + C3H6(12)\n",
      "changing reaction 581 CH2CHO(21) + C3H5-A(94) <=> CH2CO(24) + C3H6(12)\n",
      "changing reaction 720 CH2CHO(21) + C4H71-3(190) <=> CH2CO(24) + C4H8-2(189)\n",
      "changing reaction 722 CH2CHO(21) + C4H71-3(190) <=> CH2CO(24) + C4H8-1(188)\n",
      "changing reaction 725 CH3O(31) + C4H71-3(190) <=> CH2O(9) + C4H8-2(189)\n",
      "changing reaction 1103 CH3O2(45) + CH2CHO(21) <=> CH3O2H(46) + CH2CO(24)\n",
      "changing reaction 1287 C3KET21(73) + SC4H9(183) <=> CH3COCH2O2(72) + butane(1)\n",
      "changing reaction 1289 C3KET21(73) + SC4H9(183) <=> [CH2]C(=O)COO(911) + butane(1)\n",
      "changing reaction 1658 CH2CHO(21) + C2H5O2(47) <=> CH2CO(24) + C2H5O2H(48)\n",
      "changing reaction 1685 C2H5(33) + C2H5O2(47) <=> C2H4(11) + C2H5O2H(48)\n",
      "changing reaction 1714 C4H8OOH2-4(223) + butane(1) <=> SC4H9(183) + SC4H9O2H(187)\n",
      "23 kinetics changed\n",
      "Changing estimated thermo 87: [CH2]C(=O)COO(911)\n",
      "Changing estimated thermo 90: [O]OCC(=O)COO(928)\n",
      "Changing estimated thermo 109: [O]OC1CCOOC1(9510)\n",
      "3 species changed\n",
      "Wrote CTI mechanism file to '/home/moon/autoscience/reaction_calculator/error_vs_num_included/mechs/top_36.cti'.\n",
      "Mechanism contains 110 species and 1850 reactions.\n",
      "Validating mechanism...PASSED.\n",
      "Wrote YAML mechanism file to '/home/moon/autoscience/reaction_calculator/error_vs_num_included/mechs/top_36.yaml'.\n",
      "Mechanism contains 110 species and 1850 reactions.\n",
      "Validating mechanism...\n",
      "PASSED\n",
      "compiling top 37\n",
      "48 kinetics entries loaded\n",
      "178 thermo entries loaded\n",
      "changing reaction 324 C4H8OOH2-4O2(229) <=> C4H8OOH1-3O2(225)\n",
      "changing reaction 370 CH3CHO(35) + SC4H9(183) <=> CH2CHO(21) + butane(1)\n",
      "changing reaction 371 CH3CHO(35) + PC4H9(182) <=> CH2CHO(21) + butane(1)\n",
      "changing reaction 650 HO2(16) + [CH2]C[CH]C(748) <=> O2(2) + SC4H9(183)\n",
      "changing reaction 655 HO2(16) + [CH2]C[CH]C(748) <=> O2(2) + PC4H9(182)\n",
      "changing reaction 748 HCO(19) + C4H8-2(189) <=> CH2O(9) + C4H71-3(190)\n",
      "changing reaction 749 HCO(19) + C4H8-1(188) <=> CH2O(9) + C4H71-3(190)\n",
      "changing reaction 1003 HO2(16) + C4H71-4(191) <=> O2(2) + C4H8-1(188)\n",
      "changing reaction 1290 C3KET21(73) + PC4H9(182) <=> [CH2]C(=O)COO(911) + butane(1)\n",
      "changing reaction 213 HO2(16) + C2H5(33) <=> H2O2(17) + C2H4(11)\n",
      "changing reaction 419 HO2(16) + CH2CHO(21) <=> H2O2(17) + CH2CO(24)\n",
      "changing reaction 420 HO2(16) + SC4H9(183) <=> H2O2(17) + C4H8-2(189)\n",
      "changing reaction 464 CH3(18) + CH2CHO(21) <=> CH4(10) + CH2CO(24)\n",
      "changing reaction 574 CH3O(31) + C3H5-A(94) <=> CH2O(9) + C3H6(12)\n",
      "changing reaction 581 CH2CHO(21) + C3H5-A(94) <=> CH2CO(24) + C3H6(12)\n",
      "changing reaction 720 CH2CHO(21) + C4H71-3(190) <=> CH2CO(24) + C4H8-2(189)\n",
      "changing reaction 722 CH2CHO(21) + C4H71-3(190) <=> CH2CO(24) + C4H8-1(188)\n",
      "changing reaction 725 CH3O(31) + C4H71-3(190) <=> CH2O(9) + C4H8-2(189)\n",
      "changing reaction 1103 CH3O2(45) + CH2CHO(21) <=> CH3O2H(46) + CH2CO(24)\n",
      "changing reaction 1287 C3KET21(73) + SC4H9(183) <=> CH3COCH2O2(72) + butane(1)\n",
      "changing reaction 1289 C3KET21(73) + SC4H9(183) <=> [CH2]C(=O)COO(911) + butane(1)\n",
      "changing reaction 1658 CH2CHO(21) + C2H5O2(47) <=> CH2CO(24) + C2H5O2H(48)\n",
      "changing reaction 1685 C2H5(33) + C2H5O2(47) <=> C2H4(11) + C2H5O2H(48)\n",
      "changing reaction 1714 C4H8OOH2-4(223) + butane(1) <=> SC4H9(183) + SC4H9O2H(187)\n",
      "24 kinetics changed\n",
      "Changing estimated thermo 87: [CH2]C(=O)COO(911)\n",
      "Changing estimated thermo 90: [O]OCC(=O)COO(928)\n",
      "Changing estimated thermo 109: [O]OC1CCOOC1(9510)\n",
      "3 species changed\n"
     ]
    },
    {
     "name": "stderr",
     "output_type": "stream",
     "text": [
      "WARNING:root:Marked reaction CH3(18) + C2H3(22) <=> C3H6(12) as duplicate of C3H6(12) <=> CH3(18) + C2H3(22) for saving to Chemkin file.\n"
     ]
    },
    {
     "name": "stdout",
     "output_type": "stream",
     "text": [
      "Wrote CTI mechanism file to '/home/moon/autoscience/reaction_calculator/error_vs_num_included/mechs/top_37.cti'.\n",
      "Mechanism contains 110 species and 1850 reactions.\n",
      "Validating mechanism...PASSED.\n",
      "Wrote YAML mechanism file to '/home/moon/autoscience/reaction_calculator/error_vs_num_included/mechs/top_37.yaml'.\n",
      "Mechanism contains 110 species and 1850 reactions.\n",
      "Validating mechanism...\n",
      "PASSED\n",
      "compiling top 38\n",
      "48 kinetics entries loaded\n",
      "178 thermo entries loaded\n",
      "changing reaction 324 C4H8OOH2-4O2(229) <=> C4H8OOH1-3O2(225)\n",
      "changing reaction 370 CH3CHO(35) + SC4H9(183) <=> CH2CHO(21) + butane(1)\n",
      "changing reaction 371 CH3CHO(35) + PC4H9(182) <=> CH2CHO(21) + butane(1)\n",
      "changing reaction 650 HO2(16) + [CH2]C[CH]C(748) <=> O2(2) + SC4H9(183)\n",
      "changing reaction 655 HO2(16) + [CH2]C[CH]C(748) <=> O2(2) + PC4H9(182)\n",
      "changing reaction 748 HCO(19) + C4H8-2(189) <=> CH2O(9) + C4H71-3(190)\n",
      "changing reaction 749 HCO(19) + C4H8-1(188) <=> CH2O(9) + C4H71-3(190)\n",
      "changing reaction 1003 HO2(16) + C4H71-4(191) <=> O2(2) + C4H8-1(188)\n",
      "changing reaction 1290 C3KET21(73) + PC4H9(182) <=> [CH2]C(=O)COO(911) + butane(1)\n",
      "changing reaction 213 HO2(16) + C2H5(33) <=> H2O2(17) + C2H4(11)\n",
      "changing reaction 419 HO2(16) + CH2CHO(21) <=> H2O2(17) + CH2CO(24)\n",
      "changing reaction 420 HO2(16) + SC4H9(183) <=> H2O2(17) + C4H8-2(189)\n",
      "changing reaction 464 CH3(18) + CH2CHO(21) <=> CH4(10) + CH2CO(24)\n",
      "changing reaction 574 CH3O(31) + C3H5-A(94) <=> CH2O(9) + C3H6(12)\n",
      "changing reaction 581 CH2CHO(21) + C3H5-A(94) <=> CH2CO(24) + C3H6(12)\n",
      "changing reaction 720 CH2CHO(21) + C4H71-3(190) <=> CH2CO(24) + C4H8-2(189)\n",
      "changing reaction 722 CH2CHO(21) + C4H71-3(190) <=> CH2CO(24) + C4H8-1(188)\n",
      "changing reaction 725 CH3O(31) + C4H71-3(190) <=> CH2O(9) + C4H8-2(189)\n"
     ]
    },
    {
     "name": "stderr",
     "output_type": "stream",
     "text": [
      "WARNING:root:Marked reaction CH3(18) + C2H3(22) <=> C3H6(12) as duplicate of C3H6(12) <=> CH3(18) + C2H3(22) for saving to Chemkin file.\n"
     ]
    },
    {
     "name": "stdout",
     "output_type": "stream",
     "text": [
      "changing reaction 1103 CH3O2(45) + CH2CHO(21) <=> CH3O2H(46) + CH2CO(24)\n",
      "changing reaction 1287 C3KET21(73) + SC4H9(183) <=> CH3COCH2O2(72) + butane(1)\n",
      "changing reaction 1289 C3KET21(73) + SC4H9(183) <=> [CH2]C(=O)COO(911) + butane(1)\n",
      "changing reaction 1658 CH2CHO(21) + C2H5O2(47) <=> CH2CO(24) + C2H5O2H(48)\n",
      "changing reaction 1685 C2H5(33) + C2H5O2(47) <=> C2H4(11) + C2H5O2H(48)\n",
      "changing reaction 1714 C4H8OOH2-4(223) + butane(1) <=> SC4H9(183) + SC4H9O2H(187)\n",
      "24 kinetics changed\n",
      "Changing estimated thermo 87: [CH2]C(=O)COO(911)\n",
      "Changing estimated thermo 90: [O]OCC(=O)COO(928)\n",
      "Changing estimated thermo 99: [CH2]C1CC1(4343)\n",
      "Changing estimated thermo 109: [O]OC1CCOOC1(9510)\n",
      "4 species changed\n",
      "Wrote CTI mechanism file to '/home/moon/autoscience/reaction_calculator/error_vs_num_included/mechs/top_38.cti'.\n",
      "Mechanism contains 110 species and 1850 reactions.\n",
      "Validating mechanism...PASSED.\n",
      "Wrote YAML mechanism file to '/home/moon/autoscience/reaction_calculator/error_vs_num_included/mechs/top_38.yaml'.\n",
      "Mechanism contains 110 species and 1850 reactions.\n",
      "Validating mechanism...\n",
      "PASSED\n",
      "skipping missing calculation 918\n",
      "compiling top 40\n",
      "48 kinetics entries loaded\n",
      "178 thermo entries loaded\n",
      "changing reaction 324 C4H8OOH2-4O2(229) <=> C4H8OOH1-3O2(225)\n",
      "changing reaction 370 CH3CHO(35) + SC4H9(183) <=> CH2CHO(21) + butane(1)\n",
      "changing reaction 371 CH3CHO(35) + PC4H9(182) <=> CH2CHO(21) + butane(1)\n",
      "changing reaction 650 HO2(16) + [CH2]C[CH]C(748) <=> O2(2) + SC4H9(183)\n",
      "changing reaction 655 HO2(16) + [CH2]C[CH]C(748) <=> O2(2) + PC4H9(182)\n",
      "changing reaction 748 HCO(19) + C4H8-2(189) <=> CH2O(9) + C4H71-3(190)\n",
      "changing reaction 749 HCO(19) + C4H8-1(188) <=> CH2O(9) + C4H71-3(190)\n",
      "changing reaction 985 HO2(16) + [CH2]C[O](703) <=> O2(2) + C2H5O(49)\n",
      "changing reaction 1003 HO2(16) + C4H71-4(191) <=> O2(2) + C4H8-1(188)\n",
      "changing reaction 1290 C3KET21(73) + PC4H9(182) <=> [CH2]C(=O)COO(911) + butane(1)\n"
     ]
    },
    {
     "name": "stderr",
     "output_type": "stream",
     "text": [
      "WARNING:root:Marked reaction CH3(18) + C2H3(22) <=> C3H6(12) as duplicate of C3H6(12) <=> CH3(18) + C2H3(22) for saving to Chemkin file.\n"
     ]
    },
    {
     "name": "stdout",
     "output_type": "stream",
     "text": [
      "changing reaction 213 HO2(16) + C2H5(33) <=> H2O2(17) + C2H4(11)\n",
      "changing reaction 419 HO2(16) + CH2CHO(21) <=> H2O2(17) + CH2CO(24)\n",
      "changing reaction 420 HO2(16) + SC4H9(183) <=> H2O2(17) + C4H8-2(189)\n",
      "changing reaction 464 CH3(18) + CH2CHO(21) <=> CH4(10) + CH2CO(24)\n",
      "changing reaction 574 CH3O(31) + C3H5-A(94) <=> CH2O(9) + C3H6(12)\n",
      "changing reaction 581 CH2CHO(21) + C3H5-A(94) <=> CH2CO(24) + C3H6(12)\n",
      "changing reaction 720 CH2CHO(21) + C4H71-3(190) <=> CH2CO(24) + C4H8-2(189)\n",
      "changing reaction 722 CH2CHO(21) + C4H71-3(190) <=> CH2CO(24) + C4H8-1(188)\n",
      "changing reaction 725 CH3O(31) + C4H71-3(190) <=> CH2O(9) + C4H8-2(189)\n",
      "changing reaction 1103 CH3O2(45) + CH2CHO(21) <=> CH3O2H(46) + CH2CO(24)\n",
      "changing reaction 1287 C3KET21(73) + SC4H9(183) <=> CH3COCH2O2(72) + butane(1)\n",
      "changing reaction 1289 C3KET21(73) + SC4H9(183) <=> [CH2]C(=O)COO(911) + butane(1)\n",
      "changing reaction 1658 CH2CHO(21) + C2H5O2(47) <=> CH2CO(24) + C2H5O2H(48)\n",
      "changing reaction 1685 C2H5(33) + C2H5O2(47) <=> C2H4(11) + C2H5O2H(48)\n",
      "changing reaction 1714 C4H8OOH2-4(223) + butane(1) <=> SC4H9(183) + SC4H9O2H(187)\n",
      "25 kinetics changed\n",
      "Changing estimated thermo 87: [CH2]C(=O)COO(911)\n",
      "Changing estimated thermo 90: [O]OCC(=O)COO(928)\n",
      "Changing estimated thermo 99: [CH2]C1CC1(4343)\n",
      "Changing estimated thermo 109: [O]OC1CCOOC1(9510)\n",
      "4 species changed\n",
      "Wrote CTI mechanism file to '/home/moon/autoscience/reaction_calculator/error_vs_num_included/mechs/top_40.cti'.\n",
      "Mechanism contains 110 species and 1850 reactions.\n",
      "Validating mechanism...PASSED.\n",
      "Wrote YAML mechanism file to '/home/moon/autoscience/reaction_calculator/error_vs_num_included/mechs/top_40.yaml'.\n",
      "Mechanism contains 110 species and 1850 reactions.\n",
      "Validating mechanism...\n",
      "PASSED\n",
      "skipping missing calculation 692\n",
      "compiling top 42\n",
      "48 kinetics entries loaded\n",
      "178 thermo entries loaded\n",
      "changing reaction 324 C4H8OOH2-4O2(229) <=> C4H8OOH1-3O2(225)\n",
      "changing reaction 370 CH3CHO(35) + SC4H9(183) <=> CH2CHO(21) + butane(1)\n",
      "changing reaction 371 CH3CHO(35) + PC4H9(182) <=> CH2CHO(21) + butane(1)\n",
      "changing reaction 585 CH2(23) + C3H6(12) <=> CH3(18) + C3H5-A(94)\n",
      "changing reaction 650 HO2(16) + [CH2]C[CH]C(748) <=> O2(2) + SC4H9(183)\n",
      "changing reaction 655 HO2(16) + [CH2]C[CH]C(748) <=> O2(2) + PC4H9(182)\n",
      "changing reaction 748 HCO(19) + C4H8-2(189) <=> CH2O(9) + C4H71-3(190)\n",
      "changing reaction 749 HCO(19) + C4H8-1(188) <=> CH2O(9) + C4H71-3(190)\n",
      "changing reaction 985 HO2(16) + [CH2]C[O](703) <=> O2(2) + C2H5O(49)\n",
      "changing reaction 1003 HO2(16) + C4H71-4(191) <=> O2(2) + C4H8-1(188)\n",
      "changing reaction 1290 C3KET21(73) + PC4H9(182) <=> [CH2]C(=O)COO(911) + butane(1)\n"
     ]
    },
    {
     "name": "stderr",
     "output_type": "stream",
     "text": [
      "WARNING:root:Marked reaction CH3(18) + C2H3(22) <=> C3H6(12) as duplicate of C3H6(12) <=> CH3(18) + C2H3(22) for saving to Chemkin file.\n"
     ]
    },
    {
     "name": "stdout",
     "output_type": "stream",
     "text": [
      "changing reaction 213 HO2(16) + C2H5(33) <=> H2O2(17) + C2H4(11)\n",
      "changing reaction 419 HO2(16) + CH2CHO(21) <=> H2O2(17) + CH2CO(24)\n",
      "changing reaction 420 HO2(16) + SC4H9(183) <=> H2O2(17) + C4H8-2(189)\n",
      "changing reaction 464 CH3(18) + CH2CHO(21) <=> CH4(10) + CH2CO(24)\n",
      "changing reaction 574 CH3O(31) + C3H5-A(94) <=> CH2O(9) + C3H6(12)\n",
      "changing reaction 581 CH2CHO(21) + C3H5-A(94) <=> CH2CO(24) + C3H6(12)\n",
      "changing reaction 720 CH2CHO(21) + C4H71-3(190) <=> CH2CO(24) + C4H8-2(189)\n",
      "changing reaction 722 CH2CHO(21) + C4H71-3(190) <=> CH2CO(24) + C4H8-1(188)\n",
      "changing reaction 725 CH3O(31) + C4H71-3(190) <=> CH2O(9) + C4H8-2(189)\n",
      "changing reaction 1103 CH3O2(45) + CH2CHO(21) <=> CH3O2H(46) + CH2CO(24)\n",
      "changing reaction 1287 C3KET21(73) + SC4H9(183) <=> CH3COCH2O2(72) + butane(1)\n",
      "changing reaction 1289 C3KET21(73) + SC4H9(183) <=> [CH2]C(=O)COO(911) + butane(1)\n",
      "changing reaction 1658 CH2CHO(21) + C2H5O2(47) <=> CH2CO(24) + C2H5O2H(48)\n",
      "changing reaction 1685 C2H5(33) + C2H5O2(47) <=> C2H4(11) + C2H5O2H(48)\n",
      "changing reaction 1714 C4H8OOH2-4(223) + butane(1) <=> SC4H9(183) + SC4H9O2H(187)\n",
      "26 kinetics changed\n",
      "Changing estimated thermo 87: [CH2]C(=O)COO(911)\n",
      "Changing estimated thermo 90: [O]OCC(=O)COO(928)\n",
      "Changing estimated thermo 99: [CH2]C1CC1(4343)\n",
      "Changing estimated thermo 109: [O]OC1CCOOC1(9510)\n",
      "4 species changed\n",
      "Wrote CTI mechanism file to '/home/moon/autoscience/reaction_calculator/error_vs_num_included/mechs/top_42.cti'.\n",
      "Mechanism contains 110 species and 1850 reactions.\n",
      "Validating mechanism...PASSED.\n",
      "Wrote YAML mechanism file to '/home/moon/autoscience/reaction_calculator/error_vs_num_included/mechs/top_42.yaml'.\n",
      "Mechanism contains 110 species and 1850 reactions.\n",
      "Validating mechanism...\n",
      "PASSED\n",
      "compiling top 43\n",
      "48 kinetics entries loaded\n",
      "178 thermo entries loaded\n",
      "changing reaction 324 C4H8OOH2-4O2(229) <=> C4H8OOH1-3O2(225)\n",
      "changing reaction 370 CH3CHO(35) + SC4H9(183) <=> CH2CHO(21) + butane(1)\n",
      "changing reaction 371 CH3CHO(35) + PC4H9(182) <=> CH2CHO(21) + butane(1)\n",
      "changing reaction 585 CH2(23) + C3H6(12) <=> CH3(18) + C3H5-A(94)\n",
      "changing reaction 650 HO2(16) + [CH2]C[CH]C(748) <=> O2(2) + SC4H9(183)\n",
      "changing reaction 655 HO2(16) + [CH2]C[CH]C(748) <=> O2(2) + PC4H9(182)\n",
      "changing reaction 748 HCO(19) + C4H8-2(189) <=> CH2O(9) + C4H71-3(190)\n",
      "changing reaction 749 HCO(19) + C4H8-1(188) <=> CH2O(9) + C4H71-3(190)\n",
      "changing reaction 985 HO2(16) + [CH2]C[O](703) <=> O2(2) + C2H5O(49)\n",
      "changing reaction 1003 HO2(16) + C4H71-4(191) <=> O2(2) + C4H8-1(188)\n",
      "changing reaction 1290 C3KET21(73) + PC4H9(182) <=> [CH2]C(=O)COO(911) + butane(1)\n",
      "changing reaction 213 HO2(16) + C2H5(33) <=> H2O2(17) + C2H4(11)\n",
      "changing reaction 419 HO2(16) + CH2CHO(21) <=> H2O2(17) + CH2CO(24)\n",
      "changing reaction 420 HO2(16) + SC4H9(183) <=> H2O2(17) + C4H8-2(189)\n",
      "changing reaction 464 CH3(18) + CH2CHO(21) <=> CH4(10) + CH2CO(24)\n",
      "changing reaction 574 CH3O(31) + C3H5-A(94) <=> CH2O(9) + C3H6(12)\n",
      "changing reaction 581 CH2CHO(21) + C3H5-A(94) <=> CH2CO(24) + C3H6(12)\n",
      "changing reaction 720 CH2CHO(21) + C4H71-3(190) <=> CH2CO(24) + C4H8-2(189)\n",
      "changing reaction 722 CH2CHO(21) + C4H71-3(190) <=> CH2CO(24) + C4H8-1(188)\n",
      "changing reaction 725 CH3O(31) + C4H71-3(190) <=> CH2O(9) + C4H8-2(189)\n"
     ]
    },
    {
     "name": "stderr",
     "output_type": "stream",
     "text": [
      "WARNING:root:Marked reaction CH3(18) + C2H3(22) <=> C3H6(12) as duplicate of C3H6(12) <=> CH3(18) + C2H3(22) for saving to Chemkin file.\n"
     ]
    },
    {
     "name": "stdout",
     "output_type": "stream",
     "text": [
      "changing reaction 1103 CH3O2(45) + CH2CHO(21) <=> CH3O2H(46) + CH2CO(24)\n",
      "changing reaction 1287 C3KET21(73) + SC4H9(183) <=> CH3COCH2O2(72) + butane(1)\n",
      "changing reaction 1289 C3KET21(73) + SC4H9(183) <=> [CH2]C(=O)COO(911) + butane(1)\n",
      "changing reaction 1532 CH3O(31) + C3H5O(129) <=> CH3OH(30) + C2H3CHO(74)\n",
      "changing reaction 1658 CH2CHO(21) + C2H5O2(47) <=> CH2CO(24) + C2H5O2H(48)\n",
      "changing reaction 1685 C2H5(33) + C2H5O2(47) <=> C2H4(11) + C2H5O2H(48)\n",
      "changing reaction 1714 C4H8OOH2-4(223) + butane(1) <=> SC4H9(183) + SC4H9O2H(187)\n",
      "27 kinetics changed\n",
      "Changing estimated thermo 87: [CH2]C(=O)COO(911)\n",
      "Changing estimated thermo 90: [O]OCC(=O)COO(928)\n",
      "Changing estimated thermo 99: [CH2]C1CC1(4343)\n",
      "Changing estimated thermo 109: [O]OC1CCOOC1(9510)\n",
      "4 species changed\n",
      "Wrote CTI mechanism file to '/home/moon/autoscience/reaction_calculator/error_vs_num_included/mechs/top_43.cti'.\n",
      "Mechanism contains 110 species and 1850 reactions.\n",
      "Validating mechanism...PASSED.\n",
      "Wrote YAML mechanism file to '/home/moon/autoscience/reaction_calculator/error_vs_num_included/mechs/top_43.yaml'.\n",
      "Mechanism contains 110 species and 1850 reactions.\n",
      "Validating mechanism...\n",
      "PASSED\n",
      "compiling top 44\n",
      "48 kinetics entries loaded\n",
      "178 thermo entries loaded\n",
      "changing reaction 324 C4H8OOH2-4O2(229) <=> C4H8OOH1-3O2(225)\n",
      "changing reaction 370 CH3CHO(35) + SC4H9(183) <=> CH2CHO(21) + butane(1)\n",
      "changing reaction 371 CH3CHO(35) + PC4H9(182) <=> CH2CHO(21) + butane(1)\n",
      "changing reaction 585 CH2(23) + C3H6(12) <=> CH3(18) + C3H5-A(94)\n",
      "changing reaction 650 HO2(16) + [CH2]C[CH]C(748) <=> O2(2) + SC4H9(183)\n",
      "changing reaction 655 HO2(16) + [CH2]C[CH]C(748) <=> O2(2) + PC4H9(182)\n",
      "changing reaction 748 HCO(19) + C4H8-2(189) <=> CH2O(9) + C4H71-3(190)\n",
      "changing reaction 749 HCO(19) + C4H8-1(188) <=> CH2O(9) + C4H71-3(190)\n",
      "changing reaction 985 HO2(16) + [CH2]C[O](703) <=> O2(2) + C2H5O(49)\n",
      "changing reaction 1003 HO2(16) + C4H71-4(191) <=> O2(2) + C4H8-1(188)\n",
      "changing reaction 1290 C3KET21(73) + PC4H9(182) <=> [CH2]C(=O)COO(911) + butane(1)\n",
      "changing reaction 213 HO2(16) + C2H5(33) <=> H2O2(17) + C2H4(11)\n",
      "changing reaction 419 HO2(16) + CH2CHO(21) <=> H2O2(17) + CH2CO(24)\n",
      "changing reaction 420 HO2(16) + SC4H9(183) <=> H2O2(17) + C4H8-2(189)\n",
      "changing reaction 464 CH3(18) + CH2CHO(21) <=> CH4(10) + CH2CO(24)\n",
      "changing reaction 574 CH3O(31) + C3H5-A(94) <=> CH2O(9) + C3H6(12)\n",
      "changing reaction 581 CH2CHO(21) + C3H5-A(94) <=> CH2CO(24) + C3H6(12)\n",
      "changing reaction 720 CH2CHO(21) + C4H71-3(190) <=> CH2CO(24) + C4H8-2(189)\n",
      "changing reaction 722 CH2CHO(21) + C4H71-3(190) <=> CH2CO(24) + C4H8-1(188)\n",
      "changing reaction 725 CH3O(31) + C4H71-3(190) <=> CH2O(9) + C4H8-2(189)\n",
      "changing reaction 1103 CH3O2(45) + CH2CHO(21) <=> CH3O2H(46) + CH2CO(24)\n",
      "changing reaction 1287 C3KET21(73) + SC4H9(183) <=> CH3COCH2O2(72) + butane(1)\n",
      "changing reaction 1289 C3KET21(73) + SC4H9(183) <=> [CH2]C(=O)COO(911) + butane(1)\n",
      "changing reaction 1326 CH2CHO(21) + CH3COCH2O2(72) <=> CH2CO(24) + C3KET21(73)\n",
      "changing reaction 1532 CH3O(31) + C3H5O(129) <=> CH3OH(30) + C2H3CHO(74)\n",
      "changing reaction 1658 CH2CHO(21) + C2H5O2(47) <=> CH2CO(24) + C2H5O2H(48)\n",
      "changing reaction 1685 C2H5(33) + C2H5O2(47) <=> C2H4(11) + C2H5O2H(48)\n",
      "changing reaction 1714 C4H8OOH2-4(223) + butane(1) <=> SC4H9(183) + SC4H9O2H(187)\n",
      "28 kinetics changed\n",
      "Changing estimated thermo 87: [CH2]C(=O)COO(911)\n",
      "Changing estimated thermo 90: [O]OCC(=O)COO(928)\n",
      "Changing estimated thermo 99: [CH2]C1CC1(4343)\n",
      "Changing estimated thermo 109: [O]OC1CCOOC1(9510)\n",
      "4 species changed\n"
     ]
    },
    {
     "name": "stderr",
     "output_type": "stream",
     "text": [
      "WARNING:root:Marked reaction CH3(18) + C2H3(22) <=> C3H6(12) as duplicate of C3H6(12) <=> CH3(18) + C2H3(22) for saving to Chemkin file.\n"
     ]
    },
    {
     "name": "stdout",
     "output_type": "stream",
     "text": [
      "Wrote CTI mechanism file to '/home/moon/autoscience/reaction_calculator/error_vs_num_included/mechs/top_44.cti'.\n",
      "Mechanism contains 110 species and 1850 reactions.\n",
      "Validating mechanism...PASSED.\n",
      "Wrote YAML mechanism file to '/home/moon/autoscience/reaction_calculator/error_vs_num_included/mechs/top_44.yaml'.\n",
      "Mechanism contains 110 species and 1850 reactions.\n",
      "Validating mechanism...\n",
      "PASSED\n",
      "skipping missing calculation 1428\n",
      "compiling top 46\n",
      "48 kinetics entries loaded\n",
      "178 thermo entries loaded\n",
      "changing reaction 324 C4H8OOH2-4O2(229) <=> C4H8OOH1-3O2(225)\n",
      "changing reaction 370 CH3CHO(35) + SC4H9(183) <=> CH2CHO(21) + butane(1)\n",
      "changing reaction 371 CH3CHO(35) + PC4H9(182) <=> CH2CHO(21) + butane(1)\n",
      "changing reaction 585 CH2(23) + C3H6(12) <=> CH3(18) + C3H5-A(94)\n",
      "changing reaction 650 HO2(16) + [CH2]C[CH]C(748) <=> O2(2) + SC4H9(183)\n",
      "changing reaction 655 HO2(16) + [CH2]C[CH]C(748) <=> O2(2) + PC4H9(182)\n",
      "changing reaction 748 HCO(19) + C4H8-2(189) <=> CH2O(9) + C4H71-3(190)\n",
      "changing reaction 749 HCO(19) + C4H8-1(188) <=> CH2O(9) + C4H71-3(190)\n",
      "changing reaction 985 HO2(16) + [CH2]C[O](703) <=> O2(2) + C2H5O(49)\n",
      "changing reaction 1003 HO2(16) + C4H71-4(191) <=> O2(2) + C4H8-1(188)\n",
      "changing reaction 1290 C3KET21(73) + PC4H9(182) <=> [CH2]C(=O)COO(911) + butane(1)\n"
     ]
    },
    {
     "name": "stderr",
     "output_type": "stream",
     "text": [
      "WARNING:root:Marked reaction CH3(18) + C2H3(22) <=> C3H6(12) as duplicate of C3H6(12) <=> CH3(18) + C2H3(22) for saving to Chemkin file.\n"
     ]
    },
    {
     "name": "stdout",
     "output_type": "stream",
     "text": [
      "changing reaction 213 HO2(16) + C2H5(33) <=> H2O2(17) + C2H4(11)\n",
      "changing reaction 419 HO2(16) + CH2CHO(21) <=> H2O2(17) + CH2CO(24)\n",
      "changing reaction 420 HO2(16) + SC4H9(183) <=> H2O2(17) + C4H8-2(189)\n",
      "changing reaction 464 CH3(18) + CH2CHO(21) <=> CH4(10) + CH2CO(24)\n",
      "changing reaction 574 CH3O(31) + C3H5-A(94) <=> CH2O(9) + C3H6(12)\n",
      "changing reaction 581 CH2CHO(21) + C3H5-A(94) <=> CH2CO(24) + C3H6(12)\n",
      "changing reaction 720 CH2CHO(21) + C4H71-3(190) <=> CH2CO(24) + C4H8-2(189)\n",
      "changing reaction 722 CH2CHO(21) + C4H71-3(190) <=> CH2CO(24) + C4H8-1(188)\n",
      "changing reaction 725 CH3O(31) + C4H71-3(190) <=> CH2O(9) + C4H8-2(189)\n",
      "changing reaction 1103 CH3O2(45) + CH2CHO(21) <=> CH3O2H(46) + CH2CO(24)\n",
      "changing reaction 1287 C3KET21(73) + SC4H9(183) <=> CH3COCH2O2(72) + butane(1)\n",
      "changing reaction 1289 C3KET21(73) + SC4H9(183) <=> [CH2]C(=O)COO(911) + butane(1)\n",
      "changing reaction 1326 CH2CHO(21) + CH3COCH2O2(72) <=> CH2CO(24) + C3KET21(73)\n",
      "changing reaction 1532 CH3O(31) + C3H5O(129) <=> CH3OH(30) + C2H3CHO(74)\n",
      "changing reaction 1578 OCHO(38) + [CH2]C[O](703) <=> HOCHO(40) + CH2CHO(21)\n",
      "changing reaction 1658 CH2CHO(21) + C2H5O2(47) <=> CH2CO(24) + C2H5O2H(48)\n",
      "changing reaction 1685 C2H5(33) + C2H5O2(47) <=> C2H4(11) + C2H5O2H(48)\n",
      "changing reaction 1714 C4H8OOH2-4(223) + butane(1) <=> SC4H9(183) + SC4H9O2H(187)\n",
      "29 kinetics changed\n",
      "Changing estimated thermo 87: [CH2]C(=O)COO(911)\n",
      "Changing estimated thermo 90: [O]OCC(=O)COO(928)\n",
      "Changing estimated thermo 99: [CH2]C1CC1(4343)\n",
      "Changing estimated thermo 109: [O]OC1CCOOC1(9510)\n",
      "4 species changed\n",
      "Wrote CTI mechanism file to '/home/moon/autoscience/reaction_calculator/error_vs_num_included/mechs/top_46.cti'.\n",
      "Mechanism contains 110 species and 1850 reactions.\n",
      "Validating mechanism...PASSED.\n",
      "Wrote YAML mechanism file to '/home/moon/autoscience/reaction_calculator/error_vs_num_included/mechs/top_46.yaml'.\n",
      "Mechanism contains 110 species and 1850 reactions.\n",
      "Validating mechanism...\n",
      "PASSED\n",
      "skipping missing calculation 595\n",
      "skipping missing calculation 693\n",
      "skipping missing calculation 1242\n",
      "compiling top 50\n",
      "48 kinetics entries loaded\n",
      "178 thermo entries loaded\n",
      "changing reaction 324 C4H8OOH2-4O2(229) <=> C4H8OOH1-3O2(225)\n",
      "changing reaction 370 CH3CHO(35) + SC4H9(183) <=> CH2CHO(21) + butane(1)\n",
      "changing reaction 371 CH3CHO(35) + PC4H9(182) <=> CH2CHO(21) + butane(1)\n",
      "changing reaction 585 CH2(23) + C3H6(12) <=> CH3(18) + C3H5-A(94)\n",
      "changing reaction 650 HO2(16) + [CH2]C[CH]C(748) <=> O2(2) + SC4H9(183)\n",
      "changing reaction 655 HO2(16) + [CH2]C[CH]C(748) <=> O2(2) + PC4H9(182)\n",
      "changing reaction 748 HCO(19) + C4H8-2(189) <=> CH2O(9) + C4H71-3(190)\n",
      "changing reaction 749 HCO(19) + C4H8-1(188) <=> CH2O(9) + C4H71-3(190)\n",
      "changing reaction 985 HO2(16) + [CH2]C[O](703) <=> O2(2) + C2H5O(49)\n",
      "changing reaction 1003 HO2(16) + C4H71-4(191) <=> O2(2) + C4H8-1(188)\n",
      "changing reaction 1290 C3KET21(73) + PC4H9(182) <=> [CH2]C(=O)COO(911) + butane(1)\n"
     ]
    },
    {
     "name": "stderr",
     "output_type": "stream",
     "text": [
      "WARNING:root:Marked reaction CH3(18) + C2H3(22) <=> C3H6(12) as duplicate of C3H6(12) <=> CH3(18) + C2H3(22) for saving to Chemkin file.\n"
     ]
    },
    {
     "name": "stdout",
     "output_type": "stream",
     "text": [
      "changing reaction 213 HO2(16) + C2H5(33) <=> H2O2(17) + C2H4(11)\n",
      "changing reaction 419 HO2(16) + CH2CHO(21) <=> H2O2(17) + CH2CO(24)\n",
      "changing reaction 420 HO2(16) + SC4H9(183) <=> H2O2(17) + C4H8-2(189)\n",
      "changing reaction 464 CH3(18) + CH2CHO(21) <=> CH4(10) + CH2CO(24)\n",
      "changing reaction 574 CH3O(31) + C3H5-A(94) <=> CH2O(9) + C3H6(12)\n",
      "changing reaction 581 CH2CHO(21) + C3H5-A(94) <=> CH2CO(24) + C3H6(12)\n",
      "changing reaction 720 CH2CHO(21) + C4H71-3(190) <=> CH2CO(24) + C4H8-2(189)\n",
      "changing reaction 722 CH2CHO(21) + C4H71-3(190) <=> CH2CO(24) + C4H8-1(188)\n",
      "changing reaction 725 CH3O(31) + C4H71-3(190) <=> CH2O(9) + C4H8-2(189)\n",
      "changing reaction 916 OH(15) + CC(CC[O])OO(777) <=> H2O(8) + NC4KET13(252)\n",
      "changing reaction 1103 CH3O2(45) + CH2CHO(21) <=> CH3O2H(46) + CH2CO(24)\n",
      "changing reaction 1287 C3KET21(73) + SC4H9(183) <=> CH3COCH2O2(72) + butane(1)\n",
      "changing reaction 1289 C3KET21(73) + SC4H9(183) <=> [CH2]C(=O)COO(911) + butane(1)\n",
      "changing reaction 1326 CH2CHO(21) + CH3COCH2O2(72) <=> CH2CO(24) + C3KET21(73)\n",
      "changing reaction 1532 CH3O(31) + C3H5O(129) <=> CH3OH(30) + C2H3CHO(74)\n",
      "changing reaction 1578 OCHO(38) + [CH2]C[O](703) <=> HOCHO(40) + CH2CHO(21)\n",
      "changing reaction 1658 CH2CHO(21) + C2H5O2(47) <=> CH2CO(24) + C2H5O2H(48)\n",
      "changing reaction 1685 C2H5(33) + C2H5O2(47) <=> C2H4(11) + C2H5O2H(48)\n",
      "changing reaction 1714 C4H8OOH2-4(223) + butane(1) <=> SC4H9(183) + SC4H9O2H(187)\n",
      "30 kinetics changed\n",
      "Changing estimated thermo 87: [CH2]C(=O)COO(911)\n",
      "Changing estimated thermo 90: [O]OCC(=O)COO(928)\n",
      "Changing estimated thermo 99: [CH2]C1CC1(4343)\n",
      "Changing estimated thermo 109: [O]OC1CCOOC1(9510)\n",
      "4 species changed\n",
      "Wrote CTI mechanism file to '/home/moon/autoscience/reaction_calculator/error_vs_num_included/mechs/top_50.cti'.\n",
      "Mechanism contains 110 species and 1850 reactions.\n",
      "Validating mechanism...PASSED.\n",
      "Wrote YAML mechanism file to '/home/moon/autoscience/reaction_calculator/error_vs_num_included/mechs/top_50.yaml'.\n",
      "Mechanism contains 110 species and 1850 reactions.\n",
      "Validating mechanism...\n",
      "PASSED\n"
     ]
    }
   ],
   "source": [
    "save_dir = '/home/moon/autoscience/reaction_calculator/error_vs_num_included/mechs'\n",
    "for e in range(0, 51):    \n",
    "    \n",
    "    rmg_index = total_improvement_score_order[e]\n",
    "    if rmg_index > 110:\n",
    "        rmg_index -= 110\n",
    "    if rmg_index in skipped_calcs:\n",
    "        print('skipping missing calculation', rmg_index)\n",
    "        continue\n",
    "    \n",
    "    print('compiling top', e)\n",
    "    # load the base mechanism\n",
    "    basedir = '/home/moon/autoscience/autoscience/butane/models/rmg_model'\n",
    "    base_chemkin = os.path.join(basedir, 'chem_annotated.inp')\n",
    "    dictionary = os.path.join(basedir, 'species_dictionary.txt')\n",
    "    transport = os.path.join(basedir, 'tran.dat')\n",
    "    species_list, reaction_list = rmgpy.chemkin.load_chemkin_file(base_chemkin, dictionary_path=dictionary, transport_path=transport)\n",
    "\n",
    "    # Load the new kinetics library\n",
    "#     DFT_DIR = \"/work/westgroup/harris.se/autoscience/autoscience/butane/dft/\"\n",
    "#     DFT_DIR = \"/home/moon/autoscience/autoscience/butane/dft/\"\n",
    "    DFT_DIR = \"/home/moon/autoscience/reaction_calculator/dft/\"\n",
    "    kinetics_lib = os.path.join(DFT_DIR, 'kinetics', 'kinetics')\n",
    "    ark_kinetics_database = rmgpy.data.kinetics.KineticsDatabase()\n",
    "    ark_kinetics_database.load_libraries(kinetics_lib)\n",
    "    print(f'{len(ark_kinetics_database.libraries[\"\"].entries)} kinetics entries loaded')\n",
    "    \n",
    "    # Load the new thermo library\n",
    "#     thermo_lib = os.path.join(DFT_DIR, 'thermo', 'thermo')\n",
    "    thermo_lib = os.path.join(\"/home/moon/autoscience/autoscience/butane/dft/\", 'thermo', 'thermo')\n",
    "    ark_thermo_database = rmgpy.data.thermo.ThermoDatabase()\n",
    "    ark_thermo_database.load_libraries(thermo_lib)\n",
    "    print(f'{len(ark_thermo_database.libraries[\"harris_butane\"].entries)} thermo entries loaded')\n",
    "    \n",
    "\n",
    "    species_change_list = []\n",
    "    reaction_change_list = []\n",
    "    for f in range(0, e):\n",
    "        index = total_improvement_score_order[f]\n",
    "        if index < len(species_list):\n",
    "            species_change_list.append(index)\n",
    "        else:\n",
    "            reaction_change_list.append(index - len(species_list))\n",
    "    \n",
    "    # change relevant kinetics\n",
    "    total_changed = 0\n",
    "    for key in ark_kinetics_database.libraries[''].entries.keys():\n",
    "        entry = ark_kinetics_database.libraries[''].entries[key]\n",
    "        index = entry.index\n",
    "        for i in range(0, len(reaction_list)):\n",
    "            if entry.item.is_isomorphic(reaction_list[i]):\n",
    "                rmg_rxn_index = i\n",
    "                break\n",
    "        else:  \n",
    "            print(f'could not match reaction index {index}')\n",
    "            continue\n",
    "\n",
    "        if rmg_rxn_index in reaction_change_list:\n",
    "            print(f'changing reaction {rmg_rxn_index} {reaction_list[rmg_rxn_index]}')\n",
    "            reaction_list[rmg_rxn_index].kinetics = entry.data\n",
    "            total_changed += 1\n",
    "    print(total_changed, 'kinetics changed')\n",
    "    \n",
    "    \n",
    "    # change the relevant thermo\n",
    "    sp_changed = 0\n",
    "    for key in ark_thermo_database.libraries['harris_butane'].entries.keys():\n",
    "        entry = ark_thermo_database.libraries['harris_butane'].entries[key]\n",
    "\n",
    "        for i, species in enumerate(species_list):\n",
    "            if entry.item.smiles == species.smiles:\n",
    "                rmg_species_index = i\n",
    "                break\n",
    "        else:\n",
    "            entry_sp = rmgpy.species.Species(smiles=entry.item.smiles)\n",
    "            for j, species in enumerate(species_list):\n",
    "                if entry_sp.is_isomorphic(species.molecule[0]):\n",
    "                    rmg_species_index = i\n",
    "                    'matched'\n",
    "                    break\n",
    "            else:\n",
    "                continue\n",
    "                raise ValueError (f'could not match species index {entry}')\n",
    "\n",
    "        if rmg_species_index in species_change_list:\n",
    "            print(f'Changing estimated thermo {rmg_species_index}: {species_list[rmg_species_index]}')\n",
    "            species_list[rmg_species_index].thermo = entry.data\n",
    "\n",
    "            sp_changed += 1\n",
    "    \n",
    "    print(sp_changed, 'species changed')\n",
    "    \n",
    "    # export the mechanism\n",
    "    chemkin_file = os.path.join(save_dir, f'top_{e}.inp')\n",
    "    rmgpy.chemkin.save_chemkin_file(chemkin_file, species_list, reaction_list, verbose=True, check_for_duplicates=True)\n",
    "    subprocess.run(['ck2cti', f'--input={chemkin_file}', f'--transport={transport}', f'--output={chemkin_file[:-4]}.cti'])\n",
    "    subprocess.run(['ck2yaml', f'--input={chemkin_file}', f'--transport={transport}', f'--output={chemkin_file[:-4]}.yaml'])"
   ]
  },
  {
   "cell_type": "code",
   "execution_count": null,
   "id": "719a5adc",
   "metadata": {},
   "outputs": [],
   "source": []
  }
 ],
 "metadata": {
  "kernelspec": {
   "display_name": "Python 3 (ipykernel)",
   "language": "python",
   "name": "python3"
  },
  "language_info": {
   "codemirror_mode": {
    "name": "ipython",
    "version": 3
   },
   "file_extension": ".py",
   "mimetype": "text/x-python",
   "name": "python",
   "nbconvert_exporter": "python",
   "pygments_lexer": "ipython3",
   "version": "3.7.12"
  }
 },
 "nbformat": 4,
 "nbformat_minor": 5
}

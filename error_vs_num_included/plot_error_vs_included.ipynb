{
 "cells": [
  {
   "cell_type": "code",
   "execution_count": 1,
   "id": "8b23e8f6",
   "metadata": {},
   "outputs": [],
   "source": [
    "# script to plot the error in ignition delay for table 7 vs. number of parameters replaced"
   ]
  },
  {
   "cell_type": "code",
   "execution_count": 1,
   "id": "82eea176",
   "metadata": {},
   "outputs": [],
   "source": [
    "import os\n",
    "import pandas as pd\n",
    "import numpy as np\n",
    "import cantera as ct\n",
    "\n",
    "import matplotlib.pyplot as plt\n",
    "%matplotlib inline"
   ]
  },
  {
   "cell_type": "code",
   "execution_count": 2,
   "id": "fc1b31ca",
   "metadata": {},
   "outputs": [],
   "source": [
    "# Load the experimental conditions\n",
    "ignition_delay_data = '/work/westgroup/harris.se/autoscience/autoscience/butane/experimental_data/butane_ignition_delay.csv'\n",
    "ignition_delay_data = '/home/moon/autoscience/autoscience/butane/experimental_data/butane_ignition_delay.csv'\n",
    "df_exp = pd.read_csv(ignition_delay_data)\n",
    "\n",
    "# slice just table 7, where phi=1.0\n",
    "table7 = df_exp[df_exp['Table'] == 7]\n",
    "# Define Initial conditions using experimental data\n",
    "tau7 = table7['time (ms)'].values.astype(float)  # ignition delay\n",
    "T7 = table7['T_C'].values  # Temperatures\n",
    "P7 = table7['nominal pressure(atm)'].values * ct.one_atm  # pressures in atm\n",
    "\n",
    "\n",
    "# list of starting conditions\n",
    "# Mixture compositions taken from table 2 of\n",
    "# https://doi-org.ezproxy.neu.edu/10.1016/j.combustflame.2010.01.016\n",
    "concentrations = []\n",
    "# for phi = 1\n",
    "x_diluent = 0.7649\n",
    "conc_dict = {\n",
    "    'O2(2)': 0.2038,\n",
    "    'butane(1)': 0.03135\n",
    "}\n",
    "\n",
    "for i in range(0, len(table7)):\n",
    "    x_N2 = table7['%N2'].values[i] / 100.0 * x_diluent\n",
    "    x_Ar = table7['%Ar'].values[i] / 100.0 * x_diluent\n",
    "    x_CO2 = table7['%CO2'].values[i] / 100.0 * x_diluent\n",
    "    conc_dict['N2'] = x_N2\n",
    "    conc_dict['Ar'] = x_Ar\n",
    "    conc_dict['CO2(7)'] = x_CO2\n",
    "    concentrations.append(conc_dict)\n"
   ]
  },
  {
   "cell_type": "code",
   "execution_count": 3,
   "id": "a5e2322b",
   "metadata": {},
   "outputs": [],
   "source": [
    "results_dir = '/home/moon/autoscience/autoscience/paper/error_vs_num_included/results'\n",
    "results_dir = '/home/moon/autoscience/reaction_calculator/error_vs_num_included/results'\n"
   ]
  },
  {
   "cell_type": "code",
   "execution_count": null,
   "id": "8a402a02",
   "metadata": {},
   "outputs": [],
   "source": []
  },
  {
   "cell_type": "code",
   "execution_count": 4,
   "id": "2a07376d",
   "metadata": {},
   "outputs": [
    {
     "data": {
      "text/plain": [
       "array([86.5 , 73.9 , 31.3 , 33.  , 30.9 , 30.  , 56.  , 56.6 , 67.9 ,\n",
       "       66.4 , 65.2 , 67.1 , 47.  , 27.9 , 28.05, 12.  ])"
      ]
     },
     "execution_count": 4,
     "metadata": {},
     "output_type": "execute_result"
    }
   ],
   "source": [
    "tau7"
   ]
  },
  {
   "cell_type": "code",
   "execution_count": 5,
   "id": "f625e186",
   "metadata": {},
   "outputs": [],
   "source": [
    "def calculate_error(delays):\n",
    "    return np.sum(np.float_power(delays - (tau7 / 1000), 2.0))\n"
   ]
  },
  {
   "cell_type": "code",
   "execution_count": 9,
   "id": "8a7df418",
   "metadata": {},
   "outputs": [],
   "source": [
    "N = 51\n",
    "\n",
    "missing_indices = []\n",
    "\n",
    "# figure out if a new parameter was actually replaced in that version\n",
    "error = np.zeros(N)\n",
    "indices = np.arange(0, N)\n",
    "for i in range(0, N):\n",
    "    delay_file = os.path.join(results_dir, f'delays_{i}.npy')\n",
    "    if not os.path.exists(delay_file):\n",
    "        error[i] = error[i - 1]\n",
    "        missing_indices.append(i)\n",
    "        continue\n",
    "    delays = np.load(delay_file)\n",
    "    error[i] = calculate_error(delays)"
   ]
  },
  {
   "cell_type": "code",
   "execution_count": 14,
   "id": "90fea150",
   "metadata": {},
   "outputs": [
    {
     "data": {
      "text/plain": [
       "Text(0, 0.5, 'Sum of Squared Error')"
      ]
     },
     "execution_count": 14,
     "metadata": {},
     "output_type": "execute_result"
    },
    {
     "data": {
      "image/png": "[encoded data removed]",
      "text/plain": [
       "<Figure size 432x288 with 1 Axes>"
      ]
     },
     "metadata": {
      "needs_background": "light"
     },
     "output_type": "display_data"
    }
   ],
   "source": [
    "plt.scatter(indices, error)\n",
    "\n",
    "incomplete = [15, 32, 36, 38, 43]\n",
    "# for index in incomplete:\n",
    "for index in missing_indices:\n",
    "    plt.scatter(index, error[index], marker='x', color='red')\n",
    "plt.title('Ignition Delay Error vs. Parameters Replaced')\n",
    "plt.xlabel('Parameters Recalculated')\n",
    "plt.ylabel('Sum of Squared Error')"
   ]
  },
  {
   "cell_type": "code",
   "execution_count": null,
   "id": "5a38428b",
   "metadata": {},
   "outputs": [],
   "source": [
    "# 1, 4, 9, 32\n",
    "# 1 is species 87\n",
    "# 4 is reaction 324\n",
    "# 9 is reaction 1288\n",
    "# 32 is reaction 1714"
   ]
  },
  {
   "cell_type": "code",
   "execution_count": 14,
   "id": "d250ae1f",
   "metadata": {},
   "outputs": [
    {
     "name": "stdout",
     "output_type": "stream",
     "text": [
      "1 \t-0.009986\n",
      "2 \t0.000060\n",
      "3 \t-0.000039\n",
      "4 \t-0.004606\n",
      "5 \t0.000010\n",
      "6 \t-0.000023\n",
      "7 \t0.000404\n",
      "8 \t-0.000214\n",
      "9 \t-0.003256\n",
      "10 \t-0.000006\n",
      "11 \t-0.000000\n",
      "12 \t0.000005\n",
      "13 \t-0.000024\n",
      "14 \t0.000004\n",
      "15 \t-0.000002\n",
      "16 \t0.000001\n",
      "17 \t0.000000\n",
      "18 \t-0.000199\n",
      "19 \t0.000000\n",
      "20 \t0.000000\n",
      "21 \t0.000000\n",
      "22 \t0.000000\n",
      "23 \t-0.000000\n",
      "24 \t-0.000000\n",
      "25 \t0.000002\n",
      "26 \t0.000003\n",
      "27 \t0.000001\n",
      "28 \t-0.000501\n",
      "29 \t0.000028\n",
      "30 \t0.000012\n",
      "31 \t0.000000\n",
      "32 \t-0.005325\n",
      "33 \t0.000000\n",
      "34 \t0.000000\n",
      "35 \t0.000000\n",
      "36 \t-0.000000\n",
      "37 \t-0.000000\n",
      "38 \t0.000000\n",
      "39 \t-0.000000\n",
      "40 \t0.000000\n",
      "41 \t-0.000000\n",
      "42 \t0.000000\n",
      "43 \t-0.000006\n",
      "44 \t-0.000000\n",
      "45 \t0.000000\n",
      "46 \t-0.000000\n",
      "47 \t0.000000\n",
      "48 \t-0.000000\n",
      "49 \t-0.000000\n",
      "50 \t0.000000\n"
     ]
    }
   ],
   "source": [
    "# print the change upon adding a new one\n",
    "for i in range(1, N):\n",
    "    print(i,'\\t{:f}'.format(error[i] - error[i - 1]))\n"
   ]
  },
  {
   "cell_type": "code",
   "execution_count": null,
   "id": "863d92f5",
   "metadata": {},
   "outputs": [],
   "source": []
  },
  {
   "cell_type": "code",
   "execution_count": null,
   "id": "c29ddddb",
   "metadata": {},
   "outputs": [],
   "source": [
    "error[3]"
   ]
  },
  {
   "cell_type": "code",
   "execution_count": null,
   "id": "32ba7724",
   "metadata": {},
   "outputs": [],
   "source": []
  },
  {
   "cell_type": "code",
   "execution_count": 34,
   "id": "9ae6e23a",
   "metadata": {},
   "outputs": [
    {
     "data": {
      "text/plain": [
       "0.0028620900548737174"
      ]
     },
     "execution_count": 34,
     "metadata": {},
     "output_type": "execute_result"
    }
   ],
   "source": [
    "error[32]"
   ]
  },
  {
   "cell_type": "code",
   "execution_count": 35,
   "id": "b526e893",
   "metadata": {},
   "outputs": [
    {
     "data": {
      "text/plain": [
       "0.008187065368145396"
      ]
     },
     "execution_count": 35,
     "metadata": {},
     "output_type": "execute_result"
    }
   ],
   "source": [
    "error[31]"
   ]
  },
  {
   "cell_type": "code",
   "execution_count": 38,
   "id": "7eb305de",
   "metadata": {},
   "outputs": [
    {
     "data": {
      "text/plain": [
       "0.026513336889486067"
      ]
     },
     "execution_count": 38,
     "metadata": {},
     "output_type": "execute_result"
    }
   ],
   "source": [
    "error[0]"
   ]
  },
  {
   "cell_type": "code",
   "execution_count": null,
   "id": "8f72d69f",
   "metadata": {},
   "outputs": [],
   "source": []
  }
 ],
 "metadata": {
  "kernelspec": {
   "display_name": "Python 3 (ipykernel)",
   "language": "python",
   "name": "python3"
  },
  "language_info": {
   "codemirror_mode": {
    "name": "ipython",
    "version": 3
   },
   "file_extension": ".py",
   "mimetype": "text/x-python",
   "name": "python",
   "nbconvert_exporter": "python",
   "pygments_lexer": "ipython3",
   "version": "3.7.12"
  }
 },
 "nbformat": 4,
 "nbformat_minor": 5
}

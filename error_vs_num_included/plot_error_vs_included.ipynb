{
 "cells": [
  {
   "cell_type": "code",
   "execution_count": 1,
   "id": "8b23e8f6",
   "metadata": {},
   "outputs": [],
   "source": [
    "# script to plot the error in ignition delay for table 7 vs. number of parameters replaced"
   ]
  },
  {
   "cell_type": "code",
   "execution_count": 1,
   "id": "82eea176",
   "metadata": {},
   "outputs": [],
   "source": [
    "import os\n",
    "import pandas as pd\n",
    "import numpy as np\n",
    "import cantera as ct\n",
    "\n",
    "import matplotlib.pyplot as plt\n",
    "%matplotlib inline"
   ]
  },
  {
   "cell_type": "code",
   "execution_count": 2,
   "id": "fcbac756",
   "metadata": {},
   "outputs": [],
   "source": [
    "# Load the experimental conditions\n",
    "ignition_delay_data = '/work/westgroup/harris.se/autoscience/autoscience/butane/experimental_data/butane_ignition_delay.csv'\n",
    "# ignition_delay_data = '/home/moon/autoscience/autoscience/butane/experimental_data/butane_ignition_delay.csv'\n",
    "df_exp = pd.read_csv(ignition_delay_data)\n",
    "table_exp = df_exp[df_exp['Table'] < 13]\n",
    "# Define Initial conditions using experimental data\n",
    "tau_exp = table_exp['time (ms)'].values.astype(float)  # ignition delay\n",
    "tau_exp[tau_exp == 0] = np.nan\n",
    "T7 = table_exp['T_C'].values  # Temperatures\n",
    "P7 = table_exp['nominal pressure(atm)'].values * ct.one_atm  # pressures in atm\n",
    "phi7 = table_exp['phi'].values  # equivalence ratios\n",
    "# list of starting conditions\n",
    "# Mixture compositions taken from table 2 of\n",
    "# https://doi-org.ezproxy.neu.edu/10.1016/j.combustflame.2010.01.016\n",
    "concentrations = []\n",
    "for i in range(0, len(phi7)):\n",
    "    if phi7[i] == 0.3:\n",
    "        x_diluent = 0.7821\n",
    "        conc_dict = {\n",
    "            'O2(2)': 0.2083,\n",
    "            'butane(1)': 0.00962\n",
    "        }\n",
    "    elif phi7[i] == 0.5:\n",
    "        x_diluent = 0.7771\n",
    "        conc_dict = {\n",
    "            'O2(2)': 0.2070,\n",
    "            'butane(1)': 0.01595\n",
    "        }\n",
    "    elif phi7[i] == 1.0:\n",
    "        x_diluent = 0.7649\n",
    "        conc_dict = {\n",
    "            'O2(2)': 0.2038,\n",
    "            'butane(1)': 0.03135\n",
    "        }\n",
    "    elif phi7[i] == 2.0:\n",
    "        x_diluent = 0.7416\n",
    "        conc_dict = {\n",
    "            'O2(2)': 0.1976,\n",
    "            'butane(1)': 0.06079\n",
    "        }\n",
    "    else:\n",
    "        raise ValueError\n",
    "    \n",
    "    x_N2 = table_exp['%N2'].values[i] / 100.0 * x_diluent\n",
    "    x_Ar = table_exp['%Ar'].values[i] / 100.0 * x_diluent\n",
    "    x_CO2 = table_exp['%CO2'].values[i] / 100.0 * x_diluent\n",
    "    conc_dict['N2'] = x_N2\n",
    "    conc_dict['Ar'] = x_Ar\n",
    "    conc_dict['CO2(7)'] = x_CO2\n",
    "\n",
    "    concentrations.append(conc_dict)\n",
    "assert len(T7) == len(concentrations)"
   ]
  },
  {
   "cell_type": "code",
   "execution_count": 3,
   "id": "829a7205",
   "metadata": {},
   "outputs": [],
   "source": [
    "def calc_avg_log_squared_error(mech_delays):\n",
    "    return np.nanmean(np.float_power(np.log10(mech_delays) - np.log10(tau_exp / 1000.0), 2.0))"
   ]
  },
  {
   "cell_type": "code",
   "execution_count": 58,
   "id": "1b0dcc19",
   "metadata": {},
   "outputs": [],
   "source": [
    "official_missing_indices = [1, 3, 12, 13, 15, 16, 17, 24, 25, 26, 27, 29, 38, 40, 42, 44, 48]\n",
    "# indices = [0]\n",
    "\n",
    "indices = list(set(np.arange(0, 51)) - set(official_missing_indices))\n",
    "errors = np.zeros(51)\n",
    "# missing_indices = []\n",
    "\n",
    "\n",
    "\n",
    "errors[0] = calc_avg_log_squared_error(np.load(f'rmg_improved_delays_0000.npy'))\n",
    "\n",
    "for i in range(1, 51):\n",
    "    delay_data = np.load(f'rmg_improved_delays_{i:04}.npy')\n",
    "    errors[i] = calc_avg_log_squared_error(delay_data)\n",
    "#     if errors[i] == errors[i - 1]:\n",
    "#     if np.isclose(errors[i], errors[i - 1], rtol=1e-6):\n",
    "#     if i in m\n",
    "#         missing_indices.append(i)\n",
    "#     else:\n",
    "#         indices.append(i)\n",
    "    "
   ]
  },
  {
   "cell_type": "code",
   "execution_count": 60,
   "id": "ac8a9f78",
   "metadata": {},
   "outputs": [
    {
     "data": {
      "text/plain": [
       "Text(0, 0.5, 'Average $log_{10}(\\\\tau_{ign})$ Squared Error')"
      ]
     },
     "execution_count": 60,
     "metadata": {},
     "output_type": "execute_result"
    },
    {
     "data": {
      "image/png": "[encoded data removed]",
      "text/plain": [
       "<Figure size 432x288 with 1 Axes>"
      ]
     },
     "metadata": {
      "needs_background": "light"
     },
     "output_type": "display_data"
    }
   ],
   "source": [
    "plt.scatter(indices, errors[indices], marker='o')\n",
    "\n",
    "plt.scatter(official_missing_indices, errors[official_missing_indices], marker='x', color='red')\n",
    "plt.title('Ignition Delay Error vs. Parameters Calculated')\n",
    "plt.xlabel('Parameters Recalculated')\n",
    "plt.ylabel(r'Average $log_{10}(\\tau_{ign})$ Squared Error')"
   ]
  },
  {
   "cell_type": "code",
   "execution_count": 61,
   "id": "6aa9f308",
   "metadata": {},
   "outputs": [
    {
     "data": {
      "text/plain": [
       "17"
      ]
     },
     "execution_count": 61,
     "metadata": {},
     "output_type": "execute_result"
    }
   ],
   "source": [
    "len(official_missing_indices)"
   ]
  },
  {
   "cell_type": "code",
   "execution_count": 56,
   "id": "84482be6",
   "metadata": {},
   "outputs": [
    {
     "data": {
      "text/plain": [
       "[1, 3, 12, 13, 15, 16, 17, 24, 25, 26, 27, 30, 31, 38, 40, 42, 44, 48]"
      ]
     },
     "execution_count": 56,
     "metadata": {},
     "output_type": "execute_result"
    }
   ],
   "source": [
    "missing_indices"
   ]
  },
  {
   "cell_type": "code",
   "execution_count": 57,
   "id": "93c75301",
   "metadata": {},
   "outputs": [],
   "source": []
  },
  {
   "cell_type": "code",
   "execution_count": null,
   "id": "6bd8bbee",
   "metadata": {},
   "outputs": [],
   "source": []
  },
  {
   "cell_type": "code",
   "execution_count": null,
   "id": "602b4865",
   "metadata": {},
   "outputs": [],
   "source": []
  },
  {
   "cell_type": "code",
   "execution_count": null,
   "id": "fc1b31ca",
   "metadata": {},
   "outputs": [],
   "source": [
    "# Load the experimental conditions\n",
    "ignition_delay_data = '/work/westgroup/harris.se/autoscience/autoscience/butane/experimental_data/butane_ignition_delay.csv'\n",
    "ignition_delay_data = '/home/moon/autoscience/autoscience/butane/experimental_data/butane_ignition_delay.csv'\n",
    "df_exp = pd.read_csv(ignition_delay_data)\n",
    "\n",
    "# slice just table 7, where phi=1.0\n",
    "table7 = df_exp[df_exp['Table'] == 7]\n",
    "# Define Initial conditions using experimental data\n",
    "tau7 = table7['time (ms)'].values.astype(float)  # ignition delay\n",
    "T7 = table7['T_C'].values  # Temperatures\n",
    "P7 = table7['nominal pressure(atm)'].values * ct.one_atm  # pressures in atm\n",
    "\n",
    "\n",
    "# list of starting conditions\n",
    "# Mixture compositions taken from table 2 of\n",
    "# https://doi-org.ezproxy.neu.edu/10.1016/j.combustflame.2010.01.016\n",
    "concentrations = []\n",
    "# for phi = 1\n",
    "x_diluent = 0.7649\n",
    "conc_dict = {\n",
    "    'O2(2)': 0.2038,\n",
    "    'butane(1)': 0.03135\n",
    "}\n",
    "\n",
    "for i in range(0, len(table7)):\n",
    "    x_N2 = table7['%N2'].values[i] / 100.0 * x_diluent\n",
    "    x_Ar = table7['%Ar'].values[i] / 100.0 * x_diluent\n",
    "    x_CO2 = table7['%CO2'].values[i] / 100.0 * x_diluent\n",
    "    conc_dict['N2'] = x_N2\n",
    "    conc_dict['Ar'] = x_Ar\n",
    "    conc_dict['CO2(7)'] = x_CO2\n",
    "    concentrations.append(conc_dict)\n"
   ]
  },
  {
   "cell_type": "code",
   "execution_count": null,
   "id": "a5e2322b",
   "metadata": {},
   "outputs": [],
   "source": [
    "results_dir = '/home/moon/autoscience/autoscience/paper/error_vs_num_included/results'\n",
    "results_dir = '/home/moon/autoscience/reaction_calculator/error_vs_num_included/results'\n"
   ]
  },
  {
   "cell_type": "code",
   "execution_count": null,
   "id": "8a402a02",
   "metadata": {},
   "outputs": [],
   "source": []
  },
  {
   "cell_type": "code",
   "execution_count": null,
   "id": "2a07376d",
   "metadata": {},
   "outputs": [],
   "source": [
    "tau7"
   ]
  },
  {
   "cell_type": "code",
   "execution_count": null,
   "id": "f625e186",
   "metadata": {},
   "outputs": [],
   "source": [
    "def calculate_error(delays):\n",
    "    return np.sum(np.float_power(delays - (tau7 / 1000), 2.0))\n"
   ]
  },
  {
   "cell_type": "code",
   "execution_count": null,
   "id": "8a7df418",
   "metadata": {},
   "outputs": [],
   "source": [
    "N = 51\n",
    "\n",
    "missing_indices = []\n",
    "\n",
    "# figure out if a new parameter was actually replaced in that version\n",
    "error = np.zeros(N)\n",
    "indices = np.arange(0, N)\n",
    "for i in range(0, N):\n",
    "    delay_file = os.path.join(results_dir, f'delays_{i}.npy')\n",
    "    if not os.path.exists(delay_file):\n",
    "        error[i] = error[i - 1]\n",
    "        missing_indices.append(i)\n",
    "        continue\n",
    "    delays = np.load(delay_file)\n",
    "    error[i] = calculate_error(delays)"
   ]
  },
  {
   "cell_type": "code",
   "execution_count": null,
   "id": "90fea150",
   "metadata": {},
   "outputs": [],
   "source": [
    "plt.scatter(indices, error)\n",
    "\n",
    "incomplete = [15, 32, 36, 38, 43]\n",
    "# for index in incomplete:\n",
    "for index in missing_indices:\n",
    "    plt.scatter(index, error[index], marker='x', color='red')\n",
    "plt.title('Ignition Delay Error vs. Parameters Replaced')\n",
    "plt.xlabel('Parameters Recalculated')\n",
    "plt.ylabel('Sum of Squared Error')"
   ]
  },
  {
   "cell_type": "code",
   "execution_count": null,
   "id": "5a38428b",
   "metadata": {},
   "outputs": [],
   "source": [
    "# 1, 4, 9, 32\n",
    "# 1 is species 87\n",
    "# 4 is reaction 324\n",
    "# 9 is reaction 1288\n",
    "# 32 is reaction 1714"
   ]
  },
  {
   "cell_type": "code",
   "execution_count": null,
   "id": "d250ae1f",
   "metadata": {},
   "outputs": [],
   "source": [
    "# print the change upon adding a new one\n",
    "for i in range(1, N):\n",
    "    print(i,'\\t{:f}'.format(error[i] - error[i - 1]))\n"
   ]
  },
  {
   "cell_type": "code",
   "execution_count": null,
   "id": "863d92f5",
   "metadata": {},
   "outputs": [],
   "source": []
  },
  {
   "cell_type": "code",
   "execution_count": null,
   "id": "c29ddddb",
   "metadata": {},
   "outputs": [],
   "source": [
    "error[3]"
   ]
  },
  {
   "cell_type": "code",
   "execution_count": null,
   "id": "32ba7724",
   "metadata": {},
   "outputs": [],
   "source": []
  },
  {
   "cell_type": "code",
   "execution_count": null,
   "id": "9ae6e23a",
   "metadata": {},
   "outputs": [],
   "source": [
    "error[32]"
   ]
  },
  {
   "cell_type": "code",
   "execution_count": null,
   "id": "b526e893",
   "metadata": {},
   "outputs": [],
   "source": [
    "error[31]"
   ]
  },
  {
   "cell_type": "code",
   "execution_count": null,
   "id": "7eb305de",
   "metadata": {},
   "outputs": [],
   "source": [
    "error[0]"
   ]
  },
  {
   "cell_type": "code",
   "execution_count": null,
   "id": "8f72d69f",
   "metadata": {},
   "outputs": [],
   "source": []
  }
 ],
 "metadata": {
  "kernelspec": {
   "display_name": "Python 3 (ipykernel)",
   "language": "python",
   "name": "python3"
  },
  "language_info": {
   "codemirror_mode": {
    "name": "ipython",
    "version": 3
   },
   "file_extension": ".py",
   "mimetype": "text/x-python",
   "name": "python",
   "nbconvert_exporter": "python",
   "pygments_lexer": "ipython3",
   "version": "3.7.12"
  }
 },
 "nbformat": 4,
 "nbformat_minor": 5
}

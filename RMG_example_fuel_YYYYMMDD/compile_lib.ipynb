{
 "cells": [
  {
   "cell_type": "code",
   "execution_count": 1,
   "id": "b80a2344",
   "metadata": {},
   "outputs": [],
   "source": [
    "# script to compile calculations from dft/kinetics and dft/thermo"
   ]
  },
  {
   "cell_type": "code",
   "execution_count": 2,
   "id": "6d2f87c9",
   "metadata": {},
   "outputs": [],
   "source": [
    "import os\n",
    "import re\n",
    "import glob\n",
    "import yaml\n",
    "\n",
    "import rmgpy.chemkin\n",
    "import rmgpy.data.kinetics\n",
    "import rmgpy.data.thermo\n",
    "\n",
    "import numpy as np\n",
    "import pandas as pd\n",
    "# import importlib\n",
    "# importlib.reload(rmgpy.data.kinetics)\n",
    "\n",
    "import numpy as np\n",
    "import matplotlib.pyplot as plt\n",
    "from collections import OrderedDict\n",
    "\n",
    "import sys\n",
    "sys.path.append(os.path.join(os.environ['AUTOSCIENCE_REPO'], 'database'))\n",
    "import database_fun"
   ]
  },
  {
   "cell_type": "code",
   "execution_count": 3,
   "id": "ffa0b838",
   "metadata": {},
   "outputs": [],
   "source": [
    "DFT_DIR = os.path.join(os.environ['AUTOSCIENCE_REPO'], 'dft')"
   ]
  },
  {
   "cell_type": "code",
   "execution_count": null,
   "id": "616bc3f2",
   "metadata": {},
   "outputs": [],
   "source": []
  },
  {
   "cell_type": "markdown",
   "id": "e09bf99e",
   "metadata": {},
   "source": [
    "# Add thermo"
   ]
  },
  {
   "cell_type": "code",
   "execution_count": 5,
   "id": "dc8699c1",
   "metadata": {},
   "outputs": [],
   "source": [
    "# keep only the ones that appear in the top 10 of a mech_summary\n",
    "mech_files = glob.glob('../RMG_example_fuel_*/mech_summary*.csv')\n",
    "total_include_list = []\n",
    "total_sp_include_list = []\n",
    "for mech_file in mech_files:\n",
    "    include_list = []\n",
    "    sp_include_list = []\n",
    "    mech_summary = pd.read_csv(mech_file, index_col=0)\n",
    "    # get the first 10 reactions to attempt for every iteration of this\n",
    "    for i in range(len(mech_summary)):\n",
    "        if mech_summary['possible'].values[i] and mech_summary['family'].values[i] != 'species':\n",
    "            include_list.append(mech_summary['db_index'].values[i])\n",
    "        elif mech_summary['family'].values[i] == 'species':\n",
    "            sp_include_list.append(mech_summary['db_index'].values[i]) \n",
    "        if len(include_list) + len(sp_include_list) > 9:\n",
    "            break\n",
    "            \n",
    "    total_include_list += include_list\n",
    "    total_sp_include_list += sp_include_list\n",
    "    "
   ]
  },
  {
   "cell_type": "code",
   "execution_count": 8,
   "id": "d06ec593",
   "metadata": {},
   "outputs": [
    {
     "name": "stdout",
     "output_type": "stream",
     "text": [
      "130 thermo libs\n",
      "130 entries\n"
     ]
    }
   ],
   "source": [
    "thermo_libs = glob.glob(os.path.join(DFT_DIR, 'thermo', 'species*', 'arkane', 'RMG_libraries'))\n",
    "print(f'{len(thermo_libs)} thermo libs')\n",
    "\n",
    "\n",
    "# Load the Arkane thermo\n",
    "entries = []\n",
    "for i, lib_path in enumerate(thermo_libs):\n",
    "    matches = re.search('species_([0-9]{4})', lib_path)\n",
    "    species_index = int(matches[1])\n",
    "    ark_thermo_database = rmgpy.data.thermo.ThermoDatabase()\n",
    "    ark_thermo_database.load_libraries(\n",
    "        lib_path,\n",
    "    )\n",
    "\n",
    "    for key in ark_thermo_database.libraries['thermo'].entries.keys():\n",
    "        entry = ark_thermo_database.libraries['thermo'].entries[key]\n",
    "        entry.index = species_index\n",
    "        entry.label = entry.item.smiles\n",
    "        entries.append(entry)\n",
    "print(f'{len(entries)} entries')"
   ]
  },
  {
   "cell_type": "code",
   "execution_count": null,
   "id": "560d4e29",
   "metadata": {},
   "outputs": [],
   "source": []
  },
  {
   "cell_type": "code",
   "execution_count": 9,
   "id": "aac2591a",
   "metadata": {},
   "outputs": [],
   "source": [
    "# compile it all into a single database and a single library which I'll call harris_butane\n",
    "ark_thermo_database = rmgpy.data.thermo.ThermoDatabase()\n",
    "ark_thermo_database.libraries['thermo'] = rmgpy.data.thermo.ThermoLibrary()\n",
    "ark_thermo_database.libraries['thermo'].label = 'harris_butane'\n",
    "ark_thermo_database.libraries['thermo'].entries = OrderedDict()\n",
    "for entry in entries:\n",
    "    # check isomorphism with include_list\n",
    "    idx = database_fun.get_unique_species_index(rmgpy.species.Species().from_adjacency_list(entry.item.to_adjacency_list()))\n",
    "    if idx not in total_sp_include_list:\n",
    "        continue\n",
    "    ark_thermo_database.libraries['thermo'].entries[entry.label] = entry"
   ]
  },
  {
   "cell_type": "code",
   "execution_count": 10,
   "id": "9f58abff",
   "metadata": {},
   "outputs": [],
   "source": [
    "# save the results\n",
    "ark_thermo_database.save_libraries('thermo')"
   ]
  },
  {
   "cell_type": "code",
   "execution_count": 11,
   "id": "0fd8eb08",
   "metadata": {},
   "outputs": [
    {
     "name": "stdout",
     "output_type": "stream",
     "text": [
      "0 entries loaded\n"
     ]
    }
   ],
   "source": [
    "# try reading to test\n",
    "# Load the new thermo library\n",
    "\n",
    "thermo_lib = os.path.join('thermo')\n",
    "ark_thermo_database = rmgpy.data.thermo.ThermoDatabase()\n",
    "ark_thermo_database.load_libraries(thermo_lib)\n",
    "# print(ark_kinetics_database.libraries)\n",
    "print(f'{len(ark_thermo_database.libraries[\"harris_butane\"].entries)} entries loaded')\n"
   ]
  },
  {
   "cell_type": "markdown",
   "id": "2783e88a",
   "metadata": {},
   "source": [
    "# Add kinetics"
   ]
  },
  {
   "cell_type": "code",
   "execution_count": 12,
   "id": "46072682",
   "metadata": {},
   "outputs": [
    {
     "name": "stdout",
     "output_type": "stream",
     "text": [
      "list:  [4733, 4721, 952, 1758, 1692, 869, 870, 1785, 945, 296] []\n"
     ]
    }
   ],
   "source": [
    "mech_files = glob.glob('../RMG_example_fuel_*/mech_summary*.csv')  # names must be formatted to match this search string\n",
    "total_include_list = []\n",
    "for mech_file in mech_files:\n",
    "    include_list = []\n",
    "    sp_include_list = []\n",
    "    mech_summary = pd.read_csv(mech_file, index_col=0)\n",
    "    # get the first 10 reactions to attempt for every iteration of this\n",
    "    for i in range(len(mech_summary)):\n",
    "        if mech_summary['possible'].values[i] and mech_summary['family'].values[i] != 'species':\n",
    "            # if we already included this on a previous list, then its existence here means it was a failure\n",
    "            # and we shouldn't include it in this round's list of top 10 to calculate\n",
    "            if mech_summary['db_index'].values[i] in total_include_list:\n",
    "                continue\n",
    "            include_list.append(mech_summary['db_index'].values[i])\n",
    "        elif mech_summary['family'].values[i] == 'species':\n",
    "            sp_include_list.append(mech_summary['db_index'].values[i]) \n",
    "        if len(include_list) + len(sp_include_list) > 9:\n",
    "            print('list: ', include_list, sp_include_list)\n",
    "            break\n",
    "    total_include_list += include_list\n",
    "    "
   ]
  },
  {
   "cell_type": "code",
   "execution_count": 13,
   "id": "d052fa4d",
   "metadata": {},
   "outputs": [
    {
     "data": {
      "text/plain": [
       "['../RMG_example_fuel_YYYYMMDD/mech_summary.csv']"
      ]
     },
     "execution_count": 13,
     "metadata": {},
     "output_type": "execute_result"
    }
   ],
   "source": [
    "mech_files"
   ]
  },
  {
   "cell_type": "code",
   "execution_count": 14,
   "id": "748527be",
   "metadata": {},
   "outputs": [
    {
     "data": {
      "text/plain": [
       "[4733, 4721, 952, 1758, 1692, 869, 870, 1785, 945, 296]"
      ]
     },
     "execution_count": 14,
     "metadata": {},
     "output_type": "execute_result"
    }
   ],
   "source": [
    "total_include_list"
   ]
  },
  {
   "cell_type": "code",
   "execution_count": 15,
   "id": "c4fee626",
   "metadata": {},
   "outputs": [
    {
     "data": {
      "text/plain": [
       "10"
      ]
     },
     "execution_count": 15,
     "metadata": {},
     "output_type": "execute_result"
    }
   ],
   "source": [
    "len(total_include_list)"
   ]
  },
  {
   "cell_type": "code",
   "execution_count": 16,
   "id": "50344d93",
   "metadata": {},
   "outputs": [
    {
     "name": "stdout",
     "output_type": "stream",
     "text": [
      "Adding\t296\tCH2CHO(21) + PC4H9(182) <=> CH2CO(24) + butane(1)\n",
      "Adding\t4721\tHO2(16) + SC4H9(183) <=> O2(2) + butane(1)\n",
      "Adding\t4733\tHO2(16) + PC4H9(182) <=> O2(2) + butane(1)\n"
     ]
    }
   ],
   "source": [
    "# first, get valid kinetics from old workflow\n",
    "kinetics_libs = glob.glob(os.path.join(DFT_DIR, 'kinetics', 'reaction*', 'arkane', 'RMG_libraries'))\n",
    "\n",
    "# Load the Arkane kinetics\n",
    "entries = []\n",
    "for i, lib_path in enumerate(kinetics_libs):\n",
    "    \n",
    "    matches = re.search('reaction_([0-9]{4,6})', lib_path)\n",
    "    reaction_index = int(matches[1])\n",
    "    \n",
    "    ark_kinetics_database = rmgpy.data.kinetics.KineticsDatabase()\n",
    "    ark_kinetics_database.load_libraries(lib_path)\n",
    "    \n",
    "    \n",
    "    \n",
    "    \n",
    "    # TODO fix bug related to load_libraries not getting the actual name\n",
    "    for key in ark_kinetics_database.libraries[''].entries.keys():\n",
    "        entry = ark_kinetics_database.libraries[''].entries[key]\n",
    "        \n",
    "        \n",
    "        # check isomorphism with include_list\n",
    "        idx = database_fun.get_unique_reaction_index(ark_kinetics_database.libraries[''].entries[key].item)\n",
    "        if idx not in total_include_list:\n",
    "            break\n",
    "\n",
    "        entry.index = reaction_index\n",
    "        entries.append(entry)\n",
    "        print(f'Adding\\t{entry.index}\\t{entry}')"
   ]
  },
  {
   "cell_type": "code",
   "execution_count": null,
   "id": "2a2cc54e",
   "metadata": {},
   "outputs": [],
   "source": []
  },
  {
   "cell_type": "code",
   "execution_count": 17,
   "id": "e61e4711",
   "metadata": {},
   "outputs": [],
   "source": [
    "# compile it all into a single database and a single library which I'll call harris_butane\n",
    "ark_kinetics_database = rmgpy.data.kinetics.KineticsDatabase()\n",
    "ark_kinetics_database.libraries['kinetics'] = rmgpy.data.kinetics.KineticsLibrary()\n",
    "ark_kinetics_database.libraries['kinetics'].label = 'harris_butane'\n",
    "ark_kinetics_database.libraries['kinetics'].name = 'harris_butane'\n",
    "ark_kinetics_database.libraries['kinetics'].entries = OrderedDict()\n",
    "for entry in entries:\n",
    "    ark_kinetics_database.libraries['kinetics'].entries[entry.label] = entry"
   ]
  },
  {
   "cell_type": "code",
   "execution_count": 18,
   "id": "110620ae",
   "metadata": {},
   "outputs": [],
   "source": [
    "# save the results\n",
    "# output_path = os.path.join(DFT_DIR, 'kinetics')\n",
    "# ark_kinetics_database.save_libraries(output_path, reindex=False)\n",
    "ark_kinetics_database.save_libraries('harris_kinetics', reindex=False)"
   ]
  },
  {
   "cell_type": "code",
   "execution_count": 19,
   "id": "6493ce45",
   "metadata": {},
   "outputs": [
    {
     "name": "stdout",
     "output_type": "stream",
     "text": [
      "3 entries loaded\n"
     ]
    }
   ],
   "source": [
    "# read the results again\n",
    "kinetics_lib = os.path.join('harris_kinetics')\n",
    "ark_kinetics_database = rmgpy.data.kinetics.KineticsDatabase()\n",
    "ark_kinetics_database.load_libraries(kinetics_lib)\n",
    "# print(ark_kinetics_database.libraries)\n",
    "print(f'{len(ark_kinetics_database.libraries[\"kinetics\"].entries)} entries loaded')"
   ]
  },
  {
   "cell_type": "code",
   "execution_count": null,
   "id": "2ef44844",
   "metadata": {},
   "outputs": [],
   "source": []
  },
  {
   "cell_type": "code",
   "execution_count": null,
   "id": "be8ffeb9",
   "metadata": {},
   "outputs": [],
   "source": []
  },
  {
   "cell_type": "code",
   "execution_count": null,
   "id": "88e5a2aa",
   "metadata": {},
   "outputs": [],
   "source": []
  },
  {
   "cell_type": "code",
   "execution_count": null,
   "id": "e0eef977",
   "metadata": {},
   "outputs": [],
   "source": []
  }
 ],
 "metadata": {
  "kernelspec": {
   "display_name": "Python 3 (ipykernel)",
   "language": "python",
   "name": "python3"
  },
  "language_info": {
   "codemirror_mode": {
    "name": "ipython",
    "version": 3
   },
   "file_extension": ".py",
   "mimetype": "text/x-python",
   "name": "python",
   "nbconvert_exporter": "python",
   "pygments_lexer": "ipython3",
   "version": "3.7.16"
  }
 },
 "nbformat": 4,
 "nbformat_minor": 5
}

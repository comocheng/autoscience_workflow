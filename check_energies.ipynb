{
 "cells": [
  {
   "cell_type": "code",
   "execution_count": 1,
   "id": "67ef43f3",
   "metadata": {},
   "outputs": [
    {
     "name": "stderr",
     "output_type": "stream",
     "text": [
      "WARNING:root:Optional package dependency \"xlwt\" not loaded. Some output features will not work.\n"
     ]
    }
   ],
   "source": [
    "# script to check energies of a reaction's overall runs\n",
    "import os\n",
    "# import sys\n",
    "import glob\n",
    "# sys.path.append('/work/westgroup/harris.se/autoscience/reaction_calculator/dft')\n",
    "import arkane.ess.gaussian\n",
    "# import thermokinetic_fun"
   ]
  },
  {
   "cell_type": "code",
   "execution_count": 2,
   "id": "66c6449d",
   "metadata": {},
   "outputs": [],
   "source": [
    "reaction_index = 418\n",
    "overall_dir = os.path.join(f'/work/westgroup/harris.se/autoscience/reaction_calculator/dft/kinetics/reaction_{reaction_index}/overall')"
   ]
  },
  {
   "cell_type": "code",
   "execution_count": 3,
   "id": "867b37ba",
   "metadata": {},
   "outputs": [],
   "source": [
    "overall_logfiles = glob.glob(os.path.join(overall_dir, 'fwd_*.log'))\n",
    "lowest_energy = 1e5\n",
    "energies = []\n",
    "for logfile in overall_logfiles:\n",
    "    energy = 1e5\n",
    "    try:\n",
    "        g_reader = arkane.ess.gaussian.GaussianLog(logfile)\n",
    "        energy = g_reader.load_energy()\n",
    "    except arkane.exceptions.LogError:\n",
    "        energy = 1e5\n",
    "    energies.append(energy)\n",
    "\n",
    "    \n",
    "for i in range(0, len(energies)):\n",
    "    print(overall_logfiles[i], energies[i])"
   ]
  },
  {
   "cell_type": "code",
   "execution_count": 5,
   "id": "0d0b7909",
   "metadata": {},
   "outputs": [
    {
     "data": {
      "text/plain": [
       "[]"
      ]
     },
     "execution_count": 5,
     "metadata": {},
     "output_type": "execute_result"
    }
   ],
   "source": [
    "overall_logfiles"
   ]
  },
  {
   "cell_type": "code",
   "execution_count": 4,
   "id": "6a8c0d5d",
   "metadata": {},
   "outputs": [
    {
     "ename": "ValueError",
     "evalue": "not enough values to unpack (expected 2, got 0)",
     "output_type": "error",
     "traceback": [
      "\u001b[0;31m---------------------------------------------------------------------------\u001b[0m",
      "\u001b[0;31mValueError\u001b[0m                                Traceback (most recent call last)",
      "\u001b[0;32m/tmp/ipykernel_33622/1909857123.py\u001b[0m in \u001b[0;36m<module>\u001b[0;34m\u001b[0m\n\u001b[1;32m      1\u001b[0m \u001b[0;31m#sort them\u001b[0m\u001b[0;34m\u001b[0m\u001b[0;34m\u001b[0m\u001b[0;34m\u001b[0m\u001b[0m\n\u001b[0;32m----> 2\u001b[0;31m \u001b[0me1\u001b[0m\u001b[0;34m,\u001b[0m \u001b[0ml1\u001b[0m \u001b[0;34m=\u001b[0m \u001b[0mzip\u001b[0m\u001b[0;34m(\u001b[0m\u001b[0;34m*\u001b[0m\u001b[0msorted\u001b[0m\u001b[0;34m(\u001b[0m\u001b[0mzip\u001b[0m\u001b[0;34m(\u001b[0m\u001b[0menergies\u001b[0m\u001b[0;34m,\u001b[0m \u001b[0moverall_logfiles\u001b[0m\u001b[0;34m)\u001b[0m\u001b[0;34m)\u001b[0m\u001b[0;34m)\u001b[0m\u001b[0;34m\u001b[0m\u001b[0;34m\u001b[0m\u001b[0m\n\u001b[0m",
      "\u001b[0;31mValueError\u001b[0m: not enough values to unpack (expected 2, got 0)"
     ]
    }
   ],
   "source": [
    "#sort them\n",
    "e1, l1 = zip(*sorted(zip(energies, overall_logfiles)))"
   ]
  },
  {
   "cell_type": "code",
   "execution_count": null,
   "id": "1b9f30a4",
   "metadata": {},
   "outputs": [],
   "source": [
    "for i in range(0, len(energies)):\n",
    "    print(l1[i], e1[i])"
   ]
  },
  {
   "cell_type": "code",
   "execution_count": null,
   "id": "e0959b02",
   "metadata": {},
   "outputs": [],
   "source": []
  }
 ],
 "metadata": {
  "kernelspec": {
   "display_name": "Python 3 (ipykernel)",
   "language": "python",
   "name": "python3"
  },
  "language_info": {
   "codemirror_mode": {
    "name": "ipython",
    "version": 3
   },
   "file_extension": ".py",
   "mimetype": "text/x-python",
   "name": "python",
   "nbconvert_exporter": "python",
   "pygments_lexer": "ipython3",
   "version": "3.7.12"
  }
 },
 "nbformat": 4,
 "nbformat_minor": 5
}

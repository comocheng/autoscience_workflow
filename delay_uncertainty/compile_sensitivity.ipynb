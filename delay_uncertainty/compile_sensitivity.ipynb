{
 "cells": [
  {
   "cell_type": "code",
   "execution_count": 1,
   "id": "8e974937",
   "metadata": {},
   "outputs": [],
   "source": [
    "# notebook to compile all of the csvs into a single array\n",
    "import os\n",
    "import glob\n",
    "import pandas as pd\n",
    "import numpy as np"
   ]
  },
  {
   "cell_type": "code",
   "execution_count": 2,
   "id": "53fb48db",
   "metadata": {},
   "outputs": [],
   "source": [
    "mech_dir = '/work/westgroup/harris.se/autoscience/reaction_calculator/delay_uncertainty/base_rmg_1week'\n",
    "mech_dir = '/work/westgroup/harris.se/autoscience/reaction_calculator/delay_uncertainty/base_rmg24'\n"
   ]
  },
  {
   "cell_type": "code",
   "execution_count": 5,
   "id": "d520579c",
   "metadata": {},
   "outputs": [
    {
     "name": "stdout",
     "output_type": "stream",
     "text": [
      "N=110 species\n",
      "M=1850 reactions\n",
      "missing species delay file /work/westgroup/harris.se/autoscience/reaction_calculator/delay_uncertainty/base_rmg24/table_0002/species_delays_0002.npy\n",
      "missing species delay file /work/westgroup/harris.se/autoscience/reaction_calculator/delay_uncertainty/base_rmg24/table_0005/species_delays_0005.npy\n",
      "missing species delay file /work/westgroup/harris.se/autoscience/reaction_calculator/delay_uncertainty/base_rmg24/table_0009/species_delays_0009.npy\n",
      "missing species delay file /work/westgroup/harris.se/autoscience/reaction_calculator/delay_uncertainty/base_rmg24/table_0011/species_delays_0011.npy\n"
     ]
    }
   ],
   "source": [
    "# compile everything into a humongous array\n",
    "\n",
    "#             table1 table2 ... table12\n",
    "# species 1\n",
    "# species 2\n",
    "# .........\n",
    "# species N\n",
    "# reaction 1\n",
    "# reaction 2\n",
    "# .........\n",
    "# reaction M\n",
    "\n",
    "\n",
    "# load examples to get the right size\n",
    "test_sp_file = os.path.join(mech_dir, 'table_0001', 'species_delays_0001.npy')\n",
    "test_rxn_file = os.path.join(mech_dir, 'table_0001', 'reaction_delays_0001_0000.npy')\n",
    "\n",
    "K = 51\n",
    "N = np.load(test_sp_file).shape[0]\n",
    "M = np.load(test_rxn_file).shape[0]\n",
    "print(f'N={N}', 'species')\n",
    "print(f'M={M}', 'reactions')\n",
    "\n",
    "all_delays_ever = np.zeros((N + M, 12 * K))\n",
    "\n",
    "\n",
    "for table_index in range(1, 13):\n",
    "    table_dir = os.path.join(mech_dir, f'table_{table_index:04}')\n",
    "    \n",
    "    rxn_files = glob.glob(os.path.join(table_dir, f'reaction_delays_{table_index:04}_*.npy'))\n",
    "    \n",
    "    # make sure the broken up calculations are all complete\n",
    "    assert len(rxn_files) == 51, table_index\n",
    "    \n",
    "    \n",
    "    # insert all the species delays for that table\n",
    "    sp_file = os.path.join(table_dir, f'species_delays_{table_index:04}.npy')\n",
    "    if not os.path.exists(sp_file):\n",
    "        print(f'missing species delay file {sp_file}')\n",
    "        continue\n",
    "        raise OSError(f'missing species delay file {sp_file}')\n",
    "\n",
    "    all_delays_ever[0:N, (table_index - 1) * K: table_index * K] = np.load(sp_file)\n",
    "    \n",
    "    \n",
    "    # fill in the reaction files\n",
    "    rxn_table = np.zeros((M, K))\n",
    "    for i in range(0, 51):\n",
    "        rxn_delay_file = os.path.join(table_dir, f'reaction_delays_{table_index:04}_{i * 50:04}.npy')\n",
    "        if not os.path.exists(rxn_delay_file):\n",
    "            print('missing: ', i, rxn_delay_file[-50:])\n",
    "            continue  # TODO use assert and do not continue\n",
    "        rxn_table += np.load(rxn_delay_file)\n",
    "    all_delays_ever[N:, (table_index - 1) * K: table_index * K] = rxn_table"
   ]
  },
  {
   "cell_type": "code",
   "execution_count": null,
   "id": "cc6030e9",
   "metadata": {},
   "outputs": [],
   "source": [
    "# save the resulting delay array\n",
    "np.save(os.path.join(mech_dir, 'total_perturbed_mech_delays.npy'), all_delays_ever)"
   ]
  },
  {
   "cell_type": "code",
   "execution_count": null,
   "id": "df846415",
   "metadata": {},
   "outputs": [],
   "source": []
  },
  {
   "cell_type": "code",
   "execution_count": null,
   "id": "b24be7bc",
   "metadata": {},
   "outputs": [],
   "source": []
  },
  {
   "cell_type": "code",
   "execution_count": null,
   "id": "0623a046",
   "metadata": {},
   "outputs": [],
   "source": []
  },
  {
   "cell_type": "code",
   "execution_count": null,
   "id": "50c16177",
   "metadata": {},
   "outputs": [],
   "source": [
    "# see how many rows are completely zero\n",
    "zero_rows = 0\n",
    "for i in range(0, all_delays_ever.shape[0]):\n",
    "    if np.sum(all_delays_ever[i,:]) == 0:\n",
    "        zero_rows += 1\n",
    "print(zero_rows, '/', all_delays_ever.shape[0])"
   ]
  },
  {
   "cell_type": "code",
   "execution_count": null,
   "id": "7974f48d",
   "metadata": {},
   "outputs": [],
   "source": []
  },
  {
   "cell_type": "code",
   "execution_count": 4,
   "id": "934904f9",
   "metadata": {},
   "outputs": [],
   "source": [
    "# print out what's missing - for debugging\n",
    "for table_index in range(1, 13):\n",
    "    table_dir = os.path.join(mech_dir, f'table_{table_index:04}')\n",
    "    \n",
    "    for i in range(0, 51):\n",
    "        delay_file = os.path.join(table_dir, f'reaction_delays_{table_index:04}_{i * 50:04}.npy')\n",
    "        if not os.path.exists(delay_file):\n",
    "            print('missing: ', i, delay_file[-50:])"
   ]
  },
  {
   "cell_type": "code",
   "execution_count": null,
   "id": "be5e7218",
   "metadata": {},
   "outputs": [],
   "source": []
  },
  {
   "cell_type": "code",
   "execution_count": null,
   "id": "81ded304",
   "metadata": {},
   "outputs": [],
   "source": []
  }
 ],
 "metadata": {
  "kernelspec": {
   "display_name": "Python 3 (ipykernel)",
   "language": "python",
   "name": "python3"
  },
  "language_info": {
   "codemirror_mode": {
    "name": "ipython",
    "version": 3
   },
   "file_extension": ".py",
   "mimetype": "text/x-python",
   "name": "python",
   "nbconvert_exporter": "python",
   "pygments_lexer": "ipython3",
   "version": "3.7.12"
  }
 },
 "nbformat": 4,
 "nbformat_minor": 5
}

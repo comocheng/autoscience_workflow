{
 "cells": [
  {
   "cell_type": "code",
   "execution_count": 1,
   "id": "f12bffc5",
   "metadata": {},
   "outputs": [],
   "source": [
    "# notebook to make uncertainty in ignition delay plot\n",
    "\n",
    "import os\n",
    "import copy\n",
    "import cantera as ct\n",
    "import numpy as np\n",
    "import pandas as pd\n",
    "import concurrent.futures\n",
    "import rmgpy.chemkin\n",
    "import pickle\n",
    "\n",
    "\n",
    "import matplotlib.pyplot as plt\n",
    "%matplotlib inline"
   ]
  },
  {
   "cell_type": "code",
   "execution_count": 3,
   "id": "c4b78896",
   "metadata": {},
   "outputs": [],
   "source": [
    "# load base data\n",
    "\n",
    "base_rmg7_1week = np.array([0.04830086, 0.04773837, 0.0462931 , 0.04678523, 0.07270171,\n",
    "       0.07446053, 0.14525752, 0.14593983, 0.10720529, 0.09406754,\n",
    "       0.0644564 , 0.05500488, 0.03497752, 0.02436985, 0.02310303,\n",
    "       0.01383285])  # 1 week RMG model that completed - all 130 species\n",
    "aramco7 = np.array([0.03945921, 0.03874611, 0.02817182, 0.02812066, 0.03236667,\n",
    "       0.03278732, 0.06009581, 0.06085926, 0.06020536, 0.05459522,\n",
    "       0.03965133, 0.03435827, 0.02245863, 0.01580939, 0.01499945,\n",
    "       0.00896072])\n",
    "experiment7 = np.array([0.0865 , 0.0739 , 0.0313 , 0.033  , 0.0309 , 0.03   , 0.056  ,\n",
    "       0.0566 , 0.0679 , 0.0664 , 0.0652 , 0.0671 , 0.047  , 0.0279 ,\n",
    "       0.02805, 0.012  ])\n"
   ]
  },
  {
   "cell_type": "code",
   "execution_count": null,
   "id": "bd412ad9",
   "metadata": {},
   "outputs": [],
   "source": []
  },
  {
   "cell_type": "code",
   "execution_count": 4,
   "id": "079b5013",
   "metadata": {},
   "outputs": [],
   "source": [
    "# Load the experimental conditions\n",
    "ignition_delay_data = '/work/westgroup/harris.se/autoscience/autoscience/butane/experimental_data/butane_ignition_delay.csv'\n",
    "# ignition_delay_data = '/home/moon/autoscience/autoscience/butane/experimental_data/butane_ignition_delay.csv'\n",
    "df_exp = pd.read_csv(ignition_delay_data)\n",
    "\n",
    "# slice just table 7, where phi=1.0\n",
    "table7 = df_exp[df_exp['Table'] == 7]\n",
    "# Define Initial conditions using experimental data\n",
    "tau7 = table7['time (ms)'].values.astype(float)  # ignition delay\n",
    "T7 = table7['T_C'].values  # Temperatures\n",
    "P7 = table7['nominal pressure(atm)'].values * ct.one_atm  # pressures in atm\n",
    "\n",
    "\n",
    "# list of starting conditions\n",
    "# Mixture compositions taken from table 2 of\n",
    "# https://doi-org.ezproxy.neu.edu/10.1016/j.combustflame.2010.01.016\n",
    "concentrations = []\n",
    "# for phi = 1\n",
    "x_diluent = 0.7649\n",
    "conc_dict = {\n",
    "    'O2(2)': 0.2038,\n",
    "    'butane(1)': 0.03135\n",
    "}\n",
    "\n",
    "for i in range(0, len(table7)):\n",
    "    x_N2 = table7['%N2'].values[i] / 100.0 * x_diluent\n",
    "    x_Ar = table7['%Ar'].values[i] / 100.0 * x_diluent\n",
    "    x_CO2 = table7['%CO2'].values[i] / 100.0 * x_diluent\n",
    "    conc_dict['N2'] = x_N2\n",
    "    conc_dict['Ar'] = x_Ar\n",
    "    conc_dict['CO2(7)'] = x_CO2\n",
    "    concentrations.append(conc_dict)\n"
   ]
  },
  {
   "cell_type": "code",
   "execution_count": 5,
   "id": "6dc9dc7b",
   "metadata": {},
   "outputs": [
    {
     "data": {
      "image/png": "[encoded data removed]",
      "text/plain": [
       "<Figure size 432x288 with 1 Axes>"
      ]
     },
     "metadata": {
      "needs_background": "light"
     },
     "output_type": "display_data"
    }
   ],
   "source": [
    "# plot the ignition delay\n",
    "plt.plot(1000.0 / T7, base_rmg7_1week, marker='x', linestyle='dashed')\n",
    "plt.plot(1000.0 / T7, aramco7, marker='x')\n",
    "plt.scatter(1000.0 / T7, tau7 / 1000.0, color='black')\n",
    "ax = plt.gca()\n",
    "ax.set_yscale('log')\n",
    "plt.legend(['Base RMG 1week', 'Aramco', 'Experiment'])\n",
    "plt.title('Ignition Delays Phi=1.0')\n",
    "plt.xlabel('1000K / T')\n",
    "plt.ylabel('Delay (s)')\n",
    "plt.savefig('table7.png')\n",
    "# plt.legend(bbox_to_anchor=(0, 1), , ncol=1)"
   ]
  },
  {
   "cell_type": "code",
   "execution_count": 8,
   "id": "0257c8d1",
   "metadata": {},
   "outputs": [
    {
     "name": "stdout",
     "output_type": "stream",
     "text": [
      "130 species\n",
      "2523 reactions\n"
     ]
    }
   ],
   "source": [
    "# get the mapping from cantera base back to RMG\n",
    "# load the sensitive parameters\n",
    "chemkin = '/work/westgroup/harris.se/autoscience/reaction_calculator/delay_uncertainty/improved_1week/chem_annotated.inp'\n",
    "working_dir = os.path.dirname(chemkin)\n",
    "transport = os.path.join(working_dir, 'tran.dat')\n",
    "species_dict = os.path.join(working_dir, 'species_dictionary.txt')\n",
    "species_list, reaction_list = rmgpy.chemkin.load_chemkin_file(chemkin, dictionary_path=species_dict, transport_path=transport, use_chemkin_names=True)\n",
    "cantera_file = os.path.join(working_dir, 'chem_annotated.cti')\n",
    "base_gas = ct.Solution(cantera_file)\n",
    "perturbed_cti_path = os.path.join(working_dir, 'perturbed.cti')\n",
    "perturbed_gas = ct.Solution(perturbed_cti_path)\n",
    "\n",
    "\n",
    "# Check that species order is preserved\n",
    "for i in range(len(species_list)):\n",
    "    assert str(species_list[i]) == base_gas.species_names[i]\n",
    "    assert str(species_list[i]) == perturbed_gas.species_names[i]\n",
    "    \n",
    "# This cti -> rmg converter dictionary can be made using rmg_tools/ct2rmg_dict.py\n",
    "with open(os.path.join(working_dir, 'ct2rmg_rxn.pickle'), 'rb') as handle:\n",
    "# with open('/work/westgroup/harris.se/autoscience/reaction_calculator/delay_uncertainty/base_rmg_1week/ct2rmg_rxn.pickle', 'rb') as handle:\n",
    "    ct2rmg_rxn = pickle.load(handle)\n",
    "\n",
    "# check that reaction order is also correct by comparing some random reactions\n",
    "for i in [123, 837, 1500, 1800, 1955, 2002, 2303]:\n",
    "    eq1 = ''.join(sorted(base_gas.reactions()[i].equation))\n",
    "    eq2 = ''.join(sorted(str(reaction_list[ct2rmg_rxn[i]])))\n",
    "    assert eq1 == eq2\n",
    "    \n",
    "K = 51\n",
    "N = len(base_gas.species())\n",
    "M = len(base_gas.reactions())\n",
    "assert N == 130\n",
    "assert M == 2523\n",
    "\n",
    "print(f'{N} species')\n",
    "print(f'{M} reactions')"
   ]
  },
  {
   "cell_type": "code",
   "execution_count": null,
   "id": "775be132",
   "metadata": {},
   "outputs": [],
   "source": []
  },
  {
   "cell_type": "markdown",
   "id": "b605d19c",
   "metadata": {},
   "source": [
    "### Load Input Uncertainties $\\Delta G$ and $\\Delta \\ln k$"
   ]
  },
  {
   "cell_type": "code",
   "execution_count": 32,
   "id": "c85779ba",
   "metadata": {},
   "outputs": [],
   "source": [
    "# rxn_uncertainty_file = '/work/westgroup/harris.se/autoscience/reaction_calculator/models/base_rmg_1week/reaction_uncertainty.npy'\n",
    "# sp_uncertainty_file = '/work/westgroup/harris.se/autoscience/reaction_calculator/models/base_rmg_1week/species_uncertainty.npy'\n",
    "\n",
    "rxn_uncertainty_file = '/work/westgroup/harris.se/autoscience/reaction_calculator/models/base_rmg_1week/gao_reaction_uncertainty.npy'\n",
    "sp_uncertainty_file = '/work/westgroup/harris.se/autoscience/reaction_calculator/models/base_rmg_1week/gao_species_uncertainty.npy'\n",
    "\n",
    "rmg_rxn_uncertainty = np.load(rxn_uncertainty_file)\n",
    "rmg_sp_uncertainty = np.load(sp_uncertainty_file)\n",
    "\n",
    "assert len(rmg_rxn_uncertainty) == len(reaction_list)\n",
    "assert len(rmg_sp_uncertainty) == len(species_list)\n",
    "\n",
    "# adjust the uncertainties based on what was changed.\n",
    "\n",
    "species_change_list = [92, 93, 94, 99, 99, 102, 103, 106, 110, 111, 112, 113, 89, 120, 126, 127]  # confirm by loading base mech\n",
    "rxn_change_list = [213, 2434, 748, 793, 2248, 324, 422, 419, 749, 714, 1287, 459,\n",
    "                   800, 2311, 577, 794, 728, 1288, 2317, 410, 726, 1103, 2437,\n",
    "                   578, 370, 1658, 1685, 1522, 795, 371, 586, 420]\n",
    "# print(len(rxn_change_list))\n",
    "    \n",
    "\n",
    "base_species_list, base_reaction_list = rmgpy.chemkin.load_chemkin_file(\n",
    "    '/work/westgroup/harris.se/autoscience/reaction_calculator/models/base_rmg_1week/chem_annotated.inp',\n",
    "    dictionary_path='/work/westgroup/harris.se/autoscience/reaction_calculator/models/base_rmg_1week/species_dictionary.txt',\n",
    "    transport_path='/work/westgroup/harris.se/autoscience/reaction_calculator/models/base_rmg_1week/tran.dat',\n",
    "    use_chemkin_names=True\n",
    ")\n",
    "species_change_list2 = set()\n",
    "for i in range(0, len(base_species_list)):\n",
    "    if base_species_list[i].get_enthalpy(1000) != species_list[i].get_enthalpy(1000):\n",
    "        species_change_list2.add(i)\n",
    "assert set(species_change_list) == species_change_list2\n",
    "\n",
    "rxn_change_list2 = set()\n",
    "for i in range(0, len(base_reaction_list)):\n",
    "    if base_reaction_list[i].get_rate_coefficient(1000, 101325) != reaction_list[i].get_rate_coefficient(1000, 101325):\n",
    "        rxn_change_list2.add(i)\n",
    "assert set(rxn_change_list) == rxn_change_list2\n",
    "\n",
    "\n",
    "for i in range(0, len(base_species_list)):\n",
    "    if i in species_change_list:\n",
    "        rmg_sp_uncertainty[i] = 3.0\n",
    "for i in range(0, len(base_reaction_list)):\n",
    "    if i in rxn_change_list:\n",
    "        rmg_rxn_uncertainty[i] = 3.0\n",
    "\n",
    "\n",
    "rxn_uncertainty = np.zeros(len(base_gas.reactions()))\n",
    "for ct_index in range(len(rxn_uncertainty)):\n",
    "    rxn_uncertainty[ct_index] = rmg_rxn_uncertainty[ct2rmg_rxn[ct_index]]\n",
    "\n",
    "# Cantera species should be in same rmg order, but this makes sure for us\n",
    "for i in range(len(species_list)):\n",
    "    assert str(species_list[i]) == base_gas.species_names[i]\n",
    "\n",
    "sp_uncertainty = rmg_sp_uncertainty\n",
    "\n",
    "total_uncertainty_array = np.concatenate((sp_uncertainty, rxn_uncertainty), axis=0)\n",
    "total_uncertainty_mat = np.repeat(np.transpose(np.matrix(total_uncertainty_array)), 12 * 51, axis=1)\n"
   ]
  },
  {
   "cell_type": "markdown",
   "id": "fe331513",
   "metadata": {},
   "source": [
    "### Load Sensitivity Coefficients $\\frac{\\partial \\ln \\tau}{\\partial G}$ and $\\frac{\\partial \\ln \\tau}{\\partial \\ln k}$"
   ]
  },
  {
   "cell_type": "code",
   "execution_count": 35,
   "id": "2f4f2023",
   "metadata": {},
   "outputs": [],
   "source": [
    "# load the giant base delays matrix\n",
    "base_delay_file = os.path.join(working_dir, 'total_base_delays.npy')\n",
    "base_delays = np.load(base_delay_file)\n",
    "\n",
    "# Load the giant delays matrix\n",
    "total_delay_file = os.path.join(working_dir, 'total_perturbed_mech_delays.npy')\n",
    "total_delays = np.load(total_delay_file)\n",
    "\n",
    "assert total_delays.shape[1] == len(base_delays)\n",
    "\n",
    "total_base_delays = np.repeat(np.matrix(base_delays), total_delays.shape[0], axis=0)\n",
    "total_base_delays[total_base_delays == 0] = np.nan\n",
    "assert total_base_delays.shape == total_delays.shape\n",
    "\n",
    "total_delays[total_delays == 0] = np.nan\n",
    "\n",
    "assert np.sum(np.isnan(total_delays)) == 408816\n",
    "\n",
    "d_ln_tau = np.log(total_delays) - np.log(total_base_delays)"
   ]
  },
  {
   "cell_type": "code",
   "execution_count": null,
   "id": "6f20723c",
   "metadata": {},
   "outputs": [],
   "source": []
  },
  {
   "cell_type": "code",
   "execution_count": null,
   "id": "246cb7c2",
   "metadata": {},
   "outputs": [],
   "source": []
  },
  {
   "cell_type": "code",
   "execution_count": 36,
   "id": "08717cf3",
   "metadata": {},
   "outputs": [],
   "source": [
    "# get the change in enthalpy or reaction rate\n",
    "phi_dicts = []\n",
    "\n",
    "for table_index in range(1, 13):\n",
    "    \n",
    "    # Load the experimental conditions\n",
    "    ignition_delay_data = '/work/westgroup/harris.se/autoscience/autoscience/butane/experimental_data/butane_ignition_delay.csv'\n",
    "    # ignition_delay_data = '/home/moon/autoscience/autoscience/butane/experimental_data/butane_ignition_delay.csv'\n",
    "    df_exp = pd.read_csv(ignition_delay_data)\n",
    "    table_exp = df_exp[df_exp['Table'] == table_index]\n",
    "    # Define Initial conditions using experimental data\n",
    "    tau_exp = table_exp['time (ms)'].values.astype(float)  # ignition delay\n",
    "    T7 = table_exp['T_C'].values  # Temperatures\n",
    "    P7 = table_exp['nominal pressure(atm)'].values * ct.one_atm  # pressures in atm\n",
    "    phi7 = table_exp['phi'].values  # equivalence ratios\n",
    "    # list of starting conditions\n",
    "    # Mixture compositions taken from table 2 of\n",
    "    # https://doi-org.ezproxy.neu.edu/10.1016/j.combustflame.2010.01.016\n",
    "    concentrations = []\n",
    "    # for phi = 1\n",
    "    x_diluent = 0.7649\n",
    "    conc_dict = {\n",
    "        'O2(2)': 0.2038,\n",
    "        'butane(1)': 0.03135\n",
    "    }\n",
    "\n",
    "    \n",
    "    x_N2 = table_exp['%N2'].values[0] / 100.0 * x_diluent\n",
    "    x_Ar = table_exp['%Ar'].values[0] / 100.0 * x_diluent\n",
    "    x_CO2 = table_exp['%CO2'].values[0] / 100.0 * x_diluent\n",
    "    conc_dict['N2'] = x_N2\n",
    "    conc_dict['Ar'] = x_Ar\n",
    "    conc_dict['CO2(7)'] = x_CO2\n",
    "    \n",
    "    phi_dicts.append(conc_dict)\n",
    "        \n",
    "        "
   ]
  },
  {
   "cell_type": "code",
   "execution_count": 37,
   "id": "488fb6d9",
   "metadata": {},
   "outputs": [],
   "source": [
    "# There are 12 * K different simulation settings. We need each parameter estimate at each setting\n",
    "# Create a matrix with temperatures and one with pressures\n",
    "T = np.linspace(663, 1077, 51)\n",
    "table_temperatures = np.repeat(np.matrix(T), 12, axis=1)\n",
    "temperatures = np.repeat(table_temperatures, total_delays.shape[0], axis=0)\n",
    "\n",
    "pressures = np.zeros(temperatures.shape)\n",
    "for i in range(pressures.shape[1]):\n",
    "    if int(i / 51) in [0, 3, 6, 9]:\n",
    "        pressures[:, i] = 10.0 * 101325.0\n",
    "    elif int(i / 51) in [1, 4, 7, 10]:\n",
    "        pressures[:, i] = 20.0 * 101325.0\n",
    "    elif int(i / 51) in [2, 5, 8, 11]:\n",
    "        pressures[:, i] = 30.0 * 101325.0"
   ]
  },
  {
   "cell_type": "code",
   "execution_count": 38,
   "id": "b306d7c2",
   "metadata": {},
   "outputs": [],
   "source": [
    "G_base = np.zeros((N, total_delays.shape[1]))\n",
    "G_perturbed = np.zeros((N, total_delays.shape[1]))\n",
    "\n",
    "\n",
    "# get base G values\n",
    "mod_gas = ct.Solution(cantera_file)\n",
    "for j in range(N):\n",
    "    for i in range(temperatures.shape[1]):\n",
    "    \n",
    "        T = temperatures[0, i]\n",
    "        base_gas.TPX = T, pressures[0, i], phi_dicts[int(i / 51)]\n",
    "        G_base[j, i] = base_gas.species()[j].thermo.h(T) - T * base_gas.species()[j].thermo.s(T)  # G = H - ST\n",
    "\n",
    "        \n",
    "# Get perturbed G values\n",
    "# we confirmed that species order is preserved even between base and perturbed gases\n",
    "mod_gas = ct.Solution(cantera_file)\n",
    "for j in range(N):\n",
    "#     print(j)\n",
    "    # change just the one reaction\n",
    "    mod_gas.modify_species(j, perturbed_gas.species()[j])\n",
    "    \n",
    "    for i in range(temperatures.shape[1]):\n",
    "    \n",
    "        T = temperatures[0, i]\n",
    "        mod_gas.TPX = T, pressures[0, i], phi_dicts[int(i / 51)]\n",
    "        G_perturbed[j, i] = mod_gas.species()[j].thermo.h(T) - T * mod_gas.species()[j].thermo.s(T)\n",
    "\n",
    "    mod_gas.modify_species(j, base_gas.species()[j])\n",
    "\n",
    "# In theory, delta G should be 10% G_base, but apparently it isn't...\n",
    "# G has units Enthalpy [J/kg or J/kmol] it's J / kmol\n",
    "delta_G = G_perturbed - G_base\n",
    "delta_G_kcal_mol = delta_G / 4.184 / 1000.0 / 1000.0  # needs to be kcal/mol to match Gao paper"
   ]
  },
  {
   "cell_type": "code",
   "execution_count": null,
   "id": "816c24d0",
   "metadata": {},
   "outputs": [],
   "source": []
  },
  {
   "cell_type": "code",
   "execution_count": null,
   "id": "7067e259",
   "metadata": {},
   "outputs": [],
   "source": []
  },
  {
   "cell_type": "code",
   "execution_count": 39,
   "id": "e5859dda",
   "metadata": {},
   "outputs": [],
   "source": [
    "# Now get reaction rate change d ln(k), but this was chosen to be 0.1\n",
    "delta_ln_k = 0.1 * np.ones((M, total_delays.shape[1]))"
   ]
  },
  {
   "cell_type": "code",
   "execution_count": 40,
   "id": "08492057",
   "metadata": {},
   "outputs": [],
   "source": [
    "# concatenate into a big delta matrix\n",
    "delta = np.concatenate((delta_G_kcal_mol, delta_ln_k), axis=0)"
   ]
  },
  {
   "cell_type": "code",
   "execution_count": 41,
   "id": "f867dfb6",
   "metadata": {},
   "outputs": [],
   "source": [
    "# first derivative is change in delay / change in G or change in delay / change in ln k\n",
    "first_derivative = np.divide(d_ln_tau, delta)\n",
    "first_derivative_squared = np.float_power(first_derivative, 2.0)"
   ]
  },
  {
   "cell_type": "code",
   "execution_count": null,
   "id": "63f39b79",
   "metadata": {},
   "outputs": [],
   "source": []
  },
  {
   "cell_type": "code",
   "execution_count": 42,
   "id": "6835d27f",
   "metadata": {},
   "outputs": [],
   "source": [
    "# compute the total ignition delay uncertainty\n",
    "total_id_uncertainty = np.ravel(np.nansum(np.multiply(first_derivative_squared, total_uncertainty_mat), axis=0))\n",
    "\n",
    "total_id_thermo_uncertainty = np.ravel(np.nansum(np.multiply(first_derivative_squared, total_uncertainty_mat)[0:, :], axis=0))\n",
    "total_id_kinetic_uncertainty = np.ravel(np.nansum(np.multiply(first_derivative_squared, total_uncertainty_mat)[130:, :], axis=0))"
   ]
  },
  {
   "cell_type": "code",
   "execution_count": null,
   "id": "b64739cb",
   "metadata": {},
   "outputs": [],
   "source": []
  },
  {
   "cell_type": "code",
   "execution_count": null,
   "id": "d5080c10",
   "metadata": {},
   "outputs": [],
   "source": []
  },
  {
   "cell_type": "markdown",
   "id": "5e97e3d6",
   "metadata": {},
   "source": [
    "### Plot the Uncertainty at that condition"
   ]
  },
  {
   "cell_type": "code",
   "execution_count": 46,
   "id": "f8e42575",
   "metadata": {},
   "outputs": [
    {
     "data": {
      "text/plain": [
       "<matplotlib.legend.Legend at 0x2ad0b36af4d0>"
      ]
     },
     "execution_count": 46,
     "metadata": {},
     "output_type": "execute_result"
    },
    {
     "data": {
      "image/png": "[encoded data removed]",
      "text/plain": [
       "<Figure size 432x288 with 1 Axes>"
      ]
     },
     "metadata": {
      "needs_background": "light"
     },
     "output_type": "display_data"
    }
   ],
   "source": [
    "# extract table 7\n",
    "table_index = 7\n",
    "\n",
    "colors = plt.rcParams['axes.prop_cycle'].by_key()['color']\n",
    "\n",
    "\n",
    "# Load the experimental conditions\n",
    "ignition_delay_data = '/work/westgroup/harris.se/autoscience/autoscience/butane/experimental_data/butane_ignition_delay.csv'\n",
    "# ignition_delay_data = '/home/moon/autoscience/autoscience/butane/experimental_data/butane_ignition_delay.csv'\n",
    "df_exp = pd.read_csv(ignition_delay_data)\n",
    "\n",
    "# slice just table 7, where phi=1.0\n",
    "table7 = df_exp[df_exp['Table'] == table_index]\n",
    "# Define Initial conditions using experimental data\n",
    "tau7 = table7['time (ms)'].values.astype(float)  # ignition delay\n",
    "T7 = table7['T_C'].values  # Temperatures\n",
    "P7 = table7['nominal pressure(atm)'].values * ct.one_atm  # pressures in atm\n",
    "\n",
    "\n",
    "# list of starting conditions\n",
    "# Mixture compositions taken from table 2 of\n",
    "# https://doi-org.ezproxy.neu.edu/10.1016/j.combustflame.2010.01.016\n",
    "concentrations = []\n",
    "# for phi = 1\n",
    "x_diluent = 0.7649\n",
    "conc_dict = {\n",
    "    'O2(2)': 0.2038,\n",
    "    'butane(1)': 0.03135\n",
    "}\n",
    "\n",
    "for i in range(0, len(table7)):\n",
    "    x_N2 = table7['%N2'].values[i] / 100.0 * x_diluent\n",
    "    x_Ar = table7['%Ar'].values[i] / 100.0 * x_diluent\n",
    "    x_CO2 = table7['%CO2'].values[i] / 100.0 * x_diluent\n",
    "    conc_dict['N2'] = x_N2\n",
    "    conc_dict['Ar'] = x_Ar\n",
    "    conc_dict['CO2(7)'] = x_CO2\n",
    "    concentrations.append(conc_dict)\n",
    "\n",
    "K = 51\n",
    "table7_uncertainty = total_id_uncertainty[(table_index - 1) * K: table_index * K]\n",
    "table7_thermo_uncertainty = total_id_thermo_uncertainty[(table_index - 1) * K: table_index * K]\n",
    "table7_kinetics_uncertainty = total_id_kinetic_uncertainty[(table_index - 1) * K: table_index * K]\n",
    "\n",
    "\n",
    "table7_delay_times = np.ravel(total_base_delays[0, (table_index - 1) * K: table_index*K])\n",
    "Tmax = 1077  # use min and max temperature range of the data: 663K-1077K\n",
    "Tmin = 663\n",
    "temperatures = np.linspace(Tmin, Tmax, K)\n",
    "\n",
    "upper_bound = np.exp(np.log(table7_delay_times) + table7_uncertainty)\n",
    "lower_bound = np.exp(np.log(table7_delay_times) - table7_uncertainty)\n",
    "\n",
    "\n",
    "upper_thermo_bound = np.exp(np.log(table7_delay_times) + table7_thermo_uncertainty)\n",
    "upper_kinetics_bound = np.exp(np.log(table7_delay_times) + table7_thermo_uncertainty + table7_kinetics_uncertainty)\n",
    "\n",
    "lower_thermo_bound = np.exp(np.log(table7_delay_times) - table7_thermo_uncertainty)\n",
    "lower_kinetics_bound = np.exp(np.log(table7_delay_times) - table7_thermo_uncertainty - table7_kinetics_uncertainty)\n",
    "\n",
    "# lower_bound = np.exp(np.log(table7_delay_times) - table7_uncertainty)\n",
    "\n",
    "\n",
    "# plot the ignition delay\n",
    "plt.plot(1000.0 / temperatures, table7_delay_times, linestyle='dashed')\n",
    "# plt.plot(1000.0 / T7, aramco7, marker='x')\n",
    "plt.scatter(1000.0 / T7, tau7 / 1000.0, color='black')\n",
    "\n",
    "plt.fill_between(1000.0 / temperatures, upper_thermo_bound, upper_kinetics_bound, alpha=0.75, color=colors[0], label='kinetics')\n",
    "plt.fill_between(1000.0 / temperatures, table7_delay_times, upper_thermo_bound, alpha=0.5, color=colors[0], label='thermo')\n",
    "\n",
    "plt.fill_between(1000.0 / temperatures, lower_kinetics_bound, lower_thermo_bound, alpha=0.75, color=colors[0])\n",
    "plt.fill_between(1000.0 / temperatures, lower_thermo_bound, table7_delay_times, alpha=0.5, color=colors[0])\n",
    "\n",
    "\n",
    "# plt.fill_between(1000.0 / temperatures, lower_thermo_bound, table7_delay_times, alpha=0.5)\n",
    "# plt.fill_between(1000.0 / temperatures, table7_thermo_uncertainty, , alpha=0.75)\n",
    "\n",
    "\n",
    "# plt.plot(1000.0 / temperatures, lower_bound, linestyle='dashed', color='blue')\n",
    "# plt.plot(1000.0 / temperatures, upper_bound, linestyle='dashed', color='blue')\n",
    "ax = plt.gca()\n",
    "plt.ylim([10**-8, 10**6])\n",
    "ax.set_yscale('log')\n",
    "# plt.legend(['Base RMG 1week', 'Aramco', 'Experiment'])\n",
    "plt.title(r'Ignition Delay Uncertainty $\\phi=1.0$, P=10atm')\n",
    "plt.xlabel('1000K / T')\n",
    "plt.ylabel('Delay (s)')\n",
    "plt.savefig('table7.png')\n",
    "\n",
    "plt.legend(bbox_to_anchor=(1, 1), ncol=1)\n",
    "\n"
   ]
  },
  {
   "cell_type": "code",
   "execution_count": null,
   "id": "6249fc56",
   "metadata": {},
   "outputs": [],
   "source": [
    "ax.get_ylim()"
   ]
  },
  {
   "cell_type": "code",
   "execution_count": null,
   "id": "77fc2d65",
   "metadata": {},
   "outputs": [],
   "source": []
  },
  {
   "cell_type": "code",
   "execution_count": null,
   "id": "72e8ad2e",
   "metadata": {},
   "outputs": [],
   "source": []
  },
  {
   "cell_type": "code",
   "execution_count": null,
   "id": "fff4763e",
   "metadata": {},
   "outputs": [],
   "source": []
  },
  {
   "cell_type": "code",
   "execution_count": null,
   "id": "f0da7c14",
   "metadata": {},
   "outputs": [],
   "source": []
  },
  {
   "cell_type": "code",
   "execution_count": null,
   "id": "e6edf0eb",
   "metadata": {},
   "outputs": [],
   "source": []
  },
  {
   "cell_type": "code",
   "execution_count": null,
   "id": "220e2a9d",
   "metadata": {},
   "outputs": [],
   "source": []
  },
  {
   "cell_type": "code",
   "execution_count": null,
   "id": "8b5068cd",
   "metadata": {},
   "outputs": [],
   "source": []
  }
 ],
 "metadata": {
  "kernelspec": {
   "display_name": "Python 3 (ipykernel)",
   "language": "python",
   "name": "python3"
  },
  "language_info": {
   "codemirror_mode": {
    "name": "ipython",
    "version": 3
   },
   "file_extension": ".py",
   "mimetype": "text/x-python",
   "name": "python",
   "nbconvert_exporter": "python",
   "pygments_lexer": "ipython3",
   "version": "3.7.12"
  }
 },
 "nbformat": 4,
 "nbformat_minor": 5
}

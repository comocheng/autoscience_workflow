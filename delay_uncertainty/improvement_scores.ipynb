{
 "cells": [
  {
   "cell_type": "code",
   "execution_count": 1,
   "id": "6fdc7963",
   "metadata": {},
   "outputs": [
    {
     "name": "stderr",
     "output_type": "stream",
     "text": [
      "WARNING:root:Optional package dependency \"xlwt\" not loaded. Some output features will not work.\n"
     ]
    },
    {
     "data": {
      "text/plain": [
       "<module 'thermokinetic_fun' from '/work/westgroup/harris.se/autoscience/reaction_calculator/dft/thermokinetic_fun.py'>"
      ]
     },
     "execution_count": 1,
     "metadata": {},
     "output_type": "execute_result"
    }
   ],
   "source": [
    "# script to save the rankings for the mechanism\n",
    "import os\n",
    "import sys\n",
    "import copy\n",
    "import pickle\n",
    "import pandas as pd\n",
    "\n",
    "import numpy as np\n",
    "import rmgpy.chemkin\n",
    "import cantera as ct\n",
    "\n",
    "import matplotlib.pyplot as plt\n",
    "%matplotlib inline\n",
    "\n",
    "sys.path.append('/work/westgroup/harris.se/autoscience/reaction_calculator/dft')\n",
    "import importlib\n",
    "import thermokinetic_fun\n",
    "importlib.reload(thermokinetic_fun)"
   ]
  },
  {
   "cell_type": "markdown",
   "id": "81da5b91",
   "metadata": {},
   "source": [
    "## Load the model for reaction and species descriptions"
   ]
  },
  {
   "cell_type": "code",
   "execution_count": 2,
   "id": "516447f5",
   "metadata": {},
   "outputs": [
    {
     "name": "stdout",
     "output_type": "stream",
     "text": [
      "CanteraWarning: NasaPoly2::validate: \n",
      "For species Ar, discontinuity in h/RT detected at Tmid = 4762.74\n",
      "\tValue computed using low-temperature polynomial:  2.327935178063383\n",
      "\tValue computed using high-temperature polynomial: 2.320328165487312\n",
      "\n",
      "CanteraWarning: NasaPoly2::validate: \n",
      "For species He, discontinuity in h/RT detected at Tmid = 4762.74\n",
      "\tValue computed using low-temperature polynomial:  2.327935178063383\n",
      "\tValue computed using high-temperature polynomial: 2.320328165487312\n",
      "\n",
      "CanteraWarning: NasaPoly2::validate: \n",
      "For species butane(1), discontinuity in h/RT detected at Tmid = 1389.0\n",
      "\tValue computed using low-temperature polynomial:  6.672352745666894\n",
      "\tValue computed using high-temperature polynomial: 6.314788936675075\n",
      "\n",
      "CanteraWarning: NasaPoly2::validate: \n",
      "For species CH(3), discontinuity in h/RT detected at Tmid = 1000.0\n",
      "\tValue computed using low-temperature polynomial:  81.27192833333334\n",
      "\tValue computed using high-temperature polynomial: 81.30542726833333\n",
      "\n",
      "CanteraWarning: NasaPoly2::validate: \n",
      "For species C2H(4), discontinuity in h/RT detected at Tmid = 1000.0\n",
      "\tValue computed using low-temperature polynomial:  79.04515833333333\n",
      "\tValue computed using high-temperature polynomial: 79.05585607666667\n",
      "\n",
      "CanteraWarning: NasaPoly2::validate: \n",
      "For species O(5), discontinuity in h/RT detected at Tmid = 4762.74\n",
      "\tValue computed using low-temperature polynomial:  9.250188712793392\n",
      "\tValue computed using high-temperature polynomial: 9.24258167502174\n",
      "\n",
      "CanteraWarning: NasaPoly2::validate: \n",
      "For species CO2(7), discontinuity in h/RT detected at Tmid = 988.19\n",
      "\tValue computed using low-temperature polynomial:  -48.81168675008343\n",
      "\tValue computed using high-temperature polynomial: -48.863338094208956\n",
      "\n",
      "CanteraWarning: NasaPoly2::validate: \n",
      "For species H2O(8), discontinuity in h/RT detected at Tmid = 1281.44\n",
      "\tValue computed using low-temperature polynomial:  -21.48551924441768\n",
      "\tValue computed using high-temperature polynomial: -21.469454858144566\n",
      "\n",
      "CanteraWarning: NasaPoly2::validate: \n",
      "For species CH2O(9), discontinuity in h/RT detected at Tmid = 1000.0\n",
      "\tValue computed using low-temperature polynomial:  -10.383563333333333\n",
      "\tValue computed using high-temperature polynomial: -10.400530646666667\n",
      "\n",
      "CanteraWarning: NasaPoly2::validate: \n",
      "For species CH4(10), discontinuity in h/RT detected at Tmid = 1084.13\n",
      "\tValue computed using low-temperature polynomial:  -4.328518040484866\n",
      "\tValue computed using high-temperature polynomial: -4.287751752549633\n",
      "\n",
      "CanteraWarning: NasaPoly2::validate: \n",
      "For species C2H4(11), discontinuity in h/RT detected at Tmid = 1000.0\n",
      "\tValue computed using low-temperature polynomial:  12.913683000000002\n",
      "\tValue computed using high-temperature polynomial: 12.8315704\n",
      "\n",
      "CanteraWarning: NasaPoly2::validate: \n",
      "For species C3H6(12), discontinuity in h/RT detected at Tmid = 1000.0\n",
      "\tValue computed using low-temperature polynomial:  11.806422033333336\n",
      "\tValue computed using high-temperature polynomial: 11.653389023333334\n",
      "\n",
      "CanteraWarning: NasaPoly2::validate: \n",
      "For species H2(13), discontinuity in h/RT detected at Tmid = 1962.85\n",
      "\tValue computed using low-temperature polynomial:  3.1240344352550977\n",
      "\tValue computed using high-temperature polynomial: 3.148374395598836\n",
      "\n",
      "CanteraWarning: NasaPoly2::validate: \n",
      "For species H(14), discontinuity in h/RT detected at Tmid = 4762.74\n",
      "\tValue computed using low-temperature polynomial:  8.383163659987654\n",
      "\tValue computed using high-temperature polynomial: 8.375556664208636\n",
      "\n",
      "CanteraWarning: NasaPoly2::validate: \n",
      "For species OH(15), discontinuity in h/RT detected at Tmid = 1005.26\n",
      "\tValue computed using low-temperature polynomial:  7.318409553332369\n",
      "\tValue computed using high-temperature polynomial: 7.344035984911466\n",
      "\n",
      "CanteraWarning: NasaPoly2::validate: \n",
      "For species HO2(16), discontinuity in h/RT detected at Tmid = 923.9\n",
      "\tValue computed using low-temperature polynomial:  5.054338932386747\n",
      "\tValue computed using high-temperature polynomial: 5.028444092245818\n",
      "\n",
      "CanteraWarning: NasaPoly2::validate: \n",
      "For species H2O2(17), discontinuity in h/RT detected at Tmid = 923.27\n",
      "\tValue computed using low-temperature polynomial:  -15.21570147838085\n",
      "\tValue computed using high-temperature polynomial: -15.26188489160868\n",
      "\n",
      "CanteraWarning: NasaPoly2::validate: \n",
      "For species CH3(18), discontinuity in h/RT detected at Tmid = 1000.0\n",
      "\tValue computed using low-temperature polynomial:  23.443530333333335\n",
      "\tValue computed using high-temperature polynomial: 23.452209353333334\n",
      "\n",
      "CanteraWarning: NasaPoly2::validate: \n",
      "For species HCO(19), discontinuity in h/RT detected at Tmid = 1000.0\n",
      "\tValue computed using low-temperature polynomial:  9.023324666666666\n",
      "\tValue computed using high-temperature polynomial: 9.001436404000001\n",
      "\n",
      "CanteraWarning: NasaPoly2::validate: \n",
      "For species CH3CO(20), discontinuity in h/RT detected at Tmid = 1000.0\n",
      "\tValue computed using low-temperature polynomial:  5.008387166666665\n",
      "\tValue computed using high-temperature polynomial: 4.912097603333335\n",
      "\n",
      "CanteraWarning: NasaPoly2::validate: \n",
      "For species CH2CHO(21), discontinuity in h/RT detected at Tmid = 1000.0\n",
      "\tValue computed using low-temperature polynomial:  8.384221799999999\n",
      "\tValue computed using high-temperature polynomial: 8.25751715\n",
      "\n",
      "CanteraWarning: NasaPoly2::validate: \n",
      "For species C2H3(22), discontinuity in h/RT detected at Tmid = 1000.0\n",
      "\tValue computed using low-temperature polynomial:  44.446988\n",
      "\tValue computed using high-temperature polynomial: 44.38506034\n",
      "\n",
      "CanteraWarning: NasaPoly2::validate: \n",
      "For species CH2(23), discontinuity in h/RT detected at Tmid = 1104.64\n",
      "\tValue computed using low-temperature polynomial:  50.2879563464048\n",
      "\tValue computed using high-temperature polynomial: 50.305198108427334\n",
      "\n",
      "CanteraWarning: NasaPoly2::validate: \n",
      "For species CH2CO(24), discontinuity in h/RT detected at Tmid = 1000.0\n",
      "\tValue computed using low-temperature polynomial:  -0.5327489999999999\n",
      "\tValue computed using high-temperature polynomial: -0.6264529533333327\n",
      "\n",
      "CanteraWarning: NasaPoly2::validate: \n",
      "For species C2H2(25), discontinuity in h/RT detected at Tmid = 1000.0\n",
      "\tValue computed using low-temperature polynomial:  35.02598833333334\n",
      "\tValue computed using high-temperature polynomial: 34.958979963333334\n",
      "\n",
      "CanteraWarning: NasaPoly2::validate: \n",
      "For species HCCO(27), discontinuity in h/RT detected at Tmid = 1000.0\n",
      "\tValue computed using low-temperature polynomial:  28.763225000000002\n",
      "\tValue computed using high-temperature polynomial: 28.682793710000002\n",
      "\n",
      "CanteraWarning: NasaPoly2::validate: \n",
      "For species CH3OH(30), discontinuity in h/RT detected at Tmid = 1000.0\n",
      "\tValue computed using low-temperature polynomial:  -20.950005\n",
      "\tValue computed using high-temperature polynomial: -20.98909499333333\n",
      "\n",
      "CanteraWarning: NasaPoly2::validate: \n",
      "For species CH3O(31), discontinuity in h/RT detected at Tmid = 1000.0\n",
      "\tValue computed using low-temperature polynomial:  8.191424999999997\n",
      "\tValue computed using high-temperature polynomial: 8.099658543333334\n",
      "\n",
      "CanteraWarning: NasaPoly2::validate: \n",
      "For species C2H6(32), discontinuity in h/RT detected at Tmid = 1000.0\n",
      "\tValue computed using low-temperature polynomial:  -3.490428333333334\n",
      "\tValue computed using high-temperature polynomial: -3.582889943333331\n",
      "\n",
      "CanteraWarning: NasaPoly2::validate: \n",
      "For species C2H5(33), discontinuity in h/RT detected at Tmid = 1000.0\n",
      "\tValue computed using low-temperature polynomial:  22.69321\n",
      "\tValue computed using high-temperature polynomial: 22.613907966666666\n",
      "\n",
      "CanteraWarning: NasaPoly2::validate: \n",
      "For species CH2OH(34), discontinuity in h/RT detected at Tmid = 1000.0\n",
      "\tValue computed using low-temperature polynomial:  3.0714353333333326\n",
      "\tValue computed using high-temperature polynomial: 3.018101146666667\n",
      "\n",
      "CanteraWarning: NasaPoly2::validate: \n",
      "For species CH3CHO(35), discontinuity in h/RT detected at Tmid = 1000.0\n",
      "\tValue computed using low-temperature polynomial:  -14.730838333333335\n",
      "\tValue computed using high-temperature polynomial: -14.832785729999998\n",
      "\n",
      "CanteraWarning: NasaPoly2::validate: \n",
      "For species OCHO(38), discontinuity in h/RT detected at Tmid = 1000.0\n",
      "\tValue computed using low-temperature polynomial:  -12.592659999999999\n",
      "\tValue computed using high-temperature polynomial: -12.618612529999998\n",
      "\n",
      "CanteraWarning: NasaPoly2::validate: \n",
      "For species HOCHO(40), discontinuity in h/RT detected at Tmid = 1000.0\n",
      "\tValue computed using low-temperature polynomial:  -45.02946333333334\n",
      "\tValue computed using high-temperature polynomial: -45.10382474\n",
      "\n",
      "CanteraWarning: NasaPoly2::validate: \n",
      "For species CH3O2(45), discontinuity in h/RT detected at Tmid = 1000.0\n",
      "\tValue computed using low-temperature polynomial:  8.111874133333332\n",
      "\tValue computed using high-temperature polynomial: 8.021216153333334\n",
      "\n",
      "CanteraWarning: NasaPoly2::validate: \n",
      "For species CH3O2H(46), discontinuity in h/RT detected at Tmid = 1000.0\n",
      "\tValue computed using low-temperature polynomial:  -8.795791666666666\n",
      "\tValue computed using high-temperature polynomial: -8.936623946666666\n",
      "\n",
      "CanteraWarning: NasaPoly2::validate: \n",
      "For species C2H5O2(47), discontinuity in h/RT detected at Tmid = 1389.0\n",
      "\tValue computed using low-temperature polynomial:  9.956664416545813\n",
      "\tValue computed using high-temperature polynomial: 9.792960641216094\n",
      "\n",
      "CanteraWarning: NasaPoly2::validate: \n",
      "For species C2H6O2(48), discontinuity in h/RT detected at Tmid = 1390.0\n",
      "\tValue computed using low-temperature polynomial:  -1.9677150508723127\n",
      "\tValue computed using high-temperature polynomial: -2.1890157436045534\n",
      "\n",
      "CanteraWarning: NasaPoly2::validate: \n",
      "For species C2H5O(49), discontinuity in h/RT detected at Tmid = 1000.0\n",
      "\tValue computed using low-temperature polynomial:  7.009500333333333\n",
      "\tValue computed using high-temperature polynomial: 6.85734259\n",
      "\n",
      "CanteraWarning: NasaPoly2::validate: \n",
      "For species C2H4O(51), discontinuity in h/RT detected at Tmid = 1000.0\n",
      "\tValue computed using low-temperature polynomial:  0.29742900000000283\n",
      "\tValue computed using high-temperature polynomial: 0.13550459666666725\n",
      "\n",
      "CanteraWarning: NasaPoly2::validate: \n",
      "For species C2H3O3(56), discontinuity in h/RT detected at Tmid = 1393.0\n",
      "\tValue computed using low-temperature polynomial:  3.7899779742663924\n",
      "\tValue computed using high-temperature polynomial: 3.520789894450971\n",
      "\n",
      "CanteraWarning: NasaPoly2::validate: \n",
      "For species C2H3OH(58), discontinuity in h/RT detected at Tmid = 1000.0\n",
      "\tValue computed using low-temperature polynomial:  -8.205599999999997\n",
      "\tValue computed using high-temperature polynomial: -8.36831598\n",
      "\n",
      "CanteraWarning: NasaPoly2::validate: \n",
      "For species C2H5O(59), discontinuity in h/RT detected at Tmid = 1000.0\n",
      "\tValue computed using low-temperature polynomial:  5.123647333333332\n",
      "\tValue computed using high-temperature polynomial: 4.9989943000000014\n",
      "\n",
      "CanteraWarning: NasaPoly2::validate: \n",
      "For species C3H5O(70), discontinuity in h/RT detected at Tmid = 1387.0\n",
      "\tValue computed using low-temperature polynomial:  9.219093596101636\n",
      "\tValue computed using high-temperature polynomial: 8.962461883053502\n",
      "\n",
      "CanteraWarning: NasaPoly2::validate: \n",
      "For species C3H5O2(71), discontinuity in h/RT detected at Tmid = 2002.0\n",
      "\tValue computed using low-temperature polynomial:  8.187178580374875\n",
      "\tValue computed using high-temperature polynomial: 8.084778460239907\n",
      "\n",
      "CanteraWarning: NasaPoly2::validate: \n",
      "For species C3H5O3(72), discontinuity in h/RT detected at Tmid = 1397.0\n",
      "\tValue computed using low-temperature polynomial:  3.272931145378653\n",
      "\tValue computed using high-temperature polynomial: 2.9200098853793683\n",
      "\n",
      "CanteraWarning: NasaPoly2::validate: \n",
      "For species C3H6O3(73), discontinuity in h/RT detected at Tmid = 1394.0\n",
      "\tValue computed using low-temperature polynomial:  -8.67353284198541\n",
      "\tValue computed using high-temperature polynomial: -9.085479570819444\n",
      "\n",
      "CanteraWarning: NasaPoly2::validate: \n",
      "For species C3H4O(74), discontinuity in h/RT detected at Tmid = 1398.0\n",
      "\tValue computed using low-temperature polynomial:  5.391775338342228\n",
      "\tValue computed using high-temperature polynomial: 5.166673212293162\n",
      "\n",
      "CanteraWarning: NasaPoly2::validate: \n",
      "For species C2H3CO(75), discontinuity in h/RT detected at Tmid = 1395.0\n",
      "\tValue computed using low-temperature polynomial:  19.460791329784076\n",
      "\tValue computed using high-temperature polynomial: 19.28388383801058\n",
      "\n",
      "CanteraWarning: NasaPoly2::validate: \n",
      "For species NC3H7(92), discontinuity in h/RT detected at Tmid = 1000.0\n",
      "\tValue computed using low-temperature polynomial:  23.417806666666664\n",
      "\tValue computed using high-temperature polynomial: 23.263033916666664\n",
      "\n",
      "CanteraWarning: NasaPoly2::validate: \n",
      "For species IC3H7(93), discontinuity in h/RT detected at Tmid = 1000.0\n",
      "\tValue computed using low-temperature polynomial:  21.500540666666666\n",
      "\tValue computed using high-temperature polynomial: 21.374371633333332\n",
      "\n",
      "CanteraWarning: NasaPoly2::validate: \n",
      "For species C3H5-A(94), discontinuity in h/RT detected at Tmid = 1000.0\n",
      "\tValue computed using low-temperature polynomial:  31.43636\n",
      "\tValue computed using high-temperature polynomial: 31.26000722\n",
      "\n",
      "CanteraWarning: NasaPoly2::validate: \n",
      "For species C3H7O2(95), discontinuity in h/RT detected at Tmid = 1500.0\n",
      "\tValue computed using low-temperature polynomial:  13.307205900000001\n",
      "\tValue computed using high-temperature polynomial: 13.05135629416667\n",
      "\n",
      "CanteraWarning: NasaPoly2::validate: \n",
      "For species C3H7O2(97), discontinuity in h/RT detected at Tmid = 1395.0\n",
      "\tValue computed using low-temperature polynomial:  11.123959329025492\n",
      "\tValue computed using high-temperature polynomial: 10.866704018788038\n",
      "\n",
      "CanteraWarning: NasaPoly2::validate: \n",
      "For species S(114), discontinuity in h/RT detected at Tmid = 1401.0\n",
      "\tValue computed using low-temperature polynomial:  18.599648882074487\n",
      "\tValue computed using high-temperature polynomial: 18.32199142705088\n",
      "\n",
      "CanteraWarning: NasaPoly2::validate: \n",
      "For species C3H5O(129), discontinuity in h/RT detected at Tmid = 1402.0\n",
      "\tValue computed using low-temperature polynomial:  22.257315623000014\n",
      "\tValue computed using high-temperature polynomial: 22.031817683352937\n",
      "\n",
      "CanteraWarning: NasaPoly2::validate: \n",
      "For species C3H5O(131), discontinuity in h/RT detected at Tmid = 1000.0\n",
      "\tValue computed using low-temperature polynomial:  23.053309999999996\n",
      "\tValue computed using high-temperature polynomial: 22.76462889333333\n",
      "\n",
      "CanteraWarning: NasaPoly2::validate: \n",
      "For species C3H6O(133), discontinuity in h/RT detected at Tmid = 1000.0\n",
      "\tValue computed using low-temperature polynomial:  -5.534568333333336\n",
      "\tValue computed using high-temperature polynomial: -5.77535086\n",
      "\n",
      "CanteraWarning: NasaPoly2::validate: \n",
      "For species C3H6O(135), discontinuity in h/RT detected at Tmid = 1404.0\n",
      "\tValue computed using low-temperature polynomial:  -0.5857604306726305\n",
      "\tValue computed using high-temperature polynomial: -0.8292481095402593\n",
      "\n",
      "CanteraWarning: NasaPoly2::validate: \n",
      "For species PC4H9(182), discontinuity in h/RT detected at Tmid = 1393.0\n",
      "\tValue computed using low-temperature polynomial:  24.95679940040779\n",
      "\tValue computed using high-temperature polynomial: 24.65226357006366\n",
      "\n",
      "CanteraWarning: NasaPoly2::validate: \n",
      "For species SC4H9(183), discontinuity in h/RT detected at Tmid = 1388.0\n",
      "\tValue computed using low-temperature polynomial:  23.34886835034715\n",
      "\tValue computed using high-temperature polynomial: 23.044741912998468\n",
      "\n",
      "CanteraWarning: NasaPoly2::validate: \n",
      "For species S(184), discontinuity in h/RT detected at Tmid = 1663.0\n",
      "\tValue computed using low-temperature polynomial:  17.851566210440517\n",
      "\tValue computed using high-temperature polynomial: 17.584191169927927\n",
      "\n",
      "CanteraWarning: NasaPoly2::validate: \n",
      "For species S(186), discontinuity in h/RT detected at Tmid = 1408.0\n",
      "\tValue computed using low-temperature polynomial:  13.515012643256144\n",
      "\tValue computed using high-temperature polynomial: 13.163843872551094\n",
      "\n",
      "CanteraWarning: NasaPoly2::validate: \n",
      "For species S(187), discontinuity in h/RT detected at Tmid = 1395.0\n",
      "\tValue computed using low-temperature polynomial:  1.4212892580873273\n",
      "\tValue computed using high-temperature polynomial: 0.9951476996714952\n",
      "\n",
      "CanteraWarning: NasaPoly2::validate: \n",
      "For species C4H8(188), discontinuity in h/RT detected at Tmid = 1000.0\n",
      "\tValue computed using low-temperature polynomial:  12.252685333333337\n",
      "\tValue computed using high-temperature polynomial: 12.045557840000003\n",
      "\n",
      "CanteraWarning: NasaPoly2::validate: \n",
      "For species C4H8(189), discontinuity in h/RT detected at Tmid = 1000.0\n",
      "\tValue computed using low-temperature polynomial:  10.868457000000001\n",
      "\tValue computed using high-temperature polynomial: 10.67697629333333\n",
      "\n",
      "CanteraWarning: NasaPoly2::validate: \n",
      "For species C4H7(190), discontinuity in h/RT detected at Tmid = 1000.0\n",
      "\tValue computed using low-temperature polynomial:  29.531616666666665\n",
      "\tValue computed using high-temperature polynomial: 29.321484153333333\n",
      "\n",
      "CanteraWarning: NasaPoly2::validate: \n",
      "For species C4H7(191), discontinuity in h/RT detected at Tmid = 1000.0\n",
      "\tValue computed using low-temperature polynomial:  38.76338666666667\n",
      "\tValue computed using high-temperature polynomial: 38.56380912666667\n",
      "\n",
      "CanteraWarning: NasaPoly2::validate: \n",
      "For species C4H7(192), discontinuity in h/RT detected at Tmid = 1000.0\n",
      "\tValue computed using low-temperature polynomial:  44.01855833333333\n",
      "\tValue computed using high-temperature polynomial: 43.824158113333326\n",
      "\n",
      "CanteraWarning: NasaPoly2::validate: \n",
      "For species C4H6(194), discontinuity in h/RT detected at Tmid = 1000.0\n",
      "\tValue computed using low-temperature polynomial:  25.516044833333332\n",
      "\tValue computed using high-temperature polynomial: 25.249191016666668\n",
      "\n",
      "CanteraWarning: NasaPoly2::validate: \n",
      "For species C4H9O(198), discontinuity in h/RT detected at Tmid = 1392.0\n",
      "\tValue computed using low-temperature polynomial:  9.930607109940214\n",
      "\tValue computed using high-temperature polynomial: 9.54987024700578\n",
      "\n",
      "CanteraWarning: NasaPoly2::validate: \n",
      "For species S(200), discontinuity in h/RT detected at Tmid = 1399.0\n",
      "\tValue computed using low-temperature polynomial:  -0.5330225093028069\n",
      "\tValue computed using high-temperature polynomial: -0.9176177950578328\n",
      "\n",
      "CanteraWarning: NasaPoly2::validate: \n",
      "For species C4H7O(202), discontinuity in h/RT detected at Tmid = 1395.0\n",
      "\tValue computed using low-temperature polynomial:  22.488181349087316\n",
      "\tValue computed using high-temperature polynomial: 22.08819255065596\n",
      "\n",
      "CanteraWarning: NasaPoly2::validate: \n",
      "For species C4H8O(214), discontinuity in h/RT detected at Tmid = 1371.0\n",
      "\tValue computed using low-temperature polynomial:  6.69776039237299\n",
      "\tValue computed using high-temperature polynomial: 6.207492166569214\n",
      "\n",
      "CanteraWarning: NasaPoly2::validate: \n",
      "For species C4H9O(217), discontinuity in h/RT detected at Tmid = 1679.0\n",
      "\tValue computed using low-temperature polynomial:  15.845287841065236\n",
      "\tValue computed using high-temperature polynomial: 15.554039754599852\n",
      "\n",
      "CanteraWarning: NasaPoly2::validate: \n",
      "For species S(219), discontinuity in h/RT detected at Tmid = 1407.0\n",
      "\tValue computed using low-temperature polynomial:  19.962680157585844\n",
      "\tValue computed using high-temperature polynomial: 19.609072441877707\n",
      "\n",
      "CanteraWarning: NasaPoly2::validate: \n",
      "For species S(220), discontinuity in h/RT detected at Tmid = 1400.0\n",
      "\tValue computed using low-temperature polynomial:  21.28622322316191\n",
      "\tValue computed using high-temperature polynomial: 20.858103807311238\n",
      "\n",
      "CanteraWarning: NasaPoly2::validate: \n",
      "For species S(223), discontinuity in h/RT detected at Tmid = 1399.0\n",
      "\tValue computed using low-temperature polynomial:  19.65129274316229\n",
      "\tValue computed using high-temperature polynomial: 19.278899922409394\n",
      "\n",
      "CanteraWarning: NasaPoly2::validate: \n",
      "For species S(225), discontinuity in h/RT detected at Tmid = 1403.0\n",
      "\tValue computed using low-temperature polynomial:  9.470514232948183\n",
      "\tValue computed using high-temperature polynomial: 9.056941976712583\n",
      "\n",
      "CanteraWarning: NasaPoly2::validate: \n",
      "For species S(229), discontinuity in h/RT detected at Tmid = 1407.0\n",
      "\tValue computed using low-temperature polynomial:  9.55743639705306\n",
      "\tValue computed using high-temperature polynomial: 9.177944929288447\n",
      "\n",
      "CanteraWarning: NasaPoly2::validate: \n",
      "For species S(238), discontinuity in h/RT detected at Tmid = 1403.0\n",
      "\tValue computed using low-temperature polynomial:  13.81931415572628\n",
      "\tValue computed using high-temperature polynomial: 13.44134622351363\n",
      "\n",
      "CanteraWarning: NasaPoly2::validate: \n",
      "For species S(244), discontinuity in h/RT detected at Tmid = 1399.0\n",
      "\tValue computed using low-temperature polynomial:  12.458924594222363\n",
      "\tValue computed using high-temperature polynomial: 12.108358189784038\n",
      "\n",
      "CanteraWarning: NasaPoly2::validate: \n",
      "For species S(252), discontinuity in h/RT detected at Tmid = 1359.0\n",
      "\tValue computed using low-temperature polynomial:  -7.815297339834061\n",
      "\tValue computed using high-temperature polynomial: -8.281838236490088\n",
      "\n",
      "CanteraWarning: NasaPoly2::validate: \n",
      "For species S(256), discontinuity in h/RT detected at Tmid = 1683.0\n",
      "\tValue computed using low-temperature polynomial:  -0.6342914934635395\n",
      "\tValue computed using high-temperature polynomial: -0.9181948384272367\n",
      "\n",
      "CanteraWarning: NasaPoly2::validate: \n",
      "For species C2H4(687), discontinuity in h/RT detected at Tmid = 846.11\n",
      "\tValue computed using low-temperature polynomial:  63.294497228843966\n",
      "\tValue computed using high-temperature polynomial: 63.335223636981084\n",
      "\n",
      "CanteraWarning: NasaPoly2::validate: \n",
      "For species C3H6(688), discontinuity in h/RT detected at Tmid = 1060.58\n",
      "\tValue computed using low-temperature polynomial:  47.7758958286667\n",
      "\tValue computed using high-temperature polynomial: 47.65412148067001\n",
      "\n",
      "CanteraWarning: NasaPoly2::validate: \n",
      "For species C3H6(689), discontinuity in h/RT detected at Tmid = 1330.24\n",
      "\tValue computed using low-temperature polynomial:  44.56449585321344\n",
      "\tValue computed using high-temperature polynomial: 44.476692613442786\n",
      "\n",
      "CanteraWarning: NasaPoly2::validate: \n",
      "For species C2H4O(703), discontinuity in h/RT detected at Tmid = 1490.84\n",
      "\tValue computed using low-temperature polynomial:  27.756262015058944\n",
      "\tValue computed using high-temperature polynomial: 27.67366421548941\n",
      "\n",
      "CanteraWarning: NasaPoly2::validate: \n",
      "For species C4H8(748), discontinuity in h/RT detected at Tmid = 1631.52\n",
      "\tValue computed using low-temperature polynomial:  39.681884343387225\n",
      "\tValue computed using high-temperature polynomial: 39.52428790964481\n",
      "\n",
      "CanteraWarning: NasaPoly2::validate: \n",
      "For species C4H8O(766), discontinuity in h/RT detected at Tmid = 1580.38\n",
      "\tValue computed using low-temperature polynomial:  31.315277047362677\n",
      "\tValue computed using high-temperature polynomial: 31.14896494237405\n",
      "\n",
      "CanteraWarning: NasaPoly2::validate: \n",
      "For species C4H8(776), discontinuity in h/RT detected at Tmid = 1802.42\n",
      "\tValue computed using low-temperature polynomial:  42.08540920998283\n",
      "\tValue computed using high-temperature polynomial: 41.87709204313105\n",
      "\n",
      "CanteraWarning: NasaPoly2::validate: \n",
      "For species S(777), discontinuity in h/RT detected at Tmid = 473.59\n",
      "\tValue computed using low-temperature polynomial:  -36.06276179207745\n",
      "\tValue computed using high-temperature polynomial: -36.190312439188155\n",
      "\n",
      "CanteraWarning: NasaPoly2::validate: \n",
      "For species S(787), discontinuity in h/RT detected at Tmid = 949.21\n",
      "\tValue computed using low-temperature polynomial:  -21.482586140525967\n",
      "\tValue computed using high-temperature polynomial: -21.715196799213427\n",
      "\n",
      "CanteraWarning: NasaPoly2::validate: \n",
      "For species S(818), discontinuity in h/RT detected at Tmid = 2776.19\n",
      "\tValue computed using low-temperature polynomial:  15.962698779131733\n",
      "\tValue computed using high-temperature polynomial: 15.107315456200137\n",
      "\n",
      "CanteraWarning: NasaPoly2::validate: \n",
      "For species S(911), discontinuity in h/RT detected at Tmid = 1021.7\n",
      "\tValue computed using low-temperature polynomial:  0.9270732549084677\n",
      "\tValue computed using high-temperature polynomial: 0.5221455310633942\n",
      "\n",
      "CanteraWarning: NasaPoly2::validate: \n",
      "For species S(917), discontinuity in h/RT detected at Tmid = 966.61\n",
      "\tValue computed using low-temperature polynomial:  -11.59026830709482\n",
      "\tValue computed using high-temperature polynomial: -11.950774724817972\n",
      "\n",
      "CanteraWarning: NasaPoly2::validate: \n",
      "For species S(920), discontinuity in h/RT detected at Tmid = 490.8\n",
      "\tValue computed using low-temperature polynomial:  9.319163463626161\n",
      "\tValue computed using high-temperature polynomial: 9.266049603814675\n",
      "\n",
      "CanteraWarning: NasaPoly2::validate: \n",
      "For species S(928), discontinuity in h/RT detected at Tmid = 1010.6\n",
      "\tValue computed using low-temperature polynomial:  -8.191465136868693\n",
      "\tValue computed using high-temperature polynomial: -8.674314933249558\n",
      "\n",
      "CanteraWarning: NasaPoly2::validate: \n",
      "For species CH2O2(988), discontinuity in h/RT detected at Tmid = 1894.85\n",
      "\tValue computed using low-temperature polynomial:  12.77012874125414\n",
      "\tValue computed using high-temperature polynomial: 12.521132520861446\n",
      "\n",
      "CanteraWarning: NasaPoly2::validate: \n",
      "For species S(993), discontinuity in h/RT detected at Tmid = 877.57\n",
      "\tValue computed using low-temperature polynomial:  9.181025326123844\n",
      "\tValue computed using high-temperature polynomial: 9.27112304814764\n",
      "\n",
      "CanteraWarning: NasaPoly2::validate: \n",
      "For species C4H6(2530), discontinuity in h/RT detected at Tmid = 950.25\n",
      "\tValue computed using low-temperature polynomial:  31.91088029603698\n",
      "\tValue computed using high-temperature polynomial: 31.586948841102565\n",
      "\n",
      "CanteraWarning: NasaPoly2::validate: \n",
      "For species C4H6(2534), discontinuity in h/RT detected at Tmid = 999.35\n",
      "\tValue computed using low-temperature polynomial:  49.957139303925075\n",
      "\tValue computed using high-temperature polynomial: 49.70673866631877\n",
      "\n",
      "CanteraWarning: NasaPoly2::validate: \n",
      "For species C3H5(3498), discontinuity in h/RT detected at Tmid = 937.45\n",
      "\tValue computed using low-temperature polynomial:  49.34360557309395\n",
      "\tValue computed using high-temperature polynomial: 49.07086689957039\n",
      "\n",
      "CanteraWarning: NasaPoly2::validate: \n",
      "For species S(3513), discontinuity in h/RT detected at Tmid = 1108.68\n",
      "\tValue computed using low-temperature polynomial:  22.881811397737003\n",
      "\tValue computed using high-temperature polynomial: 22.70174524824911\n",
      "\n",
      "CanteraWarning: NasaPoly2::validate: \n",
      "For species S(4213), discontinuity in h/RT detected at Tmid = 885.26\n",
      "\tValue computed using low-temperature polynomial:  5.2359049386092185\n",
      "\tValue computed using high-temperature polynomial: 4.556958375650408\n",
      "\n",
      "CanteraWarning: NasaPoly2::validate: \n",
      "For species S(4243), discontinuity in h/RT detected at Tmid = 1059.17\n",
      "\tValue computed using low-temperature polynomial:  24.58786528757453\n",
      "\tValue computed using high-temperature polynomial: 24.272786296453965\n",
      "\n",
      "CanteraWarning: NasaPoly2::validate: \n",
      "For species S(4244), discontinuity in h/RT detected at Tmid = 1310.93\n",
      "\tValue computed using low-temperature polynomial:  25.65129342782523\n",
      "\tValue computed using high-temperature polynomial: 25.51680333864407\n",
      "\n",
      "CanteraWarning: NasaPoly2::validate: \n",
      "For species C4H7(4343), discontinuity in h/RT detected at Tmid = 936.88\n",
      "\tValue computed using low-temperature polynomial:  43.23108488114937\n",
      "\tValue computed using high-temperature polynomial: 42.974074169338735\n",
      "\n",
      "CanteraWarning: NasaPoly2::validate: \n",
      "For species S(4407), discontinuity in h/RT detected at Tmid = 1493.99\n",
      "\tValue computed using low-temperature polynomial:  25.289221326036774\n",
      "\tValue computed using high-temperature polynomial: 25.170887720316664\n",
      "\n",
      "CanteraWarning: NasaPoly2::validate: \n",
      "For species C4H6(4880), discontinuity in h/RT detected at Tmid = 980.35\n",
      "\tValue computed using low-temperature polynomial:  72.68408493605675\n",
      "\tValue computed using high-temperature polynomial: 72.45145910529533\n",
      "\n",
      "CanteraWarning: NasaPoly2::validate: \n",
      "For species S(5093), discontinuity in h/RT detected at Tmid = 959.6\n",
      "\tValue computed using low-temperature polynomial:  -4.3547526077970495\n",
      "\tValue computed using high-temperature polynomial: -4.575863220776355\n",
      "\n",
      "CanteraWarning: NasaPoly2::validate: \n",
      "For species S(5151), discontinuity in h/RT detected at Tmid = 1562.93\n",
      "\tValue computed using low-temperature polynomial:  -0.6787876731554903\n",
      "\tValue computed using high-temperature polynomial: -0.8255720186484652\n",
      "\n",
      "CanteraWarning: NasaPoly2::validate: \n",
      "For species S(5161), discontinuity in h/RT detected at Tmid = 823.14\n",
      "\tValue computed using low-temperature polynomial:  -32.91686958581859\n",
      "\tValue computed using high-temperature polynomial: -33.14357695831311\n",
      "\n",
      "CanteraWarning: NasaPoly2::validate: \n",
      "For species S(5167), discontinuity in h/RT detected at Tmid = 953.42\n",
      "\tValue computed using low-temperature polynomial:  24.899018949338437\n",
      "\tValue computed using high-temperature polynomial: 24.628186840467094\n",
      "\n",
      "CanteraWarning: NasaPoly2::validate: \n",
      "For species S(5425), discontinuity in h/RT detected at Tmid = 892.26\n",
      "\tValue computed using low-temperature polynomial:  22.646857446380466\n",
      "\tValue computed using high-temperature polynomial: 22.232405776145686\n",
      "\n",
      "CanteraWarning: NasaPoly2::validate: \n",
      "For species S(5659), discontinuity in h/RT detected at Tmid = 1748.91\n",
      "\tValue computed using low-temperature polynomial:  6.1606203552266035\n",
      "\tValue computed using high-temperature polynomial: 5.976310562647624\n",
      "\n",
      "CanteraWarning: NasaPoly2::validate: \n",
      "For species S(5753), discontinuity in h/RT detected at Tmid = 1174.98\n",
      "\tValue computed using low-temperature polynomial:  16.231983475274294\n",
      "\tValue computed using high-temperature polynomial: 15.981454938849708\n",
      "\n",
      "CanteraWarning: NasaPoly2::validate: \n",
      "For species S(5761), discontinuity in h/RT detected at Tmid = 897.65\n",
      "\tValue computed using low-temperature polynomial:  -16.74962543784819\n",
      "\tValue computed using high-temperature polynomial: -17.15391135922133\n",
      "\n",
      "CanteraWarning: NasaPoly2::validate: \n",
      "For species S(5951), discontinuity in h/RT detected at Tmid = 923.1\n",
      "\tValue computed using low-temperature polynomial:  9.974784028833446\n",
      "\tValue computed using high-temperature polynomial: 9.570083829396204\n",
      "\n",
      "CanteraWarning: NasaPoly2::validate: \n",
      "For species S(9122), discontinuity in h/RT detected at Tmid = 790.84\n",
      "\tValue computed using low-temperature polynomial:  37.10833636174355\n",
      "\tValue computed using high-temperature polynomial: 37.080997950501\n",
      "\n",
      "CanteraWarning: NasaPoly2::validate: \n",
      "For species S(9510), discontinuity in h/RT detected at Tmid = 891.45\n",
      "\tValue computed using low-temperature polynomial:  4.255583354838661\n",
      "\tValue computed using high-temperature polynomial: 3.791948058564664\n",
      "\n",
      "CanteraWarning: NasaPoly2::validate: \n",
      "For species S(11705), discontinuity in h/RT detected at Tmid = 1129.65\n",
      "\tValue computed using low-temperature polynomial:  -16.794237875231325\n",
      "\tValue computed using high-temperature polynomial: -16.91796019913146\n",
      "\n",
      "CanteraWarning: NasaPoly2::validate: \n",
      "For species S(11851), discontinuity in h/RT detected at Tmid = 1128.37\n",
      "\tValue computed using low-temperature polynomial:  -15.293057916974043\n",
      "\tValue computed using high-temperature polynomial: -15.47895840979806\n",
      "\n",
      "CanteraWarning: NasaPoly2::validate: \n",
      "For species S(12103), discontinuity in h/RT detected at Tmid = 846.75\n",
      "\tValue computed using low-temperature polynomial:  -11.569569112469926\n",
      "\tValue computed using high-temperature polynomial: -11.66974268270656\n",
      "\n",
      "CanteraWarning: NasaPoly2::validate: \n",
      "For species S(13050), discontinuity in h/RT detected at Tmid = 1468.69\n",
      "\tValue computed using low-temperature polynomial:  10.467218141986248\n",
      "\tValue computed using high-temperature polynomial: 10.266696366862348\n",
      "\n"
     ]
    },
    {
     "name": "stdout",
     "output_type": "stream",
     "text": [
      "130 species loaded\n",
      "2488 reactions loaded\n"
     ]
    }
   ],
   "source": [
    "basedir = '/work/westgroup/harris.se/autoscience/reaction_calculator/delay_uncertainty/base_rmg_1week'\n",
    "\n",
    "cantera_file = os.path.join(basedir, 'chem_annotated.cti')\n",
    "base_chemkin = os.path.join(basedir, 'chem_annotated.inp')\n",
    "dictionary = os.path.join(basedir, 'species_dictionary.txt')\n",
    "transport = os.path.join(basedir, 'tran.dat')\n",
    "\n",
    "species_list, reaction_list = rmgpy.chemkin.load_chemkin_file(base_chemkin, dictionary_path=dictionary, transport_path=transport, use_chemkin_names=True)\n",
    "\n",
    "gas = ct.Solution(cantera_file)\n",
    "perturbed_cti_path = os.path.join(basedir, 'perturbed.cti')\n",
    "perturbed_gas = ct.Solution(perturbed_cti_path)\n",
    "\n",
    "# This cti -> rmg converter dictionary can be made using rmg_tools/ct2rmg_dict.py\n",
    "with open(os.path.join(basedir, 'ct2rmg_rxn.pickle'), 'rb') as handle:\n",
    "    ct2rmg_rxn = pickle.load(handle)\n",
    "\n",
    "print(f'{len(species_list)} species loaded')\n",
    "print(f'{len(reaction_list)} reactions loaded')"
   ]
  },
  {
   "cell_type": "code",
   "execution_count": 3,
   "id": "82b6afef",
   "metadata": {},
   "outputs": [],
   "source": [
    "N = len(gas.species())\n",
    "M = len(gas.reactions())"
   ]
  },
  {
   "cell_type": "code",
   "execution_count": 4,
   "id": "3f44af8d",
   "metadata": {},
   "outputs": [],
   "source": [
    "# check for outliers that get crushed by average"
   ]
  },
  {
   "cell_type": "code",
   "execution_count": 179,
   "id": "f614c059",
   "metadata": {},
   "outputs": [
    {
     "data": {
      "text/plain": [
       "2523"
      ]
     },
     "execution_count": 179,
     "metadata": {},
     "output_type": "execute_result"
    }
   ],
   "source": [
    "M"
   ]
  },
  {
   "cell_type": "markdown",
   "id": "0f76001b",
   "metadata": {},
   "source": [
    "## Gather Uncertainty Rankings"
   ]
  },
  {
   "cell_type": "code",
   "execution_count": 5,
   "id": "6529b129",
   "metadata": {},
   "outputs": [],
   "source": [
    "# rxn_uncertainty_file = '/work/westgroup/harris.se/autoscience/reaction_calculator/models/base_rmg_1week/reaction_uncertainty.npy'\n",
    "# sp_uncertainty_file = '/work/westgroup/harris.se/autoscience/reaction_calculator/models/base_rmg_1week/species_uncertainty.npy'\n",
    "\n",
    "rxn_uncertainty_file = '/work/westgroup/harris.se/autoscience/reaction_calculator/models/base_rmg_1week/gao_reaction_uncertainty.npy'\n",
    "sp_uncertainty_file = '/work/westgroup/harris.se/autoscience/reaction_calculator/models/base_rmg_1week/gao_species_uncertainty.npy'\n",
    "\n",
    "rmg_rxn_uncertainty = np.load(rxn_uncertainty_file)\n",
    "rmg_sp_uncertainty = np.load(sp_uncertainty_file)\n",
    "\n",
    "assert len(rmg_rxn_uncertainty) == len(reaction_list)\n",
    "assert len(rmg_sp_uncertainty) == len(species_list)\n",
    "\n",
    "\n",
    "rxn_uncertainty = np.zeros(len(gas.reactions()))\n",
    "for ct_index in range(len(rxn_uncertainty)):\n",
    "    rxn_uncertainty[ct_index] = rmg_rxn_uncertainty[ct2rmg_rxn[ct_index]]\n",
    "\n",
    "# Cantera species should be in same rmg order, but this makes sure for us\n",
    "for i in range(len(species_list)):\n",
    "    assert str(species_list[i]) == gas.species_names[i]\n",
    "\n",
    "sp_uncertainty = rmg_sp_uncertainty\n",
    "\n",
    "total_uncertainty_array = np.concatenate((sp_uncertainty, rxn_uncertainty), axis=0)\n",
    "total_uncertainty_mat = np.repeat(np.transpose(np.matrix(total_uncertainty_array)), 12 * 51, axis=1)\n"
   ]
  },
  {
   "cell_type": "code",
   "execution_count": 6,
   "id": "7d8d5d9a",
   "metadata": {},
   "outputs": [],
   "source": [
    "\n",
    "# Display the most uncertain parameters"
   ]
  },
  {
   "cell_type": "code",
   "execution_count": 7,
   "id": "b5f0da0c",
   "metadata": {},
   "outputs": [],
   "source": [
    "# Calculate Improvement Score\n",
    "DFT_error = 3.0\n",
    "# improvement_score = np.abs(reaction_sensitivities) * (uncorrelated_uncertainties - DFT_error)\n",
    "# improvement_score_order = [x for _,x in sorted(zip(improvement_score, reaction_indices))][::-1]\n",
    "reaction_indices = np.arange(0, len(gas.reactions()))\n",
    "reaction_uncertainty_order = [x for _,x in sorted(zip(rxn_uncertainty, reaction_indices))][::-1]"
   ]
  },
  {
   "cell_type": "code",
   "execution_count": 8,
   "id": "24722026",
   "metadata": {},
   "outputs": [
    {
     "name": "stdout",
     "output_type": "stream",
     "text": [
      "Top Uncertain Reactions\n",
      "i\tDelta\tReaction\tSensitivity\tImprovement Score\n",
      "2174 \t 28.541 \t C3H6(688) + CH3(18) <=> C3H5-A(94) + CH4(10) \t Disproportionation\n",
      "2168 \t 28.541 \t C3H6(688) + CH2(23) <=> C3H5-A(94) + CH3(18) \t Disproportionation\n",
      "1251 \t 28.541 \t C3H5O(129) + H(14) <=> C3H4O(74) + H2(13) \t Disproportionation\n",
      "1248 \t 28.541 \t C3H5O(129) + CH3(18) <=> C3H4O(74) + CH4(10) \t Disproportionation\n",
      "1242 \t 28.541 \t C3H5O(129) + CH2(23) <=> C3H4O(74) + CH3(18) \t Disproportionation\n",
      "1001 \t 28.541 \t C2H5O(49) + CH2(23) <=> CH3(18) + CH3CHO(35) \t Disproportionation\n",
      "1000 \t 28.541 \t C2H5O(49) + CH3(18) <=> CH3CHO(35) + CH4(10) \t Disproportionation\n",
      "958 \t 28.541 \t CH2(23) + S(777) <=> CH3(18) + S(252) \t Disproportionation\n",
      "955 \t 28.541 \t H(14) + S(777) <=> H2(13) + S(252) \t Disproportionation\n",
      "953 \t 28.541 \t CH3(18) + S(777) <=> CH4(10) + S(252) \t Disproportionation\n",
      "790 \t 28.541 \t C4H8(748) + CH3(18) <=> C4H7(190) + CH4(10) \t Disproportionation\n",
      "780 \t 28.541 \t C4H8(748) + CH2(23) <=> C4H7(190) + CH3(18) \t Disproportionation\n",
      "667 \t 28.541 \t C2H4O(703) + CH3(18) <=> CH2CHO(21) + CH4(10) \t Disproportionation\n",
      "663 \t 28.541 \t C2H4O(703) + H(14) <=> CH2CHO(21) + H2(13) \t Disproportionation\n",
      "2505 \t 23.47 \t C2H5O(59) + C4H6(2534) <=> C2H3OH(58) + C4H7(191) \t Disproportionation\n",
      "2504 \t 23.47 \t C2H5O(59) + C3H6(688) <=> C2H3OH(58) + NC3H7(92) \t Disproportionation\n",
      "2493 \t 23.47 \t C2H3CO(75) + C2H5O(59) <=> C2H3OH(58) + C3H4O(74) \t Disproportionation\n",
      "2455 \t 23.47 \t C2H3CO(75) + OCHO(38) <=> C3H4O(74) + CO2(7) \t Disproportionation\n",
      "2452 \t 23.47 \t C2H3CO(75) + CH2CHO(21) <=> C3H4O(74) + CH2CO(24) \t Disproportionation\n",
      "2421 \t 23.47 \t C2H5O(59) + S(223) <=> C2H3OH(58) + S(187) \t Disproportionation\n",
      "2419 \t 23.47 \t C2H5O(59) + S(911) <=> C2H3OH(58) + C3H6O3(73) \t Disproportionation\n",
      "2417 \t 23.47 \t C2H5O(59) + S(238) <=> C2H3OH(58) + S(787) \t Disproportionation\n",
      "2416 \t 23.47 \t C2H5O(59) + S(244) <=> C2H3OH(58) + S(787) \t Disproportionation\n",
      "2401 \t 23.47 \t C2H5O(59) + C4H8(748) <=> C2H3OH(58) + PC4H9(182) \t Disproportionation\n",
      "2399 \t 23.47 \t C2H5O(59) + C4H8(748) <=> C2H3OH(58) + SC4H9(183) \t Disproportionation\n",
      "2370 \t 23.47 \t C2H5O(59) + CH2OH(34) <=> C2H3OH(58) + CH3OH(30) \t Disproportionation\n",
      "2363 \t 23.47 \t C2H5O(59) + C4H6(2534) <=> C2H3OH(58) + C4H7(190) \t Disproportionation\n",
      "2361 \t 23.47 \t C2H5(33) + C2H5O(59) <=> C2H3OH(58) + C2H6(32) \t Disproportionation\n",
      "2359 \t 23.47 \t C2H5O(59) + CH3CO(20) <=> C2H3OH(58) + CH3CHO(35) \t Disproportionation\n",
      "2358 \t 23.47 \t C2H5O(59) + CH2CHO(21) <=> C2H3OH(58) + CH3CHO(35) \t Disproportionation\n",
      "2355 \t 23.47 \t C2H5O(59) + C4H7(192) <=> C2H3OH(58) + C4H8(188) \t Disproportionation\n",
      "2354 \t 23.47 \t C2H5O(59) + C4H7(191) <=> C2H3OH(58) + C4H8(188) \t Disproportionation\n",
      "2353 \t 23.47 \t C2H5O(59) + C4H7(190) <=> C2H3OH(58) + C4H8(188) \t Disproportionation\n",
      "2351 \t 23.47 \t C2H5O(59) + C4H7(190) <=> C2H3OH(58) + C4H8(189) \t Disproportionation\n",
      "2350 \t 23.47 \t C2H5O(59) + H(14) <=> C2H3OH(58) + H2(13) \t Disproportionation\n",
      "2347 \t 23.47 \t C2H5O(59) + C3H5-A(94) <=> C2H3OH(58) + C3H6(12) \t Disproportionation\n",
      "2345 \t 23.47 \t C2H3(22) + C2H5O(59) <=> C2H3OH(58) + C2H4(11) \t Disproportionation\n",
      "2344 \t 23.47 \t C2H5O(59) + CH3(18) <=> C2H3OH(58) + CH4(10) \t Disproportionation\n",
      "2341 \t 23.47 \t C2H5O(59) + HCO(19) <=> C2H3OH(58) + CH2O(9) \t Disproportionation\n",
      "2338 \t 23.47 \t C2H5O(59) + PC4H9(182) <=> C2H3OH(58) + butane(1) \t Disproportionation\n",
      "2337 \t 23.47 \t C2H5O(59) + SC4H9(183) <=> C2H3OH(58) + butane(1) \t Disproportionation\n",
      "2335 \t 23.47 \t C2H(4) + C2H5O(59) <=> C2H2(25) + C2H3OH(58) \t Disproportionation\n",
      "2332 \t 23.47 \t C2H5O(59) + HCCO(27) <=> C2H3OH(58) + CH2CO(24) \t Disproportionation\n",
      "2330 \t 23.47 \t C2H5O(59) + CH2(23) <=> C2H3OH(58) + CH3(18) \t Disproportionation\n",
      "2217 \t 23.47 \t C3H6(688) + OCHO(38) <=> CO2(7) + NC3H7(92) \t Disproportionation\n",
      "2048 \t 23.47 \t CH2OH(34) + OCHO(38) <=> CH3OH(30) + CO2(7) \t Disproportionation\n",
      "2047 \t 23.47 \t CH2CHO(21) + CH2OH(34) <=> CH2CO(24) + CH3OH(30) \t Disproportionation\n",
      "1940 \t 23.47 \t HCCO(27) + OCHO(38) <=> CH2CO(24) + CO2(7) \t Disproportionation\n",
      "1919 \t 23.47 \t CH2CHO(21) + HCCO(27) <=> 2 CH2CO(24) \t Disproportionation\n",
      "1830 \t 23.47 \t C4H8(748) + OCHO(38) <=> CO2(7) + PC4H9(182) \t Disproportionation\n"
     ]
    }
   ],
   "source": [
    "print('Top Uncertain Reactions')\n",
    "print('i\\tDelta\\tReaction\\tSensitivity\\tImprovement Score')\n",
    "for i in range(0, 50):\n",
    "    ct_index = reaction_uncertainty_order[i]\n",
    "    print(ct_index, '\\t', np.round(rxn_uncertainty[ct_index], 3),\n",
    "          '\\t', gas.reactions()[ct_index], \n",
    "          '\\t', reaction_list[ct2rmg_rxn[ct_index]].family)\n",
    "#           '\\t', f'{reaction_sensitivities[ct_index]:.3e}',\n",
    "#           '\\t', f'{improvement_score[ct_index]:.3e}')\n",
    "    "
   ]
  },
  {
   "cell_type": "code",
   "execution_count": null,
   "id": "a861f2c8",
   "metadata": {},
   "outputs": [],
   "source": []
  },
  {
   "cell_type": "code",
   "execution_count": null,
   "id": "d1bd70f7",
   "metadata": {},
   "outputs": [],
   "source": []
  },
  {
   "cell_type": "markdown",
   "id": "054e0680",
   "metadata": {},
   "source": [
    "## Gather Sensitivity Rankings"
   ]
  },
  {
   "cell_type": "code",
   "execution_count": 9,
   "id": "1708785b",
   "metadata": {},
   "outputs": [],
   "source": [
    "# load the giant base delays matrix\n",
    "base_delay_file = os.path.join(basedir, 'total_base_delays.npy')\n",
    "base_delays = np.load(base_delay_file)\n",
    "\n",
    "# Load the giant delays matrix\n",
    "total_delay_file = os.path.join(basedir, 'total_perturbed_mech_delays.npy')\n",
    "total_delays = np.load(total_delay_file)\n",
    "\n",
    "assert total_delays.shape[1] == len(base_delays)\n",
    "\n",
    "total_base_delays = np.repeat(np.matrix(base_delays), total_delays.shape[0], axis=0)\n",
    "total_base_delays[total_base_delays == 0] = np.nan\n",
    "assert total_base_delays.shape == total_delays.shape\n",
    "\n",
    "total_delays[total_delays == 0] = np.nan\n"
   ]
  },
  {
   "cell_type": "code",
   "execution_count": 10,
   "id": "86562899",
   "metadata": {},
   "outputs": [],
   "source": [
    "d_ln_tau = np.log(total_delays) - np.log(total_base_delays)"
   ]
  },
  {
   "cell_type": "code",
   "execution_count": 11,
   "id": "ef776823",
   "metadata": {},
   "outputs": [
    {
     "name": "stderr",
     "output_type": "stream",
     "text": [
      "/work/westgroup/harris.se/tst_env/lib/python3.7/site-packages/ipykernel_launcher.py:1: RuntimeWarning: Mean of empty slice\n",
      "  \"\"\"Entry point for launching an IPython kernel.\n"
     ]
    }
   ],
   "source": [
    "avg_d_ln_tau = np.nanmean(d_ln_tau, axis = 1)\n",
    "avg_d_ln_tau[np.isnan(avg_d_ln_tau)] = -np.inf"
   ]
  },
  {
   "cell_type": "code",
   "execution_count": 12,
   "id": "5644cbc5",
   "metadata": {},
   "outputs": [
    {
     "data": {
      "text/plain": [
       "matrix([[ 0.00000000e+00,  0.00000000e+00,  0.00000000e+00, ...,\n",
       "          0.00000000e+00,  0.00000000e+00,  0.00000000e+00],\n",
       "        [ 1.25529276e-09,  1.19382371e-09,  2.19836105e-09, ...,\n",
       "          1.77872931e-07, -2.11537161e-08, -8.65244365e-08],\n",
       "        [ 0.00000000e+00,  0.00000000e+00,  0.00000000e+00, ...,\n",
       "          0.00000000e+00,  0.00000000e+00,  0.00000000e+00],\n",
       "        ...,\n",
       "        [            nan,             nan,             nan, ...,\n",
       "                     nan,             nan,             nan],\n",
       "        [            nan,             nan,             nan, ...,\n",
       "                     nan,             nan,             nan],\n",
       "        [            nan,             nan,             nan, ...,\n",
       "                     nan,             nan,             nan]])"
      ]
     },
     "execution_count": 12,
     "metadata": {},
     "output_type": "execute_result"
    }
   ],
   "source": [
    "d_ln_tau"
   ]
  },
  {
   "cell_type": "code",
   "execution_count": null,
   "id": "d3e61c4c",
   "metadata": {},
   "outputs": [],
   "source": []
  },
  {
   "cell_type": "code",
   "execution_count": null,
   "id": "f6452a37",
   "metadata": {},
   "outputs": [],
   "source": []
  },
  {
   "cell_type": "code",
   "execution_count": null,
   "id": "3c052245",
   "metadata": {},
   "outputs": [],
   "source": []
  },
  {
   "cell_type": "markdown",
   "id": "1a802afd",
   "metadata": {},
   "source": [
    "### Get $\\Delta G$ or $\\Delta \\ln k$ for each parameter"
   ]
  },
  {
   "cell_type": "code",
   "execution_count": 13,
   "id": "90017ed3",
   "metadata": {},
   "outputs": [],
   "source": [
    "# get Delta G from the simulation gas"
   ]
  },
  {
   "cell_type": "code",
   "execution_count": 14,
   "id": "20694241",
   "metadata": {},
   "outputs": [],
   "source": [
    "phi_dicts = []\n",
    "\n",
    "for table_index in range(1, 13):\n",
    "    \n",
    "    # Load the experimental conditions\n",
    "    ignition_delay_data = '/work/westgroup/harris.se/autoscience/autoscience/butane/experimental_data/butane_ignition_delay.csv'\n",
    "    # ignition_delay_data = '/home/moon/autoscience/autoscience/butane/experimental_data/butane_ignition_delay.csv'\n",
    "    df_exp = pd.read_csv(ignition_delay_data)\n",
    "    table_exp = df_exp[df_exp['Table'] == table_index]\n",
    "    # Define Initial conditions using experimental data\n",
    "    tau_exp = table_exp['time (ms)'].values.astype(float)  # ignition delay\n",
    "    T7 = table_exp['T_C'].values  # Temperatures\n",
    "    P7 = table_exp['nominal pressure(atm)'].values * ct.one_atm  # pressures in atm\n",
    "    phi7 = table_exp['phi'].values  # equivalence ratios\n",
    "    # list of starting conditions\n",
    "    # Mixture compositions taken from table 2 of\n",
    "    # https://doi-org.ezproxy.neu.edu/10.1016/j.combustflame.2010.01.016\n",
    "    concentrations = []\n",
    "    # for phi = 1\n",
    "    x_diluent = 0.7649\n",
    "    conc_dict = {\n",
    "        'O2(2)': 0.2038,\n",
    "        'butane(1)': 0.03135\n",
    "    }\n",
    "\n",
    "    \n",
    "    x_N2 = table_exp['%N2'].values[0] / 100.0 * x_diluent\n",
    "    x_Ar = table_exp['%Ar'].values[0] / 100.0 * x_diluent\n",
    "    x_CO2 = table_exp['%CO2'].values[0] / 100.0 * x_diluent\n",
    "    conc_dict['N2'] = x_N2\n",
    "    conc_dict['Ar'] = x_Ar\n",
    "    conc_dict['CO2(7)'] = x_CO2\n",
    "    \n",
    "    phi_dicts.append(conc_dict)\n",
    "        \n",
    "        "
   ]
  },
  {
   "cell_type": "code",
   "execution_count": 15,
   "id": "4e85aaea",
   "metadata": {},
   "outputs": [],
   "source": [
    "# There are 12 * K different simulation settings. We need each parameter estimate at each setting\n",
    "# Create a matrix with temperatures and one with pressures\n",
    "T = np.linspace(663, 1077, 51)\n",
    "table_temperatures = np.repeat(np.matrix(T), 12, axis=1)\n",
    "temperatures = np.repeat(table_temperatures, total_delays.shape[0], axis=0)\n",
    "\n",
    "pressures = np.zeros(temperatures.shape)\n",
    "for i in range(pressures.shape[1]):\n",
    "    if int(i / 51) in [0, 3, 6, 9]:\n",
    "        pressures[:, i] = 10.0 * 101325.0\n",
    "    elif int(i / 51) in [1, 4, 7, 10]:\n",
    "        pressures[:, i] = 20.0 * 101325.0\n",
    "    elif int(i / 51) in [2, 5, 8, 11]:\n",
    "        pressures[:, i] = 30.0 * 101325.0"
   ]
  },
  {
   "cell_type": "code",
   "execution_count": 16,
   "id": "f24c6964",
   "metadata": {},
   "outputs": [],
   "source": [
    "G_base = np.zeros((N, total_delays.shape[1]))\n",
    "G_perturbed = np.zeros((N, total_delays.shape[1]))\n",
    "\n",
    "\n",
    "# get base G values\n",
    "\n",
    "mod_gas = ct.Solution(cantera_file)\n",
    "for j in range(N):\n",
    "    for i in range(temperatures.shape[1]):\n",
    "    \n",
    "        T = temperatures[0, i]\n",
    "        gas.TPX = T, pressures[0, i], phi_dicts[int(i / 51)]\n",
    "        G_base[j, i] = gas.species()[j].thermo.h(T) - T * gas.species()[j].thermo.s(T)\n"
   ]
  },
  {
   "cell_type": "code",
   "execution_count": 17,
   "id": "f1065195",
   "metadata": {},
   "outputs": [
    {
     "name": "stdout",
     "output_type": "stream",
     "text": [
      "CanteraWarning: NasaPoly2::validate: \n",
      "For species Ar, discontinuity in h/RT detected at Tmid = 4762.74\n",
      "\tValue computed using low-temperature polynomial:  2.327935178063383\n",
      "\tValue computed using high-temperature polynomial: 2.320328165487312\n",
      "\n",
      "CanteraWarning: NasaPoly2::validate: \n",
      "For species He, discontinuity in h/RT detected at Tmid = 4762.74\n",
      "\tValue computed using low-temperature polynomial:  2.327935178063383\n",
      "\tValue computed using high-temperature polynomial: 2.320328165487312\n",
      "\n",
      "CanteraWarning: NasaPoly2::validate: \n",
      "For species butane(1), discontinuity in h/RT detected at Tmid = 1389.0\n",
      "\tValue computed using low-temperature polynomial:  6.672352745666894\n",
      "\tValue computed using high-temperature polynomial: 6.314788936675075\n",
      "\n",
      "CanteraWarning: NasaPoly2::validate: \n",
      "For species CH(3), discontinuity in h/RT detected at Tmid = 1000.0\n",
      "\tValue computed using low-temperature polynomial:  81.27192833333334\n",
      "\tValue computed using high-temperature polynomial: 81.30542726833333\n",
      "\n",
      "CanteraWarning: NasaPoly2::validate: \n",
      "For species C2H(4), discontinuity in h/RT detected at Tmid = 1000.0\n",
      "\tValue computed using low-temperature polynomial:  79.04515833333333\n",
      "\tValue computed using high-temperature polynomial: 79.05585607666667\n",
      "\n",
      "CanteraWarning: NasaPoly2::validate: \n",
      "For species O(5), discontinuity in h/RT detected at Tmid = 4762.74\n",
      "\tValue computed using low-temperature polynomial:  9.250188712793392\n",
      "\tValue computed using high-temperature polynomial: 9.24258167502174\n",
      "\n",
      "CanteraWarning: NasaPoly2::validate: \n",
      "For species CO2(7), discontinuity in h/RT detected at Tmid = 988.19\n",
      "\tValue computed using low-temperature polynomial:  -48.81168675008343\n",
      "\tValue computed using high-temperature polynomial: -48.863338094208956\n",
      "\n",
      "CanteraWarning: NasaPoly2::validate: \n",
      "For species H2O(8), discontinuity in h/RT detected at Tmid = 1281.44\n",
      "\tValue computed using low-temperature polynomial:  -21.48551924441768\n",
      "\tValue computed using high-temperature polynomial: -21.469454858144566\n",
      "\n",
      "CanteraWarning: NasaPoly2::validate: \n",
      "For species CH2O(9), discontinuity in h/RT detected at Tmid = 1000.0\n",
      "\tValue computed using low-temperature polynomial:  -10.383563333333333\n",
      "\tValue computed using high-temperature polynomial: -10.400530646666667\n",
      "\n",
      "CanteraWarning: NasaPoly2::validate: \n",
      "For species CH4(10), discontinuity in h/RT detected at Tmid = 1084.13\n",
      "\tValue computed using low-temperature polynomial:  -4.328518040484866\n",
      "\tValue computed using high-temperature polynomial: -4.287751752549633\n",
      "\n",
      "CanteraWarning: NasaPoly2::validate: \n",
      "For species C2H4(11), discontinuity in h/RT detected at Tmid = 1000.0\n",
      "\tValue computed using low-temperature polynomial:  12.913683000000002\n",
      "\tValue computed using high-temperature polynomial: 12.8315704\n",
      "\n",
      "CanteraWarning: NasaPoly2::validate: \n",
      "For species C3H6(12), discontinuity in h/RT detected at Tmid = 1000.0\n",
      "\tValue computed using low-temperature polynomial:  11.806422033333336\n",
      "\tValue computed using high-temperature polynomial: 11.653389023333334\n",
      "\n",
      "CanteraWarning: NasaPoly2::validate: \n",
      "For species H2(13), discontinuity in h/RT detected at Tmid = 1962.85\n",
      "\tValue computed using low-temperature polynomial:  3.1240344352550977\n",
      "\tValue computed using high-temperature polynomial: 3.148374395598836\n",
      "\n",
      "CanteraWarning: NasaPoly2::validate: \n",
      "For species H(14), discontinuity in h/RT detected at Tmid = 4762.74\n",
      "\tValue computed using low-temperature polynomial:  8.383163659987654\n",
      "\tValue computed using high-temperature polynomial: 8.375556664208636\n",
      "\n",
      "CanteraWarning: NasaPoly2::validate: \n",
      "For species OH(15), discontinuity in h/RT detected at Tmid = 1005.26\n",
      "\tValue computed using low-temperature polynomial:  7.318409553332369\n",
      "\tValue computed using high-temperature polynomial: 7.344035984911466\n",
      "\n",
      "CanteraWarning: NasaPoly2::validate: \n",
      "For species HO2(16), discontinuity in h/RT detected at Tmid = 923.9\n",
      "\tValue computed using low-temperature polynomial:  5.054338932386747\n",
      "\tValue computed using high-temperature polynomial: 5.028444092245818\n",
      "\n",
      "CanteraWarning: NasaPoly2::validate: \n",
      "For species H2O2(17), discontinuity in h/RT detected at Tmid = 923.27\n",
      "\tValue computed using low-temperature polynomial:  -15.21570147838085\n",
      "\tValue computed using high-temperature polynomial: -15.26188489160868\n",
      "\n",
      "CanteraWarning: NasaPoly2::validate: \n",
      "For species CH3(18), discontinuity in h/RT detected at Tmid = 1000.0\n",
      "\tValue computed using low-temperature polynomial:  23.443530333333335\n",
      "\tValue computed using high-temperature polynomial: 23.452209353333334\n",
      "\n",
      "CanteraWarning: NasaPoly2::validate: \n",
      "For species HCO(19), discontinuity in h/RT detected at Tmid = 1000.0\n",
      "\tValue computed using low-temperature polynomial:  9.023324666666666\n",
      "\tValue computed using high-temperature polynomial: 9.001436404000001\n",
      "\n",
      "CanteraWarning: NasaPoly2::validate: \n",
      "For species CH3CO(20), discontinuity in h/RT detected at Tmid = 1000.0\n",
      "\tValue computed using low-temperature polynomial:  5.008387166666665\n",
      "\tValue computed using high-temperature polynomial: 4.912097603333335\n",
      "\n",
      "CanteraWarning: NasaPoly2::validate: \n",
      "For species CH2CHO(21), discontinuity in h/RT detected at Tmid = 1000.0\n",
      "\tValue computed using low-temperature polynomial:  8.384221799999999\n",
      "\tValue computed using high-temperature polynomial: 8.25751715\n",
      "\n",
      "CanteraWarning: NasaPoly2::validate: \n",
      "For species C2H3(22), discontinuity in h/RT detected at Tmid = 1000.0\n",
      "\tValue computed using low-temperature polynomial:  44.446988\n",
      "\tValue computed using high-temperature polynomial: 44.38506034\n",
      "\n",
      "CanteraWarning: NasaPoly2::validate: \n",
      "For species CH2(23), discontinuity in h/RT detected at Tmid = 1104.64\n",
      "\tValue computed using low-temperature polynomial:  50.2879563464048\n",
      "\tValue computed using high-temperature polynomial: 50.305198108427334\n",
      "\n",
      "CanteraWarning: NasaPoly2::validate: \n",
      "For species CH2CO(24), discontinuity in h/RT detected at Tmid = 1000.0\n",
      "\tValue computed using low-temperature polynomial:  -0.5327489999999999\n",
      "\tValue computed using high-temperature polynomial: -0.6264529533333327\n",
      "\n",
      "CanteraWarning: NasaPoly2::validate: \n",
      "For species C2H2(25), discontinuity in h/RT detected at Tmid = 1000.0\n",
      "\tValue computed using low-temperature polynomial:  35.02598833333334\n",
      "\tValue computed using high-temperature polynomial: 34.958979963333334\n",
      "\n",
      "CanteraWarning: NasaPoly2::validate: \n",
      "For species HCCO(27), discontinuity in h/RT detected at Tmid = 1000.0\n",
      "\tValue computed using low-temperature polynomial:  28.763225000000002\n",
      "\tValue computed using high-temperature polynomial: 28.682793710000002\n",
      "\n",
      "CanteraWarning: NasaPoly2::validate: \n",
      "For species CH3OH(30), discontinuity in h/RT detected at Tmid = 1000.0\n",
      "\tValue computed using low-temperature polynomial:  -20.950005\n",
      "\tValue computed using high-temperature polynomial: -20.98909499333333\n",
      "\n",
      "CanteraWarning: NasaPoly2::validate: \n",
      "For species CH3O(31), discontinuity in h/RT detected at Tmid = 1000.0\n",
      "\tValue computed using low-temperature polynomial:  8.191424999999997\n",
      "\tValue computed using high-temperature polynomial: 8.099658543333334\n",
      "\n",
      "CanteraWarning: NasaPoly2::validate: \n",
      "For species C2H6(32), discontinuity in h/RT detected at Tmid = 1000.0\n",
      "\tValue computed using low-temperature polynomial:  -3.490428333333334\n",
      "\tValue computed using high-temperature polynomial: -3.582889943333331\n",
      "\n",
      "CanteraWarning: NasaPoly2::validate: \n",
      "For species C2H5(33), discontinuity in h/RT detected at Tmid = 1000.0\n",
      "\tValue computed using low-temperature polynomial:  22.69321\n",
      "\tValue computed using high-temperature polynomial: 22.613907966666666\n",
      "\n",
      "CanteraWarning: NasaPoly2::validate: \n",
      "For species CH2OH(34), discontinuity in h/RT detected at Tmid = 1000.0\n",
      "\tValue computed using low-temperature polynomial:  3.0714353333333326\n",
      "\tValue computed using high-temperature polynomial: 3.018101146666667\n",
      "\n",
      "CanteraWarning: NasaPoly2::validate: \n",
      "For species CH3CHO(35), discontinuity in h/RT detected at Tmid = 1000.0\n",
      "\tValue computed using low-temperature polynomial:  -14.730838333333335\n",
      "\tValue computed using high-temperature polynomial: -14.832785729999998\n",
      "\n",
      "CanteraWarning: NasaPoly2::validate: \n",
      "For species OCHO(38), discontinuity in h/RT detected at Tmid = 1000.0\n",
      "\tValue computed using low-temperature polynomial:  -12.592659999999999\n",
      "\tValue computed using high-temperature polynomial: -12.618612529999998\n",
      "\n",
      "CanteraWarning: NasaPoly2::validate: \n",
      "For species HOCHO(40), discontinuity in h/RT detected at Tmid = 1000.0\n",
      "\tValue computed using low-temperature polynomial:  -45.02946333333334\n",
      "\tValue computed using high-temperature polynomial: -45.10382474\n",
      "\n",
      "CanteraWarning: NasaPoly2::validate: \n",
      "For species CH3O2(45), discontinuity in h/RT detected at Tmid = 1000.0\n",
      "\tValue computed using low-temperature polynomial:  8.111874133333332\n",
      "\tValue computed using high-temperature polynomial: 8.021216153333334\n",
      "\n",
      "CanteraWarning: NasaPoly2::validate: \n",
      "For species CH3O2H(46), discontinuity in h/RT detected at Tmid = 1000.0\n",
      "\tValue computed using low-temperature polynomial:  -8.795791666666666\n",
      "\tValue computed using high-temperature polynomial: -8.936623946666666\n",
      "\n"
     ]
    },
    {
     "name": "stdout",
     "output_type": "stream",
     "text": [
      "CanteraWarning: NasaPoly2::validate: \n",
      "For species C2H5O2(47), discontinuity in h/RT detected at Tmid = 1389.0\n",
      "\tValue computed using low-temperature polynomial:  9.956664416545813\n",
      "\tValue computed using high-temperature polynomial: 9.792960641216094\n",
      "\n",
      "CanteraWarning: NasaPoly2::validate: \n",
      "For species C2H6O2(48), discontinuity in h/RT detected at Tmid = 1390.0\n",
      "\tValue computed using low-temperature polynomial:  -1.9677150508723127\n",
      "\tValue computed using high-temperature polynomial: -2.1890157436045534\n",
      "\n",
      "CanteraWarning: NasaPoly2::validate: \n",
      "For species C2H5O(49), discontinuity in h/RT detected at Tmid = 1000.0\n",
      "\tValue computed using low-temperature polynomial:  7.009500333333333\n",
      "\tValue computed using high-temperature polynomial: 6.85734259\n",
      "\n",
      "CanteraWarning: NasaPoly2::validate: \n",
      "For species C2H4O(51), discontinuity in h/RT detected at Tmid = 1000.0\n",
      "\tValue computed using low-temperature polynomial:  0.29742900000000283\n",
      "\tValue computed using high-temperature polynomial: 0.13550459666666725\n",
      "\n",
      "CanteraWarning: NasaPoly2::validate: \n",
      "For species C2H3O3(56), discontinuity in h/RT detected at Tmid = 1393.0\n",
      "\tValue computed using low-temperature polynomial:  3.7899779742663924\n",
      "\tValue computed using high-temperature polynomial: 3.520789894450971\n",
      "\n",
      "CanteraWarning: NasaPoly2::validate: \n",
      "For species C2H3OH(58), discontinuity in h/RT detected at Tmid = 1000.0\n",
      "\tValue computed using low-temperature polynomial:  -8.205599999999997\n",
      "\tValue computed using high-temperature polynomial: -8.36831598\n",
      "\n",
      "CanteraWarning: NasaPoly2::validate: \n",
      "For species C2H5O(59), discontinuity in h/RT detected at Tmid = 1000.0\n",
      "\tValue computed using low-temperature polynomial:  5.123647333333332\n",
      "\tValue computed using high-temperature polynomial: 4.9989943000000014\n",
      "\n",
      "CanteraWarning: NasaPoly2::validate: \n",
      "For species C3H5O(70), discontinuity in h/RT detected at Tmid = 1387.0\n",
      "\tValue computed using low-temperature polynomial:  9.219093596101636\n",
      "\tValue computed using high-temperature polynomial: 8.962461883053502\n",
      "\n",
      "CanteraWarning: NasaPoly2::validate: \n",
      "For species C3H5O2(71), discontinuity in h/RT detected at Tmid = 2002.0\n",
      "\tValue computed using low-temperature polynomial:  8.187178580374875\n",
      "\tValue computed using high-temperature polynomial: 8.084778460239907\n",
      "\n",
      "CanteraWarning: NasaPoly2::validate: \n",
      "For species C3H5O3(72), discontinuity in h/RT detected at Tmid = 1397.0\n",
      "\tValue computed using low-temperature polynomial:  3.272931145378653\n",
      "\tValue computed using high-temperature polynomial: 2.9200098853793683\n",
      "\n",
      "CanteraWarning: NasaPoly2::validate: \n",
      "For species C3H6O3(73), discontinuity in h/RT detected at Tmid = 1394.0\n",
      "\tValue computed using low-temperature polynomial:  -8.67353284198541\n",
      "\tValue computed using high-temperature polynomial: -9.085479570819444\n",
      "\n",
      "CanteraWarning: NasaPoly2::validate: \n",
      "For species C3H4O(74), discontinuity in h/RT detected at Tmid = 1398.0\n",
      "\tValue computed using low-temperature polynomial:  5.391775338342228\n",
      "\tValue computed using high-temperature polynomial: 5.166673212293162\n",
      "\n",
      "CanteraWarning: NasaPoly2::validate: \n",
      "For species C2H3CO(75), discontinuity in h/RT detected at Tmid = 1395.0\n",
      "\tValue computed using low-temperature polynomial:  19.460791329784076\n",
      "\tValue computed using high-temperature polynomial: 19.28388383801058\n",
      "\n",
      "CanteraWarning: NasaPoly2::validate: \n",
      "For species NC3H7(92), discontinuity in h/RT detected at Tmid = 1000.0\n",
      "\tValue computed using low-temperature polynomial:  23.417806666666664\n",
      "\tValue computed using high-temperature polynomial: 23.263033916666664\n",
      "\n",
      "CanteraWarning: NasaPoly2::validate: \n",
      "For species IC3H7(93), discontinuity in h/RT detected at Tmid = 1000.0\n",
      "\tValue computed using low-temperature polynomial:  21.500540666666666\n",
      "\tValue computed using high-temperature polynomial: 21.374371633333332\n",
      "\n",
      "CanteraWarning: NasaPoly2::validate: \n",
      "For species C3H5-A(94), discontinuity in h/RT detected at Tmid = 1000.0\n",
      "\tValue computed using low-temperature polynomial:  31.43636\n",
      "\tValue computed using high-temperature polynomial: 31.26000722\n",
      "\n",
      "CanteraWarning: NasaPoly2::validate: \n",
      "For species C3H7O2(95), discontinuity in h/RT detected at Tmid = 1500.0\n",
      "\tValue computed using low-temperature polynomial:  13.307205900000001\n",
      "\tValue computed using high-temperature polynomial: 13.05135629416667\n",
      "\n",
      "CanteraWarning: NasaPoly2::validate: \n",
      "For species C3H7O2(97), discontinuity in h/RT detected at Tmid = 1395.0\n",
      "\tValue computed using low-temperature polynomial:  11.123959329025492\n",
      "\tValue computed using high-temperature polynomial: 10.866704018788038\n",
      "\n",
      "CanteraWarning: NasaPoly2::validate: \n",
      "For species S(114), discontinuity in h/RT detected at Tmid = 1401.0\n",
      "\tValue computed using low-temperature polynomial:  18.599648882074487\n",
      "\tValue computed using high-temperature polynomial: 18.32199142705088\n",
      "\n",
      "CanteraWarning: NasaPoly2::validate: \n",
      "For species C3H5O(129), discontinuity in h/RT detected at Tmid = 1402.0\n",
      "\tValue computed using low-temperature polynomial:  22.257315623000014\n",
      "\tValue computed using high-temperature polynomial: 22.031817683352937\n",
      "\n",
      "CanteraWarning: NasaPoly2::validate: \n",
      "For species C3H5O(131), discontinuity in h/RT detected at Tmid = 1000.0\n",
      "\tValue computed using low-temperature polynomial:  23.053309999999996\n",
      "\tValue computed using high-temperature polynomial: 22.76462889333333\n",
      "\n",
      "CanteraWarning: NasaPoly2::validate: \n",
      "For species C3H6O(133), discontinuity in h/RT detected at Tmid = 1000.0\n",
      "\tValue computed using low-temperature polynomial:  -5.534568333333336\n",
      "\tValue computed using high-temperature polynomial: -5.77535086\n",
      "\n",
      "CanteraWarning: NasaPoly2::validate: \n",
      "For species C3H6O(135), discontinuity in h/RT detected at Tmid = 1404.0\n",
      "\tValue computed using low-temperature polynomial:  -0.5857604306726305\n",
      "\tValue computed using high-temperature polynomial: -0.8292481095402593\n",
      "\n",
      "CanteraWarning: NasaPoly2::validate: \n",
      "For species PC4H9(182), discontinuity in h/RT detected at Tmid = 1393.0\n",
      "\tValue computed using low-temperature polynomial:  24.95679940040779\n",
      "\tValue computed using high-temperature polynomial: 24.65226357006366\n",
      "\n",
      "CanteraWarning: NasaPoly2::validate: \n",
      "For species SC4H9(183), discontinuity in h/RT detected at Tmid = 1388.0\n",
      "\tValue computed using low-temperature polynomial:  23.34886835034715\n",
      "\tValue computed using high-temperature polynomial: 23.044741912998468\n",
      "\n",
      "CanteraWarning: NasaPoly2::validate: \n",
      "For species S(184), discontinuity in h/RT detected at Tmid = 1663.0\n",
      "\tValue computed using low-temperature polynomial:  17.851566210440517\n",
      "\tValue computed using high-temperature polynomial: 17.584191169927927\n",
      "\n",
      "CanteraWarning: NasaPoly2::validate: \n",
      "For species S(186), discontinuity in h/RT detected at Tmid = 1408.0\n",
      "\tValue computed using low-temperature polynomial:  13.515012643256144\n",
      "\tValue computed using high-temperature polynomial: 13.163843872551094\n",
      "\n",
      "CanteraWarning: NasaPoly2::validate: \n",
      "For species S(187), discontinuity in h/RT detected at Tmid = 1395.0\n",
      "\tValue computed using low-temperature polynomial:  1.4212892580873273\n",
      "\tValue computed using high-temperature polynomial: 0.9951476996714952\n",
      "\n",
      "CanteraWarning: NasaPoly2::validate: \n",
      "For species C4H8(188), discontinuity in h/RT detected at Tmid = 1000.0\n",
      "\tValue computed using low-temperature polynomial:  12.252685333333337\n",
      "\tValue computed using high-temperature polynomial: 12.045557840000003\n",
      "\n",
      "CanteraWarning: NasaPoly2::validate: \n",
      "For species C4H8(189), discontinuity in h/RT detected at Tmid = 1000.0\n",
      "\tValue computed using low-temperature polynomial:  10.868457000000001\n",
      "\tValue computed using high-temperature polynomial: 10.67697629333333\n",
      "\n",
      "CanteraWarning: NasaPoly2::validate: \n",
      "For species C4H7(190), discontinuity in h/RT detected at Tmid = 1000.0\n",
      "\tValue computed using low-temperature polynomial:  29.531616666666665\n",
      "\tValue computed using high-temperature polynomial: 29.321484153333333\n",
      "\n",
      "CanteraWarning: NasaPoly2::validate: \n",
      "For species C4H7(191), discontinuity in h/RT detected at Tmid = 1000.0\n",
      "\tValue computed using low-temperature polynomial:  38.76338666666667\n",
      "\tValue computed using high-temperature polynomial: 38.56380912666667\n",
      "\n",
      "CanteraWarning: NasaPoly2::validate: \n",
      "For species C4H7(192), discontinuity in h/RT detected at Tmid = 1000.0\n",
      "\tValue computed using low-temperature polynomial:  44.01855833333333\n",
      "\tValue computed using high-temperature polynomial: 43.824158113333326\n",
      "\n"
     ]
    },
    {
     "name": "stdout",
     "output_type": "stream",
     "text": [
      "CanteraWarning: NasaPoly2::validate: \n",
      "For species C4H6(194), discontinuity in h/RT detected at Tmid = 1000.0\n",
      "\tValue computed using low-temperature polynomial:  25.516044833333332\n",
      "\tValue computed using high-temperature polynomial: 25.249191016666668\n",
      "\n",
      "CanteraWarning: NasaPoly2::validate: \n",
      "For species C4H9O(198), discontinuity in h/RT detected at Tmid = 1392.0\n",
      "\tValue computed using low-temperature polynomial:  9.930607109940214\n",
      "\tValue computed using high-temperature polynomial: 9.54987024700578\n",
      "\n",
      "CanteraWarning: NasaPoly2::validate: \n",
      "For species S(200), discontinuity in h/RT detected at Tmid = 1399.0\n",
      "\tValue computed using low-temperature polynomial:  -0.5330225093028069\n",
      "\tValue computed using high-temperature polynomial: -0.9176177950578328\n",
      "\n",
      "CanteraWarning: NasaPoly2::validate: \n",
      "For species C4H7O(202), discontinuity in h/RT detected at Tmid = 1395.0\n",
      "\tValue computed using low-temperature polynomial:  22.488181349087316\n",
      "\tValue computed using high-temperature polynomial: 22.08819255065596\n",
      "\n",
      "CanteraWarning: NasaPoly2::validate: \n",
      "For species C4H8O(214), discontinuity in h/RT detected at Tmid = 1371.0\n",
      "\tValue computed using low-temperature polynomial:  6.69776039237299\n",
      "\tValue computed using high-temperature polynomial: 6.207492166569214\n",
      "\n",
      "CanteraWarning: NasaPoly2::validate: \n",
      "For species C4H9O(217), discontinuity in h/RT detected at Tmid = 1679.0\n",
      "\tValue computed using low-temperature polynomial:  15.845287841065236\n",
      "\tValue computed using high-temperature polynomial: 15.554039754599852\n",
      "\n",
      "CanteraWarning: NasaPoly2::validate: \n",
      "For species S(219), discontinuity in h/RT detected at Tmid = 1407.0\n",
      "\tValue computed using low-temperature polynomial:  19.962680157585844\n",
      "\tValue computed using high-temperature polynomial: 19.609072441877707\n",
      "\n",
      "CanteraWarning: NasaPoly2::validate: \n",
      "For species S(220), discontinuity in h/RT detected at Tmid = 1400.0\n",
      "\tValue computed using low-temperature polynomial:  21.28622322316191\n",
      "\tValue computed using high-temperature polynomial: 20.858103807311238\n",
      "\n",
      "CanteraWarning: NasaPoly2::validate: \n",
      "For species S(223), discontinuity in h/RT detected at Tmid = 1399.0\n",
      "\tValue computed using low-temperature polynomial:  19.65129274316229\n",
      "\tValue computed using high-temperature polynomial: 19.278899922409394\n",
      "\n",
      "CanteraWarning: NasaPoly2::validate: \n",
      "For species S(225), discontinuity in h/RT detected at Tmid = 1403.0\n",
      "\tValue computed using low-temperature polynomial:  9.470514232948183\n",
      "\tValue computed using high-temperature polynomial: 9.056941976712583\n",
      "\n",
      "CanteraWarning: NasaPoly2::validate: \n",
      "For species S(229), discontinuity in h/RT detected at Tmid = 1407.0\n",
      "\tValue computed using low-temperature polynomial:  9.55743639705306\n",
      "\tValue computed using high-temperature polynomial: 9.177944929288447\n",
      "\n",
      "CanteraWarning: NasaPoly2::validate: \n",
      "For species S(238), discontinuity in h/RT detected at Tmid = 1403.0\n",
      "\tValue computed using low-temperature polynomial:  13.81931415572628\n",
      "\tValue computed using high-temperature polynomial: 13.44134622351363\n",
      "\n",
      "CanteraWarning: NasaPoly2::validate: \n",
      "For species S(244), discontinuity in h/RT detected at Tmid = 1399.0\n",
      "\tValue computed using low-temperature polynomial:  12.458924594222363\n",
      "\tValue computed using high-temperature polynomial: 12.108358189784038\n",
      "\n",
      "CanteraWarning: NasaPoly2::validate: \n",
      "For species S(252), discontinuity in h/RT detected at Tmid = 1359.0\n",
      "\tValue computed using low-temperature polynomial:  -7.815297339834061\n",
      "\tValue computed using high-temperature polynomial: -8.281838236490088\n",
      "\n",
      "CanteraWarning: NasaPoly2::validate: \n",
      "For species S(256), discontinuity in h/RT detected at Tmid = 1683.0\n",
      "\tValue computed using low-temperature polynomial:  -0.6342914934635395\n",
      "\tValue computed using high-temperature polynomial: -0.9181948384272367\n",
      "\n",
      "CanteraWarning: NasaPoly2::validate: \n",
      "For species C2H4(687), discontinuity in h/RT detected at Tmid = 846.11\n",
      "\tValue computed using low-temperature polynomial:  63.294497228843966\n",
      "\tValue computed using high-temperature polynomial: 63.335223636981084\n",
      "\n",
      "CanteraWarning: NasaPoly2::validate: \n",
      "For species C3H6(688), discontinuity in h/RT detected at Tmid = 1060.58\n",
      "\tValue computed using low-temperature polynomial:  47.7758958286667\n",
      "\tValue computed using high-temperature polynomial: 47.65412148067001\n",
      "\n",
      "CanteraWarning: NasaPoly2::validate: \n",
      "For species C3H6(689), discontinuity in h/RT detected at Tmid = 1330.24\n",
      "\tValue computed using low-temperature polynomial:  44.56449585321344\n",
      "\tValue computed using high-temperature polynomial: 44.476692613442786\n",
      "\n",
      "CanteraWarning: NasaPoly2::validate: \n",
      "For species C2H4O(703), discontinuity in h/RT detected at Tmid = 1490.84\n",
      "\tValue computed using low-temperature polynomial:  27.756262015058944\n",
      "\tValue computed using high-temperature polynomial: 27.67366421548941\n",
      "\n",
      "CanteraWarning: NasaPoly2::validate: \n",
      "For species C4H8(748), discontinuity in h/RT detected at Tmid = 1631.52\n",
      "\tValue computed using low-temperature polynomial:  39.681884343387225\n",
      "\tValue computed using high-temperature polynomial: 39.52428790964481\n",
      "\n",
      "CanteraWarning: NasaPoly2::validate: \n",
      "For species C4H8O(766), discontinuity in h/RT detected at Tmid = 1580.38\n",
      "\tValue computed using low-temperature polynomial:  31.315277047362677\n",
      "\tValue computed using high-temperature polynomial: 31.14896494237405\n",
      "\n",
      "CanteraWarning: NasaPoly2::validate: \n",
      "For species C4H8(776), discontinuity in h/RT detected at Tmid = 1802.42\n",
      "\tValue computed using low-temperature polynomial:  42.08540920998283\n",
      "\tValue computed using high-temperature polynomial: 41.87709204313105\n",
      "\n",
      "CanteraWarning: NasaPoly2::validate: \n",
      "For species S(777), discontinuity in h/RT detected at Tmid = 473.59\n",
      "\tValue computed using low-temperature polynomial:  -36.06276179207745\n",
      "\tValue computed using high-temperature polynomial: -36.190312439188155\n",
      "\n",
      "CanteraWarning: NasaPoly2::validate: \n",
      "For species S(787), discontinuity in h/RT detected at Tmid = 949.21\n",
      "\tValue computed using low-temperature polynomial:  -21.482586140525967\n",
      "\tValue computed using high-temperature polynomial: -21.715196799213427\n",
      "\n",
      "CanteraWarning: NasaPoly2::validate: \n",
      "For species S(818), discontinuity in h/RT detected at Tmid = 2776.19\n",
      "\tValue computed using low-temperature polynomial:  15.962698779131733\n",
      "\tValue computed using high-temperature polynomial: 15.107315456200137\n",
      "\n",
      "CanteraWarning: NasaPoly2::validate: \n",
      "For species S(911), discontinuity in h/RT detected at Tmid = 1021.7\n",
      "\tValue computed using low-temperature polynomial:  0.9270732549084677\n",
      "\tValue computed using high-temperature polynomial: 0.5221455310633942\n",
      "\n",
      "CanteraWarning: NasaPoly2::validate: \n",
      "For species S(917), discontinuity in h/RT detected at Tmid = 966.61\n",
      "\tValue computed using low-temperature polynomial:  -11.59026830709482\n",
      "\tValue computed using high-temperature polynomial: -11.950774724817972\n",
      "\n",
      "CanteraWarning: NasaPoly2::validate: \n",
      "For species S(920), discontinuity in h/RT detected at Tmid = 490.8\n",
      "\tValue computed using low-temperature polynomial:  9.319163463626161\n",
      "\tValue computed using high-temperature polynomial: 9.266049603814675\n",
      "\n",
      "CanteraWarning: NasaPoly2::validate: \n",
      "For species S(928), discontinuity in h/RT detected at Tmid = 1010.6\n",
      "\tValue computed using low-temperature polynomial:  -8.191465136868693\n",
      "\tValue computed using high-temperature polynomial: -8.674314933249558\n",
      "\n",
      "CanteraWarning: NasaPoly2::validate: \n",
      "For species CH2O2(988), discontinuity in h/RT detected at Tmid = 1894.85\n",
      "\tValue computed using low-temperature polynomial:  12.77012874125414\n",
      "\tValue computed using high-temperature polynomial: 12.521132520861446\n",
      "\n",
      "CanteraWarning: NasaPoly2::validate: \n",
      "For species S(993), discontinuity in h/RT detected at Tmid = 877.57\n",
      "\tValue computed using low-temperature polynomial:  9.181025326123844\n",
      "\tValue computed using high-temperature polynomial: 9.27112304814764\n",
      "\n",
      "CanteraWarning: NasaPoly2::validate: \n",
      "For species C4H6(2530), discontinuity in h/RT detected at Tmid = 950.25\n",
      "\tValue computed using low-temperature polynomial:  31.91088029603698\n",
      "\tValue computed using high-temperature polynomial: 31.586948841102565\n",
      "\n",
      "CanteraWarning: NasaPoly2::validate: \n",
      "For species C4H6(2534), discontinuity in h/RT detected at Tmid = 999.35\n",
      "\tValue computed using low-temperature polynomial:  49.957139303925075\n",
      "\tValue computed using high-temperature polynomial: 49.70673866631877\n",
      "\n",
      "CanteraWarning: NasaPoly2::validate: \n",
      "For species C3H5(3498), discontinuity in h/RT detected at Tmid = 937.45\n",
      "\tValue computed using low-temperature polynomial:  49.34360557309395\n",
      "\tValue computed using high-temperature polynomial: 49.07086689957039\n",
      "\n",
      "CanteraWarning: NasaPoly2::validate: \n",
      "For species S(3513), discontinuity in h/RT detected at Tmid = 1108.68\n",
      "\tValue computed using low-temperature polynomial:  22.881811397737003\n",
      "\tValue computed using high-temperature polynomial: 22.70174524824911\n",
      "\n",
      "CanteraWarning: NasaPoly2::validate: \n",
      "For species S(4213), discontinuity in h/RT detected at Tmid = 885.26\n",
      "\tValue computed using low-temperature polynomial:  5.2359049386092185\n",
      "\tValue computed using high-temperature polynomial: 4.556958375650408\n",
      "\n"
     ]
    },
    {
     "name": "stdout",
     "output_type": "stream",
     "text": [
      "CanteraWarning: NasaPoly2::validate: \n",
      "For species S(4243), discontinuity in h/RT detected at Tmid = 1059.17\n",
      "\tValue computed using low-temperature polynomial:  24.58786528757453\n",
      "\tValue computed using high-temperature polynomial: 24.272786296453965\n",
      "\n",
      "CanteraWarning: NasaPoly2::validate: \n",
      "For species S(4244), discontinuity in h/RT detected at Tmid = 1310.93\n",
      "\tValue computed using low-temperature polynomial:  25.65129342782523\n",
      "\tValue computed using high-temperature polynomial: 25.51680333864407\n",
      "\n",
      "CanteraWarning: NasaPoly2::validate: \n",
      "For species C4H7(4343), discontinuity in h/RT detected at Tmid = 936.88\n",
      "\tValue computed using low-temperature polynomial:  43.23108488114937\n",
      "\tValue computed using high-temperature polynomial: 42.974074169338735\n",
      "\n",
      "CanteraWarning: NasaPoly2::validate: \n",
      "For species S(4407), discontinuity in h/RT detected at Tmid = 1493.99\n",
      "\tValue computed using low-temperature polynomial:  25.289221326036774\n",
      "\tValue computed using high-temperature polynomial: 25.170887720316664\n",
      "\n",
      "CanteraWarning: NasaPoly2::validate: \n",
      "For species C4H6(4880), discontinuity in h/RT detected at Tmid = 980.35\n",
      "\tValue computed using low-temperature polynomial:  72.68408493605675\n",
      "\tValue computed using high-temperature polynomial: 72.45145910529533\n",
      "\n",
      "CanteraWarning: NasaPoly2::validate: \n",
      "For species S(5093), discontinuity in h/RT detected at Tmid = 959.6\n",
      "\tValue computed using low-temperature polynomial:  -4.3547526077970495\n",
      "\tValue computed using high-temperature polynomial: -4.575863220776355\n",
      "\n",
      "CanteraWarning: NasaPoly2::validate: \n",
      "For species S(5151), discontinuity in h/RT detected at Tmid = 1562.93\n",
      "\tValue computed using low-temperature polynomial:  -0.6787876731554903\n",
      "\tValue computed using high-temperature polynomial: -0.8255720186484652\n",
      "\n",
      "CanteraWarning: NasaPoly2::validate: \n",
      "For species S(5161), discontinuity in h/RT detected at Tmid = 823.14\n",
      "\tValue computed using low-temperature polynomial:  -32.91686958581859\n",
      "\tValue computed using high-temperature polynomial: -33.14357695831311\n",
      "\n",
      "CanteraWarning: NasaPoly2::validate: \n",
      "For species S(5167), discontinuity in h/RT detected at Tmid = 953.42\n",
      "\tValue computed using low-temperature polynomial:  24.899018949338437\n",
      "\tValue computed using high-temperature polynomial: 24.628186840467094\n",
      "\n",
      "CanteraWarning: NasaPoly2::validate: \n",
      "For species S(5425), discontinuity in h/RT detected at Tmid = 892.26\n",
      "\tValue computed using low-temperature polynomial:  22.646857446380466\n",
      "\tValue computed using high-temperature polynomial: 22.232405776145686\n",
      "\n",
      "CanteraWarning: NasaPoly2::validate: \n",
      "For species S(5659), discontinuity in h/RT detected at Tmid = 1748.91\n",
      "\tValue computed using low-temperature polynomial:  6.1606203552266035\n",
      "\tValue computed using high-temperature polynomial: 5.976310562647624\n",
      "\n",
      "CanteraWarning: NasaPoly2::validate: \n",
      "For species S(5753), discontinuity in h/RT detected at Tmid = 1174.98\n",
      "\tValue computed using low-temperature polynomial:  16.231983475274294\n",
      "\tValue computed using high-temperature polynomial: 15.981454938849708\n",
      "\n",
      "CanteraWarning: NasaPoly2::validate: \n",
      "For species S(5761), discontinuity in h/RT detected at Tmid = 897.65\n",
      "\tValue computed using low-temperature polynomial:  -16.74962543784819\n",
      "\tValue computed using high-temperature polynomial: -17.15391135922133\n",
      "\n",
      "CanteraWarning: NasaPoly2::validate: \n",
      "For species S(5951), discontinuity in h/RT detected at Tmid = 923.1\n",
      "\tValue computed using low-temperature polynomial:  9.974784028833446\n",
      "\tValue computed using high-temperature polynomial: 9.570083829396204\n",
      "\n",
      "CanteraWarning: NasaPoly2::validate: \n",
      "For species S(9122), discontinuity in h/RT detected at Tmid = 790.84\n",
      "\tValue computed using low-temperature polynomial:  37.10833636174355\n",
      "\tValue computed using high-temperature polynomial: 37.080997950501\n",
      "\n",
      "CanteraWarning: NasaPoly2::validate: \n",
      "For species S(9510), discontinuity in h/RT detected at Tmid = 891.45\n",
      "\tValue computed using low-temperature polynomial:  4.255583354838661\n",
      "\tValue computed using high-temperature polynomial: 3.791948058564664\n",
      "\n",
      "CanteraWarning: NasaPoly2::validate: \n",
      "For species S(11705), discontinuity in h/RT detected at Tmid = 1129.65\n",
      "\tValue computed using low-temperature polynomial:  -16.794237875231325\n",
      "\tValue computed using high-temperature polynomial: -16.91796019913146\n",
      "\n",
      "CanteraWarning: NasaPoly2::validate: \n",
      "For species S(11851), discontinuity in h/RT detected at Tmid = 1128.37\n",
      "\tValue computed using low-temperature polynomial:  -15.293057916974043\n",
      "\tValue computed using high-temperature polynomial: -15.47895840979806\n",
      "\n",
      "CanteraWarning: NasaPoly2::validate: \n",
      "For species S(12103), discontinuity in h/RT detected at Tmid = 846.75\n",
      "\tValue computed using low-temperature polynomial:  -11.569569112469926\n",
      "\tValue computed using high-temperature polynomial: -11.66974268270656\n",
      "\n",
      "CanteraWarning: NasaPoly2::validate: \n",
      "For species S(13050), discontinuity in h/RT detected at Tmid = 1468.69\n",
      "\tValue computed using low-temperature polynomial:  10.467218141986248\n",
      "\tValue computed using high-temperature polynomial: 10.266696366862348\n",
      "\n"
     ]
    }
   ],
   "source": [
    "# Get perturned G values\n",
    "\n",
    "mod_gas = ct.Solution(cantera_file)\n",
    "for j in range(N):\n",
    "#     print(j)\n",
    "    # change just the one reaction\n",
    "    mod_gas.modify_species(j, perturbed_gas.species()[j])\n",
    "    \n",
    "    for i in range(temperatures.shape[1]):\n",
    "    \n",
    "        T = temperatures[0, i]\n",
    "        mod_gas.TPX = T, pressures[0, i], phi_dicts[int(i / 51)]\n",
    "        G_perturbed[j, i] = mod_gas.species()[j].thermo.h(T) - T * mod_gas.species()[j].thermo.s(T)\n",
    "\n",
    "    mod_gas.modify_species(j, gas.species()[j])"
   ]
  },
  {
   "cell_type": "code",
   "execution_count": 18,
   "id": "5669bc15",
   "metadata": {},
   "outputs": [],
   "source": [
    "# In theory, delta G should be 10% G_base, but apparently it isn't...\n",
    "# G has units Enthalpy [J/kg or J/kmol] it's J / kmol\n",
    "delta_G = G_perturbed - G_base\n",
    "delta_G_kcal_mol = delta_G / 4.184 / 1000.0 / 1000.0  # needs to be kcal/mol to match Gao paper"
   ]
  },
  {
   "cell_type": "code",
   "execution_count": 19,
   "id": "c87c8d3d",
   "metadata": {},
   "outputs": [
    {
     "data": {
      "text/plain": [
       "1.7499742014181026"
      ]
     },
     "execution_count": 19,
     "metadata": {},
     "output_type": "execute_result"
    }
   ],
   "source": [
    "np.min(delta_G_kcal_mol - (G_base * 0.1 / 4.184 / 1000.0 / 1000.0))"
   ]
  },
  {
   "cell_type": "code",
   "execution_count": null,
   "id": "b5e21ce7",
   "metadata": {},
   "outputs": [],
   "source": []
  },
  {
   "cell_type": "markdown",
   "id": "d1db87bf",
   "metadata": {},
   "source": [
    "### Now do reaction rate"
   ]
  },
  {
   "cell_type": "code",
   "execution_count": 20,
   "id": "fb51ee22",
   "metadata": {},
   "outputs": [],
   "source": [
    "# except we know that by definition, this is 0.1"
   ]
  },
  {
   "cell_type": "code",
   "execution_count": 21,
   "id": "f327d114",
   "metadata": {},
   "outputs": [],
   "source": [
    "delta_ln_k = 0.1 * np.ones((M, total_delays.shape[1]))"
   ]
  },
  {
   "cell_type": "code",
   "execution_count": null,
   "id": "77a0697d",
   "metadata": {},
   "outputs": [],
   "source": []
  },
  {
   "cell_type": "code",
   "execution_count": 22,
   "id": "ac69d34c",
   "metadata": {},
   "outputs": [],
   "source": [
    "# concatenate into a big delta matrix\n",
    "delta = np.concatenate((delta_G_kcal_mol, delta_ln_k), axis=0)"
   ]
  },
  {
   "cell_type": "markdown",
   "id": "efe9564b",
   "metadata": {},
   "source": [
    "### Put it all together into $\\frac{\\partial \\ln \\tau}{\\partial G}$ or $\\frac{\\partial \\ln \\tau}{\\partial \\ln k}$"
   ]
  },
  {
   "cell_type": "code",
   "execution_count": 23,
   "id": "382460f9",
   "metadata": {},
   "outputs": [],
   "source": [
    "# first derivative is change in delay / change in G\n",
    "first_derivative = np.divide(d_ln_tau, delta)"
   ]
  },
  {
   "cell_type": "markdown",
   "id": "dfce2870",
   "metadata": {},
   "source": [
    "### Display most sensitive parameters"
   ]
  },
  {
   "cell_type": "code",
   "execution_count": 24,
   "id": "a547797a",
   "metadata": {},
   "outputs": [
    {
     "name": "stdout",
     "output_type": "stream",
     "text": [
      "Top Sensitive Parameters\n",
      "i\tDelta\tReaction\tSensitivity\tImprovement Score\n",
      "398 \t 0.482995115 \t OH(15) + butane(1) <=> H2O(8) + SC4H9(183)\n",
      "190 \t 0.304888374 \t 2 HO2(16) <=> H2O2(17) + O2(2)\n",
      "150 \t 0.304888206 \t 2 HO2(16) <=> H2O2(17) + O2(2)\n",
      "430 \t 0.28937494 \t S(186) <=> C4H8(189) + HO2(16)\n",
      "81 \t 0.232396763 \t <Species S(223)>\n",
      "468 \t 0.198704275 \t S(184) <=> C4H8(188) + HO2(16)\n",
      "469 \t 0.19050385 \t S(186) <=> C4H8(188) + HO2(16)\n",
      "603 \t 0.146794254 \t S(219) <=> C4H8O(214) + OH(15)\n",
      "38 \t 0.074325315 \t <Species CH3O2(45)>\n",
      "294 \t 0.051943633 \t CH3(18) + HO2(16) <=> CH4(10) + O2(2)\n"
     ]
    },
    {
     "name": "stderr",
     "output_type": "stream",
     "text": [
      "/work/westgroup/harris.se/tst_env/lib/python3.7/site-packages/ipykernel_launcher.py:1: RuntimeWarning: Mean of empty slice\n",
      "  \"\"\"Entry point for launching an IPython kernel.\n"
     ]
    }
   ],
   "source": [
    "avg_first_derivative = np.nanmean(first_derivative, axis=1)\n",
    "avg_first_derivative[np.isnan(avg_first_derivative)] = -np.inf\n",
    "\n",
    "parameter_indices = np.arange(0, N + M)\n",
    "reaction_sensitivity_order = [x for _, x in sorted(zip(avg_first_derivative, parameter_indices))][::-1]\n",
    "\n",
    "print('Top Sensitive Parameters')\n",
    "print('i\\tDelta\\tReaction\\tSensitivity\\tImprovement Score')\n",
    "for i in range(0, 10):\n",
    "    ct_index = reaction_sensitivity_order[i]\n",
    "    \n",
    "    if ct_index < N:\n",
    "        print(ct_index, '\\t', np.round(avg_first_derivative[ct_index,0], 9),\n",
    "              '\\t', gas.species()[ct_index], )\n",
    "    else:\n",
    "        print(ct_index, '\\t', np.round(avg_first_derivative[ct_index,0], 9),\n",
    "              '\\t', gas.reactions()[ct_index - N])"
   ]
  },
  {
   "cell_type": "code",
   "execution_count": null,
   "id": "70c900ee",
   "metadata": {},
   "outputs": [],
   "source": []
  },
  {
   "cell_type": "markdown",
   "id": "0b9c4b18",
   "metadata": {},
   "source": [
    "# Compute Improvement Score"
   ]
  },
  {
   "cell_type": "code",
   "execution_count": 109,
   "id": "1b458261",
   "metadata": {},
   "outputs": [
    {
     "name": "stderr",
     "output_type": "stream",
     "text": [
      "/work/westgroup/harris.se/tst_env/lib/python3.7/site-packages/ipykernel_launcher.py:6: RuntimeWarning: Mean of empty slice\n",
      "  \n"
     ]
    }
   ],
   "source": [
    "delta_uncertainty_squared = total_uncertainty_mat - 3.0  # assume this is already squared in Connie's calculations\n",
    "sensitivity_squared = np.float_power(first_derivative, 2.0)\n",
    "\n",
    "improvement_score = np.multiply(delta_uncertainty_squared, sensitivity_squared)\n",
    "\n",
    "avg_improvement_score = np.nanmean(improvement_score, axis=1)\n",
    "avg_improvement_score[np.isnan(avg_improvement_score)] = -np.inf\n",
    "\n",
    "improvement_score[np.isnan(improvement_score)] = -np.inf"
   ]
  },
  {
   "cell_type": "code",
   "execution_count": 110,
   "id": "f4be0346",
   "metadata": {},
   "outputs": [
    {
     "data": {
      "text/plain": [
       "2653"
      ]
     },
     "execution_count": 110,
     "metadata": {},
     "output_type": "execute_result"
    }
   ],
   "source": [
    "len(avg_improvement_score)"
   ]
  },
  {
   "cell_type": "markdown",
   "id": "6dc0a366",
   "metadata": {},
   "source": [
    "### Display Top Improvement Scores"
   ]
  },
  {
   "cell_type": "code",
   "execution_count": 111,
   "id": "4f59998c",
   "metadata": {},
   "outputs": [
    {
     "name": "stdout",
     "output_type": "stream",
     "text": [
      "Top Improvement Scores\n",
      "i\tDelta\tReaction\tSensitivity\tImprovement Score\n",
      "959 \t 0.013119538 \t OH(15) + S(777) <=> S(787) R_Recombination\n",
      "232 \t 0.000148829 \t C2H5(33) + HO2(16) <=> C2H4(11) + H2O2(17) Disproportionation\n",
      "943 \t 0.000141717 \t O2(2) + S(777) <=> HO2(16) + S(252) Disproportionation\n",
      "2469 \t 2.9581e-05 \t C2H3CO(75) + C3H6(12) <=> C3H4O(74) + C3H5-A(94) H_Abstraction\n",
      "776 \t 2.0278e-05 \t C4H8(189) + HCO(19) <=> C4H7(190) + CH2O(9) H_Abstraction\n",
      "821 \t 1.8832e-05 \t C4H7(190) + HO2(16) <=> C4H6(194) + H2O2(17) Disproportionation\n",
      "2283 \t 1.7007e-05 \t C2H3OH(58) + HCO(19) <=> CH2CHO(21) + CH2O(9) H_Abstraction\n",
      "346 \t 1.2413e-05 \t S(229) <=> S(225) intra_H_migration\n",
      "99 \t 6.987e-06 \t <Species S(911)>\n",
      "443 \t 6.791e-06 \t CH2CHO(21) + HO2(16) <=> CH2CO(24) + H2O2(17) Disproportionation\n"
     ]
    }
   ],
   "source": [
    "parameter_indices = np.arange(0, N + M)\n",
    "improvement_order = [x for _, x in sorted(zip(avg_improvement_score, parameter_indices))][::-1]\n",
    "\n",
    "print('Top Improvement Scores')\n",
    "print('i\\tDelta\\tReaction\\tSensitivity\\tImprovement Score')\n",
    "for i in range(0, 10):\n",
    "    ct_index = improvement_order[i]\n",
    "    \n",
    "    if ct_index < N:\n",
    "        print(ct_index, '\\t', np.round(avg_improvement_score[ct_index, 0], 9),\n",
    "              '\\t', gas.species()[ct_index], )\n",
    "    else:\n",
    "        family = 'PDEP'\n",
    "        try:\n",
    "            family = reaction_list[ct2rmg_rxn[ct_index - N]].family\n",
    "        except AttributeError:\n",
    "            pass\n",
    "        print(ct_index - N, '\\t', np.round(avg_improvement_score[ct_index, 0], 9),\n",
    "              '\\t', gas.reactions()[ct_index - N], family)"
   ]
  },
  {
   "cell_type": "code",
   "execution_count": null,
   "id": "e3e72f11",
   "metadata": {},
   "outputs": [],
   "source": []
  },
  {
   "cell_type": "code",
   "execution_count": 178,
   "id": "f48352aa",
   "metadata": {},
   "outputs": [
    {
     "name": "stdout",
     "output_type": "stream",
     "text": [
      "1525\n"
     ]
    }
   ],
   "source": [
    "# get just the top 50 database reaction numbers\n",
    "my_improvement_index = 991\n",
    "my_improvement_index = 574\n",
    "my_improvement_index = 1027\n",
    "my_improvement_index = 1936\n",
    "my_improvement_index = 2601\n",
    "my_improvement_index = 1484\n",
    "my_improvement_index = 739\n",
    "my_improvement_index = 742\n",
    "\n",
    "my_improvement_index = 1683\n",
    "\n",
    "rmg_index = ct2rmg_rxn[my_improvement_index - N]\n",
    "rxn_smiles = thermokinetic_fun.reaction2smiles(reaction_list[rmg_index])\n",
    "db_index = thermokinetic_fun.reaction_smiles2index(rxn_smiles)\n",
    "print(db_index)\n"
   ]
  },
  {
   "cell_type": "code",
   "execution_count": 155,
   "id": "03582c51",
   "metadata": {},
   "outputs": [],
   "source": [
    "# # get just the top 50 database reaction numbers\n",
    "# db_indices = np.zeros(N + M)\n",
    "# for i in range(0, 50):\n",
    "#     ct_index = improvement_order[i]\n",
    "#     if ct_index < N:\n",
    "#         continue\n",
    "#     rmg_index = ct2rmg_rxn[ct_index - N]\n",
    "#     rxn_smiles = thermokinetic_fun.reaction2smiles(reaction_list[rmg_index])\n",
    "#     db_index = thermokinetic_fun.reaction_smiles2index(rxn_smiles)\n",
    "#     db_indices[ct_index] = db_index\n",
    "#     print(rmg_index, db_index)"
   ]
  },
  {
   "cell_type": "code",
   "execution_count": null,
   "id": "7fcbe4e4",
   "metadata": {},
   "outputs": [],
   "source": []
  },
  {
   "cell_type": "code",
   "execution_count": null,
   "id": "321bad93",
   "metadata": {},
   "outputs": [],
   "source": []
  },
  {
   "cell_type": "code",
   "execution_count": null,
   "id": "bb481761",
   "metadata": {},
   "outputs": [],
   "source": [
    "# save the results to a csv\n",
    "total_df = pd.DataFrame()\n",
    "\n",
    "# db_indices = []\n",
    "ct_indices = []\n",
    "rmg_indices = []\n",
    "names = []\n",
    "entry_types = []\n",
    "sensitivities = []\n",
    "uncertainties = []\n",
    "improvement_scores = []\n",
    "\n",
    "for i in range(0, len(gas.species())):\n",
    "    smiles = species_list[i].smiles\n",
    "    db_indices[i] = thermokinetic_fun.species_smiles2index(smiles)\n",
    "#     db_indices.append(thermokinetic_fun.species_smiles2index(smiles))\n",
    "    ct_indices.append(i)\n",
    "    rmg_indices.append(i)\n",
    "    names.append(smiles)\n",
    "    entry_types.append('species')\n",
    "    sensitivities.append(avg_first_derivative[i, 0])\n",
    "    uncertainties.append(total_uncertainty_array[i])\n",
    "    improvement_scores.append(avg_improvement_score[i, 0])\n",
    "    \n",
    "\n",
    "for i in range(0, len(gas.reactions())):\n",
    "    rmg_index = ct2rmg_rxn[i]\n",
    "#     rxn_smiles = thermokinetic_fun.reaction2smiles(reaction_list[rmg_index])\n",
    "#     db_index = thermokinetic_fun.reaction_smiles2index(rxn_smiles)\n",
    "#     db_indices.append(db_index)\n",
    "    ct_indices.append(i)\n",
    "    rmg_indices.append(rmg_index)\n",
    "    names.append(str(reaction_list[rmg_index]))\n",
    "    entry_types.append('reaction')\n",
    "    sensitivities.append(avg_first_derivative[N + i, 0])\n",
    "    uncertainties.append(total_uncertainty_array[N + i])\n",
    "    improvement_scores.append(avg_improvement_score[N + i, 0])\n",
    "    \n",
    "\n",
    "total_df['db_index'] = db_indices\n",
    "total_df['ct_index'] = ct_indices\n",
    "total_df['rmg_index'] = rmg_indices\n",
    "total_df['name'] = names\n",
    "total_df['entry_type'] = entry_types\n",
    "total_df['sensitivity'] = sensitivities\n",
    "total_df['uncertainty'] = uncertainties\n",
    "total_df['improvement_score'] = improvement_scores\n",
    "total_df.to_csv(os.path.join(basedir, 'mechanism_summary.csv'))\n"
   ]
  },
  {
   "cell_type": "code",
   "execution_count": null,
   "id": "b6cce1fa",
   "metadata": {},
   "outputs": [],
   "source": [
    "i = 1110\n",
    "print(reaction_list[i])\n",
    "print(reaction_list[i].family)"
   ]
  },
  {
   "cell_type": "code",
   "execution_count": null,
   "id": "81f73e0d",
   "metadata": {},
   "outputs": [],
   "source": []
  },
  {
   "cell_type": "code",
   "execution_count": 29,
   "id": "d4788ff5",
   "metadata": {},
   "outputs": [
    {
     "name": "stdout",
     "output_type": "stream",
     "text": [
      "[[1.02776059e-07]]\n"
     ]
    },
    {
     "data": {
      "image/png": "[encoded data removed]",
      "text/plain": [
       "<Figure size 432x288 with 1 Axes>"
      ]
     },
     "metadata": {
      "needs_background": "light"
     },
     "output_type": "display_data"
    }
   ],
   "source": [
    "param_index = 1003\n",
    "these_delays = np.array(first_derivative[param_index,:])\n",
    "plt.plot(np.transpose(these_delays))\n",
    "# print(these_delays.shape)\n",
    "\n",
    "print(avg_first_derivative[param_index])"
   ]
  },
  {
   "cell_type": "code",
   "execution_count": 40,
   "id": "8dc250df",
   "metadata": {},
   "outputs": [
    {
     "name": "stdout",
     "output_type": "stream",
     "text": [
      "7.46232658910273e-05\n",
      "770.64\n",
      "1013250.0\n",
      "{'O2(2)': 0.2038, 'butane(1)': 0.03135, 'N2': 0.7649, 'Ar': 0.0, 'CO2(7)': 0.0}\n"
     ]
    }
   ],
   "source": [
    "print(first_derivative[param_index, 156])\n",
    "print(temperatures[param_index, 156])\n",
    "print(pressures[param_index, 156])\n",
    "print(phi_dicts[int(156 / 51)])"
   ]
  },
  {
   "cell_type": "code",
   "execution_count": 58,
   "id": "2b7d94b5",
   "metadata": {},
   "outputs": [
    {
     "data": {
      "text/plain": [
       "415"
      ]
     },
     "execution_count": 58,
     "metadata": {},
     "output_type": "execute_result"
    }
   ],
   "source": [
    "np.argmax(these_delays)"
   ]
  },
  {
   "cell_type": "code",
   "execution_count": 62,
   "id": "0b4fb375",
   "metadata": {},
   "outputs": [
    {
     "data": {
      "text/plain": [
       "nan"
      ]
     },
     "execution_count": 62,
     "metadata": {},
     "output_type": "execute_result"
    }
   ],
   "source": [
    "these_delays[0, 415]"
   ]
  },
  {
   "cell_type": "code",
   "execution_count": 38,
   "id": "6a6a89e3",
   "metadata": {},
   "outputs": [
    {
     "data": {
      "text/plain": [
       "12"
      ]
     },
     "execution_count": 38,
     "metadata": {},
     "output_type": "execute_result"
    }
   ],
   "source": [
    "len(phi_dicts)"
   ]
  },
  {
   "cell_type": "code",
   "execution_count": 42,
   "id": "d10d8ccb",
   "metadata": {},
   "outputs": [
    {
     "data": {
      "text/plain": [
       "array([-0.20887562, -0.20887562, -0.20887562, -0.20887562, -0.20887562,\n",
       "       -0.20887562, -0.20887562, -0.20887562, -0.20887562, -0.20887562,\n",
       "       -0.20887562, -0.20887562, -0.20887562, -0.20887562, -0.20887562,\n",
       "       -0.20887562, -0.20887562, -0.20887562, -0.20887562, -0.20887562,\n",
       "       -0.20887562, -0.20887562, -0.20887562, -0.20887562, -0.20887562,\n",
       "       -0.20887562, -0.20887562, -0.20887562, -0.20887562, -0.20887562,\n",
       "       -0.20887562, -0.20887562, -0.20887562, -0.20887562, -0.20887562,\n",
       "       -0.20887562, -0.20887562, -0.20887562, -0.20887562, -0.20887562,\n",
       "       -0.20887562, -0.20887562, -0.20887562, -0.20887562, -0.20887562,\n",
       "       -0.20887562, -0.20887562, -0.20887562, -0.20887562, -0.20887562,\n",
       "       -0.20887562, -0.20887562, -0.20887562, -0.20887562, -0.20887562,\n",
       "       -0.20887562, -0.20887562, -0.20887562, -0.20887562, -0.20887562,\n",
       "       -0.20887562, -0.20887562, -0.20887562, -0.20887562, -0.20887562,\n",
       "       -0.20887562, -0.20887562, -0.20887562, -0.20887562, -0.20887562,\n",
       "       -0.20887562, -0.20887562, -0.20887562, -0.20887562, -0.20887562,\n",
       "       -0.20887562, -0.20887562, -0.20887562, -0.20887562, -0.20887562,\n",
       "       -0.20887562, -0.20887562, -0.20887562, -0.20887562, -0.20887562,\n",
       "       -0.20887562, -0.20887562, -0.20887562, -0.20887562, -0.20887562,\n",
       "       -0.20887562, -0.20887562, -0.20887562, -0.20887562, -0.20887562,\n",
       "       -0.20887562, -0.20887562, -0.20887562, -0.20887562, -0.20887562,\n",
       "       -0.20887562, -0.20887562, -0.20887562, -0.20887562, -0.20887562,\n",
       "       -0.20887562, -0.20887562, -0.20887562, -0.20887562, -0.20887562,\n",
       "       -0.20887562, -0.20887562, -0.20887562, -0.20887562, -0.20887562,\n",
       "       -0.20887562, -0.20887562, -0.20887562, -0.20887562, -0.20887562,\n",
       "       -0.20887562, -0.20887562, -0.20887562, -0.20887562, -0.20887562,\n",
       "       -0.20887562, -0.20887562, -0.20887562, -0.20887562, -0.20887562,\n",
       "       -0.20887562, -0.20887562, -0.20887562, -0.20887562, -0.20887562,\n",
       "       -0.20887562, -0.20887562, -0.20887562, -0.20887562, -0.20887562,\n",
       "       -0.20887562, -0.20887562, -0.20887562, -0.20887562, -0.20887562,\n",
       "       -0.20887562, -0.20887562, -0.20887562, -0.20887562, -0.20887562,\n",
       "       -0.20887562, -0.20887562, -0.20887562, -0.20887562, -0.20887562,\n",
       "       -0.20887562, -0.20887562, -0.20887562, -0.20887562, -0.20887562,\n",
       "       -0.20887562, -0.20887562, -0.20887562, -0.20887562, -0.20887562,\n",
       "       -0.20887562, -0.20887562, -0.20887562, -0.20887562, -0.20887562,\n",
       "       -0.20887562, -0.20887562, -0.20887562, -0.20887562, -0.20887562,\n",
       "       -0.20887562, -0.20887562, -0.20887562, -0.20887562, -0.20887562,\n",
       "       -0.20887562, -0.20887562, -0.20887562, -0.20887562, -0.20887562,\n",
       "       -0.20887562, -0.20887562, -0.20887562, -0.20887562, -0.20887562,\n",
       "       -0.20887562, -0.20887562, -0.20887562, -0.20887562, -0.20887562,\n",
       "       -0.20887562, -0.20887562, -0.20887562, -0.20887562, -0.20887562,\n",
       "       -0.20887562, -0.20887562, -0.20887562, -0.20887562, -0.20887562,\n",
       "       -0.20887562, -0.20887562, -0.20887562, -0.20887562, -0.20887562,\n",
       "       -0.20887562, -0.20887562, -0.20887562, -0.20887562, -0.20887562,\n",
       "       -0.20887562, -0.20887562, -0.20887562, -0.20887562, -0.20887562,\n",
       "       -0.20887562, -0.20887562, -0.20887562, -0.20887562, -0.20887562,\n",
       "       -0.20887562, -0.20887562, -0.20887562, -0.20887562, -0.20887562,\n",
       "       -0.20887562, -0.20887562, -0.20887562, -0.20887562, -0.20887562,\n",
       "       -0.20887562, -0.20887562, -0.20887562, -0.20887562, -0.20887562,\n",
       "       -0.20887562, -0.20887562, -0.20887562, -0.20887562, -0.20887562,\n",
       "       -0.20887562, -0.20887562, -0.20887562, -0.20887562, -0.20887562,\n",
       "       -0.20887562, -0.20887562, -0.20887562, -0.20887562, -0.20887562,\n",
       "       -0.20887562, -0.20887562, -0.20887562, -0.20887562, -0.20887562,\n",
       "       -0.20887562, -0.20887562, -0.20887562, -0.20887562, -0.20887562,\n",
       "       -0.20887562, -0.20887562, -0.20887562, -0.20887562, -0.20887562,\n",
       "       -0.20887562, -0.20887562, -0.20887562, -0.20887562, -0.20887562,\n",
       "       -0.20887562, -0.20887562, -0.20887562, -0.20887562, -0.20887562,\n",
       "       -0.20887562, -0.20887562, -0.20887562, -0.20887562, -0.20887562,\n",
       "       -0.20887562, -0.20887562, -0.20887562, -0.20887562, -0.20887562,\n",
       "       -0.20887562, -0.20887562, -0.20887562, -0.20887562, -0.20887562,\n",
       "       -0.20887562, -0.20887562, -0.20887562, -0.20887562, -0.20887562,\n",
       "       -0.20887562, -0.20887562, -0.20887562, -0.20887562, -0.20887562,\n",
       "       -0.20887562, -0.20887562, -0.20887562, -0.20887562, -0.20887562,\n",
       "       -0.20887562, -0.20887562, -0.20887562, -0.20887562, -0.20887562,\n",
       "       -0.20887562, -0.20887562, -0.20887562, -0.20887562, -0.20887562,\n",
       "       -0.20887562, -0.20887562, -0.20887562, -0.20887562, -0.20887562,\n",
       "       -0.20887562, -0.20887562, -0.20887562, -0.20887562, -0.20887562,\n",
       "       -0.20887562, -0.20887562, -0.20887562, -0.20887562, -0.20887562,\n",
       "       -0.20887562, -0.20887562, -0.20887562, -0.20887562, -0.20887562,\n",
       "       -0.20887562, -0.20887562, -0.20887562, -0.20887562, -0.20887562,\n",
       "       -0.20887562, -0.20887562, -0.20887562, -0.20887562, -0.20887562,\n",
       "       -0.20887562, -0.20887562, -0.20887562, -0.20887562, -0.20887562,\n",
       "       -0.20887562, -0.20887562, -0.20887562, -0.20887562, -0.20887562,\n",
       "       -0.20887562, -0.20887562, -0.20887562, -0.20887562, -0.20887562,\n",
       "       -0.20887562, -0.20887562, -0.20887562, -0.20887562, -0.20887562,\n",
       "       -0.20887562, -0.20887562, -0.20887562, -0.20887562, -0.20887562,\n",
       "       -0.20887562, -0.20887562, -0.20887562, -0.20887562, -0.20887562,\n",
       "       -0.20887562, -0.20887562, -0.20887562, -0.20887562, -0.20887562,\n",
       "       -0.20887562, -0.20887562, -0.20887562, -0.20887562, -0.20887562,\n",
       "       -0.20887562, -0.20887562, -0.20887562, -0.20887562, -0.20887562,\n",
       "       -0.20887562, -0.20887562, -0.20887562, -0.20887562, -0.20887562,\n",
       "       -0.20887562, -0.20887562, -0.20887562, -0.20887562, -0.20887562,\n",
       "       -0.20887562, -0.20887562, -0.20887562, -0.20887562, -0.20887562,\n",
       "       -0.20887562, -0.20887562, -0.20887562, -0.20887562, -0.20887562,\n",
       "       -0.20887562, -0.20887562, -0.20887562, -0.20887562, -0.20887562,\n",
       "       -0.20887562, -0.20887562, -0.20887562, -0.20887562, -0.20887562,\n",
       "       -0.20887562, -0.20887562, -0.20887562, -0.20887562, -0.20887562,\n",
       "       -0.20887562, -0.20887562, -0.20887562, -0.20887562, -0.20887562,\n",
       "       -0.20887562, -0.20887562, -0.20887562, -0.20887562, -0.20887562,\n",
       "       -0.20887562, -0.20887562, -0.20887562, -0.20887562, -0.20887562,\n",
       "       -0.20887562, -0.20887562, -0.20887562, -0.20887562, -0.20887562,\n",
       "       -0.20887562, -0.20887562, -0.20887562, -0.20887562, -0.20887562,\n",
       "       -0.20887562, -0.20887562, -0.20887562, -0.20887562, -0.20887562,\n",
       "       -0.20887562, -0.20887562, -0.20887562, -0.20887562, -0.20887562,\n",
       "       -0.20887562, -0.20887562, -0.20887562, -0.20887562, -0.20887562,\n",
       "       -0.20887562, -0.20887562, -0.20887562, -0.20887562, -0.20887562,\n",
       "       -0.20887562, -0.20887562, -0.20887562, -0.20887562, -0.20887562,\n",
       "       -0.20887562, -0.20887562, -0.20887562, -0.20887562, -0.20887562,\n",
       "       -0.20887562, -0.20887562, -0.20887562, -0.20887562, -0.20887562,\n",
       "       -0.20887562, -0.20887562, -0.20887562, -0.20887562, -0.20887562,\n",
       "       -0.20887562, -0.20887562, -0.20887562, -0.20887562, -0.20887562,\n",
       "       -0.20887562, -0.20887562, -0.20887562, -0.20887562, -0.20887562,\n",
       "       -0.20887562, -0.20887562, -0.20887562, -0.20887562, -0.20887562,\n",
       "       -0.20887562, -0.20887562, -0.20887562, -0.20887562, -0.20887562,\n",
       "       -0.20887562, -0.20887562, -0.20887562, -0.20887562, -0.20887562,\n",
       "       -0.20887562, -0.20887562, -0.20887562, -0.20887562, -0.20887562,\n",
       "       -0.20887562, -0.20887562, -0.20887562, -0.20887562, -0.20887562,\n",
       "       -0.20887562, -0.20887562, -0.20887562, -0.20887562, -0.20887562,\n",
       "       -0.20887562, -0.20887562, -0.20887562, -0.20887562, -0.20887562,\n",
       "       -0.20887562, -0.20887562, -0.20887562, -0.20887562, -0.20887562,\n",
       "       -0.20887562, -0.20887562, -0.20887562, -0.20887562, -0.20887562,\n",
       "       -0.20887562, -0.20887562, -0.20887562, -0.20887562, -0.20887562,\n",
       "       -0.20887562, -0.20887562, -0.20887562, -0.20887562, -0.20887562,\n",
       "       -0.20887562, -0.20887562, -0.20887562, -0.20887562, -0.20887562,\n",
       "       -0.20887562, -0.20887562, -0.20887562, -0.20887562, -0.20887562,\n",
       "       -0.20887562, -0.20887562, -0.20887562, -0.20887562, -0.20887562,\n",
       "       -0.20887562, -0.20887562, -0.20887562, -0.20887562, -0.20887562,\n",
       "       -0.20887562, -0.20887562, -0.20887562, -0.20887562, -0.20887562,\n",
       "       -0.20887562, -0.20887562, -0.20887562, -0.20887562, -0.20887562,\n",
       "       -0.20887562, -0.20887562, -0.20887562, -0.20887562, -0.20887562,\n",
       "       -0.20887562, -0.20887562, -0.20887562, -0.20887562, -0.20887562,\n",
       "       -0.20887562, -0.20887562, -0.20887562, -0.20887562, -0.20887562,\n",
       "       -0.20887562, -0.20887562, -0.20887562, -0.20887562, -0.20887562,\n",
       "       -0.20887562, -0.20887562])"
      ]
     },
     "execution_count": 42,
     "metadata": {},
     "output_type": "execute_result"
    }
   ],
   "source": [
    "delta[0, :]"
   ]
  },
  {
   "cell_type": "code",
   "execution_count": 36,
   "id": "6cbf0372",
   "metadata": {},
   "outputs": [
    {
     "data": {
      "text/plain": [
       "nan"
      ]
     },
     "execution_count": 36,
     "metadata": {},
     "output_type": "execute_result"
    }
   ],
   "source": [
    "first_derivative[0, 415]"
   ]
  },
  {
   "cell_type": "code",
   "execution_count": 69,
   "id": "e8f9dba1",
   "metadata": {},
   "outputs": [
    {
     "data": {
      "text/plain": [
       "[<matplotlib.lines.Line2D at 0x2ba41a688a50>]"
      ]
     },
     "execution_count": 69,
     "metadata": {},
     "output_type": "execute_result"
    },
    {
     "data": {
      "image/png": "[encoded data removed]",
      "text/plain": [
       "<Figure size 432x288 with 1 Axes>"
      ]
     },
     "metadata": {
      "needs_background": "light"
     },
     "output_type": "display_data"
    }
   ],
   "source": [
    "my_slice = total_delays[:, 156] - np.ravel(total_base_delays[:, 156])[:]\n",
    "\n",
    "plt.plot(my_slice)"
   ]
  },
  {
   "cell_type": "code",
   "execution_count": 73,
   "id": "ed672a0d",
   "metadata": {},
   "outputs": [
    {
     "data": {
      "text/plain": [
       "0.9447936024934791"
      ]
     },
     "execution_count": 73,
     "metadata": {},
     "output_type": "execute_result"
    }
   ],
   "source": [
    "np.nanmax(my_slice)"
   ]
  },
  {
   "cell_type": "code",
   "execution_count": null,
   "id": "7638470f",
   "metadata": {},
   "outputs": [],
   "source": []
  },
  {
   "cell_type": "code",
   "execution_count": 74,
   "id": "f2be44b3",
   "metadata": {},
   "outputs": [
    {
     "name": "stdout",
     "output_type": "stream",
     "text": [
      "97 0.9447936024934791\n"
     ]
    }
   ],
   "source": [
    "for i in range(0, 200):\n",
    "    if my_slice[i] == np.nanmax(my_slice):\n",
    "        print(i, my_slice[i])"
   ]
  },
  {
   "cell_type": "code",
   "execution_count": 75,
   "id": "009d1c8d",
   "metadata": {},
   "outputs": [
    {
     "data": {
      "text/plain": [
       "0.9447936024934791"
      ]
     },
     "execution_count": 75,
     "metadata": {},
     "output_type": "execute_result"
    }
   ],
   "source": [
    "my_slice[97]"
   ]
  },
  {
   "cell_type": "code",
   "execution_count": null,
   "id": "516981d5",
   "metadata": {},
   "outputs": [],
   "source": []
  },
  {
   "cell_type": "code",
   "execution_count": 66,
   "id": "e83312b9",
   "metadata": {},
   "outputs": [
    {
     "data": {
      "text/plain": [
       "(2653,)"
      ]
     },
     "execution_count": 66,
     "metadata": {},
     "output_type": "execute_result"
    }
   ],
   "source": [
    "my_slice.shape"
   ]
  },
  {
   "cell_type": "code",
   "execution_count": 67,
   "id": "34546c75",
   "metadata": {},
   "outputs": [
    {
     "data": {
      "text/plain": [
       "(2653,)"
      ]
     },
     "execution_count": 67,
     "metadata": {},
     "output_type": "execute_result"
    }
   ],
   "source": [
    "total_delays[:, 156].shape"
   ]
  },
  {
   "cell_type": "code",
   "execution_count": 77,
   "id": "406d1741",
   "metadata": {},
   "outputs": [
    {
     "data": {
      "text/plain": [
       "[<matplotlib.lines.Line2D at 0x2ba41a504b90>]"
      ]
     },
     "execution_count": 77,
     "metadata": {},
     "output_type": "execute_result"
    },
    {
     "data": {
      "image/png": "[encoded data removed]",
      "text/plain": [
       "<Figure size 432x288 with 1 Axes>"
      ]
     },
     "metadata": {
      "needs_background": "light"
     },
     "output_type": "display_data"
    }
   ],
   "source": [
    "i = 0\n",
    "plt.plot(np.ravel(first_derivative[i, :]))"
   ]
  },
  {
   "cell_type": "code",
   "execution_count": 78,
   "id": "dc2cfdd4",
   "metadata": {},
   "outputs": [
    {
     "data": {
      "text/plain": [
       "-3.57334385504138e-05"
      ]
     },
     "execution_count": 78,
     "metadata": {},
     "output_type": "execute_result"
    }
   ],
   "source": [
    "first_derivative[0, 156]"
   ]
  },
  {
   "cell_type": "markdown",
   "id": "41356645",
   "metadata": {},
   "source": [
    "## Get Improvement Score by Condition"
   ]
  },
  {
   "cell_type": "code",
   "execution_count": 116,
   "id": "27ea34db",
   "metadata": {},
   "outputs": [],
   "source": [
    "# get improvement score at a particular condition:\n",
    "\n",
    "condition_index = 382  # all top 10 are in top 50\n",
    "\n",
    "condition_index = 415\n",
    "# nothing at condition 415 worked"
   ]
  },
  {
   "cell_type": "code",
   "execution_count": 117,
   "id": "c96d660d",
   "metadata": {},
   "outputs": [
    {
     "data": {
      "text/plain": [
       "(2653, 612)"
      ]
     },
     "execution_count": 117,
     "metadata": {},
     "output_type": "execute_result"
    }
   ],
   "source": [
    "improvement_score.shape"
   ]
  },
  {
   "cell_type": "code",
   "execution_count": 118,
   "id": "4c846e66",
   "metadata": {},
   "outputs": [],
   "source": [
    "single_improvement_score = np.ravel(improvement_score[:, condition_index])\n",
    "single_improvement_score[np.isnan(single_improvement_score)] = -np.inf"
   ]
  },
  {
   "cell_type": "code",
   "execution_count": 119,
   "id": "08507eee",
   "metadata": {},
   "outputs": [
    {
     "name": "stdout",
     "output_type": "stream",
     "text": [
      "Top Improvement Scores\n",
      "i\tDelta\tReaction\tSensitivity\tImprovement Score\n",
      "2522 \t -inf \t O2(694) <=> O2(2) PDEP\n",
      "2521 \t -inf \t C3H5-A(94) + HO2(16) <=> C3H6(12) + O2(694) PDEP\n",
      "2520 \t -inf \t OH(15) + S(917) <=> C3H5O(70) + O2(694) PDEP\n",
      "2519 \t -inf \t C2H5O2(47) + CO(6) <=> C3H5O(70) + O2(694) PDEP\n",
      "2518 \t -inf \t S(911) <=> C3H5O(70) + O2(694) PDEP\n",
      "2517 \t -inf \t C3H5O3(72) <=> C3H5O(70) + O2(694) PDEP\n",
      "2516 \t -inf \t HO2(16) + O(5) <=> O2(694) + OH(15) Birad_R_Recombination\n",
      "2515 \t -inf \t O2(2) + OH(15) <=> O2(694) + OH(15) R_Recombination\n",
      "2514 \t -inf \t C2H2(25) + CH2CO(24) <=> C2H(4) + CH2CHO(21) PDEP\n",
      "2513 \t -inf \t C2H2(25) + CH2CO(24) <=> C2H3(22) + HCCO(27) PDEP\n"
     ]
    }
   ],
   "source": [
    "parameter_indices = np.arange(0, N + M)\n",
    "single_improvement_order = [x for _, x in sorted(zip(single_improvement_score, parameter_indices))][::-1]\n",
    "\n",
    "print('Top Improvement Scores')\n",
    "print('i\\tDelta\\tReaction\\tSensitivity\\tImprovement Score')\n",
    "for i in range(0, 10):\n",
    "    ct_index = single_improvement_order[i]\n",
    "    \n",
    "    if ct_index < N:\n",
    "        print(ct_index, '\\t', np.round(single_improvement_score[ct_index], 9),\n",
    "              '\\t', gas.species()[ct_index], )\n",
    "    else:\n",
    "        family = 'PDEP'\n",
    "        try:\n",
    "            family = reaction_list[ct2rmg_rxn[ct_index - N]].family\n",
    "        except AttributeError:\n",
    "            pass\n",
    "        print(ct_index - N, '\\t', np.round(single_improvement_score[ct_index], 9),\n",
    "              '\\t', gas.reactions()[ct_index - N], family)"
   ]
  },
  {
   "cell_type": "code",
   "execution_count": null,
   "id": "dfbf27c0",
   "metadata": {},
   "outputs": [],
   "source": []
  },
  {
   "cell_type": "code",
   "execution_count": 132,
   "id": "ac6f561a",
   "metadata": {},
   "outputs": [
    {
     "name": "stdout",
     "output_type": "stream",
     "text": [
      "51 :\t 1486 mising!!!!!!!!!!!!!!!!!!\n",
      "71 :\t 991 mising!!!!!!!!!!!!!!!!!!\n",
      "72 :\t 991 mising!!!!!!!!!!!!!!!!!!\n",
      "73 :\t 991 mising!!!!!!!!!!!!!!!!!!\n",
      "102 :\t 1486 mising!!!!!!!!!!!!!!!!!!\n",
      "102 :\t 1002 mising!!!!!!!!!!!!!!!!!!\n",
      "102 :\t 997 mising!!!!!!!!!!!!!!!!!!\n",
      "103 :\t 1486 mising!!!!!!!!!!!!!!!!!!\n",
      "103 :\t 1002 mising!!!!!!!!!!!!!!!!!!\n",
      "104 :\t 1486 mising!!!!!!!!!!!!!!!!!!\n",
      "104 :\t 1002 mising!!!!!!!!!!!!!!!!!!\n",
      "124 :\t 991 mising!!!!!!!!!!!!!!!!!!\n",
      "125 :\t 991 mising!!!!!!!!!!!!!!!!!!\n",
      "126 :\t 991 mising!!!!!!!!!!!!!!!!!!\n",
      "127 :\t 991 mising!!!!!!!!!!!!!!!!!!\n",
      "128 :\t 991 mising!!!!!!!!!!!!!!!!!!\n",
      "204 :\t 1486 mising!!!!!!!!!!!!!!!!!!\n",
      "224 :\t 991 mising!!!!!!!!!!!!!!!!!!\n",
      "225 :\t 991 mising!!!!!!!!!!!!!!!!!!\n",
      "226 :\t 991 mising!!!!!!!!!!!!!!!!!!\n",
      "255 :\t 1486 mising!!!!!!!!!!!!!!!!!!\n",
      "255 :\t 1002 mising!!!!!!!!!!!!!!!!!!\n",
      "255 :\t 997 mising!!!!!!!!!!!!!!!!!!\n",
      "256 :\t 1486 mising!!!!!!!!!!!!!!!!!!\n",
      "256 :\t 1002 mising!!!!!!!!!!!!!!!!!!\n",
      "257 :\t 1486 mising!!!!!!!!!!!!!!!!!!\n",
      "257 :\t 1002 mising!!!!!!!!!!!!!!!!!!\n",
      "277 :\t 991 mising!!!!!!!!!!!!!!!!!!\n",
      "278 :\t 991 mising!!!!!!!!!!!!!!!!!!\n",
      "279 :\t 991 mising!!!!!!!!!!!!!!!!!!\n",
      "280 :\t 991 mising!!!!!!!!!!!!!!!!!!\n",
      "281 :\t 991 mising!!!!!!!!!!!!!!!!!!\n",
      "357 :\t 1486 mising!!!!!!!!!!!!!!!!!!\n",
      "377 :\t 991 mising!!!!!!!!!!!!!!!!!!\n",
      "378 :\t 991 mising!!!!!!!!!!!!!!!!!!\n",
      "379 :\t 991 mising!!!!!!!!!!!!!!!!!!\n",
      "408 :\t 1486 mising!!!!!!!!!!!!!!!!!!\n",
      "408 :\t 1002 mising!!!!!!!!!!!!!!!!!!\n",
      "409 :\t 1486 mising!!!!!!!!!!!!!!!!!!\n",
      "409 :\t 1002 mising!!!!!!!!!!!!!!!!!!\n",
      "410 :\t 1486 mising!!!!!!!!!!!!!!!!!!\n",
      "410 :\t 1002 mising!!!!!!!!!!!!!!!!!!\n",
      "510 :\t 1486 mising!!!!!!!!!!!!!!!!!!\n",
      "530 :\t 991 mising!!!!!!!!!!!!!!!!!!\n",
      "531 :\t 991 mising!!!!!!!!!!!!!!!!!!\n",
      "532 :\t 991 mising!!!!!!!!!!!!!!!!!!\n",
      "561 :\t 1486 mising!!!!!!!!!!!!!!!!!!\n",
      "561 :\t 1002 mising!!!!!!!!!!!!!!!!!!\n",
      "561 :\t 997 mising!!!!!!!!!!!!!!!!!!\n",
      "562 :\t 1486 mising!!!!!!!!!!!!!!!!!!\n",
      "562 :\t 1002 mising!!!!!!!!!!!!!!!!!!\n",
      "563 :\t 1486 mising!!!!!!!!!!!!!!!!!!\n",
      "563 :\t 1002 mising!!!!!!!!!!!!!!!!!!\n",
      "583 :\t 991 mising!!!!!!!!!!!!!!!!!!\n",
      "584 :\t 991 mising!!!!!!!!!!!!!!!!!!\n",
      "585 :\t 991 mising!!!!!!!!!!!!!!!!!!\n",
      "586 :\t 991 mising!!!!!!!!!!!!!!!!!!\n",
      "587 :\t 991 mising!!!!!!!!!!!!!!!!!!\n"
     ]
    }
   ],
   "source": [
    "top20 = set()\n",
    "\n",
    "# check that all top 10 in the single condition scenario are in the top 50 for the average\n",
    "for condition_index in range(improvement_score.shape[1]):\n",
    "    single_improvement_score = np.ravel(improvement_score[:, condition_index])\n",
    "    single_improvement_score[np.isnan(single_improvement_score)] = -np.inf\n",
    "\n",
    "    parameter_indices = np.arange(0, N + M)\n",
    "    single_improvement_order = [x for _, x in sorted(zip(single_improvement_score, parameter_indices))][::-1]\n",
    "\n",
    "#     print(condition_index)\n",
    "    if condition_index == 415:\n",
    "        continue\n",
    "    for i in range(0, 20):\n",
    "        ct_index = single_improvement_order[i]\n",
    "        if ct_index not in improvement_order[0:50]:\n",
    "            top20.add(ct_index)\n",
    "            print(condition_index, ':\\t', ct_index, 'mising!!!!!!!!!!!!!!!!!!')\n",
    "\n",
    "    \n"
   ]
  },
  {
   "cell_type": "code",
   "execution_count": 134,
   "id": "63f5c667",
   "metadata": {},
   "outputs": [
    {
     "name": "stdout",
     "output_type": "stream",
     "text": [
      "{1002, 997, 1486, 991}\n"
     ]
    }
   ],
   "source": [
    "print(top20)"
   ]
  },
  {
   "cell_type": "code",
   "execution_count": 131,
   "id": "113faa6c",
   "metadata": {},
   "outputs": [
    {
     "data": {
      "text/plain": [
       "1"
      ]
     },
     "execution_count": 131,
     "metadata": {},
     "output_type": "execute_result"
    }
   ],
   "source": [
    "len(top20)"
   ]
  },
  {
   "cell_type": "code",
   "execution_count": null,
   "id": "e334b935",
   "metadata": {},
   "outputs": [],
   "source": [
    "# condition 415. says we should include 2643-2652"
   ]
  },
  {
   "cell_type": "code",
   "execution_count": 106,
   "id": "f9d12c51",
   "metadata": {},
   "outputs": [
    {
     "data": {
      "text/plain": [
       "-inf"
      ]
     },
     "execution_count": 106,
     "metadata": {},
     "output_type": "execute_result"
    }
   ],
   "source": [
    "improvement_score[2643, 415]"
   ]
  },
  {
   "cell_type": "code",
   "execution_count": 137,
   "id": "bf99b66b",
   "metadata": {},
   "outputs": [
    {
     "data": {
      "text/plain": [
       "matrix([[-inf],\n",
       "        [-inf],\n",
       "        [-inf],\n",
       "        ...,\n",
       "        [-inf],\n",
       "        [-inf],\n",
       "        [-inf]])"
      ]
     },
     "execution_count": 137,
     "metadata": {},
     "output_type": "execute_result"
    }
   ],
   "source": [
    "improvement_score[:, 415]"
   ]
  },
  {
   "cell_type": "code",
   "execution_count": 148,
   "id": "0a155412",
   "metadata": {},
   "outputs": [
    {
     "name": "stdout",
     "output_type": "stream",
     "text": [
      "{1027, 1924, 906, 523, 524, 907, 1680, 1936, 1816, 1823, 1445, 1446, 2599, 2601, 2602, 2476, 1073, 1841, 1843, 564, 1972, 2482, 951, 952, 953, 2486, 573, 574, 958, 576, 1089, 1484, 1879, 476, 735, 736, 991, 99, 739, 613, 102, 742, 744, 361, 362, 872, 1001, 1256, 1261, 1894, 2413, 881, 882, 884, 1268, 1269, 887, 1919}\n"
     ]
    }
   ],
   "source": [
    "rxns2calc = set()\n",
    "improvement_threshold = 2e-7\n",
    "for i in range(N + M):\n",
    "    if np.any(np.ravel(improvement_score[i, :]) > improvement_threshold):\n",
    "        rxns2calc.add(i)\n",
    "    \n",
    "print(rxns2calc)"
   ]
  },
  {
   "cell_type": "code",
   "execution_count": 149,
   "id": "59097cf6",
   "metadata": {},
   "outputs": [
    {
     "name": "stdout",
     "output_type": "stream",
     "text": [
      "1027\n",
      "1936\n",
      "2601\n",
      "574\n",
      "1484\n",
      "991\n",
      "739\n",
      "742\n"
     ]
    }
   ],
   "source": [
    "for i in rxns2calc:\n",
    "    if i not in improvement_order[0:50]:\n",
    "        print(i)"
   ]
  },
  {
   "cell_type": "code",
   "execution_count": 147,
   "id": "ebd1c842",
   "metadata": {},
   "outputs": [
    {
     "name": "stdout",
     "output_type": "stream",
     "text": [
      "237\n"
     ]
    }
   ],
   "source": [
    "print(len(rxns2calc))"
   ]
  },
  {
   "cell_type": "code",
   "execution_count": null,
   "id": "030c7314",
   "metadata": {},
   "outputs": [],
   "source": [
    "improvement"
   ]
  },
  {
   "cell_type": "code",
   "execution_count": 151,
   "id": "dc2b6046",
   "metadata": {},
   "outputs": [
    {
     "data": {
      "text/plain": [
       "[<matplotlib.lines.Line2D at 0x2ba41a5ac1d0>]"
      ]
     },
     "execution_count": 151,
     "metadata": {},
     "output_type": "execute_result"
    },
    {
     "data": {
      "image/png": "[encoded data removed]",
      "text/plain": [
       "<Figure size 432x288 with 1 Axes>"
      ]
     },
     "metadata": {
      "needs_background": "light"
     },
     "output_type": "display_data"
    }
   ],
   "source": [
    "plt.plot(np.ravel(improvement_score[991,:]))"
   ]
  },
  {
   "cell_type": "code",
   "execution_count": null,
   "id": "f3ada2c5",
   "metadata": {},
   "outputs": [],
   "source": []
  }
 ],
 "metadata": {
  "kernelspec": {
   "display_name": "Python 3 (ipykernel)",
   "language": "python",
   "name": "python3"
  },
  "language_info": {
   "codemirror_mode": {
    "name": "ipython",
    "version": 3
   },
   "file_extension": ".py",
   "mimetype": "text/x-python",
   "name": "python",
   "nbconvert_exporter": "python",
   "pygments_lexer": "ipython3",
   "version": "3.7.12"
  }
 },
 "nbformat": 4,
 "nbformat_minor": 5
}

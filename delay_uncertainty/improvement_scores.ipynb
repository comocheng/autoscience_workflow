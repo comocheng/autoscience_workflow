{
 "cells": [
  {
   "cell_type": "code",
   "execution_count": 1,
   "id": "6fdc7963",
   "metadata": {},
   "outputs": [
    {
     "name": "stderr",
     "output_type": "stream",
     "text": [
      "WARNING:root:Optional package dependency \"xlwt\" not loaded. Some output features will not work.\n"
     ]
    },
    {
     "data": {
      "text/plain": [
       "<module 'thermokinetic_fun' from '/work/westgroup/harris.se/autoscience/reaction_calculator/dft/thermokinetic_fun.py'>"
      ]
     },
     "execution_count": 1,
     "metadata": {},
     "output_type": "execute_result"
    }
   ],
   "source": [
    "# script to save the rankings for the mechanism\n",
    "import os\n",
    "import sys\n",
    "import copy\n",
    "import pickle\n",
    "import pandas as pd\n",
    "\n",
    "import numpy as np\n",
    "import rmgpy.chemkin\n",
    "import cantera as ct\n",
    "\n",
    "import matplotlib.pyplot as plt\n",
    "%matplotlib inline\n",
    "\n",
    "sys.path.append('/work/westgroup/harris.se/autoscience/reaction_calculator/dft')\n",
    "import importlib\n",
    "import thermokinetic_fun\n",
    "importlib.reload(thermokinetic_fun)"
   ]
  },
  {
   "cell_type": "markdown",
   "id": "81da5b91",
   "metadata": {},
   "source": [
    "## Load the model for reaction and species descriptions"
   ]
  },
  {
   "cell_type": "code",
   "execution_count": 2,
   "id": "516447f5",
   "metadata": {},
   "outputs": [
    {
     "name": "stdout",
     "output_type": "stream",
     "text": [
      "130 species loaded\n",
      "2488 reactions loaded\n"
     ]
    }
   ],
   "source": [
    "basedir = '/work/westgroup/harris.se/autoscience/reaction_calculator/delay_uncertainty/base_rmg_1week'\n",
    "\n",
    "cantera_file = os.path.join(basedir, 'chem_annotated.cti')\n",
    "base_chemkin = os.path.join(basedir, 'chem_annotated.inp')\n",
    "dictionary = os.path.join(basedir, 'species_dictionary.txt')\n",
    "transport = os.path.join(basedir, 'tran.dat')\n",
    "\n",
    "species_list, reaction_list = rmgpy.chemkin.load_chemkin_file(base_chemkin, dictionary_path=dictionary, transport_path=transport, use_chemkin_names=True)\n",
    "\n",
    "gas = ct.Solution(cantera_file)\n",
    "perturbed_cti_path = os.path.join(basedir, 'perturbed.cti')\n",
    "perturbed_gas = ct.Solution(perturbed_cti_path)\n",
    "\n",
    "# This cti -> rmg converter dictionary can be made using rmg_tools/ct2rmg_dict.py\n",
    "with open(os.path.join(basedir, 'ct2rmg_rxn.pickle'), 'rb') as handle:\n",
    "    ct2rmg_rxn = pickle.load(handle)\n",
    "\n",
    "print(f'{len(species_list)} species loaded')\n",
    "print(f'{len(reaction_list)} reactions loaded')"
   ]
  },
  {
   "cell_type": "code",
   "execution_count": 3,
   "id": "82b6afef",
   "metadata": {},
   "outputs": [],
   "source": [
    "N = len(gas.species())\n",
    "M = len(gas.reactions())"
   ]
  },
  {
   "cell_type": "code",
   "execution_count": 4,
   "id": "3f44af8d",
   "metadata": {},
   "outputs": [],
   "source": [
    "# check for outliers that get crushed by average"
   ]
  },
  {
   "cell_type": "code",
   "execution_count": 5,
   "id": "f614c059",
   "metadata": {},
   "outputs": [
    {
     "data": {
      "text/plain": [
       "2523"
      ]
     },
     "execution_count": 5,
     "metadata": {},
     "output_type": "execute_result"
    }
   ],
   "source": [
    "M"
   ]
  },
  {
   "cell_type": "markdown",
   "id": "0f76001b",
   "metadata": {},
   "source": [
    "## Gather Uncertainty Rankings"
   ]
  },
  {
   "cell_type": "code",
   "execution_count": 6,
   "id": "6529b129",
   "metadata": {},
   "outputs": [],
   "source": [
    "# rxn_uncertainty_file = '/work/westgroup/harris.se/autoscience/reaction_calculator/models/base_rmg_1week/reaction_uncertainty.npy'\n",
    "# sp_uncertainty_file = '/work/westgroup/harris.se/autoscience/reaction_calculator/models/base_rmg_1week/species_uncertainty.npy'\n",
    "\n",
    "rxn_uncertainty_file = '/work/westgroup/harris.se/autoscience/reaction_calculator/models/base_rmg_1week/gao_reaction_uncertainty.npy'\n",
    "sp_uncertainty_file = '/work/westgroup/harris.se/autoscience/reaction_calculator/models/base_rmg_1week/gao_species_uncertainty.npy'\n",
    "\n",
    "rmg_rxn_uncertainty = np.load(rxn_uncertainty_file)\n",
    "rmg_sp_uncertainty = np.load(sp_uncertainty_file)\n",
    "\n",
    "assert len(rmg_rxn_uncertainty) == len(reaction_list)\n",
    "assert len(rmg_sp_uncertainty) == len(species_list)\n",
    "\n",
    "\n",
    "rxn_uncertainty = np.zeros(len(gas.reactions()))\n",
    "for ct_index in range(len(rxn_uncertainty)):\n",
    "    rxn_uncertainty[ct_index] = rmg_rxn_uncertainty[ct2rmg_rxn[ct_index]]\n",
    "\n",
    "# Cantera species should be in same rmg order, but this makes sure for us\n",
    "for i in range(len(species_list)):\n",
    "    assert str(species_list[i]) == gas.species_names[i]\n",
    "\n",
    "sp_uncertainty = rmg_sp_uncertainty\n",
    "\n",
    "total_uncertainty_array = np.concatenate((sp_uncertainty, rxn_uncertainty), axis=0)\n",
    "total_uncertainty_mat = np.repeat(np.transpose(np.matrix(total_uncertainty_array)), 12 * 51, axis=1)\n"
   ]
  },
  {
   "cell_type": "code",
   "execution_count": 7,
   "id": "7d8d5d9a",
   "metadata": {},
   "outputs": [],
   "source": [
    "\n",
    "# Display the most uncertain parameters"
   ]
  },
  {
   "cell_type": "code",
   "execution_count": 8,
   "id": "b5f0da0c",
   "metadata": {},
   "outputs": [],
   "source": [
    "# Calculate Improvement Score\n",
    "DFT_error = 3.0\n",
    "# improvement_score = np.abs(reaction_sensitivities) * (uncorrelated_uncertainties - DFT_error)\n",
    "# improvement_score_order = [x for _,x in sorted(zip(improvement_score, reaction_indices))][::-1]\n",
    "reaction_indices = np.arange(0, len(gas.reactions()))\n",
    "reaction_uncertainty_order = [x for _,x in sorted(zip(rxn_uncertainty, reaction_indices))][::-1]"
   ]
  },
  {
   "cell_type": "code",
   "execution_count": 9,
   "id": "24722026",
   "metadata": {},
   "outputs": [
    {
     "name": "stdout",
     "output_type": "stream",
     "text": [
      "Top Uncertain Reactions\n",
      "i\tDelta\tReaction\tSensitivity\tImprovement Score\n",
      "2174 \t 28.541 \t C3H6(688) + CH3(18) <=> C3H5-A(94) + CH4(10) \t Disproportionation\n",
      "2168 \t 28.541 \t C3H6(688) + CH2(23) <=> C3H5-A(94) + CH3(18) \t Disproportionation\n",
      "1251 \t 28.541 \t C3H5O(129) + H(14) <=> C3H4O(74) + H2(13) \t Disproportionation\n",
      "1248 \t 28.541 \t C3H5O(129) + CH3(18) <=> C3H4O(74) + CH4(10) \t Disproportionation\n",
      "1242 \t 28.541 \t C3H5O(129) + CH2(23) <=> C3H4O(74) + CH3(18) \t Disproportionation\n",
      "1001 \t 28.541 \t C2H5O(49) + CH2(23) <=> CH3(18) + CH3CHO(35) \t Disproportionation\n",
      "1000 \t 28.541 \t C2H5O(49) + CH3(18) <=> CH3CHO(35) + CH4(10) \t Disproportionation\n",
      "958 \t 28.541 \t CH2(23) + S(777) <=> CH3(18) + S(252) \t Disproportionation\n",
      "955 \t 28.541 \t H(14) + S(777) <=> H2(13) + S(252) \t Disproportionation\n",
      "953 \t 28.541 \t CH3(18) + S(777) <=> CH4(10) + S(252) \t Disproportionation\n"
     ]
    }
   ],
   "source": [
    "print('Top Uncertain Reactions')\n",
    "print('i\\tDelta\\tReaction\\tSensitivity\\tImprovement Score')\n",
    "for i in range(0, 10):\n",
    "    ct_index = reaction_uncertainty_order[i]\n",
    "    print(ct_index, '\\t', np.round(rxn_uncertainty[ct_index], 3),\n",
    "          '\\t', gas.reactions()[ct_index], \n",
    "          '\\t', reaction_list[ct2rmg_rxn[ct_index]].family)\n",
    "#           '\\t', f'{reaction_sensitivities[ct_index]:.3e}',\n",
    "#           '\\t', f'{improvement_score[ct_index]:.3e}')\n",
    "    "
   ]
  },
  {
   "cell_type": "code",
   "execution_count": null,
   "id": "a861f2c8",
   "metadata": {},
   "outputs": [],
   "source": []
  },
  {
   "cell_type": "code",
   "execution_count": null,
   "id": "d1bd70f7",
   "metadata": {},
   "outputs": [],
   "source": []
  },
  {
   "cell_type": "markdown",
   "id": "054e0680",
   "metadata": {},
   "source": [
    "## Gather Sensitivity Rankings"
   ]
  },
  {
   "cell_type": "code",
   "execution_count": 10,
   "id": "1708785b",
   "metadata": {},
   "outputs": [],
   "source": [
    "# load the giant base delays matrix\n",
    "base_delay_file = os.path.join(basedir, 'total_base_delays.npy')\n",
    "base_delays = np.load(base_delay_file)\n",
    "\n",
    "# Load the giant delays matrix\n",
    "total_delay_file = os.path.join(basedir, 'total_perturbed_mech_delays.npy')\n",
    "total_delays = np.load(total_delay_file)\n",
    "\n",
    "assert total_delays.shape[1] == len(base_delays)\n",
    "\n",
    "total_base_delays = np.repeat(np.matrix(base_delays), total_delays.shape[0], axis=0)\n",
    "total_base_delays[total_base_delays == 0] = np.nan\n",
    "assert total_base_delays.shape == total_delays.shape\n",
    "\n",
    "total_delays[total_delays == 0] = np.nan\n"
   ]
  },
  {
   "cell_type": "code",
   "execution_count": 11,
   "id": "86562899",
   "metadata": {},
   "outputs": [],
   "source": [
    "d_ln_tau = np.log(total_delays) - np.log(total_base_delays)"
   ]
  },
  {
   "cell_type": "code",
   "execution_count": 12,
   "id": "ef776823",
   "metadata": {},
   "outputs": [
    {
     "name": "stderr",
     "output_type": "stream",
     "text": [
      "/work/westgroup/harris.se/tst_env/lib/python3.7/site-packages/ipykernel_launcher.py:1: RuntimeWarning: Mean of empty slice\n",
      "  \"\"\"Entry point for launching an IPython kernel.\n"
     ]
    }
   ],
   "source": [
    "avg_d_ln_tau = np.nanmean(d_ln_tau, axis = 1)\n",
    "avg_d_ln_tau[np.isnan(avg_d_ln_tau)] = -np.inf"
   ]
  },
  {
   "cell_type": "code",
   "execution_count": 13,
   "id": "5644cbc5",
   "metadata": {},
   "outputs": [
    {
     "data": {
      "text/plain": [
       "matrix([[ 0.00000000e+00,  0.00000000e+00,  0.00000000e+00, ...,\n",
       "          0.00000000e+00,  0.00000000e+00,  0.00000000e+00],\n",
       "        [-7.32677030e-10, -5.38507627e-08, -4.39428050e-10, ...,\n",
       "          2.11526707e-07,  6.30630181e-07, -3.27123875e-08],\n",
       "        [ 0.00000000e+00,  0.00000000e+00,  0.00000000e+00, ...,\n",
       "          0.00000000e+00,  0.00000000e+00,  0.00000000e+00],\n",
       "        ...,\n",
       "        [            nan,             nan,             nan, ...,\n",
       "                     nan,             nan,             nan],\n",
       "        [            nan,             nan,             nan, ...,\n",
       "                     nan,             nan,             nan],\n",
       "        [            nan,             nan,             nan, ...,\n",
       "                     nan,             nan,             nan]])"
      ]
     },
     "execution_count": 13,
     "metadata": {},
     "output_type": "execute_result"
    }
   ],
   "source": [
    "d_ln_tau"
   ]
  },
  {
   "cell_type": "code",
   "execution_count": null,
   "id": "d3e61c4c",
   "metadata": {},
   "outputs": [],
   "source": []
  },
  {
   "cell_type": "code",
   "execution_count": null,
   "id": "f6452a37",
   "metadata": {},
   "outputs": [],
   "source": []
  },
  {
   "cell_type": "code",
   "execution_count": null,
   "id": "3c052245",
   "metadata": {},
   "outputs": [],
   "source": []
  },
  {
   "cell_type": "markdown",
   "id": "1a802afd",
   "metadata": {},
   "source": [
    "### Get $\\Delta G$ or $\\Delta \\ln k$ for each parameter"
   ]
  },
  {
   "cell_type": "code",
   "execution_count": 14,
   "id": "90017ed3",
   "metadata": {},
   "outputs": [],
   "source": [
    "# get Delta G from the simulation gas"
   ]
  },
  {
   "cell_type": "code",
   "execution_count": 15,
   "id": "20694241",
   "metadata": {},
   "outputs": [],
   "source": [
    "phi_dicts = []\n",
    "\n",
    "for table_index in range(1, 13):\n",
    "    \n",
    "    # Load the experimental conditions\n",
    "    ignition_delay_data = '/work/westgroup/harris.se/autoscience/autoscience/butane/experimental_data/butane_ignition_delay.csv'\n",
    "    # ignition_delay_data = '/home/moon/autoscience/autoscience/butane/experimental_data/butane_ignition_delay.csv'\n",
    "    df_exp = pd.read_csv(ignition_delay_data)\n",
    "    table_exp = df_exp[df_exp['Table'] == table_index]\n",
    "    # Define Initial conditions using experimental data\n",
    "    tau_exp = table_exp['time (ms)'].values.astype(float)  # ignition delay\n",
    "    T7 = table_exp['T_C'].values  # Temperatures\n",
    "    P7 = table_exp['nominal pressure(atm)'].values * ct.one_atm  # pressures in atm\n",
    "    phi7 = table_exp['phi'].values  # equivalence ratios\n",
    "    # list of starting conditions\n",
    "    # Mixture compositions taken from table 2 of\n",
    "    # https://doi-org.ezproxy.neu.edu/10.1016/j.combustflame.2010.01.016\n",
    "    concentrations = []\n",
    "    # for phi = 1\n",
    "    x_diluent = 0.7649\n",
    "    conc_dict = {\n",
    "        'O2(2)': 0.2038,\n",
    "        'butane(1)': 0.03135\n",
    "    }\n",
    "\n",
    "    \n",
    "    x_N2 = table_exp['%N2'].values[0] / 100.0 * x_diluent\n",
    "    x_Ar = table_exp['%Ar'].values[0] / 100.0 * x_diluent\n",
    "    x_CO2 = table_exp['%CO2'].values[0] / 100.0 * x_diluent\n",
    "    conc_dict['N2'] = x_N2\n",
    "    conc_dict['Ar'] = x_Ar\n",
    "    conc_dict['CO2(7)'] = x_CO2\n",
    "    \n",
    "    phi_dicts.append(conc_dict)\n",
    "        \n",
    "        "
   ]
  },
  {
   "cell_type": "code",
   "execution_count": 16,
   "id": "4e85aaea",
   "metadata": {},
   "outputs": [],
   "source": [
    "# There are 12 * K different simulation settings. We need each parameter estimate at each setting\n",
    "# Create a matrix with temperatures and one with pressures\n",
    "T = np.linspace(663, 1077, 51)\n",
    "table_temperatures = np.repeat(np.matrix(T), 12, axis=1)\n",
    "temperatures = np.repeat(table_temperatures, total_delays.shape[0], axis=0)\n",
    "\n",
    "pressures = np.zeros(temperatures.shape)\n",
    "for i in range(pressures.shape[1]):\n",
    "    if int(i / 51) in [0, 3, 6, 9]:\n",
    "        pressures[:, i] = 10.0 * 101325.0\n",
    "    elif int(i / 51) in [1, 4, 7, 10]:\n",
    "        pressures[:, i] = 20.0 * 101325.0\n",
    "    elif int(i / 51) in [2, 5, 8, 11]:\n",
    "        pressures[:, i] = 30.0 * 101325.0"
   ]
  },
  {
   "cell_type": "code",
   "execution_count": 17,
   "id": "f24c6964",
   "metadata": {},
   "outputs": [],
   "source": [
    "G_base = np.zeros((N, total_delays.shape[1]))\n",
    "G_perturbed = np.zeros((N, total_delays.shape[1]))\n",
    "\n",
    "\n",
    "# get base G values\n",
    "\n",
    "mod_gas = ct.Solution(cantera_file)\n",
    "for j in range(N):\n",
    "    for i in range(temperatures.shape[1]):\n",
    "    \n",
    "        T = temperatures[0, i]\n",
    "        gas.TPX = T, pressures[0, i], phi_dicts[int(i / 51)]\n",
    "        G_base[j, i] = gas.species()[j].thermo.h(T) - T * gas.species()[j].thermo.s(T)\n"
   ]
  },
  {
   "cell_type": "code",
   "execution_count": 18,
   "id": "f1065195",
   "metadata": {},
   "outputs": [],
   "source": [
    "# Get perturned G values\n",
    "\n",
    "mod_gas = ct.Solution(cantera_file)\n",
    "for j in range(N):\n",
    "#     print(j)\n",
    "    # change just the one reaction\n",
    "    mod_gas.modify_species(j, perturbed_gas.species()[j])\n",
    "    \n",
    "    for i in range(temperatures.shape[1]):\n",
    "    \n",
    "        T = temperatures[0, i]\n",
    "        mod_gas.TPX = T, pressures[0, i], phi_dicts[int(i / 51)]\n",
    "        G_perturbed[j, i] = mod_gas.species()[j].thermo.h(T) - T * mod_gas.species()[j].thermo.s(T)\n",
    "\n",
    "    mod_gas.modify_species(j, gas.species()[j])"
   ]
  },
  {
   "cell_type": "code",
   "execution_count": 19,
   "id": "5669bc15",
   "metadata": {},
   "outputs": [],
   "source": [
    "# In theory, delta G should be 10% G_base, but apparently it isn't...\n",
    "# G has units Enthalpy [J/kg or J/kmol] it's J / kmol\n",
    "delta_G = G_perturbed - G_base\n",
    "delta_G_kcal_mol = delta_G / 4.184 / 1000.0 / 1000.0  # needs to be kcal/mol to match Gao paper"
   ]
  },
  {
   "cell_type": "code",
   "execution_count": 20,
   "id": "c87c8d3d",
   "metadata": {},
   "outputs": [
    {
     "data": {
      "text/plain": [
       "1.7499742014181026"
      ]
     },
     "execution_count": 20,
     "metadata": {},
     "output_type": "execute_result"
    }
   ],
   "source": [
    "np.min(delta_G_kcal_mol - (G_base * 0.1 / 4.184 / 1000.0 / 1000.0))"
   ]
  },
  {
   "cell_type": "code",
   "execution_count": null,
   "id": "b5e21ce7",
   "metadata": {},
   "outputs": [],
   "source": []
  },
  {
   "cell_type": "markdown",
   "id": "d1db87bf",
   "metadata": {},
   "source": [
    "### Now do reaction rate"
   ]
  },
  {
   "cell_type": "code",
   "execution_count": 21,
   "id": "fb51ee22",
   "metadata": {},
   "outputs": [],
   "source": [
    "# except we know that by definition, this is 0.1"
   ]
  },
  {
   "cell_type": "code",
   "execution_count": 22,
   "id": "f327d114",
   "metadata": {},
   "outputs": [],
   "source": [
    "delta_ln_k = 0.1 * np.ones((M, total_delays.shape[1]))"
   ]
  },
  {
   "cell_type": "code",
   "execution_count": null,
   "id": "77a0697d",
   "metadata": {},
   "outputs": [],
   "source": []
  },
  {
   "cell_type": "code",
   "execution_count": 23,
   "id": "ac69d34c",
   "metadata": {},
   "outputs": [],
   "source": [
    "# concatenate into a big delta matrix\n",
    "delta = np.concatenate((delta_G_kcal_mol, delta_ln_k), axis=0)"
   ]
  },
  {
   "cell_type": "markdown",
   "id": "efe9564b",
   "metadata": {},
   "source": [
    "### Put it all together into $\\frac{\\partial \\ln \\tau}{\\partial G}$ or $\\frac{\\partial \\ln \\tau}{\\partial \\ln k}$"
   ]
  },
  {
   "cell_type": "code",
   "execution_count": 24,
   "id": "382460f9",
   "metadata": {},
   "outputs": [],
   "source": [
    "# first derivative is change in delay / change in G\n",
    "first_derivative = np.divide(d_ln_tau, delta)"
   ]
  },
  {
   "cell_type": "markdown",
   "id": "dfce2870",
   "metadata": {},
   "source": [
    "### Display most sensitive parameters"
   ]
  },
  {
   "cell_type": "code",
   "execution_count": 25,
   "id": "a547797a",
   "metadata": {},
   "outputs": [
    {
     "name": "stdout",
     "output_type": "stream",
     "text": [
      "Top Sensitive Parameters\n",
      "i\tDelta\tReaction\tSensitivity\tImprovement Score\n",
      "398 \t 0.472593429 \t OH(15) + butane(1) <=> H2O(8) + SC4H9(183)\n",
      "190 \t 0.290840547 \t 2 HO2(16) <=> H2O2(17) + O2(2)\n",
      "150 \t 0.290840537 \t 2 HO2(16) <=> H2O2(17) + O2(2)\n",
      "430 \t 0.285117774 \t S(186) <=> C4H8(189) + HO2(16)\n",
      "81 \t 0.232724916 \t <Species S(223)>\n",
      "468 \t 0.197582231 \t S(184) <=> C4H8(188) + HO2(16)\n",
      "469 \t 0.191072452 \t S(186) <=> C4H8(188) + HO2(16)\n",
      "603 \t 0.150505413 \t S(219) <=> C4H8O(214) + OH(15)\n",
      "294 \t 0.054769036 \t CH3(18) + HO2(16) <=> CH4(10) + O2(2)\n",
      "268 \t 0.05436085 \t CH2O(9) + OH(15) <=> H2O(8) + HCO(19)\n"
     ]
    },
    {
     "name": "stderr",
     "output_type": "stream",
     "text": [
      "/work/westgroup/harris.se/tst_env/lib/python3.7/site-packages/ipykernel_launcher.py:1: RuntimeWarning: Mean of empty slice\n",
      "  \"\"\"Entry point for launching an IPython kernel.\n"
     ]
    }
   ],
   "source": [
    "avg_first_derivative = np.nanmean(first_derivative, axis=1)\n",
    "avg_first_derivative[np.isnan(avg_first_derivative)] = -np.inf\n",
    "\n",
    "parameter_indices = np.arange(0, N + M)\n",
    "reaction_sensitivity_order = [x for _, x in sorted(zip(avg_first_derivative, parameter_indices))][::-1]\n",
    "\n",
    "print('Top Sensitive Parameters')\n",
    "print('i\\tDelta\\tReaction\\tSensitivity\\tImprovement Score')\n",
    "for i in range(0, 10):\n",
    "    ct_index = reaction_sensitivity_order[i]\n",
    "    \n",
    "    if ct_index < N:\n",
    "        print(ct_index, '\\t', np.round(avg_first_derivative[ct_index,0], 9),\n",
    "              '\\t', gas.species()[ct_index], )\n",
    "    else:\n",
    "        print(ct_index, '\\t', np.round(avg_first_derivative[ct_index,0], 9),\n",
    "              '\\t', gas.reactions()[ct_index - N])"
   ]
  },
  {
   "cell_type": "code",
   "execution_count": null,
   "id": "70c900ee",
   "metadata": {},
   "outputs": [],
   "source": []
  },
  {
   "cell_type": "markdown",
   "id": "0b9c4b18",
   "metadata": {},
   "source": [
    "# Compute Improvement Score"
   ]
  },
  {
   "cell_type": "code",
   "execution_count": 26,
   "id": "1b458261",
   "metadata": {},
   "outputs": [
    {
     "name": "stderr",
     "output_type": "stream",
     "text": [
      "/work/westgroup/harris.se/tst_env/lib/python3.7/site-packages/ipykernel_launcher.py:6: RuntimeWarning: Mean of empty slice\n",
      "  \n"
     ]
    }
   ],
   "source": [
    "delta_uncertainty_squared = total_uncertainty_mat - 3.0  # assume this is already squared in Connie's calculations\n",
    "sensitivity_squared = np.float_power(first_derivative, 2.0)\n",
    "\n",
    "improvement_score = np.multiply(delta_uncertainty_squared, sensitivity_squared)\n",
    "\n",
    "avg_improvement_score = np.nanmean(improvement_score, axis=1)\n",
    "avg_improvement_score[np.isnan(avg_improvement_score)] = -np.inf\n",
    "\n",
    "improvement_score[np.isnan(improvement_score)] = -np.inf"
   ]
  },
  {
   "cell_type": "code",
   "execution_count": 27,
   "id": "f4be0346",
   "metadata": {},
   "outputs": [
    {
     "data": {
      "text/plain": [
       "2653"
      ]
     },
     "execution_count": 27,
     "metadata": {},
     "output_type": "execute_result"
    }
   ],
   "source": [
    "len(avg_improvement_score)"
   ]
  },
  {
   "cell_type": "markdown",
   "id": "6dc0a366",
   "metadata": {},
   "source": [
    "### Display Top Improvement Scores"
   ]
  },
  {
   "cell_type": "code",
   "execution_count": 34,
   "id": "4f59998c",
   "metadata": {},
   "outputs": [
    {
     "name": "stdout",
     "output_type": "stream",
     "text": [
      "Top Improvement Scores\n",
      "i\tCt Index\tImprovement Score\tReaction\n",
      "0 \t 959 \t 0.01302262 \t OH(15) + S(777) <=> S(787) R_Recombination\n",
      "1 \t 232 \t 0.000155586 \t C2H5(33) + HO2(16) <=> C2H4(11) + H2O2(17) Disproportionation\n",
      "2 \t 943 \t 0.000121797 \t O2(2) + S(777) <=> HO2(16) + S(252) Disproportionation\n",
      "3 \t 2469 \t 4.0034e-05 \t C2H3CO(75) + C3H6(12) <=> C3H4O(74) + C3H5-A(94) H_Abstraction\n",
      "4 \t 776 \t 2.2236e-05 \t C4H8(189) + HCO(19) <=> C4H7(190) + CH2O(9) H_Abstraction\n",
      "5 \t 821 \t 2.1321e-05 \t C4H7(190) + HO2(16) <=> C4H6(194) + H2O2(17) Disproportionation\n",
      "6 \t 2283 \t 1.5324e-05 \t C2H3OH(58) + HCO(19) <=> CH2CHO(21) + CH2O(9) H_Abstraction\n",
      "7 \t 346 \t 1.1804e-05 \t S(229) <=> S(225) intra_H_migration\n",
      "8 \t 446 \t 7.226e-06 \t HO2(16) + SC4H9(183) <=> C4H8(188) + H2O2(17) Disproportionation\n",
      "9 \t 99 \t 6.281e-06 \t <Species S(911)>\n",
      "10 \t 443 \t 6.214e-06 \t CH2CHO(21) + HO2(16) <=> CH2CO(24) + H2O2(17) Disproportionation\n",
      "11 \t 1693 \t 4.681e-06 \t C2H5O2(47) + CH3O(31) <=> C2H6O2(48) + CH2O(9) Disproportionation\n",
      "12 \t 1764 \t 4.324e-06 \t CH3O(31) + S(186) <=> CH2O(9) + S(187) Disproportionation\n",
      "13 \t 777 \t 3.532e-06 \t C4H8(188) + HCO(19) <=> C4H7(190) + CH2O(9) H_Abstraction\n",
      "14 \t 231 \t 3.012e-06 \t HCO(19) + HO2(16) <=> CO(6) + H2O2(17) CO_Disproportionation\n",
      "15 \t 752 \t 2.745e-06 \t C4H7(190) + HCO(19) <=> C4H8(188) + CO(6) CO_Disproportionation\n",
      "16 \t 1842 \t 2.428e-06 \t O2(2) + S(5425) <=> HO2(16) + S(5951) Disproportionation\n",
      "17 \t 742 \t 2.129e-06 \t C2H5(33) + C4H7(190) <=> C2H4(11) + C4H8(189) Disproportionation\n",
      "18 \t 1315 \t 1.719e-06 \t C3H6O3(73) + SC4H9(183) <=> C3H5O3(72) + butane(1) H_Abstraction\n",
      "19 \t 483 \t 1.286e-06 \t CH3(18) + SC4H9(183) <=> C4H8(189) + CH4(10) Disproportionation\n",
      "20 \t 828 \t 1.261e-06 \t C4H7(190) + OH(15) <=> C4H6(194) + H2O(8) Disproportionation\n",
      "21 \t 102 \t 1.214e-06 \t <Species S(928)>\n",
      "22 \t 2346 \t 1.161e-06 \t C2H5(33) + CH2CHO(21) <=> C2H3OH(58) + C2H4(11) Disproportionation\n",
      "23 \t 1139 \t 8.29e-07 \t C2H5(33) + CH3O2(45) <=> C2H4(11) + CH3O2H(46) Disproportionation\n",
      "24 \t 751 \t 6.83e-07 \t C4H7(190) + HCO(19) <=> C4H8(189) + CO(6) CO_Disproportionation\n",
      "25 \t 1789 \t 6.1e-07 \t HCO(19) + S(186) <=> CO(6) + S(187) CO_Disproportionation\n",
      "26 \t 1711 \t 5.45e-07 \t C2H5O2(47) + HCO(19) <=> C2H6O2(48) + CO(6) CO_Disproportionation\n",
      "27 \t 605 \t 4.85e-07 \t C3H5-A(94) + SC4H9(183) <=> C3H6(12) + C4H8(189) Disproportionation\n",
      "28 \t 1138 \t 3.28e-07 \t CH3O2(45) + HCO(19) <=> CH3O2H(46) + CO(6) CO_Disproportionation\n",
      "29 \t 822 \t 3.27e-07 \t C4H7(190) + CH3(18) <=> C4H6(194) + CH4(10) Disproportionation\n",
      "30 \t 757 \t 2.94e-07 \t C4H7(190) + SC4H9(183) <=> C4H8(188) + C4H8(189) Disproportionation\n",
      "31 \t 1316 \t 2.53e-07 \t C3H6O3(73) + PC4H9(182) <=> C3H5O3(72) + butane(1) H_Abstraction\n",
      "32 \t 2352 \t 2.06e-07 \t CH2CHO(21) + SC4H9(183) <=> C2H3OH(58) + C4H8(189) Disproportionation\n",
      "33 \t 434 \t 1.94e-07 \t CH3(18) + PC4H9(182) <=> C4H8(188) + CH4(10) Disproportionation\n",
      "34 \t 754 \t 1.29e-07 \t C4H7(190) + SC4H9(183) <=> 2 C4H8(189) Disproportionation\n",
      "35 \t 1131 \t 1.18e-07 \t CH2CHO(21) + CH3O2(45) <=> CH2CO(24) + CH3O2H(46) Disproportionation\n",
      "36 \t 2472 \t 1.13e-07 \t C2H3CO(75) + C4H8(189) <=> C3H4O(74) + C4H7(190) H_Abstraction\n",
      "37 \t 1794 \t 1.1e-07 \t C2H5(33) + S(186) <=> C2H4(11) + S(187) Disproportionation\n",
      "38 \t 606 \t 1.1e-07 \t C3H5-A(94) + PC4H9(182) <=> C3H6(12) + C4H8(188) Disproportionation\n",
      "39 \t 1749 \t 9.6e-08 \t CH2CHO(21) + S(186) <=> CH2CO(24) + S(187) Disproportionation\n",
      "40 \t 393 \t 9.1e-08 \t CH3CHO(35) + SC4H9(183) <=> CH2CHO(21) + butane(1) H_Abstraction\n",
      "41 \t 871 \t 7.9e-08 \t CH3O(31) + S(225) <=> CH2O(9) + S(787) Disproportionation\n",
      "42 \t 1686 \t 7.3e-08 \t C2H5O2(47) + CH2CHO(21) <=> C2H6O2(48) + CH2CO(24) Disproportionation\n",
      "43 \t 861 \t 7.1e-08 \t HO2(16) + S(219) <=> S(787) R_Recombination\n",
      "44 \t 1713 \t 6.5e-08 \t C2H5(33) + C2H5O2(47) <=> C2H4(11) + C2H6O2(48) Disproportionation\n",
      "45 \t 1550 \t 6.4e-08 \t C2H5(33) + CH3O(31) <=> C2H4(11) + CH3OH(30) Disproportionation\n",
      "46 \t 823 \t 6.3e-08 \t 2 C4H7(190) <=> C4H6(194) + C4H8(189) Disproportionation\n",
      "47 \t 1126 \t 6e-08 \t C4H7(190) + CH3O2(45) <=> C4H6(194) + CH3O2H(46) Disproportionation\n",
      "48 \t 394 \t 5.5e-08 \t CH3CHO(35) + PC4H9(182) <=> CH2CHO(21) + butane(1) H_Abstraction\n",
      "49 \t 614 \t 4.8e-08 \t C3H5-A(94) + CH2O(9) <=> C3H6(12) + HCO(19) H_Abstraction\n",
      "50 \t 2356 \t 4.1e-08 \t CH2CHO(21) + PC4H9(182) <=> C2H3OH(58) + C4H8(188) Disproportionation\n",
      "51 \t 444 \t 3.2e-08 \t HO2(16) + SC4H9(183) <=> C4H8(189) + H2O2(17) Disproportionation\n",
      "52 \t 1806 \t 3e-08 \t S(186) + SC4H9(183) <=> C4H8(188) + S(187) Disproportionation\n",
      "53 \t 2471 \t 2.5e-08 \t C2H3CO(75) + C4H8(188) <=> C3H4O(74) + C4H7(190) H_Abstraction\n",
      "54 \t 1144 \t 2.4e-08 \t CH3O2(45) + SC4H9(183) <=> C4H8(188) + CH3O2H(46) Disproportionation\n"
     ]
    }
   ],
   "source": [
    "parameter_indices = np.arange(0, N + M)\n",
    "improvement_order = [x for _, x in sorted(zip(avg_improvement_score, parameter_indices))][::-1]\n",
    "\n",
    "print('Top Improvement Scores')\n",
    "print('i\\tCt Index\\tImprovement Score\\tReaction')\n",
    "new_top50 = set()\n",
    "for i in range(0, 55):\n",
    "    ct_index = improvement_order[i]\n",
    "    \n",
    "    \n",
    "    if ct_index < N:\n",
    "        print(i, '\\t', ct_index, '\\t', np.round(avg_improvement_score[ct_index, 0], 9),\n",
    "              '\\t', gas.species()[ct_index], )\n",
    "        new_top50.add(ct_index)\n",
    "    else:\n",
    "        family = 'PDEP'\n",
    "        try:\n",
    "            family = reaction_list[ct2rmg_rxn[ct_index - N]].family\n",
    "        except AttributeError:\n",
    "            pass\n",
    "        print(i, '\\t', ct_index - N, '\\t', np.round(avg_improvement_score[ct_index, 0], 9),\n",
    "              '\\t', gas.reactions()[ct_index - N], family)\n",
    "        new_top50.add(ct_index - N)"
   ]
  },
  {
   "cell_type": "code",
   "execution_count": 31,
   "id": "923b8742",
   "metadata": {},
   "outputs": [
    {
     "data": {
      "text/plain": [
       "{1144, 1806, 2471}"
      ]
     },
     "execution_count": 31,
     "metadata": {},
     "output_type": "execute_result"
    }
   ],
   "source": [
    "new_top50 - set(old_top50)"
   ]
  },
  {
   "cell_type": "code",
   "execution_count": 30,
   "id": "bc5899f8",
   "metadata": {},
   "outputs": [],
   "source": [
    "old_top50 = [\n",
    "    959,\n",
    "232,\n",
    "943,\n",
    "2469,\n",
    "776,\n",
    "821,\n",
    "2283,\n",
    "346,\n",
    "99,\n",
    "443,\n",
    "446,\n",
    "1764,\n",
    "1693,\n",
    "777,\n",
    "231,\n",
    "752,\n",
    "742,\n",
    "1315,\n",
    "1842,\n",
    "483,\n",
    "102,\n",
    "2346,\n",
    "1139,\n",
    "1789,\n",
    "751,\n",
    "828,\n",
    "1711,\n",
    "605,\n",
    "822,\n",
    "757,\n",
    "1316,\n",
    "2352,\n",
    "1138,\n",
    "434,\n",
    "1794,\n",
    "754,\n",
    "1131,\n",
    "606,\n",
    "393,\n",
    "1749,\n",
    "2472,\n",
    "1686,\n",
    "871,\n",
    "394,\n",
    "1713,\n",
    "1126,\n",
    "614,\n",
    "1550,\n",
    "823,\n",
    "2356,\n",
    "444,\n",
    "861,\n",
    "\n",
    "]"
   ]
  },
  {
   "cell_type": "code",
   "execution_count": null,
   "id": "e3e72f11",
   "metadata": {},
   "outputs": [],
   "source": []
  },
  {
   "cell_type": "code",
   "execution_count": null,
   "id": "f48352aa",
   "metadata": {},
   "outputs": [],
   "source": [
    "# get just the top 50 database reaction numbers\n",
    "my_improvement_index = 991\n",
    "my_improvement_index = 574\n",
    "my_improvement_index = 1027\n",
    "my_improvement_index = 1936\n",
    "my_improvement_index = 2601\n",
    "my_improvement_index = 1484\n",
    "my_improvement_index = 739\n",
    "my_improvement_index = 742\n",
    "\n",
    "my_improvement_index = 1683\n",
    "\n",
    "rmg_index = ct2rmg_rxn[my_improvement_index - N]\n",
    "rxn_smiles = thermokinetic_fun.reaction2smiles(reaction_list[rmg_index])\n",
    "db_index = thermokinetic_fun.reaction_smiles2index(rxn_smiles)\n",
    "print(db_index)\n"
   ]
  },
  {
   "cell_type": "code",
   "execution_count": 36,
   "id": "03582c51",
   "metadata": {},
   "outputs": [
    {
     "name": "stdout",
     "output_type": "stream",
     "text": [
      "931 931\n",
      "213 213\n",
      "915 915\n",
      "2434 2422\n",
      "748 748\n",
      "793 793\n",
      "2248 2240\n",
      "324 324\n",
      "422 422\n",
      "419 419\n",
      "1665 1665\n",
      "1736 1736\n",
      "749 749\n",
      "212 212\n",
      "724 724\n",
      "1814 1814\n",
      "714 714\n",
      "1287 1287\n",
      "459 459\n",
      "800 800\n",
      "2311 2303\n",
      "1111 1111\n",
      "723 723\n",
      "1761 1761\n",
      "1683 1683\n",
      "577 577\n",
      "1110 1110\n",
      "794 794\n",
      "728 728\n",
      "1288 1288\n",
      "2317 2309\n",
      "410 410\n",
      "726 726\n",
      "1103 1103\n",
      "2437 2425\n",
      "1766 1766\n",
      "578 578\n",
      "1721 1721\n",
      "370 370\n",
      "843 843\n",
      "1658 1658\n",
      "833 833\n",
      "1685 1685\n",
      "1522 1522\n",
      "795 795\n",
      "1098 1098\n",
      "371 371\n",
      "586 586\n",
      "2321 2313\n",
      "420 420\n",
      "1778 1778\n",
      "2436 2424\n",
      "1116 1116\n"
     ]
    }
   ],
   "source": [
    "# get just the top 50 database reaction numbers\n",
    "db_indices = np.zeros(N + M)\n",
    "for i in range(0, 55):\n",
    "    ct_index = improvement_order[i]\n",
    "    if ct_index < N:\n",
    "        continue\n",
    "    rmg_index = ct2rmg_rxn[ct_index - N]\n",
    "    rxn_smiles = thermokinetic_fun.reaction2smiles(reaction_list[rmg_index])\n",
    "    db_index = thermokinetic_fun.reaction_smiles2index(rxn_smiles)\n",
    "    db_indices[ct_index] = db_index\n",
    "    print(rmg_index, db_index)"
   ]
  },
  {
   "cell_type": "code",
   "execution_count": null,
   "id": "7fcbe4e4",
   "metadata": {},
   "outputs": [],
   "source": []
  },
  {
   "cell_type": "code",
   "execution_count": null,
   "id": "321bad93",
   "metadata": {},
   "outputs": [],
   "source": []
  },
  {
   "cell_type": "code",
   "execution_count": 37,
   "id": "bb481761",
   "metadata": {},
   "outputs": [],
   "source": [
    "# save the results to a csv\n",
    "total_df = pd.DataFrame()\n",
    "\n",
    "# db_indices = []\n",
    "ct_indices = []\n",
    "rmg_indices = []\n",
    "names = []\n",
    "entry_types = []\n",
    "sensitivities = []\n",
    "uncertainties = []\n",
    "improvement_scores = []\n",
    "\n",
    "for i in range(0, len(gas.species())):\n",
    "    smiles = species_list[i].smiles\n",
    "    db_indices[i] = thermokinetic_fun.species_smiles2index(smiles)\n",
    "#     db_indices.append(thermokinetic_fun.species_smiles2index(smiles))\n",
    "    ct_indices.append(i)\n",
    "    rmg_indices.append(i)\n",
    "    names.append(smiles)\n",
    "    entry_types.append('species')\n",
    "    sensitivities.append(avg_first_derivative[i, 0])\n",
    "    uncertainties.append(total_uncertainty_array[i])\n",
    "    improvement_scores.append(avg_improvement_score[i, 0])\n",
    "    \n",
    "\n",
    "for i in range(0, len(gas.reactions())):\n",
    "    rmg_index = ct2rmg_rxn[i]\n",
    "#     rxn_smiles = thermokinetic_fun.reaction2smiles(reaction_list[rmg_index])\n",
    "#     db_index = thermokinetic_fun.reaction_smiles2index(rxn_smiles)\n",
    "#     db_indices.append(db_index)\n",
    "    ct_indices.append(i)\n",
    "    rmg_indices.append(rmg_index)\n",
    "    names.append(str(reaction_list[rmg_index]))\n",
    "    entry_types.append('reaction')\n",
    "    sensitivities.append(avg_first_derivative[N + i, 0])\n",
    "    uncertainties.append(total_uncertainty_array[N + i])\n",
    "    improvement_scores.append(avg_improvement_score[N + i, 0])\n",
    "    \n",
    "\n",
    "total_df['db_index'] = db_indices\n",
    "total_df['ct_index'] = ct_indices\n",
    "total_df['rmg_index'] = rmg_indices\n",
    "total_df['name'] = names\n",
    "total_df['entry_type'] = entry_types\n",
    "total_df['sensitivity'] = sensitivities\n",
    "total_df['uncertainty'] = uncertainties\n",
    "total_df['improvement_score'] = improvement_scores\n",
    "total_df.to_csv(os.path.join(basedir, 'mechanism_summary.csv'))\n"
   ]
  },
  {
   "cell_type": "code",
   "execution_count": null,
   "id": "b6cce1fa",
   "metadata": {},
   "outputs": [],
   "source": [
    "i = 1110\n",
    "print(reaction_list[i])\n",
    "print(reaction_list[i].family)"
   ]
  },
  {
   "cell_type": "code",
   "execution_count": null,
   "id": "81f73e0d",
   "metadata": {},
   "outputs": [],
   "source": []
  },
  {
   "cell_type": "code",
   "execution_count": null,
   "id": "d4788ff5",
   "metadata": {},
   "outputs": [],
   "source": [
    "param_index = 1003\n",
    "these_delays = np.array(first_derivative[param_index,:])\n",
    "plt.plot(np.transpose(these_delays))\n",
    "# print(these_delays.shape)\n",
    "\n",
    "print(avg_first_derivative[param_index])"
   ]
  },
  {
   "cell_type": "code",
   "execution_count": null,
   "id": "8dc250df",
   "metadata": {},
   "outputs": [],
   "source": [
    "print(first_derivative[param_index, 156])\n",
    "print(temperatures[param_index, 156])\n",
    "print(pressures[param_index, 156])\n",
    "print(phi_dicts[int(156 / 51)])"
   ]
  },
  {
   "cell_type": "code",
   "execution_count": null,
   "id": "2b7d94b5",
   "metadata": {},
   "outputs": [],
   "source": [
    "np.argmax(these_delays)"
   ]
  },
  {
   "cell_type": "code",
   "execution_count": null,
   "id": "0b4fb375",
   "metadata": {},
   "outputs": [],
   "source": [
    "these_delays[0, 415]"
   ]
  },
  {
   "cell_type": "code",
   "execution_count": null,
   "id": "6a6a89e3",
   "metadata": {},
   "outputs": [],
   "source": [
    "len(phi_dicts)"
   ]
  },
  {
   "cell_type": "code",
   "execution_count": null,
   "id": "d10d8ccb",
   "metadata": {},
   "outputs": [],
   "source": [
    "delta[0, :]"
   ]
  },
  {
   "cell_type": "code",
   "execution_count": null,
   "id": "6cbf0372",
   "metadata": {},
   "outputs": [],
   "source": [
    "first_derivative[0, 415]"
   ]
  },
  {
   "cell_type": "code",
   "execution_count": null,
   "id": "e8f9dba1",
   "metadata": {},
   "outputs": [],
   "source": [
    "my_slice = total_delays[:, 156] - np.ravel(total_base_delays[:, 156])[:]\n",
    "\n",
    "plt.plot(my_slice)"
   ]
  },
  {
   "cell_type": "code",
   "execution_count": null,
   "id": "ed672a0d",
   "metadata": {},
   "outputs": [],
   "source": [
    "np.nanmax(my_slice)"
   ]
  },
  {
   "cell_type": "code",
   "execution_count": null,
   "id": "7638470f",
   "metadata": {},
   "outputs": [],
   "source": []
  },
  {
   "cell_type": "code",
   "execution_count": null,
   "id": "f2be44b3",
   "metadata": {},
   "outputs": [],
   "source": [
    "for i in range(0, 200):\n",
    "    if my_slice[i] == np.nanmax(my_slice):\n",
    "        print(i, my_slice[i])"
   ]
  },
  {
   "cell_type": "code",
   "execution_count": null,
   "id": "009d1c8d",
   "metadata": {},
   "outputs": [],
   "source": [
    "my_slice[97]"
   ]
  },
  {
   "cell_type": "code",
   "execution_count": null,
   "id": "516981d5",
   "metadata": {},
   "outputs": [],
   "source": []
  },
  {
   "cell_type": "code",
   "execution_count": null,
   "id": "e83312b9",
   "metadata": {},
   "outputs": [],
   "source": [
    "my_slice.shape"
   ]
  },
  {
   "cell_type": "code",
   "execution_count": null,
   "id": "34546c75",
   "metadata": {},
   "outputs": [],
   "source": [
    "total_delays[:, 156].shape"
   ]
  },
  {
   "cell_type": "code",
   "execution_count": null,
   "id": "406d1741",
   "metadata": {},
   "outputs": [],
   "source": [
    "i = 0\n",
    "plt.plot(np.ravel(first_derivative[i, :]))"
   ]
  },
  {
   "cell_type": "code",
   "execution_count": null,
   "id": "dc2cfdd4",
   "metadata": {},
   "outputs": [],
   "source": [
    "first_derivative[0, 156]"
   ]
  },
  {
   "cell_type": "markdown",
   "id": "41356645",
   "metadata": {},
   "source": [
    "## Get Improvement Score by Condition"
   ]
  },
  {
   "cell_type": "code",
   "execution_count": null,
   "id": "27ea34db",
   "metadata": {},
   "outputs": [],
   "source": [
    "# get improvement score at a particular condition:\n",
    "\n",
    "condition_index = 382  # all top 10 are in top 50\n",
    "\n",
    "condition_index = 415\n",
    "# nothing at condition 415 worked"
   ]
  },
  {
   "cell_type": "code",
   "execution_count": null,
   "id": "c96d660d",
   "metadata": {},
   "outputs": [],
   "source": [
    "improvement_score.shape"
   ]
  },
  {
   "cell_type": "code",
   "execution_count": null,
   "id": "4c846e66",
   "metadata": {},
   "outputs": [],
   "source": [
    "single_improvement_score = np.ravel(improvement_score[:, condition_index])\n",
    "single_improvement_score[np.isnan(single_improvement_score)] = -np.inf"
   ]
  },
  {
   "cell_type": "code",
   "execution_count": null,
   "id": "08507eee",
   "metadata": {},
   "outputs": [],
   "source": [
    "parameter_indices = np.arange(0, N + M)\n",
    "single_improvement_order = [x for _, x in sorted(zip(single_improvement_score, parameter_indices))][::-1]\n",
    "\n",
    "print('Top Improvement Scores')\n",
    "print('i\\tDelta\\tReaction\\tSensitivity\\tImprovement Score')\n",
    "for i in range(0, 10):\n",
    "    ct_index = single_improvement_order[i]\n",
    "    \n",
    "    if ct_index < N:\n",
    "        print(ct_index, '\\t', np.round(single_improvement_score[ct_index], 9),\n",
    "              '\\t', gas.species()[ct_index], )\n",
    "    else:\n",
    "        family = 'PDEP'\n",
    "        try:\n",
    "            family = reaction_list[ct2rmg_rxn[ct_index - N]].family\n",
    "        except AttributeError:\n",
    "            pass\n",
    "        print(ct_index - N, '\\t', np.round(single_improvement_score[ct_index], 9),\n",
    "              '\\t', gas.reactions()[ct_index - N], family)"
   ]
  },
  {
   "cell_type": "code",
   "execution_count": null,
   "id": "dfbf27c0",
   "metadata": {},
   "outputs": [],
   "source": []
  },
  {
   "cell_type": "code",
   "execution_count": null,
   "id": "ac6f561a",
   "metadata": {},
   "outputs": [],
   "source": [
    "top20 = set()\n",
    "\n",
    "# check that all top 10 in the single condition scenario are in the top 50 for the average\n",
    "for condition_index in range(improvement_score.shape[1]):\n",
    "    single_improvement_score = np.ravel(improvement_score[:, condition_index])\n",
    "    single_improvement_score[np.isnan(single_improvement_score)] = -np.inf\n",
    "\n",
    "    parameter_indices = np.arange(0, N + M)\n",
    "    single_improvement_order = [x for _, x in sorted(zip(single_improvement_score, parameter_indices))][::-1]\n",
    "\n",
    "#     print(condition_index)\n",
    "    if condition_index == 415:\n",
    "        continue\n",
    "    for i in range(0, 20):\n",
    "        ct_index = single_improvement_order[i]\n",
    "        if ct_index not in improvement_order[0:50]:\n",
    "            top20.add(ct_index)\n",
    "            print(condition_index, ':\\t', ct_index, 'mising!!!!!!!!!!!!!!!!!!')\n",
    "\n",
    "    \n"
   ]
  },
  {
   "cell_type": "code",
   "execution_count": null,
   "id": "63f5c667",
   "metadata": {},
   "outputs": [],
   "source": [
    "print(top20)"
   ]
  },
  {
   "cell_type": "code",
   "execution_count": null,
   "id": "113faa6c",
   "metadata": {},
   "outputs": [],
   "source": [
    "len(top20)"
   ]
  },
  {
   "cell_type": "code",
   "execution_count": null,
   "id": "e334b935",
   "metadata": {},
   "outputs": [],
   "source": [
    "# condition 415. says we should include 2643-2652"
   ]
  },
  {
   "cell_type": "code",
   "execution_count": null,
   "id": "f9d12c51",
   "metadata": {},
   "outputs": [],
   "source": [
    "improvement_score[2643, 415]"
   ]
  },
  {
   "cell_type": "code",
   "execution_count": null,
   "id": "bf99b66b",
   "metadata": {},
   "outputs": [],
   "source": [
    "improvement_score[:, 415]"
   ]
  },
  {
   "cell_type": "code",
   "execution_count": null,
   "id": "0a155412",
   "metadata": {},
   "outputs": [],
   "source": [
    "rxns2calc = set()\n",
    "improvement_threshold = 2e-7\n",
    "for i in range(N + M):\n",
    "    if np.any(np.ravel(improvement_score[i, :]) > improvement_threshold):\n",
    "        rxns2calc.add(i)\n",
    "    \n",
    "print(rxns2calc)"
   ]
  },
  {
   "cell_type": "code",
   "execution_count": null,
   "id": "59097cf6",
   "metadata": {},
   "outputs": [],
   "source": [
    "for i in rxns2calc:\n",
    "    if i not in improvement_order[0:50]:\n",
    "        print(i)"
   ]
  },
  {
   "cell_type": "code",
   "execution_count": null,
   "id": "ebd1c842",
   "metadata": {},
   "outputs": [],
   "source": [
    "print(len(rxns2calc))"
   ]
  },
  {
   "cell_type": "code",
   "execution_count": null,
   "id": "030c7314",
   "metadata": {},
   "outputs": [],
   "source": [
    "improvement"
   ]
  },
  {
   "cell_type": "code",
   "execution_count": null,
   "id": "dc2b6046",
   "metadata": {},
   "outputs": [],
   "source": [
    "plt.plot(np.ravel(improvement_score[991,:]))"
   ]
  },
  {
   "cell_type": "code",
   "execution_count": null,
   "id": "f3ada2c5",
   "metadata": {},
   "outputs": [],
   "source": []
  }
 ],
 "metadata": {
  "kernelspec": {
   "display_name": "Python 3 (ipykernel)",
   "language": "python",
   "name": "python3"
  },
  "language_info": {
   "codemirror_mode": {
    "name": "ipython",
    "version": 3
   },
   "file_extension": ".py",
   "mimetype": "text/x-python",
   "name": "python",
   "nbconvert_exporter": "python",
   "pygments_lexer": "ipython3",
   "version": "3.7.12"
  }
 },
 "nbformat": 4,
 "nbformat_minor": 5
}

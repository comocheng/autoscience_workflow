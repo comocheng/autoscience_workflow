{
 "cells": [
  {
   "cell_type": "code",
   "execution_count": 1,
   "id": "8688399d",
   "metadata": {},
   "outputs": [
    {
     "name": "stderr",
     "output_type": "stream",
     "text": [
      "/home/harris.se/rmg/RMG-Py/rmgpy/rmg/reactors.py:52: RuntimeWarning: Unable to import Julia dependencies, original error: [Errno 2] No such file or directory: 'julia': 'julia'\n",
      "  warnings.warn(\"Unable to import Julia dependencies, original error: \" + str(e), RuntimeWarning)\n",
      "WARNING:root:Optional package dependency \"xlwt\" not loaded. Some output features will not work.\n"
     ]
    }
   ],
   "source": [
    "# script to handle more complicated cases of rotors not completing or the peaks/valleys issues\n",
    "import glob\n",
    "import sys\n",
    "import os\n",
    "import numpy as np\n",
    "import shutil\n",
    "\n",
    "import ase.io.gaussian\n",
    "\n",
    "import logging\n",
    "import arkane.main\n",
    "import autotst.species\n",
    "\n",
    "sys.path.append('/work/westgroup/harris.se/autoscience/reaction_calculator/dft/')\n",
    "sys.path.append('/work/westgroup/harris.se/autoscience/reaction_calculator/databse/')\n",
    "import autotst_wrapper\n",
    "import database_fun"
   ]
  },
  {
   "cell_type": "code",
   "execution_count": 2,
   "id": "cb310a21",
   "metadata": {},
   "outputs": [],
   "source": [
    "# autotst_wrapper.run_rotor_offset(75, 4)\n",
    "from arkane.ess import _registered_ess_adapters\n",
    "from arkane.ess import ess_factory\n",
    "from arkane.modelchem import standardize_name\n",
    "from arkane.statmech import ScanLog as ScanLog\n",
    "from arkane.modelchem import LevelOfTheory\n",
    "from arkane.modelchem import CompositeLevelOfTheory"
   ]
  },
  {
   "cell_type": "code",
   "execution_count": 3,
   "id": "ad9e51be",
   "metadata": {},
   "outputs": [],
   "source": [
    "# species_index = 369\n",
    "# rotor_index = 0\n",
    "# autotst_wrapper.run_rotor_offset(species_index, rotor_index)"
   ]
  },
  {
   "cell_type": "code",
   "execution_count": null,
   "id": "208f12f2",
   "metadata": {},
   "outputs": [],
   "source": []
  },
  {
   "cell_type": "code",
   "execution_count": 4,
   "id": "4f7593df",
   "metadata": {},
   "outputs": [],
   "source": [
    "def hinderedRotor(scanLog, pivots, top, symmetry=None, fit='best'):\n",
    "    \"\"\"Read a hindered rotor directive, and return the attributes in a list\"\"\"\n",
    "    return [scanLog, pivots, top, symmetry, fit]\n",
    "\n",
    "def hinderedRotor1DArray(angles, energies, pivots, top, symmetry=None, fit='best'):\n",
    "    \"\"\"Read a hindered rotor PES profile, and return the attributes in a list\"\"\"\n",
    "    return [angles, energies, pivots, top, symmetry, fit]\n",
    "\n",
    "def freeRotor(pivots, top, symmetry):\n",
    "    \"\"\"Read a free rotor directive, and return the attributes in a list\"\"\"\n",
    "    return [pivots, top, symmetry]\n",
    "\n",
    "\n",
    "def hinderedRotor2D(scandir, pivots1, top1, symmetry1, pivots2, top2, symmetry2, symmetry='none'):\n",
    "    \"\"\"Read a two dimensional hindered rotor directive, and return the attributes in a list\"\"\"\n",
    "    return [scandir, pivots1, top1, symmetry1, pivots2, top2, symmetry2, symmetry]\n",
    "\n",
    "\n",
    "def hinderedRotorClassicalND(calc_path, pivots, tops, sigmas, semiclassical):\n",
    "    \"\"\"Read an N dimensional hindered rotor directive, and return the attributes in a list\"\"\"\n",
    "    return [calc_path, pivots, tops, sigmas, semiclassical]\n",
    "\n",
    "\n",
    "def create_log(log_path, check_for_errors=True):\n",
    "    if not os.path.isfile(log_path):\n",
    "        modified_log_path = os.path.join(directory, log_path)\n",
    "        if not os.path.isfile(modified_log_path):\n",
    "            raise InputError('Could not find log file for species {0} '\n",
    "                             'in the specified path {1}'.format(self.species.label, log_path))\n",
    "        else:\n",
    "            log_path = modified_log_path\n",
    "\n",
    "    return ess_factory(log_path, check_for_errors=check_for_errors)\n"
   ]
  },
  {
   "cell_type": "code",
   "execution_count": 5,
   "id": "8de0d702",
   "metadata": {},
   "outputs": [],
   "source": [
    "def delete_rotor(conformer_py_file, rotor_index):\n",
    "    with open(conformer_py_file, 'r') as f:\n",
    "        file_lines = f.readlines()\n",
    "\n",
    "    # actually comments out the line with that rotor index\n",
    "    for i, line in enumerate(file_lines):\n",
    "        if f'rotor_{rotor_index:04}.log' in line:\n",
    "            print(f'Found line with rotor {rotor_index}')\n",
    "            if line.startswith('#'):\n",
    "                print('Rotor already commented out')\n",
    "            else:\n",
    "                file_lines[i] = '# ' + line\n",
    "                with open(conformer_py_file, 'w') as f:\n",
    "                    f.writelines(file_lines)\n",
    "            return\n",
    "\n",
    "    print('Rotor index not found')\n"
   ]
  },
  {
   "cell_type": "code",
   "execution_count": 36,
   "id": "ceb0cb7c",
   "metadata": {},
   "outputs": [
    {
     "name": "stdout",
     "output_type": "stream",
     "text": [
      "False\n"
     ]
    }
   ],
   "source": [
    "species_index = 114\n",
    "sp_done = autotst_wrapper.arkane_species_complete(species_index)\n",
    "print(sp_done)\n",
    "assert not sp_done"
   ]
  },
  {
   "cell_type": "code",
   "execution_count": 37,
   "id": "475304b4",
   "metadata": {},
   "outputs": [],
   "source": [
    "N_rotors = -1\n",
    "rotor_scan_completed = []\n",
    "rotor_scan_incomplete = []\n",
    "rotor_scan_works = []\n",
    "rotors_to_delete = []\n",
    "\n",
    "rotors_turned_off = []  # will later comment out the lines here to make the species run\n",
    "\n",
    "\n",
    "# Copy files\n",
    "# check if the arkane folder has been set up???\n",
    "species_dir = os.path.join(autotst_wrapper.DFT_DIR, 'thermo', f'species_{species_index:04}')\n",
    "conformer_dir = os.path.join(species_dir, 'conformers')\n",
    "rotor_dir = os.path.join(species_dir, 'rotors')\n",
    "arkane_dir = os.path.join(species_dir, 'arkane')\n",
    "splice_dir = os.path.join(rotor_dir, f'spliced_rotors')\n",
    "os.makedirs(arkane_dir, exist_ok=True)\n",
    "os.chdir(arkane_dir)\n",
    "\n",
    "\n",
    "if autotst_wrapper.arkane_species_complete(species_index):\n",
    "    species_log(species_index, f'Arkane species already complete')\n",
    "\n",
    "else:\n",
    "    rmg_species = database_fun.index2species(species_index)\n",
    "    species_smiles = rmg_species.smiles\n",
    "\n",
    "    new_cf = autotst.species.Conformer(smiles=species_smiles)\n",
    "\n",
    "\n",
    "    # copy the conformer file in the rotors dir\n",
    "    conformer_files = glob.glob(os.path.join(rotor_dir, 'conformer_*.log'))\n",
    "    assert conformer_files, 'No conformer files in rotor dir'\n",
    "    conformer_file = conformer_files[0]\n",
    "    shutil.copy(conformer_file, arkane_dir)\n",
    "\n",
    "    # copy the rotor files\n",
    "    rotor_files = glob.glob(os.path.join(rotor_dir, 'rotor_*.log'))\n",
    "    N_rotors = len(rotor_files)\n",
    "    for rotor_index, rotor_file in enumerate(rotor_files):\n",
    "        # check if the rotor file completed\n",
    "        if autotst_wrapper.get_termination_status(rotor_file) == 0:\n",
    "            shutil.copy(rotor_file, arkane_dir)\n",
    "            rotor_scan_completed.append(rotor_index)\n",
    "        else:\n",
    "            # check if we've alread run the offset rotors\n",
    "            rotor_scan_incomplete.append(rotor_index)\n",
    "            if not os.path.exists(os.path.join(splice_dir, f'rotor_{rotor_index:04}_fwd_0000.log')):\n",
    "                # don't do this actually\n",
    "                print('not going to run rotors at offsets...')\n",
    "                pass\n",
    "#                 print('Running rotors at offsets')\n",
    "#                 autotst_wrapper.run_rotor_offset(species_index, rotor_index)\n",
    "            else:\n",
    "                print(f'Rotor {rotor_index} did not complete')\n",
    "                \n",
    "# if some rotors didn't complete... first try replacing them with any offsets\n",
    "rotors_to_delete = []\n",
    "for rotor_index in rotor_scan_incomplete:\n",
    "    print(f'Rotor {rotor_index}')\n",
    "    complete_scans = []\n",
    "    rotor_offset_files = glob.glob(os.path.join(splice_dir, f'rotor_{rotor_index:04}_fwd_*.log'))\n",
    "#     print(rotor_offset_files)\n",
    "    for i, r_file in enumerate(rotor_offset_files):\n",
    "        if autotst_wrapper.get_termination_status(r_file) == 0:\n",
    "            complete_scans.append(i)\n",
    "    if not complete_scans:\n",
    "        print('No scans completed, rotor must be deleted')\n",
    "        rotors_to_delete.append(rotor_index)\n",
    "    else:\n",
    "        print('Some offset scans completed, will be copied or deleted later')\n",
    "    print()"
   ]
  },
  {
   "cell_type": "code",
   "execution_count": 38,
   "id": "cf3aef72",
   "metadata": {},
   "outputs": [],
   "source": [
    "# get the main conformer\n",
    "with open(conformer_file, 'r') as f:\n",
    "    atoms = ase.io.gaussian.read_gaussian_out(f)\n",
    "\n",
    "new_cf._ase_molecule = atoms\n",
    "new_cf.update_coords_from(mol_type=\"ase\")\n",
    "\n",
    "torsions = new_cf.get_torsions()\n",
    "assert len(torsions) == len(rotor_files)\n",
    "\n",
    "# write the Arkane conformer file\n",
    "autotst_wrapper.write_arkane_conformer_file(new_cf, conformer_file, arkane_dir, include_rotors=True)\n",
    "\n",
    "conformer_py_file = os.path.basename(conformer_file[:-4]) + '.py'\n",
    "\n",
    "# write the Arkane input file\n",
    "input_file = os.path.join(arkane_dir, 'input.py')\n",
    "formula = new_cf.rmg_molecule.get_formula()\n",
    "lines = [\n",
    "    '#!/usr/bin/env python\\n\\n',\n",
    "    f'modelChemistry = \"M06-2X/cc-pVTZ\"\\n',\n",
    "    'useHinderedRotors = True\\n',\n",
    "    'useBondCorrections = False\\n\\n',\n",
    "\n",
    "    'frequencyScaleFactor = 0.982\\n',\n",
    "\n",
    "    f\"species('{formula}', '{conformer_py_file}', structure=SMILES('{new_cf.rmg_molecule.smiles}'))\\n\\n\",\n",
    "\n",
    "    f\"thermo('{formula}', 'NASA')\\n\",\n",
    "]\n",
    "with open(input_file, 'w') as f:\n",
    "    f.writelines(lines)\n"
   ]
  },
  {
   "cell_type": "code",
   "execution_count": 39,
   "id": "4e88b388",
   "metadata": {},
   "outputs": [
    {
     "name": "stdout",
     "output_type": "stream",
     "text": [
      "Rotor index not found\n"
     ]
    }
   ],
   "source": [
    "# delete bad rotors\n",
    "rotors_to_delete.append(0)\n",
    "for r in rotors_to_delete:\n",
    "    delete_rotor(conformer_py_file, r)\n",
    "        "
   ]
  },
  {
   "cell_type": "code",
   "execution_count": 40,
   "id": "b67db68d",
   "metadata": {},
   "outputs": [
    {
     "name": "stdout",
     "output_type": "stream",
     "text": [
      "Arkane execution initiated at Tue Apr  9 11:49:05 2024\n",
      "\n",
      "################################################################\n",
      "#                                                              #\n",
      "# Automated Reaction Kinetics and Network Exploration (Arkane) #\n",
      "#                                                              #\n",
      "#   Version: 3.2.0                                             #\n",
      "#   Authors: RMG Developers (rmg_dev@mit.edu)                  #\n",
      "#   P.I.s:   William H. Green (whgreen@mit.edu)                #\n",
      "#            Richard H. West (r.west@neu.edu)                  #\n",
      "#   Website: http://reactionmechanismgenerator.github.io/      #\n",
      "#                                                              #\n",
      "################################################################\n",
      "\n",
      "The current git HEAD for RMG-Py is:\n",
      "\t51d7f0c661a7ae4519c7033d38d0be97e75900d5\n",
      "\tWed Dec 13 14:48:41 2023 -0500\n",
      "\n",
      "The current git HEAD for RMG-database is:\n",
      "\tcfb4910cfc64274981216acbfb7756aba6be0112\n",
      "\tTue Dec 12 11:55:13 2023 -0500\n",
      "\n",
      "Loading species C3H3O...\n",
      "Added species C3H3O to a stat mech job.\n",
      "\n",
      "\n",
      "Loading statistical mechanics parameters for C3H3O...\n"
     ]
    },
    {
     "name": "stderr",
     "output_type": "stream",
     "text": [
      "==============================\n",
      "*** Open Babel Warning  in InChI code\n",
      "  #1 :Accepted unusual valence(s): C(3)\n",
      "==============================\n",
      "*** Open Babel Warning  in InChI code\n",
      "  #1 :Accepted unusual valence(s): C(3)\n"
     ]
    },
    {
     "ename": "LogError",
     "evalue": "There was an error (Internal coordinate error) with Gaussian output file conformer_0002.log due to line:\n Error termination via Lnk1e in /shared/centos7/gaussian/g16/l103.exe at Tue Jan  9 00:25:47 2024.\n",
     "output_type": "error",
     "traceback": [
      "\u001b[0;31m---------------------------------------------------------------------------\u001b[0m",
      "\u001b[0;31mLogError\u001b[0m                                  Traceback (most recent call last)",
      "\u001b[0;32m/tmp/ipykernel_25720/1989625980.py\u001b[0m in \u001b[0;36m<module>\u001b[0;34m\u001b[0m\n\u001b[1;32m      2\u001b[0m \u001b[0markane_species\u001b[0m \u001b[0;34m=\u001b[0m \u001b[0markane\u001b[0m\u001b[0;34m.\u001b[0m\u001b[0mmain\u001b[0m\u001b[0;34m.\u001b[0m\u001b[0mArkane\u001b[0m\u001b[0;34m(\u001b[0m\u001b[0minput_file\u001b[0m\u001b[0;34m=\u001b[0m\u001b[0minput_file\u001b[0m\u001b[0;34m,\u001b[0m \u001b[0moutput_directory\u001b[0m\u001b[0;34m=\u001b[0m\u001b[0markane_dir\u001b[0m\u001b[0;34m,\u001b[0m \u001b[0mverbose\u001b[0m\u001b[0;34m=\u001b[0m\u001b[0mlogging\u001b[0m\u001b[0;34m.\u001b[0m\u001b[0mDEBUG\u001b[0m\u001b[0;34m)\u001b[0m\u001b[0;34m\u001b[0m\u001b[0;34m\u001b[0m\u001b[0m\n\u001b[1;32m      3\u001b[0m \u001b[0markane_species\u001b[0m\u001b[0;34m.\u001b[0m\u001b[0mplot\u001b[0m \u001b[0;34m=\u001b[0m \u001b[0;32mTrue\u001b[0m\u001b[0;34m\u001b[0m\u001b[0;34m\u001b[0m\u001b[0m\n\u001b[0;32m----> 4\u001b[0;31m \u001b[0markane_species\u001b[0m\u001b[0;34m.\u001b[0m\u001b[0mexecute\u001b[0m\u001b[0;34m(\u001b[0m\u001b[0;34m)\u001b[0m  \u001b[0;31m# TODO don't forget to run the arkane job[1]\u001b[0m\u001b[0;34m\u001b[0m\u001b[0;34m\u001b[0m\u001b[0m\n\u001b[0m",
      "\u001b[0;32m~/rmg/RMG-Py/arkane/main.py\u001b[0m in \u001b[0;36mexecute\u001b[0;34m(self)\u001b[0m\n\u001b[1;32m    213\u001b[0m                 \u001b[0mjob\u001b[0m\u001b[0;34m.\u001b[0m\u001b[0mexecute\u001b[0m\u001b[0;34m(\u001b[0m\u001b[0moutput_directory\u001b[0m\u001b[0;34m=\u001b[0m\u001b[0mself\u001b[0m\u001b[0;34m.\u001b[0m\u001b[0moutput_directory\u001b[0m\u001b[0;34m,\u001b[0m \u001b[0mplot\u001b[0m\u001b[0;34m=\u001b[0m\u001b[0mself\u001b[0m\u001b[0;34m.\u001b[0m\u001b[0mplot\u001b[0m\u001b[0;34m)\u001b[0m\u001b[0;34m\u001b[0m\u001b[0;34m\u001b[0m\u001b[0m\n\u001b[1;32m    214\u001b[0m             \u001b[0;32mif\u001b[0m \u001b[0misinstance\u001b[0m\u001b[0;34m(\u001b[0m\u001b[0mjob\u001b[0m\u001b[0;34m,\u001b[0m \u001b[0mStatMechJob\u001b[0m\u001b[0;34m)\u001b[0m\u001b[0;34m:\u001b[0m\u001b[0;34m\u001b[0m\u001b[0;34m\u001b[0m\u001b[0m\n\u001b[0;32m--> 215\u001b[0;31m                 \u001b[0mjob\u001b[0m\u001b[0;34m.\u001b[0m\u001b[0mexecute\u001b[0m\u001b[0;34m(\u001b[0m\u001b[0moutput_directory\u001b[0m\u001b[0;34m=\u001b[0m\u001b[0mself\u001b[0m\u001b[0;34m.\u001b[0m\u001b[0moutput_directory\u001b[0m\u001b[0;34m,\u001b[0m \u001b[0mplot\u001b[0m\u001b[0;34m=\u001b[0m\u001b[0mself\u001b[0m\u001b[0;34m.\u001b[0m\u001b[0mplot\u001b[0m\u001b[0;34m,\u001b[0m \u001b[0mpdep\u001b[0m\u001b[0;34m=\u001b[0m\u001b[0mis_pdep\u001b[0m\u001b[0;34m(\u001b[0m\u001b[0mself\u001b[0m\u001b[0;34m.\u001b[0m\u001b[0mjob_list\u001b[0m\u001b[0;34m)\u001b[0m\u001b[0;34m)\u001b[0m\u001b[0;34m\u001b[0m\u001b[0;34m\u001b[0m\u001b[0m\n\u001b[0m\u001b[1;32m    216\u001b[0m                 \u001b[0;32mif\u001b[0m \u001b[0mhasattr\u001b[0m\u001b[0;34m(\u001b[0m\u001b[0mjob\u001b[0m\u001b[0;34m,\u001b[0m \u001b[0;34m'supporting_info'\u001b[0m\u001b[0;34m)\u001b[0m\u001b[0;34m:\u001b[0m\u001b[0;34m\u001b[0m\u001b[0;34m\u001b[0m\u001b[0m\n\u001b[1;32m    217\u001b[0m                     \u001b[0msupporting_info\u001b[0m\u001b[0;34m.\u001b[0m\u001b[0mappend\u001b[0m\u001b[0;34m(\u001b[0m\u001b[0mjob\u001b[0m\u001b[0;34m.\u001b[0m\u001b[0msupporting_info\u001b[0m\u001b[0;34m)\u001b[0m\u001b[0;34m\u001b[0m\u001b[0;34m\u001b[0m\u001b[0m\n",
      "\u001b[0;32m~/rmg/RMG-Py/arkane/statmech.py\u001b[0m in \u001b[0;36mexecute\u001b[0;34m(self, output_directory, plot, pdep)\u001b[0m\n\u001b[1;32m    289\u001b[0m         \u001b[0mIf\u001b[0m\u001b[0;31m \u001b[0m\u001b[0;31m`\u001b[0m\u001b[0mplot\u001b[0m\u001b[0;31m`\u001b[0m \u001b[0;32mis\u001b[0m \u001b[0;32mTrue\u001b[0m\u001b[0;34m,\u001b[0m \u001b[0mthen\u001b[0m \u001b[0mplots\u001b[0m \u001b[0mof\u001b[0m \u001b[0mthe\u001b[0m \u001b[0mhindered\u001b[0m \u001b[0mrotor\u001b[0m \u001b[0mfits\u001b[0m \u001b[0mwill\u001b[0m \u001b[0mbe\u001b[0m \u001b[0msaved\u001b[0m\u001b[0;34m.\u001b[0m\u001b[0;34m\u001b[0m\u001b[0;34m\u001b[0m\u001b[0m\n\u001b[1;32m    290\u001b[0m         \"\"\"\n\u001b[0;32m--> 291\u001b[0;31m         \u001b[0mself\u001b[0m\u001b[0;34m.\u001b[0m\u001b[0mload\u001b[0m\u001b[0;34m(\u001b[0m\u001b[0mpdep\u001b[0m\u001b[0;34m,\u001b[0m \u001b[0mplot\u001b[0m\u001b[0;34m)\u001b[0m\u001b[0;34m\u001b[0m\u001b[0;34m\u001b[0m\u001b[0m\n\u001b[0m\u001b[1;32m    292\u001b[0m         \u001b[0;32mif\u001b[0m \u001b[0moutput_directory\u001b[0m \u001b[0;32mis\u001b[0m \u001b[0;32mnot\u001b[0m \u001b[0;32mNone\u001b[0m\u001b[0;34m:\u001b[0m\u001b[0;34m\u001b[0m\u001b[0;34m\u001b[0m\u001b[0m\n\u001b[1;32m    293\u001b[0m             \u001b[0;32mtry\u001b[0m\u001b[0;34m:\u001b[0m\u001b[0;34m\u001b[0m\u001b[0;34m\u001b[0m\u001b[0m\n",
      "\u001b[0;32m~/rmg/RMG-Py/arkane/statmech.py\u001b[0m in \u001b[0;36mload\u001b[0;34m(self, pdep, plot)\u001b[0m\n\u001b[1;32m    371\u001b[0m         \u001b[0;32mwith\u001b[0m \u001b[0mopen\u001b[0m\u001b[0;34m(\u001b[0m\u001b[0mpath\u001b[0m\u001b[0;34m,\u001b[0m \u001b[0;34m'r'\u001b[0m\u001b[0;34m)\u001b[0m \u001b[0;32mas\u001b[0m \u001b[0mf\u001b[0m\u001b[0;34m:\u001b[0m\u001b[0;34m\u001b[0m\u001b[0;34m\u001b[0m\u001b[0m\n\u001b[1;32m    372\u001b[0m             \u001b[0;32mtry\u001b[0m\u001b[0;34m:\u001b[0m\u001b[0;34m\u001b[0m\u001b[0;34m\u001b[0m\u001b[0m\n\u001b[0;32m--> 373\u001b[0;31m                 \u001b[0mexec\u001b[0m\u001b[0;34m(\u001b[0m\u001b[0mf\u001b[0m\u001b[0;34m.\u001b[0m\u001b[0mread\u001b[0m\u001b[0;34m(\u001b[0m\u001b[0;34m)\u001b[0m\u001b[0;34m,\u001b[0m \u001b[0mglobal_context\u001b[0m\u001b[0;34m,\u001b[0m \u001b[0mlocal_context\u001b[0m\u001b[0;34m)\u001b[0m\u001b[0;34m\u001b[0m\u001b[0;34m\u001b[0m\u001b[0m\n\u001b[0m\u001b[1;32m    374\u001b[0m             \u001b[0;32mexcept\u001b[0m \u001b[0;34m(\u001b[0m\u001b[0mNameError\u001b[0m\u001b[0;34m,\u001b[0m \u001b[0mTypeError\u001b[0m\u001b[0;34m,\u001b[0m \u001b[0mSyntaxError\u001b[0m\u001b[0;34m)\u001b[0m\u001b[0;34m:\u001b[0m\u001b[0;34m\u001b[0m\u001b[0;34m\u001b[0m\u001b[0m\n\u001b[1;32m    375\u001b[0m                 \u001b[0mlogging\u001b[0m\u001b[0;34m.\u001b[0m\u001b[0merror\u001b[0m\u001b[0;34m(\u001b[0m\u001b[0;34m'The species file {0} was invalid:'\u001b[0m\u001b[0;34m.\u001b[0m\u001b[0mformat\u001b[0m\u001b[0;34m(\u001b[0m\u001b[0mpath\u001b[0m\u001b[0;34m)\u001b[0m\u001b[0;34m)\u001b[0m\u001b[0;34m\u001b[0m\u001b[0;34m\u001b[0m\u001b[0m\n",
      "\u001b[0;32m<string>\u001b[0m in \u001b[0;36m<module>\u001b[0;34m\u001b[0m\n",
      "\u001b[0;32m~/rmg/RMG-Py/arkane/statmech.py\u001b[0m in \u001b[0;36mcreate_log\u001b[0;34m(log_path, check_for_errors)\u001b[0m\n\u001b[1;32m    327\u001b[0m                     \u001b[0mlog_path\u001b[0m \u001b[0;34m=\u001b[0m \u001b[0mmodified_log_path\u001b[0m\u001b[0;34m\u001b[0m\u001b[0;34m\u001b[0m\u001b[0m\n\u001b[1;32m    328\u001b[0m \u001b[0;34m\u001b[0m\u001b[0m\n\u001b[0;32m--> 329\u001b[0;31m             \u001b[0;32mreturn\u001b[0m \u001b[0mess_factory\u001b[0m\u001b[0;34m(\u001b[0m\u001b[0mlog_path\u001b[0m\u001b[0;34m,\u001b[0m \u001b[0mcheck_for_errors\u001b[0m\u001b[0;34m=\u001b[0m\u001b[0mcheck_for_errors\u001b[0m\u001b[0;34m)\u001b[0m\u001b[0;34m\u001b[0m\u001b[0;34m\u001b[0m\u001b[0m\n\u001b[0m\u001b[1;32m    330\u001b[0m \u001b[0;34m\u001b[0m\u001b[0m\n\u001b[1;32m    331\u001b[0m         \u001b[0mis_ts\u001b[0m \u001b[0;34m=\u001b[0m \u001b[0misinstance\u001b[0m\u001b[0;34m(\u001b[0m\u001b[0mself\u001b[0m\u001b[0;34m.\u001b[0m\u001b[0mspecies\u001b[0m\u001b[0;34m,\u001b[0m \u001b[0mTransitionState\u001b[0m\u001b[0;34m)\u001b[0m\u001b[0;34m\u001b[0m\u001b[0;34m\u001b[0m\u001b[0m\n",
      "\u001b[0;32m~/rmg/RMG-Py/arkane/ess/factory.py\u001b[0m in \u001b[0;36mess_factory\u001b[0;34m(fullpath, check_for_errors)\u001b[0m\n\u001b[1;32m    107\u001b[0m                          f'Gaussian, Molpro, Orca, Psi4, QChem, or TeraChem log file.')\n\u001b[1;32m    108\u001b[0m \u001b[0;34m\u001b[0m\u001b[0m\n\u001b[0;32m--> 109\u001b[0;31m     \u001b[0;32mreturn\u001b[0m \u001b[0m_registered_ess_adapters\u001b[0m\u001b[0;34m[\u001b[0m\u001b[0mess_name\u001b[0m\u001b[0;34m]\u001b[0m\u001b[0;34m(\u001b[0m\u001b[0mpath\u001b[0m\u001b[0;34m=\u001b[0m\u001b[0mfullpath\u001b[0m\u001b[0;34m,\u001b[0m \u001b[0mcheck_for_errors\u001b[0m\u001b[0;34m=\u001b[0m\u001b[0mcheck_for_errors\u001b[0m\u001b[0;34m)\u001b[0m\u001b[0;34m\u001b[0m\u001b[0;34m\u001b[0m\u001b[0m\n\u001b[0m",
      "\u001b[0;32m~/rmg/RMG-Py/arkane/ess/adapter.py\u001b[0m in \u001b[0;36m__init__\u001b[0;34m(self, path, check_for_errors)\u001b[0m\n\u001b[1;32m     49\u001b[0m         \u001b[0mself\u001b[0m\u001b[0;34m.\u001b[0m\u001b[0mpath\u001b[0m \u001b[0;34m=\u001b[0m \u001b[0mpath\u001b[0m\u001b[0;34m\u001b[0m\u001b[0;34m\u001b[0m\u001b[0m\n\u001b[1;32m     50\u001b[0m         \u001b[0;32mif\u001b[0m \u001b[0mcheck_for_errors\u001b[0m\u001b[0;34m:\u001b[0m\u001b[0;34m\u001b[0m\u001b[0;34m\u001b[0m\u001b[0m\n\u001b[0;32m---> 51\u001b[0;31m             \u001b[0mself\u001b[0m\u001b[0;34m.\u001b[0m\u001b[0mcheck_for_errors\u001b[0m\u001b[0;34m(\u001b[0m\u001b[0;34m)\u001b[0m\u001b[0;34m\u001b[0m\u001b[0;34m\u001b[0m\u001b[0m\n\u001b[0m\u001b[1;32m     52\u001b[0m \u001b[0;34m\u001b[0m\u001b[0m\n\u001b[1;32m     53\u001b[0m     \u001b[0;34m@\u001b[0m\u001b[0mabstractmethod\u001b[0m\u001b[0;34m\u001b[0m\u001b[0;34m\u001b[0m\u001b[0m\n",
      "\u001b[0;32m~/rmg/RMG-Py/arkane/ess/gaussian.py\u001b[0m in \u001b[0;36mcheck_for_errors\u001b[0;34m(self)\u001b[0m\n\u001b[1;32m     95\u001b[0m                         \u001b[0merror\u001b[0m \u001b[0;34m=\u001b[0m \u001b[0;34m'Maximum optimization cycles reached.'\u001b[0m\u001b[0;34m\u001b[0m\u001b[0;34m\u001b[0m\u001b[0m\n\u001b[1;32m     96\u001b[0m                     \u001b[0;32mif\u001b[0m \u001b[0merror\u001b[0m\u001b[0;34m:\u001b[0m\u001b[0;34m\u001b[0m\u001b[0;34m\u001b[0m\u001b[0m\n\u001b[0;32m---> 97\u001b[0;31m                         raise LogError(f'There was an error ({error}) with Gaussian output file {self.path} '\n\u001b[0m\u001b[1;32m     98\u001b[0m                                        f'due to line:\\n{line}')\n\u001b[1;32m     99\u001b[0m                     \u001b[0;32melse\u001b[0m\u001b[0;34m:\u001b[0m\u001b[0;34m\u001b[0m\u001b[0;34m\u001b[0m\u001b[0m\n",
      "\u001b[0;31mLogError\u001b[0m: There was an error (Internal coordinate error) with Gaussian output file conformer_0002.log due to line:\n Error termination via Lnk1e in /shared/centos7/gaussian/g16/l103.exe at Tue Jan  9 00:25:47 2024.\n"
     ]
    }
   ],
   "source": [
    "# run once to populate the arkane_species object\n",
    "arkane_species = arkane.main.Arkane(input_file=input_file, output_directory=arkane_dir, verbose=logging.DEBUG)\n",
    "arkane_species.plot = True\n",
    "arkane_species.execute()  # TODO don't forget to run the arkane job[1]"
   ]
  },
  {
   "cell_type": "code",
   "execution_count": 41,
   "id": "82b8b63b",
   "metadata": {
    "scrolled": true
   },
   "outputs": [
    {
     "name": "stdout",
     "output_type": "stream",
     "text": [
      " --------------------- Loop 0 ----------------\n",
      "Loading statistical mechanics parameters for C3H3O...\n",
      "Error: The species file /work/westgroup/harris.se/autoscience/reaction_calculator/dft/thermo/species_0114/arkane/conformer_0002.py was invalid:\n"
     ]
    },
    {
     "ename": "LogError",
     "evalue": "There was an error (Internal coordinate error) with Gaussian output file conformer_0002.log due to line:\n Error termination via Lnk1e in /shared/centos7/gaussian/g16/l103.exe at Tue Jan  9 00:25:47 2024.\n",
     "output_type": "error",
     "traceback": [
      "\u001b[0;31m---------------------------------------------------------------------------\u001b[0m",
      "\u001b[0;31mLogError\u001b[0m                                  Traceback (most recent call last)",
      "\u001b[0;32m/tmp/ipykernel_25720/3038266534.py\u001b[0m in \u001b[0;36m<module>\u001b[0;34m\u001b[0m\n\u001b[1;32m     35\u001b[0m     \u001b[0;32mwith\u001b[0m \u001b[0mopen\u001b[0m\u001b[0;34m(\u001b[0m\u001b[0markane_species\u001b[0m\u001b[0;34m.\u001b[0m\u001b[0mjob_list\u001b[0m\u001b[0;34m[\u001b[0m\u001b[0;36m0\u001b[0m\u001b[0;34m]\u001b[0m\u001b[0;34m.\u001b[0m\u001b[0mpath\u001b[0m\u001b[0;34m,\u001b[0m \u001b[0;34m'r'\u001b[0m\u001b[0;34m)\u001b[0m \u001b[0;32mas\u001b[0m \u001b[0mf\u001b[0m\u001b[0;34m:\u001b[0m\u001b[0;34m\u001b[0m\u001b[0;34m\u001b[0m\u001b[0m\n\u001b[1;32m     36\u001b[0m         \u001b[0;32mtry\u001b[0m\u001b[0;34m:\u001b[0m\u001b[0;34m\u001b[0m\u001b[0;34m\u001b[0m\u001b[0m\n\u001b[0;32m---> 37\u001b[0;31m             \u001b[0mexec\u001b[0m\u001b[0;34m(\u001b[0m\u001b[0mf\u001b[0m\u001b[0;34m.\u001b[0m\u001b[0mread\u001b[0m\u001b[0;34m(\u001b[0m\u001b[0;34m)\u001b[0m\u001b[0;34m,\u001b[0m \u001b[0mglobal_context\u001b[0m\u001b[0;34m,\u001b[0m \u001b[0mlocal_context\u001b[0m\u001b[0;34m)\u001b[0m\u001b[0;34m\u001b[0m\u001b[0;34m\u001b[0m\u001b[0m\n\u001b[0m\u001b[1;32m     38\u001b[0m         \u001b[0;32mexcept\u001b[0m\u001b[0;34m:\u001b[0m\u001b[0;34m\u001b[0m\u001b[0;34m\u001b[0m\u001b[0m\n\u001b[1;32m     39\u001b[0m             \u001b[0mlogging\u001b[0m\u001b[0;34m.\u001b[0m\u001b[0merror\u001b[0m\u001b[0;34m(\u001b[0m\u001b[0;34m'The species file {0} was invalid:'\u001b[0m\u001b[0;34m.\u001b[0m\u001b[0mformat\u001b[0m\u001b[0;34m(\u001b[0m\u001b[0markane_species\u001b[0m\u001b[0;34m.\u001b[0m\u001b[0mjob_list\u001b[0m\u001b[0;34m[\u001b[0m\u001b[0;36m0\u001b[0m\u001b[0;34m]\u001b[0m\u001b[0;34m.\u001b[0m\u001b[0mpath\u001b[0m\u001b[0;34m)\u001b[0m\u001b[0;34m)\u001b[0m\u001b[0;34m\u001b[0m\u001b[0;34m\u001b[0m\u001b[0m\n",
      "\u001b[0;32m<string>\u001b[0m in \u001b[0;36m<module>\u001b[0;34m\u001b[0m\n",
      "\u001b[0;32m/tmp/ipykernel_25720/715528944.py\u001b[0m in \u001b[0;36mcreate_log\u001b[0;34m(log_path, check_for_errors)\u001b[0m\n\u001b[1;32m     31\u001b[0m             \u001b[0mlog_path\u001b[0m \u001b[0;34m=\u001b[0m \u001b[0mmodified_log_path\u001b[0m\u001b[0;34m\u001b[0m\u001b[0;34m\u001b[0m\u001b[0m\n\u001b[1;32m     32\u001b[0m \u001b[0;34m\u001b[0m\u001b[0m\n\u001b[0;32m---> 33\u001b[0;31m     \u001b[0;32mreturn\u001b[0m \u001b[0mess_factory\u001b[0m\u001b[0;34m(\u001b[0m\u001b[0mlog_path\u001b[0m\u001b[0;34m,\u001b[0m \u001b[0mcheck_for_errors\u001b[0m\u001b[0;34m=\u001b[0m\u001b[0mcheck_for_errors\u001b[0m\u001b[0;34m)\u001b[0m\u001b[0;34m\u001b[0m\u001b[0;34m\u001b[0m\u001b[0m\n\u001b[0m",
      "\u001b[0;32m~/rmg/RMG-Py/arkane/ess/factory.py\u001b[0m in \u001b[0;36mess_factory\u001b[0;34m(fullpath, check_for_errors)\u001b[0m\n\u001b[1;32m    107\u001b[0m                          f'Gaussian, Molpro, Orca, Psi4, QChem, or TeraChem log file.')\n\u001b[1;32m    108\u001b[0m \u001b[0;34m\u001b[0m\u001b[0m\n\u001b[0;32m--> 109\u001b[0;31m     \u001b[0;32mreturn\u001b[0m \u001b[0m_registered_ess_adapters\u001b[0m\u001b[0;34m[\u001b[0m\u001b[0mess_name\u001b[0m\u001b[0;34m]\u001b[0m\u001b[0;34m(\u001b[0m\u001b[0mpath\u001b[0m\u001b[0;34m=\u001b[0m\u001b[0mfullpath\u001b[0m\u001b[0;34m,\u001b[0m \u001b[0mcheck_for_errors\u001b[0m\u001b[0;34m=\u001b[0m\u001b[0mcheck_for_errors\u001b[0m\u001b[0;34m)\u001b[0m\u001b[0;34m\u001b[0m\u001b[0;34m\u001b[0m\u001b[0m\n\u001b[0m",
      "\u001b[0;32m~/rmg/RMG-Py/arkane/ess/adapter.py\u001b[0m in \u001b[0;36m__init__\u001b[0;34m(self, path, check_for_errors)\u001b[0m\n\u001b[1;32m     49\u001b[0m         \u001b[0mself\u001b[0m\u001b[0;34m.\u001b[0m\u001b[0mpath\u001b[0m \u001b[0;34m=\u001b[0m \u001b[0mpath\u001b[0m\u001b[0;34m\u001b[0m\u001b[0;34m\u001b[0m\u001b[0m\n\u001b[1;32m     50\u001b[0m         \u001b[0;32mif\u001b[0m \u001b[0mcheck_for_errors\u001b[0m\u001b[0;34m:\u001b[0m\u001b[0;34m\u001b[0m\u001b[0;34m\u001b[0m\u001b[0m\n\u001b[0;32m---> 51\u001b[0;31m             \u001b[0mself\u001b[0m\u001b[0;34m.\u001b[0m\u001b[0mcheck_for_errors\u001b[0m\u001b[0;34m(\u001b[0m\u001b[0;34m)\u001b[0m\u001b[0;34m\u001b[0m\u001b[0;34m\u001b[0m\u001b[0m\n\u001b[0m\u001b[1;32m     52\u001b[0m \u001b[0;34m\u001b[0m\u001b[0m\n\u001b[1;32m     53\u001b[0m     \u001b[0;34m@\u001b[0m\u001b[0mabstractmethod\u001b[0m\u001b[0;34m\u001b[0m\u001b[0;34m\u001b[0m\u001b[0m\n",
      "\u001b[0;32m~/rmg/RMG-Py/arkane/ess/gaussian.py\u001b[0m in \u001b[0;36mcheck_for_errors\u001b[0;34m(self)\u001b[0m\n\u001b[1;32m     95\u001b[0m                         \u001b[0merror\u001b[0m \u001b[0;34m=\u001b[0m \u001b[0;34m'Maximum optimization cycles reached.'\u001b[0m\u001b[0;34m\u001b[0m\u001b[0;34m\u001b[0m\u001b[0m\n\u001b[1;32m     96\u001b[0m                     \u001b[0;32mif\u001b[0m \u001b[0merror\u001b[0m\u001b[0;34m:\u001b[0m\u001b[0;34m\u001b[0m\u001b[0;34m\u001b[0m\u001b[0m\n\u001b[0;32m---> 97\u001b[0;31m                         raise LogError(f'There was an error ({error}) with Gaussian output file {self.path} '\n\u001b[0m\u001b[1;32m     98\u001b[0m                                        f'due to line:\\n{line}')\n\u001b[1;32m     99\u001b[0m                     \u001b[0;32melse\u001b[0m\u001b[0;34m:\u001b[0m\u001b[0;34m\u001b[0m\u001b[0;34m\u001b[0m\u001b[0m\n",
      "\u001b[0;31mLogError\u001b[0m: There was an error (Internal coordinate error) with Gaussian output file conformer_0002.log due to line:\n Error termination via Lnk1e in /shared/centos7/gaussian/g16/l103.exe at Tue Jan  9 00:25:47 2024.\n"
     ]
    }
   ],
   "source": [
    "# try running in a loop\n",
    "offset_attempt = np.array(np.zeros(N_rotors), int)\n",
    "\n",
    "for overall_loop_index in range(0, 10):\n",
    "    print(f' --------------------- Loop {overall_loop_index} ----------------')\n",
    "    error_text = ''\n",
    "    try:\n",
    "        arkane_species.job_list[0].execute()\n",
    "        print('Arkane worked! Exiting')\n",
    "        break\n",
    "    except Exception as myerror:\n",
    "        error_text = str(myerror)\n",
    "    \n",
    "    global_context = {\n",
    "        '__builtins__': None,\n",
    "    }\n",
    "    local_context = {\n",
    "        '__builtins__': None,\n",
    "        'True': True,\n",
    "        'False': False,\n",
    "        'HinderedRotor': hinderedRotor,\n",
    "        'HinderedRotor1DArray': hinderedRotor1DArray,\n",
    "        'FreeRotor': freeRotor,\n",
    "        'HinderedRotor2D': hinderedRotor2D,\n",
    "        'HinderedRotorClassicalND': hinderedRotorClassicalND,\n",
    "        'ScanLog': ScanLog,\n",
    "        'Log': create_log,  # The Log class no longer exists, so route the path to ess_factory instead\n",
    "        'LevelOfTheory': LevelOfTheory,\n",
    "        'CompositeLevelOfTheory': CompositeLevelOfTheory,\n",
    "    }\n",
    "\n",
    "    local_context.update({ess_adapter_name: create_log for ess_adapter_name in _registered_ess_adapters.keys()})\n",
    "\n",
    "    # ----------------- Identify the problem rotor and delete or copy it ------------------------\n",
    "    with open(arkane_species.job_list[0].path, 'r') as f:\n",
    "        try:\n",
    "            exec(f.read(), global_context, local_context)\n",
    "        except:\n",
    "            logging.error('The species file {0} was invalid:'.format(arkane_species.job_list[0].path))\n",
    "            raise\n",
    "            \n",
    "    for i, rotor in enumerate(local_context['rotors']):\n",
    "        rotor_index = int(rotor[0].path[-8:-4])\n",
    "        print(rotor_index)\n",
    "        if str(rotor[1]) in error_text:\n",
    "            print(f'rotor {rotor_index} failed')\n",
    "            print(rotor[0], rotor[1], rotor[2])\n",
    "\n",
    "            # see if there are any valid replacements in the spliced folder:\n",
    "            complete_scans = []\n",
    "            rotor_offset_files = glob.glob(os.path.join(splice_dir, f'rotor_{rotor_index:04}_fwd_*.log'))\n",
    "            for j, r_file in enumerate(rotor_offset_files):\n",
    "                if autotst_wrapper.get_termination_status(r_file) == 0:\n",
    "                    complete_scans.append(j)\n",
    "            if not complete_scans:\n",
    "                print(f'No scans completed, rotor {rotor_index} must be deleted')\n",
    "                rotors_to_delete.append(rotor_index)\n",
    "                delete_rotor(conformer_py_file, rotor_index)\n",
    "            else:\n",
    "                # find the best rotor to copy over\n",
    "                my_offset_files = glob.glob(os.path.join(splice_dir, f'rotor_{rotor_index:04}_fwd_*.log'))\n",
    "                possible_files = []\n",
    "                possible_e0s = []\n",
    "                for k, fname in enumerate(my_offset_files):\n",
    "                    if autotst_wrapper.get_termination_status(fname) != 0:\n",
    "                        continue\n",
    "                    print(fname)\n",
    "                    my_log2 = arkane.ess.gaussian.GaussianLog(fname)\n",
    "                    e, a = my_log2.load_scan_energies()\n",
    "                    if not np.isclose(e[0], e[-1]):\n",
    "                        continue\n",
    "\n",
    "                    possible_files.append(fname)\n",
    "                    possible_e0s.append(e[0])\n",
    "\n",
    "                # rank the files by energy, picking the lowest energy, with the reasoning that a scan\n",
    "                # which starts at a low energy is likely to start out in a stable configuration, so\n",
    "                # if it makes it all the way around back to a stable energy, then it's more trustworthy\n",
    "                indices = np.arange(0, len(possible_files))\n",
    "                order = [x for _, x in sorted(zip(possible_e0s, indices))]\n",
    "                \n",
    "                if offset_attempt[rotor_index] == len(possible_files):\n",
    "                    print(f'No more offset attempts to try, rotor {rotor_index} must be deleted')\n",
    "                    delete_rotor(conformer_py_file, rotor_index)\n",
    "                else:\n",
    "                    print(f'This is attempt {offset_attempt[rotor_index]} on rotor {rotor_index}')\n",
    "                    print(f'Trying rotor offset scan {order[offset_attempt[rotor_index]]} completed. Copying...')\n",
    "                    print(possible_files[order[offset_attempt[rotor_index]]])\n",
    "                    shutil.copy(possible_files[order[offset_attempt[rotor_index]]], os.path.join(arkane_dir, f'rotor_{rotor_index:04}.log'))\n",
    "                    offset_attempt[rotor_index] += 1                                      \n",
    "                                                                  \n",
    "            break"
   ]
  },
  {
   "cell_type": "code",
   "execution_count": 35,
   "id": "7332b1ac",
   "metadata": {},
   "outputs": [
    {
     "name": "stdout",
     "output_type": "stream",
     "text": [
      "Arkane execution initiated at Tue Apr  9 11:47:48 2024\n",
      "\n",
      "################################################################\n",
      "#                                                              #\n",
      "# Automated Reaction Kinetics and Network Exploration (Arkane) #\n",
      "#                                                              #\n",
      "#   Version: 3.2.0                                             #\n",
      "#   Authors: RMG Developers (rmg_dev@mit.edu)                  #\n",
      "#   P.I.s:   William H. Green (whgreen@mit.edu)                #\n",
      "#            Richard H. West (r.west@neu.edu)                  #\n",
      "#   Website: http://reactionmechanismgenerator.github.io/      #\n",
      "#                                                              #\n",
      "################################################################\n",
      "\n",
      "The current git HEAD for RMG-Py is:\n",
      "\t51d7f0c661a7ae4519c7033d38d0be97e75900d5\n",
      "\tWed Dec 13 14:48:41 2023 -0500\n",
      "\n",
      "The current git HEAD for RMG-database is:\n",
      "\tcfb4910cfc64274981216acbfb7756aba6be0112\n",
      "\tTue Dec 12 11:55:13 2023 -0500\n",
      "\n",
      "Loading species C2H5O...\n",
      "Added species C2H5O to a stat mech job.\n",
      "\n",
      "\n",
      "Loading statistical mechanics parameters for C2H5O...\n",
      "No opticalIsomers provided, estimating them from the quantum file.\n",
      "    Reading molecular degrees of freedom...\n",
      "Symmetry input file written to /work/westgroup/harris.se/autoscience/reaction_calculator/dft/thermo/species_0113/arkane/scratch/0.symm\n",
      "Point group: C1\n",
      "Symmetry algorithm found 2 optical isomers and a symmetry number of 1\n",
      "Conformer C2H5O is assigned a spin multiplicity of 2\n",
      "    Reading optimized geometry...\n",
      "    Reading energy...\n",
      "Using the SCF energy from the gaussian output file\n",
      "Scaled zero point energy (ZPE) is 167013.05256495357 J/mol\n",
      "         Harmonic frequencies scaling factor used = 0.982\n",
      "         Zero point energy scaling factor used = 0.968442\n",
      "         Scaled ZPE (0 K) = 39.9171 kcal/mol\n",
      "         E0 (0 K) = -9.15384 kcal/mol\n",
      "Symmetry input file written to /work/westgroup/harris.se/autoscience/reaction_calculator/dft/thermo/species_0113/arkane/scratch/0.symm\n",
      "Point group: C1\n",
      "Symmetry algorithm found 2 optical isomers and a symmetry number of 1\n",
      "Saving statistical mechanics parameters for C2H5O...\n",
      "Finished statmech job for species C2H5O.\n",
      "Species(label=\"C2H5O\", conformer=Conformer(E0=(-38.2997,'kJ/mol'), modes=[IdealGasTranslation(mass=(45.034,'amu')), NonlinearRotor(inertia=([13.0722,50.5597,58.4854],'amu*angstrom^2'), symmetry=1), HarmonicOscillator(frequencies=([191.968,314.106,420.485,502.976,823.388,952.311,1100.87,1119.86,1167.14,1347.24,1383.12,1431.94,1472.43,2959.59,2983.02,3114.39,3222.88,3805.75],'cm^-1'))], spin_multiplicity=2, optical_isomers=2), molecule=[Molecule(smiles=\"[CH2]CO\")], molecular_weight=(45.0605,'amu'), energy_transfer_model=SingleExponentialDown(alpha0=(3.5886,'kJ/mol'), T0=(300,'K'), n=0.85))\n",
      "Generating NASA thermo model for C2H5O...\n",
      "Saving thermo for C2H5O...\n"
     ]
    },
    {
     "name": "stderr",
     "output_type": "stream",
     "text": [
      "==============================\n",
      "*** Open Babel Warning  in InChI code\n",
      "  #1 :Accepted unusual valence(s): C(3)\n",
      "==============================\n",
      "*** Open Babel Warning  in InChI code\n",
      "  #1 :Accepted unusual valence(s): C(3)\n"
     ]
    },
    {
     "name": "stdout",
     "output_type": "stream",
     "text": [
      "Dumping species C2H5O data as species/C2H5O.yml\n",
      "Assigning font /b'F1' = '/work/westgroup/harris.se/tst_env/lib/python3.7/site-packages/matplotlib/mpl-data/fonts/ttf/DejaVuSans.ttf'\n"
     ]
    },
    {
     "name": "stderr",
     "output_type": "stream",
     "text": [
      "==============================\n",
      "*** Open Babel Warning  in InChI code\n",
      "  #1 :Accepted unusual valence(s): C(3)\n",
      "==============================\n",
      "*** Open Babel Warning  in InChI code\n",
      "  #1 :Accepted unusual valence(s): C(3)\n"
     ]
    },
    {
     "name": "stdout",
     "output_type": "stream",
     "text": [
      "Embedding font /work/westgroup/harris.se/tst_env/lib/python3.7/site-packages/matplotlib/mpl-data/fonts/ttf/DejaVuSans.ttf.\n",
      "Writing TrueType font.\n",
      "\n",
      "Arkane execution terminated at Tue Apr  9 11:47:49 2024\n"
     ]
    }
   ],
   "source": [
    "arkane_species.execute()  # TODO don't forget to run the arkane job[1]"
   ]
  },
  {
   "cell_type": "code",
   "execution_count": null,
   "id": "374ec3d6",
   "metadata": {},
   "outputs": [],
   "source": []
  },
  {
   "cell_type": "code",
   "execution_count": null,
   "id": "d4970a71",
   "metadata": {},
   "outputs": [],
   "source": []
  },
  {
   "cell_type": "code",
   "execution_count": null,
   "id": "0b24ff70",
   "metadata": {},
   "outputs": [],
   "source": []
  },
  {
   "cell_type": "code",
   "execution_count": null,
   "id": "a0535937",
   "metadata": {},
   "outputs": [],
   "source": []
  },
  {
   "cell_type": "code",
   "execution_count": null,
   "id": "78664159",
   "metadata": {},
   "outputs": [],
   "source": []
  },
  {
   "cell_type": "code",
   "execution_count": null,
   "id": "a6eca4bb",
   "metadata": {},
   "outputs": [],
   "source": []
  },
  {
   "cell_type": "code",
   "execution_count": null,
   "id": "24ab471f",
   "metadata": {},
   "outputs": [],
   "source": []
  }
 ],
 "metadata": {
  "kernelspec": {
   "display_name": "Python 3 (ipykernel)",
   "language": "python",
   "name": "python3"
  },
  "language_info": {
   "codemirror_mode": {
    "name": "ipython",
    "version": 3
   },
   "file_extension": ".py",
   "mimetype": "text/x-python",
   "name": "python",
   "nbconvert_exporter": "python",
   "pygments_lexer": "ipython3",
   "version": "3.7.16"
  }
 },
 "nbformat": 4,
 "nbformat_minor": 5
}

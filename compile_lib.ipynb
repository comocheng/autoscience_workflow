{
 "cells": [
  {
   "cell_type": "code",
   "execution_count": 1,
   "id": "b80a2344",
   "metadata": {},
   "outputs": [],
   "source": [
    "# script to compile calculations from new and old workflow"
   ]
  },
  {
   "cell_type": "code",
   "execution_count": 2,
   "id": "6d2f87c9",
   "metadata": {},
   "outputs": [],
   "source": [
    "import os\n",
    "import re\n",
    "import glob\n",
    "\n",
    "import rmgpy.chemkin\n",
    "import rmgpy.data.kinetics\n",
    "import rmgpy.data.thermo\n",
    "\n",
    "import numpy as np\n",
    "# import importlib\n",
    "# importlib.reload(rmgpy.data.kinetics)\n",
    "\n",
    "import numpy as np\n",
    "import matplotlib.pyplot as plt\n",
    "from collections import OrderedDict"
   ]
  },
  {
   "cell_type": "code",
   "execution_count": 3,
   "id": "e9c19df0",
   "metadata": {},
   "outputs": [],
   "source": [
    "# load the 1week model and uncertainty\n",
    "# get the mapping from cantera base back to RMG\n",
    "# load the sensitive parameters\n",
    "# chemkin = '/home/moon/autoscience/reaction_calculator/delay_uncertainty/base_rmg_1week/chem_annotated.inp'\n",
    "chemkin = '/work/westgroup/harris.se/autoscience/reaction_calculator/delay_uncertainty/base_rmg_1week/chem_annotated.inp'\n",
    "working_dir = os.path.dirname(chemkin)\n",
    "transport = os.path.join(working_dir, 'tran.dat')\n",
    "species_dict = os.path.join(working_dir, 'species_dictionary.txt')\n",
    "species_list, reaction_list = rmgpy.chemkin.load_chemkin_file(chemkin, dictionary_path=species_dict, transport_path=transport, use_chemkin_names=True)\n",
    "cantera_file = os.path.join(working_dir, 'chem_annotated.cti')\n",
    "# base_gas = ct.Solution(cantera_file)\n",
    "# perturbed_cti_path = os.path.join(working_dir, 'perturbed.cti')\n",
    "# perturbed_gas = ct.Solution(perturbed_cti_path)\n",
    "\n",
    "\n",
    "rxn_uncertainty_file = '/work/westgroup/harris.se/autoscience/reaction_calculator/models/base_rmg_1week/gao_reaction_uncertainty.npy'\n",
    "sp_uncertainty_file = '/work/westgroup/harris.se/autoscience/reaction_calculator/models/base_rmg_1week/gao_species_uncertainty.npy'\n",
    "\n",
    "rmg_rxn_uncertainty = np.load(rxn_uncertainty_file)\n",
    "rmg_sp_uncertainty = np.load(sp_uncertainty_file)\n"
   ]
  },
  {
   "cell_type": "markdown",
   "id": "e09bf99e",
   "metadata": {},
   "source": [
    "# Add thermo"
   ]
  },
  {
   "cell_type": "code",
   "execution_count": null,
   "id": "d06ec593",
   "metadata": {},
   "outputs": [],
   "source": [
    "DFT_DIR = \"/work/westgroup/harris.se/autoscience/autoscience/butane/dft/\"\n",
    "thermo_libs = glob.glob(os.path.join(DFT_DIR, 'thermo', 'species*', 'arkane', 'RMG_libraries'))\n",
    "print(f'{len(thermo_libs)} thermo libs')\n",
    "\n",
    "\n",
    "# Load the Arkane thermo\n",
    "entries = []\n",
    "for i, lib_path in enumerate(thermo_libs):\n",
    "    matches = re.search('species_([0-9]{4})', lib_path)\n",
    "    species_index = int(matches[1])\n",
    "    ark_thermo_database = rmgpy.data.thermo.ThermoDatabase()\n",
    "    ark_thermo_database.load_libraries(\n",
    "        lib_path,\n",
    "    )\n",
    "\n",
    "    for key in ark_thermo_database.libraries['thermo'].entries.keys():\n",
    "        entry = ark_thermo_database.libraries['thermo'].entries[key]\n",
    "        entry.index = species_index\n",
    "        entry.label = entry.item.smiles\n",
    "        entries.append(entry)\n",
    "print(f'{len(entries)} entries')"
   ]
  },
  {
   "cell_type": "code",
   "execution_count": null,
   "id": "ad997dc8",
   "metadata": {},
   "outputs": [],
   "source": [
    "# also load new thermo:\n",
    "DFT_DIR = \"/work/westgroup/harris.se/autoscience/reaction_calculator/dft/\"\n",
    "thermo_libs = glob.glob(os.path.join(DFT_DIR, 'thermo', 'species*', 'arkane', 'RMG_libraries'))\n",
    "print(f'{len(thermo_libs)} thermo libs')\n",
    "\n",
    "indices = [e.index for e in entries]\n",
    "# Load the Arkane thermo\n",
    "# entries = []\n",
    "for i, lib_path in enumerate(thermo_libs):\n",
    "    matches = re.search('species_([0-9]{4})', lib_path)\n",
    "    species_index = int(matches[1])\n",
    "    if species_index in indices:\n",
    "#         print('skipping', i)\n",
    "        continue\n",
    "    else:\n",
    "        print('adding', species_index)\n",
    "    \n",
    "    ark_thermo_database = rmgpy.data.thermo.ThermoDatabase()\n",
    "    ark_thermo_database.load_libraries(\n",
    "        lib_path,\n",
    "    )\n",
    "\n",
    "    for key in ark_thermo_database.libraries['thermo'].entries.keys():\n",
    "        entry = ark_thermo_database.libraries['thermo'].entries[key]\n",
    "        entry.index = species_index\n",
    "        entry.label = entry.item.smiles\n",
    "        entries.append(entry)\n",
    "print(f'{len(entries)} entries')"
   ]
  },
  {
   "cell_type": "code",
   "execution_count": null,
   "id": "a36a872c",
   "metadata": {},
   "outputs": [],
   "source": [
    "def include_species(mol):\n",
    "    for i in range(0, len(species_list)):\n",
    "        species_list[i].generate_resonance_structures()\n",
    "        for j in range(len(species_list[i].molecule)):\n",
    "            if species_list[i].molecule[j].is_isomorphic(mol):\n",
    "                if rmg_sp_uncertainty[i] >= 3.0:\n",
    "                    return True\n",
    "    return False"
   ]
  },
  {
   "cell_type": "code",
   "execution_count": null,
   "id": "f551efb1",
   "metadata": {},
   "outputs": [],
   "source": [
    "# count = 0\n",
    "# for j, entry in enumerate(entries):\n",
    "#     if include_species(entry.item):\n",
    "#         print(j, entry)\n",
    "#         count += 1\n",
    "\n",
    "# # include_species(entries[0].item)"
   ]
  },
  {
   "cell_type": "code",
   "execution_count": null,
   "id": "aac2591a",
   "metadata": {},
   "outputs": [],
   "source": [
    "# compile it all into a single database and a single library which I'll call harris_butane\n",
    "ark_thermo_database = rmgpy.data.thermo.ThermoDatabase()\n",
    "ark_thermo_database.libraries['thermo'] = rmgpy.data.thermo.ThermoLibrary()\n",
    "ark_thermo_database.libraries['thermo'].label = 'harris_butane'\n",
    "ark_thermo_database.libraries['thermo'].entries = OrderedDict()\n",
    "for entry in entries:\n",
    "    if not include_species(entry.item):\n",
    "        continue\n",
    "    ark_thermo_database.libraries['thermo'].entries[entry.label] = entry"
   ]
  },
  {
   "cell_type": "code",
   "execution_count": null,
   "id": "9f58abff",
   "metadata": {},
   "outputs": [],
   "source": [
    "# save the results\n",
    "ark_thermo_database.save_libraries('thermo')"
   ]
  },
  {
   "cell_type": "code",
   "execution_count": null,
   "id": "0fd8eb08",
   "metadata": {},
   "outputs": [],
   "source": []
  },
  {
   "cell_type": "markdown",
   "id": "2783e88a",
   "metadata": {},
   "source": [
    "# Add kinetics"
   ]
  },
  {
   "cell_type": "code",
   "execution_count": 4,
   "id": "50344d93",
   "metadata": {},
   "outputs": [
    {
     "name": "stdout",
     "output_type": "stream",
     "text": [
      "Adding\t127\tCH2O(9) + OH(15) <=> H2O(8) + HCO(19)\n",
      "Adding\t180\tCH(3) + H2(13) <=> CH2(23) + H(14)\n",
      "Adding\t247\tbutane(1) + OH(15) <=> H2O(8) + SC4H9(183)\n",
      "Adding\t288\tbutane(1) + OH(15) <=> H2O(8) + PC4H9(182)\n",
      "Adding\t290\tbutane(1) + HO2(16) <=> H2O2(17) + PC4H9(182)\n",
      "Adding\t294\tCH2O(9) + PC4H9(182) <=> butane(1) + HCO(19)\n",
      "Adding\t324\tS(229) <=> S(225)\n",
      "Adding\t325\tS(225) <=> S(244)\n",
      "Adding\t326\tS(225) <=> S(238)\n",
      "Adding\t370\tCH3CHO(35) + SC4H9(183) <=> butane(1) + CH2CHO(21)\n",
      "Adding\t371\tCH3CHO(35) + PC4H9(182) <=> butane(1) + CH2CHO(21)\n",
      "Adding\t585\tCH2(23) + C3H6(12) <=> CH3(18) + C3H5-A(94)\n",
      "Adding\t591\tCH3CHO(35) + C3H5-A(94) <=> C3H6(12) + CH3CO(20)\n",
      "Adding\t650\tHO2(16) + C4H8(748) <=> O2(2) + SC4H9(183)\n",
      "Adding\t655\tHO2(16) + C4H8(748) <=> O2(2) + PC4H9(182)\n",
      "Adding\t739\tC4H8(188) + CH2CHO(21) <=> CH3CHO(35) + C4H7(190)\n",
      "Adding\t748\tC4H8(189) + HCO(19) <=> CH2O(9) + C4H7(190)\n",
      "Adding\t749\tC4H8(188) + HCO(19) <=> CH2O(9) + C4H7(190)\n",
      "Adding\t754\tC4H8(189) + CH2(23) <=> CH3(18) + C4H7(190)\n",
      "Adding\t894\tC3H6(12) + S(244) <=> S(787) + C3H5-A(94)\n",
      "Adding\t985\tHO2(16) + C2H4O(703) <=> O2(2) + C2H5O(49)\n",
      "Adding\t1003\tHO2(16) + C4H7(191) <=> O2(2) + C4H8(188)\n",
      "Adding\t1026\tCH3CHO(35) + C4H7(191) <=> C4H8(188) + CH2CHO(21)\n",
      "Adding\t1290\tC3H6O3(73) + PC4H9(182) <=> butane(1) + S(911)\n",
      "Adding\t1301\tC3H6O3(73) + HO2(16) <=> H2O2(17) + S(911)\n",
      "Adding\t1509\tCH3OH(30) + C4H7(192) <=> C4H8(188) + CH3O(31)\n",
      "Adding\t1638\tCH2O(9) + C2H5O2(47) <=> C2H6O2(48) + HCO(19)\n",
      "Adding\t1646\tbutane(1) + C2H5O2(47) <=> C2H6O2(48) + SC4H9(183)\n",
      "Adding\t1656\tC2H6O2(48) + C4H7(191) <=> C4H8(188) + C2H5O2(47)\n"
     ]
    }
   ],
   "source": [
    "# first, get valid kinetics from old workflow\n",
    "DFT_DIR = \"/work/westgroup/harris.se/autoscience/autoscience/butane/dft/\"\n",
    "kinetics_libs = glob.glob(os.path.join(DFT_DIR, 'kinetics', 'reaction*', 'arkane', 'RMG_libraries'))\n",
    "\n",
    "# Load the Arkane kinetics\n",
    "entries = []\n",
    "for i, lib_path in enumerate(kinetics_libs):\n",
    "    \n",
    "    # only use kinetics that were verified with vibrational check\n",
    "    vib_path = os.path.join(os.path.dirname(lib_path), 'vibrational_analysis_check.txt')\n",
    "    if not os.path.exists(vib_path):\n",
    "        continue\n",
    "    with open(vib_path, 'r') as f:\n",
    "        check = f.read()\n",
    "        if check != 'True':\n",
    "            continue\n",
    "    \n",
    "    matches = re.search('reaction_([0-9]{4})', lib_path)\n",
    "    reaction_index = int(matches[1])\n",
    "    ark_kinetics_database = rmgpy.data.kinetics.KineticsDatabase()\n",
    "    ark_kinetics_database.load_libraries(lib_path)\n",
    "    \n",
    "    # TODO fix bug related to load_libraries not getting the actual name\n",
    "    for key in ark_kinetics_database.libraries[''].entries.keys():\n",
    "        entry = ark_kinetics_database.libraries[''].entries[key]\n",
    "        entry.index = reaction_index\n",
    "        entries.append(entry)\n",
    "        print(f'Adding\\t{entry.index}\\t{entry}')"
   ]
  },
  {
   "cell_type": "code",
   "execution_count": 5,
   "id": "c6da9123",
   "metadata": {},
   "outputs": [],
   "source": [
    "# entries"
   ]
  },
  {
   "cell_type": "code",
   "execution_count": 6,
   "id": "89633112",
   "metadata": {},
   "outputs": [
    {
     "name": "stdout",
     "output_type": "stream",
     "text": [
      "/work/westgroup/harris.se/autoscience/reaction_calculator/dft/kinetics/reaction_0213/arkane/RMG_libraries\n",
      "Adding new entry 213\n",
      "/work/westgroup/harris.se/autoscience/reaction_calculator/dft/kinetics/reaction_0288/arkane/RMG_libraries\n",
      "Overwriting existing entry 288\n",
      "/work/westgroup/harris.se/autoscience/reaction_calculator/dft/kinetics/reaction_0370/arkane/RMG_libraries\n",
      "Overwriting existing entry 370\n",
      "/work/westgroup/harris.se/autoscience/reaction_calculator/dft/kinetics/reaction_0410/arkane/RMG_libraries\n",
      "Adding new entry 410\n",
      "/work/westgroup/harris.se/autoscience/reaction_calculator/dft/kinetics/reaction_0419/arkane/RMG_libraries\n",
      "Adding new entry 419\n",
      "/work/westgroup/harris.se/autoscience/reaction_calculator/dft/kinetics/reaction_0420/arkane/RMG_libraries\n",
      "Adding new entry 420\n",
      "/work/westgroup/harris.se/autoscience/reaction_calculator/dft/kinetics/reaction_0422/arkane/RMG_libraries\n",
      "Adding new entry 422\n",
      "/work/westgroup/harris.se/autoscience/reaction_calculator/dft/kinetics/reaction_0459/arkane/RMG_libraries\n",
      "Adding new entry 459\n",
      "/work/westgroup/harris.se/autoscience/reaction_calculator/dft/kinetics/reaction_0464/arkane/RMG_libraries\n",
      "Adding new entry 464\n",
      "/work/westgroup/harris.se/autoscience/reaction_calculator/dft/kinetics/reaction_0574/arkane/RMG_libraries\n",
      "Adding new entry 574\n",
      "/work/westgroup/harris.se/autoscience/reaction_calculator/dft/kinetics/reaction_0577/arkane/RMG_libraries\n",
      "Adding new entry 577\n",
      "/work/westgroup/harris.se/autoscience/reaction_calculator/dft/kinetics/reaction_0578/arkane/RMG_libraries\n",
      "Adding new entry 578\n",
      "/work/westgroup/harris.se/autoscience/reaction_calculator/dft/kinetics/reaction_0581/arkane/RMG_libraries\n",
      "Adding new entry 581\n",
      "/work/westgroup/harris.se/autoscience/reaction_calculator/dft/kinetics/reaction_0584/arkane/RMG_libraries\n",
      "Adding new entry 584\n",
      "/work/westgroup/harris.se/autoscience/reaction_calculator/dft/kinetics/reaction_0586/arkane/RMG_libraries\n",
      "Adding new entry 586\n",
      "/work/westgroup/harris.se/autoscience/reaction_calculator/dft/kinetics/reaction_0714/arkane/RMG_libraries\n",
      "Adding new entry 714\n",
      "/work/westgroup/harris.se/autoscience/reaction_calculator/dft/kinetics/reaction_0720/arkane/RMG_libraries\n",
      "Adding new entry 720\n",
      "/work/westgroup/harris.se/autoscience/reaction_calculator/dft/kinetics/reaction_0722/arkane/RMG_libraries\n",
      "Adding new entry 722\n",
      "/work/westgroup/harris.se/autoscience/reaction_calculator/dft/kinetics/reaction_0725/arkane/RMG_libraries\n",
      "Adding new entry 725\n",
      "/work/westgroup/harris.se/autoscience/reaction_calculator/dft/kinetics/reaction_0726/arkane/RMG_libraries\n",
      "Adding new entry 726\n",
      "/work/westgroup/harris.se/autoscience/reaction_calculator/dft/kinetics/reaction_0727/arkane/RMG_libraries\n",
      "Adding new entry 727\n",
      "/work/westgroup/harris.se/autoscience/reaction_calculator/dft/kinetics/reaction_0728/arkane/RMG_libraries\n",
      "Adding new entry 728\n",
      "/work/westgroup/harris.se/autoscience/reaction_calculator/dft/kinetics/reaction_0748/arkane/RMG_libraries\n",
      "Overwriting existing entry 748\n",
      "/work/westgroup/harris.se/autoscience/reaction_calculator/dft/kinetics/reaction_0749/arkane/RMG_libraries\n",
      "Overwriting existing entry 749\n",
      "/work/westgroup/harris.se/autoscience/reaction_calculator/dft/kinetics/reaction_0793/arkane/RMG_libraries\n",
      "Adding new entry 793\n",
      "/work/westgroup/harris.se/autoscience/reaction_calculator/dft/kinetics/reaction_0794/arkane/RMG_libraries\n",
      "Adding new entry 794\n",
      "/work/westgroup/harris.se/autoscience/reaction_calculator/dft/kinetics/reaction_0795/arkane/RMG_libraries\n",
      "Adding new entry 795\n",
      "/work/westgroup/harris.se/autoscience/reaction_calculator/dft/kinetics/reaction_0800/arkane/RMG_libraries\n",
      "Adding new entry 800\n",
      "/work/westgroup/harris.se/autoscience/reaction_calculator/dft/kinetics/reaction_0916/arkane/RMG_libraries\n",
      "Adding new entry 916\n",
      "/work/westgroup/harris.se/autoscience/reaction_calculator/dft/kinetics/reaction_1103/arkane/RMG_libraries\n",
      "Adding new entry 1103\n",
      "/work/westgroup/harris.se/autoscience/reaction_calculator/dft/kinetics/reaction_1116/arkane/RMG_libraries\n",
      "Adding new entry 1116\n",
      "/work/westgroup/harris.se/autoscience/reaction_calculator/dft/kinetics/reaction_1287/arkane/RMG_libraries\n",
      "Adding new entry 1287\n",
      "/work/westgroup/harris.se/autoscience/reaction_calculator/dft/kinetics/reaction_1288/arkane/RMG_libraries\n",
      "Adding new entry 1288\n",
      "/work/westgroup/harris.se/autoscience/reaction_calculator/dft/kinetics/reaction_1289/arkane/RMG_libraries\n",
      "Adding new entry 1289\n",
      "/work/westgroup/harris.se/autoscience/reaction_calculator/dft/kinetics/reaction_1326/arkane/RMG_libraries\n",
      "Adding new entry 1326\n",
      "/work/westgroup/harris.se/autoscience/reaction_calculator/dft/kinetics/reaction_1522/arkane/RMG_libraries\n",
      "Adding new entry 1522\n",
      "/work/westgroup/harris.se/autoscience/reaction_calculator/dft/kinetics/reaction_1532/arkane/RMG_libraries\n",
      "Adding new entry 1532\n",
      "/work/westgroup/harris.se/autoscience/reaction_calculator/dft/kinetics/reaction_1578/arkane/RMG_libraries\n",
      "Adding new entry 1578\n",
      "/work/westgroup/harris.se/autoscience/reaction_calculator/dft/kinetics/reaction_1658/arkane/RMG_libraries\n",
      "Adding new entry 1658\n",
      "/work/westgroup/harris.se/autoscience/reaction_calculator/dft/kinetics/reaction_1685/arkane/RMG_libraries\n",
      "Adding new entry 1685\n",
      "/work/westgroup/harris.se/autoscience/reaction_calculator/dft/kinetics/reaction_1714/arkane/RMG_libraries\n",
      "Adding new entry 1714\n",
      "/work/westgroup/harris.se/autoscience/reaction_calculator/dft/kinetics/reaction_2240/arkane/RMG_libraries\n",
      "Adding new entry 2240\n",
      "/work/westgroup/harris.se/autoscience/reaction_calculator/dft/kinetics/reaction_2303/arkane/RMG_libraries\n",
      "Adding new entry 2303\n",
      "/work/westgroup/harris.se/autoscience/reaction_calculator/dft/kinetics/reaction_2309/arkane/RMG_libraries\n",
      "Adding new entry 2309\n",
      "/work/westgroup/harris.se/autoscience/reaction_calculator/dft/kinetics/reaction_2422/arkane/RMG_libraries\n",
      "Adding new entry 2422\n",
      "/work/westgroup/harris.se/autoscience/reaction_calculator/dft/kinetics/reaction_2424/arkane/RMG_libraries\n",
      "Adding new entry 2424\n",
      "/work/westgroup/harris.se/autoscience/reaction_calculator/dft/kinetics/reaction_2425/arkane/RMG_libraries\n",
      "Adding new entry 2425\n"
     ]
    }
   ],
   "source": [
    "# next, get kinetics from new workflow (overwrite old if repeates)\n",
    "DFT_DIR = \"/work/westgroup/harris.se/autoscience/reaction_calculator/dft/\"\n",
    "kinetics_libs = glob.glob(os.path.join(DFT_DIR, 'kinetics', 'reaction*', 'arkane', 'RMG_libraries'))\n",
    "\n",
    "# Load the Arkane kinetics\n",
    "for i, lib_path in enumerate(kinetics_libs):\n",
    "\n",
    "    matches = re.search('reaction_([0-9]{4})', lib_path)\n",
    "    reaction_index = int(matches[1])\n",
    "    ark_kinetics_database = rmgpy.data.kinetics.KineticsDatabase()\n",
    "    ark_kinetics_database.load_libraries(lib_path)\n",
    "    print(lib_path)\n",
    "    # TODO fix bug related to load_libraries not getting the actual name\n",
    "    existing_indices = [e.index for e in entries]\n",
    "    for key in ark_kinetics_database.libraries[''].entries.keys():\n",
    "        entry = ark_kinetics_database.libraries[''].entries[key]\n",
    "        entry.index = reaction_index\n",
    "        \n",
    "        # overwrite existing\n",
    "        try:\n",
    "            place = existing_indices.index(reaction_index)\n",
    "            entries[place] = entry\n",
    "            print(f'Overwriting existing entry {reaction_index}')\n",
    "        except ValueError:\n",
    "            entries.append(entry)\n",
    "            print(f'Adding new entry {reaction_index}')\n",
    "            \n"
   ]
  },
  {
   "cell_type": "code",
   "execution_count": 7,
   "id": "b6cd1a13",
   "metadata": {},
   "outputs": [
    {
     "data": {
      "text/plain": [
       "[<Entry index=127 label=\"CH2O(9) + OH(15) <=> H2O(8) + HCO(19)\">,\n",
       " <Entry index=180 label=\"CH(3) + H2(13) <=> CH2(23) + H(14)\">,\n",
       " <Entry index=247 label=\"butane(1) + OH(15) <=> H2O(8) + SC4H9(183)\">,\n",
       " <Entry index=288 label=\"OH(15) + butane(1) <=> H2O(8) + PC4H9(182)\">,\n",
       " <Entry index=290 label=\"butane(1) + HO2(16) <=> H2O2(17) + PC4H9(182)\">,\n",
       " <Entry index=294 label=\"CH2O(9) + PC4H9(182) <=> butane(1) + HCO(19)\">,\n",
       " <Entry index=324 label=\"S(229) <=> S(225)\">,\n",
       " <Entry index=325 label=\"S(225) <=> S(244)\">,\n",
       " <Entry index=326 label=\"S(225) <=> S(238)\">,\n",
       " <Entry index=370 label=\"CH3CHO(35) + SC4H9(183) <=> CH2CHO(21) + butane(1)\">,\n",
       " <Entry index=371 label=\"CH3CHO(35) + PC4H9(182) <=> butane(1) + CH2CHO(21)\">,\n",
       " <Entry index=585 label=\"CH2(23) + C3H6(12) <=> CH3(18) + C3H5-A(94)\">,\n",
       " <Entry index=591 label=\"CH3CHO(35) + C3H5-A(94) <=> C3H6(12) + CH3CO(20)\">,\n",
       " <Entry index=650 label=\"HO2(16) + C4H8(748) <=> O2(2) + SC4H9(183)\">,\n",
       " <Entry index=655 label=\"HO2(16) + C4H8(748) <=> O2(2) + PC4H9(182)\">,\n",
       " <Entry index=739 label=\"C4H8(188) + CH2CHO(21) <=> CH3CHO(35) + C4H7(190)\">,\n",
       " <Entry index=748 label=\"HCO(19) + C4H8(189) <=> CH2O(9) + C4H7(190)\">,\n",
       " <Entry index=749 label=\"HCO(19) + C4H8(188) <=> CH2O(9) + C4H7(190)\">,\n",
       " <Entry index=754 label=\"C4H8(189) + CH2(23) <=> CH3(18) + C4H7(190)\">,\n",
       " <Entry index=894 label=\"C3H6(12) + S(244) <=> S(787) + C3H5-A(94)\">,\n",
       " <Entry index=985 label=\"HO2(16) + C2H4O(703) <=> O2(2) + C2H5O(49)\">,\n",
       " <Entry index=1003 label=\"HO2(16) + C4H7(191) <=> O2(2) + C4H8(188)\">,\n",
       " <Entry index=1026 label=\"CH3CHO(35) + C4H7(191) <=> C4H8(188) + CH2CHO(21)\">,\n",
       " <Entry index=1290 label=\"C3H6O3(73) + PC4H9(182) <=> butane(1) + S(911)\">,\n",
       " <Entry index=1301 label=\"C3H6O3(73) + HO2(16) <=> H2O2(17) + S(911)\">,\n",
       " <Entry index=1509 label=\"CH3OH(30) + C4H7(192) <=> C4H8(188) + CH3O(31)\">,\n",
       " <Entry index=1638 label=\"CH2O(9) + C2H5O2(47) <=> C2H6O2(48) + HCO(19)\">,\n",
       " <Entry index=1646 label=\"butane(1) + C2H5O2(47) <=> C2H6O2(48) + SC4H9(183)\">,\n",
       " <Entry index=1656 label=\"C2H6O2(48) + C4H7(191) <=> C4H8(188) + C2H5O2(47)\">,\n",
       " <Entry index=213 label=\"HO2(16) + C2H5(33) <=> H2O2(17) + C2H4(11)\">,\n",
       " <Entry index=410 label=\"CH3(18) + PC4H9(182) <=> CH4(10) + C4H8(188)\">,\n",
       " <Entry index=419 label=\"HO2(16) + CH2CHO(21) <=> H2O2(17) + CH2CO(24)\">,\n",
       " <Entry index=420 label=\"HO2(16) + SC4H9(183) <=> H2O2(17) + C4H8(189)\">,\n",
       " <Entry index=422 label=\"HO2(16) + SC4H9(183) <=> H2O2(17) + C4H8(188)\">,\n",
       " <Entry index=459 label=\"CH3(18) + SC4H9(183) <=> CH4(10) + C4H8(189)\">,\n",
       " <Entry index=464 label=\"CH3(18) + CH2CHO(21) <=> CH4(10) + CH2CO(24)\">,\n",
       " <Entry index=574 label=\"CH3O(31) + C3H5-A(94) <=> CH2O(9) + C3H6(12)\">,\n",
       " <Entry index=577 label=\"C3H5-A(94) + SC4H9(183) <=> C3H6(12) + C4H8(189)\">,\n",
       " <Entry index=578 label=\"C3H5-A(94) + PC4H9(182) <=> C3H6(12) + C4H8(188)\">,\n",
       " <Entry index=581 label=\"CH2CHO(21) + C3H5-A(94) <=> CH2CO(24) + C3H6(12)\">,\n",
       " <Entry index=584 label=\"HO2(16) + C2H3(22) <=> H2O2(17) + C2H2(25)\">,\n",
       " <Entry index=586 label=\"CH2O(9) + C3H5-A(94) <=> HCO(19) + C3H6(12)\">,\n",
       " <Entry index=714 label=\"C2H5(33) + C4H7(190) <=> C2H4(11) + C4H8(189)\">,\n",
       " <Entry index=720 label=\"CH2CHO(21) + C4H7(190) <=> CH2CO(24) + C4H8(189)\">,\n",
       " <Entry index=722 label=\"CH2CHO(21) + C4H7(190) <=> CH2CO(24) + C4H8(188)\">,\n",
       " <Entry index=725 label=\"CH3O(31) + C4H7(190) <=> CH2O(9) + C4H8(189)\">,\n",
       " <Entry index=726 label=\"C4H7(190) + SC4H9(183) <=> C4H8(189) + C4H8(189)\">,\n",
       " <Entry index=727 label=\"C4H7(190) + PC4H9(182) <=> C4H8(188) + C4H8(189)\">,\n",
       " <Entry index=728 label=\"C4H7(190) + SC4H9(183) <=> C4H8(188) + C4H8(189)\">,\n",
       " <Entry index=793 label=\"HO2(16) + C4H7(190) <=> H2O2(17) + C4H6(194)\">,\n",
       " <Entry index=794 label=\"CH3(18) + C4H7(190) <=> CH4(10) + C4H6(194)\">,\n",
       " <Entry index=795 label=\"C4H7(190) + C4H7(190) <=> C4H6(194) + C4H8(189)\">,\n",
       " <Entry index=800 label=\"OH(15) + C4H7(190) <=> H2O(8) + C4H6(194)\">,\n",
       " <Entry index=916 label=\"OH(15) + S(777) <=> H2O(8) + S(252)\">,\n",
       " <Entry index=1103 label=\"CH3O2(45) + CH2CHO(21) <=> CH3O2H(46) + CH2CO(24)\">,\n",
       " <Entry index=1116 label=\"CH3O2(45) + SC4H9(183) <=> CH3O2H(46) + C4H8(188)\">,\n",
       " <Entry index=1287 label=\"C3H6O3(73) + SC4H9(183) <=> C3H5O3(72) + butane(1)\">,\n",
       " <Entry index=1288 label=\"C3H6O3(73) + PC4H9(182) <=> C3H5O3(72) + butane(1)\">,\n",
       " <Entry index=1289 label=\"C3H6O3(73) + SC4H9(183) <=> S(911) + butane(1)\">,\n",
       " <Entry index=1326 label=\"CH2CHO(21) + C3H5O3(72) <=> CH2CO(24) + C3H6O3(73)\">,\n",
       " <Entry index=1522 label=\"CH3O(31) + C2H5(33) <=> CH3OH(30) + C2H4(11)\">,\n",
       " <Entry index=1532 label=\"CH3O(31) + C3H5O(129) <=> CH3OH(30) + C3H4O(74)\">,\n",
       " <Entry index=1578 label=\"OCHO(38) + C2H4O(703) <=> HOCHO(40) + CH2CHO(21)\">,\n",
       " <Entry index=1658 label=\"CH2CHO(21) + C2H5O2(47) <=> CH2CO(24) + C2H6O2(48)\">,\n",
       " <Entry index=1685 label=\"C2H5(33) + C2H5O2(47) <=> C2H4(11) + C2H6O2(48)\">,\n",
       " <Entry index=1714 label=\"S(223) + butane(1) <=> SC4H9(183) + S(187)\">,\n",
       " <Entry index=2240 label=\"HCO(19) + C=CO <=> CH2O(9) + C=C[O]\">,\n",
       " <Entry index=2303 label=\"C=C[O] + C2H5(33) <=> C2H4(11) + C=CO\">,\n",
       " <Entry index=2309 label=\"C=C[O] + SC4H9(183) <=> C=CO + C4H8(189)\">,\n",
       " <Entry index=2422 label=\"C=C[C]=O + C3H6(12) <=> C3H4O(74) + C3H5-A(94)\">,\n",
       " <Entry index=2424 label=\"C=C[C]=O + C4H8(188) <=> C3H4O(74) + C4H7(190)\">,\n",
       " <Entry index=2425 label=\"C=C[C]=O + C4H8(189) <=> C3H4O(74) + C4H7(190)\">]"
      ]
     },
     "execution_count": 7,
     "metadata": {},
     "output_type": "execute_result"
    }
   ],
   "source": [
    "entries"
   ]
  },
  {
   "cell_type": "code",
   "execution_count": 9,
   "id": "4fff53fc",
   "metadata": {},
   "outputs": [],
   "source": [
    "top_50_rmg = [931,213,915,2434,748,793,2248,324,422,99,419,1665,1736,749,212,724,1814,714,1287,459,800,102,2311,1111,723,1761,1683,577,794,1110,728,1288,\n",
    "2317,410,726,1103,2437,1766,578,1721,370,843,1658,833,1685,1522,795,1098,371,586,2321,420,\n",
    "]"
   ]
  },
  {
   "cell_type": "code",
   "execution_count": 10,
   "id": "bb375136",
   "metadata": {},
   "outputs": [],
   "source": [
    "def include_reaction(rxn):\n",
    "#     for j in range(0, len(reaction_list)):\n",
    "    for j in top_50_rmg:\n",
    "        if reaction_list[j].is_isomorphic(rxn):\n",
    "#             print(rxn)\n",
    "            if rmg_rxn_uncertainty[j] > 3.0:\n",
    "                return True\n",
    "    return False\n",
    "#     print(rxn)"
   ]
  },
  {
   "cell_type": "code",
   "execution_count": 11,
   "id": "6c265dc1",
   "metadata": {},
   "outputs": [
    {
     "name": "stdout",
     "output_type": "stream",
     "text": [
      "6 True\n",
      "9 True\n",
      "10 True\n",
      "16 True\n",
      "17 True\n",
      "29 True\n",
      "30 True\n",
      "31 True\n",
      "32 True\n",
      "33 True\n",
      "34 True\n",
      "37 True\n",
      "38 True\n",
      "41 True\n",
      "42 True\n",
      "46 True\n",
      "48 True\n",
      "49 True\n",
      "50 True\n",
      "51 True\n",
      "52 True\n",
      "54 True\n",
      "56 True\n",
      "57 True\n",
      "60 True\n",
      "63 True\n",
      "64 True\n",
      "66 True\n",
      "67 True\n",
      "68 True\n",
      "69 True\n",
      "71 True\n",
      "32\n"
     ]
    }
   ],
   "source": [
    "count = 0\n",
    "for k in range(len(entries)):\n",
    "    if include_reaction(entries[k].item):\n",
    "        count += 1\n",
    "        print(k, include_reaction(entries[k].item))\n",
    "        \n",
    "print(count)"
   ]
  },
  {
   "cell_type": "code",
   "execution_count": null,
   "id": "2a2cc54e",
   "metadata": {},
   "outputs": [],
   "source": []
  },
  {
   "cell_type": "code",
   "execution_count": 12,
   "id": "e61e4711",
   "metadata": {},
   "outputs": [],
   "source": [
    "# compile it all into a single database and a single library which I'll call harris_butane\n",
    "ark_kinetics_database = rmgpy.data.kinetics.KineticsDatabase()\n",
    "ark_kinetics_database.libraries['kinetics'] = rmgpy.data.kinetics.KineticsLibrary()\n",
    "ark_kinetics_database.libraries['kinetics'].label = 'harris_butane'\n",
    "ark_kinetics_database.libraries['kinetics'].name = 'harris_butane'\n",
    "ark_kinetics_database.libraries['kinetics'].entries = OrderedDict()\n",
    "for entry in entries:\n",
    "    if not include_reaction(entry.item):\n",
    "        continue\n",
    "#     if entry.index not in top_50:\n",
    "#         print(f'skipping non-top-50 {entry.index}')\n",
    "#         continue\n",
    "    ark_kinetics_database.libraries['kinetics'].entries[entry.label] = entry"
   ]
  },
  {
   "cell_type": "code",
   "execution_count": 13,
   "id": "110620ae",
   "metadata": {},
   "outputs": [],
   "source": [
    "# save the results\n",
    "# output_path = os.path.join(DFT_DIR, 'kinetics')\n",
    "# ark_kinetics_database.save_libraries(output_path, reindex=False)\n",
    "ark_kinetics_database.save_libraries('harris_kinetics', reindex=False)"
   ]
  },
  {
   "cell_type": "code",
   "execution_count": null,
   "id": "6493ce45",
   "metadata": {},
   "outputs": [],
   "source": []
  },
  {
   "cell_type": "code",
   "execution_count": 14,
   "id": "81e17c39",
   "metadata": {},
   "outputs": [],
   "source": [
    "# load it again just to check?"
   ]
  },
  {
   "cell_type": "code",
   "execution_count": 15,
   "id": "43d3ff93",
   "metadata": {},
   "outputs": [
    {
     "name": "stdout",
     "output_type": "stream",
     "text": [
      "32 saved\n"
     ]
    }
   ],
   "source": [
    "print(len(ark_kinetics_database.libraries['kinetics'].entries), 'saved')"
   ]
  },
  {
   "cell_type": "code",
   "execution_count": null,
   "id": "d88dd0f6",
   "metadata": {},
   "outputs": [],
   "source": []
  },
  {
   "cell_type": "code",
   "execution_count": null,
   "id": "0c299df9",
   "metadata": {},
   "outputs": [],
   "source": [
    "for entry in ark_kinetics_database.libraries['kinetics'].entries:\n",
    "    print(ark_kinetics_database.libraries['kinetics'].entries[entry].index, \n",
    "          ark_kinetics_database.libraries['kinetics'].entries[entry].label)"
   ]
  },
  {
   "cell_type": "code",
   "execution_count": null,
   "id": "2ef44844",
   "metadata": {},
   "outputs": [],
   "source": []
  },
  {
   "cell_type": "code",
   "execution_count": null,
   "id": "be8ffeb9",
   "metadata": {},
   "outputs": [],
   "source": []
  },
  {
   "cell_type": "code",
   "execution_count": null,
   "id": "c5ce60f0",
   "metadata": {},
   "outputs": [],
   "source": [
    "species_list, reaction_list = rmgpy.chemkin.load_chemkin_file(chemkin, dictionary_path=species_dict, transport_path=transport, use_chemkin_names=True)\n"
   ]
  },
  {
   "cell_type": "code",
   "execution_count": null,
   "id": "efd2d97b",
   "metadata": {},
   "outputs": [],
   "source": [
    "for sp in species_list:\n",
    "    print('species(')\n",
    "    print(f'\\tlabel = \"{str(sp)}\",')\n",
    "    print(f'\\treactive = True,')\n",
    "    print(f'\\tstructure = SMILES(\"{sp.smiles}\"),')\n",
    "    print(')')\n",
    "    print()\n",
    "#     print(sp)"
   ]
  },
  {
   "cell_type": "code",
   "execution_count": null,
   "id": "88e5a2aa",
   "metadata": {},
   "outputs": [],
   "source": []
  },
  {
   "cell_type": "code",
   "execution_count": null,
   "id": "e0eef977",
   "metadata": {},
   "outputs": [],
   "source": []
  }
 ],
 "metadata": {
  "kernelspec": {
   "display_name": "Python 3 (ipykernel)",
   "language": "python",
   "name": "python3"
  },
  "language_info": {
   "codemirror_mode": {
    "name": "ipython",
    "version": 3
   },
   "file_extension": ".py",
   "mimetype": "text/x-python",
   "name": "python",
   "nbconvert_exporter": "python",
   "pygments_lexer": "ipython3",
   "version": "3.7.16"
  }
 },
 "nbformat": 4,
 "nbformat_minor": 5
}

{
 "cells": [
  {
   "cell_type": "code",
   "execution_count": 47,
   "id": "8401961d",
   "metadata": {},
   "outputs": [],
   "source": [
    "# notebook to compile all of the csvs into a single array\n",
    "import os\n",
    "import sys\n",
    "import glob\n",
    "import pandas as pd\n",
    "import numpy as np\n",
    "import subprocess\n",
    "\n",
    "import pickle\n",
    "import rmgpy.chemkin\n",
    "\n",
    "import cantera as ct\n",
    "\n",
    "import matplotlib.pyplot as plt\n",
    "import matplotlib.image as mpimg\n",
    "import matplotlib.offsetbox\n",
    "%matplotlib inline\n",
    "\n",
    "sys.path.append('/work/westgroup/harris.se/autoscience/reaction_calculator/database')\n",
    "import database_fun\n"
   ]
  },
  {
   "cell_type": "code",
   "execution_count": 2,
   "id": "34d73f1f",
   "metadata": {},
   "outputs": [],
   "source": [
    "T = 830\n",
    "P = 10"
   ]
  },
  {
   "cell_type": "markdown",
   "id": "f245f496",
   "metadata": {},
   "source": [
    "# Compile delays into one file"
   ]
  },
  {
   "cell_type": "code",
   "execution_count": 3,
   "id": "2f5cd09c",
   "metadata": {},
   "outputs": [
    {
     "name": "stderr",
     "output_type": "stream",
     "text": [
      "/home/harris.se/anaconda3/envs/rmg_env/lib/python3.7/site-packages/ipykernel_launcher.py:11: DeprecationWarning: Chebyshev reaction equation: Specifying '(+M)' in the reaction equation for Chebyshev reactions is deprecated.\n",
      "On line 3648 of /work/westgroup/harris.se/autoscience/fuels/butane/official/butane_20240126/chem_annotated.yaml:\n",
      "|  Line |\n",
      "|  3643 |   duplicate: true\n",
      "|  3644 |   rate-constant: {A: 8.792e+14, b: 0.0, Ea: 19.17}\n",
      "|  3645 |   note: |-\n",
      "|  3646 |     Reaction index: Chemkin #39; RMG #31\n",
      "|  3647 |     Library reaction: BurkeH2O2inN2\n",
      ">  3648 > - equation: C[CH2](20) + C[CH2](20) (+M) <=> butane(1) (+M)  # Reaction 40\n",
      "            ^\n",
      "|  3649 |   type: Chebyshev\n",
      "|  3650 |   temperature-range: [300.0, 2000.0]\n",
      "|  3651 |   pressure-range: [0.01 atm, 98.692 atm]\n",
      "\n",
      "  # This is added back by InteractiveShellApp.init_path()\n"
     ]
    },
    {
     "name": "stdout",
     "output_type": "stream",
     "text": [
      "skipping compile process because file /work/westgroup/harris.se/autoscience/fuels/butane/official/butane_20240126/id_sensitivity_830K_10bar/compiled_delays.npy already exists\n",
      "skipping compile process because file /work/westgroup/harris.se/autoscience/fuels/butane/official/butane_20240501/id_sensitivity_830K_10bar/compiled_delays.npy already exists\n"
     ]
    },
    {
     "ename": "CanteraError",
     "evalue": "\n*******************************************************************************\nCanteraError thrown by addReactions:\n\n*******************************************************************************\nCanteraError thrown by PlogRate::validate:\n\nInvalid rate coefficient for reaction 'C4H6 <=> C3H3 + CH3'\nat P = 15999, T = 200.0\n\nInvalid rate coefficient for reaction 'C4H6 <=> C3H3 + CH3'\nat P = 31997, T = 200.0\n*******************************************************************************\n*******************************************************************************\n",
     "output_type": "error",
     "traceback": [
      "\u001b[0;31m---------------------------------------------------------------------------\u001b[0m",
      "\u001b[0;31mCanteraError\u001b[0m                              Traceback (most recent call last)",
      "\u001b[0;32m/tmp/ipykernel_32479/2472905427.py\u001b[0m in \u001b[0;36m<module>\u001b[0;34m\u001b[0m\n\u001b[1;32m      9\u001b[0m \u001b[0;32mfor\u001b[0m \u001b[0mm\u001b[0m\u001b[0;34m,\u001b[0m \u001b[0mmech_dir\u001b[0m \u001b[0;32min\u001b[0m \u001b[0menumerate\u001b[0m\u001b[0;34m(\u001b[0m\u001b[0mmech_dirs\u001b[0m\u001b[0;34m)\u001b[0m\u001b[0;34m:\u001b[0m\u001b[0;34m\u001b[0m\u001b[0;34m\u001b[0m\u001b[0m\n\u001b[1;32m     10\u001b[0m \u001b[0;34m\u001b[0m\u001b[0m\n\u001b[0;32m---> 11\u001b[0;31m     \u001b[0mgas\u001b[0m \u001b[0;34m=\u001b[0m \u001b[0mct\u001b[0m\u001b[0;34m.\u001b[0m\u001b[0mSolution\u001b[0m\u001b[0;34m(\u001b[0m\u001b[0mos\u001b[0m\u001b[0;34m.\u001b[0m\u001b[0mpath\u001b[0m\u001b[0;34m.\u001b[0m\u001b[0mjoin\u001b[0m\u001b[0;34m(\u001b[0m\u001b[0mmech_dir\u001b[0m\u001b[0;34m,\u001b[0m \u001b[0;34m'chem_annotated.yaml'\u001b[0m\u001b[0;34m)\u001b[0m\u001b[0;34m)\u001b[0m\u001b[0;34m\u001b[0m\u001b[0;34m\u001b[0m\u001b[0m\n\u001b[0m\u001b[1;32m     12\u001b[0m     \u001b[0mdelays\u001b[0m \u001b[0;34m=\u001b[0m \u001b[0mnp\u001b[0m\u001b[0;34m.\u001b[0m\u001b[0mzeros\u001b[0m\u001b[0;34m(\u001b[0m\u001b[0mlen\u001b[0m\u001b[0;34m(\u001b[0m\u001b[0mgas\u001b[0m\u001b[0;34m.\u001b[0m\u001b[0mreactions\u001b[0m\u001b[0;34m(\u001b[0m\u001b[0;34m)\u001b[0m\u001b[0;34m)\u001b[0m\u001b[0;34m)\u001b[0m\u001b[0;34m\u001b[0m\u001b[0;34m\u001b[0m\u001b[0m\n\u001b[1;32m     13\u001b[0m     \u001b[0msensitivity_dir\u001b[0m \u001b[0;34m=\u001b[0m \u001b[0mos\u001b[0m\u001b[0;34m.\u001b[0m\u001b[0mpath\u001b[0m\u001b[0;34m.\u001b[0m\u001b[0mjoin\u001b[0m\u001b[0;34m(\u001b[0m\u001b[0mmech_dir\u001b[0m\u001b[0;34m,\u001b[0m \u001b[0;34mf'id_sensitivity_{T}K_{P}bar'\u001b[0m\u001b[0;34m)\u001b[0m\u001b[0;34m\u001b[0m\u001b[0;34m\u001b[0m\u001b[0m\n",
      "\u001b[0;32mbuild/python/cantera/base.pyx\u001b[0m in \u001b[0;36mcantera._cantera._SolutionBase.__cinit__\u001b[0;34m()\u001b[0m\n",
      "\u001b[0;32mbuild/python/cantera/base.pyx\u001b[0m in \u001b[0;36mcantera._cantera._SolutionBase._cinit\u001b[0;34m()\u001b[0m\n",
      "\u001b[0;32mbuild/python/cantera/base.pyx\u001b[0m in \u001b[0;36mcantera._cantera._SolutionBase._init_yaml\u001b[0;34m()\u001b[0m\n",
      "\u001b[0;31mCanteraError\u001b[0m: \n*******************************************************************************\nCanteraError thrown by addReactions:\n\n*******************************************************************************\nCanteraError thrown by PlogRate::validate:\n\nInvalid rate coefficient for reaction 'C4H6 <=> C3H3 + CH3'\nat P = 15999, T = 200.0\n\nInvalid rate coefficient for reaction 'C4H6 <=> C3H3 + CH3'\nat P = 31997, T = 200.0\n*******************************************************************************\n*******************************************************************************\n"
     ]
    }
   ],
   "source": [
    "mech_dirs = [\n",
    "    '/work/westgroup/harris.se/autoscience/fuels/butane/official/butane_20240126',\n",
    "    '/work/westgroup/harris.se/autoscience/fuels/butane/official/butane_20240501',\n",
    "#     '/work/westgroup/harris.se/autoscience/fuels/butane/official/with_lib/butane_20240413',\n",
    "    '/work/westgroup/harris.se/autoscience/fuels/butane/official/aramco',\n",
    "]\n",
    "\n",
    "N = 26\n",
    "for m, mech_dir in enumerate(mech_dirs):\n",
    "    \n",
    "    gas = ct.Solution(os.path.join(mech_dir, 'chem_annotated.yaml'))\n",
    "    delays = np.zeros(len(gas.reactions()))\n",
    "    sensitivity_dir = os.path.join(mech_dir, f'id_sensitivity_{T}K_{P}bar')\n",
    "    \n",
    "    compiled_delay_file = os.path.join(sensitivity_dir, 'compiled_delays.npy')\n",
    "    if os.path.exists(compiled_delay_file):\n",
    "        print(f'skipping compile process because file {compiled_delay_file} already exists')\n",
    "        continue\n",
    "    \n",
    "    delay_files = glob.glob(os.path.join(sensitivity_dir, 'reaction_delays_*'))\n",
    "    for f in delay_files:\n",
    "        start_index = int(f[-8:-4])\n",
    "        print(start_index)\n",
    "        delay_subset = np.load(f)\n",
    "        assert len(delay_subset) == N or f == delay_files[-1]\n",
    "        delays[start_index: start_index + len(delay_subset)] = delay_subset\n",
    "\n",
    "    np.save(compiled_delay_file, delays)\n",
    "    \n",
    "    "
   ]
  },
  {
   "cell_type": "code",
   "execution_count": null,
   "id": "74c1c8de",
   "metadata": {},
   "outputs": [],
   "source": []
  },
  {
   "cell_type": "markdown",
   "id": "2c0d67aa",
   "metadata": {},
   "source": [
    "# Compute first derivative sensitivity and plot top M"
   ]
  },
  {
   "cell_type": "code",
   "execution_count": 5,
   "id": "12f48823",
   "metadata": {},
   "outputs": [],
   "source": [
    "with open('/work/westgroup/harris.se/autoscience/reaction_calculator/database/reverses.pickle', 'rb') as f:\n",
    "    dups = pickle.load(f)"
   ]
  },
  {
   "cell_type": "code",
   "execution_count": 6,
   "id": "c4a678a6",
   "metadata": {},
   "outputs": [
    {
     "name": "stdout",
     "output_type": "stream",
     "text": [
      "Loading RMG files in /work/westgroup/harris.se/autoscience/fuels/butane/official/butane_20240126\n",
      "Computing sensitivity\n",
      "Plotting sensitivity\n",
      "Loading RMG files in /work/westgroup/harris.se/autoscience/fuels/butane/official/butane_20240501\n",
      "Computing sensitivity\n",
      "Plotting sensitivity\n",
      "Loading RMG files in /work/westgroup/harris.se/autoscience/fuels/butane/official/aramco\n",
      "Computing sensitivity\n",
      "Plotting sensitivity\n"
     ]
    },
    {
     "data": {
      "image/png": "[encoded data removed]",
      "text/plain": [
       "<Figure size 800x1400 with 3 Axes>"
      ]
     },
     "metadata": {},
     "output_type": "display_data"
    }
   ],
   "source": [
    "mech_dirs = [\n",
    "    \n",
    "    '/work/westgroup/harris.se/autoscience/fuels/butane/official/butane_20240126',\n",
    "    '/work/westgroup/harris.se/autoscience/fuels/butane/official/butane_20240501',\n",
    "#     '/work/westgroup/harris.se/autoscience/fuels/butane/official/with_lib/butane_20240413',\n",
    "    '/work/westgroup/harris.se/autoscience/fuels/butane/official/aramco',\n",
    "]\n",
    "\n",
    "\n",
    "M = 20\n",
    "colors = plt.rcParams['axes.prop_cycle'].by_key()['color']\n",
    "colors[1] = colors[7]\n",
    "fig, axs = plt.subplots(len(mech_dirs))\n",
    "\n",
    "fig_labels = ['No Libs 1', 'No Libs 7']\n",
    "\n",
    "minx = 0\n",
    "maxx = 0\n",
    "for m, mech_dir in enumerate(mech_dirs):\n",
    "    print(f'Loading RMG files in {mech_dir}')\n",
    "    chemkin = os.path.join(mech_dir, 'chem_annotated.inp')\n",
    "    species_dict = os.path.join(mech_dir, 'species_dictionary.txt')\n",
    "    species_list, reaction_list = rmgpy.chemkin.load_chemkin_file(chemkin, species_dict)\n",
    "    sensitivity_dir = os.path.join(mech_dir, f'id_sensitivity_{T}K_{P}bar')\n",
    "    if not os.path.exists(os.path.join(mech_dir, 'ct2rmg_rxn.pickle')):\n",
    "        print('Creating ct2rmg pickle')\n",
    "        RMG_TOOLS_DIR = '/home/harris.se/rmg/rmg_tools'\n",
    "        subprocess.run(['python', os.path.join(RMG_TOOLS_DIR, 'ct2rmg_dict.py'), chemkin])\n",
    "\n",
    "    with open(os.path.join(mech_dir, 'ct2rmg_rxn.pickle'), 'rb') as f:\n",
    "        ct2rmg_rxn = pickle.load(f)\n",
    "\n",
    "    print('Computing sensitivity')\n",
    "    compiled_delay_file = os.path.join(sensitivity_dir, 'compiled_delays.npy')\n",
    "    base_delay = np.load(os.path.join(sensitivity_dir, 'base_reaction_delay.npy'))\n",
    "    delays = np.load(compiled_delay_file)\n",
    "    \n",
    "    delays[delays == 0] = np.nan\n",
    "    d_ln_tau = np.log(delays) - np.log(base_delay)\n",
    "    delta = 0.1\n",
    "    first_derivative = d_ln_tau / delta\n",
    "\n",
    "    \n",
    "    \n",
    "    ######################## Plot the sensitivities\n",
    "    print('Plotting sensitivity')\n",
    "    my_sensitivities = first_derivative\n",
    "    my_sensitivities[np.isnan(my_sensitivities)] = 0\n",
    "\n",
    "    # get the order\n",
    "    abs_parameter_indices = np.arange(0, my_sensitivities.shape[0])\n",
    "    abs_sensitivity_order = [x for _, x in sorted(zip(np.abs(my_sensitivities), abs_parameter_indices))][::-1]\n",
    "\n",
    "    count = 0\n",
    "    labels = []\n",
    "    sensitivities = []\n",
    "    db_indices = []\n",
    "    smiles = []\n",
    "    \n",
    "    for j in range(100):\n",
    "        \n",
    "        ct_index = abs_sensitivity_order[j]\n",
    "        \n",
    "        db_index = database_fun.get_unique_reaction_index(reaction_list[ct2rmg_rxn[ct_index]])\n",
    "        db_indices.append(str(db_index))\n",
    "        smiles.append(database_fun.reaction2smiles(reaction_list[ct2rmg_rxn[ct_index]]))\n",
    "        labels.append(str(reaction_list[ct2rmg_rxn[ct_index]]))\n",
    "\n",
    "        sensitivities.append(my_sensitivities[ct_index])\n",
    "        count += 1\n",
    "        if count > M:\n",
    "            break\n",
    "            \n",
    "    # Need to sort again\n",
    "    parameter_indices = np.arange(0, len(labels))\n",
    "    abs_sensitivity_order = [x for _, x in sorted(zip(sensitivities, parameter_indices))]\n",
    "    \n",
    "    ordered_labels = []\n",
    "    ordered_sensitivities = []\n",
    "    ordered_db_indices = []\n",
    "    ordered_smiles = []\n",
    "    for j in range(len(labels)):\n",
    "        ordered_labels.append(labels[abs_sensitivity_order[j]])\n",
    "        ordered_sensitivities.append(sensitivities[abs_sensitivity_order[j]])\n",
    "        ordered_db_indices.append(db_indices[abs_sensitivity_order[j]])\n",
    "        ordered_smiles.append(smiles[abs_sensitivity_order[j]])\n",
    "#     print(ordered_db_indices)\n",
    "\n",
    "    for f in range(len(ordered_db_indices)):\n",
    "        try:\n",
    "            if dups[int(ordered_db_indices[f])] and dups[int(ordered_db_indices[f])] < int(ordered_db_indices[f]):\n",
    "                ordered_db_indices[f] = str(dups[int(ordered_db_indices[f])])\n",
    "                # also need to reverse the order of the sensitivity\n",
    "                ordered_sensitivities[f] *= -1\n",
    "                \n",
    "        except KeyError:\n",
    "            pass\n",
    "    \n",
    "    axs[m].barh(ordered_db_indices, ordered_sensitivities)\n",
    "#     axs[m].barh(ordered_labels, ordered_sensitivities)\n",
    "#     axs[m].set_title(fig_labels[m])\n",
    "    \n",
    "    \n",
    "minx = np.min([ax.get_xlim()[0] for ax in axs])\n",
    "maxx = np.max([ax.get_xlim()[1] for ax in axs])\n",
    "\n",
    "for ax in axs:\n",
    "    ax.set_xlim([minx, maxx])\n",
    "    \n",
    "fig.set_figwidth(8) \n",
    "fig.set_figheight(14) \n",
    "    \n",
    "    \n",
    "    \n",
    "    "
   ]
  },
  {
   "cell_type": "markdown",
   "id": "a17c6ab1",
   "metadata": {},
   "source": [
    "# Plot all on same axes"
   ]
  },
  {
   "cell_type": "code",
   "execution_count": 7,
   "id": "a0fe607d",
   "metadata": {},
   "outputs": [
    {
     "name": "stdout",
     "output_type": "stream",
     "text": [
      "done\n"
     ]
    }
   ],
   "source": [
    "with open('/work/westgroup/harris.se/autoscience/reaction_calculator/database/reverses.pickle', 'rb') as f:\n",
    "    dups = pickle.load(f)\n",
    "\n",
    "\n",
    "mech_dirs = [\n",
    "    '/work/westgroup/harris.se/autoscience/fuels/butane/official/aramco',\n",
    "    '/work/westgroup/harris.se/autoscience/fuels/butane/official/butane_20240501',\n",
    "    '/work/westgroup/harris.se/autoscience/fuels/butane/official/butane_20240126',\n",
    "]\n",
    "\n",
    "M = 10\n",
    "\n",
    "\n",
    "top_M_reactions = np.zeros((M, len(mech_dirs)))\n",
    "top_M_sensitivities = np.zeros((M, len(mech_dirs)))\n",
    "\n",
    "total_sensitivites = np.zeros((3500, len(mech_dirs)))\n",
    "\n",
    "for m, mech_dir in enumerate(mech_dirs):\n",
    "    chemkin = os.path.join(mech_dir, 'chem_annotated.inp')\n",
    "    species_dict = os.path.join(mech_dir, 'species_dictionary.txt')\n",
    "    species_list, reaction_list = rmgpy.chemkin.load_chemkin_file(chemkin, species_dict)\n",
    "    sensitivity_dir = os.path.join(mech_dir, f'id_sensitivity_{T}K_{P}bar')\n",
    "    if not os.path.exists(os.path.join(mech_dir, 'ct2rmg_rxn.pickle')):\n",
    "        RMG_TOOLS_DIR = '/home/harris.se/rmg/rmg_tools'\n",
    "        subprocess.run(['python', os.path.join(RMG_TOOLS_DIR, 'ct2rmg_dict.py'), chemkin])\n",
    "\n",
    "    with open(os.path.join(mech_dir, 'ct2rmg_rxn.pickle'), 'rb') as f:\n",
    "        ct2rmg_rxn = pickle.load(f)\n",
    "\n",
    "    compiled_delay_file = os.path.join(sensitivity_dir, 'compiled_delays.npy')\n",
    "    base_delay = np.load(os.path.join(sensitivity_dir, 'base_reaction_delay.npy'))\n",
    "    delays = np.load(compiled_delay_file)\n",
    "    \n",
    "    delays[delays == 0] = np.nan\n",
    "    d_ln_tau = np.log(delays) - np.log(base_delay)\n",
    "    delta = 0.1\n",
    "    first_derivative = d_ln_tau / delta\n",
    "    \n",
    "    ######################## Get a union of the top M reactions for all 3 mechanisms\n",
    "    my_sensitivities = first_derivative\n",
    "    my_sensitivities[np.isnan(my_sensitivities)] = 0\n",
    "    total_sensitivites[:len(my_sensitivities), m] = my_sensitivities\n",
    "\n",
    "    # get the order\n",
    "    abs_parameter_indices = np.arange(0, my_sensitivities.shape[0])\n",
    "    abs_sensitivity_order = [x for _, x in sorted(zip(np.abs(my_sensitivities), abs_parameter_indices))][::-1]\n",
    "\n",
    "\n",
    "\n",
    "    \n",
    "    count = 0\n",
    "    for j in range(2 * M):\n",
    "        ct_index = abs_sensitivity_order[j]\n",
    "        db_index = database_fun.get_unique_reaction_index(reaction_list[ct2rmg_rxn[ct_index]])\n",
    "\n",
    "        if db_index in top_M_reactions[:count, m]:\n",
    "            continue  # don't include 18 twice\n",
    "            \n",
    "        top_M_reactions[count, m] = db_index\n",
    "        top_M_sensitivities[count, m] = my_sensitivities[ct_index]\n",
    "        count += 1\n",
    "        if count >= M:\n",
    "            break\n",
    "\n",
    "print('done')\n",
    "\n",
    "    \n",
    "    \n",
    "    "
   ]
  },
  {
   "cell_type": "code",
   "execution_count": 8,
   "id": "f30a7693",
   "metadata": {},
   "outputs": [],
   "source": [
    "# Use the lower version of the reaction and reverse sensitivity sign if that changes things\n",
    "for m in range(len(mech_dirs)):\n",
    "    for j in range(M):\n",
    "        try:\n",
    "            if dups[int(top_M_reactions[j, m])] and dups[int(top_M_reactions[j, m])] < int(top_M_reactions[j, m]):\n",
    "                top_M_reactions[j, m] = dups[int(top_M_reactions[j, m])]\n",
    "                # also need to reverse the order of the sensitivity  # no, do not do this. microscopic reversibility means both reaction rates are increased\n",
    "#                 top_M_sensitivities[j, m] *= -1\n",
    "                \n",
    "        except KeyError:\n",
    "            pass"
   ]
  },
  {
   "cell_type": "code",
   "execution_count": 9,
   "id": "b5a8587d",
   "metadata": {},
   "outputs": [],
   "source": [
    "# reorder by absolute value\n",
    "\n",
    "top_M_reactions_signed = np.zeros((M, len(mech_dirs)))\n",
    "top_M_sensitivities_signed = np.zeros((M, len(mech_dirs)))\n",
    "\n",
    "\n",
    "for i in range(len(mech_dirs)):\n",
    "    parameter_indices = np.arange(0, M)\n",
    "    final_sensitivity_order = [x for _, x in sorted(zip(top_M_sensitivities[:, i], parameter_indices))]\n",
    "    \n",
    "    \n",
    "    for j in range(M):\n",
    "        top_M_reactions_signed[j, i] = top_M_reactions[final_sensitivity_order[j], i]\n",
    "        top_M_sensitivities_signed[j, i] = top_M_sensitivities[final_sensitivity_order[j], i]"
   ]
  },
  {
   "cell_type": "code",
   "execution_count": 10,
   "id": "4117db8d",
   "metadata": {},
   "outputs": [],
   "source": [
    "# Get things ordered in terms of Aramco first, then RMG-7 then RMG-1\n",
    "\n",
    "reaction_labels = []\n",
    "set_of_reactions = []\n",
    "for m in range(len(mech_dirs)):\n",
    "    for j in range(M):\n",
    "        if int(top_M_reactions_signed[j, m]) not in set_of_reactions:\n",
    "            set_of_reactions.append(int(top_M_reactions_signed[j, m]))\n",
    "            \n",
    "            reaction_labels.append(database_fun.reaction2smiles(database_fun.index2reaction(int(top_M_reactions_signed[j, m]))))\n",
    "\n",
    "new_top_M_sensitivities = np.zeros((len(set_of_reactions), len(mech_dirs)))\n",
    "new_top_M_sensitivities[:M, 0] = top_M_sensitivities_signed[:, 0]\n",
    "\n",
    "for m in range(1, len(mech_dirs)):\n",
    "    for j in range(M):\n",
    "        new_index = set_of_reactions.index(int(top_M_reactions_signed[j, m]))\n",
    "        new_top_M_sensitivities[new_index, m] = top_M_sensitivities_signed[j, m]\n",
    "\n"
   ]
  },
  {
   "cell_type": "markdown",
   "id": "ca742048",
   "metadata": {},
   "source": [
    "\n",
    "# Fill in the zeros with the missing values"
   ]
  },
  {
   "cell_type": "code",
   "execution_count": 11,
   "id": "4c197c4f",
   "metadata": {},
   "outputs": [],
   "source": [
    "def get_reaction_index(db_index, reaction_list):\n",
    "    ref_reaction = database_fun.index2reaction(db_index)\n",
    "    \n",
    "    for r in range(len(reaction_list)):\n",
    "        if reaction_list[r].is_isomorphic(ref_reaction):\n",
    "            return r\n",
    "        \n",
    "    return -1\n",
    "\n",
    "alpha_mask = new_top_M_sensitivities == 0\n",
    "\n",
    "for m in range(len(mech_dirs)):\n",
    "    chemkin = os.path.join(mech_dirs[m], 'chem_annotated.inp')\n",
    "    species_dict = os.path.join(mech_dirs[m], 'species_dictionary.txt')\n",
    "    species_list, reaction_list = rmgpy.chemkin.load_chemkin_file(chemkin, species_dict)\n",
    "    with open(os.path.join(mech_dirs[m], 'ct2rmg_rxn.pickle'), 'rb') as f:\n",
    "        ct2rmg_rxn = pickle.load(f)\n",
    "    \n",
    "    for j in range(len(set_of_reactions)):\n",
    "        if new_top_M_sensitivities[j, m] == 0:\n",
    "            rmg_idx = get_reaction_index(set_of_reactions[j], reaction_list)\n",
    "            if rmg_idx >= 0:\n",
    "                ct_index = next(key for key, value in ct2rmg_rxn.items() if value == rmg_idx)\n",
    "                new_top_M_sensitivities[j, m] = total_sensitivites[ct_index, m]\n",
    "            else:\n",
    "                try:\n",
    "                    revese_db_index = dups[set_of_reactions[j]]\n",
    "                    if revese_db_index:\n",
    "                        rev_rmg_idx = get_reaction_index(revese_db_index, reaction_list)\n",
    "                        rev_ct_index = next(key for key, value in ct2rmg_rxn.items() if value == rev_rmg_idx)\n",
    "                        new_top_M_sensitivities[j, m] = -total_sensitivites[rev_ct_index, m]\n",
    "                except KeyError:\n",
    "                    pass\n",
    "            \n"
   ]
  },
  {
   "cell_type": "code",
   "execution_count": 12,
   "id": "77f0ff9e",
   "metadata": {},
   "outputs": [],
   "source": [
    "# change the order one more time to go by average promoting to average inhibiting\n",
    "\n",
    "# average_value = np.mean(new_top_M_sensitivities, axis=1)\n",
    "\n",
    "aramco_weight = 0.8\n",
    "average_value = aramco_weight * new_top_M_sensitivities[:, 0] + \\\n",
    "                0.5 * (1.0 - aramco_weight) * new_top_M_sensitivities[:, 1] + \\\n",
    "                0.5 * (1.0 - aramco_weight) * new_top_M_sensitivities[:, 2]\n",
    "\n",
    "M_indices = np.arange(0, new_top_M_sensitivities.shape[0])\n",
    "\n",
    "final_index_order = [x for _, x in sorted(zip(average_value, M_indices))]\n",
    " \n",
    "final_top_M_sensitivities = np.zeros(new_top_M_sensitivities.shape)\n",
    "final_reaction_labels = []\n",
    "final_set_of_reactions = []\n",
    "final_alpha_mask = np.zeros(new_top_M_sensitivities.shape)\n",
    "\n",
    "\n",
    "\n",
    "for m in range(final_top_M_sensitivities.shape[0]):\n",
    "    final_reaction_labels.append(reaction_labels[final_index_order[m]])\n",
    "    final_top_M_sensitivities[m, :] = new_top_M_sensitivities[final_index_order[m], :]\n",
    "    final_alpha_mask[m, :] = alpha_mask[final_index_order[m], :]\n",
    "    final_set_of_reactions.append(set_of_reactions[final_index_order[m]])\n",
    "    \n"
   ]
  },
  {
   "cell_type": "code",
   "execution_count": 25,
   "id": "f95d8323",
   "metadata": {},
   "outputs": [],
   "source": [
    "# make reaction images for y axis labels\n",
    "img_files = []\n",
    "for rxn_idx in final_set_of_reactions:\n",
    "    rxn_file = f'r{rxn_idx:06}.png'\n",
    "    r = database_fun.index2reaction(rxn_idx)\n",
    "    r.draw(rxn_file)\n",
    "    img_files.append(rxn_file)"
   ]
  },
  {
   "cell_type": "code",
   "execution_count": 171,
   "id": "5fc21c4d",
   "metadata": {},
   "outputs": [
    {
     "data": {
      "image/png": "[encoded data removed]",
      "text/plain": [
       "<Figure size 600x900 with 1 Axes>"
      ]
     },
     "metadata": {},
     "output_type": "display_data"
    }
   ],
   "source": [
    "# plot the thing\n",
    "plt.figure(figsize=(6, 9))\n",
    "fig_labels = ['Aramco', 'No Libs 7', 'No Libs 1']\n",
    "width = 0.25\n",
    "colors = plt.rcParams['axes.prop_cycle'].by_key()['color']\n",
    "\n",
    "colors = [colors[0], colors[1], colors[3]]\n",
    "\n",
    "numbers = [x for x in np.arange(len(set_of_reactions))]\n",
    "for m in range(len(mech_dirs)):\n",
    "    for k in range(len(set_of_reactions)):\n",
    "        label = '_nolegend_'\n",
    "        if k == 0:\n",
    "            label = fig_labels[m]\n",
    "        \n",
    "        alpha = 1.0\n",
    "        if final_alpha_mask[k, m]:\n",
    "            alpha = 0.4\n",
    "        plt.barh(k + width * (m - 1.5), final_top_M_sensitivities[k, m], label=label, height=width, align='edge',\n",
    "                alpha=alpha, color=colors[m])\n",
    "#         plt.barh(k + width * (m - 1.5), new_top_M_sensitivities[k, m], label=label, height=width, align='edge',\n",
    "#                 alpha=alpha, color=colors[m])\n",
    "\n",
    "# plt.yticks(np.arange(len(set_of_reactions)), [str(int(x)) for x in set_of_reactions])\n",
    "plt.yticks(np.arange(len(final_set_of_reactions)), final_reaction_labels) # <----- this for SMILES\n",
    "plt.yticks(np.arange(len(final_set_of_reactions)), ['' for f in final_reaction_labels]) # <----- this for SMILES\n",
    "# plt.ylabel('Reaction Index')\n",
    "plt.legend()\n",
    "plt.xlabel('log sensitivity')\n",
    "ax1 = plt.gca()\n",
    "\n",
    "\n",
    "# ax2 = ax1.twinx()\n",
    "# ax2.set_yticks(np.arange(len(set_of_reactions)))\n",
    "# plt.sca(ax2)\n",
    "# ax2.set_ylim(ax1.get_ylim())\n",
    "\n",
    "# plt.sca(ax1)\n",
    "plt.yticks(np.arange(len(final_set_of_reactions)), [str(int(x)) for x in final_set_of_reactions])\n",
    "\n",
    "ax1.spines[['right', 'top']].set_visible(False)\n",
    "\n",
    "extra_padding = [0 for f in final_set_of_reactions]\n",
    "extra_padding[final_set_of_reactions.index(4778)] = 0.05\n",
    "extra_padding[final_set_of_reactions.index(19)] = -0.03\n",
    "\n",
    "W = 300\n",
    "plt_width = ax1.get_xlim()[1] - ax1.get_xlim()[0]\n",
    "for k in range(len(ax1.get_yticks())):\n",
    "\n",
    "    img = mpimg.imread(img_files[k])\n",
    "    y_val = ax1.get_yticks()[k]\n",
    "    \n",
    "    img_width = img.shape[1]\n",
    "    \n",
    "    \n",
    "    zoom = min(W / img_width, 0.50)\n",
    "    imagebox = matplotlib.offsetbox.OffsetImage(img, zoom=zoom)\n",
    "    \n",
    "    \n",
    "    x_val = -1.38 - extra_padding[k] - img_width * zoom / plt_width / W\n",
    "    \n",
    "    ab = matplotlib.offsetbox.AnnotationBbox(imagebox, (-1.0, y_val), xybox=(x_val, y_val), frameon=False)\n",
    "    ax1.add_artist(ab)\n"
   ]
  },
  {
   "cell_type": "code",
   "execution_count": 123,
   "id": "0310f792",
   "metadata": {},
   "outputs": [
    {
     "data": {
      "text/plain": [
       "(22, 253, 3)"
      ]
     },
     "execution_count": 123,
     "metadata": {},
     "output_type": "execute_result"
    }
   ],
   "source": [
    "img.shape"
   ]
  },
  {
   "cell_type": "code",
   "execution_count": null,
   "id": "90fa0584",
   "metadata": {},
   "outputs": [],
   "source": []
  },
  {
   "cell_type": "code",
   "execution_count": 93,
   "id": "6b311747",
   "metadata": {},
   "outputs": [],
   "source": [
    "bbox = imagebox.get_tightbbox(fig.canvas.get_renderer())"
   ]
  },
  {
   "cell_type": "code",
   "execution_count": 97,
   "id": "f64cae83",
   "metadata": {},
   "outputs": [
    {
     "data": {
      "text/plain": [
       "263.54166666666663"
      ]
     },
     "execution_count": 97,
     "metadata": {},
     "output_type": "execute_result"
    }
   ],
   "source": [
    "bbox.width"
   ]
  },
  {
   "cell_type": "code",
   "execution_count": 98,
   "id": "c399ea1e",
   "metadata": {},
   "outputs": [
    {
     "data": {
      "text/plain": [
       "22.91666666666663"
      ]
     },
     "execution_count": 98,
     "metadata": {},
     "output_type": "execute_result"
    }
   ],
   "source": [
    "bbox.height"
   ]
  },
  {
   "cell_type": "code",
   "execution_count": 113,
   "id": "ee883cfc",
   "metadata": {},
   "outputs": [
    {
     "data": {
      "text/plain": [
       "(22, 253)"
      ]
     },
     "execution_count": 113,
     "metadata": {},
     "output_type": "execute_result"
    }
   ],
   "source": [
    "imagebox.image.get_size()"
   ]
  },
  {
   "cell_type": "code",
   "execution_count": 15,
   "id": "b1733c42",
   "metadata": {},
   "outputs": [],
   "source": [
    "r = database_fun.index2reaction(313)"
   ]
  },
  {
   "cell_type": "code",
   "execution_count": 24,
   "id": "0c48014b",
   "metadata": {},
   "outputs": [],
   "source": [
    "r.draw('r313.png')"
   ]
  },
  {
   "cell_type": "code",
   "execution_count": 18,
   "id": "db8c73af",
   "metadata": {},
   "outputs": [
    {
     "data": {
      "text/plain": [
       "['__annotations__',\n",
       " '__call__',\n",
       " '__class__',\n",
       " '__closure__',\n",
       " '__code__',\n",
       " '__defaults__',\n",
       " '__delattr__',\n",
       " '__dict__',\n",
       " '__dir__',\n",
       " '__doc__',\n",
       " '__eq__',\n",
       " '__format__',\n",
       " '__ge__',\n",
       " '__get__',\n",
       " '__getattribute__',\n",
       " '__globals__',\n",
       " '__gt__',\n",
       " '__hash__',\n",
       " '__init__',\n",
       " '__init_subclass__',\n",
       " '__kwdefaults__',\n",
       " '__le__',\n",
       " '__lt__',\n",
       " '__module__',\n",
       " '__name__',\n",
       " '__ne__',\n",
       " '__new__',\n",
       " '__qualname__',\n",
       " '__reduce__',\n",
       " '__reduce_ex__',\n",
       " '__repr__',\n",
       " '__setattr__',\n",
       " '__sizeof__',\n",
       " '__str__',\n",
       " '__subclasshook__']"
      ]
     },
     "execution_count": 18,
     "metadata": {},
     "output_type": "execute_result"
    }
   ],
   "source": [
    "dir(display)"
   ]
  },
  {
   "cell_type": "code",
   "execution_count": 23,
   "id": "f0261b8e",
   "metadata": {},
   "outputs": [],
   "source": [
    "plt.show(r._repr_png_())"
   ]
  },
  {
   "cell_type": "code",
   "execution_count": 19,
   "id": "91c2fc6d",
   "metadata": {},
   "outputs": [
    {
     "ename": "TypeError",
     "evalue": "draw() takes exactly one argument (0 given)",
     "output_type": "error",
     "traceback": [
      "\u001b[0;31m---------------------------------------------------------------------------\u001b[0m",
      "\u001b[0;31mTypeError\u001b[0m                                 Traceback (most recent call last)",
      "\u001b[0;32m/tmp/ipykernel_32479/1899747832.py\u001b[0m in \u001b[0;36m<module>\u001b[0;34m\u001b[0m\n\u001b[0;32m----> 1\u001b[0;31m \u001b[0mr\u001b[0m\u001b[0;34m.\u001b[0m\u001b[0mdraw\u001b[0m\u001b[0;34m(\u001b[0m\u001b[0;34m)\u001b[0m\u001b[0;34m\u001b[0m\u001b[0;34m\u001b[0m\u001b[0m\n\u001b[0m",
      "\u001b[0;31mTypeError\u001b[0m: draw() takes exactly one argument (0 given)"
     ]
    }
   ],
   "source": [
    "r.draw()"
   ]
  },
  {
   "cell_type": "code",
   "execution_count": 16,
   "id": "119d4649",
   "metadata": {},
   "outputs": [
    {
     "data": {
      "text/plain": [
       "['SurfaceArrhenius',\n",
       " '__class__',\n",
       " '__delattr__',\n",
       " '__dir__',\n",
       " '__doc__',\n",
       " '__eq__',\n",
       " '__format__',\n",
       " '__ge__',\n",
       " '__getattribute__',\n",
       " '__gt__',\n",
       " '__hash__',\n",
       " '__init__',\n",
       " '__init_subclass__',\n",
       " '__le__',\n",
       " '__lt__',\n",
       " '__ne__',\n",
       " '__new__',\n",
       " '__pyx_vtable__',\n",
       " '__reduce__',\n",
       " '__reduce_ex__',\n",
       " '__repr__',\n",
       " '__setattr__',\n",
       " '__sizeof__',\n",
       " '__str__',\n",
       " '__subclasshook__',\n",
       " '_degeneracy',\n",
       " '_repr_png_',\n",
       " 'allow_max_rate_violation',\n",
       " 'allow_pdep_route',\n",
       " 'calculate_coll_limit',\n",
       " 'calculate_microcanonical_rate_coefficient',\n",
       " 'calculate_tst_rate_coefficient',\n",
       " 'calculate_tst_rate_coefficients',\n",
       " 'can_tst',\n",
       " 'check_collision_limit_violation',\n",
       " 'comment',\n",
       " 'copy',\n",
       " 'degeneracy',\n",
       " 'draw',\n",
       " 'duplicate',\n",
       " 'elementary_high_p',\n",
       " 'ensure_species',\n",
       " 'fix_barrier_height',\n",
       " 'fix_diffusion_limited_a_factor',\n",
       " 'generate_3d_ts',\n",
       " 'generate_high_p_limit_kinetics',\n",
       " 'generate_pairs',\n",
       " 'generate_reverse_rate_coefficient',\n",
       " 'get_enthalpies_of_reaction',\n",
       " 'get_enthalpy_of_reaction',\n",
       " 'get_entropies_of_reaction',\n",
       " 'get_entropy_of_reaction',\n",
       " 'get_equilibrium_constant',\n",
       " 'get_equilibrium_constants',\n",
       " 'get_free_energies_of_reaction',\n",
       " 'get_free_energy_of_reaction',\n",
       " 'get_mean_sigma_and_epsilon',\n",
       " 'get_rate_coefficient',\n",
       " 'get_reduced_mass',\n",
       " 'get_stoichiometric_coefficient',\n",
       " 'get_surface_rate_coefficient',\n",
       " 'get_url',\n",
       " 'has_template',\n",
       " 'index',\n",
       " 'is_association',\n",
       " 'is_balanced',\n",
       " 'is_dissociation',\n",
       " 'is_forward',\n",
       " 'is_isomerization',\n",
       " 'is_isomorphic',\n",
       " 'is_surface_reaction',\n",
       " 'is_unimolecular',\n",
       " 'k_effective_cache',\n",
       " 'kinetics',\n",
       " 'label',\n",
       " 'matches_species',\n",
       " 'network_kinetics',\n",
       " 'pairs',\n",
       " 'products',\n",
       " 'rank',\n",
       " 'reactants',\n",
       " 'reverse_arrhenius_rate',\n",
       " 'reverse_sticking_coeff_rate',\n",
       " 'reverse_surface_arrhenius_rate',\n",
       " 'reversible',\n",
       " 'specific_collider',\n",
       " 'to_cantera',\n",
       " 'to_chemkin',\n",
       " 'to_labeled_str',\n",
       " 'transition_state']"
      ]
     },
     "execution_count": 16,
     "metadata": {},
     "output_type": "execute_result"
    }
   ],
   "source": [
    "dir(r)"
   ]
  },
  {
   "cell_type": "code",
   "execution_count": null,
   "id": "434f8f16",
   "metadata": {},
   "outputs": [],
   "source": []
  },
  {
   "cell_type": "code",
   "execution_count": null,
   "id": "aa4bb13f",
   "metadata": {},
   "outputs": [],
   "source": []
  },
  {
   "cell_type": "code",
   "execution_count": null,
   "id": "ca3910f2",
   "metadata": {},
   "outputs": [],
   "source": []
  },
  {
   "cell_type": "code",
   "execution_count": null,
   "id": "d3f8392f",
   "metadata": {},
   "outputs": [],
   "source": []
  }
 ],
 "metadata": {
  "kernelspec": {
   "display_name": "Python 3 (ipykernel)",
   "language": "python",
   "name": "python3"
  },
  "language_info": {
   "codemirror_mode": {
    "name": "ipython",
    "version": 3
   },
   "file_extension": ".py",
   "mimetype": "text/x-python",
   "name": "python",
   "nbconvert_exporter": "python",
   "pygments_lexer": "ipython3",
   "version": "3.7.16"
  }
 },
 "nbformat": 4,
 "nbformat_minor": 5
}

{
 "cells": [
  {
   "cell_type": "code",
   "execution_count": 10,
   "id": "2be4d076",
   "metadata": {},
   "outputs": [],
   "source": [
    "# script to save the rankings for the mechanism\n",
    "import os\n",
    "import h5py\n",
    "import sys\n",
    "import copy\n",
    "import glob\n",
    "import pickle\n",
    "import pandas as pd\n",
    "\n",
    "import numpy as np\n",
    "import rmgpy.chemkin\n",
    "import cantera as ct\n",
    "\n",
    "import matplotlib.pyplot as plt\n",
    "%matplotlib inline\n",
    "\n",
    "# sys.path.append('/work/westgroup/harris.se/autoscience/reaction_calculator/dft')\n",
    "# import importlib\n",
    "# import thermokinetic_fun\n",
    "# importlib.reload(thermokinetic_fun)"
   ]
  },
  {
   "cell_type": "code",
   "execution_count": 3,
   "id": "0bfe0e0b",
   "metadata": {},
   "outputs": [
    {
     "name": "stdout",
     "output_type": "stream",
     "text": [
      "130 species loaded\n",
      "2488 reactions loaded\n"
     ]
    }
   ],
   "source": [
    "basedir = '/work/westgroup/harris.se/autoscience/reaction_calculator/delay_uncertainty/base_rmg_1week'\n",
    "\n",
    "cantera_file = os.path.join(basedir, 'chem_annotated.cti')\n",
    "base_chemkin = os.path.join(basedir, 'chem_annotated.inp')\n",
    "dictionary = os.path.join(basedir, 'species_dictionary.txt')\n",
    "transport = os.path.join(basedir, 'tran.dat')\n",
    "\n",
    "species_list, reaction_list = rmgpy.chemkin.load_chemkin_file(base_chemkin, dictionary_path=dictionary, transport_path=transport, use_chemkin_names=True)\n",
    "\n",
    "gas = ct.Solution(cantera_file)\n",
    "perturbed_cti_path = os.path.join(basedir, 'perturbed.cti')\n",
    "perturbed_gas = ct.Solution(perturbed_cti_path)\n",
    "\n",
    "# This cti -> rmg converter dictionary can be made using rmg_tools/ct2rmg_dict.py\n",
    "with open(os.path.join(basedir, 'ct2rmg_rxn.pickle'), 'rb') as handle:\n",
    "    ct2rmg_rxn = pickle.load(handle)\n",
    "\n",
    "print(f'{len(species_list)} species loaded')\n",
    "print(f'{len(reaction_list)} reactions loaded')"
   ]
  },
  {
   "cell_type": "code",
   "execution_count": 4,
   "id": "23dca055",
   "metadata": {},
   "outputs": [],
   "source": [
    "# rxn_uncertainty_file = '/work/westgroup/harris.se/autoscience/reaction_calculator/models/base_rmg_1week/reaction_uncertainty.npy'\n",
    "# sp_uncertainty_file = '/work/westgroup/harris.se/autoscience/reaction_calculator/models/base_rmg_1week/species_uncertainty.npy'\n",
    "\n",
    "rxn_uncertainty_file = '/work/westgroup/harris.se/autoscience/reaction_calculator/models/base_rmg_1week/gao_reaction_uncertainty.npy'\n",
    "sp_uncertainty_file = '/work/westgroup/harris.se/autoscience/reaction_calculator/models/base_rmg_1week/gao_species_uncertainty.npy'\n",
    "\n",
    "rmg_rxn_uncertainty = np.load(rxn_uncertainty_file)\n",
    "rmg_sp_uncertainty = np.load(sp_uncertainty_file)\n",
    "\n",
    "assert len(rmg_rxn_uncertainty) == len(reaction_list)\n",
    "assert len(rmg_sp_uncertainty) == len(species_list)\n",
    "\n",
    "\n",
    "rxn_uncertainty = np.zeros(len(gas.reactions()))\n",
    "for ct_index in range(len(rxn_uncertainty)):\n",
    "    rxn_uncertainty[ct_index] = rmg_rxn_uncertainty[ct2rmg_rxn[ct_index]]\n",
    "\n",
    "# Cantera species should be in same rmg order, but this makes sure for us\n",
    "for i in range(len(species_list)):\n",
    "    assert str(species_list[i]) == gas.species_names[i]\n",
    "\n",
    "sp_uncertainty = rmg_sp_uncertainty\n",
    "\n",
    "total_uncertainty_array = np.concatenate((sp_uncertainty, rxn_uncertainty), axis=0)\n",
    "total_uncertainty_mat = np.repeat(np.transpose(np.matrix(total_uncertainty_array)), 12 * 51, axis=1)\n"
   ]
  },
  {
   "cell_type": "code",
   "execution_count": null,
   "id": "2abb78d6",
   "metadata": {},
   "outputs": [],
   "source": []
  },
  {
   "cell_type": "code",
   "execution_count": 29,
   "id": "3e03bba8",
   "metadata": {},
   "outputs": [],
   "source": [
    "# Gather flame speed files\n",
    "p_index = 0\n",
    "working_dir = '/work/westgroup/harris.se/autoscience/reaction_calculator/fs_sensitivity/base_rmg_1week'\n",
    "fs_files = glob.glob(os.path.join(working_dir, 'coarse', 'flame_speeds*.npy'))\n",
    "# fs_files = glob.glob(os.path.join(working_dir, f'param_{p_index:04}', 'perturbed_flame_tight*.h5'))"
   ]
  },
  {
   "cell_type": "code",
   "execution_count": 33,
   "id": "8bde5d1c",
   "metadata": {},
   "outputs": [
    {
     "data": {
      "text/plain": [
       "2523"
      ]
     },
     "execution_count": 33,
     "metadata": {},
     "output_type": "execute_result"
    }
   ],
   "source": [
    "len(gas.reactions())"
   ]
  },
  {
   "cell_type": "code",
   "execution_count": 32,
   "id": "50fa47c5",
   "metadata": {},
   "outputs": [
    {
     "data": {
      "text/plain": [
       "2523"
      ]
     },
     "execution_count": 32,
     "metadata": {},
     "output_type": "execute_result"
    }
   ],
   "source": [
    "len(np.load(fs_files[0]))"
   ]
  },
  {
   "cell_type": "code",
   "execution_count": null,
   "id": "641c5c50",
   "metadata": {},
   "outputs": [],
   "source": []
  },
  {
   "cell_type": "code",
   "execution_count": null,
   "id": "62cd41d9",
   "metadata": {},
   "outputs": [],
   "source": []
  },
  {
   "cell_type": "code",
   "execution_count": 30,
   "id": "05dc3cc9",
   "metadata": {},
   "outputs": [
    {
     "data": {
      "text/plain": [
       "['/work/westgroup/harris.se/autoscience/reaction_calculator/fs_sensitivity/base_rmg_1week/coarse/flame_speeds_0000.npy',\n",
       " '/work/westgroup/harris.se/autoscience/reaction_calculator/fs_sensitivity/base_rmg_1week/coarse/flame_speeds_0050.npy',\n",
       " '/work/westgroup/harris.se/autoscience/reaction_calculator/fs_sensitivity/base_rmg_1week/coarse/flame_speeds_0100.npy',\n",
       " '/work/westgroup/harris.se/autoscience/reaction_calculator/fs_sensitivity/base_rmg_1week/coarse/flame_speeds_0150.npy',\n",
       " '/work/westgroup/harris.se/autoscience/reaction_calculator/fs_sensitivity/base_rmg_1week/coarse/flame_speeds_0200.npy',\n",
       " '/work/westgroup/harris.se/autoscience/reaction_calculator/fs_sensitivity/base_rmg_1week/coarse/flame_speeds_0250.npy',\n",
       " '/work/westgroup/harris.se/autoscience/reaction_calculator/fs_sensitivity/base_rmg_1week/coarse/flame_speeds_0300.npy',\n",
       " '/work/westgroup/harris.se/autoscience/reaction_calculator/fs_sensitivity/base_rmg_1week/coarse/flame_speeds_0350.npy',\n",
       " '/work/westgroup/harris.se/autoscience/reaction_calculator/fs_sensitivity/base_rmg_1week/coarse/flame_speeds_0400.npy',\n",
       " '/work/westgroup/harris.se/autoscience/reaction_calculator/fs_sensitivity/base_rmg_1week/coarse/flame_speeds_0450.npy',\n",
       " '/work/westgroup/harris.se/autoscience/reaction_calculator/fs_sensitivity/base_rmg_1week/coarse/flame_speeds_0500.npy',\n",
       " '/work/westgroup/harris.se/autoscience/reaction_calculator/fs_sensitivity/base_rmg_1week/coarse/flame_speeds_0550.npy',\n",
       " '/work/westgroup/harris.se/autoscience/reaction_calculator/fs_sensitivity/base_rmg_1week/coarse/flame_speeds_0600.npy',\n",
       " '/work/westgroup/harris.se/autoscience/reaction_calculator/fs_sensitivity/base_rmg_1week/coarse/flame_speeds_0650.npy',\n",
       " '/work/westgroup/harris.se/autoscience/reaction_calculator/fs_sensitivity/base_rmg_1week/coarse/flame_speeds_0700.npy',\n",
       " '/work/westgroup/harris.se/autoscience/reaction_calculator/fs_sensitivity/base_rmg_1week/coarse/flame_speeds_0750.npy',\n",
       " '/work/westgroup/harris.se/autoscience/reaction_calculator/fs_sensitivity/base_rmg_1week/coarse/flame_speeds_0800.npy',\n",
       " '/work/westgroup/harris.se/autoscience/reaction_calculator/fs_sensitivity/base_rmg_1week/coarse/flame_speeds_0850.npy',\n",
       " '/work/westgroup/harris.se/autoscience/reaction_calculator/fs_sensitivity/base_rmg_1week/coarse/flame_speeds_0900.npy',\n",
       " '/work/westgroup/harris.se/autoscience/reaction_calculator/fs_sensitivity/base_rmg_1week/coarse/flame_speeds_0950.npy',\n",
       " '/work/westgroup/harris.se/autoscience/reaction_calculator/fs_sensitivity/base_rmg_1week/coarse/flame_speeds_1000.npy',\n",
       " '/work/westgroup/harris.se/autoscience/reaction_calculator/fs_sensitivity/base_rmg_1week/coarse/flame_speeds_1050.npy',\n",
       " '/work/westgroup/harris.se/autoscience/reaction_calculator/fs_sensitivity/base_rmg_1week/coarse/flame_speeds_1100.npy',\n",
       " '/work/westgroup/harris.se/autoscience/reaction_calculator/fs_sensitivity/base_rmg_1week/coarse/flame_speeds_1150.npy',\n",
       " '/work/westgroup/harris.se/autoscience/reaction_calculator/fs_sensitivity/base_rmg_1week/coarse/flame_speeds_1200.npy',\n",
       " '/work/westgroup/harris.se/autoscience/reaction_calculator/fs_sensitivity/base_rmg_1week/coarse/flame_speeds_1250.npy',\n",
       " '/work/westgroup/harris.se/autoscience/reaction_calculator/fs_sensitivity/base_rmg_1week/coarse/flame_speeds_1300.npy',\n",
       " '/work/westgroup/harris.se/autoscience/reaction_calculator/fs_sensitivity/base_rmg_1week/coarse/flame_speeds_1350.npy',\n",
       " '/work/westgroup/harris.se/autoscience/reaction_calculator/fs_sensitivity/base_rmg_1week/coarse/flame_speeds_1400.npy',\n",
       " '/work/westgroup/harris.se/autoscience/reaction_calculator/fs_sensitivity/base_rmg_1week/coarse/flame_speeds_1450.npy',\n",
       " '/work/westgroup/harris.se/autoscience/reaction_calculator/fs_sensitivity/base_rmg_1week/coarse/flame_speeds_1500.npy',\n",
       " '/work/westgroup/harris.se/autoscience/reaction_calculator/fs_sensitivity/base_rmg_1week/coarse/flame_speeds_1550.npy',\n",
       " '/work/westgroup/harris.se/autoscience/reaction_calculator/fs_sensitivity/base_rmg_1week/coarse/flame_speeds_1600.npy',\n",
       " '/work/westgroup/harris.se/autoscience/reaction_calculator/fs_sensitivity/base_rmg_1week/coarse/flame_speeds_1650.npy',\n",
       " '/work/westgroup/harris.se/autoscience/reaction_calculator/fs_sensitivity/base_rmg_1week/coarse/flame_speeds_1700.npy',\n",
       " '/work/westgroup/harris.se/autoscience/reaction_calculator/fs_sensitivity/base_rmg_1week/coarse/flame_speeds_1750.npy',\n",
       " '/work/westgroup/harris.se/autoscience/reaction_calculator/fs_sensitivity/base_rmg_1week/coarse/flame_speeds_1800.npy',\n",
       " '/work/westgroup/harris.se/autoscience/reaction_calculator/fs_sensitivity/base_rmg_1week/coarse/flame_speeds_1850.npy',\n",
       " '/work/westgroup/harris.se/autoscience/reaction_calculator/fs_sensitivity/base_rmg_1week/coarse/flame_speeds_1900.npy',\n",
       " '/work/westgroup/harris.se/autoscience/reaction_calculator/fs_sensitivity/base_rmg_1week/coarse/flame_speeds_1950.npy',\n",
       " '/work/westgroup/harris.se/autoscience/reaction_calculator/fs_sensitivity/base_rmg_1week/coarse/flame_speeds_2000.npy',\n",
       " '/work/westgroup/harris.se/autoscience/reaction_calculator/fs_sensitivity/base_rmg_1week/coarse/flame_speeds_2050.npy',\n",
       " '/work/westgroup/harris.se/autoscience/reaction_calculator/fs_sensitivity/base_rmg_1week/coarse/flame_speeds_2100.npy',\n",
       " '/work/westgroup/harris.se/autoscience/reaction_calculator/fs_sensitivity/base_rmg_1week/coarse/flame_speeds_2150.npy',\n",
       " '/work/westgroup/harris.se/autoscience/reaction_calculator/fs_sensitivity/base_rmg_1week/coarse/flame_speeds_2200.npy',\n",
       " '/work/westgroup/harris.se/autoscience/reaction_calculator/fs_sensitivity/base_rmg_1week/coarse/flame_speeds_2250.npy',\n",
       " '/work/westgroup/harris.se/autoscience/reaction_calculator/fs_sensitivity/base_rmg_1week/coarse/flame_speeds_2300.npy',\n",
       " '/work/westgroup/harris.se/autoscience/reaction_calculator/fs_sensitivity/base_rmg_1week/coarse/flame_speeds_2350.npy',\n",
       " '/work/westgroup/harris.se/autoscience/reaction_calculator/fs_sensitivity/base_rmg_1week/coarse/flame_speeds_2400.npy',\n",
       " '/work/westgroup/harris.se/autoscience/reaction_calculator/fs_sensitivity/base_rmg_1week/coarse/flame_speeds_2450.npy',\n",
       " '/work/westgroup/harris.se/autoscience/reaction_calculator/fs_sensitivity/base_rmg_1week/coarse/flame_speeds_2500.npy']"
      ]
     },
     "execution_count": 30,
     "metadata": {},
     "output_type": "execute_result"
    }
   ],
   "source": [
    "fs_files"
   ]
  },
  {
   "cell_type": "code",
   "execution_count": 11,
   "id": "484c27d0",
   "metadata": {},
   "outputs": [],
   "source": [
    "# f = h5py.File(fs_files[0], 'r')"
   ]
  },
  {
   "cell_type": "code",
   "execution_count": 12,
   "id": "b04cef95",
   "metadata": {},
   "outputs": [
    {
     "data": {
      "text/plain": [
       "{'Sim1D_type': 'FreeFlame',\n",
       " 'cantera_version': '2.5.1',\n",
       " 'curve': 0.01,\n",
       " 'date': 'Sun, 14 May 2023 07:55:06 -0400',\n",
       " 'description': 'butane flame',\n",
       " 'energy_enabled': True,\n",
       " 'fixed_temperature': 651.7678282025165,\n",
       " 'git_commit': 'b0bace782',\n",
       " 'max_grid_points': 30000,\n",
       " 'max_time_step_count': 1000,\n",
       " 'prune': 0.001,\n",
       " 'radiation_enabled': False,\n",
       " 'ratio': 2.0,\n",
       " 'slope': 0.01,\n",
       " 'soret_enabled': False,\n",
       " 'transport_model': 'Mix'}"
      ]
     },
     "execution_count": 12,
     "metadata": {},
     "output_type": "execute_result"
    }
   ],
   "source": [
    "arr2 = ct.SolutionArray(gas)\n",
    "arr2.read_hdf(fs_files[0], group=\"freeflame\", subgroup=\"flame\", force=True)"
   ]
  },
  {
   "cell_type": "code",
   "execution_count": 24,
   "id": "ec752fc1",
   "metadata": {},
   "outputs": [],
   "source": [
    "width = 0.08\n",
    "flame = ct.FreeFlame(gas, width=width)\n",
    "flame.set_initial_guess(data=arr2)"
   ]
  },
  {
   "cell_type": "code",
   "execution_count": 28,
   "id": "b734d585",
   "metadata": {},
   "outputs": [
    {
     "data": {
      "text/plain": [
       "array([0.1196952 , 0.1196952 , 0.1196952 , ..., 0.7014142 , 0.70141468,\n",
       "       0.70141468])"
      ]
     },
     "execution_count": 28,
     "metadata": {},
     "output_type": "execute_result"
    }
   ],
   "source": [
    "flame.velocity"
   ]
  },
  {
   "cell_type": "code",
   "execution_count": null,
   "id": "f12eaa96",
   "metadata": {},
   "outputs": [],
   "source": []
  },
  {
   "cell_type": "code",
   "execution_count": 27,
   "id": "568b60ab",
   "metadata": {},
   "outputs": [
    {
     "data": {
      "text/plain": [
       "['L',\n",
       " 'P',\n",
       " 'T',\n",
       " 'V',\n",
       " 'X',\n",
       " 'Y',\n",
       " '__class__',\n",
       " '__delattr__',\n",
       " '__dir__',\n",
       " '__doc__',\n",
       " '__eq__',\n",
       " '__format__',\n",
       " '__ge__',\n",
       " '__getattribute__',\n",
       " '__gt__',\n",
       " '__hash__',\n",
       " '__init__',\n",
       " '__init_subclass__',\n",
       " '__le__',\n",
       " '__lt__',\n",
       " '__module__',\n",
       " '__ne__',\n",
       " '__new__',\n",
       " '__reduce__',\n",
       " '__reduce_ex__',\n",
       " '__repr__',\n",
       " '__setattr__',\n",
       " '__setstate__',\n",
       " '__sizeof__',\n",
       " '__slots__',\n",
       " '__str__',\n",
       " '__subclasshook__',\n",
       " '_get_indices',\n",
       " '_get_initial_solution',\n",
       " '_interrupt',\n",
       " '_other',\n",
       " '_steady_callback',\n",
       " '_time_step_callback',\n",
       " 'boundary_emissivities',\n",
       " 'chemical_potentials',\n",
       " 'clear_stats',\n",
       " 'collect_data',\n",
       " 'concentrations',\n",
       " 'cp',\n",
       " 'cp_mass',\n",
       " 'cp_mole',\n",
       " 'creation_rates',\n",
       " 'cv',\n",
       " 'cv_mass',\n",
       " 'cv_mole',\n",
       " 'delta_enthalpy',\n",
       " 'delta_entropy',\n",
       " 'delta_gibbs',\n",
       " 'delta_standard_enthalpy',\n",
       " 'delta_standard_entropy',\n",
       " 'delta_standard_gibbs',\n",
       " 'density',\n",
       " 'density_mass',\n",
       " 'density_mole',\n",
       " 'destruction_rates',\n",
       " 'domain_index',\n",
       " 'domains',\n",
       " 'electrochemical_potentials',\n",
       " 'elemental_mass_fraction',\n",
       " 'elemental_mole_fraction',\n",
       " 'energy_enabled',\n",
       " 'enthalpy_mass',\n",
       " 'enthalpy_mole',\n",
       " 'entropy_mass',\n",
       " 'entropy_mole',\n",
       " 'equilibrium_constants',\n",
       " 'eval',\n",
       " 'eval_count_stats',\n",
       " 'eval_time_stats',\n",
       " 'extinct',\n",
       " 'fixed_temperature',\n",
       " 'fixed_temperature_location',\n",
       " 'flame',\n",
       " 'forward_rate_constants',\n",
       " 'forward_rates_of_progress',\n",
       " 'from_pandas',\n",
       " 'from_solution_array',\n",
       " 'g',\n",
       " 'gas',\n",
       " 'get_flame_speed_reaction_sensitivities',\n",
       " 'get_max_grid_points',\n",
       " 'get_refine_criteria',\n",
       " 'gibbs_mass',\n",
       " 'gibbs_mole',\n",
       " 'grid',\n",
       " 'grid_size_stats',\n",
       " 'h',\n",
       " 'heat_production_rates',\n",
       " 'heat_release_rate',\n",
       " 'inlet',\n",
       " 'int_energy',\n",
       " 'int_energy_mass',\n",
       " 'int_energy_mole',\n",
       " 'isothermal_compressibility',\n",
       " 'jacobian_count_stats',\n",
       " 'jacobian_time_stats',\n",
       " 'max_grid_points',\n",
       " 'max_time_step_count',\n",
       " 'mix_diff_coeffs',\n",
       " 'mix_diff_coeffs_mass',\n",
       " 'mix_diff_coeffs_mole',\n",
       " 'net_production_rates',\n",
       " 'net_rates_of_progress',\n",
       " 'other_components',\n",
       " 'outlet',\n",
       " 'partial_molar_cp',\n",
       " 'partial_molar_enthalpies',\n",
       " 'partial_molar_entropies',\n",
       " 'partial_molar_int_energies',\n",
       " 'partial_molar_volumes',\n",
       " 'phase',\n",
       " 'profile',\n",
       " 'radiation_enabled',\n",
       " 'read_hdf',\n",
       " 'refine',\n",
       " 'restore',\n",
       " 'restore_data',\n",
       " 'restore_steady_solution',\n",
       " 'restore_time_stepping_solution',\n",
       " 'reverse_rate_constants',\n",
       " 'reverse_rates_of_progress',\n",
       " 's',\n",
       " 'save',\n",
       " 'set_boundary_emissivities',\n",
       " 'set_fixed_temperature',\n",
       " 'set_flat_profile',\n",
       " 'set_gas_state',\n",
       " 'set_grid_min',\n",
       " 'set_initial_guess',\n",
       " 'set_interrupt',\n",
       " 'set_max_grid_points',\n",
       " 'set_max_jac_age',\n",
       " 'set_max_time_step',\n",
       " 'set_min_time_step',\n",
       " 'set_profile',\n",
       " 'set_refine_criteria',\n",
       " 'set_steady_callback',\n",
       " 'set_time_step',\n",
       " 'set_time_step_callback',\n",
       " 'set_time_step_factor',\n",
       " 'set_value',\n",
       " 'settings',\n",
       " 'show_solution',\n",
       " 'show_stats',\n",
       " 'solution',\n",
       " 'solve',\n",
       " 'solve_adjoint',\n",
       " 'soret_enabled',\n",
       " 'spread_rate',\n",
       " 'standard_cp_R',\n",
       " 'standard_enthalpies_RT',\n",
       " 'standard_entropies_R',\n",
       " 'standard_gibbs_RT',\n",
       " 'standard_int_energies_RT',\n",
       " 'thermal_conductivity',\n",
       " 'thermal_diff_coeffs',\n",
       " 'thermal_expansion_coeff',\n",
       " 'time_step_stats',\n",
       " 'to_pandas',\n",
       " 'to_solution_array',\n",
       " 'transport_model',\n",
       " 'u',\n",
       " 'value',\n",
       " 'velocity',\n",
       " 'viscosity',\n",
       " 'volume',\n",
       " 'volume_mass',\n",
       " 'volume_mole',\n",
       " 'work_value',\n",
       " 'write_csv',\n",
       " 'write_hdf']"
      ]
     },
     "execution_count": 27,
     "metadata": {},
     "output_type": "execute_result"
    }
   ],
   "source": [
    "dir(flame)\n"
   ]
  },
  {
   "cell_type": "code",
   "execution_count": 19,
   "id": "94e4526b",
   "metadata": {},
   "outputs": [
    {
     "data": {
      "text/plain": [
       "array([6859.01804931, 6859.01804931, 6859.01804961, ..., 9078.55049703,\n",
       "       9078.55111037, 9078.55111037])"
      ]
     },
     "execution_count": 19,
     "metadata": {},
     "output_type": "execute_result"
    }
   ],
   "source": [
    "arr2.s"
   ]
  },
  {
   "cell_type": "code",
   "execution_count": 23,
   "id": "346c1368",
   "metadata": {},
   "outputs": [
    {
     "data": {
      "text/plain": [
       "array([-163880.13380868, -163880.13383085, -163880.13383324, ...,\n",
       "       -576106.80503064, -576106.25921701, -576106.2592594 ])"
      ]
     },
     "execution_count": 23,
     "metadata": {},
     "output_type": "execute_result"
    }
   ],
   "source": [
    "arr2.u"
   ]
  },
  {
   "cell_type": "code",
   "execution_count": 20,
   "id": "61879bf1",
   "metadata": {},
   "outputs": [
    {
     "data": {
      "text/plain": [
       "array([0.83711215, 0.83711215, 0.83711215, ..., 4.90547968, 4.905483  ,\n",
       "       4.905483  ])"
      ]
     },
     "execution_count": 20,
     "metadata": {},
     "output_type": "execute_result"
    }
   ],
   "source": [
    "arr2.volume_mass"
   ]
  },
  {
   "cell_type": "code",
   "execution_count": 21,
   "id": "422f8771",
   "metadata": {},
   "outputs": [
    {
     "data": {
      "text/plain": [
       "array([ 24.61720982,  24.61720982,  24.61720982, ..., 140.23056899,\n",
       "       140.23066727, 140.23066727])"
      ]
     },
     "execution_count": 21,
     "metadata": {},
     "output_type": "execute_result"
    }
   ],
   "source": [
    "arr2.volume_mole"
   ]
  },
  {
   "cell_type": "code",
   "execution_count": null,
   "id": "fd6c2e41",
   "metadata": {},
   "outputs": [],
   "source": []
  },
  {
   "cell_type": "code",
   "execution_count": 16,
   "id": "93860e6a",
   "metadata": {},
   "outputs": [
    {
     "data": {
      "text/plain": [
       "['DP',\n",
       " 'DPQ',\n",
       " 'DPX',\n",
       " 'DPY',\n",
       " 'HP',\n",
       " 'HPQ',\n",
       " 'HPX',\n",
       " 'HPY',\n",
       " 'ID',\n",
       " 'P',\n",
       " 'PQ',\n",
       " 'PV',\n",
       " 'PX',\n",
       " 'P_sat',\n",
       " 'Q',\n",
       " 'SH',\n",
       " 'SP',\n",
       " 'SPQ',\n",
       " 'SPX',\n",
       " 'SPY',\n",
       " 'ST',\n",
       " 'SV',\n",
       " 'SVQ',\n",
       " 'SVX',\n",
       " 'SVY',\n",
       " 'T',\n",
       " 'TD',\n",
       " 'TDQ',\n",
       " 'TDX',\n",
       " 'TDY',\n",
       " 'TH',\n",
       " 'TP',\n",
       " 'TPQ',\n",
       " 'TPX',\n",
       " 'TPY',\n",
       " 'TQ',\n",
       " 'TV',\n",
       " 'TX',\n",
       " 'T_sat',\n",
       " 'UP',\n",
       " 'UV',\n",
       " 'UVQ',\n",
       " 'UVX',\n",
       " 'UVY',\n",
       " 'VH',\n",
       " 'X',\n",
       " 'Y',\n",
       " '__call__',\n",
       " '__class__',\n",
       " '__delattr__',\n",
       " '__dict__',\n",
       " '__dir__',\n",
       " '__doc__',\n",
       " '__eq__',\n",
       " '__format__',\n",
       " '__ge__',\n",
       " '__getattr__',\n",
       " '__getattribute__',\n",
       " '__getitem__',\n",
       " '__gt__',\n",
       " '__hash__',\n",
       " '__init__',\n",
       " '__init_subclass__',\n",
       " '__le__',\n",
       " '__lt__',\n",
       " '__module__',\n",
       " '__ne__',\n",
       " '__new__',\n",
       " '__reduce__',\n",
       " '__reduce_ex__',\n",
       " '__repr__',\n",
       " '__setattr__',\n",
       " '__sizeof__',\n",
       " '__str__',\n",
       " '__subclasshook__',\n",
       " '__weakref__',\n",
       " '_call_scalar',\n",
       " '_extra',\n",
       " '_indices',\n",
       " '_interface_n_species',\n",
       " '_interface_passthrough',\n",
       " '_meta',\n",
       " '_n_reactions',\n",
       " '_n_species',\n",
       " '_n_species2',\n",
       " '_n_total_species',\n",
       " '_output_dummy',\n",
       " '_passthrough',\n",
       " '_phase',\n",
       " '_purefluid_scalar',\n",
       " '_scalar',\n",
       " '_shape',\n",
       " '_states',\n",
       " '_strings',\n",
       " 'append',\n",
       " 'atomic_weight',\n",
       " 'atomic_weights',\n",
       " 'basis',\n",
       " 'binary_diff_coeffs',\n",
       " 'charges',\n",
       " 'chemical_potentials',\n",
       " 'collect_data',\n",
       " 'concentrations',\n",
       " 'coverages',\n",
       " 'cp',\n",
       " 'cp_mass',\n",
       " 'cp_mole',\n",
       " 'creation_rates',\n",
       " 'critical_density',\n",
       " 'critical_pressure',\n",
       " 'critical_temperature',\n",
       " 'cv',\n",
       " 'cv_mass',\n",
       " 'cv_mole',\n",
       " 'delta_enthalpy',\n",
       " 'delta_entropy',\n",
       " 'delta_gibbs',\n",
       " 'delta_standard_enthalpy',\n",
       " 'delta_standard_entropy',\n",
       " 'delta_standard_gibbs',\n",
       " 'density',\n",
       " 'density_mass',\n",
       " 'density_mole',\n",
       " 'destruction_rates',\n",
       " 'electric_potential',\n",
       " 'electrical_conductivity',\n",
       " 'electrochemical_potentials',\n",
       " 'element_index',\n",
       " 'element_name',\n",
       " 'element_names',\n",
       " 'elemental_mass_fraction',\n",
       " 'elemental_mole_fraction',\n",
       " 'enthalpy_mass',\n",
       " 'enthalpy_mole',\n",
       " 'entropy_mass',\n",
       " 'entropy_mole',\n",
       " 'equilibrate',\n",
       " 'equilibrium_constants',\n",
       " 'forward_rate_constants',\n",
       " 'forward_rates_of_progress',\n",
       " 'from_pandas',\n",
       " 'g',\n",
       " 'gibbs_mass',\n",
       " 'gibbs_mole',\n",
       " 'h',\n",
       " 'heat_production_rates',\n",
       " 'heat_release_rate',\n",
       " 'int_energy_mass',\n",
       " 'int_energy_mole',\n",
       " 'is_reversible',\n",
       " 'isothermal_compressibility',\n",
       " 'kinetics_species_index',\n",
       " 'max_temp',\n",
       " 'mean_molecular_weight',\n",
       " 'meta',\n",
       " 'min_temp',\n",
       " 'mix_diff_coeffs',\n",
       " 'mix_diff_coeffs_mass',\n",
       " 'mix_diff_coeffs_mole',\n",
       " 'modify_reaction',\n",
       " 'molecular_weights',\n",
       " 'multi_diff_coeffs',\n",
       " 'multiplier',\n",
       " 'n_atoms',\n",
       " 'n_elements',\n",
       " 'n_phases',\n",
       " 'n_reactions',\n",
       " 'n_species',\n",
       " 'n_total_species',\n",
       " 'name',\n",
       " 'net_production_rates',\n",
       " 'net_rates_of_progress',\n",
       " 'partial_molar_cp',\n",
       " 'partial_molar_enthalpies',\n",
       " 'partial_molar_entropies',\n",
       " 'partial_molar_int_energies',\n",
       " 'partial_molar_volumes',\n",
       " 'phase_of_matter',\n",
       " 'product_stoich_coeff',\n",
       " 'product_stoich_coeffs',\n",
       " 'products',\n",
       " 'reactant_stoich_coeff',\n",
       " 'reactant_stoich_coeffs',\n",
       " 'reactants',\n",
       " 'reaction',\n",
       " 'reaction_equation',\n",
       " 'reaction_equations',\n",
       " 'reaction_phase_index',\n",
       " 'reaction_type',\n",
       " 'reactions',\n",
       " 'read_csv',\n",
       " 'read_hdf',\n",
       " 'reference_pressure',\n",
       " 'restore_data',\n",
       " 'reverse_rate_constants',\n",
       " 'reverse_rates_of_progress',\n",
       " 's',\n",
       " 'set_equivalence_ratio',\n",
       " 'set_multiplier',\n",
       " 'site_density',\n",
       " 'sort',\n",
       " 'source',\n",
       " 'species',\n",
       " 'species_index',\n",
       " 'species_name',\n",
       " 'species_names',\n",
       " 'standard_cp_R',\n",
       " 'standard_enthalpies_RT',\n",
       " 'standard_entropies_R',\n",
       " 'standard_gibbs_RT',\n",
       " 'standard_int_energies_RT',\n",
       " 'thermal_conductivity',\n",
       " 'thermal_diff_coeffs',\n",
       " 'thermal_expansion_coeff',\n",
       " 'to_pandas',\n",
       " 'transport_model',\n",
       " 'u',\n",
       " 'v',\n",
       " 'viscosity',\n",
       " 'volume_mass',\n",
       " 'volume_mole',\n",
       " 'write_csv',\n",
       " 'write_hdf']"
      ]
     },
     "execution_count": 16,
     "metadata": {},
     "output_type": "execute_result"
    }
   ],
   "source": [
    "dir(arr2)"
   ]
  },
  {
   "cell_type": "code",
   "execution_count": 8,
   "id": "d95c8287",
   "metadata": {},
   "outputs": [
    {
     "data": {
      "text/plain": [
       "['/work/westgroup/harris.se/autoscience/reaction_calculator/fs_sensitivity/base_rmg_1week/param_0000/perturbed_flame_tight_0.h5',\n",
       " '/work/westgroup/harris.se/autoscience/reaction_calculator/fs_sensitivity/base_rmg_1week/param_0000/perturbed_flame_tight_1.h5',\n",
       " '/work/westgroup/harris.se/autoscience/reaction_calculator/fs_sensitivity/base_rmg_1week/param_0000/perturbed_flame_tight_10.h5',\n",
       " '/work/westgroup/harris.se/autoscience/reaction_calculator/fs_sensitivity/base_rmg_1week/param_0000/perturbed_flame_tight_11.h5',\n",
       " '/work/westgroup/harris.se/autoscience/reaction_calculator/fs_sensitivity/base_rmg_1week/param_0000/perturbed_flame_tight_12.h5',\n",
       " '/work/westgroup/harris.se/autoscience/reaction_calculator/fs_sensitivity/base_rmg_1week/param_0000/perturbed_flame_tight_13.h5',\n",
       " '/work/westgroup/harris.se/autoscience/reaction_calculator/fs_sensitivity/base_rmg_1week/param_0000/perturbed_flame_tight_14.h5',\n",
       " '/work/westgroup/harris.se/autoscience/reaction_calculator/fs_sensitivity/base_rmg_1week/param_0000/perturbed_flame_tight_15.h5',\n",
       " '/work/westgroup/harris.se/autoscience/reaction_calculator/fs_sensitivity/base_rmg_1week/param_0000/perturbed_flame_tight_16.h5',\n",
       " '/work/westgroup/harris.se/autoscience/reaction_calculator/fs_sensitivity/base_rmg_1week/param_0000/perturbed_flame_tight_17.h5',\n",
       " '/work/westgroup/harris.se/autoscience/reaction_calculator/fs_sensitivity/base_rmg_1week/param_0000/perturbed_flame_tight_18.h5',\n",
       " '/work/westgroup/harris.se/autoscience/reaction_calculator/fs_sensitivity/base_rmg_1week/param_0000/perturbed_flame_tight_19.h5',\n",
       " '/work/westgroup/harris.se/autoscience/reaction_calculator/fs_sensitivity/base_rmg_1week/param_0000/perturbed_flame_tight_2.h5',\n",
       " '/work/westgroup/harris.se/autoscience/reaction_calculator/fs_sensitivity/base_rmg_1week/param_0000/perturbed_flame_tight_20.h5',\n",
       " '/work/westgroup/harris.se/autoscience/reaction_calculator/fs_sensitivity/base_rmg_1week/param_0000/perturbed_flame_tight_21.h5',\n",
       " '/work/westgroup/harris.se/autoscience/reaction_calculator/fs_sensitivity/base_rmg_1week/param_0000/perturbed_flame_tight_22.h5',\n",
       " '/work/westgroup/harris.se/autoscience/reaction_calculator/fs_sensitivity/base_rmg_1week/param_0000/perturbed_flame_tight_23.h5',\n",
       " '/work/westgroup/harris.se/autoscience/reaction_calculator/fs_sensitivity/base_rmg_1week/param_0000/perturbed_flame_tight_24.h5',\n",
       " '/work/westgroup/harris.se/autoscience/reaction_calculator/fs_sensitivity/base_rmg_1week/param_0000/perturbed_flame_tight_25.h5',\n",
       " '/work/westgroup/harris.se/autoscience/reaction_calculator/fs_sensitivity/base_rmg_1week/param_0000/perturbed_flame_tight_26.h5',\n",
       " '/work/westgroup/harris.se/autoscience/reaction_calculator/fs_sensitivity/base_rmg_1week/param_0000/perturbed_flame_tight_27.h5',\n",
       " '/work/westgroup/harris.se/autoscience/reaction_calculator/fs_sensitivity/base_rmg_1week/param_0000/perturbed_flame_tight_28.h5',\n",
       " '/work/westgroup/harris.se/autoscience/reaction_calculator/fs_sensitivity/base_rmg_1week/param_0000/perturbed_flame_tight_29.h5',\n",
       " '/work/westgroup/harris.se/autoscience/reaction_calculator/fs_sensitivity/base_rmg_1week/param_0000/perturbed_flame_tight_3.h5',\n",
       " '/work/westgroup/harris.se/autoscience/reaction_calculator/fs_sensitivity/base_rmg_1week/param_0000/perturbed_flame_tight_30.h5',\n",
       " '/work/westgroup/harris.se/autoscience/reaction_calculator/fs_sensitivity/base_rmg_1week/param_0000/perturbed_flame_tight_31.h5',\n",
       " '/work/westgroup/harris.se/autoscience/reaction_calculator/fs_sensitivity/base_rmg_1week/param_0000/perturbed_flame_tight_32.h5',\n",
       " '/work/westgroup/harris.se/autoscience/reaction_calculator/fs_sensitivity/base_rmg_1week/param_0000/perturbed_flame_tight_33.h5',\n",
       " '/work/westgroup/harris.se/autoscience/reaction_calculator/fs_sensitivity/base_rmg_1week/param_0000/perturbed_flame_tight_34.h5',\n",
       " '/work/westgroup/harris.se/autoscience/reaction_calculator/fs_sensitivity/base_rmg_1week/param_0000/perturbed_flame_tight_35.h5',\n",
       " '/work/westgroup/harris.se/autoscience/reaction_calculator/fs_sensitivity/base_rmg_1week/param_0000/perturbed_flame_tight_36.h5',\n",
       " '/work/westgroup/harris.se/autoscience/reaction_calculator/fs_sensitivity/base_rmg_1week/param_0000/perturbed_flame_tight_37.h5',\n",
       " '/work/westgroup/harris.se/autoscience/reaction_calculator/fs_sensitivity/base_rmg_1week/param_0000/perturbed_flame_tight_38.h5',\n",
       " '/work/westgroup/harris.se/autoscience/reaction_calculator/fs_sensitivity/base_rmg_1week/param_0000/perturbed_flame_tight_39.h5',\n",
       " '/work/westgroup/harris.se/autoscience/reaction_calculator/fs_sensitivity/base_rmg_1week/param_0000/perturbed_flame_tight_4.h5',\n",
       " '/work/westgroup/harris.se/autoscience/reaction_calculator/fs_sensitivity/base_rmg_1week/param_0000/perturbed_flame_tight_40.h5',\n",
       " '/work/westgroup/harris.se/autoscience/reaction_calculator/fs_sensitivity/base_rmg_1week/param_0000/perturbed_flame_tight_41.h5',\n",
       " '/work/westgroup/harris.se/autoscience/reaction_calculator/fs_sensitivity/base_rmg_1week/param_0000/perturbed_flame_tight_42.h5',\n",
       " '/work/westgroup/harris.se/autoscience/reaction_calculator/fs_sensitivity/base_rmg_1week/param_0000/perturbed_flame_tight_43.h5',\n",
       " '/work/westgroup/harris.se/autoscience/reaction_calculator/fs_sensitivity/base_rmg_1week/param_0000/perturbed_flame_tight_44.h5',\n",
       " '/work/westgroup/harris.se/autoscience/reaction_calculator/fs_sensitivity/base_rmg_1week/param_0000/perturbed_flame_tight_45.h5',\n",
       " '/work/westgroup/harris.se/autoscience/reaction_calculator/fs_sensitivity/base_rmg_1week/param_0000/perturbed_flame_tight_46.h5',\n",
       " '/work/westgroup/harris.se/autoscience/reaction_calculator/fs_sensitivity/base_rmg_1week/param_0000/perturbed_flame_tight_47.h5',\n",
       " '/work/westgroup/harris.se/autoscience/reaction_calculator/fs_sensitivity/base_rmg_1week/param_0000/perturbed_flame_tight_48.h5',\n",
       " '/work/westgroup/harris.se/autoscience/reaction_calculator/fs_sensitivity/base_rmg_1week/param_0000/perturbed_flame_tight_49.h5',\n",
       " '/work/westgroup/harris.se/autoscience/reaction_calculator/fs_sensitivity/base_rmg_1week/param_0000/perturbed_flame_tight_5.h5',\n",
       " '/work/westgroup/harris.se/autoscience/reaction_calculator/fs_sensitivity/base_rmg_1week/param_0000/perturbed_flame_tight_50.h5',\n",
       " '/work/westgroup/harris.se/autoscience/reaction_calculator/fs_sensitivity/base_rmg_1week/param_0000/perturbed_flame_tight_6.h5',\n",
       " '/work/westgroup/harris.se/autoscience/reaction_calculator/fs_sensitivity/base_rmg_1week/param_0000/perturbed_flame_tight_7.h5',\n",
       " '/work/westgroup/harris.se/autoscience/reaction_calculator/fs_sensitivity/base_rmg_1week/param_0000/perturbed_flame_tight_8.h5',\n",
       " '/work/westgroup/harris.se/autoscience/reaction_calculator/fs_sensitivity/base_rmg_1week/param_0000/perturbed_flame_tight_9.h5']"
      ]
     },
     "execution_count": 8,
     "metadata": {},
     "output_type": "execute_result"
    }
   ],
   "source": [
    "fs_files"
   ]
  },
  {
   "cell_type": "code",
   "execution_count": null,
   "id": "d02985db",
   "metadata": {},
   "outputs": [],
   "source": []
  },
  {
   "cell_type": "code",
   "execution_count": null,
   "id": "2a6e88dc",
   "metadata": {},
   "outputs": [],
   "source": []
  },
  {
   "cell_type": "code",
   "execution_count": null,
   "id": "e44054e5",
   "metadata": {},
   "outputs": [],
   "source": []
  },
  {
   "cell_type": "code",
   "execution_count": null,
   "id": "cc9f4a66",
   "metadata": {},
   "outputs": [],
   "source": []
  },
  {
   "cell_type": "code",
   "execution_count": null,
   "id": "3095c1d2",
   "metadata": {},
   "outputs": [],
   "source": []
  }
 ],
 "metadata": {
  "kernelspec": {
   "display_name": "Python 3 (ipykernel)",
   "language": "python",
   "name": "python3"
  },
  "language_info": {
   "codemirror_mode": {
    "name": "ipython",
    "version": 3
   },
   "file_extension": ".py",
   "mimetype": "text/x-python",
   "name": "python",
   "nbconvert_exporter": "python",
   "pygments_lexer": "ipython3",
   "version": "3.7.12"
  }
 },
 "nbformat": 4,
 "nbformat_minor": 5
}

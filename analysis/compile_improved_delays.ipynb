{
 "cells": [
  {
   "cell_type": "code",
   "execution_count": 1,
   "id": "8e974937",
   "metadata": {},
   "outputs": [],
   "source": [
    "# notebook to compile all of the csvs into a single array\n",
    "import os\n",
    "import glob\n",
    "import pandas as pd\n",
    "import numpy as np"
   ]
  },
  {
   "cell_type": "code",
   "execution_count": 2,
   "id": "53fb48db",
   "metadata": {},
   "outputs": [],
   "source": [
    "mech_dir = '/work/westgroup/harris.se/autoscience/reaction_calculator/delay_uncertainty/improved_1week'"
   ]
  },
  {
   "cell_type": "code",
   "execution_count": 3,
   "id": "d520579c",
   "metadata": {},
   "outputs": [
    {
     "name": "stdout",
     "output_type": "stream",
     "text": [
      "N=130 species\n",
      "M=2523 reactions\n"
     ]
    }
   ],
   "source": [
    "# compile everything into a humongous array\n",
    "\n",
    "#             table1 table2 ... table12\n",
    "# species 1\n",
    "# species 2\n",
    "# .........\n",
    "# species N\n",
    "# reaction 1\n",
    "# reaction 2\n",
    "# .........\n",
    "# reaction M\n",
    "\n",
    "\n",
    "# load examples to get the right size\n",
    "test_sp_file = os.path.join(mech_dir, 'table_0001', 'species_delays_0001.npy')\n",
    "test_rxn_file = os.path.join(mech_dir, 'table_0001', 'reaction_delays_0001_0000.npy')\n",
    "\n",
    "K = 51\n",
    "N = np.load(test_sp_file).shape[0]\n",
    "M = np.load(test_rxn_file).shape[0]\n",
    "print(f'N={N}', 'species')\n",
    "print(f'M={M}', 'reactions')\n",
    "\n",
    "all_delays_ever = np.zeros((N + M, 12 * K))\n",
    "\n",
    "\n",
    "for table_index in range(1, 13):\n",
    "    table_dir = os.path.join(mech_dir, f'table_{table_index:04}')\n",
    "    \n",
    "    rxn_files = glob.glob(os.path.join(table_dir, f'reaction_delays_{table_index:04}_*.npy'))\n",
    "    \n",
    "    # make sure the broken up calculations are all complete\n",
    "    assert len(rxn_files) == 51, table_index\n",
    "    \n",
    "    \n",
    "    # insert all the species delays for that table\n",
    "    sp_file = os.path.join(table_dir, f'species_delays_{table_index:04}.npy')\n",
    "    if not os.path.exists(sp_file):\n",
    "        print(f'missing species delay file {sp_file}')\n",
    "        continue\n",
    "        raise OSError(f'missing species delay file {sp_file}')\n",
    "\n",
    "    all_delays_ever[0:N, (table_index - 1) * K: table_index * K] = np.load(sp_file)\n",
    "    \n",
    "    \n",
    "    # fill in the reaction files\n",
    "    rxn_table = np.zeros((M, K))\n",
    "    for i in range(0, 51):\n",
    "        rxn_delay_file = os.path.join(table_dir, f'reaction_delays_{table_index:04}_{i * 50:04}.npy')\n",
    "        if not os.path.exists(rxn_delay_file):\n",
    "            print('missing: ', i, rxn_delay_file[-50:])\n",
    "            continue  # TODO use assert and do not continue\n",
    "        rxn_table += np.load(rxn_delay_file)\n",
    "    all_delays_ever[N:, (table_index - 1) * K: table_index * K] = rxn_table"
   ]
  },
  {
   "cell_type": "code",
   "execution_count": 4,
   "id": "89926290",
   "metadata": {},
   "outputs": [],
   "source": [
    "# save the resulting delay array\n",
    "np.save(os.path.join(mech_dir, 'total_perturbed_mech_delays.npy'), all_delays_ever)"
   ]
  },
  {
   "cell_type": "code",
   "execution_count": 5,
   "id": "df846415",
   "metadata": {},
   "outputs": [],
   "source": [
    "K = 51"
   ]
  },
  {
   "cell_type": "code",
   "execution_count": 6,
   "id": "45c3035f",
   "metadata": {},
   "outputs": [],
   "source": [
    "# Also compile the base delays into a giant 1 x (12 * K) array\n",
    "total_base_delays = np.zeros(12 * K)\n",
    "for table_index in range(1, 13):\n",
    "    table_dir = os.path.join(mech_dir, f'table_{table_index:04}')\n",
    "    base_delay_file = os.path.join(table_dir, f'base_delays_{table_index:04}.npy')\n",
    "    if not os.path.exists(base_delay_file):\n",
    "        raise OSError(f'Missing base delay file {base_delay_file}')\n",
    "    \n",
    "    total_base_delays[(table_index - 1) * K:table_index * K] = np.load(base_delay_file)\n"
   ]
  },
  {
   "cell_type": "code",
   "execution_count": 7,
   "id": "e11a3521",
   "metadata": {},
   "outputs": [
    {
     "data": {
      "text/plain": [
       "0"
      ]
     },
     "execution_count": 7,
     "metadata": {},
     "output_type": "execute_result"
    }
   ],
   "source": [
    "np.sum(total_base_delays == 0)"
   ]
  },
  {
   "cell_type": "code",
   "execution_count": 8,
   "id": "1c86c5d2",
   "metadata": {},
   "outputs": [],
   "source": [
    "# save the resulting base delay array\n",
    "np.save(os.path.join(mech_dir, 'total_base_delays.npy'), total_base_delays)"
   ]
  },
  {
   "cell_type": "code",
   "execution_count": 9,
   "id": "117887cb",
   "metadata": {},
   "outputs": [
    {
     "data": {
      "text/plain": [
       "8.137254901960784"
      ]
     },
     "execution_count": 9,
     "metadata": {},
     "output_type": "execute_result"
    }
   ],
   "source": [
    "415 / 51"
   ]
  },
  {
   "cell_type": "code",
   "execution_count": 10,
   "id": "72017edb",
   "metadata": {},
   "outputs": [
    {
     "data": {
      "text/plain": [
       "7"
      ]
     },
     "execution_count": 10,
     "metadata": {},
     "output_type": "execute_result"
    }
   ],
   "source": [
    "415 % 51"
   ]
  },
  {
   "cell_type": "code",
   "execution_count": null,
   "id": "dc77042f",
   "metadata": {},
   "outputs": [],
   "source": []
  },
  {
   "cell_type": "code",
   "execution_count": 11,
   "id": "049fe934",
   "metadata": {},
   "outputs": [],
   "source": [
    "# see how many species calcs zero\n",
    "zeros = 0\n",
    "cols = set()\n",
    "rows = set()\n",
    "for i in range(0, 130):\n",
    "    for j in range(all_delays_ever.shape[1]):\n",
    "#         if j == 415:\n",
    "#             continue\n",
    "        if all_delays_ever[i, j] == 0:\n",
    "            print(i, j)\n",
    "#             cols.add(j)\n",
    "#             if j != 415:\n",
    "#                 rows.add(i)\n",
    "#             zeros += 1\n",
    "# print(zeros, '/', 130 * all_delays_ever.shape[1])\n",
    "# print(cols)\n",
    "# print(rows)"
   ]
  },
  {
   "cell_type": "code",
   "execution_count": 12,
   "id": "1ce81e8f",
   "metadata": {},
   "outputs": [
    {
     "data": {
      "text/plain": [
       "array([0.18733354, 0.16153529, 0.14379935, 0.13241472, 0.12620931,\n",
       "       0.12439238, 0.12643819, 0.13201469, 0.14091782, 0.15305805,\n",
       "       0.1684413 , 0.18720999, 0.20972757, 0.23670852, 0.26882608,\n",
       "       0.30216247, 0.32439019, 0.32887148, 0.31832012, 0.2978992 ,\n",
       "       0.27209864, 0.24416296, 0.21623701, 0.1896386 , 0.16510343,\n",
       "       0.14297442, 0.12333946, 0.10612847, 0.09118029, 0.07828747,\n",
       "       0.06722547, 0.05777095, 0.04971249, 0.04285637, 0.03702899,\n",
       "       0.03207731, 0.02786805, 0.02428616, 0.02123309, 0.01862487,\n",
       "       0.01639034, 0.01446942, 0.01281157, 0.01137452, 0.01012297,\n",
       "       0.00902762, 0.00806419, 0.00721269, 0.00645669, 0.00578274,\n",
       "       0.00517983, 0.09192727, 0.07388871, 0.06052625, 0.05060988,\n",
       "       0.04327145, 0.03789607, 0.03404637, 0.03140765, 0.02975481,\n",
       "       0.02892559, 0.0288038 , 0.02930771, 0.03038203, 0.03199415,\n",
       "       0.03413261, 0.03680869, 0.04005785, 0.04393614, 0.04847355,\n",
       "       0.05341743, 0.05774054, 0.06012919, 0.0601475 , 0.0581676 ,\n",
       "       0.05480598, 0.05063223, 0.04608696, 0.04148153, 0.03702142,\n",
       "       0.03283226, 0.02898232, 0.02550032, 0.02238865, 0.01963311,\n",
       "       0.01720976, 0.01508962, 0.01324183, 0.01163576, 0.01024218,\n",
       "       0.00903404, 0.00798677, 0.00707841, 0.00628952, 0.00560309,\n",
       "       0.00500435, 0.00448052, 0.00402066, 0.0036154 , 0.00325679,\n",
       "       0.00293814, 0.00265379, 0.06678736, 0.05248223, 0.04187601,\n",
       "       0.03395438, 0.02800524, 0.0235242 , 0.02015076, 0.01762514,\n",
       "       0.01575917, 0.01441552, 0.01349347, 0.01291888, 0.01263717,\n",
       "       0.01260848, 0.01280452, 0.01320673, 0.01380548, 0.01459998,\n",
       "       0.01559782, 0.01681211, 0.01825213, 0.01988913, 0.02155883,\n",
       "       0.02289102, 0.02353286, 0.02340317, 0.02262522, 0.02138978,\n",
       "       0.01987635, 0.01822789, 0.01654861, 0.01490964, 0.01335633,\n",
       "       0.01191489, 0.01059796, 0.00940882, 0.0083446 , 0.0073986 ,\n",
       "       0.00656198, 0.00582486, 0.00517706, 0.00460871, 0.00411042,\n",
       "       0.00367355, 0.00329025, 0.00295349, 0.00265703, 0.00239539,\n",
       "       0.00216379, 0.0019581 , 0.00177475, 0.14928859, 0.12356326,\n",
       "       0.10493114, 0.09178723, 0.08303548, 0.07794975, 0.076076  ,\n",
       "       0.07716532, 0.0811248 , 0.08797884, 0.09783133, 0.11082862,\n",
       "       0.1271138 , 0.14674042, 0.16931302, 0.19241375, 0.21007265,\n",
       "       0.21744087, 0.21452541, 0.20394042, 0.18860431, 0.17088815,\n",
       "       0.15248329, 0.13450049, 0.11761228, 0.10218043, 0.08835576,\n",
       "       0.07615192, 0.06549825, 0.05627648, 0.04834565, 0.0415582 ,\n",
       "       0.03577011, 0.03084669, 0.02666553, 0.02311763, 0.02010736,\n",
       "       0.01755173, 0.01537934, 0.01352915, 0.01194928, 0.01059583,\n",
       "       0.00943175, 0.00842599, 0.00755251, 0.00678967, 0.00611946,\n",
       "       0.00552704, 0.0050002 , 0.00452894, 0.00410517, 0.07977065,\n",
       "       0.06306603, 0.05059677, 0.04123719, 0.03419288, 0.02889937,\n",
       "       0.02495398, 0.02206829, 0.02003666, 0.01871482, 0.01800358,\n",
       "       0.01783801, 0.0181799 , 0.01901152, 0.02033016, 0.02214294,\n",
       "       0.0244588 , 0.02727368, 0.03053106, 0.03401141, 0.03716824,\n",
       "       0.03927578, 0.03993431, 0.03921316, 0.03742929, 0.03494482,\n",
       "       0.03207327, 0.02905396, 0.02605542, 0.02318814, 0.02051849,\n",
       "       0.01808087, 0.01588746, 0.01393568, 0.01221373, 0.01070446,\n",
       "       0.00938818, 0.00824442, 0.00725313, 0.0063954 , 0.00565383,\n",
       "       0.00501271, 0.00445804, 0.00397749, 0.00356029, 0.00319709,\n",
       "       0.00287984, 0.00260163, 0.00235657, 0.00213965, 0.00194666,\n",
       "       0.05903372, 0.04596022, 0.03623528, 0.02893829, 0.02342325,\n",
       "       0.01923109, 0.0160336 , 0.01359387, 0.01174009, 0.01034713,\n",
       "       0.00932387, 0.00860409, 0.00814039, 0.00789951, 0.00785916,\n",
       "       0.00800576, 0.00833247, 0.00883752, 0.0095219 , 0.01038529,\n",
       "       0.01141756, 0.01257895, 0.0137619 , 0.01476854, 0.01539004,\n",
       "       0.01552969, 0.01521873, 0.01455619, 0.01365539, 0.01261707,\n",
       "       0.01152048, 0.01042334, 0.00936491, 0.00836994, 0.00745233,\n",
       "       0.00661819, 0.00586823, 0.00519968, 0.00460758, 0.00408577,\n",
       "       0.0036276 , 0.00322633, 0.00287547, 0.0025689 , 0.00230104,\n",
       "       0.0020668 , 0.00186167, 0.00168164, 0.0015232 , 0.00138329,\n",
       "       0.00125926, 0.12389454, 0.10017622, 0.08252011, 0.06946317,\n",
       "       0.05999114, 0.05340748, 0.04925666, 0.04726624, 0.04730907,\n",
       "       0.04937079, 0.05351627, 0.0598423 , 0.0684006 , 0.07906943,\n",
       "       0.09133089, 0.10389421, 0.11448571, 0.12082354, 0.12202363,\n",
       "       0.11863893, 0.11189199, 0.10306551, 0.09322628, 0.08315884,\n",
       "       0.07339122, 0.06424839, 0.05590629, 0.04843702, 0.0418439 ,\n",
       "       0.03608731, 0.03110309, 0.02681522, 0.02314431, 0.02001279,\n",
       "       0.01734809, 0.0150842 , 0.01316228, 0.0115307 , 0.01014459,\n",
       "       0.00896538, 0.00796005, 0.00710054, 0.00636309, 0.00572766,\n",
       "       0.00517742, 0.00469826, 0.0042784 , 0.00390803, 0.00357902,\n",
       "       0.00328467, 0.00301946, 0.06855084, 0.05380794, 0.04275585,\n",
       "       0.03440541, 0.02805736, 0.02321312, 0.01951467, 0.01670402,\n",
       "       0.0145954 , 0.01305599, 0.01199279, 0.01134335, 0.01106902,\n",
       "       0.01114974, 0.01157904, 0.01235788, 0.01348543, 0.01494411,\n",
       "       0.01667496, 0.01854163, 0.02030251, 0.02165481, 0.02236724,\n",
       "       0.02237303, 0.02174896, 0.02064424, 0.01922142, 0.01762421,\n",
       "       0.01596567, 0.0143277 , 0.01276523, 0.01131185, 0.00998516,\n",
       "       0.00879143, 0.00772919, 0.00679206, 0.00597079, 0.00525471,\n",
       "       0.0046327 , 0.00409386, 0.00362786, 0.0032252 , 0.0028773 ,\n",
       "       0.00257651, 0.00231608, 0.0020901 , 0.00189347, 0.00172176,\n",
       "       0.00157117, 0.00143847, 0.0013209 , 0.05396276, 0.04178444,\n",
       "       0.03274496, 0.02596992, 0.02084718, 0.01694408, 0.01395156,\n",
       "       0.01164708, 0.00986893, 0.00849913, 0.0074512 , 0.00666187,\n",
       "       0.00608503, 0.00568773, 0.00544707, 0.00534811, 0.00538197,\n",
       "       0.00554414, 0.0058321 , 0.00624171, 0.0067609 , 0.00735954,\n",
       "       0.00797693, 0.00852016, 0.00889147, 0.00903054, 0.00893128,\n",
       "       0.00862771, 0.00817172, 0.0076167 , 0.00700907, 0.00638531,\n",
       "       0.00577195, 0.00518697, 0.00464149, 0.00414144, 0.00368902,\n",
       "       0.00328383, 0.0029238 , 0.00260585, 0.00232637, 0.00208155,\n",
       "       0.00186757, 0.00168081, 0.0015179 , 0.00137573, 0.00125153,\n",
       "       0.0011428 , 0.00104735, 0.00096326, 0.00088886, 0.105945  ,\n",
       "       0.08481398, 0.06892754, 0.05697049, 0.04801665, 0.0414163 ,\n",
       "       0.03672194, 0.03363856, 0.03198865, 0.03168677, 0.03271397,\n",
       "       0.03508504, 0.03879695, 0.04374891, 0.04963224, 0.05582379,\n",
       "       0.06139616, 0.06538356, 0.06717294, 0.0666748 , 0.06421132,\n",
       "       0.06030258, 0.05549116, 0.05024454, 0.04492019, 0.03976707,\n",
       "       0.03494282, 0.0305349 , 0.02658028, 0.02308152, 0.02001926,\n",
       "       0.01736129, 0.01506897, 0.01310152, 0.01141889, 0.00998332,\n",
       "       0.00876034, 0.00771909, 0.00683238, 0.00607653, 0.00543113,\n",
       "       0.00487871, 0.00440437, 0.00399553, 0.00364155, 0.0033335 ,\n",
       "       0.00306385, 0.00282634, 0.0026157 , 0.00242756, 0.00225826,\n",
       "       0.05922172, 0.04630426, 0.03662391, 0.02930341, 0.02372367,\n",
       "       0.0194433 , 0.01614527, 0.01359999, 0.01164058, 0.01014591,\n",
       "       0.00902863, 0.00822691, 0.00769862, 0.00741688, 0.00736624,\n",
       "       0.00753835, 0.0079259 , 0.00851363, 0.00926621, 0.01011566,\n",
       "       0.01095741, 0.01166673, 0.01213426, 0.01229821, 0.01215308,\n",
       "       0.01173723, 0.0111128 , 0.01034791, 0.00950507, 0.00863553,\n",
       "       0.00777787, 0.00695886, 0.00619543, 0.00549679, 0.00486652,\n",
       "       0.00430423, 0.00380694, 0.00337011, 0.00298837, 0.00265605,\n",
       "       0.00236754, 0.00211748, 0.00190091, 0.00171334, 0.00155075,\n",
       "       0.00140959, 0.00128673, 0.00117948, 0.00108551, 0.00100279,\n",
       "       0.00092962, 0.04411001, 0.03410303, 0.02666224, 0.02107347,\n",
       "       0.01683621, 0.01359593, 0.01109933, 0.00916322, 0.00765436,\n",
       "       0.00647503, 0.00555316, 0.00483545, 0.00428255, 0.00386559,\n",
       "       0.00356375, 0.00336243, 0.00325185, 0.00322565, 0.00327932,\n",
       "       0.00340799, 0.00360331, 0.00384958, 0.00412083, 0.00438145,\n",
       "       0.00459276, 0.00472309, 0.00475527, 0.0046882 , 0.00453325,\n",
       "       0.00430905, 0.00403651, 0.00373547, 0.00342275, 0.00311155,\n",
       "       0.00281141, 0.00252872, 0.00226729, 0.00202895, 0.00181408,\n",
       "       0.00162208, 0.0014517 , 0.00130129, 0.00116904, 0.00105309,\n",
       "       0.0009516 , 0.00086286, 0.00078526, 0.00071734, 0.00065781,\n",
       "       0.00060551, 0.00055941])"
      ]
     },
     "execution_count": 12,
     "metadata": {},
     "output_type": "execute_result"
    }
   ],
   "source": [
    "all_delays_ever[67, :]"
   ]
  },
  {
   "cell_type": "code",
   "execution_count": 13,
   "id": "50c16177",
   "metadata": {},
   "outputs": [
    {
     "name": "stdout",
     "output_type": "stream",
     "text": [
      "668 / 2653\n"
     ]
    }
   ],
   "source": [
    "# see how many rows are completely zero\n",
    "zero_rows = 0\n",
    "zero_row_set = set()\n",
    "for i in range(0, all_delays_ever.shape[0]):\n",
    "    if np.sum(all_delays_ever[i,:]) == 0:\n",
    "        zero_rows += 1\n",
    "        zero_row_set.add(i)\n",
    "print(zero_rows, '/', all_delays_ever.shape[0])"
   ]
  },
  {
   "cell_type": "code",
   "execution_count": null,
   "id": "7974f48d",
   "metadata": {},
   "outputs": [],
   "source": []
  },
  {
   "cell_type": "code",
   "execution_count": 14,
   "id": "934904f9",
   "metadata": {},
   "outputs": [],
   "source": [
    "# print out what's missing - for debugging\n",
    "for table_index in range(1, 13):\n",
    "    table_dir = os.path.join(mech_dir, f'table_{table_index:04}')\n",
    "    \n",
    "    for i in range(0, 51):\n",
    "        delay_file = os.path.join(table_dir, f'reaction_delays_{table_index:04}_{i * 50:04}.npy')\n",
    "        if not os.path.exists(delay_file):\n",
    "            print('missing: ', i, delay_file[-50:])"
   ]
  },
  {
   "cell_type": "code",
   "execution_count": null,
   "id": "be5e7218",
   "metadata": {},
   "outputs": [],
   "source": []
  },
  {
   "cell_type": "code",
   "execution_count": 15,
   "id": "b809acac",
   "metadata": {},
   "outputs": [],
   "source": [
    "for j in range(0, all_delays_ever.shape[1]):\n",
    "    for i in range(0, all_delays_ever.shape[0]):\n",
    "        if all_delays_ever[i, j] == 0 and i not in zero_row_set:\n",
    "            print(f'({i}, {j}) is blank\\ttable {int(j / 51) + 1}\\tblock {int((i - 130) / 50)}')"
   ]
  },
  {
   "cell_type": "code",
   "execution_count": null,
   "id": "1b0cbb28",
   "metadata": {},
   "outputs": [],
   "source": [
    "# count total zeros\n",
    "np.sum(all_delays_ever == 0)"
   ]
  },
  {
   "cell_type": "code",
   "execution_count": null,
   "id": "fca0806d",
   "metadata": {},
   "outputs": [],
   "source": [
    "668 * 51 * 12"
   ]
  },
  {
   "cell_type": "code",
   "execution_count": null,
   "id": "2caea776",
   "metadata": {},
   "outputs": [],
   "source": []
  },
  {
   "cell_type": "code",
   "execution_count": null,
   "id": "81ded304",
   "metadata": {},
   "outputs": [],
   "source": [
    "all_delays_ever[:, 415]"
   ]
  },
  {
   "cell_type": "code",
   "execution_count": null,
   "id": "33cd4d72",
   "metadata": {},
   "outputs": [],
   "source": [
    "# /work/westgroup/harris.se/autoscience/reaction_calculator/delay_uncertainty/base_rmg_1week/chem_annotated.inp"
   ]
  }
 ],
 "metadata": {
  "kernelspec": {
   "display_name": "Python 3 (ipykernel)",
   "language": "python",
   "name": "python3"
  },
  "language_info": {
   "codemirror_mode": {
    "name": "ipython",
    "version": 3
   },
   "file_extension": ".py",
   "mimetype": "text/x-python",
   "name": "python",
   "nbconvert_exporter": "python",
   "pygments_lexer": "ipython3",
   "version": "3.7.12"
  }
 },
 "nbformat": 4,
 "nbformat_minor": 5
}

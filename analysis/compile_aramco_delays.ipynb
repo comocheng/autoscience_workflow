{
 "cells": [
  {
   "cell_type": "code",
   "execution_count": 1,
   "id": "8e974937",
   "metadata": {},
   "outputs": [],
   "source": [
    "# notebook to compile all of the csvs into a single array\n",
    "import os\n",
    "import glob\n",
    "import pandas as pd\n",
    "import numpy as np"
   ]
  },
  {
   "cell_type": "code",
   "execution_count": 2,
   "id": "53fb48db",
   "metadata": {},
   "outputs": [],
   "source": [
    "mech_dir = '/work/westgroup/harris.se/autoscience/reaction_calculator/delay_uncertainty/aramco'\n",
    "# mech_dir = '/work/westgroup/harris.se/autoscience/reaction_calculator/delay_uncertainty/base_rmg24'\n"
   ]
  },
  {
   "cell_type": "code",
   "execution_count": null,
   "id": "d520579c",
   "metadata": {},
   "outputs": [],
   "source": [
    "# compile everything into a humongous array\n",
    "\n",
    "#             table1 table2 ... table12\n",
    "# species 1\n",
    "# species 2\n",
    "# .........\n",
    "# species N\n",
    "# reaction 1\n",
    "# reaction 2\n",
    "# .........\n",
    "# reaction M\n",
    "\n",
    "\n",
    "# load examples to get the right size\n",
    "test_sp_file = os.path.join(mech_dir, 'table_0001', 'species_delays_0001.npy')\n",
    "test_rxn_file = os.path.join(mech_dir, 'table_0001', 'reaction_delays_0001_0000.npy')\n",
    "\n",
    "K = 51\n",
    "N = np.load(test_sp_file).shape[0]\n",
    "M = np.load(test_rxn_file).shape[0]\n",
    "print(f'N={N}', 'species')\n",
    "print(f'M={M}', 'reactions')\n",
    "\n",
    "all_delays_ever = np.zeros((N + M, 12 * K))\n",
    "\n",
    "\n",
    "for table_index in range(1, 13):\n",
    "    table_dir = os.path.join(mech_dir, f'table_{table_index:04}')\n",
    "    \n",
    "    rxn_files = glob.glob(os.path.join(table_dir, f'reaction_delays_{table_index:04}_*.npy'))\n",
    "    \n",
    "    # make sure the broken up calculations are all complete\n",
    "    assert len(rxn_files) == 51, table_index\n",
    "    \n",
    "    \n",
    "    # insert all the species delays for that table\n",
    "    sp_file = os.path.join(table_dir, f'species_delays_{table_index:04}.npy')\n",
    "    if not os.path.exists(sp_file):\n",
    "        print(f'missing species delay file {sp_file}')\n",
    "        continue\n",
    "        raise OSError(f'missing species delay file {sp_file}')\n",
    "\n",
    "    all_delays_ever[0:N, (table_index - 1) * K: table_index * K] = np.load(sp_file)\n",
    "    \n",
    "    \n",
    "    # fill in the reaction files\n",
    "    rxn_table = np.zeros((M, K))\n",
    "    for i in range(0, 51):\n",
    "        rxn_delay_file = os.path.join(table_dir, f'reaction_delays_{table_index:04}_{i * 50:04}.npy')\n",
    "        if not os.path.exists(rxn_delay_file):\n",
    "            print('missing: ', i, rxn_delay_file[-50:])\n",
    "            continue  # TODO use assert and do not continue\n",
    "        rxn_table += np.load(rxn_delay_file)\n",
    "    all_delays_ever[N:, (table_index - 1) * K: table_index * K] = rxn_table"
   ]
  },
  {
   "cell_type": "code",
   "execution_count": null,
   "id": "89926290",
   "metadata": {},
   "outputs": [],
   "source": [
    "# save the resulting delay array\n",
    "np.save(os.path.join(mech_dir, 'total_perturbed_mech_delays.npy'), all_delays_ever)"
   ]
  },
  {
   "cell_type": "code",
   "execution_count": 4,
   "id": "df846415",
   "metadata": {},
   "outputs": [],
   "source": [
    "K = 51"
   ]
  },
  {
   "cell_type": "code",
   "execution_count": 5,
   "id": "45c3035f",
   "metadata": {},
   "outputs": [],
   "source": [
    "# Also compile the base delays into a giant 1 x (12 * K) array\n",
    "total_base_delays = np.zeros(12 * K)\n",
    "for table_index in range(1, 13):\n",
    "    table_dir = os.path.join(mech_dir, f'table_{table_index:04}')\n",
    "    base_delay_file = os.path.join(table_dir, f'base_delays_{table_index:04}.npy')\n",
    "    if not os.path.exists(base_delay_file):\n",
    "        raise OSError(f'Missing base delay file {base_delay_file}')\n",
    "    \n",
    "    total_base_delays[(table_index - 1) * K:table_index * K] = np.load(base_delay_file)\n"
   ]
  },
  {
   "cell_type": "code",
   "execution_count": 7,
   "id": "e11a3521",
   "metadata": {},
   "outputs": [
    {
     "data": {
      "text/plain": [
       "0"
      ]
     },
     "execution_count": 7,
     "metadata": {},
     "output_type": "execute_result"
    }
   ],
   "source": [
    "np.sum(total_base_delays == 0)"
   ]
  },
  {
   "cell_type": "code",
   "execution_count": 8,
   "id": "1c86c5d2",
   "metadata": {},
   "outputs": [],
   "source": [
    "# save the resulting base delay array\n",
    "np.save(os.path.join(mech_dir, 'total_base_delays.npy'), total_base_delays)"
   ]
  },
  {
   "cell_type": "code",
   "execution_count": null,
   "id": "117887cb",
   "metadata": {},
   "outputs": [],
   "source": [
    "415 / 51"
   ]
  },
  {
   "cell_type": "code",
   "execution_count": null,
   "id": "72017edb",
   "metadata": {},
   "outputs": [],
   "source": [
    "415 % 51"
   ]
  },
  {
   "cell_type": "code",
   "execution_count": null,
   "id": "dc77042f",
   "metadata": {},
   "outputs": [],
   "source": []
  },
  {
   "cell_type": "code",
   "execution_count": null,
   "id": "049fe934",
   "metadata": {},
   "outputs": [],
   "source": [
    "# see how many species calcs zero\n",
    "zeros = 0\n",
    "cols = set()\n",
    "rows = set()\n",
    "for i in range(0, 130):\n",
    "    for j in range(all_delays_ever.shape[1]):\n",
    "#         if j == 415:\n",
    "#             continue\n",
    "        if all_delays_ever[i, j] == 0:\n",
    "            print(i, j)\n",
    "#             cols.add(j)\n",
    "#             if j != 415:\n",
    "#                 rows.add(i)\n",
    "#             zeros += 1\n",
    "# print(zeros, '/', 130 * all_delays_ever.shape[1])\n",
    "# print(cols)\n",
    "# print(rows)"
   ]
  },
  {
   "cell_type": "code",
   "execution_count": null,
   "id": "1ce81e8f",
   "metadata": {},
   "outputs": [],
   "source": [
    "all_delays_ever[67, :]"
   ]
  },
  {
   "cell_type": "code",
   "execution_count": null,
   "id": "50c16177",
   "metadata": {},
   "outputs": [],
   "source": [
    "# see how many rows are completely zero\n",
    "zero_rows = 0\n",
    "zero_row_set = set()\n",
    "for i in range(0, all_delays_ever.shape[0]):\n",
    "    if np.sum(all_delays_ever[i,:]) == 0:\n",
    "        zero_rows += 1\n",
    "        zero_row_set.add(i)\n",
    "print(zero_rows, '/', all_delays_ever.shape[0])"
   ]
  },
  {
   "cell_type": "code",
   "execution_count": null,
   "id": "7974f48d",
   "metadata": {},
   "outputs": [],
   "source": []
  },
  {
   "cell_type": "code",
   "execution_count": null,
   "id": "934904f9",
   "metadata": {},
   "outputs": [],
   "source": [
    "# print out what's missing - for debugging\n",
    "for table_index in range(1, 13):\n",
    "    table_dir = os.path.join(mech_dir, f'table_{table_index:04}')\n",
    "    \n",
    "    for i in range(0, 51):\n",
    "        delay_file = os.path.join(table_dir, f'reaction_delays_{table_index:04}_{i * 50:04}.npy')\n",
    "        if not os.path.exists(delay_file):\n",
    "            print('missing: ', i, delay_file[-50:])"
   ]
  },
  {
   "cell_type": "code",
   "execution_count": null,
   "id": "be5e7218",
   "metadata": {},
   "outputs": [],
   "source": []
  },
  {
   "cell_type": "code",
   "execution_count": null,
   "id": "b809acac",
   "metadata": {},
   "outputs": [],
   "source": [
    "for j in range(0, all_delays_ever.shape[1]):\n",
    "    for i in range(0, all_delays_ever.shape[0]):\n",
    "        if all_delays_ever[i, j] == 0 and i not in zero_row_set:\n",
    "            print(f'({i}, {j}) is blank\\ttable {int(j / 51) + 1}\\tblock {int((i - 130) / 50)}')"
   ]
  },
  {
   "cell_type": "code",
   "execution_count": null,
   "id": "1b0cbb28",
   "metadata": {},
   "outputs": [],
   "source": [
    "# count total zeros\n",
    "np.sum(all_delays_ever == 0)"
   ]
  },
  {
   "cell_type": "code",
   "execution_count": null,
   "id": "fca0806d",
   "metadata": {},
   "outputs": [],
   "source": [
    "668 * 51 * 12"
   ]
  },
  {
   "cell_type": "code",
   "execution_count": null,
   "id": "2caea776",
   "metadata": {},
   "outputs": [],
   "source": []
  },
  {
   "cell_type": "code",
   "execution_count": null,
   "id": "81ded304",
   "metadata": {},
   "outputs": [],
   "source": [
    "all_delays_ever[:, 415]"
   ]
  },
  {
   "cell_type": "code",
   "execution_count": null,
   "id": "33cd4d72",
   "metadata": {},
   "outputs": [],
   "source": [
    "# /work/westgroup/harris.se/autoscience/reaction_calculator/delay_uncertainty/base_rmg_1week/chem_annotated.inp"
   ]
  }
 ],
 "metadata": {
  "kernelspec": {
   "display_name": "Python 3 (ipykernel)",
   "language": "python",
   "name": "python3"
  },
  "language_info": {
   "codemirror_mode": {
    "name": "ipython",
    "version": 3
   },
   "file_extension": ".py",
   "mimetype": "text/x-python",
   "name": "python",
   "nbconvert_exporter": "python",
   "pygments_lexer": "ipython3",
   "version": "3.7.12"
  }
 },
 "nbformat": 4,
 "nbformat_minor": 5
}

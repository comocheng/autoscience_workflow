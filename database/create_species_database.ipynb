{
 "cells": [
  {
   "cell_type": "code",
   "execution_count": 1,
   "id": "4cc9ad1b",
   "metadata": {},
   "outputs": [],
   "source": [
    "# script to create species database out of existing species_list.csv\n",
    "\n",
    "# the problem is that we're currently using SMILES, and that's not actually unique and it's starting to cause problems"
   ]
  },
  {
   "cell_type": "code",
   "execution_count": 2,
   "id": "32a766bc",
   "metadata": {},
   "outputs": [
    {
     "name": "stderr",
     "output_type": "stream",
     "text": [
      "WARNING:root:Optional package dependency \"xlwt\" not loaded. Some output features will not work.\n"
     ]
    },
    {
     "data": {
      "text/plain": [
       "<module 'thermokinetic_fun' from '/work/westgroup/harris.se/autoscience/reaction_calculator/dft/thermokinetic_fun.py'>"
      ]
     },
     "execution_count": 2,
     "metadata": {},
     "output_type": "execute_result"
    }
   ],
   "source": [
    "import os\n",
    "import sys\n",
    "import pandas as pd\n",
    "\n",
    "import rmgpy.chemkin\n",
    "\n",
    "sys.path.append('/work/westgroup/harris.se/autoscience/reaction_calculator/dft')\n",
    "import importlib\n",
    "import thermokinetic_fun\n",
    "importlib.reload(thermokinetic_fun)"
   ]
  },
  {
   "cell_type": "code",
   "execution_count": 3,
   "id": "0996bf77",
   "metadata": {},
   "outputs": [],
   "source": [
    "species_csv = os.path.join(thermokinetic_fun.DFT_DIR, 'species_list.csv')\n",
    "species_df = pd.read_csv(species_csv)"
   ]
  },
  {
   "cell_type": "code",
   "execution_count": 4,
   "id": "f7c4b96e",
   "metadata": {},
   "outputs": [],
   "source": [
    "# new database will store name, SMILES, and adjacency list\n",
    "entries = []\n",
    "columns = ['i', 'name', 'SMILES', 'adjacency_list']\n",
    "\n",
    "for i in range(len(species_df)):\n",
    "    smiles = species_df['SMILES'].values[i]\n",
    "    adjacency_list = rmgpy.species.Species(smiles=smiles).to_adjacency_list()\n",
    "    entries.append([i, species_df['name'].values[i], smiles, adjacency_list])\n",
    "\n",
    "species_database = pd.DataFrame(entries, columns=columns)\n",
    "\n"
   ]
  },
  {
   "cell_type": "code",
   "execution_count": 5,
   "id": "33c3ec03",
   "metadata": {},
   "outputs": [],
   "source": [
    "# save results\n",
    "species_database.to_csv(os.path.join(thermokinetic_fun.DFT_DIR, 'species_database.csv'), index=False)"
   ]
  },
  {
   "cell_type": "code",
   "execution_count": null,
   "id": "c4866f48",
   "metadata": {},
   "outputs": [],
   "source": []
  },
  {
   "cell_type": "code",
   "execution_count": null,
   "id": "758b26fa",
   "metadata": {},
   "outputs": [],
   "source": []
  }
 ],
 "metadata": {
  "kernelspec": {
   "display_name": "Python 3 (ipykernel)",
   "language": "python",
   "name": "python3"
  },
  "language_info": {
   "codemirror_mode": {
    "name": "ipython",
    "version": 3
   },
   "file_extension": ".py",
   "mimetype": "text/x-python",
   "name": "python",
   "nbconvert_exporter": "python",
   "pygments_lexer": "ipython3",
   "version": "3.7.16"
  }
 },
 "nbformat": 4,
 "nbformat_minor": 5
}

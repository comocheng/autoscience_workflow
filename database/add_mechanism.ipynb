{
 "cells": [
  {
   "cell_type": "code",
   "execution_count": null,
   "id": "4c599cb0",
   "metadata": {},
   "outputs": [],
   "source": [
    "# Script to add new mechanism's species and reactions to the database"
   ]
  },
  {
   "cell_type": "code",
   "execution_count": null,
   "id": "24f33bbe",
   "metadata": {},
   "outputs": [],
   "source": [
    "# script to save the rankings for the mechanism\n",
    "import os\n",
    "import sys\n",
    "import pandas as pd\n",
    "\n",
    "import rmgpy.chemkin"
   ]
  },
  {
   "cell_type": "code",
   "execution_count": null,
   "id": "1aa5ac63",
   "metadata": {},
   "outputs": [],
   "source": []
  },
  {
   "cell_type": "markdown",
   "id": "e352d4f4",
   "metadata": {},
   "source": [
    "## Load New Model"
   ]
  },
  {
   "cell_type": "code",
   "execution_count": null,
   "id": "bb7bdb17",
   "metadata": {},
   "outputs": [],
   "source": [
    "new_model_dir = '/work/westgroup/harris.se/autoscience/fuels/butane/small_lib_20230801/'\n",
    "chemkin = os.path.join(new_model_dir, 'chem_annotated.inp')\n",
    "species_dict = os.path.join(new_model_dir, 'species_dictionary.txt')\n",
    "transport = os.path.join(new_model_dir, 'tran.dat')\n",
    "species_list, reaction_list = rmgpy.chemkin.load_chemkin_file(chemkin, dictionary_path=species_dict, transport_path=transport, use_chemkin_names=True)\n"
   ]
  },
  {
   "cell_type": "code",
   "execution_count": null,
   "id": "ca778f06",
   "metadata": {},
   "outputs": [],
   "source": []
  },
  {
   "cell_type": "code",
   "execution_count": null,
   "id": "30334030",
   "metadata": {},
   "outputs": [],
   "source": []
  },
  {
   "cell_type": "code",
   "execution_count": null,
   "id": "314c1bd5",
   "metadata": {},
   "outputs": [],
   "source": []
  },
  {
   "cell_type": "markdown",
   "id": "931e2633",
   "metadata": {},
   "source": [
    "## Load Species Database"
   ]
  },
  {
   "cell_type": "code",
   "execution_count": null,
   "id": "67eecc6a",
   "metadata": {},
   "outputs": [],
   "source": [
    "DFT_DIR = '/work/westgroup/harris.se/autoscience/reaction_calculator/dft'\n",
    "species_csv = os.path.join(DFT_DIR, 'species_database.csv')\n",
    "species_df = pd.read_csv(species_csv)\n",
    "\n",
    "print(f'Species database contains {len(species_df)} unique species')"
   ]
  },
  {
   "cell_type": "code",
   "execution_count": null,
   "id": "cf468008",
   "metadata": {},
   "outputs": [],
   "source": [
    "# Check if there are any new species:\n",
    "species_to_add = []\n",
    "for i, new_sp in enumerate(species_list):\n",
    "    already_exists = False\n",
    "    for db_species_adj_list in species_df['adjacency_list'].values:\n",
    "        db_sp = rmgpy.species.Species().from_adjacency_list(db_species_adj_list)\n",
    "        if db_sp.is_isomorphic(new_sp):\n",
    "            already_exists = True\n",
    "            break\n",
    "    if already_exists:\n",
    "        continue\n",
    "    species_to_add.append(new_sp)\n",
    "\n",
    "\n",
    "# add the new species\n",
    "print('Added the following species to the database:')\n",
    "addition_index = 0\n",
    "for k, new_sp in enumerate(species_to_add):\n",
    "    \n",
    "    # first check that it's unique compared to everything before it in species_to_add\n",
    "    is_unique = True\n",
    "    for m in range(k):\n",
    "        if new_sp.is_isomorphic(species_to_add[m]):\n",
    "            is_unique = False\n",
    "            break\n",
    "    if not is_unique:\n",
    "        continue\n",
    "    \n",
    "    \n",
    "    name = new_sp.label\n",
    "    smiles = new_sp.smiles\n",
    "    # the split is for weird bug? where multiple adjacency lists end up in the species_list for a single species\n",
    "    # maybe-only if you use chemkin names when loading the chemking\n",
    "    adjacency_list = new_sp.to_adjacency_list().split('\\n\\n\\n')[0]\n",
    "    i = addition_index + len(species_df)\n",
    "    \n",
    "    \n",
    "    print(f'\\t{name}')\n",
    "    species_df = species_df.append({'i': i, 'name': name, 'SMILES': smiles, 'adjacency_list': adjacency_list}, ignore_index=True)\n",
    "    addition_index += 1\n",
    "\n"
   ]
  },
  {
   "cell_type": "code",
   "execution_count": null,
   "id": "59879f32",
   "metadata": {},
   "outputs": [],
   "source": [
    "print('Saving new species database...')\n",
    "species_df.to_csv(species_csv, index=False)"
   ]
  },
  {
   "cell_type": "code",
   "execution_count": null,
   "id": "11bd71b3",
   "metadata": {},
   "outputs": [],
   "source": [
    "# load it back in to test that it worked\n",
    "species_df = pd.read_csv(species_csv)\n",
    "print(f'Species database now contains {len(species_df)} unique species')"
   ]
  },
  {
   "cell_type": "code",
   "execution_count": null,
   "id": "f16dcee7",
   "metadata": {},
   "outputs": [],
   "source": []
  },
  {
   "cell_type": "markdown",
   "id": "7b5d38e0",
   "metadata": {},
   "source": [
    "## Load Reaction Database"
   ]
  },
  {
   "cell_type": "code",
   "execution_count": null,
   "id": "53d8cf0f",
   "metadata": {},
   "outputs": [],
   "source": [
    "reaction_csv = os.path.join(DFT_DIR, 'reaction_database.csv')\n",
    "reaction_df = pd.read_csv(reaction_csv)\n",
    "\n",
    "print(f'Reaction database contains {len(reaction_df)} unique reactions')"
   ]
  },
  {
   "cell_type": "code",
   "execution_count": null,
   "id": "25ba985d",
   "metadata": {},
   "outputs": [],
   "source": []
  },
  {
   "cell_type": "code",
   "execution_count": null,
   "id": "37479093",
   "metadata": {},
   "outputs": [],
   "source": []
  },
  {
   "cell_type": "code",
   "execution_count": null,
   "id": "c9802769",
   "metadata": {},
   "outputs": [],
   "source": [
    "# populate total species list\n",
    "total_species_list = [rmgpy.species.Species().from_adjacency_list(adj_list) for adj_list in species_df['adjacency_list'].values]\n",
    "\n",
    "def get_unique_species_index(species):\n",
    "    for i in range(len(total_species_list)):\n",
    "        if species.is_isomorphic(total_species_list[i]):\n",
    "            return i\n",
    "    raise IndexError('Species not in database')\n",
    "\n",
    "\n",
    "def get_unique_string(reaction):\n",
    "    \"\"\"Returns the unique string for a given reaction\n",
    "    Looks up unique species indices in the species index (based on adjacenecy list)\n",
    "    and returns the result in sorted order, something like 12+300=14+303\n",
    "    \"\"\"\n",
    "    reactants = []\n",
    "    for sp in reaction.reactants:\n",
    "        sp_index = get_unique_species_index(sp)\n",
    "        reactants.append(sp_index)\n",
    "    products = []\n",
    "    for sp in reaction.products:\n",
    "        sp_index = get_unique_species_index(sp)\n",
    "        products.append(sp_index)\n",
    "    reactants.sort()\n",
    "    products.sort()\n",
    "\n",
    "    reactants = [str(sp) for sp in reactants]\n",
    "    products = [str(sp) for sp in products]\n",
    "    unique_string = '+'.join(reactants) + '=' + '+'.join(products)\n",
    "    return unique_string\n",
    "\n",
    "\n",
    "def reaction2smiles(reaction):\n",
    "    \"\"\"Takes an RMG reaction and returns the smiles representation\n",
    "    This is not sorted and therefore not unique, also smiles isn't unique to begin with\n",
    "    \"\"\"\n",
    "    string = \"\"\n",
    "    for react in reaction.reactants:\n",
    "        if isinstance(react, rmgpy.species.Species):\n",
    "            string += f\"{react.molecule[0].to_smiles()}+\"\n",
    "        elif isinstance(react, rmgpy.molecule.Molecule):\n",
    "            string += f\"{react.to_smiles()}+\"\n",
    "    string = string[:-1]\n",
    "    string += \"_\"\n",
    "    for prod in reaction.products:\n",
    "        if isinstance(prod, rmgpy.species.Species):\n",
    "            string += f\"{prod.molecule[0].to_smiles()}+\"\n",
    "        elif isinstance(prod, rmgpy.molecule.Molecule):\n",
    "            string += f\"{prod.to_smiles()}+\"\n",
    "    label = string[:-1]\n",
    "    return label"
   ]
  },
  {
   "cell_type": "code",
   "execution_count": null,
   "id": "74bb87de",
   "metadata": {},
   "outputs": [],
   "source": [
    "# check if there are any new reactions to add\n",
    "entries_to_add = []\n",
    "print('Looking for new reactions in mechanism...')\n",
    "for j in range(len(reaction_list)):\n",
    "    unique_string = get_unique_string(reaction_list[j])\n",
    "    already_exists = False\n",
    "    for database_str in reaction_df['unique_string'].values:\n",
    "        if unique_string == database_str:\n",
    "            already_exists = True\n",
    "            break\n",
    "    if not already_exists:\n",
    "        entries_to_add.append([j, unique_string])\n",
    "print(f'Found {len(entries_to_add)} new reactions')\n",
    "\n",
    "print('Added the following new reactions to the database:')\n",
    "# actually add the new reactions\n",
    "addition_index = 0\n",
    "for j in range(len(entries_to_add)):\n",
    "    rmg_index = entries_to_add[j][0]\n",
    "    unique_string = entries_to_add[j][1]\n",
    "    # make sure the 'unique_string' is actually unique compared to everything that came before it\n",
    "    already_exists = False\n",
    "    for k in range(j):\n",
    "        # compare unique_string\n",
    "        if entries_to_add[k][1] == unique_string:\n",
    "            already_exists = True\n",
    "            break\n",
    "    if already_exists:\n",
    "        continue\n",
    "    \n",
    "    \n",
    "    name = str(reaction_list[rmg_index])\n",
    "    smiles = reaction2smiles(reaction_list[rmg_index])\n",
    "    i = len(reaction_df) + addition_index\n",
    "    \n",
    "    print(f'\\t{name}')\n",
    "    reaction_df = reaction_df.append({'i': i, 'name': name, 'SMILES': smiles, 'unique_string': unique_string}, ignore_index=True)\n",
    "    addition_index += 1\n"
   ]
  },
  {
   "cell_type": "code",
   "execution_count": null,
   "id": "2ff009a4",
   "metadata": {},
   "outputs": [],
   "source": [
    "print('Saving new reaction database...')\n",
    "reaction_df.to_csv(reaction_csv, index=False)"
   ]
  },
  {
   "cell_type": "code",
   "execution_count": null,
   "id": "1552d2d8",
   "metadata": {},
   "outputs": [],
   "source": [
    "# load it back in to test that it worked\n",
    "reaction_df = pd.read_csv(reaction_csv)\n",
    "print(f'Reaction database now contains {len(reaction_df)} unique reactions')"
   ]
  }
 ],
 "metadata": {
  "kernelspec": {
   "display_name": "Python 3 (ipykernel)",
   "language": "python",
   "name": "python3"
  },
  "language_info": {
   "codemirror_mode": {
    "name": "ipython",
    "version": 3
   },
   "file_extension": ".py",
   "mimetype": "text/x-python",
   "name": "python",
   "nbconvert_exporter": "python",
   "pygments_lexer": "ipython3",
   "version": "3.7.16"
  }
 },
 "nbformat": 4,
 "nbformat_minor": 5
}

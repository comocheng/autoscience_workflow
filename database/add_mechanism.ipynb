{
 "cells": [
  {
   "cell_type": "code",
   "execution_count": null,
   "id": "4c599cb0",
   "metadata": {},
   "outputs": [],
   "source": [
    "# Script to add new mechanism's species and reactions to the database"
   ]
  },
  {
   "cell_type": "code",
   "execution_count": null,
   "id": "24f33bbe",
   "metadata": {},
   "outputs": [],
   "source": [
    "# script to save the rankings for the mechanism\n",
    "import os\n",
    "import sys\n",
    "import pandas as pd\n",
    "\n",
    "import rmgpy.chemkin\n",
    "\n",
    "sys.path.append(os.path.join(os.environ['AUTOSCIENCE_REPO'], 'database'))\n",
    "import database_fun\n"
   ]
  },
  {
   "cell_type": "code",
   "execution_count": null,
   "id": "1aa5ac63",
   "metadata": {},
   "outputs": [],
   "source": []
  },
  {
   "cell_type": "markdown",
   "id": "e352d4f4",
   "metadata": {},
   "source": [
    "## Load New Model"
   ]
  },
  {
   "cell_type": "code",
   "execution_count": null,
   "id": "bb7bdb17",
   "metadata": {},
   "outputs": [],
   "source": [
    "new_model_dir = os.path.join(os.environ['AUTOSCIENCE_REPO'], 'RMG_example_fuel_YYYYMMDD')\n",
    "chemkin = os.path.join(new_model_dir, 'chem_annotated.inp')\n",
    "species_dict = os.path.join(new_model_dir, 'species_dictionary.txt')\n",
    "transport = os.path.join(new_model_dir, 'tran.dat')\n",
    "species_list, reaction_list = rmgpy.chemkin.load_chemkin_file(chemkin, dictionary_path=species_dict, transport_path=transport, use_chemkin_names=True)\n"
   ]
  },
  {
   "cell_type": "markdown",
   "id": "09dbbe78",
   "metadata": {},
   "source": [
    "## Add to Species Database"
   ]
  },
  {
   "cell_type": "code",
   "execution_count": null,
   "id": "ca778f06",
   "metadata": {},
   "outputs": [],
   "source": [
    "database_fun.add_species_to_database(species_list)"
   ]
  },
  {
   "cell_type": "code",
   "execution_count": null,
   "id": "30334030",
   "metadata": {},
   "outputs": [],
   "source": []
  },
  {
   "cell_type": "code",
   "execution_count": null,
   "id": "314c1bd5",
   "metadata": {},
   "outputs": [],
   "source": []
  },
  {
   "cell_type": "markdown",
   "id": "931e2633",
   "metadata": {},
   "source": [
    "## Load Species Database"
   ]
  },
  {
   "cell_type": "code",
   "execution_count": null,
   "id": "67eecc6a",
   "metadata": {},
   "outputs": [],
   "source": [
    "DFT_DIR = os.path.join(os.environ['AUTOSCIENCE_REPO'], 'dft')\n",
    "species_csv = os.path.join(DFT_DIR, 'species_database.csv')\n",
    "species_df = pd.read_csv(species_csv)\n",
    "\n",
    "print(f'Species database contains {len(species_df)} unique species')"
   ]
  },
  {
   "cell_type": "code",
   "execution_count": null,
   "id": "f16dcee7",
   "metadata": {},
   "outputs": [],
   "source": []
  },
  {
   "cell_type": "markdown",
   "id": "7b5d38e0",
   "metadata": {},
   "source": [
    "## Load Reaction Database"
   ]
  },
  {
   "cell_type": "code",
   "execution_count": null,
   "id": "ef7b4c3f",
   "metadata": {},
   "outputs": [],
   "source": [
    "database_fun.add_reaction_to_database(reaction_list)"
   ]
  },
  {
   "cell_type": "code",
   "execution_count": null,
   "id": "53d8cf0f",
   "metadata": {},
   "outputs": [],
   "source": [
    "reaction_csv = os.path.join(DFT_DIR, 'reaction_database.csv')\n",
    "reaction_df = pd.read_csv(reaction_csv)\n",
    "\n",
    "print(f'Reaction database contains {len(reaction_df)} unique reactions')"
   ]
  },
  {
   "cell_type": "code",
   "execution_count": null,
   "id": "92934d07",
   "metadata": {},
   "outputs": [],
   "source": []
  }
 ],
 "metadata": {
  "kernelspec": {
   "display_name": "Python 3 (ipykernel)",
   "language": "python",
   "name": "python3"
  },
  "language_info": {
   "codemirror_mode": {
    "name": "ipython",
    "version": 3
   },
   "file_extension": ".py",
   "mimetype": "text/x-python",
   "name": "python",
   "nbconvert_exporter": "python",
   "pygments_lexer": "ipython3",
   "version": "3.7.16"
  }
 },
 "nbformat": 4,
 "nbformat_minor": 5
}

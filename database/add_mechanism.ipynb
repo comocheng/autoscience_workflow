{
 "cells": [
  {
   "cell_type": "code",
   "execution_count": null,
   "id": "4c599cb0",
   "metadata": {},
   "outputs": [],
   "source": [
    "# Script to add new mechanism's species and reactions to the database"
   ]
  },
  {
   "cell_type": "code",
   "execution_count": 1,
   "id": "24f33bbe",
   "metadata": {},
   "outputs": [],
   "source": [
    "# script to save the rankings for the mechanism\n",
    "import os\n",
    "import sys\n",
    "import pandas as pd\n",
    "\n",
    "import rmgpy.chemkin\n",
    "\n",
    "\n",
    "sys.path.append('/work/westgroup/harris.se/autoscience/reaction_calculator/database/')\n",
    "import database_fun\n"
   ]
  },
  {
   "cell_type": "code",
   "execution_count": null,
   "id": "1aa5ac63",
   "metadata": {},
   "outputs": [],
   "source": []
  },
  {
   "cell_type": "markdown",
   "id": "e352d4f4",
   "metadata": {},
   "source": [
    "## Load New Model"
   ]
  },
  {
   "cell_type": "code",
   "execution_count": 2,
   "id": "bb7bdb17",
   "metadata": {},
   "outputs": [],
   "source": [
    "new_model_dir = '/work/westgroup/harris.se/autoscience/fuels/butane/small_lib_20230801/'\n",
    "new_model_dir = '/work/westgroup/harris.se/autoscience/fuels/butane/official/butane_20240403/'\n",
    "chemkin = os.path.join(new_model_dir, 'chem_annotated.inp')\n",
    "species_dict = os.path.join(new_model_dir, 'species_dictionary.txt')\n",
    "transport = os.path.join(new_model_dir, 'tran.dat')\n",
    "species_list, reaction_list = rmgpy.chemkin.load_chemkin_file(chemkin, dictionary_path=species_dict, transport_path=transport, use_chemkin_names=True)\n"
   ]
  },
  {
   "cell_type": "markdown",
   "id": "09dbbe78",
   "metadata": {},
   "source": [
    "## Add to Species Database"
   ]
  },
  {
   "cell_type": "code",
   "execution_count": 3,
   "id": "ca778f06",
   "metadata": {},
   "outputs": [
    {
     "name": "stdout",
     "output_type": "stream",
     "text": [
      "Loaded species database contains 370 unique species\n",
      "Added the following species to the database:\n",
      "Saving new species database...\n",
      "Species database now contains 370 unique species\n"
     ]
    }
   ],
   "source": [
    "database_fun.add_species_to_database(species_list)"
   ]
  },
  {
   "cell_type": "code",
   "execution_count": null,
   "id": "30334030",
   "metadata": {},
   "outputs": [],
   "source": []
  },
  {
   "cell_type": "code",
   "execution_count": null,
   "id": "314c1bd5",
   "metadata": {},
   "outputs": [],
   "source": []
  },
  {
   "cell_type": "markdown",
   "id": "931e2633",
   "metadata": {},
   "source": [
    "## Load Species Database"
   ]
  },
  {
   "cell_type": "code",
   "execution_count": 4,
   "id": "67eecc6a",
   "metadata": {},
   "outputs": [
    {
     "name": "stdout",
     "output_type": "stream",
     "text": [
      "Species database contains 370 unique species\n"
     ]
    }
   ],
   "source": [
    "DFT_DIR = '/work/westgroup/harris.se/autoscience/reaction_calculator/dft'\n",
    "species_csv = os.path.join(DFT_DIR, 'species_database.csv')\n",
    "species_df = pd.read_csv(species_csv)\n",
    "\n",
    "print(f'Species database contains {len(species_df)} unique species')"
   ]
  },
  {
   "cell_type": "code",
   "execution_count": null,
   "id": "f16dcee7",
   "metadata": {},
   "outputs": [],
   "source": []
  },
  {
   "cell_type": "markdown",
   "id": "7b5d38e0",
   "metadata": {},
   "source": [
    "## Load Reaction Database"
   ]
  },
  {
   "cell_type": "code",
   "execution_count": 5,
   "id": "ef7b4c3f",
   "metadata": {},
   "outputs": [
    {
     "name": "stdout",
     "output_type": "stream",
     "text": [
      "Loaded reaction database contains 7801 unique reactions\n",
      "Looking for new reactions in mechanism...\n",
      "Found 93 new reactions\n",
      "Added the following new reactions to the database:\n",
      "\tOH(15) + C4H8O3(274) <=> C4H9O4(140)\n",
      "\tOH(15) + S(252) <=> C4H9O4(142)\n",
      "\tC4H9O4(142) + butane(1) <=> SC4H9(183) + S(787)\n",
      "\tC4H9O4(140) + CCCCOO(31) <=> S(184) + S(787)\n",
      "\tC4H9O4(142) + CCCCOO(31) <=> S(184) + S(787)\n",
      "\tO[CH]CCCOO(814) + C4H9O4(140) <=> C4H8O3(36) + S(787)\n",
      "\t[O]CCCCOO(35) + C4H9O4(140) <=> C4H8O3(36) + S(787)\n",
      "\tO[CH]CCCOO(814) + C4H9O4(142) <=> C4H8O3(36) + S(787)\n",
      "\t[O]CCCCOO(35) + C4H9O4(142) <=> C4H8O3(36) + S(787)\n",
      "\tO2(2) + C4H7O2(825) <=> HO2(16) + C4H6O2(886)\n",
      "\tC4H7O2(825) <=> H(14) + C4H6O2(886)\n",
      "\tC4H7O2(825) + SC4H9(183) <=> C4H6O2(886) + butane(1)\n",
      "\tC4H7O2(825) + PC4H9(182) <=> C4H6O2(886) + butane(1)\n",
      "\tOH(15) + C4H7O2(825) <=> H2O(8) + C4H6O2(886)\n",
      "\tC4H6O2(886) <=> C2H3O(189) + C2H3O(189)\n",
      "\tC4H7O2(825) + S(186) <=> C4H6O2(886) + S(187)\n",
      "\tC4H7O2(825) + [CH2]CC(C)OO(85) <=> C4H6O2(886) + S(187)\n",
      "\tC4H7O2(894) <=> H(14) + C4H6O2(886)\n",
      "\tC4H7O2(825) + C4H9O4(125) <=> C4H6O2(886) + S(787)\n",
      "\tC4H7O2(825) + S(225) <=> C4H6O2(886) + S(787)\n",
      "\tC4H7O2(825) + C4H9O4(140) <=> C4H6O2(886) + S(787)\n",
      "\tC4H7O2(825) + C4H9O4(142) <=> C4H6O2(886) + S(787)\n",
      "\tC4H7O2(825) + S(184) <=> C4H6O2(886) + CCCCOO(31)\n",
      "\tC4H7O2(825) + C[CH]CCOO(94) <=> C4H6O2(886) + CCCCOO(31)\n",
      "\tC4H7O2(825) + [CH2]CCCOO(95) <=> C4H6O2(886) + CCCCOO(31)\n",
      "\tO[CH]CCOO(1077) + C4H9O4(140) <=> C3H6O3(180) + S(787)\n",
      "\tO[CH]CCOO(1077) + C4H9O4(142) <=> C3H6O3(180) + S(787)\n",
      "\tHO2(16) + C4H7O2(825) <=> H2O2(17) + C4H6O2(886)\n",
      "\t[CH2]CC(C)OO(85) + S(787) <=> C4H9O4(140) + S(187)\n",
      "\t[CH2]CC(C)OO(85) + S(787) <=> C4H9O4(142) + S(187)\n",
      "\tC2H3O(189) + C4H7O2(825) <=> C2H4O(69) + C4H6O2(886)\n",
      "\tCH3CO(20) + C4H7O2(825) <=> C2H4O(69) + C4H6O2(886)\n",
      "\tC[CH]CCOO(94) + S(787) <=> C4H9O4(140) + CCCCOO(31)\n",
      "\tC4H9O4(142) + CCCCOO(31) <=> C[CH]CCOO(94) + S(787)\n",
      "\tC2H5O2(47) + C4H7O2(825) <=> C2H6O2(48) + C4H6O2(886)\n",
      "\tCH3O2(45) + C4H7O2(825) <=> CH3O2H(46) + C4H6O2(886)\n",
      "\t[CH2]CCCOO(95) + S(787) <=> C4H9O4(140) + CCCCOO(31)\n",
      "\t[CH2]CCCOO(95) + S(787) <=> C4H9O4(142) + CCCCOO(31)\n",
      "\tO(5) + C4H7O2(825) <=> OH(15) + C4H6O2(886)\n",
      "\tC2H4O(69) + C4H9O4(140) <=> CH3CO(20) + S(787)\n",
      "\tC2H4O(69) + C4H9O4(142) <=> CH3CO(20) + S(787)\n",
      "\tC2H4O(69) + C4H9O4(140) <=> C2H3O(189) + S(787)\n",
      "\tCH3(18) + C4H7O2(825) <=> CH4(10) + C4H6O2(886)\n",
      "\tH(14) + C4H7O2(825) <=> H2(13) + C4H6O2(886)\n",
      "\tCHO(192) + C4H7O2(825) <=> CH2O(9) + C4H6O2(886)\n",
      "\tC4H7O2(825) + C[CH]C(C)OO(83) <=> C4H6O2(886) + S(187)\n",
      "\tC[CH]C(C)OO(83) + S(787) <=> C4H9O4(140) + S(187)\n",
      "\tC[CH]C(C)OO(83) + S(787) <=> C4H9O4(142) + S(187)\n",
      "\tC4H9O4(140) + OOCCCCOO(1915) <=> [O]OCCCCOO(759) + S(787)\n",
      "\tC4H9O4(142) + OOCCCCOO(1915) <=> [O]OCCCCOO(759) + S(787)\n",
      "\tC4H7O2(825) + [O]OCCCCOO(759) <=> C4H6O2(886) + OOCCCCOO(1915)\n",
      "\tCCCOO(96) + C4H9O4(140) <=> CCCO[O](73) + S(787)\n",
      "\tCCCOO(96) + C4H9O4(142) <=> CCCO[O](73) + S(787)\n",
      "\t[CH2]CCOO(101) + S(787) <=> CCCOO(96) + C4H9O4(140)\n",
      "\t[CH2]CCOO(101) + S(787) <=> CCCOO(96) + C4H9O4(142)\n",
      "\tCCCO[O](73) + C4H7O2(825) <=> CCCOO(96) + C4H6O2(886)\n",
      "\t[CH2]CCOO(101) + C4H7O2(825) <=> CCCOO(96) + C4H6O2(886)\n",
      "\tC4H9O4(140) + C4H10O4(4401) <=> C4H9O4(4230) + S(787)\n",
      "\tC4H9O4(142) + C4H10O4(4401) <=> C4H9O4(4230) + S(787)\n",
      "\tC4H7O2(825) + C4H9O4(4230) <=> C4H6O2(886) + C4H10O4(4401)\n",
      "\tCO(6) + [CH2]CCO(780) <=> H(14) + C4H6O2(886)\n",
      "\tCH2O(9) + C3H6(12) <=> C4H8O(1172)\n",
      "\tCC1CCO1(115) <=> C4H8O(1172)\n",
      "\tC2H4(11) + C2H4O(69) <=> C4H8O(1172)\n",
      "\tCC1OC1C(4223) <=> C4H8O(1172)\n",
      "\tC2H3O3(1207) + S(787) <=> C2H4O3(4645) + C4H9O4(140)\n",
      "\tC2H3O3(1207) + S(787) <=> C2H4O3(4645) + C4H9O4(142)\n",
      "\tC2H3O3(1207) + C4H7O2(825) <=> C2H4O3(4645) + C4H6O2(886)\n",
      "\tC[CH2](41) + S(787) <=> CC(61) + C4H9O4(140)\n",
      "\tC[CH2](41) + S(787) <=> CC(61) + C4H9O4(142)\n",
      "\tC[CH2](41) + C4H7O2(825) <=> CC(61) + C4H6O2(886)\n",
      "\tC4H7O2(825) + C4H7O3(193) <=> C4H6O2(886) + S(252)\n",
      "\tS(252) + C4H9O4(140) <=> C4H7O3(193) + S(787)\n",
      "\tS(252) + C4H9O4(142) <=> C4H7O3(193) + S(787)\n",
      "\tC3H3O2(679) + C4H7O2(825) <=> C3H4O2(652) + C4H6O2(886)\n",
      "\tC3H4O2(652) + C4H9O4(140) <=> C3H3O2(679) + S(787)\n",
      "\tC3H4O2(652) + C4H9O4(142) <=> C3H3O2(679) + S(787)\n",
      "\tC2H3(103) + C4H7O2(825) <=> C2H4(11) + C4H6O2(886)\n",
      "\tCH2CO(24) + C2H4O(196) <=> C4H6O2(886)\n",
      "\tCH2O(9) + C4H6O2(886) <=> C2H4O(196) + C3H4O2(645)\n",
      "\tCH2CO(24) + C2H4O(196) <=> C2H3O(189) + C2H3O(189)\n",
      "\tC2H3O(189) + C4H7O2(825) <=> C2H4O(196) + C4H6O2(886)\n",
      "\tC2H3O3(37) + C4H9O4(140) <=> C2H2O3(38) + S(787)\n",
      "\tC2H3O3(37) + C4H9O4(142) <=> C2H2O3(38) + S(787)\n",
      "\tC3H4O6(7542) + C4H9O4(140) <=> C3H3O6(7658) + S(787)\n",
      "\tC3H4O6(7542) + C4H9O4(142) <=> C3H3O6(7658) + S(787)\n",
      "\tC3H3O6(7658) + C4H7O2(825) <=> C3H4O6(7542) + C4H6O2(886)\n",
      "\tC4H7O2(825) + C4H7O3(295) <=> C4H6O2(886) + C4H8O3(274)\n",
      "\tC4H8O3(274) + C4H9O4(140) <=> C4H7O3(295) + S(787)\n",
      "\tC4H8O3(274) + C4H9O4(142) <=> C4H7O3(295) + S(787)\n",
      "\tC2H4O4(4615) + C4H9O4(140) <=> C2H3O4(9646) + S(787)\n",
      "\tC2H4O4(4615) + C4H9O4(142) <=> C2H3O4(9646) + S(787)\n",
      "\tC2H3O4(9646) + C4H7O2(825) <=> C2H4O4(4615) + C4H6O2(886)\n",
      "Saving new reaction database...\n",
      "Reaction database now contains 7894 unique reactions\n"
     ]
    }
   ],
   "source": [
    "database_fun.add_reaction_to_database(reaction_list)"
   ]
  },
  {
   "cell_type": "code",
   "execution_count": 6,
   "id": "53d8cf0f",
   "metadata": {},
   "outputs": [
    {
     "name": "stdout",
     "output_type": "stream",
     "text": [
      "Reaction database contains 7894 unique reactions\n"
     ]
    }
   ],
   "source": [
    "reaction_csv = os.path.join(DFT_DIR, 'reaction_database.csv')\n",
    "reaction_df = pd.read_csv(reaction_csv)\n",
    "\n",
    "print(f'Reaction database contains {len(reaction_df)} unique reactions')"
   ]
  },
  {
   "cell_type": "code",
   "execution_count": null,
   "id": "92934d07",
   "metadata": {},
   "outputs": [],
   "source": []
  }
 ],
 "metadata": {
  "kernelspec": {
   "display_name": "Python 3 (ipykernel)",
   "language": "python",
   "name": "python3"
  },
  "language_info": {
   "codemirror_mode": {
    "name": "ipython",
    "version": 3
   },
   "file_extension": ".py",
   "mimetype": "text/x-python",
   "name": "python",
   "nbconvert_exporter": "python",
   "pygments_lexer": "ipython3",
   "version": "3.7.16"
  }
 },
 "nbformat": 4,
 "nbformat_minor": 5
}

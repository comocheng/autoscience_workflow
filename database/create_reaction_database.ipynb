{
 "cells": [
  {
   "cell_type": "code",
   "execution_count": 1,
   "id": "cfd81b36",
   "metadata": {},
   "outputs": [],
   "source": [
    "# script to create reaction database out of existing species_database and reaction_list.csv\n",
    "\n",
    "# the problem is that we're currently using SMILES, and that's not actually unique and it's starting to cause problems"
   ]
  },
  {
   "cell_type": "code",
   "execution_count": 2,
   "id": "6fb00f6b",
   "metadata": {},
   "outputs": [
    {
     "name": "stderr",
     "output_type": "stream",
     "text": [
      "WARNING:root:Optional package dependency \"xlwt\" not loaded. Some output features will not work.\n"
     ]
    },
    {
     "data": {
      "text/plain": [
       "<module 'thermokinetic_fun' from '/work/westgroup/harris.se/autoscience/reaction_calculator/dft/thermokinetic_fun.py'>"
      ]
     },
     "execution_count": 2,
     "metadata": {},
     "output_type": "execute_result"
    }
   ],
   "source": [
    "import os\n",
    "import sys\n",
    "import pandas as pd\n",
    "\n",
    "import rmgpy.chemkin\n",
    "\n",
    "sys.path.append('/work/westgroup/harris.se/autoscience/reaction_calculator/dft')\n",
    "import importlib\n",
    "import thermokinetic_fun\n",
    "importlib.reload(thermokinetic_fun)"
   ]
  },
  {
   "cell_type": "code",
   "execution_count": 3,
   "id": "33324c6a",
   "metadata": {},
   "outputs": [],
   "source": [
    "# Load old reaction list\n",
    "reaction_csv = os.path.join(thermokinetic_fun.DFT_DIR, 'reaction_list.csv')\n",
    "reaction_df = pd.read_csv(reaction_csv)\n",
    "\n",
    "# load species database that includes adjacency lists\n",
    "species_csv = os.path.join(thermokinetic_fun.DFT_DIR, 'species_database.csv')\n",
    "species_df = pd.read_csv(species_csv)"
   ]
  },
  {
   "cell_type": "code",
   "execution_count": 4,
   "id": "deb54b02",
   "metadata": {},
   "outputs": [
    {
     "data": {
      "text/html": [
       "<div>\n",
       "<style scoped>\n",
       "    .dataframe tbody tr th:only-of-type {\n",
       "        vertical-align: middle;\n",
       "    }\n",
       "\n",
       "    .dataframe tbody tr th {\n",
       "        vertical-align: top;\n",
       "    }\n",
       "\n",
       "    .dataframe thead th {\n",
       "        text-align: right;\n",
       "    }\n",
       "</style>\n",
       "<table border=\"1\" class=\"dataframe\">\n",
       "  <thead>\n",
       "    <tr style=\"text-align: right;\">\n",
       "      <th></th>\n",
       "      <th>Unnamed: 0</th>\n",
       "      <th>i</th>\n",
       "      <th>name</th>\n",
       "      <th>SMILES</th>\n",
       "    </tr>\n",
       "  </thead>\n",
       "  <tbody>\n",
       "    <tr>\n",
       "      <th>0</th>\n",
       "      <td>0</td>\n",
       "      <td>0</td>\n",
       "      <td>H(14) + O2(2) &lt;=&gt; OH(15) + O(5)</td>\n",
       "      <td>[H]+[O][O]_[OH]+[O]</td>\n",
       "    </tr>\n",
       "    <tr>\n",
       "      <th>1</th>\n",
       "      <td>1</td>\n",
       "      <td>1</td>\n",
       "      <td>H2(13) + O(5) &lt;=&gt; H(14) + OH(15)</td>\n",
       "      <td>[H][H]+[O]_[H]+[OH]</td>\n",
       "    </tr>\n",
       "    <tr>\n",
       "      <th>2</th>\n",
       "      <td>2</td>\n",
       "      <td>2</td>\n",
       "      <td>H2(13) + OH(15) &lt;=&gt; H2O(8) + H(14)</td>\n",
       "      <td>[H][H]+[OH]_O+[H]</td>\n",
       "    </tr>\n",
       "    <tr>\n",
       "      <th>3</th>\n",
       "      <td>3</td>\n",
       "      <td>3</td>\n",
       "      <td>OH(15) + OH(15) &lt;=&gt; H2O(8) + O(5)</td>\n",
       "      <td>[OH]+[OH]_O+[O]</td>\n",
       "    </tr>\n",
       "    <tr>\n",
       "      <th>4</th>\n",
       "      <td>4</td>\n",
       "      <td>4</td>\n",
       "      <td>H2(13) &lt;=&gt; H(14) + H(14)</td>\n",
       "      <td>[H][H]_[H]+[H]</td>\n",
       "    </tr>\n",
       "    <tr>\n",
       "      <th>...</th>\n",
       "      <td>...</td>\n",
       "      <td>...</td>\n",
       "      <td>...</td>\n",
       "      <td>...</td>\n",
       "    </tr>\n",
       "    <tr>\n",
       "      <th>4715</th>\n",
       "      <td>4715</td>\n",
       "      <td>4715</td>\n",
       "      <td>HO2(16) + CH2CHO(21) &lt;=&gt; O=O(690) + C2H3OH(58)</td>\n",
       "      <td>[O]O+[CH2]C=O_O=O+C=CO</td>\n",
       "    </tr>\n",
       "    <tr>\n",
       "      <th>4716</th>\n",
       "      <td>4716</td>\n",
       "      <td>4716</td>\n",
       "      <td>O=O(690) + C2H3OH(58) &lt;=&gt; CO(6) + CH3O2H(46)</td>\n",
       "      <td>O=O+C=CO_[C-]#[O+]+COO</td>\n",
       "    </tr>\n",
       "    <tr>\n",
       "      <th>4717</th>\n",
       "      <td>4717</td>\n",
       "      <td>4717</td>\n",
       "      <td>O=O(690) + C2H3OH(58) &lt;=&gt; HO2CH2CHO(147)</td>\n",
       "      <td>O=O+C=CO_O=CCOO</td>\n",
       "    </tr>\n",
       "    <tr>\n",
       "      <th>4718</th>\n",
       "      <td>4718</td>\n",
       "      <td>4718</td>\n",
       "      <td>C2H3(22) + CH3CHO(35) &lt;=&gt; C2H3(22) + C[CH][O](...</td>\n",
       "      <td>[CH]=C+CC=O_[CH]=C+C[CH][O]</td>\n",
       "    </tr>\n",
       "    <tr>\n",
       "      <th>4719</th>\n",
       "      <td>4719</td>\n",
       "      <td>4719</td>\n",
       "      <td>O=O(690) + C2H3OH(58) &lt;=&gt; H(14) + O2CH2CHO(56)</td>\n",
       "      <td>O=O+C=CO_[H]+[O]OCC=O</td>\n",
       "    </tr>\n",
       "  </tbody>\n",
       "</table>\n",
       "<p>4720 rows × 4 columns</p>\n",
       "</div>"
      ],
      "text/plain": [
       "      Unnamed: 0     i                                               name  \\\n",
       "0              0     0                    H(14) + O2(2) <=> OH(15) + O(5)   \n",
       "1              1     1                   H2(13) + O(5) <=> H(14) + OH(15)   \n",
       "2              2     2                 H2(13) + OH(15) <=> H2O(8) + H(14)   \n",
       "3              3     3                  OH(15) + OH(15) <=> H2O(8) + O(5)   \n",
       "4              4     4                           H2(13) <=> H(14) + H(14)   \n",
       "...          ...   ...                                                ...   \n",
       "4715        4715  4715     HO2(16) + CH2CHO(21) <=> O=O(690) + C2H3OH(58)   \n",
       "4716        4716  4716       O=O(690) + C2H3OH(58) <=> CO(6) + CH3O2H(46)   \n",
       "4717        4717  4717           O=O(690) + C2H3OH(58) <=> HO2CH2CHO(147)   \n",
       "4718        4718  4718  C2H3(22) + CH3CHO(35) <=> C2H3(22) + C[CH][O](...   \n",
       "4719        4719  4719     O=O(690) + C2H3OH(58) <=> H(14) + O2CH2CHO(56)   \n",
       "\n",
       "                           SMILES  \n",
       "0             [H]+[O][O]_[OH]+[O]  \n",
       "1             [H][H]+[O]_[H]+[OH]  \n",
       "2               [H][H]+[OH]_O+[H]  \n",
       "3                 [OH]+[OH]_O+[O]  \n",
       "4                  [H][H]_[H]+[H]  \n",
       "...                           ...  \n",
       "4715       [O]O+[CH2]C=O_O=O+C=CO  \n",
       "4716       O=O+C=CO_[C-]#[O+]+COO  \n",
       "4717              O=O+C=CO_O=CCOO  \n",
       "4718  [CH]=C+CC=O_[CH]=C+C[CH][O]  \n",
       "4719        O=O+C=CO_[H]+[O]OCC=O  \n",
       "\n",
       "[4720 rows x 4 columns]"
      ]
     },
     "execution_count": 4,
     "metadata": {},
     "output_type": "execute_result"
    }
   ],
   "source": [
    "reaction_df"
   ]
  },
  {
   "cell_type": "code",
   "execution_count": null,
   "id": "d18f0e9c",
   "metadata": {},
   "outputs": [],
   "source": []
  },
  {
   "cell_type": "code",
   "execution_count": 13,
   "id": "422d3d73",
   "metadata": {},
   "outputs": [],
   "source": [
    "a = 'hello'"
   ]
  },
  {
   "cell_type": "code",
   "execution_count": 14,
   "id": "be23ab07",
   "metadata": {},
   "outputs": [
    {
     "data": {
      "text/plain": [
       "'hell'"
      ]
     },
     "execution_count": 14,
     "metadata": {},
     "output_type": "execute_result"
    }
   ],
   "source": [
    "a[:-1]"
   ]
  },
  {
   "cell_type": "code",
   "execution_count": 12,
   "id": "c3247edc",
   "metadata": {},
   "outputs": [
    {
     "data": {
      "text/plain": [
       "4"
      ]
     },
     "execution_count": 12,
     "metadata": {},
     "output_type": "execute_result"
    }
   ],
   "source": [
    "species_df[species_df['SMILES'] == 'CCCC']['i'].values[0]"
   ]
  },
  {
   "cell_type": "code",
   "execution_count": null,
   "id": "d9e4db57",
   "metadata": {},
   "outputs": [],
   "source": []
  },
  {
   "cell_type": "code",
   "execution_count": 15,
   "id": "cf475d07",
   "metadata": {},
   "outputs": [
    {
     "data": {
      "text/plain": [
       "[Species(label=\"[H]\", molecule=[Molecule(smiles=\"[H]\")], molecular_weight=(1.00797,'amu')),\n",
       " Species(label=\"[O][O]\", molecule=[Molecule(smiles=\"[O][O]\")], molecular_weight=(31.9988,'amu'))]"
      ]
     },
     "execution_count": 15,
     "metadata": {},
     "output_type": "execute_result"
    }
   ],
   "source": [
    "rxn.reactants"
   ]
  },
  {
   "cell_type": "code",
   "execution_count": 19,
   "id": "ba4d8106",
   "metadata": {},
   "outputs": [],
   "source": []
  },
  {
   "cell_type": "code",
   "execution_count": 30,
   "id": "3150125d",
   "metadata": {},
   "outputs": [
    {
     "name": "stdout",
     "output_type": "stream",
     "text": [
      "['31', '7', '9']\n"
     ]
    }
   ],
   "source": [
    "a = []\n",
    "a.append('31')\n",
    "a.append('7')\n",
    "a.append('9')\n",
    "print(a)"
   ]
  },
  {
   "cell_type": "code",
   "execution_count": 31,
   "id": "1a71fb62",
   "metadata": {},
   "outputs": [],
   "source": [
    "a.sort()"
   ]
  },
  {
   "cell_type": "code",
   "execution_count": 32,
   "id": "60b9020b",
   "metadata": {},
   "outputs": [
    {
     "data": {
      "text/plain": [
       "['31', '7', '9']"
      ]
     },
     "execution_count": 32,
     "metadata": {},
     "output_type": "execute_result"
    }
   ],
   "source": [
    "a"
   ]
  },
  {
   "cell_type": "code",
   "execution_count": 29,
   "id": "a1c2cdc0",
   "metadata": {},
   "outputs": [
    {
     "ename": "TypeError",
     "evalue": "sequence item 0: expected str instance, int found",
     "output_type": "error",
     "traceback": [
      "\u001b[0;31m---------------------------------------------------------------------------\u001b[0m",
      "\u001b[0;31mTypeError\u001b[0m                                 Traceback (most recent call last)",
      "\u001b[0;32m/tmp/ipykernel_43802/3811341527.py\u001b[0m in \u001b[0;36m<module>\u001b[0;34m\u001b[0m\n\u001b[0;32m----> 1\u001b[0;31m \u001b[0;34m'+'\u001b[0m\u001b[0;34m.\u001b[0m\u001b[0mjoin\u001b[0m\u001b[0;34m(\u001b[0m\u001b[0ma\u001b[0m\u001b[0;34m)\u001b[0m\u001b[0;34m\u001b[0m\u001b[0;34m\u001b[0m\u001b[0m\n\u001b[0m",
      "\u001b[0;31mTypeError\u001b[0m: sequence item 0: expected str instance, int found"
     ]
    }
   ],
   "source": [
    "'+'.join(a)"
   ]
  },
  {
   "cell_type": "code",
   "execution_count": 36,
   "id": "a848e968",
   "metadata": {},
   "outputs": [],
   "source": [
    "# new database will store name, SMILES, and some kind of unique identifier\n",
    "\n",
    "# the species identifier will use indices from the species database, for example\n",
    "# 23+928=39+929\n",
    "# always in sorted order to tell if unique. Remember, species numbers will be unique from now on\n",
    "\n",
    "# for initial construction, assume we can look species up by smiles\n",
    "# since we haven't added anything that needs an adjacency list\n",
    "\n",
    "\n",
    "entries = []\n",
    "columns = ['i', 'name', 'SMILES', 'unique_string']\n",
    "\n",
    "for i in range(len(reaction_df)):\n",
    "    name = reaction_df['name'].values[i]\n",
    "    smiles = reaction_df['SMILES'].values[i]\n",
    "\n",
    "    # get the numbers\n",
    "    rxn = thermokinetic_fun.smiles2reaction(smiles)\n",
    "    reactants = []\n",
    "    for sp in rxn.reactants:\n",
    "        sp_index = species_df[species_df['SMILES'] == sp.smiles]['i'].values[0]\n",
    "        reactants.append(sp_index)\n",
    "    products = []\n",
    "    for sp in rxn.products:\n",
    "        sp_index = species_df[species_df['SMILES'] == sp.smiles]['i'].values[0]\n",
    "        products.append(sp_index)\n",
    "    reactants.sort()\n",
    "    products.sort()\n",
    "    \n",
    "    reactants = [str(sp) for sp in reactants]\n",
    "    products = [str(sp) for sp in products]\n",
    "    unique_string = '+'.join(reactants) + '=' + '+'.join(products)\n",
    "        \n",
    "    entries.append([i, name, smiles, unique_string])\n",
    "\n",
    "reaction_database = pd.DataFrame(entries, columns=columns)\n",
    "\n"
   ]
  },
  {
   "cell_type": "code",
   "execution_count": 37,
   "id": "75e736ed",
   "metadata": {},
   "outputs": [
    {
     "data": {
      "text/html": [
       "<div>\n",
       "<style scoped>\n",
       "    .dataframe tbody tr th:only-of-type {\n",
       "        vertical-align: middle;\n",
       "    }\n",
       "\n",
       "    .dataframe tbody tr th {\n",
       "        vertical-align: top;\n",
       "    }\n",
       "\n",
       "    .dataframe thead th {\n",
       "        text-align: right;\n",
       "    }\n",
       "</style>\n",
       "<table border=\"1\" class=\"dataframe\">\n",
       "  <thead>\n",
       "    <tr style=\"text-align: right;\">\n",
       "      <th></th>\n",
       "      <th>i</th>\n",
       "      <th>name</th>\n",
       "      <th>SMILES</th>\n",
       "      <th>unique_string</th>\n",
       "    </tr>\n",
       "  </thead>\n",
       "  <tbody>\n",
       "    <tr>\n",
       "      <th>0</th>\n",
       "      <td>0</td>\n",
       "      <td>H(14) + O2(2) &lt;=&gt; OH(15) + O(5)</td>\n",
       "      <td>[H]+[O][O]_[OH]+[O]</td>\n",
       "      <td>5+17=8+18</td>\n",
       "    </tr>\n",
       "    <tr>\n",
       "      <th>1</th>\n",
       "      <td>1</td>\n",
       "      <td>H2(13) + O(5) &lt;=&gt; H(14) + OH(15)</td>\n",
       "      <td>[H][H]+[O]_[H]+[OH]</td>\n",
       "      <td>8+16=17+18</td>\n",
       "    </tr>\n",
       "    <tr>\n",
       "      <th>2</th>\n",
       "      <td>2</td>\n",
       "      <td>H2(13) + OH(15) &lt;=&gt; H2O(8) + H(14)</td>\n",
       "      <td>[H][H]+[OH]_O+[H]</td>\n",
       "      <td>16+18=11+17</td>\n",
       "    </tr>\n",
       "    <tr>\n",
       "      <th>3</th>\n",
       "      <td>3</td>\n",
       "      <td>OH(15) + OH(15) &lt;=&gt; H2O(8) + O(5)</td>\n",
       "      <td>[OH]+[OH]_O+[O]</td>\n",
       "      <td>18+18=8+11</td>\n",
       "    </tr>\n",
       "    <tr>\n",
       "      <th>4</th>\n",
       "      <td>4</td>\n",
       "      <td>H2(13) &lt;=&gt; H(14) + H(14)</td>\n",
       "      <td>[H][H]_[H]+[H]</td>\n",
       "      <td>16=17+17</td>\n",
       "    </tr>\n",
       "    <tr>\n",
       "      <th>...</th>\n",
       "      <td>...</td>\n",
       "      <td>...</td>\n",
       "      <td>...</td>\n",
       "      <td>...</td>\n",
       "    </tr>\n",
       "    <tr>\n",
       "      <th>4715</th>\n",
       "      <td>4715</td>\n",
       "      <td>HO2(16) + CH2CHO(21) &lt;=&gt; O=O(690) + C2H3OH(58)</td>\n",
       "      <td>[O]O+[CH2]C=O_O=O+C=CO</td>\n",
       "      <td>19+24=112+121</td>\n",
       "    </tr>\n",
       "    <tr>\n",
       "      <th>4716</th>\n",
       "      <td>4716</td>\n",
       "      <td>O=O(690) + C2H3OH(58) &lt;=&gt; CO(6) + CH3O2H(46)</td>\n",
       "      <td>O=O+C=CO_[C-]#[O+]+COO</td>\n",
       "      <td>112+121=9+37</td>\n",
       "    </tr>\n",
       "    <tr>\n",
       "      <th>4717</th>\n",
       "      <td>4717</td>\n",
       "      <td>O=O(690) + C2H3OH(58) &lt;=&gt; HO2CH2CHO(147)</td>\n",
       "      <td>O=O+C=CO_O=CCOO</td>\n",
       "      <td>112+121=188</td>\n",
       "    </tr>\n",
       "    <tr>\n",
       "      <th>4718</th>\n",
       "      <td>4718</td>\n",
       "      <td>C2H3(22) + CH3CHO(35) &lt;=&gt; C2H3(22) + C[CH][O](...</td>\n",
       "      <td>[CH]=C+CC=O_[CH]=C+C[CH][O]</td>\n",
       "      <td>25+33=25+230</td>\n",
       "    </tr>\n",
       "    <tr>\n",
       "      <th>4719</th>\n",
       "      <td>4719</td>\n",
       "      <td>O=O(690) + C2H3OH(58) &lt;=&gt; H(14) + O2CH2CHO(56)</td>\n",
       "      <td>O=O+C=CO_[H]+[O]OCC=O</td>\n",
       "      <td>112+121=17+42</td>\n",
       "    </tr>\n",
       "  </tbody>\n",
       "</table>\n",
       "<p>4720 rows × 4 columns</p>\n",
       "</div>"
      ],
      "text/plain": [
       "         i                                               name  \\\n",
       "0        0                    H(14) + O2(2) <=> OH(15) + O(5)   \n",
       "1        1                   H2(13) + O(5) <=> H(14) + OH(15)   \n",
       "2        2                 H2(13) + OH(15) <=> H2O(8) + H(14)   \n",
       "3        3                  OH(15) + OH(15) <=> H2O(8) + O(5)   \n",
       "4        4                           H2(13) <=> H(14) + H(14)   \n",
       "...    ...                                                ...   \n",
       "4715  4715     HO2(16) + CH2CHO(21) <=> O=O(690) + C2H3OH(58)   \n",
       "4716  4716       O=O(690) + C2H3OH(58) <=> CO(6) + CH3O2H(46)   \n",
       "4717  4717           O=O(690) + C2H3OH(58) <=> HO2CH2CHO(147)   \n",
       "4718  4718  C2H3(22) + CH3CHO(35) <=> C2H3(22) + C[CH][O](...   \n",
       "4719  4719     O=O(690) + C2H3OH(58) <=> H(14) + O2CH2CHO(56)   \n",
       "\n",
       "                           SMILES  unique_string  \n",
       "0             [H]+[O][O]_[OH]+[O]      5+17=8+18  \n",
       "1             [H][H]+[O]_[H]+[OH]     8+16=17+18  \n",
       "2               [H][H]+[OH]_O+[H]    16+18=11+17  \n",
       "3                 [OH]+[OH]_O+[O]     18+18=8+11  \n",
       "4                  [H][H]_[H]+[H]       16=17+17  \n",
       "...                           ...            ...  \n",
       "4715       [O]O+[CH2]C=O_O=O+C=CO  19+24=112+121  \n",
       "4716       O=O+C=CO_[C-]#[O+]+COO   112+121=9+37  \n",
       "4717              O=O+C=CO_O=CCOO    112+121=188  \n",
       "4718  [CH]=C+CC=O_[CH]=C+C[CH][O]   25+33=25+230  \n",
       "4719        O=O+C=CO_[H]+[O]OCC=O  112+121=17+42  \n",
       "\n",
       "[4720 rows x 4 columns]"
      ]
     },
     "execution_count": 37,
     "metadata": {},
     "output_type": "execute_result"
    }
   ],
   "source": [
    "reaction_database"
   ]
  },
  {
   "cell_type": "code",
   "execution_count": null,
   "id": "1579660a",
   "metadata": {},
   "outputs": [],
   "source": [
    "# save results\n",
    "# species_database.to_csv(os.path.join(thermokinetic_fun.DFT_DIR, 'species_database.csv'))"
   ]
  },
  {
   "cell_type": "code",
   "execution_count": 5,
   "id": "ba43d908",
   "metadata": {},
   "outputs": [
    {
     "data": {
      "text/plain": [
       "['DFT_DIR',\n",
       " 'MAX_JOBS_RUNNING',\n",
       " '__builtins__',\n",
       " '__cached__',\n",
       " '__doc__',\n",
       " '__file__',\n",
       " '__loader__',\n",
       " '__name__',\n",
       " '__package__',\n",
       " '__spec__',\n",
       " 'arkane',\n",
       " 'arkane_reaction_complete',\n",
       " 'arkane_species_complete',\n",
       " 'ase',\n",
       " 'autotst',\n",
       " 'cclib',\n",
       " 'check_vib_irc',\n",
       " 'conformers_done_optimizing',\n",
       " 'datetime',\n",
       " 'delete_double_spaces',\n",
       " 'get_gaussian_file_energy',\n",
       " 'get_gaussian_file_geometry',\n",
       " 'get_lowest_energy_gaussian_file',\n",
       " 'get_reaction_status',\n",
       " 'get_rotor_info',\n",
       " 'get_species_status',\n",
       " 'get_termination_status',\n",
       " 'glob',\n",
       " 'job_manager',\n",
       " 'np',\n",
       " 'optimize_conformers',\n",
       " 'ordered_array_str',\n",
       " 'os',\n",
       " 'pd',\n",
       " 'reaction2smiles',\n",
       " 'reaction_index2smiles',\n",
       " 'reaction_log',\n",
       " 'reaction_smiles2index',\n",
       " 'rmgpy',\n",
       " 'run_arkane_reaction',\n",
       " 'run_arkane_species',\n",
       " 'run_opt',\n",
       " 'screen_species_conformers',\n",
       " 'set_reaction_status',\n",
       " 'set_species_status',\n",
       " 'setup_arkane_reaction',\n",
       " 'setup_arkane_species',\n",
       " 'setup_opt',\n",
       " 'shutil',\n",
       " 'smiles2reaction',\n",
       " 'species_index2smiles',\n",
       " 'species_log',\n",
       " 'species_smiles2index',\n",
       " 'sys',\n",
       " 'time',\n",
       " 'wait_for_conformer_opt',\n",
       " 'write_arkane_conformer_file',\n",
       " 'yaml']"
      ]
     },
     "execution_count": 5,
     "metadata": {},
     "output_type": "execute_result"
    }
   ],
   "source": [
    "dir(thermokinetic_fun)"
   ]
  },
  {
   "cell_type": "code",
   "execution_count": null,
   "id": "26a4b8f0",
   "metadata": {},
   "outputs": [],
   "source": []
  },
  {
   "cell_type": "code",
   "execution_count": null,
   "id": "e170983a",
   "metadata": {},
   "outputs": [],
   "source": []
  },
  {
   "cell_type": "code",
   "execution_count": null,
   "id": "0d646afd",
   "metadata": {},
   "outputs": [],
   "source": []
  },
  {
   "cell_type": "code",
   "execution_count": null,
   "id": "ee4a3bb9",
   "metadata": {},
   "outputs": [],
   "source": []
  }
 ],
 "metadata": {
  "kernelspec": {
   "display_name": "Python 3 (ipykernel)",
   "language": "python",
   "name": "python3"
  },
  "language_info": {
   "codemirror_mode": {
    "name": "ipython",
    "version": 3
   },
   "file_extension": ".py",
   "mimetype": "text/x-python",
   "name": "python",
   "nbconvert_exporter": "python",
   "pygments_lexer": "ipython3",
   "version": "3.7.16"
  }
 },
 "nbformat": 4,
 "nbformat_minor": 5
}

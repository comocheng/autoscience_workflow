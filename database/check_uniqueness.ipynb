{
 "cells": [
  {
   "cell_type": "code",
   "execution_count": 1,
   "id": "24d5e9df",
   "metadata": {},
   "outputs": [
    {
     "name": "stderr",
     "output_type": "stream",
     "text": [
      "WARNING:root:Optional package dependency \"xlwt\" not loaded. Some output features will not work.\n"
     ]
    },
    {
     "data": {
      "text/plain": [
       "<module 'thermokinetic_fun' from '/work/westgroup/harris.se/autoscience/reaction_calculator/dft/thermokinetic_fun.py'>"
      ]
     },
     "execution_count": 1,
     "metadata": {},
     "output_type": "execute_result"
    }
   ],
   "source": [
    "import os\n",
    "import sys\n",
    "import pandas as pd\n",
    "\n",
    "import rmgpy.chemkin\n",
    "\n",
    "sys.path.append('/work/westgroup/harris.se/autoscience/reaction_calculator/dft')\n",
    "import importlib\n",
    "import thermokinetic_fun\n",
    "importlib.reload(thermokinetic_fun)"
   ]
  },
  {
   "cell_type": "code",
   "execution_count": 2,
   "id": "0b2818b9",
   "metadata": {},
   "outputs": [],
   "source": [
    "# Load databases\n",
    "reaction_csv = os.path.join(thermokinetic_fun.DFT_DIR, 'reaction_database.csv')\n",
    "reaction_df = pd.read_csv(reaction_csv)\n",
    "\n",
    "# load species database that includes adjacency lists\n",
    "species_csv = os.path.join(thermokinetic_fun.DFT_DIR, 'species_database.csv')\n",
    "species_df = pd.read_csv(species_csv)"
   ]
  },
  {
   "cell_type": "code",
   "execution_count": 7,
   "id": "90615c82",
   "metadata": {},
   "outputs": [],
   "source": [
    "for i in range(0, len(species_df)):\n",
    "    sp1 = rmgpy.species.Species().from_adjacency_list(species_df['adjacency_list'].values[i])\n",
    "    for j in range(0, i):\n",
    "        sp2 = rmgpy.species.Species().from_adjacency_list(species_df['adjacency_list'].values[j])\n",
    "        assert not sp1.is_isomorphic(sp2)"
   ]
  },
  {
   "cell_type": "code",
   "execution_count": 8,
   "id": "7168203e",
   "metadata": {},
   "outputs": [
    {
     "data": {
      "text/html": [
       "<div>\n",
       "<style scoped>\n",
       "    .dataframe tbody tr th:only-of-type {\n",
       "        vertical-align: middle;\n",
       "    }\n",
       "\n",
       "    .dataframe tbody tr th {\n",
       "        vertical-align: top;\n",
       "    }\n",
       "\n",
       "    .dataframe thead th {\n",
       "        text-align: right;\n",
       "    }\n",
       "</style>\n",
       "<table border=\"1\" class=\"dataframe\">\n",
       "  <thead>\n",
       "    <tr style=\"text-align: right;\">\n",
       "      <th></th>\n",
       "      <th>Unnamed: 0</th>\n",
       "      <th>i</th>\n",
       "      <th>name</th>\n",
       "      <th>SMILES</th>\n",
       "      <th>unique_string</th>\n",
       "    </tr>\n",
       "  </thead>\n",
       "  <tbody>\n",
       "    <tr>\n",
       "      <th>0</th>\n",
       "      <td>0</td>\n",
       "      <td>0</td>\n",
       "      <td>H(14) + O2(2) &lt;=&gt; OH(15) + O(5)</td>\n",
       "      <td>[H]+[O][O]_[OH]+[O]</td>\n",
       "      <td>5+17=8+18</td>\n",
       "    </tr>\n",
       "    <tr>\n",
       "      <th>1</th>\n",
       "      <td>1</td>\n",
       "      <td>1</td>\n",
       "      <td>H2(13) + O(5) &lt;=&gt; H(14) + OH(15)</td>\n",
       "      <td>[H][H]+[O]_[H]+[OH]</td>\n",
       "      <td>8+16=17+18</td>\n",
       "    </tr>\n",
       "    <tr>\n",
       "      <th>2</th>\n",
       "      <td>2</td>\n",
       "      <td>2</td>\n",
       "      <td>H2(13) + OH(15) &lt;=&gt; H2O(8) + H(14)</td>\n",
       "      <td>[H][H]+[OH]_O+[H]</td>\n",
       "      <td>16+18=11+17</td>\n",
       "    </tr>\n",
       "    <tr>\n",
       "      <th>3</th>\n",
       "      <td>3</td>\n",
       "      <td>3</td>\n",
       "      <td>OH(15) + OH(15) &lt;=&gt; H2O(8) + O(5)</td>\n",
       "      <td>[OH]+[OH]_O+[O]</td>\n",
       "      <td>18+18=8+11</td>\n",
       "    </tr>\n",
       "    <tr>\n",
       "      <th>4</th>\n",
       "      <td>4</td>\n",
       "      <td>4</td>\n",
       "      <td>H2(13) &lt;=&gt; H(14) + H(14)</td>\n",
       "      <td>[H][H]_[H]+[H]</td>\n",
       "      <td>16=17+17</td>\n",
       "    </tr>\n",
       "    <tr>\n",
       "      <th>...</th>\n",
       "      <td>...</td>\n",
       "      <td>...</td>\n",
       "      <td>...</td>\n",
       "      <td>...</td>\n",
       "      <td>...</td>\n",
       "    </tr>\n",
       "    <tr>\n",
       "      <th>4715</th>\n",
       "      <td>4715</td>\n",
       "      <td>4715</td>\n",
       "      <td>HO2(16) + CH2CHO(21) &lt;=&gt; O=O(690) + C2H3OH(58)</td>\n",
       "      <td>[O]O+[CH2]C=O_O=O+C=CO</td>\n",
       "      <td>19+24=112+121</td>\n",
       "    </tr>\n",
       "    <tr>\n",
       "      <th>4716</th>\n",
       "      <td>4716</td>\n",
       "      <td>4716</td>\n",
       "      <td>O=O(690) + C2H3OH(58) &lt;=&gt; CO(6) + CH3O2H(46)</td>\n",
       "      <td>O=O+C=CO_[C-]#[O+]+COO</td>\n",
       "      <td>112+121=9+37</td>\n",
       "    </tr>\n",
       "    <tr>\n",
       "      <th>4717</th>\n",
       "      <td>4717</td>\n",
       "      <td>4717</td>\n",
       "      <td>O=O(690) + C2H3OH(58) &lt;=&gt; HO2CH2CHO(147)</td>\n",
       "      <td>O=O+C=CO_O=CCOO</td>\n",
       "      <td>112+121=188</td>\n",
       "    </tr>\n",
       "    <tr>\n",
       "      <th>4718</th>\n",
       "      <td>4718</td>\n",
       "      <td>4718</td>\n",
       "      <td>C2H3(22) + CH3CHO(35) &lt;=&gt; C2H3(22) + C[CH][O](...</td>\n",
       "      <td>[CH]=C+CC=O_[CH]=C+C[CH][O]</td>\n",
       "      <td>25+33=25+230</td>\n",
       "    </tr>\n",
       "    <tr>\n",
       "      <th>4719</th>\n",
       "      <td>4719</td>\n",
       "      <td>4719</td>\n",
       "      <td>O=O(690) + C2H3OH(58) &lt;=&gt; H(14) + O2CH2CHO(56)</td>\n",
       "      <td>O=O+C=CO_[H]+[O]OCC=O</td>\n",
       "      <td>112+121=17+42</td>\n",
       "    </tr>\n",
       "  </tbody>\n",
       "</table>\n",
       "<p>4720 rows × 5 columns</p>\n",
       "</div>"
      ],
      "text/plain": [
       "      Unnamed: 0     i                                               name  \\\n",
       "0              0     0                    H(14) + O2(2) <=> OH(15) + O(5)   \n",
       "1              1     1                   H2(13) + O(5) <=> H(14) + OH(15)   \n",
       "2              2     2                 H2(13) + OH(15) <=> H2O(8) + H(14)   \n",
       "3              3     3                  OH(15) + OH(15) <=> H2O(8) + O(5)   \n",
       "4              4     4                           H2(13) <=> H(14) + H(14)   \n",
       "...          ...   ...                                                ...   \n",
       "4715        4715  4715     HO2(16) + CH2CHO(21) <=> O=O(690) + C2H3OH(58)   \n",
       "4716        4716  4716       O=O(690) + C2H3OH(58) <=> CO(6) + CH3O2H(46)   \n",
       "4717        4717  4717           O=O(690) + C2H3OH(58) <=> HO2CH2CHO(147)   \n",
       "4718        4718  4718  C2H3(22) + CH3CHO(35) <=> C2H3(22) + C[CH][O](...   \n",
       "4719        4719  4719     O=O(690) + C2H3OH(58) <=> H(14) + O2CH2CHO(56)   \n",
       "\n",
       "                           SMILES  unique_string  \n",
       "0             [H]+[O][O]_[OH]+[O]      5+17=8+18  \n",
       "1             [H][H]+[O]_[H]+[OH]     8+16=17+18  \n",
       "2               [H][H]+[OH]_O+[H]    16+18=11+17  \n",
       "3                 [OH]+[OH]_O+[O]     18+18=8+11  \n",
       "4                  [H][H]_[H]+[H]       16=17+17  \n",
       "...                           ...            ...  \n",
       "4715       [O]O+[CH2]C=O_O=O+C=CO  19+24=112+121  \n",
       "4716       O=O+C=CO_[C-]#[O+]+COO   112+121=9+37  \n",
       "4717              O=O+C=CO_O=CCOO    112+121=188  \n",
       "4718  [CH]=C+CC=O_[CH]=C+C[CH][O]   25+33=25+230  \n",
       "4719        O=O+C=CO_[H]+[O]OCC=O  112+121=17+42  \n",
       "\n",
       "[4720 rows x 5 columns]"
      ]
     },
     "execution_count": 8,
     "metadata": {},
     "output_type": "execute_result"
    }
   ],
   "source": [
    "reaction_df"
   ]
  },
  {
   "cell_type": "code",
   "execution_count": 10,
   "id": "697dd5fa",
   "metadata": {},
   "outputs": [
    {
     "ename": "AssertionError",
     "evalue": "240, 83",
     "output_type": "error",
     "traceback": [
      "\u001b[0;31m---------------------------------------------------------------------------\u001b[0m",
      "\u001b[0;31mAssertionError\u001b[0m                            Traceback (most recent call last)",
      "\u001b[0;32m/tmp/ipykernel_46144/1390693046.py\u001b[0m in \u001b[0;36m<module>\u001b[0;34m\u001b[0m\n\u001b[1;32m      1\u001b[0m \u001b[0;32mfor\u001b[0m \u001b[0mi\u001b[0m \u001b[0;32min\u001b[0m \u001b[0mrange\u001b[0m\u001b[0;34m(\u001b[0m\u001b[0;36m0\u001b[0m\u001b[0;34m,\u001b[0m \u001b[0mlen\u001b[0m\u001b[0;34m(\u001b[0m\u001b[0mreaction_df\u001b[0m\u001b[0;34m)\u001b[0m\u001b[0;34m)\u001b[0m\u001b[0;34m:\u001b[0m\u001b[0;34m\u001b[0m\u001b[0;34m\u001b[0m\u001b[0m\n\u001b[1;32m      2\u001b[0m     \u001b[0;32mfor\u001b[0m \u001b[0mj\u001b[0m \u001b[0;32min\u001b[0m \u001b[0mrange\u001b[0m\u001b[0;34m(\u001b[0m\u001b[0;36m0\u001b[0m\u001b[0;34m,\u001b[0m \u001b[0mi\u001b[0m\u001b[0;34m)\u001b[0m\u001b[0;34m:\u001b[0m\u001b[0;34m\u001b[0m\u001b[0;34m\u001b[0m\u001b[0m\n\u001b[0;32m----> 3\u001b[0;31m         \u001b[0;32massert\u001b[0m \u001b[0mreaction_df\u001b[0m\u001b[0;34m[\u001b[0m\u001b[0;34m'unique_string'\u001b[0m\u001b[0;34m]\u001b[0m\u001b[0;34m.\u001b[0m\u001b[0mvalues\u001b[0m\u001b[0;34m[\u001b[0m\u001b[0mi\u001b[0m\u001b[0;34m]\u001b[0m \u001b[0;34m!=\u001b[0m \u001b[0mreaction_df\u001b[0m\u001b[0;34m[\u001b[0m\u001b[0;34m'unique_string'\u001b[0m\u001b[0;34m]\u001b[0m\u001b[0;34m.\u001b[0m\u001b[0mvalues\u001b[0m\u001b[0;34m[\u001b[0m\u001b[0mj\u001b[0m\u001b[0;34m]\u001b[0m\u001b[0;34m,\u001b[0m \u001b[0;34mf'{i}, {j}'\u001b[0m\u001b[0;34m\u001b[0m\u001b[0;34m\u001b[0m\u001b[0m\n\u001b[0m",
      "\u001b[0;31mAssertionError\u001b[0m: 240, 83"
     ]
    }
   ],
   "source": [
    "for i in range(0, len(reaction_df)):\n",
    "    for j in range(0, i):\n",
    "        assert reaction_df['unique_string'].values[i] != reaction_df['unique_string'].values[j], f'{i}, {j}'"
   ]
  },
  {
   "cell_type": "code",
   "execution_count": null,
   "id": "edcccb2e",
   "metadata": {},
   "outputs": [],
   "source": []
  }
 ],
 "metadata": {
  "kernelspec": {
   "display_name": "Python 3 (ipykernel)",
   "language": "python",
   "name": "python3"
  },
  "language_info": {
   "codemirror_mode": {
    "name": "ipython",
    "version": 3
   },
   "file_extension": ".py",
   "mimetype": "text/x-python",
   "name": "python",
   "nbconvert_exporter": "python",
   "pygments_lexer": "ipython3",
   "version": "3.7.16"
  }
 },
 "nbformat": 4,
 "nbformat_minor": 5
}

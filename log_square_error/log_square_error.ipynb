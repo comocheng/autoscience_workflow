{
 "cells": [
  {
   "cell_type": "code",
   "execution_count": 1,
   "id": "4856b299",
   "metadata": {},
   "outputs": [],
   "source": [
    "# notebook to compute log squared error of a mechanism compared to all data points from RCM experiments"
   ]
  },
  {
   "cell_type": "code",
   "execution_count": 2,
   "id": "8bc34249",
   "metadata": {},
   "outputs": [],
   "source": [
    "import os\n",
    "import sys\n",
    "import cantera as ct\n",
    "import numpy as np\n",
    "import pandas as pd\n",
    "import concurrent.futures\n",
    "import rmgpy.chemkin\n",
    "import subprocess"
   ]
  },
  {
   "cell_type": "code",
   "execution_count": 3,
   "id": "6ad3b60c",
   "metadata": {},
   "outputs": [],
   "source": [
    "# load the mechanism\n",
    "\n",
    "base_rmg = '/work/westgroup/harris.se/autoscience/reaction_calculator/models/base_rmg_1week/chem_annotated.cti'\n",
    "improved_rmg = '/work/westgroup/harris.se/autoscience/reaction_calculator/models/base_rmg_1week/cutoff3_20230505_top50.cti'\n",
    "aramco = '/work/westgroup/harris.se/autoscience/autoscience/butane/models/aramco/AramcoMech3.0.cti'"
   ]
  },
  {
   "cell_type": "code",
   "execution_count": 4,
   "id": "28e2c17a",
   "metadata": {},
   "outputs": [],
   "source": [
    "\n",
    "# Take Reactor Conditions from Table 7 of supplementary info in\n",
    "# https://doi-org.ezproxy.neu.edu/10.1016/j.combustflame.2010.01.016\n",
    "def run_simulation(T, P, X):\n",
    "    # function to run a RCM simulation\n",
    "\n",
    "    # gas is a global object\n",
    "    t_end = 1.0  # time in seconds\n",
    "    base_gas.TPX = T, P, X\n",
    "\n",
    "    reactor = ct.IdealGasReactor(base_gas)\n",
    "    reactor_net = ct.ReactorNet([reactor])\n",
    "\n",
    "    times = [0]\n",
    "    T = [reactor.T]\n",
    "    P = [reactor.thermo.P]\n",
    "    X = [reactor.thermo.X]  # mol fractions\n",
    "    while reactor_net.time < t_end:\n",
    "        try:\n",
    "            reactor_net.step()\n",
    "        except ct._cantera.CanteraError:\n",
    "            print('Reactor failed to solve!')\n",
    "            print('!!!!!!!!!!!!!!!!!!!!!!!!!!!!!!!!!!!!!!!!')\n",
    "            return 0\n",
    "\n",
    "        times.append(reactor_net.time)\n",
    "        T.append(reactor.T)\n",
    "        P.append(reactor.thermo.P)\n",
    "        X.append(reactor.thermo.X)\n",
    "\n",
    "    slopes = np.gradient(P, times)\n",
    "    delay_i = np.argmax(slopes)\n",
    "    return times[delay_i]"
   ]
  },
  {
   "cell_type": "code",
   "execution_count": 5,
   "id": "f4ad1ec9",
   "metadata": {},
   "outputs": [],
   "source": [
    "# Load the experimental conditions\n",
    "ignition_delay_data = '/work/westgroup/harris.se/autoscience/autoscience/butane/experimental_data/butane_ignition_delay.csv'\n",
    "# ignition_delay_data = '/home/moon/autoscience/autoscience/butane/experimental_data/butane_ignition_delay.csv'\n",
    "df_exp = pd.read_csv(ignition_delay_data)\n",
    "table_exp = df_exp[df_exp['Table'] < 13]\n",
    "# Define Initial conditions using experimental data\n",
    "tau_exp = table_exp['time (ms)'].values.astype(float)  # ignition delay\n",
    "T7 = table_exp['T_C'].values  # Temperatures\n",
    "P7 = table_exp['nominal pressure(atm)'].values * ct.one_atm  # pressures in atm\n",
    "phi7 = table_exp['phi'].values  # equivalence ratios\n",
    "# list of starting conditions\n",
    "# Mixture compositions taken from table 2 of\n",
    "# https://doi-org.ezproxy.neu.edu/10.1016/j.combustflame.2010.01.016\n",
    "concentrations = []\n",
    "for i in range(0, len(phi7)):\n",
    "    if phi7[i] == 0.3:\n",
    "        x_diluent = 0.7821\n",
    "        conc_dict = {\n",
    "            'O2(2)': 0.2083,\n",
    "            'butane(1)': 0.00962\n",
    "        }\n",
    "    elif phi7[i] == 0.5:\n",
    "        x_diluent = 0.7771\n",
    "        conc_dict = {\n",
    "            'O2(2)': 0.2070,\n",
    "            'butane(1)': 0.01595\n",
    "        }\n",
    "    elif phi7[i] == 1.0:\n",
    "        x_diluent = 0.7649\n",
    "        conc_dict = {\n",
    "            'O2(2)': 0.2038,\n",
    "            'butane(1)': 0.03135\n",
    "        }\n",
    "    elif phi7[i] == 2.0:\n",
    "        x_diluent = 0.7416\n",
    "        conc_dict = {\n",
    "            'O2(2)': 0.1976,\n",
    "            'butane(1)': 0.06079\n",
    "        }\n",
    "    else:\n",
    "        raise ValueError\n",
    "    if mech == 3:\n",
    "        o2_conc = conc_dict.pop('O2(2)')\n",
    "        conc_dict['O2'] = o2_conc\n",
    "\n",
    "        butane_conc = conc_dict.pop('butane(1)')\n",
    "        conc_dict['C4H10'] = butane_conc\n",
    "    \n",
    "    x_N2 = table_exp['%N2'].values[i] / 100.0 * x_diluent\n",
    "    x_Ar = table_exp['%Ar'].values[i] / 100.0 * x_diluent\n",
    "    x_CO2 = table_exp['%CO2'].values[i] / 100.0 * x_diluent\n",
    "    conc_dict['N2'] = x_N2\n",
    "    conc_dict['Ar'] = x_Ar\n",
    "    if mech < 3:\n",
    "        conc_dict['CO2(7)'] = x_CO2\n",
    "    else:\n",
    "        conc_dict['CO2'] = x_CO2\n",
    "    concentrations.append(conc_dict)\n",
    "assert len(T7) == len(concentrations)"
   ]
  },
  {
   "cell_type": "code",
   "execution_count": null,
   "id": "aafd1c9c",
   "metadata": {},
   "outputs": [],
   "source": [
    "# # compute and save the delays\n",
    "# print('Running Base RMG Delays')\n",
    "# base_rmg_delays = np.zeros(len(concentrations))\n",
    "# base_gas = ct.Solution(base_rmg)\n",
    "# condition_indices = np.arange(0, len(concentrations))\n",
    "# with concurrent.futures.ProcessPoolExecutor(max_workers=16) as executor:\n",
    "#     for condition_index, delay_time in zip(condition_indices, executor.map(\n",
    "#         run_simulation,\n",
    "#         [T7[j] for j in condition_indices],\n",
    "#         [P7[j] for j in condition_indices],\n",
    "#         [concentrations[j] for j in condition_indices]\n",
    "#     )):\n",
    "#         base_rmg_delays[condition_index] = delay_time\n",
    "# np.save('base_rmg_delays.npy', base_rmg_delays)"
   ]
  },
  {
   "cell_type": "code",
   "execution_count": null,
   "id": "346e4fb9",
   "metadata": {},
   "outputs": [],
   "source": [
    "# print('Running Improved RMG Delays')\n",
    "# improved_rmg_delays = np.zeros(len(concentrations))\n",
    "# base_gas = ct.Solution(improved_rmg)\n",
    "# condition_indices = np.arange(0, len(concentrations))\n",
    "# with concurrent.futures.ProcessPoolExecutor(max_workers=16) as executor:\n",
    "#     for condition_index, delay_time in zip(condition_indices, executor.map(\n",
    "#         run_simulation,\n",
    "#         [T7[j] for j in condition_indices],\n",
    "#         [P7[j] for j in condition_indices],\n",
    "#         [concentrations[j] for j in condition_indices]\n",
    "#     )):\n",
    "#         improved_rmg_delays[condition_index] = delay_time\n",
    "# np.save('improved_rmg_delays.npy', improved_rmg_delays)"
   ]
  },
  {
   "cell_type": "code",
   "execution_count": null,
   "id": "8c0d7185",
   "metadata": {},
   "outputs": [],
   "source": [
    "# print('Running Aramco Delays')\n",
    "# aramco_delays = np.zeros(len(concentrations))\n",
    "# improved_rmg_delays = np.zeros(len(concentrations))\n",
    "# base_gas = ct.Solution(aramco)\n",
    "# condition_indices = np.arange(0, len(concentrations))\n",
    "# with concurrent.futures.ProcessPoolExecutor(max_workers=16) as executor:\n",
    "#     for condition_index, delay_time in zip(condition_indices, executor.map(\n",
    "#         run_simulation,\n",
    "#         [T7[j] for j in condition_indices],\n",
    "#         [P7[j] for j in condition_indices],\n",
    "#         [concentrations[j] for j in condition_indices]\n",
    "#     )):\n",
    "#         aramco_delays[condition_index] = delay_time\n",
    "# np.save('aramco_delays.npy', aramco_delays)"
   ]
  },
  {
   "cell_type": "code",
   "execution_count": 17,
   "id": "590b796a",
   "metadata": {},
   "outputs": [],
   "source": [
    "base_rmg_delays = np.load('base_rmg_delays_parallel.npy')\n",
    "improved_rmg_delays = np.load('improved_rmg_delays_parallel.npy')\n",
    "# aramco_delays = np.load('aramco_delays.npy')"
   ]
  },
  {
   "cell_type": "code",
   "execution_count": 18,
   "id": "cc37d252",
   "metadata": {},
   "outputs": [],
   "source": [
    "tau_exp[tau_exp == 0] = np.nan"
   ]
  },
  {
   "cell_type": "code",
   "execution_count": 32,
   "id": "7eb02811",
   "metadata": {},
   "outputs": [],
   "source": [
    "def calc_log_squared_error(mech_delays):\n",
    "    return np.nansum(np.float_power(np.log(mech_delays) - np.log(tau_exp / 1000.0), 2.0))"
   ]
  },
  {
   "cell_type": "code",
   "execution_count": null,
   "id": "01c061d8",
   "metadata": {},
   "outputs": [],
   "source": []
  },
  {
   "cell_type": "code",
   "execution_count": null,
   "id": "66302e63",
   "metadata": {},
   "outputs": [],
   "source": []
  },
  {
   "cell_type": "code",
   "execution_count": 33,
   "id": "516cb428",
   "metadata": {},
   "outputs": [
    {
     "data": {
      "text/plain": [
       "95.58979196359489"
      ]
     },
     "execution_count": 33,
     "metadata": {},
     "output_type": "execute_result"
    }
   ],
   "source": [
    "calc_log_squared_error(base_rmg_delays)"
   ]
  },
  {
   "cell_type": "code",
   "execution_count": 34,
   "id": "2277b925",
   "metadata": {},
   "outputs": [
    {
     "data": {
      "text/plain": [
       "82.94925700798635"
      ]
     },
     "execution_count": 34,
     "metadata": {},
     "output_type": "execute_result"
    }
   ],
   "source": [
    "calc_log_squared_error(improved_rmg_delays)"
   ]
  },
  {
   "cell_type": "code",
   "execution_count": null,
   "id": "49cdbbc7",
   "metadata": {},
   "outputs": [],
   "source": []
  },
  {
   "cell_type": "code",
   "execution_count": 10,
   "id": "8379dc5f",
   "metadata": {},
   "outputs": [
    {
     "data": {
      "text/plain": [
       "array([   nan,    nan,    nan,    nan,    nan,  63.4 ,   8.25,   8.25,\n",
       "         3.36,   3.05,    nan,  54.5 ,  56.  ,  26.23,  26.23,  26.7 ,\n",
       "        26.9 ,  42.  ,  44.1 ,  38.15,  39.34,  26.  ,  30.  ,  37.3 ,\n",
       "        33.9 ,  10.07,   9.89,   2.45,   2.29, 128.  , 131.  ,  40.5 ,\n",
       "        39.7 ,  13.6 ,  13.35,  10.5 ,  10.35,  12.8 ,  13.  ,  15.9 ,\n",
       "        16.62,  10.3 ,  11.52,   4.18,   4.15, 300.  ,  69.  ,  68.  ,\n",
       "       307.  , 204.  , 113.  , 115.  ,  18.  ,  19.07,   5.6 ,   5.59,\n",
       "       221.  , 318.  ,  31.8 ,  32.  ,  14.86,  15.4 ,  16.6 ,  17.7 ,\n",
       "        18.94,  24.6 ,  24.9 ,  28.  ,  27.1 ,  15.8 ,  15.3 ,   4.1 ,\n",
       "         4.6 , 200.  , 139.  , 150.  ,  24.2 ,  21.2 ,  11.16,  10.4 ,\n",
       "         6.5 ,   6.6 ,   7.26,   6.  ,   8.6 ,   3.68,   4.3 ,  86.5 ,\n",
       "        73.9 ,  31.3 ,  33.  ,  30.9 ,  30.  ,  56.  ,  56.6 ,  67.9 ,\n",
       "        66.4 ,  65.2 ,  67.1 ,  47.  ,  27.9 ,  28.05,  12.  ,  33.  ,\n",
       "        32.8 ,  14.2 ,  11.9 ,   8.55,   7.7 ,   8.9 ,   8.55,  10.8 ,\n",
       "        10.06,  11.4 ,  10.9 ,   7.07,   6.92,  37.14,  46.  ,  32.6 ,\n",
       "       114.  , 116.  ,  77.  ,  81.  ,  26.7 ,  27.75,  20.2 ,  20.9 ,\n",
       "        22.24,  22.83,  26.6 ,  26.4 ,  68.3 ,  70.25,  27.8 ,  29.07,\n",
       "         9.6 ,  10.7 ,   6.18,   6.11,  49.42,  64.9 ,  66.5 ,  14.42])"
      ]
     },
     "execution_count": 10,
     "metadata": {},
     "output_type": "execute_result"
    }
   ],
   "source": [
    "tau_exp"
   ]
  },
  {
   "cell_type": "code",
   "execution_count": 7,
   "id": "eb12bc30",
   "metadata": {},
   "outputs": [
    {
     "data": {
      "text/plain": [
       "array([0.05828507, 0.09985099, 0.06010001, 0.038313  , 0.0271372 ,\n",
       "       0.01025831, 0.00445635, 0.00417027, 0.00317239, 0.00307702,\n",
       "       0.03292107, 0.01842591, 0.01842591, 0.01009465, 0.01009465,\n",
       "       0.01561573, 0.01533243, 0.0250966 , 0.02530579, 0.01878335,\n",
       "       0.01901561, 0.01291083, 0.01330269, 0.01074527, 0.01057943,\n",
       "       0.00429174, 0.00422855, 0.00174308, 0.00176272, 0.02299398,\n",
       "       0.02299398, 0.01288265, 0.01288265, 0.00524975, 0.00524975,\n",
       "       0.00461754, 0.00461754, 0.00931406, 0.00931406, 0.00932967,\n",
       "       0.00928417, 0.00557269, 0.00542476, 0.00237408, 0.00234083,\n",
       "       0.04418948, 0.04678523, 0.04678523, 0.04764411, 0.022299  ,\n",
       "       0.02310303, 0.02310303, 0.01107307, 0.01178512, 0.00511401,\n",
       "       0.00505429, 0.05836062, 0.05661392, 0.01628771, 0.01628771,\n",
       "       0.01118367, 0.01118367, 0.01152664, 0.01152664, 0.01978862,\n",
       "       0.02565038, 0.02560348, 0.01924782, 0.01901561, 0.00890208,\n",
       "       0.00862532, 0.00455598, 0.00455598, 0.04051895, 0.04181582,\n",
       "       0.04051895, 0.01066443, 0.01091195, 0.00668479, 0.00680367,\n",
       "       0.00431895, 0.00432168, 0.00864762, 0.00906064, 0.00876849,\n",
       "       0.00434138, 0.00440357, 0.04830086, 0.04773837, 0.0462931 ,\n",
       "       0.04678523, 0.07270171, 0.07446053, 0.14525752, 0.14593983,\n",
       "       0.10720529, 0.09406754, 0.0644564 , 0.05500488, 0.03497752,\n",
       "       0.02436985, 0.02310303, 0.01383285, 0.02011146, 0.02056926,\n",
       "       0.01158103, 0.01130963, 0.00991704, 0.00991704, 0.01650661,\n",
       "       0.01650661, 0.02547584, 0.02554517, 0.01878335, 0.01878335,\n",
       "       0.00918735, 0.00904364, 0.01496126, 0.01496126, 0.01496126,\n",
       "       0.07419046, 0.07419046, 0.05090683, 0.05090683, 0.04542587,\n",
       "       0.04542587, 0.09496845, 0.08831859, 0.14651523, 0.14651523,\n",
       "       0.1326035 , 0.1313381 , 0.03669359, 0.0377205 , 0.02104256,\n",
       "       0.02056926, 0.01172668, 0.01172668, 0.0102128 , 0.0102128 ,\n",
       "       0.02731933, 0.02897351, 0.02897351, 0.02000985])"
      ]
     },
     "execution_count": 7,
     "metadata": {},
     "output_type": "execute_result"
    }
   ],
   "source": [
    "base_rmg_delays"
   ]
  },
  {
   "cell_type": "code",
   "execution_count": 38,
   "id": "63af8e3d",
   "metadata": {},
   "outputs": [
    {
     "data": {
      "text/plain": [
       "0     0.00\n",
       "1     0.00\n",
       "2     0.00\n",
       "3     0.00\n",
       "4     0.00\n",
       "5    63.40\n",
       "6     8.25\n",
       "7     8.25\n",
       "8     3.36\n",
       "9     3.05\n",
       "Name: time (ms), dtype: float64"
      ]
     },
     "execution_count": 38,
     "metadata": {},
     "output_type": "execute_result"
    }
   ],
   "source": [
    "table_exp[table_exp['Table'] == 1]['time (ms)']"
   ]
  },
  {
   "cell_type": "code",
   "execution_count": 40,
   "id": "41413a00",
   "metadata": {},
   "outputs": [],
   "source": [
    "aramco_mech = ct.Solution(aramco)"
   ]
  },
  {
   "cell_type": "code",
   "execution_count": 45,
   "id": "d3082f22",
   "metadata": {},
   "outputs": [
    {
     "data": {
      "text/plain": [
       "160"
      ]
     },
     "execution_count": 45,
     "metadata": {},
     "output_type": "execute_result"
    }
   ],
   "source": [
    "aramco_mech.species_names.index('C4H10')"
   ]
  },
  {
   "cell_type": "code",
   "execution_count": null,
   "id": "6204f06d",
   "metadata": {},
   "outputs": [],
   "source": []
  },
  {
   "cell_type": "code",
   "execution_count": null,
   "id": "46015c75",
   "metadata": {},
   "outputs": [],
   "source": []
  }
 ],
 "metadata": {
  "kernelspec": {
   "display_name": "Python 3 (ipykernel)",
   "language": "python",
   "name": "python3"
  },
  "language_info": {
   "codemirror_mode": {
    "name": "ipython",
    "version": 3
   },
   "file_extension": ".py",
   "mimetype": "text/x-python",
   "name": "python",
   "nbconvert_exporter": "python",
   "pygments_lexer": "ipython3",
   "version": "3.7.12"
  }
 },
 "nbformat": 4,
 "nbformat_minor": 5
}

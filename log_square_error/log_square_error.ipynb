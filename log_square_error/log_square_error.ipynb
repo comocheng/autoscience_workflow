{
 "cells": [
  {
   "cell_type": "code",
   "execution_count": 1,
   "id": "4856b299",
   "metadata": {},
   "outputs": [],
   "source": [
    "# notebook to compute log squared error of a mechanism compared to all data points from RCM experiments"
   ]
  },
  {
   "cell_type": "code",
   "execution_count": 2,
   "id": "8bc34249",
   "metadata": {},
   "outputs": [],
   "source": [
    "import os\n",
    "import sys\n",
    "import cantera as ct\n",
    "import numpy as np\n",
    "import pandas as pd\n",
    "import concurrent.futures\n",
    "import rmgpy.chemkin\n",
    "import subprocess"
   ]
  },
  {
   "cell_type": "code",
   "execution_count": 3,
   "id": "6ad3b60c",
   "metadata": {},
   "outputs": [],
   "source": [
    "# load the mechanism\n",
    "mech = 1\n",
    "base_rmg = '/work/westgroup/harris.se/autoscience/reaction_calculator/models/base_rmg_1week/chem_annotated.cti'\n",
    "improved_rmg = '/work/westgroup/harris.se/autoscience/reaction_calculator/models/base_rmg_1week/cutoff3_20230505_top50.cti'\n",
    "aramco = '/work/westgroup/harris.se/autoscience/autoscience/butane/models/aramco/AramcoMech3.0.cti'"
   ]
  },
  {
   "cell_type": "code",
   "execution_count": 4,
   "id": "28e2c17a",
   "metadata": {},
   "outputs": [],
   "source": [
    "\n",
    "# Take Reactor Conditions from Table 7 of supplementary info in\n",
    "# https://doi-org.ezproxy.neu.edu/10.1016/j.combustflame.2010.01.016\n",
    "def run_simulation(T, P, X):\n",
    "    # function to run a RCM simulation\n",
    "\n",
    "    # gas is a global object\n",
    "    t_end = 1.0  # time in seconds\n",
    "    base_gas.TPX = T, P, X\n",
    "\n",
    "    reactor = ct.IdealGasReactor(base_gas)\n",
    "    reactor_net = ct.ReactorNet([reactor])\n",
    "\n",
    "    times = [0]\n",
    "    T = [reactor.T]\n",
    "    P = [reactor.thermo.P]\n",
    "    X = [reactor.thermo.X]  # mol fractions\n",
    "    while reactor_net.time < t_end:\n",
    "        try:\n",
    "            reactor_net.step()\n",
    "        except ct._cantera.CanteraError:\n",
    "            print('Reactor failed to solve!')\n",
    "            print('!!!!!!!!!!!!!!!!!!!!!!!!!!!!!!!!!!!!!!!!')\n",
    "            return 0\n",
    "\n",
    "        times.append(reactor_net.time)\n",
    "        T.append(reactor.T)\n",
    "        P.append(reactor.thermo.P)\n",
    "        X.append(reactor.thermo.X)\n",
    "\n",
    "    slopes = np.gradient(P, times)\n",
    "    delay_i = np.argmax(slopes)\n",
    "    return times[delay_i]"
   ]
  },
  {
   "cell_type": "code",
   "execution_count": 5,
   "id": "f4ad1ec9",
   "metadata": {},
   "outputs": [],
   "source": [
    "# Load the experimental conditions\n",
    "ignition_delay_data = '/work/westgroup/harris.se/autoscience/autoscience/butane/experimental_data/butane_ignition_delay.csv'\n",
    "# ignition_delay_data = '/home/moon/autoscience/autoscience/butane/experimental_data/butane_ignition_delay.csv'\n",
    "df_exp = pd.read_csv(ignition_delay_data)\n",
    "table_exp = df_exp[df_exp['Table'] < 13]\n",
    "# Define Initial conditions using experimental data\n",
    "tau_exp = table_exp['time (ms)'].values.astype(float)  # ignition delay\n",
    "T7 = table_exp['T_C'].values  # Temperatures\n",
    "P7 = table_exp['nominal pressure(atm)'].values * ct.one_atm  # pressures in atm\n",
    "phi7 = table_exp['phi'].values  # equivalence ratios\n",
    "# list of starting conditions\n",
    "# Mixture compositions taken from table 2 of\n",
    "# https://doi-org.ezproxy.neu.edu/10.1016/j.combustflame.2010.01.016\n",
    "concentrations = []\n",
    "for i in range(0, len(phi7)):\n",
    "    if phi7[i] == 0.3:\n",
    "        x_diluent = 0.7821\n",
    "        conc_dict = {\n",
    "            'O2(2)': 0.2083,\n",
    "            'butane(1)': 0.00962\n",
    "        }\n",
    "    elif phi7[i] == 0.5:\n",
    "        x_diluent = 0.7771\n",
    "        conc_dict = {\n",
    "            'O2(2)': 0.2070,\n",
    "            'butane(1)': 0.01595\n",
    "        }\n",
    "    elif phi7[i] == 1.0:\n",
    "        x_diluent = 0.7649\n",
    "        conc_dict = {\n",
    "            'O2(2)': 0.2038,\n",
    "            'butane(1)': 0.03135\n",
    "        }\n",
    "    elif phi7[i] == 2.0:\n",
    "        x_diluent = 0.7416\n",
    "        conc_dict = {\n",
    "            'O2(2)': 0.1976,\n",
    "            'butane(1)': 0.06079\n",
    "        }\n",
    "    else:\n",
    "        raise ValueError\n",
    "    if mech == 3:\n",
    "        o2_conc = conc_dict.pop('O2(2)')\n",
    "        conc_dict['O2'] = o2_conc\n",
    "\n",
    "        butane_conc = conc_dict.pop('butane(1)')\n",
    "        conc_dict['C4H10'] = butane_conc\n",
    "    \n",
    "    x_N2 = table_exp['%N2'].values[i] / 100.0 * x_diluent\n",
    "    x_Ar = table_exp['%Ar'].values[i] / 100.0 * x_diluent\n",
    "    x_CO2 = table_exp['%CO2'].values[i] / 100.0 * x_diluent\n",
    "    conc_dict['N2'] = x_N2\n",
    "    conc_dict['Ar'] = x_Ar\n",
    "    if mech < 3:\n",
    "        conc_dict['CO2(7)'] = x_CO2\n",
    "    else:\n",
    "        conc_dict['CO2'] = x_CO2\n",
    "    concentrations.append(conc_dict)\n",
    "assert len(T7) == len(concentrations)"
   ]
  },
  {
   "cell_type": "code",
   "execution_count": 6,
   "id": "e539a6c4",
   "metadata": {},
   "outputs": [
    {
     "data": {
      "text/plain": [
       "array([ 746,  845,  876,  901,  920,  978, 1042, 1048, 1074, 1077,  683,\n",
       "        707,  707,  750,  750,  801,  800,  854,  852,  886,  885,  913,\n",
       "        911,  925,  926,  984,  985, 1053, 1052,  685,  685,  707,  707,\n",
       "        754,  754,  801,  801,  858,  858,  882,  883,  933,  935,  993,\n",
       "        994,  710,  732,  732,  889,  931,  929,  929,  973,  969, 1030,\n",
       "       1031,  663,  664,  713,  713,  737,  737,  782,  782,  814,  847,\n",
       "        848,  884,  885,  937,  939,  980,  980,  666,  665,  666,  715,\n",
       "        714,  738,  737,  783,  782,  849,  854,  892,  951,  950,  700,\n",
       "        701,  731,  732,  756,  757,  794,  795,  840,  849,  872,  881,\n",
       "        906,  926,  929,  959,  703,  702,  734,  736,  761,  761,  804,\n",
       "        804,  850,  849,  886,  886,  935,  936,  701,  701,  701,  676,\n",
       "        676,  696,  696,  729,  729,  767,  764,  796,  796,  822,  823,\n",
       "        679,  678,  701,  702,  733,  733,  769,  769,  679,  677,  677,\n",
       "        690])"
      ]
     },
     "execution_count": 6,
     "metadata": {},
     "output_type": "execute_result"
    }
   ],
   "source": [
    "T7"
   ]
  },
  {
   "cell_type": "code",
   "execution_count": 7,
   "id": "8eaf888a",
   "metadata": {},
   "outputs": [
    {
     "data": {
      "text/plain": [
       "array([ 1,  1,  1,  1,  1,  1,  1,  1,  1,  1,  2,  2,  2,  2,  2,  2,  2,\n",
       "        2,  2,  2,  2,  2,  2,  2,  2,  2,  2,  2,  2,  3,  3,  3,  3,  3,\n",
       "        3,  3,  3,  3,  3,  3,  3,  3,  3,  3,  3,  4,  4,  4,  4,  4,  4,\n",
       "        4,  4,  4,  4,  4,  5,  5,  5,  5,  5,  5,  5,  5,  5,  5,  5,  5,\n",
       "        5,  5,  5,  5,  5,  6,  6,  6,  6,  6,  6,  6,  6,  6,  6,  6,  6,\n",
       "        6,  6,  7,  7,  7,  7,  7,  7,  7,  7,  7,  7,  7,  7,  7,  7,  7,\n",
       "        7,  8,  8,  8,  8,  8,  8,  8,  8,  8,  8,  8,  8,  8,  8,  9,  9,\n",
       "        9, 10, 10, 10, 10, 10, 10, 10, 10, 10, 10, 10, 10, 11, 11, 11, 11,\n",
       "       11, 11, 11, 11, 12, 12, 12, 12])"
      ]
     },
     "execution_count": 7,
     "metadata": {},
     "output_type": "execute_result"
    }
   ],
   "source": [
    "table_exp['Table'].values"
   ]
  },
  {
   "cell_type": "code",
   "execution_count": 8,
   "id": "aafd1c9c",
   "metadata": {},
   "outputs": [],
   "source": [
    "# # compute and save the delays\n",
    "# print('Running Base RMG Delays')\n",
    "# base_rmg_delays = np.zeros(len(concentrations))\n",
    "# base_gas = ct.Solution(base_rmg)\n",
    "# condition_indices = np.arange(0, len(concentrations))\n",
    "# with concurrent.futures.ProcessPoolExecutor(max_workers=16) as executor:\n",
    "#     for condition_index, delay_time in zip(condition_indices, executor.map(\n",
    "#         run_simulation,\n",
    "#         [T7[j] for j in condition_indices],\n",
    "#         [P7[j] for j in condition_indices],\n",
    "#         [concentrations[j] for j in condition_indices]\n",
    "#     )):\n",
    "#         base_rmg_delays[condition_index] = delay_time\n",
    "# np.save('base_rmg_delays.npy', base_rmg_delays)"
   ]
  },
  {
   "cell_type": "code",
   "execution_count": 9,
   "id": "346e4fb9",
   "metadata": {},
   "outputs": [],
   "source": [
    "# print('Running Improved RMG Delays')\n",
    "# improved_rmg_delays = np.zeros(len(concentrations))\n",
    "# base_gas = ct.Solution(improved_rmg)\n",
    "# condition_indices = np.arange(0, len(concentrations))\n",
    "# with concurrent.futures.ProcessPoolExecutor(max_workers=16) as executor:\n",
    "#     for condition_index, delay_time in zip(condition_indices, executor.map(\n",
    "#         run_simulation,\n",
    "#         [T7[j] for j in condition_indices],\n",
    "#         [P7[j] for j in condition_indices],\n",
    "#         [concentrations[j] for j in condition_indices]\n",
    "#     )):\n",
    "#         improved_rmg_delays[condition_index] = delay_time\n",
    "# np.save('improved_rmg_delays.npy', improved_rmg_delays)"
   ]
  },
  {
   "cell_type": "code",
   "execution_count": 10,
   "id": "8c0d7185",
   "metadata": {},
   "outputs": [],
   "source": [
    "# print('Running Aramco Delays')\n",
    "# aramco_delays = np.zeros(len(concentrations))\n",
    "# improved_rmg_delays = np.zeros(len(concentrations))\n",
    "# base_gas = ct.Solution(aramco)\n",
    "# condition_indices = np.arange(0, len(concentrations))\n",
    "# with concurrent.futures.ProcessPoolExecutor(max_workers=16) as executor:\n",
    "#     for condition_index, delay_time in zip(condition_indices, executor.map(\n",
    "#         run_simulation,\n",
    "#         [T7[j] for j in condition_indices],\n",
    "#         [P7[j] for j in condition_indices],\n",
    "#         [concentrations[j] for j in condition_indices]\n",
    "#     )):\n",
    "#         aramco_delays[condition_index] = delay_time\n",
    "# np.save('aramco_delays.npy', aramco_delays)"
   ]
  },
  {
   "cell_type": "code",
   "execution_count": 11,
   "id": "590b796a",
   "metadata": {},
   "outputs": [],
   "source": [
    "base_rmg_delays = np.load('base_rmg_delays_parallel.npy')\n",
    "improved_rmg_delays = np.load('improved_rmg_delays_parallel.npy')\n",
    "aramco_delays = np.load('aramco_delays_parallel.npy')"
   ]
  },
  {
   "cell_type": "code",
   "execution_count": 12,
   "id": "2ec044f7",
   "metadata": {},
   "outputs": [],
   "source": [
    "assert np.sum(base_rmg_delays == 0) == 0\n",
    "assert np.sum(improved_rmg_delays == 0) == 0\n",
    "assert np.sum(aramco_delays == 0) == 0"
   ]
  },
  {
   "cell_type": "code",
   "execution_count": 13,
   "id": "cc37d252",
   "metadata": {},
   "outputs": [],
   "source": [
    "tau_exp[tau_exp == 0] = np.nan"
   ]
  },
  {
   "cell_type": "code",
   "execution_count": 14,
   "id": "7eb02811",
   "metadata": {},
   "outputs": [],
   "source": [
    "def calc_log_squared_error(mech_delays):\n",
    "    return np.nansum(np.float_power(np.log(mech_delays) - np.log(tau_exp / 1000.0), 2.0))"
   ]
  },
  {
   "cell_type": "code",
   "execution_count": null,
   "id": "66302e63",
   "metadata": {},
   "outputs": [],
   "source": []
  },
  {
   "cell_type": "code",
   "execution_count": 15,
   "id": "516cb428",
   "metadata": {},
   "outputs": [
    {
     "data": {
      "text/plain": [
       "56.17963991877858"
      ]
     },
     "execution_count": 15,
     "metadata": {},
     "output_type": "execute_result"
    }
   ],
   "source": [
    "calc_log_squared_error(base_rmg_delays)"
   ]
  },
  {
   "cell_type": "code",
   "execution_count": 16,
   "id": "2067e3a1",
   "metadata": {},
   "outputs": [
    {
     "data": {
      "text/plain": [
       "44.03354015546501"
      ]
     },
     "execution_count": 16,
     "metadata": {},
     "output_type": "execute_result"
    }
   ],
   "source": [
    "calc_log_squared_error(improved_rmg_delays)"
   ]
  },
  {
   "cell_type": "code",
   "execution_count": 17,
   "id": "2277b925",
   "metadata": {},
   "outputs": [
    {
     "data": {
      "text/plain": [
       "46.4540249465436"
      ]
     },
     "execution_count": 17,
     "metadata": {},
     "output_type": "execute_result"
    }
   ],
   "source": [
    "calc_log_squared_error(aramco_delays)"
   ]
  },
  {
   "cell_type": "code",
   "execution_count": null,
   "id": "49cdbbc7",
   "metadata": {},
   "outputs": [],
   "source": []
  },
  {
   "cell_type": "code",
   "execution_count": null,
   "id": "311a6bd7",
   "metadata": {},
   "outputs": [],
   "source": []
  },
  {
   "cell_type": "code",
   "execution_count": 29,
   "id": "36fedbf4",
   "metadata": {},
   "outputs": [],
   "source": [
    "def calc_total_avg_log_squared_error():\n",
    "    exp_delays = tau_exp[table_exp['Table'].values < 13]\n",
    "    \n",
    "    mech_delays = base_rmg_delays[table_exp['Table'].values < 13]\n",
    "    avg_err = np.nanmean(np.float_power(np.log10(mech_delays) - np.log10(exp_delays / 1000.0), 2.0))\n",
    "#     print(f'Base RMG: {np.round(avg_err, 3)}')\n",
    "    print(f'{np.round(avg_err, 5)}')\n",
    "    \n",
    "    mech_delays = improved_rmg_delays[table_exp['Table'].values < 13]\n",
    "    avg_err = np.nanmean(np.float_power(np.log10(mech_delays) - np.log10(exp_delays / 1000.0), 2.0))\n",
    "#     print(f'Improved RMG: {np.round(avg_err, 3)}')\n",
    "    print(f'{np.round(avg_err, 5)}')\n",
    "    \n",
    "    mech_delays = aramco_delays[table_exp['Table'].values < 13]\n",
    "    avg_err = np.nanmean(np.float_power(np.log10(mech_delays) - np.log10(exp_delays / 1000.0), 2.0))\n",
    "#     print(f'Aramco: {np.round(avg_err, 4)}')\n",
    "    print(f'{np.round(avg_err, 5)}')\n",
    "#     print(table_exp['Table'].values == table_index)\n",
    "    "
   ]
  },
  {
   "cell_type": "code",
   "execution_count": 31,
   "id": "c39ceeef",
   "metadata": {},
   "outputs": [
    {
     "name": "stdout",
     "output_type": "stream",
     "text": [
      "0.07678\n",
      "0.06018\n",
      "0.06349\n"
     ]
    }
   ],
   "source": [
    "calc_total_avg_log_squared_error()"
   ]
  },
  {
   "cell_type": "code",
   "execution_count": 32,
   "id": "ee59ff83",
   "metadata": {},
   "outputs": [
    {
     "data": {
      "text/plain": [
       "0.21620213597290966"
      ]
     },
     "execution_count": 32,
     "metadata": {},
     "output_type": "execute_result"
    }
   ],
   "source": [
    "(0.07678 - 0.06018) / 0.07678"
   ]
  },
  {
   "cell_type": "code",
   "execution_count": 27,
   "id": "b7e2ca93",
   "metadata": {},
   "outputs": [],
   "source": [
    "def calc_avg_log_squared_error(table_index):\n",
    "    exp_delays = tau_exp[table_exp['Table'].values == table_index]\n",
    "    \n",
    "    mech_delays = base_rmg_delays[table_exp['Table'].values == table_index]\n",
    "    avg_err = np.nanmean(np.float_power(np.log10(mech_delays) - np.log10(exp_delays / 1000.0), 2.0))\n",
    "#     print(f'Base RMG: {np.round(avg_err, 3)}')\n",
    "    print(f'{np.round(avg_err, 5)}')\n",
    "    \n",
    "    mech_delays = improved_rmg_delays[table_exp['Table'].values == table_index]\n",
    "    avg_err = np.nanmean(np.float_power(np.log10(mech_delays) - np.log10(exp_delays / 1000.0), 2.0))\n",
    "#     print(f'Improved RMG: {np.round(avg_err, 3)}')\n",
    "    print(f'{np.round(avg_err, 5)}')\n",
    "    \n",
    "    mech_delays = aramco_delays[table_exp['Table'].values == table_index]\n",
    "    avg_err = np.nanmean(np.float_power(np.log10(mech_delays) - np.log10(exp_delays / 1000.0), 2.0))\n",
    "#     print(f'Aramco: {np.round(avg_err, 4)}')\n",
    "    print(f'{np.round(avg_err, 5)}')\n",
    "#     print(table_exp['Table'].values == table_index)\n",
    "    "
   ]
  },
  {
   "cell_type": "code",
   "execution_count": 28,
   "id": "23865be6",
   "metadata": {},
   "outputs": [
    {
     "name": "stdout",
     "output_type": "stream",
     "text": [
      "1\n",
      "0.06456\n",
      "0.06484\n",
      "0.10383\n",
      "\n",
      "2\n",
      "0.04328\n",
      "0.03697\n",
      "0.02372\n",
      "\n",
      "3\n",
      "0.05387\n",
      "0.04241\n",
      "0.04351\n",
      "\n",
      "4\n",
      "0.17044\n",
      "0.17003\n",
      "0.28272\n",
      "\n",
      "5\n",
      "0.06596\n",
      "0.05031\n",
      "0.0515\n",
      "\n",
      "6\n",
      "0.10226\n",
      "0.07927\n",
      "0.06512\n",
      "\n",
      "7\n",
      "0.0555\n",
      "0.0345\n",
      "0.03537\n",
      "\n",
      "8\n",
      "0.04901\n",
      "0.03346\n",
      "0.00943\n",
      "\n",
      "9\n",
      "0.1501\n",
      "0.11127\n",
      "0.14127\n",
      "\n",
      "10\n",
      "0.12574\n",
      "0.0776\n",
      "0.04005\n",
      "\n",
      "11\n",
      "0.03442\n",
      "0.02328\n",
      "0.0362\n",
      "\n",
      "12\n",
      "0.09901\n",
      "0.08243\n",
      "0.0826\n",
      "\n"
     ]
    }
   ],
   "source": [
    "for i in range(1, 13):\n",
    "    print(i)\n",
    "    calc_avg_log_squared_error(i)\n",
    "    print()"
   ]
  },
  {
   "cell_type": "code",
   "execution_count": null,
   "id": "616f90fc",
   "metadata": {},
   "outputs": [],
   "source": []
  },
  {
   "cell_type": "code",
   "execution_count": null,
   "id": "8379dc5f",
   "metadata": {},
   "outputs": [],
   "source": [
    "tau_exp"
   ]
  },
  {
   "cell_type": "code",
   "execution_count": null,
   "id": "eb12bc30",
   "metadata": {},
   "outputs": [],
   "source": [
    "base_rmg_delays"
   ]
  },
  {
   "cell_type": "code",
   "execution_count": null,
   "id": "63af8e3d",
   "metadata": {},
   "outputs": [],
   "source": [
    "table_exp[table_exp['Table'] == 1]['time (ms)']"
   ]
  },
  {
   "cell_type": "code",
   "execution_count": null,
   "id": "41413a00",
   "metadata": {},
   "outputs": [],
   "source": [
    "aramco_mech = ct.Solution(aramco)"
   ]
  },
  {
   "cell_type": "code",
   "execution_count": null,
   "id": "d3082f22",
   "metadata": {},
   "outputs": [],
   "source": [
    "aramco_mech.species_names.index('C4H10')"
   ]
  },
  {
   "cell_type": "code",
   "execution_count": null,
   "id": "6204f06d",
   "metadata": {},
   "outputs": [],
   "source": []
  },
  {
   "cell_type": "code",
   "execution_count": null,
   "id": "46015c75",
   "metadata": {},
   "outputs": [],
   "source": []
  }
 ],
 "metadata": {
  "kernelspec": {
   "display_name": "Python 3 (ipykernel)",
   "language": "python",
   "name": "python3"
  },
  "language_info": {
   "codemirror_mode": {
    "name": "ipython",
    "version": 3
   },
   "file_extension": ".py",
   "mimetype": "text/x-python",
   "name": "python",
   "nbconvert_exporter": "python",
   "pygments_lexer": "ipython3",
   "version": "3.7.12"
  }
 },
 "nbformat": 4,
 "nbformat_minor": 5
}

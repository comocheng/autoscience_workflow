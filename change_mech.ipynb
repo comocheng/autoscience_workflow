{
 "cells": [
  {
   "cell_type": "code",
   "execution_count": 1,
   "id": "b6f53769",
   "metadata": {},
   "outputs": [],
   "source": [
    "import os\n",
    "import pickle\n",
    "import datetime\n",
    "import subprocess\n",
    "import numpy as np\n",
    "\n",
    "import rmgpy.chemkin\n",
    "import rmgpy.data.kinetics\n",
    "# import cantera as ct\n",
    "\n",
    "\n",
    "import matplotlib.pyplot as plt\n",
    "%matplotlib inline"
   ]
  },
  {
   "cell_type": "code",
   "execution_count": 2,
   "id": "2cb9fe8f",
   "metadata": {},
   "outputs": [
    {
     "name": "stdout",
     "output_type": "stream",
     "text": [
      "180 species, 3481 reactions\n"
     ]
    }
   ],
   "source": [
    "# Load the base model\n",
    "\n",
    "basedir = '/work/westgroup/harris.se/autoscience/autoscience/butane/models/rmg_model'\n",
    "# basedir = '/home/moon/autoscience/autoscience/butane/models/rmg_model'\n",
    "# basedir = '/work/westgroup/harris.se/autoscience/autoscience/butane/sensitivity_analysis/base_rmg24'\n",
    "# basedir = '/work/westgroup/harris.se/autoscience/autoscience/butane/models/rmg_small_core'\n",
    "# new_model_dir = '/work/westgroup/harris.se/autoscience/autoscience/butane/improved_models'\n",
    "\n",
    "basedir = '/work/westgroup/harris.se/autoscience/fuels/butane/small_lib_20230801'\n",
    "\n",
    "# basedir = '/work/westgroup/harris.se/autoscience/autoscience/debug/s787_rxns/'\n",
    "new_model_dir = basedir\n",
    "base_chemkin = os.path.join(basedir, 'chem_annotated.inp')\n",
    "dictionary = os.path.join(basedir, 'species_dictionary.txt')\n",
    "transport = os.path.join(basedir, 'tran.dat')\n",
    "species_list, reaction_list = rmgpy.chemkin.load_chemkin_file(base_chemkin, dictionary_path=dictionary, transport_path=transport)\n",
    "print(f'{len(species_list)} species, {len(reaction_list)} reactions')\n"
   ]
  },
  {
   "cell_type": "code",
   "execution_count": 3,
   "id": "0f67ccde",
   "metadata": {},
   "outputs": [
    {
     "name": "stdout",
     "output_type": "stream",
     "text": [
      "72 entries loaded\n"
     ]
    }
   ],
   "source": [
    "# Load the new kinetics library\n",
    "DFT_DIR = \"/work/westgroup/harris.se/autoscience/autoscience/butane/dft/\"\n",
    "DFT_DIR = \"/home/moon/autoscience/autoscience/butane/dft/\"\n",
    "DFT_DIR = \"/work/westgroup/harris.se/autoscience/reaction_calculator/dft/\"\n",
    "# kinetics_lib = os.path.join(DFT_DIR, 'harris_butane', 'kinetics', 'reaction.py')\n",
    "kinetics_lib = os.path.join(DFT_DIR, 'kinetics', 'kinetics')\n",
    "ark_kinetics_database = rmgpy.data.kinetics.KineticsDatabase()\n",
    "ark_kinetics_database.load_libraries(kinetics_lib)\n",
    "# print(ark_kinetics_database.libraries)\n",
    "print(f'{len(ark_kinetics_database.libraries[\"\"].entries)} entries loaded')"
   ]
  },
  {
   "cell_type": "code",
   "execution_count": 5,
   "id": "5ea04f92",
   "metadata": {},
   "outputs": [
    {
     "data": {
      "text/plain": [
       "<Entry index=288 label=\"butane(1) + OH(15) <=> H2O(8) + PC4H9(182)\">"
      ]
     },
     "execution_count": 5,
     "metadata": {},
     "output_type": "execute_result"
    }
   ],
   "source": [
    "ark_kinetics_database.libraries[\"\"].entries[288]"
   ]
  },
  {
   "cell_type": "code",
   "execution_count": 11,
   "id": "7190db94",
   "metadata": {},
   "outputs": [
    {
     "data": {
      "text/plain": [
       "'OH(15) + butane(1) <=> H2O(8) + [CH2]CCC(24)'"
      ]
     },
     "execution_count": 11,
     "metadata": {},
     "output_type": "execute_result"
    }
   ],
   "source": [
    "str(reaction_list[84])"
   ]
  },
  {
   "cell_type": "code",
   "execution_count": null,
   "id": "f24c3cce",
   "metadata": {},
   "outputs": [],
   "source": []
  },
  {
   "cell_type": "code",
   "execution_count": 8,
   "id": "4c813018",
   "metadata": {},
   "outputs": [
    {
     "name": "stdout",
     "output_type": "stream",
     "text": [
      "84\n"
     ]
    }
   ],
   "source": [
    "for i in range(0, len(reaction_list)):\n",
    "    if ark_kinetics_database.libraries[\"\"].entries[288].item.is_isomorphic(reaction_list[i]):\n",
    "        print(i)"
   ]
  },
  {
   "cell_type": "code",
   "execution_count": 12,
   "id": "72ac9a6f",
   "metadata": {},
   "outputs": [],
   "source": [
    "change_list = [84]"
   ]
  },
  {
   "cell_type": "code",
   "execution_count": 4,
   "id": "bfeea09e",
   "metadata": {},
   "outputs": [
    {
     "ename": "IndexError",
     "evalue": "index 1822 is out of bounds for axis 0 with size 1822",
     "output_type": "error",
     "traceback": [
      "\u001b[0;31m---------------------------------------------------------------------------\u001b[0m",
      "\u001b[0;31mIndexError\u001b[0m                                Traceback (most recent call last)",
      "\u001b[0;32m/tmp/ipykernel_32670/1622265875.py\u001b[0m in \u001b[0;36m<module>\u001b[0;34m\u001b[0m\n\u001b[1;32m     11\u001b[0m \u001b[0mchange_list\u001b[0m \u001b[0;34m=\u001b[0m \u001b[0;34m[\u001b[0m\u001b[0;34m]\u001b[0m\u001b[0;34m\u001b[0m\u001b[0;34m\u001b[0m\u001b[0m\n\u001b[1;32m     12\u001b[0m \u001b[0;32mfor\u001b[0m \u001b[0mi\u001b[0m \u001b[0;32min\u001b[0m \u001b[0mrange\u001b[0m\u001b[0;34m(\u001b[0m\u001b[0;36m0\u001b[0m\u001b[0;34m,\u001b[0m \u001b[0mlen\u001b[0m\u001b[0;34m(\u001b[0m\u001b[0mreaction_list\u001b[0m\u001b[0;34m)\u001b[0m\u001b[0;34m)\u001b[0m\u001b[0;34m:\u001b[0m\u001b[0;34m\u001b[0m\u001b[0;34m\u001b[0m\u001b[0m\n\u001b[0;32m---> 13\u001b[0;31m     \u001b[0;32mif\u001b[0m \u001b[0mSigma_k\u001b[0m\u001b[0;34m[\u001b[0m\u001b[0mi\u001b[0m\u001b[0;34m,\u001b[0m \u001b[0mi\u001b[0m\u001b[0;34m]\u001b[0m \u001b[0;34m>\u001b[0m \u001b[0muncertainty_cutoff\u001b[0m\u001b[0;34m:\u001b[0m\u001b[0;34m\u001b[0m\u001b[0;34m\u001b[0m\u001b[0m\n\u001b[0m\u001b[1;32m     14\u001b[0m         \u001b[0mchange_list\u001b[0m\u001b[0;34m.\u001b[0m\u001b[0mappend\u001b[0m\u001b[0;34m(\u001b[0m\u001b[0mi\u001b[0m\u001b[0;34m)\u001b[0m\u001b[0;34m\u001b[0m\u001b[0;34m\u001b[0m\u001b[0m\n\u001b[1;32m     15\u001b[0m \u001b[0;34m\u001b[0m\u001b[0m\n",
      "\u001b[0;31mIndexError\u001b[0m: index 1822 is out of bounds for axis 0 with size 1822"
     ]
    }
   ],
   "source": [
    "# load the uncertainty matrix\n",
    "covariance_file = '/work/westgroup/harris.se/autoscience/autoscience/uncertainty/butane_covariance.pickle'\n",
    "# covariance_file = '/home/moon/autoscience/autoscience/uncertainty/butane_covariance.pickle'\n",
    "with open(covariance_file, 'rb') as handle:\n",
    "    Sigma_k = pickle.load(handle)\n",
    "\n",
    "uncertainty_cutoff = 3.0\n",
    "# uncertainty_cutoff = 0.5\n",
    "# uncertainty_cutoff = 0.0\n",
    "\n",
    "change_list = []\n",
    "for i in range(0, len(reaction_list)):\n",
    "    if Sigma_k[i, i] > uncertainty_cutoff:\n",
    "        change_list.append(i)\n",
    "\n"
   ]
  },
  {
   "cell_type": "code",
   "execution_count": 13,
   "id": "fdf4aa24",
   "metadata": {},
   "outputs": [
    {
     "name": "stdout",
     "output_type": "stream",
     "text": [
      "could not match reaction index 180\n",
      "changing reaction 84 OH(15) + butane(1) <=> H2O(8) + [CH2]CCC(24)\n",
      "could not match reaction index 325\n",
      "could not match reaction index 326\n",
      "could not match reaction index 650\n",
      "could not match reaction index 655\n",
      "could not match reaction index 894\n",
      "could not match reaction index 985\n",
      "could not match reaction index 1003\n",
      "could not match reaction index 1026\n",
      "could not match reaction index 1290\n",
      "could not match reaction index 1301\n",
      "could not match reaction index 1509\n",
      "could not match reaction index 1656\n",
      "could not match reaction index 1287\n",
      "could not match reaction index 1288\n",
      "could not match reaction index 1289\n",
      "could not match reaction index 1326\n",
      "could not match reaction index 1522\n",
      "could not match reaction index 1532\n",
      "could not match reaction index 1578\n",
      "could not match reaction index 2422\n",
      "could not match reaction index 2424\n",
      "could not match reaction index 2425\n",
      "1 changed\n"
     ]
    }
   ],
   "source": [
    "# stitch each of the library reactions into the mechanism (depends on library index matching indexing in chemkin file)\n",
    "\n",
    "total_changed = 0\n",
    "for key in ark_kinetics_database.libraries[''].entries.keys():\n",
    "    entry = ark_kinetics_database.libraries[''].entries[key]\n",
    "    index = entry.index\n",
    "#     print(index, '\\t', entry.label, '\\t', reaction_list[index])\n",
    "    for i in range(0, len(reaction_list)):\n",
    "        if entry.item.is_isomorphic(reaction_list[i]):\n",
    "            rmg_rxn_index = i\n",
    "            break\n",
    "    else:  \n",
    "        print(f'could not match reaction index {index}')\n",
    "        continue\n",
    "  \n",
    "    \n",
    "#     # change every possible reaction\n",
    "#     print(f'changing reaction {rmg_rxn_index} {reaction_list[rmg_rxn_index]}')\n",
    "#     reaction_list[rmg_rxn_index].kinetics = entry.data\n",
    "    \n",
    "    if rmg_rxn_index in change_list:\n",
    "        print(f'changing reaction {rmg_rxn_index} {reaction_list[rmg_rxn_index]}')\n",
    "        reaction_list[rmg_rxn_index].kinetics = entry.data\n",
    "        total_changed += 1\n",
    "\n",
    "#     if rmg_rxn_index in change_list or rmg_rxn_index in change_list_fs:\n",
    "#         print(f'changing reaction {rmg_rxn_index} {reaction_list[rmg_rxn_index]}')\n",
    "#         reaction_list[rmg_rxn_index].kinetics = entry.data\n",
    "#         total_changed += 1\n",
    "print(total_changed, 'changed')"
   ]
  },
  {
   "cell_type": "code",
   "execution_count": null,
   "id": "586d80e6",
   "metadata": {},
   "outputs": [],
   "source": [
    "# Load the old thermo library\n",
    "DFT_DIR = \"/work/westgroup/harris.se/autoscience/autoscience/butane/dft/\"\n",
    "thermo_lib = os.path.join(DFT_DIR, 'thermo', 'thermo')\n",
    "ark_thermo_database = rmgpy.data.thermo.ThermoDatabase()\n",
    "ark_thermo_database.load_libraries(thermo_lib)\n",
    "print(f'{len(ark_thermo_database.libraries[\"harris_butane\"].entries)} entries')"
   ]
  },
  {
   "cell_type": "code",
   "execution_count": null,
   "id": "f8d9c416",
   "metadata": {},
   "outputs": [],
   "source": [
    "# stitch each of the library thermos into the mechanism\n",
    "\n",
    "plot_index = [96]\n",
    "thermo_change_list = [87, 90, 109, 99, 98, 80, 100, 97, 81, 91, 82, 93]  # 3.0 cutoff\n",
    "thermo_change_list_fs = [97, 98, 99, 81, 100, 87, 109, 80, 90, 93, 91, 82]  # 3.0 cutoff, flame speeds these are the same\n",
    "\n",
    "sp_changed = 0\n",
    "for key in ark_thermo_database.libraries['harris_butane'].entries.keys():\n",
    "    entry = ark_thermo_database.libraries['harris_butane'].entries[key]\n",
    "#     print(entry)\n",
    "\n",
    "    for i, species in enumerate(species_list):\n",
    "#         if entry.item.is_isomorphic(species.molecule[0]):\n",
    "        if entry.item.smiles == species.smiles:\n",
    "            rmg_species_index = i\n",
    "            break\n",
    "    else:\n",
    "        entry_sp = rmgpy.species.Species(smiles=entry.item.smiles)\n",
    "        for j, species in enumerate(species_list):\n",
    "            if entry_sp.is_isomorphic(species.molecule[0]):\n",
    "                rmg_species_index = i\n",
    "                'matched'\n",
    "                break\n",
    "        else:\n",
    "#             print(f'could not match species index {entry}')\n",
    "            continue\n",
    "            raise ValueError (f'could not match species index {entry}')\n",
    "        \n",
    "        \n",
    "    if rmg_species_index in thermo_change_list or rmg_species_index in thermo_change_list_fs:\n",
    "        print(f'Changing estimated thermo {rmg_species_index}: {species_list[rmg_species_index]}')\n",
    "        species_list[rmg_species_index].thermo = entry.data\n",
    "        \n",
    "        sp_changed += 1\n",
    "    \n",
    "print(sp_changed, 'changed')"
   ]
  },
  {
   "cell_type": "code",
   "execution_count": null,
   "id": "64eb53ee",
   "metadata": {},
   "outputs": [],
   "source": [
    "# custom save\n",
    "chemkin_file = os.path.join('/work/westgroup/harris.se/autoscience/autoscience/butane/models/modifications', f'cutoff3_20230418.inp')\n",
    "# chemkin_file = os.path.join('/home/moon/autoscience/autoscience/butane/models/modifications', f'cutoff3_20230202.inp')\n",
    "rmgpy.chemkin.save_chemkin_file(chemkin_file, species_list, reaction_list, verbose=True, check_for_duplicates=True)\n",
    "subprocess.run(['ck2cti', f'--input={chemkin_file}', f'--transport={transport}', f'--output={chemkin_file[:-4]}.cti'])\n",
    "\n"
   ]
  },
  {
   "cell_type": "code",
   "execution_count": 14,
   "id": "e7d84ad3",
   "metadata": {},
   "outputs": [
    {
     "name": "stdout",
     "output_type": "stream",
     "text": [
      "Wrote CTI mechanism file to '/work/westgroup/harris.se/autoscience/fuels/butane/small_lib_20230801/change288.cti'.\n",
      "Mechanism contains 180 species and 3490 reactions.\n",
      "Validating mechanism...PASSED.\n"
     ]
    },
    {
     "data": {
      "text/plain": [
       "CompletedProcess(args=['ck2cti', '--input=/work/westgroup/harris.se/autoscience/fuels/butane/small_lib_20230801/change288.inp', '--transport=/work/westgroup/harris.se/autoscience/fuels/butane/small_lib_20230801/tran.dat', '--output=/work/westgroup/harris.se/autoscience/fuels/butane/small_lib_20230801/change288.cti'], returncode=0)"
      ]
     },
     "execution_count": 14,
     "metadata": {},
     "output_type": "execute_result"
    }
   ],
   "source": [
    "# custom save 2\n",
    "chemkin_file = os.path.join('/work/westgroup/harris.se/autoscience/fuels/butane/small_lib_20230801/', f'change288.inp')\n",
    "# chemkin_file = os.path.join('/home/moon/autoscience/autoscience/butane/models/modifications', f'cutoff3_20230202.inp')\n",
    "rmgpy.chemkin.save_chemkin_file(chemkin_file, species_list, reaction_list, verbose=True, check_for_duplicates=True)\n",
    "subprocess.run(['ck2cti', f'--input={chemkin_file}', f'--transport={transport}', f'--output={chemkin_file[:-4]}.cti'])\n"
   ]
  },
  {
   "cell_type": "code",
   "execution_count": null,
   "id": "335a2675",
   "metadata": {},
   "outputs": [],
   "source": []
  }
 ],
 "metadata": {
  "kernelspec": {
   "display_name": "Python 3 (ipykernel)",
   "language": "python",
   "name": "python3"
  },
  "language_info": {
   "codemirror_mode": {
    "name": "ipython",
    "version": 3
   },
   "file_extension": ".py",
   "mimetype": "text/x-python",
   "name": "python",
   "nbconvert_exporter": "python",
   "pygments_lexer": "ipython3",
   "version": "3.7.16"
  }
 },
 "nbformat": 4,
 "nbformat_minor": 5
}

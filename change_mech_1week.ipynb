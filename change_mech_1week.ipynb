{
 "cells": [
  {
   "cell_type": "code",
   "execution_count": 1,
   "id": "b6f53769",
   "metadata": {},
   "outputs": [],
   "source": [
    "import os\n",
    "import sys\n",
    "import datetime\n",
    "import subprocess\n",
    "import numpy as np\n",
    "\n",
    "import rmgpy.chemkin\n",
    "import rmgpy.data.kinetics\n",
    "# import cantera as ct\n",
    "\n",
    "# sys.path.append('/work/westgroup/harris.se/autoscience/reaction_calculator/dft')\n",
    "# import thermokinetic_fun\n",
    "\n",
    "\n",
    "import matplotlib.pyplot as plt\n",
    "%matplotlib inline"
   ]
  },
  {
   "cell_type": "code",
   "execution_count": 2,
   "id": "2cb9fe8f",
   "metadata": {},
   "outputs": [
    {
     "name": "stdout",
     "output_type": "stream",
     "text": [
      "130 species, 2488 reactions\n"
     ]
    }
   ],
   "source": [
    "# Load the base model\n",
    "basedir = '/work/westgroup/harris.se/autoscience/reaction_calculator/models/base_rmg_1week'\n",
    "\n",
    "new_model_dir = basedir\n",
    "base_chemkin = os.path.join(basedir, 'chem_annotated.inp')\n",
    "dictionary = os.path.join(basedir, 'species_dictionary.txt')\n",
    "transport = os.path.join(basedir, 'tran.dat')\n",
    "species_list, reaction_list = rmgpy.chemkin.load_chemkin_file(base_chemkin, dictionary_path=dictionary, transport_path=transport)\n",
    "print(f'{len(species_list)} species, {len(reaction_list)} reactions')\n"
   ]
  },
  {
   "cell_type": "code",
   "execution_count": 3,
   "id": "0f67ccde",
   "metadata": {},
   "outputs": [
    {
     "name": "stdout",
     "output_type": "stream",
     "text": [
      "48 entries loaded\n"
     ]
    }
   ],
   "source": [
    "# Load the new kinetics library\n",
    "DFT_DIR = \"/work/westgroup/harris.se/autoscience/reaction_calculator/dft/\"\n",
    "kinetics_lib = os.path.join(DFT_DIR, 'kinetics', 'kinetics')\n",
    "ark_kinetics_database = rmgpy.data.kinetics.KineticsDatabase()\n",
    "ark_kinetics_database.load_libraries(kinetics_lib)\n",
    "# print(ark_kinetics_database.libraries)\n",
    "print(f'{len(ark_kinetics_database.libraries[\"\"].entries)} entries loaded')"
   ]
  },
  {
   "cell_type": "code",
   "execution_count": 4,
   "id": "bfeea09e",
   "metadata": {},
   "outputs": [],
   "source": [
    "# load the uncertainty matrix\n",
    "reaction_uncertainty_file = os.path.join(basedir, 'gao_reaction_uncertainty.npy')\n",
    "species_uncertainty_file = os.path.join(basedir, 'gao_species_uncertainty.npy')\n",
    "\n",
    "reaction_uncertainty = np.load(reaction_uncertainty_file)\n",
    "species_uncertainty = np.load(species_uncertainty_file)\n",
    "\n",
    "uncertainty_cutoff = 3.0\n",
    "\n",
    "rxn_change_list = []\n",
    "for i in range(0, len(reaction_list)):\n",
    "    if reaction_uncertainty[i] > uncertainty_cutoff:\n",
    "        rxn_change_list.append(i)\n",
    "\n",
    "sp_change_list = []\n",
    "for i in range(0, len(species_list)):\n",
    "    if species_uncertainty[i] > uncertainty_cutoff:\n",
    "        sp_change_list.append(i)\n"
   ]
  },
  {
   "cell_type": "code",
   "execution_count": 5,
   "id": "3aab0b75",
   "metadata": {},
   "outputs": [
    {
     "data": {
      "text/plain": [
       "'CC(=O)CCOO'"
      ]
     },
     "execution_count": 5,
     "metadata": {},
     "output_type": "execute_result"
    }
   ],
   "source": [
    "species_list[87].smiles"
   ]
  },
  {
   "cell_type": "code",
   "execution_count": 6,
   "id": "86612cbe",
   "metadata": {},
   "outputs": [
    {
     "data": {
      "text/plain": [
       "1.5"
      ]
     },
     "execution_count": 6,
     "metadata": {},
     "output_type": "execute_result"
    }
   ],
   "source": [
    "species_uncertainty[87]"
   ]
  },
  {
   "cell_type": "code",
   "execution_count": 7,
   "id": "fdf4aa24",
   "metadata": {},
   "outputs": [
    {
     "name": "stdout",
     "output_type": "stream",
     "text": [
      "changing reaction 324 C4H8OOH2-4O2(229) <=> C4H8OOH1-3O2(225)\n",
      "changing reaction 370 CH3CHO(35) + SC4H9(183) <=> CH2CHO(21) + butane(1)\n",
      "changing reaction 371 CH3CHO(35) + PC4H9(182) <=> CH2CHO(21) + butane(1)\n",
      "changing reaction 585 CH2(23) + C3H6(12) <=> CH3(18) + C3H5-A(94)\n",
      "changing reaction 650 HO2(16) + [CH2]C[CH]C(748) <=> O2(2) + SC4H9(183)\n",
      "changing reaction 655 HO2(16) + [CH2]C[CH]C(748) <=> O2(2) + PC4H9(182)\n",
      "changing reaction 739 CH2CHO(21) + C4H8-1(188) <=> CH3CHO(35) + C4H71-3(190)\n",
      "changing reaction 748 HCO(19) + C4H8-2(189) <=> CH2O(9) + C4H71-3(190)\n",
      "changing reaction 749 HCO(19) + C4H8-1(188) <=> CH2O(9) + C4H71-3(190)\n",
      "changing reaction 754 CH2(23) + C4H8-2(189) <=> CH3(18) + C4H71-3(190)\n",
      "changing reaction 894 C3H6(12) + C4H72-2,4OOH(244) <=> C3H5-A(94) + CC(CCOO)OO(787)\n",
      "changing reaction 985 HO2(16) + [CH2]C[O](703) <=> O2(2) + C2H5O(49)\n",
      "changing reaction 1003 HO2(16) + C4H71-4(191) <=> O2(2) + C4H8-1(188)\n",
      "changing reaction 1026 CH3CHO(35) + C4H71-4(191) <=> CH2CHO(21) + C4H8-1(188)\n",
      "changing reaction 1290 C3KET21(73) + PC4H9(182) <=> [CH2]C(=O)COO(911) + butane(1)\n",
      "changing reaction 213 HO2(16) + C2H5(33) <=> H2O2(17) + C2H4(11)\n",
      "changing reaction 419 HO2(16) + CH2CHO(21) <=> H2O2(17) + CH2CO(24)\n",
      "changing reaction 420 HO2(16) + SC4H9(183) <=> H2O2(17) + C4H8-2(189)\n",
      "changing reaction 464 CH3(18) + CH2CHO(21) <=> CH4(10) + CH2CO(24)\n",
      "changing reaction 574 CH3O(31) + C3H5-A(94) <=> CH2O(9) + C3H6(12)\n",
      "changing reaction 581 CH2CHO(21) + C3H5-A(94) <=> CH2CO(24) + C3H6(12)\n",
      "changing reaction 720 CH2CHO(21) + C4H71-3(190) <=> CH2CO(24) + C4H8-2(189)\n",
      "changing reaction 722 CH2CHO(21) + C4H71-3(190) <=> CH2CO(24) + C4H8-1(188)\n",
      "changing reaction 725 CH3O(31) + C4H71-3(190) <=> CH2O(9) + C4H8-2(189)\n",
      "changing reaction 916 OH(15) + CC(CC[O])OO(777) <=> H2O(8) + NC4KET13(252)\n",
      "changing reaction 1103 CH3O2(45) + CH2CHO(21) <=> CH3O2H(46) + CH2CO(24)\n",
      "changing reaction 1287 C3KET21(73) + SC4H9(183) <=> CH3COCH2O2(72) + butane(1)\n",
      "changing reaction 1289 C3KET21(73) + SC4H9(183) <=> [CH2]C(=O)COO(911) + butane(1)\n",
      "changing reaction 1326 CH2CHO(21) + CH3COCH2O2(72) <=> CH2CO(24) + C3KET21(73)\n",
      "changing reaction 1532 CH3O(31) + C3H5O(129) <=> CH3OH(30) + C2H3CHO(74)\n",
      "changing reaction 1578 OCHO(38) + [CH2]C[O](703) <=> HOCHO(40) + CH2CHO(21)\n",
      "changing reaction 1658 CH2CHO(21) + C2H5O2(47) <=> CH2CO(24) + C2H5O2H(48)\n",
      "changing reaction 1685 C2H5(33) + C2H5O2(47) <=> C2H4(11) + C2H5O2H(48)\n",
      "changing reaction 1714 C4H8OOH2-4(223) + butane(1) <=> SC4H9(183) + SC4H9O2H(187)\n",
      "34 changed\n"
     ]
    }
   ],
   "source": [
    "# stitch each of the library reactions into the mechanism (depends on library index matching indexing in chemkin file)\n",
    "\n",
    "total_changed = 0\n",
    "for key in ark_kinetics_database.libraries[''].entries.keys():\n",
    "    entry = ark_kinetics_database.libraries[''].entries[key]\n",
    "    index = entry.index\n",
    "#     print(index, '\\t', entry.label, '\\t', reaction_list[index])\n",
    "    for i in range(0, len(reaction_list)):\n",
    "        if entry.item.is_isomorphic(reaction_list[i]):\n",
    "            rmg_rxn_index = i\n",
    "            break\n",
    "    else:  \n",
    "        print(f'could not match reaction index {index}')\n",
    "        continue\n",
    "  \n",
    "    \n",
    "#     # change every possible reaction\n",
    "#     print(f'changing reaction {rmg_rxn_index} {reaction_list[rmg_rxn_index]}')\n",
    "#     reaction_list[rmg_rxn_index].kinetics = entry.data\n",
    "    \n",
    "    if rmg_rxn_index in rxn_change_list:\n",
    "        print(f'changing reaction {rmg_rxn_index} {reaction_list[rmg_rxn_index]}')\n",
    "        reaction_list[rmg_rxn_index].kinetics = entry.data\n",
    "        total_changed += 1\n",
    "\n",
    "#     if rmg_rxn_index in change_list or rmg_rxn_index in change_list_fs:\n",
    "#         print(f'changing reaction {rmg_rxn_index} {reaction_list[rmg_rxn_index]}')\n",
    "#         reaction_list[rmg_rxn_index].kinetics = entry.data\n",
    "#         total_changed += 1\n",
    "print(total_changed, 'changed')"
   ]
  },
  {
   "cell_type": "code",
   "execution_count": 8,
   "id": "586d80e6",
   "metadata": {},
   "outputs": [
    {
     "name": "stdout",
     "output_type": "stream",
     "text": [
      "178 entries\n"
     ]
    }
   ],
   "source": [
    "# Load the old thermo library\n",
    "DFT_DIR = \"/work/westgroup/harris.se/autoscience/autoscience/butane/dft/\"\n",
    "thermo_lib = os.path.join(DFT_DIR, 'thermo', 'thermo')\n",
    "ark_thermo_database = rmgpy.data.thermo.ThermoDatabase()\n",
    "ark_thermo_database.load_libraries(thermo_lib)\n",
    "print(f'{len(ark_thermo_database.libraries[\"harris_butane\"].entries)} entries')"
   ]
  },
  {
   "cell_type": "code",
   "execution_count": 9,
   "id": "f8d9c416",
   "metadata": {},
   "outputs": [
    {
     "name": "stdout",
     "output_type": "stream",
     "text": [
      "Changing estimated thermo 92: [CH2]C[O](703)\n",
      "Changing estimated thermo 93: [CH2]C[CH]C(748)\n",
      "Changing estimated thermo 94: [CH2]CC(C)[O](766)\n",
      "Changing estimated thermo 99: [CH2]C(=O)COO(911)\n",
      "Changing estimated thermo 102: [O]OCC(=O)COO(928)\n",
      "Changing estimated thermo 103: [O]C[O](988)\n",
      "Changing estimated thermo 106: [CH2]C=C[CH2](2534)\n",
      "Changing estimated thermo 110: C=CC(C)O[O](4243)\n",
      "Changing estimated thermo 111: CC=CCO[O](4244)\n",
      "Changing estimated thermo 112: [CH2]C1CC1(4343)\n",
      "Changing estimated thermo 113: C=CCCO[O](4407)\n",
      "Changing estimated thermo 89: [CH2]C[CH2](688)\n",
      "Changing estimated thermo 120: [CH2]C(O)C=O(5659)\n",
      "Changing estimated thermo 126: [O]OCC(O)C=O(11705)\n",
      "Changing estimated thermo 127: O=[C]C(O)COO(11851)\n",
      "15 changed\n"
     ]
    }
   ],
   "source": [
    "# stitch each of the library thermos into the mechanism\n",
    "\n",
    "\n",
    "sp_changed = 0\n",
    "for key in ark_thermo_database.libraries['harris_butane'].entries.keys():\n",
    "    entry = ark_thermo_database.libraries['harris_butane'].entries[key]\n",
    "\n",
    "    for i, species in enumerate(species_list):\n",
    "        if entry.item.smiles == species.smiles:\n",
    "            rmg_species_index = i\n",
    "            break\n",
    "    else:\n",
    "        entry_sp = rmgpy.species.Species(smiles=entry.item.smiles)\n",
    "        for j, species in enumerate(species_list):\n",
    "            if entry_sp.is_isomorphic(species.molecule[0]):\n",
    "                rmg_species_index = i\n",
    "                break\n",
    "        else:\n",
    "#             print(f'could not match species index {entry}')\n",
    "            continue\n",
    "            raise ValueError (f'could not match species index {entry}')\n",
    "        \n",
    "        \n",
    "    if rmg_species_index in sp_change_list:\n",
    "        print(f'Changing estimated thermo {rmg_species_index}: {species_list[rmg_species_index]}')\n",
    "        species_list[rmg_species_index].thermo = entry.data\n",
    "        \n",
    "        sp_changed += 1\n",
    "    \n",
    "print(sp_changed, 'changed')"
   ]
  },
  {
   "cell_type": "code",
   "execution_count": 10,
   "id": "64eb53ee",
   "metadata": {},
   "outputs": [
    {
     "name": "stderr",
     "output_type": "stream",
     "text": [
      "WARNING:root:Marked reaction CH3(18) + C2H3(22) <=> C3H6(12) as duplicate of C3H6(12) <=> CH3(18) + C2H3(22) for saving to Chemkin file.\n"
     ]
    },
    {
     "name": "stdout",
     "output_type": "stream",
     "text": [
      "Wrote CTI mechanism file to '/work/westgroup/harris.se/autoscience/reaction_calculator/models/base_rmg_1week/cutoff3_20230501-2.cti'.\n",
      "Mechanism contains 130 species and 2523 reactions.\n",
      "Validating mechanism...PASSED.\n"
     ]
    },
    {
     "data": {
      "text/plain": [
       "CompletedProcess(args=['ck2cti', '--input=/work/westgroup/harris.se/autoscience/reaction_calculator/models/base_rmg_1week/cutoff3_20230501-2.inp', '--transport=/work/westgroup/harris.se/autoscience/reaction_calculator/models/base_rmg_1week/tran.dat', '--output=/work/westgroup/harris.se/autoscience/reaction_calculator/models/base_rmg_1week/cutoff3_20230501-2.cti'], returncode=0)"
      ]
     },
     "execution_count": 10,
     "metadata": {},
     "output_type": "execute_result"
    }
   ],
   "source": [
    "# custom save\n",
    "chemkin_file = os.path.join('/work/westgroup/harris.se/autoscience/reaction_calculator/models/base_rmg_1week', f'cutoff3_20230501-2.inp')\n",
    "# chemkin_file = os.path.join('/home/moon/autoscience/autoscience/butane/models/modifications', f'cutoff3_20230202.inp')\n",
    "rmgpy.chemkin.save_chemkin_file(chemkin_file, species_list, reaction_list, verbose=True, check_for_duplicates=True)\n",
    "subprocess.run(['ck2cti', f'--input={chemkin_file}', f'--transport={transport}', f'--output={chemkin_file[:-4]}.cti'])\n",
    "\n"
   ]
  },
  {
   "cell_type": "code",
   "execution_count": null,
   "id": "e7d84ad3",
   "metadata": {},
   "outputs": [],
   "source": []
  }
 ],
 "metadata": {
  "kernelspec": {
   "display_name": "Python 3 (ipykernel)",
   "language": "python",
   "name": "python3"
  },
  "language_info": {
   "codemirror_mode": {
    "name": "ipython",
    "version": 3
   },
   "file_extension": ".py",
   "mimetype": "text/x-python",
   "name": "python",
   "nbconvert_exporter": "python",
   "pygments_lexer": "ipython3",
   "version": "3.7.12"
  }
 },
 "nbformat": 4,
 "nbformat_minor": 5
}

{
 "cells": [
  {
   "cell_type": "markdown",
   "id": "30da7d6a",
   "metadata": {},
   "source": [
    "% n-C4H10\tO2\tDiluent\t\n",
    "0.962\t20.83\t78.21\t0.3\n",
    "1.595\t20.70\t77.71\t0.5\n",
    "3.135\t20.38\t76.49\t1.0\n",
    "6.079\t19.76\t74.16\t2.0"
   ]
  },
  {
   "cell_type": "code",
   "execution_count": null,
   "id": "b15d7a62",
   "metadata": {},
   "outputs": [],
   "source": [
    "# stoichiometric butane / O2 = 2/13"
   ]
  },
  {
   "cell_type": "code",
   "execution_count": 1,
   "id": "26a346db",
   "metadata": {},
   "outputs": [
    {
     "data": {
      "text/plain": [
       "0.30019203072491596"
      ]
     },
     "execution_count": 1,
     "metadata": {},
     "output_type": "execute_result"
    }
   ],
   "source": [
    "0.962 / 20.83 / (2 / 13)"
   ]
  },
  {
   "cell_type": "code",
   "execution_count": null,
   "id": "0461880e",
   "metadata": {},
   "outputs": [],
   "source": [
    "0. / 20.83 / (2 / 13)"
   ]
  },
  {
   "cell_type": "code",
   "execution_count": 3,
   "id": "25189744",
   "metadata": {},
   "outputs": [
    {
     "data": {
      "text/plain": [
       "6.413333333333333"
      ]
     },
     "execution_count": 3,
     "metadata": {},
     "output_type": "execute_result"
    }
   ],
   "source": [
    "0.962 * 20 / 3"
   ]
  },
  {
   "cell_type": "code",
   "execution_count": 4,
   "id": "27d5303a",
   "metadata": {},
   "outputs": [
    {
     "data": {
      "text/plain": [
       "2.0011761881901107"
      ]
     },
     "execution_count": 4,
     "metadata": {},
     "output_type": "execute_result"
    }
   ],
   "source": [
    "6.413 / 20.83 / (2 / 13)"
   ]
  },
  {
   "cell_type": "code",
   "execution_count": null,
   "id": "436675aa",
   "metadata": {},
   "outputs": [],
   "source": []
  }
 ],
 "metadata": {
  "kernelspec": {
   "display_name": "Python 3 (ipykernel)",
   "language": "python",
   "name": "python3"
  },
  "language_info": {
   "codemirror_mode": {
    "name": "ipython",
    "version": 3
   },
   "file_extension": ".py",
   "mimetype": "text/x-python",
   "name": "python",
   "nbconvert_exporter": "python",
   "pygments_lexer": "ipython3",
   "version": "3.7.16"
  }
 },
 "nbformat": 4,
 "nbformat_minor": 5
}

{
 "cells": [
  {
   "cell_type": "code",
   "execution_count": 8,
   "id": "e4a30b9d",
   "metadata": {},
   "outputs": [],
   "source": [
    "# script to identify top parameters (according to local uncertainty) to perturb for global uncertainty"
   ]
  },
  {
   "cell_type": "code",
   "execution_count": null,
   "id": "345379db",
   "metadata": {},
   "outputs": [],
   "source": [
    "import os\n",
    "import re\n",
    "import sys\n",
    "import glob\n",
    "import copy\n",
    "import yaml\n",
    "import pickle\n",
    "import subprocess\n",
    "import numpy as np\n",
    "import pandas as pd\n",
    "\n",
    "import rmgpy.data.kinetics\n",
    "import rmgpy.chemkin\n",
    "import cantera as ct\n",
    "\n",
    "\n",
    "sys.path.append(os.path.join(os.environ['AUTOSCIENCE_REPO'], 'database'))\n",
    "import database_fun\n",
    "\n",
    "import matplotlib.pyplot as plt\n",
    "%matplotlib inline\n",
    "\n",
    "\n"
   ]
  },
  {
   "cell_type": "code",
   "execution_count": 2,
   "id": "76b08e35",
   "metadata": {},
   "outputs": [],
   "source": [
    "def get_reaction_indices(reaction_list, ref_rxn):\n",
    "    reaction_indices = []\n",
    "    for i in range(len(reaction_list)):\n",
    "        if reaction_list[i].is_isomorphic(ref_rxn):\n",
    "            reaction_indices.append(i)\n",
    "    return reaction_indices"
   ]
  },
  {
   "cell_type": "code",
   "execution_count": null,
   "id": "0269a6c4",
   "metadata": {},
   "outputs": [],
   "source": []
  },
  {
   "cell_type": "code",
   "execution_count": 3,
   "id": "e8c6a1be",
   "metadata": {},
   "outputs": [
    {
     "name": "stdout",
     "output_type": "stream",
     "text": [
      "0 species O2(2)\n",
      "1 288 OH(15) + butane(1) <=> H2O(8) + [CH2]CCC(24)\n",
      "2 species butane(1)\n",
      "3 4778 C[CH]CC(23) + CCCCOO(225) <=> CCCCO[O](215) + butane(1)\n",
      "4 313 O2(2) + [CH2]CCC(24) <=> HO2(16) + C=CCC(47)\n",
      "5 species C[CH]CC(23)\n",
      "6 5046 COO(94) + C[CH]CC(23) <=> CO[O](30) + butane(1)\n",
      "7 species CC(CCOO)O[O](181)\n",
      "8 species HO2(16)\n",
      "9 4752 CC(CCOO)O[O](181) <=> OH(15) + CC(CC=O)OO(177)\n"
     ]
    }
   ],
   "source": [
    "# get the top N sensitive parameters by reading in the first-derivative\n",
    "N = 10\n",
    "\n",
    "analysis_dir = '/work/westgroup/harris.se/autoscience/fuels/butane/official/butane_20240126/analysis'\n",
    "    \n",
    "# load the RMG mech \n",
    "chemkin = os.path.join(analysis_dir, '..', 'chem_annotated.inp')\n",
    "species_dict = os.path.join(analysis_dir, '..', 'species_dictionary.txt')\n",
    "species_list, reaction_list = rmgpy.chemkin.load_chemkin_file(chemkin, species_dict)\n",
    "with open(os.path.join(analysis_dir, '..', 'ct2rmg_rxn.pickle'), 'rb') as f:\n",
    "    ct2rmg_rxn = pickle.load(f)\n",
    "\n",
    "\n",
    "# load from files\n",
    "total_uncertainty_mat = np.load(os.path.join(analysis_dir, 'total_uncertainty_mat.npy'))\n",
    "dft_uncertainty_mat = np.load(os.path.join(analysis_dir, 'dft_uncertainty_mat.npy'))\n",
    "first_derivative = np.load(os.path.join(analysis_dir, 'first_derivative.npy'))\n",
    "\n",
    "\n",
    "Tmax = 1077  # use min and max temperature range of the data: 663K-1077K\n",
    "Tmin = 663\n",
    "K = 51\n",
    "table_index = 7\n",
    "\n",
    "my_sensitivities = first_derivative[:, (table_index - 1) * K: table_index * K][:, 26]\n",
    "my_sensitivities[np.isnan(my_sensitivities)] = 0\n",
    "my_uncertainties = total_uncertainty_mat[:, (table_index - 1) * K: table_index * K][:, 26]\n",
    "my_uncertainties[np.isnan(my_uncertainties)] = 0\n",
    "my_contribution = np.multiply(my_uncertainties, np.abs(my_sensitivities))\n",
    "\n",
    "# get the order\n",
    "abs_parameter_indices = np.arange(0, my_sensitivities.shape[0])\n",
    "abs_contribution_order = [x for _, x in sorted(zip(my_contribution, abs_parameter_indices))][::-1]\n",
    "\n",
    "count = 0\n",
    "top_species = []\n",
    "top_reactions = []\n",
    "\n",
    "for j in range(N):\n",
    "    ct_index = abs_contribution_order[j]\n",
    "    if ct_index < len(species_list):\n",
    "        top_species.append(ct_index)\n",
    "        print(j, 'species', species_list[ct_index])\n",
    "        continue\n",
    "    else:\n",
    "        top_reactions.append(ct2rmg_rxn[ct_index - len(species_list)])\n",
    "        db_index = database_fun.get_unique_reaction_index(reaction_list[ct2rmg_rxn[ct_index - len(species_list)]])\n",
    "        print(j, db_index, str(reaction_list[ct2rmg_rxn[ct_index - len(species_list)]]))\n"
   ]
  },
  {
   "cell_type": "code",
   "execution_count": null,
   "id": "54ea2b95",
   "metadata": {},
   "outputs": [],
   "source": [
    "# These are the values you will manually enter for the run_all_sims.py script"
   ]
  },
  {
   "cell_type": "code",
   "execution_count": 6,
   "id": "66adb9c2",
   "metadata": {},
   "outputs": [
    {
     "data": {
      "text/plain": [
       "[5, 4, 24, 62, 19]"
      ]
     },
     "execution_count": 6,
     "metadata": {},
     "output_type": "execute_result"
    }
   ],
   "source": [
    "top_species"
   ]
  },
  {
   "cell_type": "code",
   "execution_count": 7,
   "id": "b53cac19",
   "metadata": {},
   "outputs": [
    {
     "data": {
      "text/plain": [
       "[84, 238, 163, 689, 142]"
      ]
     },
     "execution_count": 7,
     "metadata": {},
     "output_type": "execute_result"
    }
   ],
   "source": [
    "top_reactions"
   ]
  },
  {
   "cell_type": "code",
   "execution_count": null,
   "id": "a87448f8",
   "metadata": {},
   "outputs": [],
   "source": []
  },
  {
   "cell_type": "code",
   "execution_count": null,
   "id": "5e169a39",
   "metadata": {},
   "outputs": [],
   "source": []
  },
  {
   "cell_type": "code",
   "execution_count": null,
   "id": "6e9bbb45",
   "metadata": {},
   "outputs": [],
   "source": []
  }
 ],
 "metadata": {
  "kernelspec": {
   "display_name": "Python 3 (ipykernel)",
   "language": "python",
   "name": "python3"
  },
  "language_info": {
   "codemirror_mode": {
    "name": "ipython",
    "version": 3
   },
   "file_extension": ".py",
   "mimetype": "text/x-python",
   "name": "python",
   "nbconvert_exporter": "python",
   "pygments_lexer": "ipython3",
   "version": "3.7.16"
  }
 },
 "nbformat": 4,
 "nbformat_minor": 5
}
